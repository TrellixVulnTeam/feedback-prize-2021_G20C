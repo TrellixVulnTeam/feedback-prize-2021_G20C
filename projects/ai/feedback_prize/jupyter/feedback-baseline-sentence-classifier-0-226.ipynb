{
 "cells": [
  {
   "cell_type": "markdown",
   "id": "6fff8f34",
   "metadata": {
    "papermill": {
     "duration": 0.035701,
     "end_time": "2021-12-15T01:52:44.750857",
     "exception": false,
     "start_time": "2021-12-15T01:52:44.715156",
     "status": "completed"
    },
    "tags": []
   },
   "source": [
    "# 📖 Feedback Prize - BERT 🤗 Sentence Classifier\n",
    "\n",
    "![](https://storage.googleapis.com/kaggle-competitions/kaggle/31779/logos/header.png)\n",
    "\n",
    "###  Starter noteboook for the competition [Feedback Prize - Evaluating Student Writing](https://www.kaggle.com/c/feedback-prize-2021/), framing the task as a sentence classificaiton problem, using HuggingFace, BERT and the Trainer API.\n",
    "\n",
    "\n",
    "#### A lot of competitions going on, right my friends? ;)\n",
    "\n",
    "### The nature of the task of this competition is not trivially easy to map to an \"orthodox\" NLP problem, at least as far as I can tell. Is it a Token classification as NER/POS? Is it a... hindi bilingual question answering lol?\n",
    "\n",
    "<h2> In this notebook I will try to present one of the possible approaches, this is: <span style=\"color:blue\"> Sentence Classification</span>.</h2>\n",
    "\n",
    "---\n",
    "\n",
    "The agenda is as follows:\n",
    "1. A very quick EDA (there are various EDA notebooks already against which I cannot offer any value)\n",
    "2. Preprocess to obtain a sentence classification dataset\n",
    "3. Fine-tune a BERT over that sentence classficiation datasdet\n",
    "4. Submit\n",
    "\n",
    "---\n",
    "\n",
    "## Please, _DO_ upvote if you find it useful or interesting!! \n"
   ]
  },
  {
   "cell_type": "markdown",
   "id": "766ceb30",
   "metadata": {
    "papermill": {
     "duration": 0.033473,
     "end_time": "2021-12-15T01:52:44.820609",
     "exception": false,
     "start_time": "2021-12-15T01:52:44.787136",
     "status": "completed"
    },
    "tags": []
   },
   "source": [
    "# Imports"
   ]
  },
  {
   "cell_type": "code",
   "execution_count": 21,
   "id": "9c95b33a",
   "metadata": {
    "execution": {
     "iopub.execute_input": "2021-12-15T01:52:44.901587Z",
     "iopub.status.busy": "2021-12-15T01:52:44.900643Z",
     "iopub.status.idle": "2021-12-15T01:52:53.333359Z",
     "shell.execute_reply": "2021-12-15T01:52:53.332785Z",
     "shell.execute_reply.started": "2021-12-15T00:13:22.076332Z"
    },
    "papermill": {
     "duration": 8.479429,
     "end_time": "2021-12-15T01:52:53.333538",
     "exception": false,
     "start_time": "2021-12-15T01:52:44.854109",
     "status": "completed"
    },
    "tags": []
   },
   "outputs": [],
   "source": [
    "import os\n",
    "import nltk\n",
    "import pandas as pd\n",
    "from tqdm.auto import tqdm\n",
    "\n",
    "from datasets import Dataset\n",
    "import transformers\n",
    "from transformers import AutoTokenizer, AutoModelForSequenceClassification\n",
    "from transformers import TrainingArguments, Trainer"
   ]
  },
  {
   "cell_type": "markdown",
   "id": "468f009c",
   "metadata": {
    "papermill": {
     "duration": 0.033099,
     "end_time": "2021-12-15T01:52:53.401860",
     "exception": false,
     "start_time": "2021-12-15T01:52:53.368761",
     "status": "completed"
    },
    "tags": []
   },
   "source": [
    "# 10,000 foot view of the data\n",
    "\n",
    "Let's take a quick glance at the `train.csv` file:"
   ]
  },
  {
   "cell_type": "code",
   "execution_count": 22,
   "id": "5ae4a6b5",
   "metadata": {
    "execution": {
     "iopub.execute_input": "2021-12-15T01:52:53.473707Z",
     "iopub.status.busy": "2021-12-15T01:52:53.473069Z",
     "iopub.status.idle": "2021-12-15T01:52:55.159597Z",
     "shell.execute_reply": "2021-12-15T01:52:55.159130Z",
     "shell.execute_reply.started": "2021-12-15T00:13:22.08255Z"
    },
    "papermill": {
     "duration": 1.724668,
     "end_time": "2021-12-15T01:52:55.159736",
     "exception": false,
     "start_time": "2021-12-15T01:52:53.435068",
     "status": "completed"
    },
    "tags": []
   },
   "outputs": [
    {
     "data": {
      "text/html": [
       "<div>\n",
       "<style scoped>\n",
       "    .dataframe tbody tr th:only-of-type {\n",
       "        vertical-align: middle;\n",
       "    }\n",
       "\n",
       "    .dataframe tbody tr th {\n",
       "        vertical-align: top;\n",
       "    }\n",
       "\n",
       "    .dataframe thead th {\n",
       "        text-align: right;\n",
       "    }\n",
       "</style>\n",
       "<table border=\"1\" class=\"dataframe\">\n",
       "  <thead>\n",
       "    <tr style=\"text-align: right;\">\n",
       "      <th></th>\n",
       "      <th>id</th>\n",
       "      <th>discourse_id</th>\n",
       "      <th>discourse_start</th>\n",
       "      <th>discourse_end</th>\n",
       "      <th>discourse_text</th>\n",
       "      <th>discourse_type</th>\n",
       "      <th>discourse_type_num</th>\n",
       "      <th>predictionstring</th>\n",
       "    </tr>\n",
       "  </thead>\n",
       "  <tbody>\n",
       "    <tr>\n",
       "      <th>0</th>\n",
       "      <td>423A1CA112E2</td>\n",
       "      <td>1622627660524</td>\n",
       "      <td>8</td>\n",
       "      <td>229</td>\n",
       "      <td>Modern humans today are always on their phone....</td>\n",
       "      <td>Lead</td>\n",
       "      <td>Lead 1</td>\n",
       "      <td>1 2 3 4 5 6 7 8 9 10 11 12 13 14 15 16 17 18 1...</td>\n",
       "    </tr>\n",
       "    <tr>\n",
       "      <th>1</th>\n",
       "      <td>423A1CA112E2</td>\n",
       "      <td>1622627653021</td>\n",
       "      <td>230</td>\n",
       "      <td>312</td>\n",
       "      <td>They are some really bad consequences when stu...</td>\n",
       "      <td>Position</td>\n",
       "      <td>Position 1</td>\n",
       "      <td>45 46 47 48 49 50 51 52 53 54 55 56 57 58 59</td>\n",
       "    </tr>\n",
       "    <tr>\n",
       "      <th>2</th>\n",
       "      <td>423A1CA112E2</td>\n",
       "      <td>1622627671020</td>\n",
       "      <td>313</td>\n",
       "      <td>401</td>\n",
       "      <td>Some certain areas in the United States ban ph...</td>\n",
       "      <td>Evidence</td>\n",
       "      <td>Evidence 1</td>\n",
       "      <td>60 61 62 63 64 65 66 67 68 69 70 71 72 73 74 75</td>\n",
       "    </tr>\n",
       "    <tr>\n",
       "      <th>3</th>\n",
       "      <td>423A1CA112E2</td>\n",
       "      <td>1622627696365</td>\n",
       "      <td>402</td>\n",
       "      <td>758</td>\n",
       "      <td>When people have phones, they know about certa...</td>\n",
       "      <td>Evidence</td>\n",
       "      <td>Evidence 2</td>\n",
       "      <td>76 77 78 79 80 81 82 83 84 85 86 87 88 89 90 9...</td>\n",
       "    </tr>\n",
       "    <tr>\n",
       "      <th>4</th>\n",
       "      <td>423A1CA112E2</td>\n",
       "      <td>1622627759780</td>\n",
       "      <td>759</td>\n",
       "      <td>886</td>\n",
       "      <td>Driving is one of the way how to get around. P...</td>\n",
       "      <td>Claim</td>\n",
       "      <td>Claim 1</td>\n",
       "      <td>139 140 141 142 143 144 145 146 147 148 149 15...</td>\n",
       "    </tr>\n",
       "  </tbody>\n",
       "</table>\n",
       "</div>"
      ],
      "text/plain": [
       "             id   discourse_id  discourse_start  discourse_end  \\\n",
       "0  423A1CA112E2  1622627660524                8            229   \n",
       "1  423A1CA112E2  1622627653021              230            312   \n",
       "2  423A1CA112E2  1622627671020              313            401   \n",
       "3  423A1CA112E2  1622627696365              402            758   \n",
       "4  423A1CA112E2  1622627759780              759            886   \n",
       "\n",
       "                                      discourse_text discourse_type  \\\n",
       "0  Modern humans today are always on their phone....           Lead   \n",
       "1  They are some really bad consequences when stu...       Position   \n",
       "2  Some certain areas in the United States ban ph...       Evidence   \n",
       "3  When people have phones, they know about certa...       Evidence   \n",
       "4  Driving is one of the way how to get around. P...          Claim   \n",
       "\n",
       "  discourse_type_num                                   predictionstring  \n",
       "0             Lead 1  1 2 3 4 5 6 7 8 9 10 11 12 13 14 15 16 17 18 1...  \n",
       "1         Position 1       45 46 47 48 49 50 51 52 53 54 55 56 57 58 59  \n",
       "2         Evidence 1    60 61 62 63 64 65 66 67 68 69 70 71 72 73 74 75  \n",
       "3         Evidence 2  76 77 78 79 80 81 82 83 84 85 86 87 88 89 90 9...  \n",
       "4            Claim 1  139 140 141 142 143 144 145 146 147 148 149 15...  "
      ]
     },
     "execution_count": 22,
     "metadata": {},
     "output_type": "execute_result"
    }
   ],
   "source": [
    "# Constants\n",
    "TRAIN_CSV = \"../input/feedback-prize-2021/train.csv\"\n",
    "SUB_CSV = \"../input/feedback-prize-2021/sample_submission.csv\"\n",
    "TRAIN_PATH = \"../input/feedback-prize-2021/train\"\n",
    "TEST_PATH = \"../input/feedback-prize-2021/test\"\n",
    "\n",
    "# Load DF\n",
    "df = pd.read_csv(TRAIN_CSV, dtype={'discourse_id': int, 'discourse_start': int, 'discourse_end': int})\n",
    "df.head()"
   ]
  },
  {
   "cell_type": "markdown",
   "id": "36948fdf",
   "metadata": {
    "papermill": {
     "duration": 0.03555,
     "end_time": "2021-12-15T01:52:55.229565",
     "exception": false,
     "start_time": "2021-12-15T01:52:55.194015",
     "status": "completed"
    },
    "tags": []
   },
   "source": [
    "From the [Data tab](https://www.kaggle.com/c/feedback-prize-2021/data):\n",
    "\n",
    "* id - ID code for essay response\n",
    "* discourse_id - ID code for discourse element\n",
    "* discourse_start - character position where discourse element begins in the essay response\n",
    "* discourse_end - character position where discourse element ends in the essay response\n",
    "* discourse_text - text of discourse element\n",
    "* discourse_type - classification of discourse element\n",
    "* discourse_type_num - enumerated class label of discourse element\n",
    "* predictionstring - the word indices of the training sample, as required for predictions\n"
   ]
  },
  {
   "cell_type": "code",
   "execution_count": 23,
   "id": "072623dd",
   "metadata": {
    "execution": {
     "iopub.execute_input": "2021-12-15T01:52:55.376186Z",
     "iopub.status.busy": "2021-12-15T01:52:55.375400Z",
     "iopub.status.idle": "2021-12-15T01:52:55.383149Z",
     "shell.execute_reply": "2021-12-15T01:52:55.382721Z",
     "shell.execute_reply.started": "2021-12-14T23:33:29.823941Z"
    },
    "papermill": {
     "duration": 0.119015,
     "end_time": "2021-12-15T01:52:55.383271",
     "exception": false,
     "start_time": "2021-12-15T01:52:55.264256",
     "status": "completed"
    },
    "tags": []
   },
   "outputs": [
    {
     "data": {
      "text/plain": [
       "id                    0\n",
       "discourse_id          0\n",
       "discourse_start       0\n",
       "discourse_end         0\n",
       "discourse_text        0\n",
       "discourse_type        0\n",
       "discourse_type_num    0\n",
       "predictionstring      0\n",
       "dtype: int64"
      ]
     },
     "execution_count": 23,
     "metadata": {},
     "output_type": "execute_result"
    }
   ],
   "source": [
    "# No nulls\n",
    "df.isnull().sum()"
   ]
  },
  {
   "cell_type": "markdown",
   "id": "e7aa85f4",
   "metadata": {
    "papermill": {
     "duration": 0.034524,
     "end_time": "2021-12-15T01:52:55.453413",
     "exception": false,
     "start_time": "2021-12-15T01:52:55.418889",
     "status": "completed"
    },
    "tags": []
   },
   "source": [
    "## Let's see the first example in some more detail"
   ]
  },
  {
   "cell_type": "code",
   "execution_count": 24,
   "id": "5ae58bee",
   "metadata": {
    "execution": {
     "iopub.execute_input": "2021-12-15T01:52:55.526138Z",
     "iopub.status.busy": "2021-12-15T01:52:55.525600Z",
     "iopub.status.idle": "2021-12-15T01:52:55.527934Z",
     "shell.execute_reply": "2021-12-15T01:52:55.528306Z",
     "shell.execute_reply.started": "2021-12-14T23:33:29.904961Z"
    },
    "papermill": {
     "duration": 0.040783,
     "end_time": "2021-12-15T01:52:55.528478",
     "exception": false,
     "start_time": "2021-12-15T01:52:55.487695",
     "status": "completed"
    },
    "tags": []
   },
   "outputs": [],
   "source": [
    "a_id = \"423A1CA112E2\""
   ]
  },
  {
   "cell_type": "code",
   "execution_count": 25,
   "id": "48d4316f",
   "metadata": {
    "execution": {
     "iopub.execute_input": "2021-12-15T01:52:55.601028Z",
     "iopub.status.busy": "2021-12-15T01:52:55.600409Z",
     "iopub.status.idle": "2021-12-15T01:52:55.607459Z",
     "shell.execute_reply": "2021-12-15T01:52:55.608018Z",
     "shell.execute_reply.started": "2021-12-15T00:13:22.09295Z"
    },
    "papermill": {
     "duration": 0.045535,
     "end_time": "2021-12-15T01:52:55.608142",
     "exception": false,
     "start_time": "2021-12-15T01:52:55.562607",
     "status": "completed"
    },
    "tags": []
   },
   "outputs": [
    {
     "name": "stdout",
     "output_type": "stream",
     "text": [
      "Phones\n",
      "\n",
      "Modern humans today are always on their phone. They are always on their phone more than 5 hours a day no stop .All they do is text back and forward and just have group Chats on social media. They even do it while driving. They are some really bad consequences when stuff happens when it comes to a phone. Some certain areas in the United States ban phones from class rooms just because of it.\n",
      "\n",
      "When people have phones, they know about certain apps that they have .Apps like Facebook Twitter Instagram and Snapchat. So like if a friend moves away and you want to be in contact you can still be in contact by posting videos or text messages. People always have different ways how to communicate with a phone. Phones have changed due to our generation.\n",
      "\n",
      "Driving is one of the way how to get around. People always be on their phones while doing it. Which can cause serious Problems. That's why there's a thing that's called no texting while driving. That's a really important thing to remember. Some people still do it because they think It's stupid. No matter what they do they still have to obey it because that's the only way how did he save.\n",
      "\n",
      "Sometimes on the news there is either an accident or a suicide. It might involve someone not looking where they're going or tweet that someone sent. It either injury or death. If a mysterious number says I'm going to kill you and they know where you live but you don't know the person's contact\n",
      "\n",
      ",It makes you puzzled and make you start to freak out. Which can end up really badly.\n",
      "\n",
      "Phones are fine to use and it's also the best way to come over help. If you go through a problem and you can't find help you ,always have a phone there with you. Even though phones are used almost every day as long as you're safe it would come into use if you get into trouble. Make sure you do not be like this phone while you're in the middle of driving. The news always updated when people do something stupid around that involves their phones. The safest way is the best way to stay safe.    \n"
     ]
    }
   ],
   "source": [
    "def get_text(a_id):\n",
    "    a_file = f\"{TRAIN_PATH}/{a_id}.txt\"\n",
    "    with open(a_file, \"r\") as fp:\n",
    "        txt = fp.read()\n",
    "    return txt\n",
    "\n",
    "txt = get_text(a_id)\n",
    "print(txt)"
   ]
  },
  {
   "cell_type": "code",
   "execution_count": 26,
   "id": "425708af",
   "metadata": {
    "execution": {
     "iopub.execute_input": "2021-12-15T01:52:55.705557Z",
     "iopub.status.busy": "2021-12-15T01:52:55.680250Z",
     "iopub.status.idle": "2021-12-15T01:52:55.719175Z",
     "shell.execute_reply": "2021-12-15T01:52:55.719652Z",
     "shell.execute_reply.started": "2021-12-14T23:33:29.923096Z"
    },
    "papermill": {
     "duration": 0.076249,
     "end_time": "2021-12-15T01:52:55.719783",
     "exception": false,
     "start_time": "2021-12-15T01:52:55.643534",
     "status": "completed"
    },
    "tags": []
   },
   "outputs": [
    {
     "data": {
      "text/html": [
       "<div>\n",
       "<style scoped>\n",
       "    .dataframe tbody tr th:only-of-type {\n",
       "        vertical-align: middle;\n",
       "    }\n",
       "\n",
       "    .dataframe tbody tr th {\n",
       "        vertical-align: top;\n",
       "    }\n",
       "\n",
       "    .dataframe thead th {\n",
       "        text-align: right;\n",
       "    }\n",
       "</style>\n",
       "<table border=\"1\" class=\"dataframe\">\n",
       "  <thead>\n",
       "    <tr style=\"text-align: right;\">\n",
       "      <th></th>\n",
       "      <th>id</th>\n",
       "      <th>discourse_id</th>\n",
       "      <th>discourse_start</th>\n",
       "      <th>discourse_end</th>\n",
       "      <th>discourse_text</th>\n",
       "      <th>discourse_type</th>\n",
       "      <th>discourse_type_num</th>\n",
       "      <th>predictionstring</th>\n",
       "    </tr>\n",
       "  </thead>\n",
       "  <tbody>\n",
       "    <tr>\n",
       "      <th>0</th>\n",
       "      <td>423A1CA112E2</td>\n",
       "      <td>1622627660524</td>\n",
       "      <td>8</td>\n",
       "      <td>229</td>\n",
       "      <td>Modern humans today are always on their phone....</td>\n",
       "      <td>Lead</td>\n",
       "      <td>Lead 1</td>\n",
       "      <td>1 2 3 4 5 6 7 8 9 10 11 12 13 14 15 16 17 18 1...</td>\n",
       "    </tr>\n",
       "    <tr>\n",
       "      <th>1</th>\n",
       "      <td>423A1CA112E2</td>\n",
       "      <td>1622627653021</td>\n",
       "      <td>230</td>\n",
       "      <td>312</td>\n",
       "      <td>They are some really bad consequences when stu...</td>\n",
       "      <td>Position</td>\n",
       "      <td>Position 1</td>\n",
       "      <td>45 46 47 48 49 50 51 52 53 54 55 56 57 58 59</td>\n",
       "    </tr>\n",
       "    <tr>\n",
       "      <th>2</th>\n",
       "      <td>423A1CA112E2</td>\n",
       "      <td>1622627671020</td>\n",
       "      <td>313</td>\n",
       "      <td>401</td>\n",
       "      <td>Some certain areas in the United States ban ph...</td>\n",
       "      <td>Evidence</td>\n",
       "      <td>Evidence 1</td>\n",
       "      <td>60 61 62 63 64 65 66 67 68 69 70 71 72 73 74 75</td>\n",
       "    </tr>\n",
       "    <tr>\n",
       "      <th>3</th>\n",
       "      <td>423A1CA112E2</td>\n",
       "      <td>1622627696365</td>\n",
       "      <td>402</td>\n",
       "      <td>758</td>\n",
       "      <td>When people have phones, they know about certa...</td>\n",
       "      <td>Evidence</td>\n",
       "      <td>Evidence 2</td>\n",
       "      <td>76 77 78 79 80 81 82 83 84 85 86 87 88 89 90 9...</td>\n",
       "    </tr>\n",
       "    <tr>\n",
       "      <th>4</th>\n",
       "      <td>423A1CA112E2</td>\n",
       "      <td>1622627759780</td>\n",
       "      <td>759</td>\n",
       "      <td>886</td>\n",
       "      <td>Driving is one of the way how to get around. P...</td>\n",
       "      <td>Claim</td>\n",
       "      <td>Claim 1</td>\n",
       "      <td>139 140 141 142 143 144 145 146 147 148 149 15...</td>\n",
       "    </tr>\n",
       "    <tr>\n",
       "      <th>5</th>\n",
       "      <td>423A1CA112E2</td>\n",
       "      <td>1622627780655</td>\n",
       "      <td>887</td>\n",
       "      <td>1150</td>\n",
       "      <td>That's why there's a thing that's called no te...</td>\n",
       "      <td>Evidence</td>\n",
       "      <td>Evidence 3</td>\n",
       "      <td>163 164 165 166 167 168 169 170 171 172 173 17...</td>\n",
       "    </tr>\n",
       "    <tr>\n",
       "      <th>6</th>\n",
       "      <td>423A1CA112E2</td>\n",
       "      <td>1622627811787</td>\n",
       "      <td>1151</td>\n",
       "      <td>1533</td>\n",
       "      <td>Sometimes on the news there is either an accid...</td>\n",
       "      <td>Evidence</td>\n",
       "      <td>Evidence 4</td>\n",
       "      <td>211 212 213 214 215 216 217 218 219 220 221 22...</td>\n",
       "    </tr>\n",
       "    <tr>\n",
       "      <th>7</th>\n",
       "      <td>423A1CA112E2</td>\n",
       "      <td>1622627585180</td>\n",
       "      <td>1534</td>\n",
       "      <td>1602</td>\n",
       "      <td>Phones are fine to use and it's also the best ...</td>\n",
       "      <td>Claim</td>\n",
       "      <td>Claim 2</td>\n",
       "      <td>282 283 284 285 286 287 288 289 290 291 292 29...</td>\n",
       "    </tr>\n",
       "    <tr>\n",
       "      <th>8</th>\n",
       "      <td>423A1CA112E2</td>\n",
       "      <td>1622627895668</td>\n",
       "      <td>1603</td>\n",
       "      <td>1890</td>\n",
       "      <td>If you go through a problem and you can't find...</td>\n",
       "      <td>Evidence</td>\n",
       "      <td>Evidence 5</td>\n",
       "      <td>297 298 299 300 301 302 303 304 305 306 307 30...</td>\n",
       "    </tr>\n",
       "    <tr>\n",
       "      <th>9</th>\n",
       "      <td>423A1CA112E2</td>\n",
       "      <td>1622627628524</td>\n",
       "      <td>1891</td>\n",
       "      <td>2027</td>\n",
       "      <td>The news always updated when people do somethi...</td>\n",
       "      <td>Concluding Statement</td>\n",
       "      <td>Concluding Statement 1</td>\n",
       "      <td>355 356 357 358 359 360 361 362 363 364 365 36...</td>\n",
       "    </tr>\n",
       "  </tbody>\n",
       "</table>\n",
       "</div>"
      ],
      "text/plain": [
       "             id   discourse_id  discourse_start  discourse_end  \\\n",
       "0  423A1CA112E2  1622627660524                8            229   \n",
       "1  423A1CA112E2  1622627653021              230            312   \n",
       "2  423A1CA112E2  1622627671020              313            401   \n",
       "3  423A1CA112E2  1622627696365              402            758   \n",
       "4  423A1CA112E2  1622627759780              759            886   \n",
       "5  423A1CA112E2  1622627780655              887           1150   \n",
       "6  423A1CA112E2  1622627811787             1151           1533   \n",
       "7  423A1CA112E2  1622627585180             1534           1602   \n",
       "8  423A1CA112E2  1622627895668             1603           1890   \n",
       "9  423A1CA112E2  1622627628524             1891           2027   \n",
       "\n",
       "                                      discourse_text        discourse_type  \\\n",
       "0  Modern humans today are always on their phone....                  Lead   \n",
       "1  They are some really bad consequences when stu...              Position   \n",
       "2  Some certain areas in the United States ban ph...              Evidence   \n",
       "3  When people have phones, they know about certa...              Evidence   \n",
       "4  Driving is one of the way how to get around. P...                 Claim   \n",
       "5  That's why there's a thing that's called no te...              Evidence   \n",
       "6  Sometimes on the news there is either an accid...              Evidence   \n",
       "7  Phones are fine to use and it's also the best ...                 Claim   \n",
       "8  If you go through a problem and you can't find...              Evidence   \n",
       "9  The news always updated when people do somethi...  Concluding Statement   \n",
       "\n",
       "       discourse_type_num                                   predictionstring  \n",
       "0                  Lead 1  1 2 3 4 5 6 7 8 9 10 11 12 13 14 15 16 17 18 1...  \n",
       "1              Position 1       45 46 47 48 49 50 51 52 53 54 55 56 57 58 59  \n",
       "2              Evidence 1    60 61 62 63 64 65 66 67 68 69 70 71 72 73 74 75  \n",
       "3              Evidence 2  76 77 78 79 80 81 82 83 84 85 86 87 88 89 90 9...  \n",
       "4                 Claim 1  139 140 141 142 143 144 145 146 147 148 149 15...  \n",
       "5              Evidence 3  163 164 165 166 167 168 169 170 171 172 173 17...  \n",
       "6              Evidence 4  211 212 213 214 215 216 217 218 219 220 221 22...  \n",
       "7                 Claim 2  282 283 284 285 286 287 288 289 290 291 292 29...  \n",
       "8              Evidence 5  297 298 299 300 301 302 303 304 305 306 307 30...  \n",
       "9  Concluding Statement 1  355 356 357 358 359 360 361 362 363 364 365 36...  "
      ]
     },
     "execution_count": 26,
     "metadata": {},
     "output_type": "execute_result"
    }
   ],
   "source": [
    "df_example = df[df['id'] == a_id]\n",
    "df_example"
   ]
  },
  {
   "cell_type": "code",
   "execution_count": 27,
   "id": "5fa7843a",
   "metadata": {
    "execution": {
     "iopub.execute_input": "2021-12-15T01:52:55.794411Z",
     "iopub.status.busy": "2021-12-15T01:52:55.793552Z",
     "iopub.status.idle": "2021-12-15T01:52:57.274535Z",
     "shell.execute_reply": "2021-12-15T01:52:57.274010Z",
     "shell.execute_reply.started": "2021-12-14T23:33:29.961518Z"
    },
    "papermill": {
     "duration": 1.519737,
     "end_time": "2021-12-15T01:52:57.274703",
     "exception": false,
     "start_time": "2021-12-15T01:52:55.754966",
     "status": "completed"
    },
    "tags": []
   },
   "outputs": [
    {
     "name": "stdout",
     "output_type": "stream",
     "text": [
      "15595\n"
     ]
    }
   ],
   "source": [
    "# Files in train path: 15595\n",
    "!ls -l {TRAIN_PATH} | wc -l"
   ]
  },
  {
   "cell_type": "code",
   "execution_count": 28,
   "id": "c933bb2b",
   "metadata": {
    "execution": {
     "iopub.execute_input": "2021-12-15T01:52:57.351749Z",
     "iopub.status.busy": "2021-12-15T01:52:57.351015Z",
     "iopub.status.idle": "2021-12-15T01:52:58.024183Z",
     "shell.execute_reply": "2021-12-15T01:52:58.023665Z",
     "shell.execute_reply.started": "2021-12-14T23:33:31.386002Z"
    },
    "papermill": {
     "duration": 0.713389,
     "end_time": "2021-12-15T01:52:58.024311",
     "exception": false,
     "start_time": "2021-12-15T01:52:57.310922",
     "status": "completed"
    },
    "tags": []
   },
   "outputs": [
    {
     "name": "stdout",
     "output_type": "stream",
     "text": [
      "6\n"
     ]
    }
   ],
   "source": [
    "# Files in test path: 6\n",
    "!ls -l {TEST_PATH} | wc -l"
   ]
  },
  {
   "cell_type": "markdown",
   "id": "999bdb78",
   "metadata": {
    "papermill": {
     "duration": 0.036069,
     "end_time": "2021-12-15T01:52:58.097676",
     "exception": false,
     "start_time": "2021-12-15T01:52:58.061607",
     "status": "completed"
    },
    "tags": []
   },
   "source": [
    "I will stop with the EDA here because I have already seen various very good notebooks around. I suggest you the following ones:\n",
    "\n",
    "* [Feedback Prize EDA with displacy](https://www.kaggle.com/thedrcat/feedback-prize-eda-with-displacy) by [thedrcat](https://www.kaggle.com/thedrcat/)\n",
    "* [[Feedback prize] Simple EDA](https://www.kaggle.com/ilialar/feedback-prize-simple-eda) by [ilialar](https://www.kaggle.com/ilialar)\n",
    "* [🔥📊 Feedback Prize - EDA 📊🔥](https://www.kaggle.com/odins0n/feedback-prize-eda) by [odins0n](https://www.kaggle.com/odins0n/)\n",
    "* [Feedback Prize - EDA](https://www.kaggle.com/yamqwe/feedback-prize-eda) by [yamqwe](https://www.kaggle.com/yamqwe/)\n",
    "\n",
    "\n",
    "Let's get into the sentence classification idea!\n"
   ]
  },
  {
   "cell_type": "markdown",
   "id": "89373a1e",
   "metadata": {
    "papermill": {
     "duration": 0.035339,
     "end_time": "2021-12-15T01:52:58.169616",
     "exception": false,
     "start_time": "2021-12-15T01:52:58.134277",
     "status": "completed"
    },
    "tags": []
   },
   "source": [
    "# Sentence Classifier with HuggingFace 🤗"
   ]
  },
  {
   "cell_type": "markdown",
   "id": "add9c022",
   "metadata": {
    "papermill": {
     "duration": 0.035727,
     "end_time": "2021-12-15T01:52:58.241005",
     "exception": false,
     "start_time": "2021-12-15T01:52:58.205278",
     "status": "completed"
    },
    "tags": []
   },
   "source": [
    "# Create a sentence classification datasety\n",
    "\n",
    "As far as I know, this problem is not trivially mapped to one of the \"typical\" NLP tasks. \n",
    "It might be close to NER / POS, but the fact that the entities are large makes me doubt about it.\n",
    "\n",
    "I'm looking forward for the community discussion about the different possible approaches to this problem. \n",
    "\n",
    "\n",
    "Although I might be missing something very obvious, this notebook proposes the following approach, that is a multiclass classifier:\n",
    "\n",
    "1. Split the texts into sentences (x)\n",
    "2. Assign each sentence a class (y).\n",
    "3. Train a normal sequence classifier on those sentences\n",
    "\n",
    "There are 7 classes and the labeled sections (sometimes) exceed sentences. We will preprocess them to have only sentences. That way, we avoid the problem of detecting when a element starts and when it ends for now.\n"
   ]
  },
  {
   "cell_type": "code",
   "execution_count": 29,
   "id": "182fb1f3",
   "metadata": {
    "execution": {
     "iopub.execute_input": "2021-12-15T01:52:58.342982Z",
     "iopub.status.busy": "2021-12-15T01:52:58.341754Z",
     "iopub.status.idle": "2021-12-15T01:52:58.345035Z",
     "shell.execute_reply": "2021-12-15T01:52:58.345441Z",
     "shell.execute_reply.started": "2021-12-14T23:33:32.075158Z"
    },
    "papermill": {
     "duration": 0.068019,
     "end_time": "2021-12-15T01:52:58.345604",
     "exception": false,
     "start_time": "2021-12-15T01:52:58.277585",
     "status": "completed"
    },
    "tags": []
   },
   "outputs": [
    {
     "data": {
      "text/plain": [
       "Claim                   0.347959\n",
       "Evidence                0.316731\n",
       "Position                0.106859\n",
       "Concluding Statement    0.093594\n",
       "Lead                    0.064487\n",
       "Counterclaim            0.040314\n",
       "Rebuttal                0.030057\n",
       "Name: discourse_type, dtype: float64"
      ]
     },
     "execution_count": 29,
     "metadata": {},
     "output_type": "execute_result"
    }
   ],
   "source": [
    "# There are 7 classes:\n",
    "df['discourse_type'].value_counts(normalize=True)"
   ]
  },
  {
   "cell_type": "markdown",
   "id": "85339772",
   "metadata": {
    "papermill": {
     "duration": 0.036559,
     "end_time": "2021-12-15T01:52:58.419499",
     "exception": false,
     "start_time": "2021-12-15T01:52:58.382940",
     "status": "completed"
    },
    "tags": []
   },
   "source": [
    "## Encode classes as ints\n",
    "Some sections don't belong to any class. We will label them as `No Class` so we can discard those sections and avoid false positives."
   ]
  },
  {
   "cell_type": "code",
   "execution_count": 30,
   "id": "7feda7a0",
   "metadata": {
    "execution": {
     "iopub.execute_input": "2021-12-15T01:52:58.505924Z",
     "iopub.status.busy": "2021-12-15T01:52:58.505207Z",
     "iopub.status.idle": "2021-12-15T01:52:58.513681Z",
     "shell.execute_reply": "2021-12-15T01:52:58.514056Z",
     "shell.execute_reply.started": "2021-12-15T00:13:22.102789Z"
    },
    "papermill": {
     "duration": 0.058814,
     "end_time": "2021-12-15T01:52:58.514186",
     "exception": false,
     "start_time": "2021-12-15T01:52:58.455372",
     "status": "completed"
    },
    "tags": []
   },
   "outputs": [
    {
     "name": "stdout",
     "output_type": "stream",
     "text": [
      "{0: 'Lead', 1: 'Position', 2: 'Evidence', 3: 'Claim', 4: 'Concluding Statement', 5: 'Counterclaim', 6: 'Rebuttal', 7: 'No Class'}\n"
     ]
    },
    {
     "data": {
      "text/plain": [
       "{'Lead': 0,\n",
       " 'Position': 1,\n",
       " 'Evidence': 2,\n",
       " 'Claim': 3,\n",
       " 'Concluding Statement': 4,\n",
       " 'Counterclaim': 5,\n",
       " 'Rebuttal': 6,\n",
       " 'No Class': 7}"
      ]
     },
     "execution_count": 30,
     "metadata": {},
     "output_type": "execute_result"
    }
   ],
   "source": [
    "ID2CLASS = dict(enumerate(df['discourse_type'].unique().tolist() + ['No Class']))\n",
    "CLASS2ID = {v: k for k, v in ID2CLASS.items()}\n",
    "print(ID2CLASS)\n",
    "CLASS2ID"
   ]
  },
  {
   "cell_type": "markdown",
   "id": "b7c8a968",
   "metadata": {
    "papermill": {
     "duration": 0.036488,
     "end_time": "2021-12-15T01:52:58.587347",
     "exception": false,
     "start_time": "2021-12-15T01:52:58.550859",
     "status": "completed"
    },
    "tags": []
   },
   "source": [
    "\n",
    "\n",
    "## Dataset functions: `fill_gaps()`, `get_elements()`, and `get_x_samples()`\n",
    "\n",
    "Here we write the functions `fill_gaps` which will to just that. I leave the code I use for developing and below there is the condensed function."
   ]
  },
  {
   "cell_type": "code",
   "execution_count": 31,
   "id": "bdc542d3",
   "metadata": {
    "execution": {
     "iopub.execute_input": "2021-12-15T01:52:58.674224Z",
     "iopub.status.busy": "2021-12-15T01:52:58.673428Z",
     "iopub.status.idle": "2021-12-15T01:52:58.680752Z",
     "shell.execute_reply": "2021-12-15T01:52:58.680269Z",
     "shell.execute_reply.started": "2021-12-14T23:33:32.105499Z"
    },
    "papermill": {
     "duration": 0.056638,
     "end_time": "2021-12-15T01:52:58.680863",
     "exception": false,
     "start_time": "2021-12-15T01:52:58.624225",
     "status": "completed"
    },
    "tags": []
   },
   "outputs": [],
   "source": [
    "text_ids = df['id'].unique().tolist()"
   ]
  },
  {
   "cell_type": "code",
   "execution_count": 32,
   "id": "b8e4320f",
   "metadata": {
    "execution": {
     "iopub.execute_input": "2021-12-15T01:52:58.757991Z",
     "iopub.status.busy": "2021-12-15T01:52:58.757449Z",
     "iopub.status.idle": "2021-12-15T01:52:58.764218Z",
     "shell.execute_reply": "2021-12-15T01:52:58.763773Z",
     "shell.execute_reply.started": "2021-12-14T23:33:32.131445Z"
    },
    "papermill": {
     "duration": 0.046878,
     "end_time": "2021-12-15T01:52:58.764325",
     "exception": false,
     "start_time": "2021-12-15T01:52:58.717447",
     "status": "completed"
    },
    "tags": []
   },
   "outputs": [
    {
     "name": "stdout",
     "output_type": "stream",
     "text": [
      "Operating a motor vehicle while on your cell phone\n",
      "\n",
      "Being on your device and driving could be an overly dangerous choice in life. Many people around the world are injured by this situation every day. It could lead to accidents and altercations. In addition it would even cost you your licences. The most detrimental outcome is death. There are far more outcomes to operating a motor vehicle while being on a cell phone. Drivers should not be able to use cell phones in any capacity while operating a motor vehicle.\n",
      "\n",
      "One leading cause to motor vehicle accidents is being on your cell phone. It could lead to accidents and altercations. Yourself and the passengers are more at risk to bodily injuries and harm. These bodily injuries and harm can range anywhere from mild to critical condition. In an motor vehicle accident there is more than one involved. There is another person or group of people that could have the exact same conditions than the driver on the cell phone. In an example of an altercations you could be more prone to damaging an building or such. An direct result of an event in place; a fee or very large payment would need to be made. Secondly another consequence could be having your license taken.\n",
      "\n",
      "When you have violated a driving law there will always be an consequence. Rather it being jail time, injuries, or more. Your license will be subjected to suspension. A suspended license defines as you are not able to drive until they are reinstated. The process can take anywhere from a short period of time or even a long period of time. The average time for a suspended license is sixty days.\n",
      "\n",
      "For some people if it is not your first offense they may even take your license for good. Furthermore there is another cause to driving while being on your cell phone.\n",
      "\n",
      "After all the consequences the most detrimental is death. Many people happen to pass away due to a motor vehicle car accident. Not all people pass away at the crash site, some has a condition mild to critical that causes them to die. Around 1.6\n",
      "\n",
      "million people a year die in motor vehicle accidents. Out of the 1.6 million, 1 out of 4 pass away because drivers are on their cell phone. That includes the driver and the unlucky few that may have been in the car, around, or in another car. Passing away from a motor vehicle accident can be prevented by simply waiting until you have reached a stopping point or your at your destination to pick up your phone.\n",
      "\n",
      "In conclusion, drivers should not be able to use cell phones in any capacity while operating a motor vehicle. It can cause accidents and altercations, suspension of license, and even death. Prevention is simply not being able to use your phone while operating a motor vehicle. Take a moment to focus on the road.\n",
      "\n",
      "You are able to check your phone when you reach a red light or a complete stop. This is one step closer to its prevention. It will save many lives even your own.   \n"
     ]
    }
   ],
   "source": [
    "text_id = text_ids[5]\n",
    "text = get_text(text_id)\n",
    "print(text)"
   ]
  },
  {
   "cell_type": "code",
   "execution_count": 33,
   "id": "884d8971",
   "metadata": {
    "execution": {
     "iopub.execute_input": "2021-12-15T01:52:58.862940Z",
     "iopub.status.busy": "2021-12-15T01:52:58.862248Z",
     "iopub.status.idle": "2021-12-15T01:52:58.870223Z",
     "shell.execute_reply": "2021-12-15T01:52:58.869793Z",
     "shell.execute_reply.started": "2021-12-14T23:33:32.143909Z"
    },
    "papermill": {
     "duration": 0.068389,
     "end_time": "2021-12-15T01:52:58.870326",
     "exception": false,
     "start_time": "2021-12-15T01:52:58.801937",
     "status": "completed"
    },
    "tags": []
   },
   "outputs": [
    {
     "data": {
      "text/plain": [
       "[(52, 200, 'Lead'),\n",
       " (200, 244, 'Claim'),\n",
       " (245, 294, 'Claim'),\n",
       " (295, 334, 'Claim'),\n",
       " (418, 515, 'Position'),\n",
       " (516, 590, 'Claim'),\n",
       " (590, 1152, 'Evidence'),\n",
       " (1162, 1219, 'Claim'),\n",
       " (1220, 1706, 'Evidence'),\n",
       " (1718, 1842, 'Claim'),\n",
       " (1843, 2443, 'Evidence'),\n",
       " (2444, 2922, 'Concluding Statement')]"
      ]
     },
     "execution_count": 33,
     "metadata": {},
     "output_type": "execute_result"
    }
   ],
   "source": [
    "# Extract element boundaries and classes  with to_records\n",
    "\n",
    "df_text = df[df['id'] == text_id]\n",
    "elements = df_text[['discourse_start', 'discourse_end', 'discourse_type']].to_records(index=False).tolist()\n",
    "elements"
   ]
  },
  {
   "cell_type": "code",
   "execution_count": 34,
   "id": "b071b947",
   "metadata": {
    "execution": {
     "iopub.execute_input": "2021-12-15T01:52:58.953079Z",
     "iopub.status.busy": "2021-12-15T01:52:58.952409Z",
     "iopub.status.idle": "2021-12-15T01:52:58.955055Z",
     "shell.execute_reply": "2021-12-15T01:52:58.955593Z",
     "shell.execute_reply.started": "2021-12-14T23:33:32.176681Z"
    },
    "papermill": {
     "duration": 0.048187,
     "end_time": "2021-12-15T01:52:58.955718",
     "exception": false,
     "start_time": "2021-12-15T01:52:58.907531",
     "status": "completed"
    },
    "tags": []
   },
   "outputs": [
    {
     "data": {
      "text/plain": [
       "[(0, 51, 'No Class'),\n",
       " (52, 200, 'Lead'),\n",
       " (200, 244, 'Claim'),\n",
       " (245, 294, 'Claim'),\n",
       " (295, 334, 'Claim'),\n",
       " (418, 515, 'Position'),\n",
       " (516, 590, 'Claim'),\n",
       " (590, 1152, 'Evidence'),\n",
       " (1162, 1219, 'Claim'),\n",
       " (1220, 1706, 'Evidence'),\n",
       " (1718, 1842, 'Claim'),\n",
       " (1843, 2443, 'Evidence'),\n",
       " (2444, 2922, 'Concluding Statement')]"
      ]
     },
     "execution_count": 34,
     "metadata": {},
     "output_type": "execute_result"
    }
   ],
   "source": [
    "# Fill \"No class\" chunks: beginning and end\n",
    "\n",
    "initial_idx = 0\n",
    "final_idx = len(text)\n",
    "\n",
    "# Add element at the beginning if it doesn't in index 0\n",
    "new_elements = []\n",
    "if elements[0][0] != initial_idx:\n",
    "    starting_element = (0, elements[0][0]-1, 'No Class')\n",
    "    new_elements.append(starting_element)\n",
    "\n",
    "    \n",
    "# Add element at the end if it doesn't in index \"-1\"\n",
    "if elements[-1][1] != final_idx:\n",
    "    closing_element = (elements[-1][1]+1, final_idx, 'No Class')\n",
    "    new_elements.append(closing_element)\n",
    "    \n",
    "elements += new_elements\n",
    "elements = sorted(elements, key=lambda x: x[0])\n",
    "# See first element (new)\n",
    "elements"
   ]
  },
  {
   "cell_type": "code",
   "execution_count": 35,
   "id": "3dd78185",
   "metadata": {
    "execution": {
     "iopub.execute_input": "2021-12-15T01:52:59.040080Z",
     "iopub.status.busy": "2021-12-15T01:52:59.039348Z",
     "iopub.status.idle": "2021-12-15T01:52:59.042127Z",
     "shell.execute_reply": "2021-12-15T01:52:59.042539Z",
     "shell.execute_reply.started": "2021-12-14T23:33:32.189737Z"
    },
    "papermill": {
     "duration": 0.049335,
     "end_time": "2021-12-15T01:52:59.042661",
     "exception": false,
     "start_time": "2021-12-15T01:52:58.993326",
     "status": "completed"
    },
    "tags": []
   },
   "outputs": [
    {
     "data": {
      "text/plain": [
       "[(0, 51, 'No Class'),\n",
       " (52, 200, 'Lead'),\n",
       " (200, 244, 'Claim'),\n",
       " (245, 294, 'Claim'),\n",
       " (295, 334, 'Claim'),\n",
       " (335, 417, 'No Class'),\n",
       " (418, 515, 'Position'),\n",
       " (516, 590, 'Claim'),\n",
       " (590, 1152, 'Evidence'),\n",
       " (1153, 1161, 'No Class'),\n",
       " (1162, 1219, 'Claim'),\n",
       " (1220, 1706, 'Evidence'),\n",
       " (1707, 1717, 'No Class'),\n",
       " (1718, 1842, 'Claim'),\n",
       " (1843, 2443, 'Evidence'),\n",
       " (2444, 2922, 'Concluding Statement')]"
      ]
     },
     "execution_count": 35,
     "metadata": {},
     "output_type": "execute_result"
    }
   ],
   "source": [
    "# Add \"No class\" elements inbetween separated elements \n",
    "new_elements = []\n",
    "for i in range(1, len(elements)-1):\n",
    "    if elements[i][0] != elements[i-1][1] + 1 and elements[i][0] != elements[i-1][1]:\n",
    "        new_element = (elements[i-1][1] + 1, elements[i][0]-1, 'No Class')\n",
    "        new_elements.append(new_element)\n",
    "\n",
    "elements += new_elements\n",
    "elements = sorted(elements, key=lambda x: x[0])\n",
    "elements"
   ]
  },
  {
   "cell_type": "code",
   "execution_count": 36,
   "id": "93c88b5d",
   "metadata": {
    "execution": {
     "iopub.execute_input": "2021-12-15T01:52:59.133328Z",
     "iopub.status.busy": "2021-12-15T01:52:59.132506Z",
     "iopub.status.idle": "2021-12-15T01:52:59.134754Z",
     "shell.execute_reply": "2021-12-15T01:52:59.134288Z",
     "shell.execute_reply.started": "2021-12-14T23:33:32.203417Z"
    },
    "papermill": {
     "duration": 0.053963,
     "end_time": "2021-12-15T01:52:59.134865",
     "exception": false,
     "start_time": "2021-12-15T01:52:59.080902",
     "status": "completed"
    },
    "tags": []
   },
   "outputs": [],
   "source": [
    "# Finall \"fill_gaps\" functions, wrapping up the above cells\n",
    "\n",
    "def fill_gaps(elements, text):\n",
    "    \"\"\"Add \"No Class\" elements to a list of elements (see get_elements) \"\"\"\n",
    "    initial_idx = 0\n",
    "    final_idx = len(text)\n",
    "\n",
    "    # Add element at the beginning if it doesn't in index 0\n",
    "    new_elements = []\n",
    "    if elements[0][0] != initial_idx:\n",
    "        starting_element = (0, elements[0][0]-1, 'No Class')\n",
    "        new_elements.append(starting_element)\n",
    "\n",
    "\n",
    "    # Add element at the end if it doesn't in index \"-1\"\n",
    "    if elements[-1][1] != final_idx:\n",
    "        closing_element = (elements[-1][1]+1, final_idx, 'No Class')\n",
    "        new_elements.append(closing_element)\n",
    "\n",
    "    elements += new_elements\n",
    "    elements = sorted(elements, key=lambda x: x[0])\n",
    "\n",
    "    # Add \"No class\" elements inbetween separated elements \n",
    "    new_elements = []\n",
    "    for i in range(1, len(elements)-1):\n",
    "        if elements[i][0] != elements[i-1][1] + 1 and elements[i][0] != elements[i-1][1]:\n",
    "            new_element = (elements[i-1][1] + 1, elements[i][0]-1, 'No Class')\n",
    "            new_elements.append(new_element)\n",
    "\n",
    "    elements += new_elements\n",
    "    elements = sorted(elements, key=lambda x: x[0])\n",
    "    return elements\n",
    "\n",
    "\n",
    "def get_elements(df, text_id, do_fill_gaps=True, text=None):\n",
    "    \"\"\"Get a list of (start, end, class) elements for a given text_id\"\"\"\n",
    "    text = get_text(text_id) if text is None else text\n",
    "    df_text = df[df['id'] == text_id]\n",
    "    elements = df_text[['discourse_start', 'discourse_end', 'discourse_type']].to_records(index=False).tolist()\n",
    "    if do_fill_gaps:\n",
    "        elements = fill_gaps(elements, text)\n",
    "    return elements"
   ]
  },
  {
   "cell_type": "code",
   "execution_count": 37,
   "id": "5fa0db8f",
   "metadata": {
    "execution": {
     "iopub.execute_input": "2021-12-15T01:52:59.219053Z",
     "iopub.status.busy": "2021-12-15T01:52:59.218530Z",
     "iopub.status.idle": "2021-12-15T01:52:59.268405Z",
     "shell.execute_reply": "2021-12-15T01:52:59.268004Z",
     "shell.execute_reply.started": "2021-12-14T23:33:32.256302Z"
    },
    "papermill": {
     "duration": 0.094308,
     "end_time": "2021-12-15T01:52:59.268563",
     "exception": false,
     "start_time": "2021-12-15T01:52:59.174255",
     "status": "completed"
    },
    "tags": []
   },
   "outputs": [
    {
     "data": {
      "text/html": [
       "<div>\n",
       "<style scoped>\n",
       "    .dataframe tbody tr th:only-of-type {\n",
       "        vertical-align: middle;\n",
       "    }\n",
       "\n",
       "    .dataframe tbody tr th {\n",
       "        vertical-align: top;\n",
       "    }\n",
       "\n",
       "    .dataframe thead th {\n",
       "        text-align: right;\n",
       "    }\n",
       "</style>\n",
       "<table border=\"1\" class=\"dataframe\">\n",
       "  <thead>\n",
       "    <tr style=\"text-align: right;\">\n",
       "      <th></th>\n",
       "      <th>text</th>\n",
       "      <th>label</th>\n",
       "    </tr>\n",
       "  </thead>\n",
       "  <tbody>\n",
       "    <tr>\n",
       "      <th>0</th>\n",
       "      <td>Phones &amp; Driving</td>\n",
       "      <td>7</td>\n",
       "    </tr>\n",
       "    <tr>\n",
       "      <th>1</th>\n",
       "      <td>Drivers should not be able to use phones while...</td>\n",
       "      <td>1</td>\n",
       "    </tr>\n",
       "    <tr>\n",
       "      <th>2</th>\n",
       "      <td>Drivers who used their phone while operating a...</td>\n",
       "      <td>3</td>\n",
       "    </tr>\n",
       "    <tr>\n",
       "      <th>3</th>\n",
       "      <td>According to an article by the Edgar Snyder Fi...</td>\n",
       "      <td>2</td>\n",
       "    </tr>\n",
       "    <tr>\n",
       "      <th>4</th>\n",
       "      <td>According to the same article, 35% know the ri...</td>\n",
       "      <td>2</td>\n",
       "    </tr>\n",
       "    <tr>\n",
       "      <th>5</th>\n",
       "      <td>This shows that its beyond dangerous and irres...</td>\n",
       "      <td>2</td>\n",
       "    </tr>\n",
       "    <tr>\n",
       "      <th>6</th>\n",
       "      <td>Drivers should be able to concentrate without ...</td>\n",
       "      <td>2</td>\n",
       "    </tr>\n",
       "    <tr>\n",
       "      <th>7</th>\n",
       "      <td>According to another article, \"Distracted Driv...</td>\n",
       "      <td>2</td>\n",
       "    </tr>\n",
       "    <tr>\n",
       "      <th>8</th>\n",
       "      <td>The article states that teen get too distracte...</td>\n",
       "      <td>2</td>\n",
       "    </tr>\n",
       "    <tr>\n",
       "      <th>9</th>\n",
       "      <td>Accidents that can be easily avoided by focusi...</td>\n",
       "      <td>2</td>\n",
       "    </tr>\n",
       "    <tr>\n",
       "      <th>10</th>\n",
       "      <td>Drivers should not be able to use their phones...</td>\n",
       "      <td>2</td>\n",
       "    </tr>\n",
       "    <tr>\n",
       "      <th>11</th>\n",
       "      <td>In conclusion, drivers should not able to work...</td>\n",
       "      <td>4</td>\n",
       "    </tr>\n",
       "    <tr>\n",
       "      <th>12</th>\n",
       "      <td>Drivers who uses their phones while operating ...</td>\n",
       "      <td>4</td>\n",
       "    </tr>\n",
       "  </tbody>\n",
       "</table>\n",
       "</div>"
      ],
      "text/plain": [
       "                                                 text  label\n",
       "0                                    Phones & Driving      7\n",
       "1   Drivers should not be able to use phones while...      1\n",
       "2   Drivers who used their phone while operating a...      3\n",
       "3   According to an article by the Edgar Snyder Fi...      2\n",
       "4   According to the same article, 35% know the ri...      2\n",
       "5   This shows that its beyond dangerous and irres...      2\n",
       "6   Drivers should be able to concentrate without ...      2\n",
       "7   According to another article, \"Distracted Driv...      2\n",
       "8   The article states that teen get too distracte...      2\n",
       "9   Accidents that can be easily avoided by focusi...      2\n",
       "10  Drivers should not be able to use their phones...      2\n",
       "11  In conclusion, drivers should not able to work...      4\n",
       "12  Drivers who uses their phones while operating ...      4"
      ]
     },
     "execution_count": 37,
     "metadata": {},
     "output_type": "execute_result"
    }
   ],
   "source": [
    "def get_x_samples(df, text_id, do_fill_gaps=True):\n",
    "    \"\"\"Create a dataframe of the sentences of the text_id, with columns text, label \"\"\"\n",
    "    text = get_text(text_id)\n",
    "    elements = get_elements(df, text_id, do_fill_gaps, text)\n",
    "    sentences = []\n",
    "    for start, end, class_ in elements:\n",
    "        elem_sentences = nltk.sent_tokenize(text[start:end])\n",
    "        sentences += [(sentence, class_) for sentence in elem_sentences]\n",
    "    df = pd.DataFrame(sentences, columns=['text', 'label'])\n",
    "    df['label'] = df['label'].map(CLASS2ID)\n",
    "    return df\n",
    "\n",
    "get_x_samples(df, text_ids[1])"
   ]
  },
  {
   "cell_type": "markdown",
   "id": "8f6efcee",
   "metadata": {
    "papermill": {
     "duration": 0.038167,
     "end_time": "2021-12-15T01:52:59.345761",
     "exception": false,
     "start_time": "2021-12-15T01:52:59.307594",
     "status": "completed"
    },
    "tags": []
   },
   "source": [
    "## Build the full dataframe for sentence classification"
   ]
  },
  {
   "cell_type": "code",
   "execution_count": 40,
   "id": "09a3b246",
   "metadata": {
    "execution": {
     "iopub.execute_input": "2021-12-15T01:52:59.428101Z",
     "iopub.status.busy": "2021-12-15T01:52:59.427241Z",
     "iopub.status.idle": "2021-12-15T01:52:59.429718Z",
     "shell.execute_reply": "2021-12-15T01:52:59.430220Z",
     "shell.execute_reply.started": "2021-12-14T23:33:32.321858Z"
    },
    "papermill": {
     "duration": 0.046516,
     "end_time": "2021-12-15T01:52:59.430358",
     "exception": false,
     "start_time": "2021-12-15T01:52:59.383842",
     "status": "completed"
    },
    "tags": []
   },
   "outputs": [
    {
     "data": {
      "application/vnd.jupyter.widget-view+json": {
       "model_id": "fe2d534308264068a642bb6a502a9949",
       "version_major": 2,
       "version_minor": 0
      },
      "text/plain": [
       "  0%|          | 0/15594 [00:00<?, ?it/s]"
      ]
     },
     "metadata": {},
     "output_type": "display_data"
    }
   ],
   "source": [
    "# This takes a while. I created a dataset with the output here: https://www.kaggle.com/julian3833/feedback-df-sentences\n",
    "x = []\n",
    "for text_id in tqdm(text_ids):\n",
    "   x.append(get_x_samples(df, text_id))\n",
    "\n",
    "df_sentences = pd.concat(x)"
   ]
  },
  {
   "cell_type": "code",
   "execution_count": 42,
   "id": "12ef72f8",
   "metadata": {},
   "outputs": [],
   "source": [
    "df_sentences.to_csv('../input/feedback-prize-2021/df_sentences.csv', index=False)"
   ]
  },
  {
   "cell_type": "code",
   "execution_count": 39,
   "id": "90880cb2",
   "metadata": {
    "execution": {
     "iopub.execute_input": "2021-12-15T01:52:59.524304Z",
     "iopub.status.busy": "2021-12-15T01:52:59.523625Z",
     "iopub.status.idle": "2021-12-15T01:53:00.400666Z",
     "shell.execute_reply": "2021-12-15T01:53:00.399712Z",
     "shell.execute_reply.started": "2021-12-14T23:33:32.327517Z"
    },
    "papermill": {
     "duration": 0.926402,
     "end_time": "2021-12-15T01:53:00.400849",
     "exception": false,
     "start_time": "2021-12-15T01:52:59.474447",
     "status": "completed"
    },
    "tags": []
   },
   "outputs": [
    {
     "ename": "FileNotFoundError",
     "evalue": "[Errno 2] No such file or directory: '../input/feedback-df-sentences/df_sentences.csv'",
     "output_type": "error",
     "traceback": [
      "\u001b[0;31m---------------------------------------------------------------------------\u001b[0m",
      "\u001b[0;31mFileNotFoundError\u001b[0m                         Traceback (most recent call last)",
      "\u001b[0;32m/tmp/ipykernel_85337/3433926942.py\u001b[0m in \u001b[0;36m<module>\u001b[0;34m\u001b[0m\n\u001b[0;32m----> 1\u001b[0;31m \u001b[0mdf_sentences\u001b[0m \u001b[0;34m=\u001b[0m \u001b[0mpd\u001b[0m\u001b[0;34m.\u001b[0m\u001b[0mread_csv\u001b[0m\u001b[0;34m(\u001b[0m\u001b[0;34m\"../input/feedback-df-sentences/df_sentences.csv\"\u001b[0m\u001b[0;34m)\u001b[0m\u001b[0;34m\u001b[0m\u001b[0;34m\u001b[0m\u001b[0m\n\u001b[0m",
      "\u001b[0;32m~/envs/pikachu/lib/python3.9/site-packages/pandas/util/_decorators.py\u001b[0m in \u001b[0;36mwrapper\u001b[0;34m(*args, **kwargs)\u001b[0m\n\u001b[1;32m    309\u001b[0m                     \u001b[0mstacklevel\u001b[0m\u001b[0;34m=\u001b[0m\u001b[0mstacklevel\u001b[0m\u001b[0;34m,\u001b[0m\u001b[0;34m\u001b[0m\u001b[0;34m\u001b[0m\u001b[0m\n\u001b[1;32m    310\u001b[0m                 )\n\u001b[0;32m--> 311\u001b[0;31m             \u001b[0;32mreturn\u001b[0m \u001b[0mfunc\u001b[0m\u001b[0;34m(\u001b[0m\u001b[0;34m*\u001b[0m\u001b[0margs\u001b[0m\u001b[0;34m,\u001b[0m \u001b[0;34m**\u001b[0m\u001b[0mkwargs\u001b[0m\u001b[0;34m)\u001b[0m\u001b[0;34m\u001b[0m\u001b[0;34m\u001b[0m\u001b[0m\n\u001b[0m\u001b[1;32m    312\u001b[0m \u001b[0;34m\u001b[0m\u001b[0m\n\u001b[1;32m    313\u001b[0m         \u001b[0;32mreturn\u001b[0m \u001b[0mwrapper\u001b[0m\u001b[0;34m\u001b[0m\u001b[0;34m\u001b[0m\u001b[0m\n",
      "\u001b[0;32m~/envs/pikachu/lib/python3.9/site-packages/pandas/io/parsers/readers.py\u001b[0m in \u001b[0;36mread_csv\u001b[0;34m(filepath_or_buffer, sep, delimiter, header, names, index_col, usecols, squeeze, prefix, mangle_dupe_cols, dtype, engine, converters, true_values, false_values, skipinitialspace, skiprows, skipfooter, nrows, na_values, keep_default_na, na_filter, verbose, skip_blank_lines, parse_dates, infer_datetime_format, keep_date_col, date_parser, dayfirst, cache_dates, iterator, chunksize, compression, thousands, decimal, lineterminator, quotechar, quoting, doublequote, escapechar, comment, encoding, encoding_errors, dialect, error_bad_lines, warn_bad_lines, on_bad_lines, delim_whitespace, low_memory, memory_map, float_precision, storage_options)\u001b[0m\n\u001b[1;32m    584\u001b[0m     \u001b[0mkwds\u001b[0m\u001b[0;34m.\u001b[0m\u001b[0mupdate\u001b[0m\u001b[0;34m(\u001b[0m\u001b[0mkwds_defaults\u001b[0m\u001b[0;34m)\u001b[0m\u001b[0;34m\u001b[0m\u001b[0;34m\u001b[0m\u001b[0m\n\u001b[1;32m    585\u001b[0m \u001b[0;34m\u001b[0m\u001b[0m\n\u001b[0;32m--> 586\u001b[0;31m     \u001b[0;32mreturn\u001b[0m \u001b[0m_read\u001b[0m\u001b[0;34m(\u001b[0m\u001b[0mfilepath_or_buffer\u001b[0m\u001b[0;34m,\u001b[0m \u001b[0mkwds\u001b[0m\u001b[0;34m)\u001b[0m\u001b[0;34m\u001b[0m\u001b[0;34m\u001b[0m\u001b[0m\n\u001b[0m\u001b[1;32m    587\u001b[0m \u001b[0;34m\u001b[0m\u001b[0m\n\u001b[1;32m    588\u001b[0m \u001b[0;34m\u001b[0m\u001b[0m\n",
      "\u001b[0;32m~/envs/pikachu/lib/python3.9/site-packages/pandas/io/parsers/readers.py\u001b[0m in \u001b[0;36m_read\u001b[0;34m(filepath_or_buffer, kwds)\u001b[0m\n\u001b[1;32m    480\u001b[0m \u001b[0;34m\u001b[0m\u001b[0m\n\u001b[1;32m    481\u001b[0m     \u001b[0;31m# Create the parser.\u001b[0m\u001b[0;34m\u001b[0m\u001b[0;34m\u001b[0m\u001b[0;34m\u001b[0m\u001b[0m\n\u001b[0;32m--> 482\u001b[0;31m     \u001b[0mparser\u001b[0m \u001b[0;34m=\u001b[0m \u001b[0mTextFileReader\u001b[0m\u001b[0;34m(\u001b[0m\u001b[0mfilepath_or_buffer\u001b[0m\u001b[0;34m,\u001b[0m \u001b[0;34m**\u001b[0m\u001b[0mkwds\u001b[0m\u001b[0;34m)\u001b[0m\u001b[0;34m\u001b[0m\u001b[0;34m\u001b[0m\u001b[0m\n\u001b[0m\u001b[1;32m    483\u001b[0m \u001b[0;34m\u001b[0m\u001b[0m\n\u001b[1;32m    484\u001b[0m     \u001b[0;32mif\u001b[0m \u001b[0mchunksize\u001b[0m \u001b[0;32mor\u001b[0m \u001b[0miterator\u001b[0m\u001b[0;34m:\u001b[0m\u001b[0;34m\u001b[0m\u001b[0;34m\u001b[0m\u001b[0m\n",
      "\u001b[0;32m~/envs/pikachu/lib/python3.9/site-packages/pandas/io/parsers/readers.py\u001b[0m in \u001b[0;36m__init__\u001b[0;34m(self, f, engine, **kwds)\u001b[0m\n\u001b[1;32m    809\u001b[0m             \u001b[0mself\u001b[0m\u001b[0;34m.\u001b[0m\u001b[0moptions\u001b[0m\u001b[0;34m[\u001b[0m\u001b[0;34m\"has_index_names\"\u001b[0m\u001b[0;34m]\u001b[0m \u001b[0;34m=\u001b[0m \u001b[0mkwds\u001b[0m\u001b[0;34m[\u001b[0m\u001b[0;34m\"has_index_names\"\u001b[0m\u001b[0;34m]\u001b[0m\u001b[0;34m\u001b[0m\u001b[0;34m\u001b[0m\u001b[0m\n\u001b[1;32m    810\u001b[0m \u001b[0;34m\u001b[0m\u001b[0m\n\u001b[0;32m--> 811\u001b[0;31m         \u001b[0mself\u001b[0m\u001b[0;34m.\u001b[0m\u001b[0m_engine\u001b[0m \u001b[0;34m=\u001b[0m \u001b[0mself\u001b[0m\u001b[0;34m.\u001b[0m\u001b[0m_make_engine\u001b[0m\u001b[0;34m(\u001b[0m\u001b[0mself\u001b[0m\u001b[0;34m.\u001b[0m\u001b[0mengine\u001b[0m\u001b[0;34m)\u001b[0m\u001b[0;34m\u001b[0m\u001b[0;34m\u001b[0m\u001b[0m\n\u001b[0m\u001b[1;32m    812\u001b[0m \u001b[0;34m\u001b[0m\u001b[0m\n\u001b[1;32m    813\u001b[0m     \u001b[0;32mdef\u001b[0m \u001b[0mclose\u001b[0m\u001b[0;34m(\u001b[0m\u001b[0mself\u001b[0m\u001b[0;34m)\u001b[0m\u001b[0;34m:\u001b[0m\u001b[0;34m\u001b[0m\u001b[0;34m\u001b[0m\u001b[0m\n",
      "\u001b[0;32m~/envs/pikachu/lib/python3.9/site-packages/pandas/io/parsers/readers.py\u001b[0m in \u001b[0;36m_make_engine\u001b[0;34m(self, engine)\u001b[0m\n\u001b[1;32m   1038\u001b[0m             )\n\u001b[1;32m   1039\u001b[0m         \u001b[0;31m# error: Too many arguments for \"ParserBase\"\u001b[0m\u001b[0;34m\u001b[0m\u001b[0;34m\u001b[0m\u001b[0;34m\u001b[0m\u001b[0m\n\u001b[0;32m-> 1040\u001b[0;31m         \u001b[0;32mreturn\u001b[0m \u001b[0mmapping\u001b[0m\u001b[0;34m[\u001b[0m\u001b[0mengine\u001b[0m\u001b[0;34m]\u001b[0m\u001b[0;34m(\u001b[0m\u001b[0mself\u001b[0m\u001b[0;34m.\u001b[0m\u001b[0mf\u001b[0m\u001b[0;34m,\u001b[0m \u001b[0;34m**\u001b[0m\u001b[0mself\u001b[0m\u001b[0;34m.\u001b[0m\u001b[0moptions\u001b[0m\u001b[0;34m)\u001b[0m  \u001b[0;31m# type: ignore[call-arg]\u001b[0m\u001b[0;34m\u001b[0m\u001b[0;34m\u001b[0m\u001b[0m\n\u001b[0m\u001b[1;32m   1041\u001b[0m \u001b[0;34m\u001b[0m\u001b[0m\n\u001b[1;32m   1042\u001b[0m     \u001b[0;32mdef\u001b[0m \u001b[0m_failover_to_python\u001b[0m\u001b[0;34m(\u001b[0m\u001b[0mself\u001b[0m\u001b[0;34m)\u001b[0m\u001b[0;34m:\u001b[0m\u001b[0;34m\u001b[0m\u001b[0;34m\u001b[0m\u001b[0m\n",
      "\u001b[0;32m~/envs/pikachu/lib/python3.9/site-packages/pandas/io/parsers/c_parser_wrapper.py\u001b[0m in \u001b[0;36m__init__\u001b[0;34m(self, src, **kwds)\u001b[0m\n\u001b[1;32m     49\u001b[0m \u001b[0;34m\u001b[0m\u001b[0m\n\u001b[1;32m     50\u001b[0m         \u001b[0;31m# open handles\u001b[0m\u001b[0;34m\u001b[0m\u001b[0;34m\u001b[0m\u001b[0;34m\u001b[0m\u001b[0m\n\u001b[0;32m---> 51\u001b[0;31m         \u001b[0mself\u001b[0m\u001b[0;34m.\u001b[0m\u001b[0m_open_handles\u001b[0m\u001b[0;34m(\u001b[0m\u001b[0msrc\u001b[0m\u001b[0;34m,\u001b[0m \u001b[0mkwds\u001b[0m\u001b[0;34m)\u001b[0m\u001b[0;34m\u001b[0m\u001b[0;34m\u001b[0m\u001b[0m\n\u001b[0m\u001b[1;32m     52\u001b[0m         \u001b[0;32massert\u001b[0m \u001b[0mself\u001b[0m\u001b[0;34m.\u001b[0m\u001b[0mhandles\u001b[0m \u001b[0;32mis\u001b[0m \u001b[0;32mnot\u001b[0m \u001b[0;32mNone\u001b[0m\u001b[0;34m\u001b[0m\u001b[0;34m\u001b[0m\u001b[0m\n\u001b[1;32m     53\u001b[0m \u001b[0;34m\u001b[0m\u001b[0m\n",
      "\u001b[0;32m~/envs/pikachu/lib/python3.9/site-packages/pandas/io/parsers/base_parser.py\u001b[0m in \u001b[0;36m_open_handles\u001b[0;34m(self, src, kwds)\u001b[0m\n\u001b[1;32m    220\u001b[0m         \u001b[0mLet\u001b[0m \u001b[0mthe\u001b[0m \u001b[0mreaders\u001b[0m \u001b[0mopen\u001b[0m \u001b[0mIOHandles\u001b[0m \u001b[0mafter\u001b[0m \u001b[0mthey\u001b[0m \u001b[0mare\u001b[0m \u001b[0mdone\u001b[0m \u001b[0;32mwith\u001b[0m \u001b[0mtheir\u001b[0m \u001b[0mpotential\u001b[0m \u001b[0mraises\u001b[0m\u001b[0;34m.\u001b[0m\u001b[0;34m\u001b[0m\u001b[0;34m\u001b[0m\u001b[0m\n\u001b[1;32m    221\u001b[0m         \"\"\"\n\u001b[0;32m--> 222\u001b[0;31m         self.handles = get_handle(\n\u001b[0m\u001b[1;32m    223\u001b[0m             \u001b[0msrc\u001b[0m\u001b[0;34m,\u001b[0m\u001b[0;34m\u001b[0m\u001b[0;34m\u001b[0m\u001b[0m\n\u001b[1;32m    224\u001b[0m             \u001b[0;34m\"r\"\u001b[0m\u001b[0;34m,\u001b[0m\u001b[0;34m\u001b[0m\u001b[0;34m\u001b[0m\u001b[0m\n",
      "\u001b[0;32m~/envs/pikachu/lib/python3.9/site-packages/pandas/io/common.py\u001b[0m in \u001b[0;36mget_handle\u001b[0;34m(path_or_buf, mode, encoding, compression, memory_map, is_text, errors, storage_options)\u001b[0m\n\u001b[1;32m    699\u001b[0m         \u001b[0;32mif\u001b[0m \u001b[0mioargs\u001b[0m\u001b[0;34m.\u001b[0m\u001b[0mencoding\u001b[0m \u001b[0;32mand\u001b[0m \u001b[0;34m\"b\"\u001b[0m \u001b[0;32mnot\u001b[0m \u001b[0;32min\u001b[0m \u001b[0mioargs\u001b[0m\u001b[0;34m.\u001b[0m\u001b[0mmode\u001b[0m\u001b[0;34m:\u001b[0m\u001b[0;34m\u001b[0m\u001b[0;34m\u001b[0m\u001b[0m\n\u001b[1;32m    700\u001b[0m             \u001b[0;31m# Encoding\u001b[0m\u001b[0;34m\u001b[0m\u001b[0;34m\u001b[0m\u001b[0;34m\u001b[0m\u001b[0m\n\u001b[0;32m--> 701\u001b[0;31m             handle = open(\n\u001b[0m\u001b[1;32m    702\u001b[0m                 \u001b[0mhandle\u001b[0m\u001b[0;34m,\u001b[0m\u001b[0;34m\u001b[0m\u001b[0;34m\u001b[0m\u001b[0m\n\u001b[1;32m    703\u001b[0m                 \u001b[0mioargs\u001b[0m\u001b[0;34m.\u001b[0m\u001b[0mmode\u001b[0m\u001b[0;34m,\u001b[0m\u001b[0;34m\u001b[0m\u001b[0;34m\u001b[0m\u001b[0m\n",
      "\u001b[0;31mFileNotFoundError\u001b[0m: [Errno 2] No such file or directory: '../input/feedback-df-sentences/df_sentences.csv'"
     ]
    }
   ],
   "source": [
    "# df_sentences = pd.read_csv(\"../input/feedback-df-sentences/df_sentences.csv\")"
   ]
  },
  {
   "cell_type": "code",
   "execution_count": null,
   "id": "3897e516",
   "metadata": {
    "execution": {
     "iopub.execute_input": "2021-12-15T01:53:00.519642Z",
     "iopub.status.busy": "2021-12-15T01:53:00.518815Z",
     "iopub.status.idle": "2021-12-15T01:53:02.136560Z",
     "shell.execute_reply": "2021-12-15T01:53:02.136950Z",
     "shell.execute_reply.started": "2021-12-14T23:33:33.216099Z"
    },
    "papermill": {
     "duration": 1.695974,
     "end_time": "2021-12-15T01:53:02.137105",
     "exception": false,
     "start_time": "2021-12-15T01:53:00.441131",
     "status": "completed"
    },
    "tags": []
   },
   "outputs": [],
   "source": [
    "df_sentences = df_sentences[df_sentences.text.str.split().str.len() >= 3]\n",
    "df_sentences.head()"
   ]
  },
  {
   "cell_type": "code",
   "execution_count": null,
   "id": "3859e2ff",
   "metadata": {
    "execution": {
     "iopub.execute_input": "2021-12-15T01:53:02.219656Z",
     "iopub.status.busy": "2021-12-15T01:53:02.218887Z",
     "iopub.status.idle": "2021-12-15T01:53:03.958332Z",
     "shell.execute_reply": "2021-12-15T01:53:03.957823Z",
     "shell.execute_reply.started": "2021-12-14T23:33:34.889603Z"
    },
    "papermill": {
     "duration": 1.782689,
     "end_time": "2021-12-15T01:53:03.958456",
     "exception": false,
     "start_time": "2021-12-15T01:53:02.175767",
     "status": "completed"
    },
    "tags": []
   },
   "outputs": [],
   "source": [
    "df_sentences.to_csv(\"df_sentences.csv\", index=False)"
   ]
  },
  {
   "cell_type": "code",
   "execution_count": null,
   "id": "f43037b4",
   "metadata": {
    "execution": {
     "iopub.execute_input": "2021-12-15T01:53:04.043299Z",
     "iopub.status.busy": "2021-12-15T01:53:04.042672Z",
     "iopub.status.idle": "2021-12-15T01:53:04.045343Z",
     "shell.execute_reply": "2021-12-15T01:53:04.045931Z",
     "shell.execute_reply.started": "2021-12-14T23:33:36.89327Z"
    },
    "papermill": {
     "duration": 0.047522,
     "end_time": "2021-12-15T01:53:04.046116",
     "exception": false,
     "start_time": "2021-12-15T01:53:03.998594",
     "status": "completed"
    },
    "tags": []
   },
   "outputs": [],
   "source": [
    "len(df_sentences)"
   ]
  },
  {
   "cell_type": "markdown",
   "id": "efd43b77",
   "metadata": {
    "papermill": {
     "duration": 0.040087,
     "end_time": "2021-12-15T01:53:04.125915",
     "exception": false,
     "start_time": "2021-12-15T01:53:04.085828",
     "status": "completed"
    },
    "tags": []
   },
   "source": [
    "# Modeling!!!\n",
    "\n",
    "We will use a `BERT` and the `Trainer` API from Hugging Face. \n",
    "\n",
    "We are using a dataset to avoid using internet (a restriction of the competition for submission notebooks)\n",
    "\n",
    "References:\n",
    "* https://huggingface.co/docs/transformers/training\n",
    "* https://huggingface.co/docs/transformers/custom_datasets"
   ]
  },
  {
   "cell_type": "code",
   "execution_count": null,
   "id": "fc387b92",
   "metadata": {
    "execution": {
     "iopub.execute_input": "2021-12-15T01:53:04.207275Z",
     "iopub.status.busy": "2021-12-15T01:53:04.206677Z",
     "iopub.status.idle": "2021-12-15T01:53:04.210399Z",
     "shell.execute_reply": "2021-12-15T01:53:04.209979Z",
     "shell.execute_reply.started": "2021-12-14T23:33:36.90477Z"
    },
    "papermill": {
     "duration": 0.046101,
     "end_time": "2021-12-15T01:53:04.210535",
     "exception": false,
     "start_time": "2021-12-15T01:53:04.164434",
     "status": "completed"
    },
    "tags": []
   },
   "outputs": [],
   "source": [
    "MODEL_CHK = \"../input/huggingface-bert/bert-base-cased\"\n",
    "\n",
    "NUM_LABELS = 8\n",
    "\n",
    "NUM_EPOCHS = 2"
   ]
  },
  {
   "cell_type": "markdown",
   "id": "fc9e3474",
   "metadata": {
    "papermill": {
     "duration": 0.038636,
     "end_time": "2021-12-15T01:53:04.287919",
     "exception": false,
     "start_time": "2021-12-15T01:53:04.249283",
     "status": "completed"
    },
    "tags": []
   },
   "source": [
    "## HuggingFace Dataset"
   ]
  },
  {
   "cell_type": "code",
   "execution_count": null,
   "id": "28560751",
   "metadata": {
    "execution": {
     "iopub.execute_input": "2021-12-15T01:53:04.370610Z",
     "iopub.status.busy": "2021-12-15T01:53:04.370023Z",
     "iopub.status.idle": "2021-12-15T01:53:04.612725Z",
     "shell.execute_reply": "2021-12-15T01:53:04.612177Z",
     "shell.execute_reply.started": "2021-12-14T23:33:36.913495Z"
    },
    "papermill": {
     "duration": 0.285788,
     "end_time": "2021-12-15T01:53:04.612856",
     "exception": false,
     "start_time": "2021-12-15T01:53:04.327068",
     "status": "completed"
    },
    "tags": []
   },
   "outputs": [],
   "source": [
    "ds_train = Dataset.from_pandas(df_sentences.iloc[:340000])\n",
    "ds_val = Dataset.from_pandas(df_sentences.iloc[340000:])"
   ]
  },
  {
   "cell_type": "markdown",
   "id": "ddbc16eb",
   "metadata": {
    "papermill": {
     "duration": 0.038716,
     "end_time": "2021-12-15T01:53:04.690802",
     "exception": false,
     "start_time": "2021-12-15T01:53:04.652086",
     "status": "completed"
    },
    "tags": []
   },
   "source": [
    "## Tokenize"
   ]
  },
  {
   "cell_type": "code",
   "execution_count": null,
   "id": "86091be4",
   "metadata": {
    "execution": {
     "iopub.execute_input": "2021-12-15T01:53:04.774050Z",
     "iopub.status.busy": "2021-12-15T01:53:04.773448Z",
     "iopub.status.idle": "2021-12-15T01:53:39.558915Z",
     "shell.execute_reply": "2021-12-15T01:53:39.559393Z",
     "shell.execute_reply.started": "2021-12-14T23:33:37.063421Z"
    },
    "papermill": {
     "duration": 34.830017,
     "end_time": "2021-12-15T01:53:39.559596",
     "exception": false,
     "start_time": "2021-12-15T01:53:04.729579",
     "status": "completed"
    },
    "tags": []
   },
   "outputs": [],
   "source": [
    "transformers.logging.set_verbosity_warning() # Silence some annoying logging of HF\n",
    "\n",
    "# Load tokenizer\n",
    "tokenizer = AutoTokenizer.from_pretrained(MODEL_CHK)\n",
    "\n",
    "def preprocess_function(examples):    \n",
    "    return tokenizer(examples[\"text\"], truncation=True, max_length=256)\n",
    "\n",
    "\n",
    "# Tokenizer dataset\n",
    "ds_train_tokenized = ds_train.map(preprocess_function, batched=True)\n",
    "ds_val_tokenized = ds_val.map(preprocess_function, batched=True)"
   ]
  },
  {
   "cell_type": "code",
   "execution_count": null,
   "id": "b8e54606",
   "metadata": {
    "execution": {
     "iopub.execute_input": "2021-12-15T01:53:39.652914Z",
     "iopub.status.busy": "2021-12-15T01:53:39.652288Z",
     "iopub.status.idle": "2021-12-15T01:53:45.997400Z",
     "shell.execute_reply": "2021-12-15T01:53:45.996969Z",
     "shell.execute_reply.started": "2021-12-14T23:34:11.002787Z"
    },
    "papermill": {
     "duration": 6.392529,
     "end_time": "2021-12-15T01:53:45.997556",
     "exception": false,
     "start_time": "2021-12-15T01:53:39.605027",
     "status": "completed"
    },
    "tags": []
   },
   "outputs": [],
   "source": [
    "# Load model\n",
    "model = AutoModelForSequenceClassification.from_pretrained(MODEL_CHK, num_labels=NUM_LABELS)"
   ]
  },
  {
   "cell_type": "markdown",
   "id": "10806387",
   "metadata": {
    "papermill": {
     "duration": 0.040257,
     "end_time": "2021-12-15T01:53:46.078374",
     "exception": false,
     "start_time": "2021-12-15T01:53:46.038117",
     "status": "completed"
    },
    "tags": []
   },
   "source": [
    "### Prepare trainer"
   ]
  },
  {
   "cell_type": "code",
   "execution_count": null,
   "id": "efc32d2d",
   "metadata": {
    "execution": {
     "iopub.execute_input": "2021-12-15T01:53:46.165133Z",
     "iopub.status.busy": "2021-12-15T01:53:46.164551Z",
     "iopub.status.idle": "2021-12-15T01:53:50.691395Z",
     "shell.execute_reply": "2021-12-15T01:53:50.692144Z",
     "shell.execute_reply.started": "2021-12-14T23:34:17.331021Z"
    },
    "papermill": {
     "duration": 4.573511,
     "end_time": "2021-12-15T01:53:50.692313",
     "exception": false,
     "start_time": "2021-12-15T01:53:46.118802",
     "status": "completed"
    },
    "tags": []
   },
   "outputs": [],
   "source": [
    "os.environ['TOKENIZERS_PARALLELISM'] = 'false'\n",
    "os.environ['WANDB_DISABLED'] = 'true'\n",
    "\n",
    "training_args = TrainingArguments(\n",
    "    output_dir='feeeback-classifier',\n",
    "    learning_rate=2e-5,\n",
    "    per_device_train_batch_size=32,\n",
    "    per_device_eval_batch_size=32,\n",
    "    num_train_epochs=NUM_EPOCHS,\n",
    "    weight_decay=0.01,\n",
    "    report_to=\"none\",\n",
    "    evaluation_strategy=\"epoch\",\n",
    "    save_strategy=\"epoch\",\n",
    "\n",
    ")\n",
    "\n",
    "trainer = Trainer(\n",
    "    model=model,\n",
    "    args=training_args,\n",
    "    train_dataset=ds_train_tokenized,\n",
    "    eval_dataset=ds_val_tokenized,\n",
    "    tokenizer=tokenizer,\n",
    "    #data_collator=data_collator,\n",
    ")"
   ]
  },
  {
   "cell_type": "markdown",
   "id": "f3ace48e",
   "metadata": {
    "papermill": {
     "duration": 0.041779,
     "end_time": "2021-12-15T01:53:50.779960",
     "exception": false,
     "start_time": "2021-12-15T01:53:50.738181",
     "status": "completed"
    },
    "tags": []
   },
   "source": [
    "## Train"
   ]
  },
  {
   "cell_type": "code",
   "execution_count": null,
   "id": "098568e7",
   "metadata": {
    "execution": {
     "iopub.execute_input": "2021-12-15T01:53:50.869234Z",
     "iopub.status.busy": "2021-12-15T01:53:50.868357Z",
     "iopub.status.idle": "2021-12-15T03:12:16.088754Z",
     "shell.execute_reply": "2021-12-15T03:12:16.089179Z",
     "shell.execute_reply.started": "2021-12-14T23:34:22.539597Z"
    },
    "papermill": {
     "duration": 4705.26821,
     "end_time": "2021-12-15T03:12:16.089341",
     "exception": false,
     "start_time": "2021-12-15T01:53:50.821131",
     "status": "completed"
    },
    "tags": []
   },
   "outputs": [],
   "source": [
    "trainer.train()"
   ]
  },
  {
   "cell_type": "code",
   "execution_count": null,
   "id": "8d74db11",
   "metadata": {
    "execution": {
     "iopub.execute_input": "2021-12-15T03:12:16.190091Z",
     "iopub.status.busy": "2021-12-15T03:12:16.189202Z",
     "iopub.status.idle": "2021-12-15T03:12:17.706328Z",
     "shell.execute_reply": "2021-12-15T03:12:17.707721Z",
     "shell.execute_reply.started": "2021-12-15T00:13:16.6147Z"
    },
    "papermill": {
     "duration": 1.569837,
     "end_time": "2021-12-15T03:12:17.707981",
     "exception": false,
     "start_time": "2021-12-15T03:12:16.138144",
     "status": "completed"
    },
    "tags": []
   },
   "outputs": [],
   "source": [
    "trainer.save_model(\"feedback-bert-trained\")"
   ]
  },
  {
   "cell_type": "markdown",
   "id": "52eaca4c",
   "metadata": {
    "papermill": {
     "duration": 0.065522,
     "end_time": "2021-12-15T03:12:17.889333",
     "exception": false,
     "start_time": "2021-12-15T03:12:17.823811",
     "status": "completed"
    },
    "tags": []
   },
   "source": [
    "# Submit\n",
    "\n",
    "We will apply a process similar to the one we applied to the original train data, splitting each text into its sentences.\n",
    "\n",
    "See the [Evaluation tab](https://www.kaggle.com/c/feedback-prize-2021/overview/evaluation) for details about the `predictionstring` column"
   ]
  },
  {
   "cell_type": "code",
   "execution_count": null,
   "id": "5f4862c5",
   "metadata": {
    "execution": {
     "iopub.execute_input": "2021-12-15T03:12:18.002665Z",
     "iopub.status.busy": "2021-12-15T03:12:18.002083Z",
     "iopub.status.idle": "2021-12-15T03:12:18.019001Z",
     "shell.execute_reply": "2021-12-15T03:12:18.019509Z"
    },
    "papermill": {
     "duration": 0.077102,
     "end_time": "2021-12-15T03:12:18.019681",
     "exception": false,
     "start_time": "2021-12-15T03:12:17.942579",
     "status": "completed"
    },
    "tags": []
   },
   "outputs": [],
   "source": [
    "df_sub = pd.read_csv(SUB_CSV)\n",
    "df_sub"
   ]
  },
  {
   "cell_type": "markdown",
   "id": "d479657d",
   "metadata": {
    "papermill": {
     "duration": 0.053423,
     "end_time": "2021-12-15T03:12:18.134043",
     "exception": false,
     "start_time": "2021-12-15T03:12:18.080620",
     "status": "completed"
    },
    "tags": []
   },
   "source": [
    "## Prepare test dataset"
   ]
  },
  {
   "cell_type": "code",
   "execution_count": null,
   "id": "04ee9db5",
   "metadata": {
    "execution": {
     "iopub.execute_input": "2021-12-15T03:12:18.255210Z",
     "iopub.status.busy": "2021-12-15T03:12:18.254311Z",
     "iopub.status.idle": "2021-12-15T03:12:18.256182Z",
     "shell.execute_reply": "2021-12-15T03:12:18.256760Z",
     "shell.execute_reply.started": "2021-12-15T00:13:22.126114Z"
    },
    "papermill": {
     "duration": 0.067086,
     "end_time": "2021-12-15T03:12:18.256937",
     "exception": false,
     "start_time": "2021-12-15T03:12:18.189851",
     "status": "completed"
    },
    "tags": []
   },
   "outputs": [],
   "source": [
    "def get_test_text(a_id):\n",
    "    a_file = f\"{TEST_PATH}/{a_id}.txt\"\n",
    "    with open(a_file, \"r\") as fp:\n",
    "        txt = fp.read()\n",
    "    return txt\n",
    "\n",
    "def create_df_test():\n",
    "    test_ids = [f[:-4] for f in os.listdir(TEST_PATH)]\n",
    "    test_data = []\n",
    "    for test_id in test_ids:\n",
    "        text = get_test_text(test_id)\n",
    "        sentences = nltk.sent_tokenize(text)\n",
    "        id_sentences = []\n",
    "        idx = 0 \n",
    "        for sentence in sentences:\n",
    "            id_sentence = []\n",
    "            words = sentence.split()\n",
    "            # I created this heuristic for mapping words in senteces to \"word indexes\"\n",
    "            # This is not definitive and might have strong drawbacks and problems\n",
    "            for w in words:\n",
    "                id_sentence.append(idx)\n",
    "                idx+=1\n",
    "            id_sentences.append(id_sentence)\n",
    "        test_data += list(zip([test_id] * len(sentences), sentences, id_sentences))\n",
    "    df_test = pd.DataFrame(test_data, columns=['id', 'text', 'ids'])\n",
    "    return df_test"
   ]
  },
  {
   "cell_type": "code",
   "execution_count": null,
   "id": "bbc0ec1c",
   "metadata": {
    "execution": {
     "iopub.execute_input": "2021-12-15T03:12:18.379964Z",
     "iopub.status.busy": "2021-12-15T03:12:18.379224Z",
     "iopub.status.idle": "2021-12-15T03:12:18.429599Z",
     "shell.execute_reply": "2021-12-15T03:12:18.430826Z",
     "shell.execute_reply.started": "2021-12-15T00:13:18.018416Z"
    },
    "papermill": {
     "duration": 0.115383,
     "end_time": "2021-12-15T03:12:18.430992",
     "exception": false,
     "start_time": "2021-12-15T03:12:18.315609",
     "status": "completed"
    },
    "tags": []
   },
   "outputs": [],
   "source": [
    "df_test = create_df_test()\n",
    "df_test.head()"
   ]
  },
  {
   "cell_type": "code",
   "execution_count": null,
   "id": "0d4d834f",
   "metadata": {
    "execution": {
     "iopub.execute_input": "2021-12-15T03:12:18.560126Z",
     "iopub.status.busy": "2021-12-15T03:12:18.559099Z",
     "iopub.status.idle": "2021-12-15T03:12:18.634939Z",
     "shell.execute_reply": "2021-12-15T03:12:18.634450Z",
     "shell.execute_reply.started": "2021-12-15T00:13:18.98024Z"
    },
    "papermill": {
     "duration": 0.142393,
     "end_time": "2021-12-15T03:12:18.635064",
     "exception": false,
     "start_time": "2021-12-15T03:12:18.492671",
     "status": "completed"
    },
    "tags": []
   },
   "outputs": [],
   "source": [
    "ds_test = Dataset.from_pandas(df_test)\n",
    "ds_test_tokenized = ds_test.map(preprocess_function, batched=True)"
   ]
  },
  {
   "cell_type": "markdown",
   "id": "dc2913c4",
   "metadata": {
    "papermill": {
     "duration": 0.057453,
     "end_time": "2021-12-15T03:12:18.752529",
     "exception": false,
     "start_time": "2021-12-15T03:12:18.695076",
     "status": "completed"
    },
    "tags": []
   },
   "source": [
    "## Predict"
   ]
  },
  {
   "cell_type": "code",
   "execution_count": null,
   "id": "90455653",
   "metadata": {
    "execution": {
     "iopub.execute_input": "2021-12-15T03:12:18.880866Z",
     "iopub.status.busy": "2021-12-15T03:12:18.879907Z",
     "iopub.status.idle": "2021-12-15T03:12:19.231753Z",
     "shell.execute_reply": "2021-12-15T03:12:19.232258Z",
     "shell.execute_reply.started": "2021-12-15T00:13:20.142274Z"
    },
    "papermill": {
     "duration": 0.422633,
     "end_time": "2021-12-15T03:12:19.232435",
     "exception": false,
     "start_time": "2021-12-15T03:12:18.809802",
     "status": "completed"
    },
    "tags": []
   },
   "outputs": [],
   "source": [
    "# Get the predictions!!\n",
    "test_predictions = trainer.predict(ds_test_tokenized)"
   ]
  },
  {
   "cell_type": "code",
   "execution_count": null,
   "id": "ae2e4cbf",
   "metadata": {
    "execution": {
     "iopub.execute_input": "2021-12-15T03:12:21.965712Z",
     "iopub.status.busy": "2021-12-15T03:12:21.964803Z",
     "iopub.status.idle": "2021-12-15T03:12:21.986347Z",
     "shell.execute_reply": "2021-12-15T03:12:21.986989Z",
     "shell.execute_reply.started": "2021-12-15T00:13:22.005173Z"
    },
    "papermill": {
     "duration": 0.11093,
     "end_time": "2021-12-15T03:12:21.987167",
     "exception": false,
     "start_time": "2021-12-15T03:12:21.876237",
     "status": "completed"
    },
    "tags": []
   },
   "outputs": [],
   "source": [
    "# Turn logits into classes\n",
    "df_test['predictions'] = test_predictions.predictions.argmax(axis=1)\n",
    "\n",
    "# Turn class ids into class labels\n",
    "df_test['class'] = df_test['predictions'].map(ID2CLASS)\n",
    "df_test.head()"
   ]
  },
  {
   "cell_type": "markdown",
   "id": "2df96df7",
   "metadata": {
    "papermill": {
     "duration": 0.088766,
     "end_time": "2021-12-15T03:12:22.165118",
     "exception": false,
     "start_time": "2021-12-15T03:12:22.076352",
     "status": "completed"
    },
    "tags": []
   },
   "source": [
    "For now, we are submitting one row per sentence and not \"elements\". \n",
    "\n",
    "How to convert sentences into \"elements\" (blocks of setences) is not clear since there are times when various sentences with the same class are flagged in independent \"elements\"."
   ]
  },
  {
   "cell_type": "code",
   "execution_count": null,
   "id": "ea337b82",
   "metadata": {
    "execution": {
     "iopub.execute_input": "2021-12-15T03:12:22.348378Z",
     "iopub.status.busy": "2021-12-15T03:12:22.347513Z",
     "iopub.status.idle": "2021-12-15T03:12:22.358278Z",
     "shell.execute_reply": "2021-12-15T03:12:22.358783Z",
     "shell.execute_reply.started": "2021-12-15T00:13:22.022683Z"
    },
    "papermill": {
     "duration": 0.115036,
     "end_time": "2021-12-15T03:12:22.358932",
     "exception": false,
     "start_time": "2021-12-15T03:12:22.243896",
     "status": "completed"
    },
    "tags": []
   },
   "outputs": [],
   "source": [
    "# Turn the word ids into this weird predictionstring required\n",
    "df_test['predictionstring'] = df_test['ids'].apply(lambda x: ' '.join([str(i) for i in x]))\n",
    "df_test.head()"
   ]
  },
  {
   "cell_type": "code",
   "execution_count": null,
   "id": "a2ac4349",
   "metadata": {
    "execution": {
     "iopub.execute_input": "2021-12-15T03:12:22.548457Z",
     "iopub.status.busy": "2021-12-15T03:12:22.547597Z",
     "iopub.status.idle": "2021-12-15T03:12:22.561389Z",
     "shell.execute_reply": "2021-12-15T03:12:22.562692Z",
     "shell.execute_reply.started": "2021-12-15T00:13:22.042042Z"
    },
    "papermill": {
     "duration": 0.111276,
     "end_time": "2021-12-15T03:12:22.562892",
     "exception": false,
     "start_time": "2021-12-15T03:12:22.451616",
     "status": "completed"
    },
    "tags": []
   },
   "outputs": [],
   "source": [
    "# Drop \"No class\" sentences\n",
    "df_test = df_test[df_test['class'] != 'No Class']\n",
    "df_test.head()"
   ]
  },
  {
   "cell_type": "code",
   "execution_count": null,
   "id": "2e6599a6",
   "metadata": {
    "execution": {
     "iopub.execute_input": "2021-12-15T03:12:22.749919Z",
     "iopub.status.busy": "2021-12-15T03:12:22.748673Z",
     "iopub.status.idle": "2021-12-15T03:12:22.752165Z",
     "shell.execute_reply": "2021-12-15T03:12:22.752734Z",
     "shell.execute_reply.started": "2021-12-15T00:13:22.064349Z"
    },
    "papermill": {
     "duration": 0.099824,
     "end_time": "2021-12-15T03:12:22.752912",
     "exception": false,
     "start_time": "2021-12-15T03:12:22.653088",
     "status": "completed"
    },
    "tags": []
   },
   "outputs": [],
   "source": [
    "# And submit!! 🤞🤞 \n",
    "df_test[['id', 'class', 'predictionstring']].to_csv(\"submission.csv\", index=False)"
   ]
  },
  {
   "cell_type": "markdown",
   "id": "34734dee",
   "metadata": {
    "papermill": {
     "duration": 0.150468,
     "end_time": "2021-12-15T03:12:22.989493",
     "exception": false,
     "start_time": "2021-12-15T03:12:22.839025",
     "status": "completed"
    },
    "tags": []
   },
   "source": [
    "## Please, _DO_ upvote if you find it useful or interesting!! \n",
    "#### I'm very close to becoming a grandmaster and very excited about it 😇🙏"
   ]
  }
 ],
 "metadata": {
  "kernelspec": {
   "display_name": "Python 3",
   "language": "python",
   "name": "python3"
  },
  "language_info": {
   "codemirror_mode": {
    "name": "ipython",
    "version": 3
   },
   "file_extension": ".py",
   "mimetype": "text/x-python",
   "name": "python",
   "nbconvert_exporter": "python",
   "pygments_lexer": "ipython3",
   "version": "3.6.13"
  },
  "papermill": {
   "default_parameters": {},
   "duration": 4790.198652,
   "end_time": "2021-12-15T03:12:26.425798",
   "environment_variables": {},
   "exception": null,
   "input_path": "__notebook__.ipynb",
   "output_path": "__notebook__.ipynb",
   "parameters": {},
   "start_time": "2021-12-15T01:52:36.227146",
   "version": "2.3.3"
  },
  "widgets": {
   "application/vnd.jupyter.widget-state+json": {
    "state": {
     "0ccabea3026f41d6afe32e27058c10d7": {
      "model_module": "@jupyter-widgets/base",
      "model_module_version": "1.2.0",
      "model_name": "LayoutModel",
      "state": {
       "_model_module": "@jupyter-widgets/base",
       "_model_module_version": "1.2.0",
       "_model_name": "LayoutModel",
       "_view_count": null,
       "_view_module": "@jupyter-widgets/base",
       "_view_module_version": "1.2.0",
       "_view_name": "LayoutView",
       "align_content": null,
       "align_items": null,
       "align_self": null,
       "border": null,
       "bottom": null,
       "display": null,
       "flex": null,
       "flex_flow": null,
       "grid_area": null,
       "grid_auto_columns": null,
       "grid_auto_flow": null,
       "grid_auto_rows": null,
       "grid_column": null,
       "grid_gap": null,
       "grid_row": null,
       "grid_template_areas": null,
       "grid_template_columns": null,
       "grid_template_rows": null,
       "height": null,
       "justify_content": null,
       "justify_items": null,
       "left": null,
       "margin": null,
       "max_height": null,
       "max_width": null,
       "min_height": null,
       "min_width": null,
       "object_fit": null,
       "object_position": null,
       "order": null,
       "overflow": null,
       "overflow_x": null,
       "overflow_y": null,
       "padding": null,
       "right": null,
       "top": null,
       "visibility": null,
       "width": null
      }
     },
     "14b0202c2fef459eb28c0f82d3ed6f89": {
      "model_module": "@jupyter-widgets/base",
      "model_module_version": "1.2.0",
      "model_name": "LayoutModel",
      "state": {
       "_model_module": "@jupyter-widgets/base",
       "_model_module_version": "1.2.0",
       "_model_name": "LayoutModel",
       "_view_count": null,
       "_view_module": "@jupyter-widgets/base",
       "_view_module_version": "1.2.0",
       "_view_name": "LayoutView",
       "align_content": null,
       "align_items": null,
       "align_self": null,
       "border": null,
       "bottom": null,
       "display": null,
       "flex": null,
       "flex_flow": null,
       "grid_area": null,
       "grid_auto_columns": null,
       "grid_auto_flow": null,
       "grid_auto_rows": null,
       "grid_column": null,
       "grid_gap": null,
       "grid_row": null,
       "grid_template_areas": null,
       "grid_template_columns": null,
       "grid_template_rows": null,
       "height": null,
       "justify_content": null,
       "justify_items": null,
       "left": null,
       "margin": null,
       "max_height": null,
       "max_width": null,
       "min_height": null,
       "min_width": null,
       "object_fit": null,
       "object_position": null,
       "order": null,
       "overflow": null,
       "overflow_x": null,
       "overflow_y": null,
       "padding": null,
       "right": null,
       "top": null,
       "visibility": null,
       "width": null
      }
     },
     "1a8c94e644d84142a32d18c1d0682545": {
      "model_module": "@jupyter-widgets/controls",
      "model_module_version": "1.5.0",
      "model_name": "ProgressStyleModel",
      "state": {
       "_model_module": "@jupyter-widgets/controls",
       "_model_module_version": "1.5.0",
       "_model_name": "ProgressStyleModel",
       "_view_count": null,
       "_view_module": "@jupyter-widgets/base",
       "_view_module_version": "1.2.0",
       "_view_name": "StyleView",
       "bar_color": null,
       "description_width": ""
      }
     },
     "1b6d992bf72d49558ba89fa7ce547679": {
      "model_module": "@jupyter-widgets/base",
      "model_module_version": "1.2.0",
      "model_name": "LayoutModel",
      "state": {
       "_model_module": "@jupyter-widgets/base",
       "_model_module_version": "1.2.0",
       "_model_name": "LayoutModel",
       "_view_count": null,
       "_view_module": "@jupyter-widgets/base",
       "_view_module_version": "1.2.0",
       "_view_name": "LayoutView",
       "align_content": null,
       "align_items": null,
       "align_self": null,
       "border": null,
       "bottom": null,
       "display": null,
       "flex": null,
       "flex_flow": null,
       "grid_area": null,
       "grid_auto_columns": null,
       "grid_auto_flow": null,
       "grid_auto_rows": null,
       "grid_column": null,
       "grid_gap": null,
       "grid_row": null,
       "grid_template_areas": null,
       "grid_template_columns": null,
       "grid_template_rows": null,
       "height": null,
       "justify_content": null,
       "justify_items": null,
       "left": null,
       "margin": null,
       "max_height": null,
       "max_width": null,
       "min_height": null,
       "min_width": null,
       "object_fit": null,
       "object_position": null,
       "order": null,
       "overflow": null,
       "overflow_x": null,
       "overflow_y": null,
       "padding": null,
       "right": null,
       "top": null,
       "visibility": null,
       "width": null
      }
     },
     "1e639e49f1cc4ee298661f026b696a39": {
      "model_module": "@jupyter-widgets/controls",
      "model_module_version": "1.5.0",
      "model_name": "FloatProgressModel",
      "state": {
       "_dom_classes": [],
       "_model_module": "@jupyter-widgets/controls",
       "_model_module_version": "1.5.0",
       "_model_name": "FloatProgressModel",
       "_view_count": null,
       "_view_module": "@jupyter-widgets/controls",
       "_view_module_version": "1.5.0",
       "_view_name": "ProgressView",
       "bar_style": "success",
       "description": "",
       "description_tooltip": null,
       "layout": "IPY_MODEL_d84f98d7c54146c9839b9b63155d1631",
       "max": 340,
       "min": 0,
       "orientation": "horizontal",
       "style": "IPY_MODEL_1a8c94e644d84142a32d18c1d0682545",
       "value": 340
      }
     },
     "35afe9f885e54611b98a8eda68b04f45": {
      "model_module": "@jupyter-widgets/controls",
      "model_module_version": "1.5.0",
      "model_name": "HTMLModel",
      "state": {
       "_dom_classes": [],
       "_model_module": "@jupyter-widgets/controls",
       "_model_module_version": "1.5.0",
       "_model_name": "HTMLModel",
       "_view_count": null,
       "_view_module": "@jupyter-widgets/controls",
       "_view_module_version": "1.5.0",
       "_view_name": "HTMLView",
       "description": "",
       "description_tooltip": null,
       "layout": "IPY_MODEL_14b0202c2fef459eb28c0f82d3ed6f89",
       "placeholder": "​",
       "style": "IPY_MODEL_5cb80159e61841df99ed31ae2d8d7a92",
       "value": "100%"
      }
     },
     "3e38ad38228b416fa0c93812834b8953": {
      "model_module": "@jupyter-widgets/controls",
      "model_module_version": "1.5.0",
      "model_name": "HBoxModel",
      "state": {
       "_dom_classes": [],
       "_model_module": "@jupyter-widgets/controls",
       "_model_module_version": "1.5.0",
       "_model_name": "HBoxModel",
       "_view_count": null,
       "_view_module": "@jupyter-widgets/controls",
       "_view_module_version": "1.5.0",
       "_view_name": "HBoxView",
       "box_style": "",
       "children": [
        "IPY_MODEL_35afe9f885e54611b98a8eda68b04f45",
        "IPY_MODEL_1e639e49f1cc4ee298661f026b696a39",
        "IPY_MODEL_e2f8516014ac4f64914499d1e6b7804f"
       ],
       "layout": "IPY_MODEL_f223bcd48c8c4185b2bb752f93b7d1a1"
      }
     },
     "43a9d64bb21b4796a0c23fbd3992fa51": {
      "model_module": "@jupyter-widgets/controls",
      "model_module_version": "1.5.0",
      "model_name": "HTMLModel",
      "state": {
       "_dom_classes": [],
       "_model_module": "@jupyter-widgets/controls",
       "_model_module_version": "1.5.0",
       "_model_name": "HTMLModel",
       "_view_count": null,
       "_view_module": "@jupyter-widgets/controls",
       "_view_module_version": "1.5.0",
       "_view_name": "HTMLView",
       "description": "",
       "description_tooltip": null,
       "layout": "IPY_MODEL_e11daf4dc0a64e91a7596aa845511c7b",
       "placeholder": "​",
       "style": "IPY_MODEL_61b9b110d3384360a6ff68490a97fdc4",
       "value": " 1/1 [00:00&lt;00:00, 18.20ba/s]"
      }
     },
     "560f4fcf1003419d9a3e243538b4200d": {
      "model_module": "@jupyter-widgets/controls",
      "model_module_version": "1.5.0",
      "model_name": "ProgressStyleModel",
      "state": {
       "_model_module": "@jupyter-widgets/controls",
       "_model_module_version": "1.5.0",
       "_model_name": "ProgressStyleModel",
       "_view_count": null,
       "_view_module": "@jupyter-widgets/base",
       "_view_module_version": "1.2.0",
       "_view_name": "StyleView",
       "bar_color": null,
       "description_width": ""
      }
     },
     "5aab20781ee74f02871f65383015a91c": {
      "model_module": "@jupyter-widgets/controls",
      "model_module_version": "1.5.0",
      "model_name": "HTMLModel",
      "state": {
       "_dom_classes": [],
       "_model_module": "@jupyter-widgets/controls",
       "_model_module_version": "1.5.0",
       "_model_name": "HTMLModel",
       "_view_count": null,
       "_view_module": "@jupyter-widgets/controls",
       "_view_module_version": "1.5.0",
       "_view_name": "HTMLView",
       "description": "",
       "description_tooltip": null,
       "layout": "IPY_MODEL_d2d20b289ceb4186a30e2aa57bee5653",
       "placeholder": "​",
       "style": "IPY_MODEL_e379b6f4e6f84be788f58e22497a97fb",
       "value": "100%"
      }
     },
     "5cb80159e61841df99ed31ae2d8d7a92": {
      "model_module": "@jupyter-widgets/controls",
      "model_module_version": "1.5.0",
      "model_name": "DescriptionStyleModel",
      "state": {
       "_model_module": "@jupyter-widgets/controls",
       "_model_module_version": "1.5.0",
       "_model_name": "DescriptionStyleModel",
       "_view_count": null,
       "_view_module": "@jupyter-widgets/base",
       "_view_module_version": "1.2.0",
       "_view_name": "StyleView",
       "description_width": ""
      }
     },
     "5e5b30ecb885446292a488b1ce81aa43": {
      "model_module": "@jupyter-widgets/controls",
      "model_module_version": "1.5.0",
      "model_name": "ProgressStyleModel",
      "state": {
       "_model_module": "@jupyter-widgets/controls",
       "_model_module_version": "1.5.0",
       "_model_name": "ProgressStyleModel",
       "_view_count": null,
       "_view_module": "@jupyter-widgets/base",
       "_view_module_version": "1.2.0",
       "_view_name": "StyleView",
       "bar_color": null,
       "description_width": ""
      }
     },
     "61b9b110d3384360a6ff68490a97fdc4": {
      "model_module": "@jupyter-widgets/controls",
      "model_module_version": "1.5.0",
      "model_name": "DescriptionStyleModel",
      "state": {
       "_model_module": "@jupyter-widgets/controls",
       "_model_module_version": "1.5.0",
       "_model_name": "DescriptionStyleModel",
       "_view_count": null,
       "_view_module": "@jupyter-widgets/base",
       "_view_module_version": "1.2.0",
       "_view_name": "StyleView",
       "description_width": ""
      }
     },
     "6e6883414b2d4395b18e4735d2157d5b": {
      "model_module": "@jupyter-widgets/base",
      "model_module_version": "1.2.0",
      "model_name": "LayoutModel",
      "state": {
       "_model_module": "@jupyter-widgets/base",
       "_model_module_version": "1.2.0",
       "_model_name": "LayoutModel",
       "_view_count": null,
       "_view_module": "@jupyter-widgets/base",
       "_view_module_version": "1.2.0",
       "_view_name": "LayoutView",
       "align_content": null,
       "align_items": null,
       "align_self": null,
       "border": null,
       "bottom": null,
       "display": null,
       "flex": null,
       "flex_flow": null,
       "grid_area": null,
       "grid_auto_columns": null,
       "grid_auto_flow": null,
       "grid_auto_rows": null,
       "grid_column": null,
       "grid_gap": null,
       "grid_row": null,
       "grid_template_areas": null,
       "grid_template_columns": null,
       "grid_template_rows": null,
       "height": null,
       "justify_content": null,
       "justify_items": null,
       "left": null,
       "margin": null,
       "max_height": null,
       "max_width": null,
       "min_height": null,
       "min_width": null,
       "object_fit": null,
       "object_position": null,
       "order": null,
       "overflow": null,
       "overflow_x": null,
       "overflow_y": null,
       "padding": null,
       "right": null,
       "top": null,
       "visibility": null,
       "width": null
      }
     },
     "78fcfab601f54c4ba188c156888a9bf3": {
      "model_module": "@jupyter-widgets/controls",
      "model_module_version": "1.5.0",
      "model_name": "HBoxModel",
      "state": {
       "_dom_classes": [],
       "_model_module": "@jupyter-widgets/controls",
       "_model_module_version": "1.5.0",
       "_model_name": "HBoxModel",
       "_view_count": null,
       "_view_module": "@jupyter-widgets/controls",
       "_view_module_version": "1.5.0",
       "_view_name": "HBoxView",
       "box_style": "",
       "children": [
        "IPY_MODEL_f80aad27e8be4ae295e76485ea5dd618",
        "IPY_MODEL_9e914a0531d345678448cc27c8936a88",
        "IPY_MODEL_e03e832f22324c7d99a7a6f07c1cfb8c"
       ],
       "layout": "IPY_MODEL_f6e9497169a04888b3cdf20ea65a7daf"
      }
     },
     "79bb53f71bf2492e92271ddc7c2a2e8a": {
      "model_module": "@jupyter-widgets/controls",
      "model_module_version": "1.5.0",
      "model_name": "FloatProgressModel",
      "state": {
       "_dom_classes": [],
       "_model_module": "@jupyter-widgets/controls",
       "_model_module_version": "1.5.0",
       "_model_name": "FloatProgressModel",
       "_view_count": null,
       "_view_module": "@jupyter-widgets/controls",
       "_view_module_version": "1.5.0",
       "_view_name": "ProgressView",
       "bar_style": "success",
       "description": "",
       "description_tooltip": null,
       "layout": "IPY_MODEL_ca59bbb9bd4942be917266aafeeeaa8c",
       "max": 1,
       "min": 0,
       "orientation": "horizontal",
       "style": "IPY_MODEL_560f4fcf1003419d9a3e243538b4200d",
       "value": 1
      }
     },
     "8b9870060e2a45debe2869a4bd05fd3d": {
      "model_module": "@jupyter-widgets/base",
      "model_module_version": "1.2.0",
      "model_name": "LayoutModel",
      "state": {
       "_model_module": "@jupyter-widgets/base",
       "_model_module_version": "1.2.0",
       "_model_name": "LayoutModel",
       "_view_count": null,
       "_view_module": "@jupyter-widgets/base",
       "_view_module_version": "1.2.0",
       "_view_name": "LayoutView",
       "align_content": null,
       "align_items": null,
       "align_self": null,
       "border": null,
       "bottom": null,
       "display": null,
       "flex": null,
       "flex_flow": null,
       "grid_area": null,
       "grid_auto_columns": null,
       "grid_auto_flow": null,
       "grid_auto_rows": null,
       "grid_column": null,
       "grid_gap": null,
       "grid_row": null,
       "grid_template_areas": null,
       "grid_template_columns": null,
       "grid_template_rows": null,
       "height": null,
       "justify_content": null,
       "justify_items": null,
       "left": null,
       "margin": null,
       "max_height": null,
       "max_width": null,
       "min_height": null,
       "min_width": null,
       "object_fit": null,
       "object_position": null,
       "order": null,
       "overflow": null,
       "overflow_x": null,
       "overflow_y": null,
       "padding": null,
       "right": null,
       "top": null,
       "visibility": null,
       "width": null
      }
     },
     "9ba7fc44027e4dc58a380743c6e6afc3": {
      "model_module": "@jupyter-widgets/controls",
      "model_module_version": "1.5.0",
      "model_name": "DescriptionStyleModel",
      "state": {
       "_model_module": "@jupyter-widgets/controls",
       "_model_module_version": "1.5.0",
       "_model_name": "DescriptionStyleModel",
       "_view_count": null,
       "_view_module": "@jupyter-widgets/base",
       "_view_module_version": "1.2.0",
       "_view_name": "StyleView",
       "description_width": ""
      }
     },
     "9e914a0531d345678448cc27c8936a88": {
      "model_module": "@jupyter-widgets/controls",
      "model_module_version": "1.5.0",
      "model_name": "FloatProgressModel",
      "state": {
       "_dom_classes": [],
       "_model_module": "@jupyter-widgets/controls",
       "_model_module_version": "1.5.0",
       "_model_name": "FloatProgressModel",
       "_view_count": null,
       "_view_module": "@jupyter-widgets/controls",
       "_view_module_version": "1.5.0",
       "_view_name": "ProgressView",
       "bar_style": "success",
       "description": "",
       "description_tooltip": null,
       "layout": "IPY_MODEL_e17ee3e32e404a6f88b6f0b4c4d7944e",
       "max": 9,
       "min": 0,
       "orientation": "horizontal",
       "style": "IPY_MODEL_5e5b30ecb885446292a488b1ce81aa43",
       "value": 9
      }
     },
     "c54ab0d09bbe4f9db83d67258a34ff64": {
      "model_module": "@jupyter-widgets/controls",
      "model_module_version": "1.5.0",
      "model_name": "DescriptionStyleModel",
      "state": {
       "_model_module": "@jupyter-widgets/controls",
       "_model_module_version": "1.5.0",
       "_model_name": "DescriptionStyleModel",
       "_view_count": null,
       "_view_module": "@jupyter-widgets/base",
       "_view_module_version": "1.2.0",
       "_view_name": "StyleView",
       "description_width": ""
      }
     },
     "ca59bbb9bd4942be917266aafeeeaa8c": {
      "model_module": "@jupyter-widgets/base",
      "model_module_version": "1.2.0",
      "model_name": "LayoutModel",
      "state": {
       "_model_module": "@jupyter-widgets/base",
       "_model_module_version": "1.2.0",
       "_model_name": "LayoutModel",
       "_view_count": null,
       "_view_module": "@jupyter-widgets/base",
       "_view_module_version": "1.2.0",
       "_view_name": "LayoutView",
       "align_content": null,
       "align_items": null,
       "align_self": null,
       "border": null,
       "bottom": null,
       "display": null,
       "flex": null,
       "flex_flow": null,
       "grid_area": null,
       "grid_auto_columns": null,
       "grid_auto_flow": null,
       "grid_auto_rows": null,
       "grid_column": null,
       "grid_gap": null,
       "grid_row": null,
       "grid_template_areas": null,
       "grid_template_columns": null,
       "grid_template_rows": null,
       "height": null,
       "justify_content": null,
       "justify_items": null,
       "left": null,
       "margin": null,
       "max_height": null,
       "max_width": null,
       "min_height": null,
       "min_width": null,
       "object_fit": null,
       "object_position": null,
       "order": null,
       "overflow": null,
       "overflow_x": null,
       "overflow_y": null,
       "padding": null,
       "right": null,
       "top": null,
       "visibility": null,
       "width": null
      }
     },
     "d2d20b289ceb4186a30e2aa57bee5653": {
      "model_module": "@jupyter-widgets/base",
      "model_module_version": "1.2.0",
      "model_name": "LayoutModel",
      "state": {
       "_model_module": "@jupyter-widgets/base",
       "_model_module_version": "1.2.0",
       "_model_name": "LayoutModel",
       "_view_count": null,
       "_view_module": "@jupyter-widgets/base",
       "_view_module_version": "1.2.0",
       "_view_name": "LayoutView",
       "align_content": null,
       "align_items": null,
       "align_self": null,
       "border": null,
       "bottom": null,
       "display": null,
       "flex": null,
       "flex_flow": null,
       "grid_area": null,
       "grid_auto_columns": null,
       "grid_auto_flow": null,
       "grid_auto_rows": null,
       "grid_column": null,
       "grid_gap": null,
       "grid_row": null,
       "grid_template_areas": null,
       "grid_template_columns": null,
       "grid_template_rows": null,
       "height": null,
       "justify_content": null,
       "justify_items": null,
       "left": null,
       "margin": null,
       "max_height": null,
       "max_width": null,
       "min_height": null,
       "min_width": null,
       "object_fit": null,
       "object_position": null,
       "order": null,
       "overflow": null,
       "overflow_x": null,
       "overflow_y": null,
       "padding": null,
       "right": null,
       "top": null,
       "visibility": null,
       "width": null
      }
     },
     "d84f98d7c54146c9839b9b63155d1631": {
      "model_module": "@jupyter-widgets/base",
      "model_module_version": "1.2.0",
      "model_name": "LayoutModel",
      "state": {
       "_model_module": "@jupyter-widgets/base",
       "_model_module_version": "1.2.0",
       "_model_name": "LayoutModel",
       "_view_count": null,
       "_view_module": "@jupyter-widgets/base",
       "_view_module_version": "1.2.0",
       "_view_name": "LayoutView",
       "align_content": null,
       "align_items": null,
       "align_self": null,
       "border": null,
       "bottom": null,
       "display": null,
       "flex": null,
       "flex_flow": null,
       "grid_area": null,
       "grid_auto_columns": null,
       "grid_auto_flow": null,
       "grid_auto_rows": null,
       "grid_column": null,
       "grid_gap": null,
       "grid_row": null,
       "grid_template_areas": null,
       "grid_template_columns": null,
       "grid_template_rows": null,
       "height": null,
       "justify_content": null,
       "justify_items": null,
       "left": null,
       "margin": null,
       "max_height": null,
       "max_width": null,
       "min_height": null,
       "min_width": null,
       "object_fit": null,
       "object_position": null,
       "order": null,
       "overflow": null,
       "overflow_x": null,
       "overflow_y": null,
       "padding": null,
       "right": null,
       "top": null,
       "visibility": null,
       "width": null
      }
     },
     "e03e832f22324c7d99a7a6f07c1cfb8c": {
      "model_module": "@jupyter-widgets/controls",
      "model_module_version": "1.5.0",
      "model_name": "HTMLModel",
      "state": {
       "_dom_classes": [],
       "_model_module": "@jupyter-widgets/controls",
       "_model_module_version": "1.5.0",
       "_model_name": "HTMLModel",
       "_view_count": null,
       "_view_module": "@jupyter-widgets/controls",
       "_view_module_version": "1.5.0",
       "_view_name": "HTMLView",
       "description": "",
       "description_tooltip": null,
       "layout": "IPY_MODEL_6e6883414b2d4395b18e4735d2157d5b",
       "placeholder": "​",
       "style": "IPY_MODEL_c54ab0d09bbe4f9db83d67258a34ff64",
       "value": " 9/9 [00:00&lt;00:00, 13.61ba/s]"
      }
     },
     "e11daf4dc0a64e91a7596aa845511c7b": {
      "model_module": "@jupyter-widgets/base",
      "model_module_version": "1.2.0",
      "model_name": "LayoutModel",
      "state": {
       "_model_module": "@jupyter-widgets/base",
       "_model_module_version": "1.2.0",
       "_model_name": "LayoutModel",
       "_view_count": null,
       "_view_module": "@jupyter-widgets/base",
       "_view_module_version": "1.2.0",
       "_view_name": "LayoutView",
       "align_content": null,
       "align_items": null,
       "align_self": null,
       "border": null,
       "bottom": null,
       "display": null,
       "flex": null,
       "flex_flow": null,
       "grid_area": null,
       "grid_auto_columns": null,
       "grid_auto_flow": null,
       "grid_auto_rows": null,
       "grid_column": null,
       "grid_gap": null,
       "grid_row": null,
       "grid_template_areas": null,
       "grid_template_columns": null,
       "grid_template_rows": null,
       "height": null,
       "justify_content": null,
       "justify_items": null,
       "left": null,
       "margin": null,
       "max_height": null,
       "max_width": null,
       "min_height": null,
       "min_width": null,
       "object_fit": null,
       "object_position": null,
       "order": null,
       "overflow": null,
       "overflow_x": null,
       "overflow_y": null,
       "padding": null,
       "right": null,
       "top": null,
       "visibility": null,
       "width": null
      }
     },
     "e17ee3e32e404a6f88b6f0b4c4d7944e": {
      "model_module": "@jupyter-widgets/base",
      "model_module_version": "1.2.0",
      "model_name": "LayoutModel",
      "state": {
       "_model_module": "@jupyter-widgets/base",
       "_model_module_version": "1.2.0",
       "_model_name": "LayoutModel",
       "_view_count": null,
       "_view_module": "@jupyter-widgets/base",
       "_view_module_version": "1.2.0",
       "_view_name": "LayoutView",
       "align_content": null,
       "align_items": null,
       "align_self": null,
       "border": null,
       "bottom": null,
       "display": null,
       "flex": null,
       "flex_flow": null,
       "grid_area": null,
       "grid_auto_columns": null,
       "grid_auto_flow": null,
       "grid_auto_rows": null,
       "grid_column": null,
       "grid_gap": null,
       "grid_row": null,
       "grid_template_areas": null,
       "grid_template_columns": null,
       "grid_template_rows": null,
       "height": null,
       "justify_content": null,
       "justify_items": null,
       "left": null,
       "margin": null,
       "max_height": null,
       "max_width": null,
       "min_height": null,
       "min_width": null,
       "object_fit": null,
       "object_position": null,
       "order": null,
       "overflow": null,
       "overflow_x": null,
       "overflow_y": null,
       "padding": null,
       "right": null,
       "top": null,
       "visibility": null,
       "width": null
      }
     },
     "e2f8516014ac4f64914499d1e6b7804f": {
      "model_module": "@jupyter-widgets/controls",
      "model_module_version": "1.5.0",
      "model_name": "HTMLModel",
      "state": {
       "_dom_classes": [],
       "_model_module": "@jupyter-widgets/controls",
       "_model_module_version": "1.5.0",
       "_model_name": "HTMLModel",
       "_view_count": null,
       "_view_module": "@jupyter-widgets/controls",
       "_view_module_version": "1.5.0",
       "_view_name": "HTMLView",
       "description": "",
       "description_tooltip": null,
       "layout": "IPY_MODEL_0ccabea3026f41d6afe32e27058c10d7",
       "placeholder": "​",
       "style": "IPY_MODEL_9ba7fc44027e4dc58a380743c6e6afc3",
       "value": " 340/340 [00:33&lt;00:00,  9.41ba/s]"
      }
     },
     "e379b6f4e6f84be788f58e22497a97fb": {
      "model_module": "@jupyter-widgets/controls",
      "model_module_version": "1.5.0",
      "model_name": "DescriptionStyleModel",
      "state": {
       "_model_module": "@jupyter-widgets/controls",
       "_model_module_version": "1.5.0",
       "_model_name": "DescriptionStyleModel",
       "_view_count": null,
       "_view_module": "@jupyter-widgets/base",
       "_view_module_version": "1.2.0",
       "_view_name": "StyleView",
       "description_width": ""
      }
     },
     "e53f4127dad84a24888c9510d790626c": {
      "model_module": "@jupyter-widgets/controls",
      "model_module_version": "1.5.0",
      "model_name": "DescriptionStyleModel",
      "state": {
       "_model_module": "@jupyter-widgets/controls",
       "_model_module_version": "1.5.0",
       "_model_name": "DescriptionStyleModel",
       "_view_count": null,
       "_view_module": "@jupyter-widgets/base",
       "_view_module_version": "1.2.0",
       "_view_name": "StyleView",
       "description_width": ""
      }
     },
     "f223bcd48c8c4185b2bb752f93b7d1a1": {
      "model_module": "@jupyter-widgets/base",
      "model_module_version": "1.2.0",
      "model_name": "LayoutModel",
      "state": {
       "_model_module": "@jupyter-widgets/base",
       "_model_module_version": "1.2.0",
       "_model_name": "LayoutModel",
       "_view_count": null,
       "_view_module": "@jupyter-widgets/base",
       "_view_module_version": "1.2.0",
       "_view_name": "LayoutView",
       "align_content": null,
       "align_items": null,
       "align_self": null,
       "border": null,
       "bottom": null,
       "display": null,
       "flex": null,
       "flex_flow": null,
       "grid_area": null,
       "grid_auto_columns": null,
       "grid_auto_flow": null,
       "grid_auto_rows": null,
       "grid_column": null,
       "grid_gap": null,
       "grid_row": null,
       "grid_template_areas": null,
       "grid_template_columns": null,
       "grid_template_rows": null,
       "height": null,
       "justify_content": null,
       "justify_items": null,
       "left": null,
       "margin": null,
       "max_height": null,
       "max_width": null,
       "min_height": null,
       "min_width": null,
       "object_fit": null,
       "object_position": null,
       "order": null,
       "overflow": null,
       "overflow_x": null,
       "overflow_y": null,
       "padding": null,
       "right": null,
       "top": null,
       "visibility": null,
       "width": null
      }
     },
     "f6e9497169a04888b3cdf20ea65a7daf": {
      "model_module": "@jupyter-widgets/base",
      "model_module_version": "1.2.0",
      "model_name": "LayoutModel",
      "state": {
       "_model_module": "@jupyter-widgets/base",
       "_model_module_version": "1.2.0",
       "_model_name": "LayoutModel",
       "_view_count": null,
       "_view_module": "@jupyter-widgets/base",
       "_view_module_version": "1.2.0",
       "_view_name": "LayoutView",
       "align_content": null,
       "align_items": null,
       "align_self": null,
       "border": null,
       "bottom": null,
       "display": null,
       "flex": null,
       "flex_flow": null,
       "grid_area": null,
       "grid_auto_columns": null,
       "grid_auto_flow": null,
       "grid_auto_rows": null,
       "grid_column": null,
       "grid_gap": null,
       "grid_row": null,
       "grid_template_areas": null,
       "grid_template_columns": null,
       "grid_template_rows": null,
       "height": null,
       "justify_content": null,
       "justify_items": null,
       "left": null,
       "margin": null,
       "max_height": null,
       "max_width": null,
       "min_height": null,
       "min_width": null,
       "object_fit": null,
       "object_position": null,
       "order": null,
       "overflow": null,
       "overflow_x": null,
       "overflow_y": null,
       "padding": null,
       "right": null,
       "top": null,
       "visibility": null,
       "width": null
      }
     },
     "f80aad27e8be4ae295e76485ea5dd618": {
      "model_module": "@jupyter-widgets/controls",
      "model_module_version": "1.5.0",
      "model_name": "HTMLModel",
      "state": {
       "_dom_classes": [],
       "_model_module": "@jupyter-widgets/controls",
       "_model_module_version": "1.5.0",
       "_model_name": "HTMLModel",
       "_view_count": null,
       "_view_module": "@jupyter-widgets/controls",
       "_view_module_version": "1.5.0",
       "_view_name": "HTMLView",
       "description": "",
       "description_tooltip": null,
       "layout": "IPY_MODEL_1b6d992bf72d49558ba89fa7ce547679",
       "placeholder": "​",
       "style": "IPY_MODEL_e53f4127dad84a24888c9510d790626c",
       "value": "100%"
      }
     },
     "f9256e28047d4813b0ff3ed9067d0067": {
      "model_module": "@jupyter-widgets/controls",
      "model_module_version": "1.5.0",
      "model_name": "HBoxModel",
      "state": {
       "_dom_classes": [],
       "_model_module": "@jupyter-widgets/controls",
       "_model_module_version": "1.5.0",
       "_model_name": "HBoxModel",
       "_view_count": null,
       "_view_module": "@jupyter-widgets/controls",
       "_view_module_version": "1.5.0",
       "_view_name": "HBoxView",
       "box_style": "",
       "children": [
        "IPY_MODEL_5aab20781ee74f02871f65383015a91c",
        "IPY_MODEL_79bb53f71bf2492e92271ddc7c2a2e8a",
        "IPY_MODEL_43a9d64bb21b4796a0c23fbd3992fa51"
       ],
       "layout": "IPY_MODEL_8b9870060e2a45debe2869a4bd05fd3d"
      }
     }
    },
    "version_major": 2,
    "version_minor": 0
   }
  }
 },
 "nbformat": 4,
 "nbformat_minor": 5
}
