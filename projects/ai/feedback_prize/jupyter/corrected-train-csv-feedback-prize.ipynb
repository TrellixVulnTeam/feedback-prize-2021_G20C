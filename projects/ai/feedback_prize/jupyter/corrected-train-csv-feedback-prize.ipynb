{
 "cells": [
  {
   "cell_type": "markdown",
   "id": "ec124f0c",
   "metadata": {
    "_cell_guid": "b1076dfc-b9ad-4769-8c92-a6c4dae69d19",
    "_uuid": "8f2839f25d086af736a60e9eeb907d3b93b6e0e5",
    "papermill": {
     "duration": 0.019293,
     "end_time": "2021-12-28T23:51:52.070948",
     "exception": false,
     "start_time": "2021-12-28T23:51:52.051655",
     "status": "completed"
    },
    "tags": []
   },
   "source": [
    "### This is a process that standardizes the examples in the training set. The main issue I see is `discourse_start` and `discourse_end` being slightly off.  By standardizing and cleaning the examples, we can hopefully create consistent training data that causes an improvement in model performance.\n",
    "\n",
    "#### If `text` is the text from the file, then it would be expected that `file_text[discourse_start:discourse_end]=discourse_text` but in 44k rows, this is not the case.\n",
    "\n",
    "#### Here is an example where `file_text[discourse_start:discourse_end]!=discourse_text`\n",
    "```\n",
    "discourse_id = 1622992280991.0\n",
    "discourse_text = \"First, cell phones are a benefit and allows everyone to have access to a telephone at all times of the day.\\n\"\n",
    "file_text[discourse_start:discourse_end]=\"rst, cell phones are a benefit and allows everyone to have access to a telephone at all times of the day.\n",
    "\n",
    "K\"\n",
    "```\n",
    "After it goes through my script: \n",
    "```\n",
    "'First, cell phones are a benefit and allows everyone to have access to a telephone at all times of the day.\\n'\n",
    "```\n",
    "\n",
    "#### Here is an example straight from the csv where there is a bit at the beginning that looks unecessary:\n",
    "```\n",
    "discourse_id = 1622489430075.0\n",
    "discourse_text = '. Drivers should not be able to use cell phones in any capacity while operating a motor vehicle. '\n",
    "file_text[discourse_start:discourse_end] = '. Drivers should not be able to use cell phones in any capacity while operating a motor vehicle.\\n'\n",
    "```\n",
    "After it goes through my script: \n",
    "```\n",
    "'Drivers should not be able to use cell phones in any capacity while operating a motor vehicle.\\n'\n",
    "```\n",
    "\n",
    "# Please look at the following discussions for more information about this topic!\n",
    "- [Mystery Solved - Discrepancy Between PredictionString and DiscourseText](https://www.kaggle.com/c/feedback-prize-2021/discussion/297591)  \n",
    "- [Additional Information from Competition Hosts (rubric, dataset, raters, etc.)](https://www.kaggle.com/c/feedback-prize-2021/discussion/297688)\n",
    "- [Correcting the labels (Minor magic?)](https://www.kaggle.com/c/feedback-prize-2021/discussion/296778)\n",
    "\n",
    "\n",
    "#### Looking closer, there are many instances of a single character being swapped for another. In 30k out of 44k instances, one has `\"\\n\"` when the other has `\" \"` as the final character. That difference doesn't actually matter, but there are some other instances that have much worse alignment so this notebook will be my attempt at cleaning it up. \n",
    "\n",
    "#### After making these changes, about 16k `discourse_start` values change and 66k `discourse_end` values change. 😮\n",
    "\n",
    "#### Please leave a comment if you have questions or suggestions! (Some of the cells take a few minutes. I tried to use the easy multi-processing capabilities of `datasets` to speed it up as much as possible)\n",
    "<p style=\"font-size: 40px\">😊</p>"
   ]
  },
  {
   "cell_type": "markdown",
   "id": "8be2caa8",
   "metadata": {
    "papermill": {
     "duration": 0.01755,
     "end_time": "2021-12-28T23:51:52.107063",
     "exception": false,
     "start_time": "2021-12-28T23:51:52.089513",
     "status": "completed"
    },
    "tags": []
   },
   "source": [
    "## This section compares the text extracted using the `discourse_start` and `discourse_end` positions with `discourse_text`\n",
    "\n",
    "The text might look the same because the only difference is \" \" and \"\\n\", so below each example I indicate which index is different between the two of them and what characters they are. `[(87, ' ', '\\n')]` means that the character at index 87 is different. In `discourse_text` it has a space and in the file text it has a newline character."
   ]
  },
  {
   "cell_type": "code",
   "execution_count": 1,
   "id": "f30888f6",
   "metadata": {
    "execution": {
     "iopub.execute_input": "2021-12-28T23:51:52.157372Z",
     "iopub.status.busy": "2021-12-28T23:51:52.156362Z",
     "iopub.status.idle": "2021-12-28T23:52:41.293217Z",
     "shell.execute_reply": "2021-12-28T23:52:41.293785Z",
     "shell.execute_reply.started": "2021-12-28T23:26:13.270168Z"
    },
    "papermill": {
     "duration": 49.169271,
     "end_time": "2021-12-28T23:52:41.294136",
     "exception": false,
     "start_time": "2021-12-28T23:51:52.124865",
     "status": "completed"
    },
    "tags": []
   },
   "outputs": [
    {
     "name": "stdout",
     "output_type": "stream",
     "text": [
      "There are 44654 that are not equal\n",
      "discourse_id = 1622627671020.0\n",
      "\n",
      "***discourse_text in train.csv***\n",
      "\n",
      "Some certain areas in the United States ban phones from class rooms just because of it. \n",
      "\n",
      "--------------------\n",
      "\n",
      "***Using discourse_start and discourse_end***\n",
      "\n",
      "Some certain areas in the United States ban phones from class rooms just because of it.\n",
      "\n",
      "[(87, ' ', '\\n')]\n",
      "\n",
      "********************\n",
      "\n",
      "discourse_id = 1622627696365.0\n",
      "\n",
      "***discourse_text in train.csv***\n",
      "\n",
      "When people have phones, they know about certain apps that they have .Apps like Facebook Twitter Instagram and Snapchat. So like if a friend moves away and you want to be in contact you can still be in contact by posting videos or text messages. People always have different ways how to communicate with a phone. Phones have changed due to our generation. \n",
      "\n",
      "--------------------\n",
      "\n",
      "***Using discourse_start and discourse_end***\n",
      "\n",
      "When people have phones, they know about certain apps that they have .Apps like Facebook Twitter Instagram and Snapchat. So like if a friend moves away and you want to be in contact you can still be in contact by posting videos or text messages. People always have different ways how to communicate with a phone. Phones have changed due to our generation.\n",
      "\n",
      "[(355, ' ', '\\n')]\n",
      "\n",
      "********************\n",
      "\n",
      "discourse_id = 1622627780655.0\n",
      "\n",
      "***discourse_text in train.csv***\n",
      "\n",
      "That's why there's a thing that's called no texting while driving. That's a really important thing to remember. Some people still do it because they think It's stupid. No matter what they do they still have to obey it because that's the only way how did he save. \n",
      "\n",
      "--------------------\n",
      "\n",
      "***Using discourse_start and discourse_end***\n",
      "\n",
      "That's why there's a thing that's called no texting while driving. That's a really important thing to remember. Some people still do it because they think It's stupid. No matter what they do they still have to obey it because that's the only way how did he save.\n",
      "\n",
      "[(262, ' ', '\\n')]\n",
      "\n",
      "********************\n",
      "\n",
      "discourse_id = 1622627811787.0\n",
      "\n",
      "***discourse_text in train.csv***\n",
      "\n",
      "Sometimes on the news there is either an accident or a suicide. It might involve someone not looking where they're going or tweet that someone sent. It either injury or death. If a mysterious number says I'm going to kill you and they know where you live but you don't know the person's contact\n",
      "\n",
      ",It makes you puzzled and make you start to freak out. Which can end up really badly. \n",
      "\n",
      "--------------------\n",
      "\n",
      "***Using discourse_start and discourse_end***\n",
      "\n",
      "Sometimes on the news there is either an accident or a suicide. It might involve someone not looking where they're going or tweet that someone sent. It either injury or death. If a mysterious number says I'm going to kill you and they know where you live but you don't know the person's contact\n",
      "\n",
      ",It makes you puzzled and make you start to freak out. Which can end up really badly.\n",
      "\n",
      "[(381, ' ', '\\n')]\n",
      "\n",
      "********************\n",
      "\n",
      "discourse_id = 1622575854436.0\n",
      "\n",
      "***discourse_text in train.csv***\n",
      "\n",
      "Drivers who used their phone while operating a vehicle are most likely to get into an accident that could be fatal. \n",
      "\n",
      "--------------------\n",
      "\n",
      "***Using discourse_start and discourse_end***\n",
      "\n",
      "Drivers who used their phone while operating a vehicle are most likely to get into an accident that could be fatal.\n",
      "\n",
      "[(115, ' ', '\\n')]\n",
      "\n",
      "********************\n",
      "\n",
      "discourse_id = 1622644279790.0\n",
      "\n",
      "***discourse_text in train.csv***\n",
      "\n",
      " However, this device is taken to areas that it is irresponsible and dangerous. \n",
      "\n",
      "--------------------\n",
      "\n",
      "***Using discourse_start and discourse_end***\n",
      "\n",
      " However, this device is taken to areas that it is irresponsible and dangerous.\n",
      "\n",
      "[(79, ' ', '\\n')]\n",
      "\n",
      "********************\n",
      "\n",
      "CPU times: user 2.37 s, sys: 672 ms, total: 3.04 s\n",
      "Wall time: 49.1 s\n"
     ]
    }
   ],
   "source": [
    "%%time\n",
    "\n",
    "import re\n",
    "import string\n",
    "\n",
    "import pandas as pd\n",
    "import numpy as np\n",
    "from tqdm.notebook import tqdm\n",
    "from datasets import Dataset\n",
    "\n",
    "df = pd.read_csv(\"../input/feedback-prize-2021/train.csv\")\n",
    "\n",
    "# for each row, grab the span of text from the file using discourse_start and discourse_end\n",
    "def get_text_by_index(example):\n",
    "    id_ = example[\"id\"]\n",
    "    start = example[\"discourse_start\"]\n",
    "    end = example[\"discourse_end\"]\n",
    "    with open(f\"../input/feedback-prize-2021/train/{id_}.txt\") as fp:\n",
    "        file_text = fp.read()\n",
    "    return {\n",
    "        \"text_by_index\": file_text[int(start) : int(end)]\n",
    "    }\n",
    "\n",
    "id_ds = Dataset.from_pandas(df[[\"id\", \"discourse_start\", \"discourse_end\"]])\n",
    "\n",
    "text_ds = id_ds.map(get_text_by_index, num_proc=4)\n",
    "df[\"text_by_index\"] = text_ds[\"text_by_index\"]\n",
    "\n",
    "not_equal_texts = df[df[\"discourse_text\"] != df[\"text_by_index\"]]\n",
    "print(f\"There are {len(not_equal_texts)} that are not equal\")\n",
    "\n",
    "# Let's look at a few\n",
    "discourse_texts = not_equal_texts[\"discourse_text\"]\n",
    "file_spans = not_equal_texts[\"text_by_index\"]\n",
    "discourse_ids = not_equal_texts[\"discourse_id\"]\n",
    "\n",
    "for counter, (discourse_text, file_span, discourse_id) in enumerate(\n",
    "    zip(discourse_texts, file_spans, discourse_ids)\n",
    "):\n",
    "    if counter > 5:\n",
    "        break\n",
    "\n",
    "    if len(discourse_text) != len(file_span):\n",
    "        continue\n",
    "\n",
    "    print(\"discourse_id =\", discourse_id)\n",
    "    print(\"\\n***discourse_text in train.csv***\\n\")\n",
    "    print(discourse_text)\n",
    "    print(\"\\n\"+\"-\" * 20)\n",
    "    print(\"\\n***Using discourse_start and discourse_end***\\n\")\n",
    "    print(file_span)\n",
    "\n",
    "    # Print index of character that differs between the two texts\n",
    "    print(\n",
    "        [\n",
    "            (i, char1, char2)\n",
    "            for i, (char1, char2) in enumerate(zip(discourse_text, file_span))\n",
    "            if char1 != char2\n",
    "        ]\n",
    "    )\n",
    "\n",
    "    print(\"\\n\" + \"*\" * 20 + \"\\n\")"
   ]
  },
  {
   "cell_type": "markdown",
   "id": "7ab448e3",
   "metadata": {
    "papermill": {
     "duration": 0.017957,
     "end_time": "2021-12-28T23:52:41.330556",
     "exception": false,
     "start_time": "2021-12-28T23:52:41.312599",
     "status": "completed"
    },
    "tags": []
   },
   "source": [
    "## At first glance it just looks like newlines and spaces are getting swapped. If we only look for instances with letters being swapped, let's see what comes out"
   ]
  },
  {
   "cell_type": "code",
   "execution_count": 2,
   "id": "77846f0c",
   "metadata": {
    "execution": {
     "iopub.execute_input": "2021-12-28T23:52:41.382011Z",
     "iopub.status.busy": "2021-12-28T23:52:41.376655Z",
     "iopub.status.idle": "2021-12-28T23:52:41.410102Z",
     "shell.execute_reply": "2021-12-28T23:52:41.410648Z",
     "shell.execute_reply.started": "2021-12-28T23:27:05.977966Z"
    },
    "papermill": {
     "duration": 0.061993,
     "end_time": "2021-12-28T23:52:41.410909",
     "exception": false,
     "start_time": "2021-12-28T23:52:41.348916",
     "status": "completed"
    },
    "tags": []
   },
   "outputs": [
    {
     "name": "stdout",
     "output_type": "stream",
     "text": [
      "discourse_id = 1622992466917.0\n",
      "\n",
      "***discourse_text in train.csv***\n",
      "\n",
      "People should not be able to use cell phones while operating a vehicle.\n",
      "\n",
      "There are several reasons why and I will be discussing two of them. Cell phones are a convience to our society, but there should be a time and place for them to be used.\n",
      "\n",
      "--------------------\n",
      "\n",
      "***Using discourse_start and discourse_end***\n",
      "\n",
      "ople should not be able to use cell phones while operating a vehicle.\n",
      "\n",
      "There are several reasons why and I will be discussing two of them. Cell phones are a convience to our society, but there should be a time and place for them to be used.\n",
      "\n",
      "F\n",
      "[(0, 'P', 'o'), (1, 'e', 'p'), (2, 'o', 'l'), (3, 'p', 'e'), (4, 'l', ' '), (5, 'e', 's'), (6, ' ', 'h'), (7, 's', 'o'), (8, 'h', 'u'), (9, 'o', 'l'), (10, 'u', 'd'), (11, 'l', ' '), (12, 'd', 'n'), (13, ' ', 'o'), (14, 'n', 't'), (15, 'o', ' '), (16, 't', 'b'), (17, ' ', 'e'), (18, 'b', ' '), (19, 'e', 'a'), (20, ' ', 'b'), (21, 'a', 'l'), (22, 'b', 'e'), (23, 'l', ' '), (24, 'e', 't'), (25, ' ', 'o'), (26, 't', ' '), (27, 'o', 'u'), (28, ' ', 's'), (29, 'u', 'e'), (30, 's', ' '), (31, 'e', 'c'), (32, ' ', 'e'), (33, 'c', 'l'), (34, 'e', 'l'), (35, 'l', ' '), (36, 'l', 'p'), (37, ' ', 'h'), (38, 'p', 'o'), (39, 'h', 'n'), (40, 'o', 'e'), (41, 'n', 's'), (42, 'e', ' '), (43, 's', 'w'), (44, ' ', 'h'), (45, 'w', 'i'), (46, 'h', 'l'), (47, 'i', 'e'), (48, 'l', ' '), (49, 'e', 'o'), (50, ' ', 'p'), (51, 'o', 'e'), (52, 'p', 'r'), (53, 'e', 'a'), (54, 'r', 't'), (55, 'a', 'i'), (56, 't', 'n'), (57, 'i', 'g'), (58, 'n', ' '), (59, 'g', 'a'), (61, 'a', 'v'), (62, ' ', 'e'), (63, 'v', 'h'), (64, 'e', 'i'), (65, 'h', 'c'), (66, 'i', 'l'), (67, 'c', 'e'), (68, 'l', '.'), (69, 'e', '\\n'), (70, '.', '\\n'), (71, '\\n', 'T'), (72, '\\n', 'h'), (73, 'T', 'e'), (74, 'h', 'r'), (76, 'r', ' '), (77, 'e', 'a'), (78, ' ', 'r'), (79, 'a', 'e'), (80, 'r', ' '), (81, 'e', 's'), (82, ' ', 'e'), (83, 's', 'v'), (85, 'v', 'r'), (86, 'e', 'a'), (87, 'r', 'l'), (88, 'a', ' '), (89, 'l', 'r'), (90, ' ', 'e'), (91, 'r', 'a'), (92, 'e', 's'), (93, 'a', 'o'), (94, 's', 'n'), (95, 'o', 's'), (96, 'n', ' '), (97, 's', 'w'), (98, ' ', 'h'), (99, 'w', 'y'), (100, 'h', ' '), (101, 'y', 'a'), (102, ' ', 'n'), (103, 'a', 'd'), (104, 'n', ' '), (105, 'd', 'I'), (107, 'I', 'w'), (108, ' ', 'i'), (109, 'w', 'l'), (110, 'i', 'l'), (111, 'l', ' '), (112, 'l', 'b'), (113, ' ', 'e'), (114, 'b', ' '), (115, 'e', 'd'), (116, ' ', 'i'), (117, 'd', 's'), (118, 'i', 'c'), (119, 's', 'u'), (120, 'c', 's'), (121, 'u', 's'), (122, 's', 'i'), (123, 's', 'n'), (124, 'i', 'g'), (125, 'n', ' '), (126, 'g', 't'), (127, ' ', 'w'), (128, 't', 'o'), (129, 'w', ' '), (131, ' ', 'f'), (132, 'o', ' '), (133, 'f', 't'), (134, ' ', 'h'), (135, 't', 'e'), (136, 'h', 'm'), (137, 'e', '.'), (138, 'm', ' '), (139, '.', 'C'), (140, ' ', 'e'), (141, 'C', 'l'), (142, 'e', 'l'), (143, 'l', ' '), (144, 'l', 'p'), (145, ' ', 'h'), (146, 'p', 'o'), (147, 'h', 'n'), (148, 'o', 'e'), (149, 'n', 's'), (150, 'e', ' '), (151, 's', 'a'), (152, ' ', 'r'), (153, 'a', 'e'), (154, 'r', ' '), (155, 'e', 'a'), (157, 'a', 'c'), (158, ' ', 'o'), (159, 'c', 'n'), (160, 'o', 'v'), (161, 'n', 'i'), (162, 'v', 'e'), (163, 'i', 'n'), (164, 'e', 'c'), (165, 'n', 'e'), (166, 'c', ' '), (167, 'e', 't'), (168, ' ', 'o'), (169, 't', ' '), (171, ' ', 'u'), (172, 'o', 'r'), (173, 'u', ' '), (174, 'r', 's'), (175, ' ', 'o'), (176, 's', 'c'), (177, 'o', 'i'), (178, 'c', 'e'), (179, 'i', 't'), (180, 'e', 'y'), (181, 't', ','), (182, 'y', ' '), (183, ',', 'b'), (184, ' ', 'u'), (185, 'b', 't'), (186, 'u', ' '), (188, ' ', 'h'), (189, 't', 'e'), (190, 'h', 'r'), (192, 'r', ' '), (193, 'e', 's'), (194, ' ', 'h'), (195, 's', 'o'), (196, 'h', 'u'), (197, 'o', 'l'), (198, 'u', 'd'), (199, 'l', ' '), (200, 'd', 'b'), (201, ' ', 'e'), (202, 'b', ' '), (203, 'e', 'a'), (205, 'a', 't'), (206, ' ', 'i'), (207, 't', 'm'), (208, 'i', 'e'), (209, 'm', ' '), (210, 'e', 'a'), (211, ' ', 'n'), (212, 'a', 'd'), (213, 'n', ' '), (214, 'd', 'p'), (215, ' ', 'l'), (216, 'p', 'a'), (217, 'l', 'c'), (218, 'a', 'e'), (219, 'c', ' '), (220, 'e', 'f'), (221, ' ', 'o'), (222, 'f', 'r'), (223, 'o', ' '), (224, 'r', 't'), (225, ' ', 'h'), (226, 't', 'e'), (227, 'h', 'm'), (228, 'e', ' '), (229, 'm', 't'), (230, ' ', 'o'), (231, 't', ' '), (232, 'o', 'b'), (233, ' ', 'e'), (234, 'b', ' '), (235, 'e', 'u'), (236, ' ', 's'), (237, 'u', 'e'), (238, 's', 'd'), (239, 'e', '.'), (240, 'd', '\\n'), (241, '.', '\\n'), (242, '\\n', 'F')]\n",
      "\n",
      "********************\n",
      "\n",
      "discourse_id = 1622992280991.0\n",
      "\n",
      "***discourse_text in train.csv***\n",
      "\n",
      "First, cell phones are a benefit and allows everyone to have access to a telephone at all times of the day.\n",
      "\n",
      "--------------------\n",
      "\n",
      "***Using discourse_start and discourse_end***\n",
      "\n",
      "rst, cell phones are a benefit and allows everyone to have access to a telephone at all times of the day.\n",
      "\n",
      "K\n",
      "[(0, 'F', 'r'), (1, 'i', 's'), (2, 'r', 't'), (3, 's', ','), (4, 't', ' '), (5, ',', 'c'), (6, ' ', 'e'), (7, 'c', 'l'), (8, 'e', 'l'), (9, 'l', ' '), (10, 'l', 'p'), (11, ' ', 'h'), (12, 'p', 'o'), (13, 'h', 'n'), (14, 'o', 'e'), (15, 'n', 's'), (16, 'e', ' '), (17, 's', 'a'), (18, ' ', 'r'), (19, 'a', 'e'), (20, 'r', ' '), (21, 'e', 'a'), (23, 'a', 'b'), (24, ' ', 'e'), (25, 'b', 'n'), (27, 'n', 'f'), (28, 'e', 'i'), (29, 'f', 't'), (30, 'i', ' '), (31, 't', 'a'), (32, ' ', 'n'), (33, 'a', 'd'), (34, 'n', ' '), (35, 'd', 'a'), (36, ' ', 'l'), (37, 'a', 'l'), (38, 'l', 'o'), (39, 'l', 'w'), (40, 'o', 's'), (41, 'w', ' '), (42, 's', 'e'), (43, ' ', 'v'), (45, 'v', 'r'), (46, 'e', 'y'), (47, 'r', 'o'), (48, 'y', 'n'), (49, 'o', 'e'), (50, 'n', ' '), (51, 'e', 't'), (52, ' ', 'o'), (53, 't', ' '), (54, 'o', 'h'), (55, ' ', 'a'), (56, 'h', 'v'), (57, 'a', 'e'), (58, 'v', ' '), (59, 'e', 'a'), (60, ' ', 'c'), (61, 'a', 'c'), (62, 'c', 'e'), (63, 'c', 's'), (64, 'e', 's'), (65, 's', ' '), (66, 's', 't'), (67, ' ', 'o'), (68, 't', ' '), (69, 'o', 'a'), (71, 'a', 't'), (72, ' ', 'e'), (73, 't', 'l'), (75, 'l', 'p'), (76, 'e', 'h'), (77, 'p', 'o'), (78, 'h', 'n'), (79, 'o', 'e'), (80, 'n', ' '), (81, 'e', 'a'), (82, ' ', 't'), (83, 'a', ' '), (84, 't', 'a'), (85, ' ', 'l'), (86, 'a', 'l'), (87, 'l', ' '), (88, 'l', 't'), (89, ' ', 'i'), (90, 't', 'm'), (91, 'i', 'e'), (92, 'm', 's'), (93, 'e', ' '), (94, 's', 'o'), (95, ' ', 'f'), (96, 'o', ' '), (97, 'f', 't'), (98, ' ', 'h'), (99, 't', 'e'), (100, 'h', ' '), (101, 'e', 'd'), (102, ' ', 'a'), (103, 'd', 'y'), (104, 'a', '.'), (105, 'y', '\\n'), (106, '.', '\\n'), (107, '\\n', 'K')]\n",
      "\n",
      "********************\n",
      "\n"
     ]
    }
   ],
   "source": [
    "counter = 0\n",
    "discourse_texts = not_equal_texts[\"discourse_text\"]\n",
    "file_spans = not_equal_texts[\"text_by_index\"]\n",
    "discourse_ids = not_equal_texts[\"discourse_id\"]\n",
    "\n",
    "for discourse_text, file_span, discourse_id in zip(\n",
    "    discourse_texts, file_spans, discourse_ids\n",
    "):\n",
    "    if counter >= 2:\n",
    "        break\n",
    "\n",
    "    if len(discourse_text) != len(file_span):\n",
    "        continue\n",
    "\n",
    "    # Print index of character that differs between the two texts\n",
    "    diffs = [\n",
    "        (i, char1, char2)\n",
    "        for i, (char1, char2) in enumerate(zip(discourse_text, file_span))\n",
    "        if char1 != char2\n",
    "    ]\n",
    "\n",
    "    if not diffs[0][1].isalpha():\n",
    "        continue\n",
    "\n",
    "    print(\"discourse_id =\", discourse_id)\n",
    "    print(\"\\n***discourse_text in train.csv***\\n\")\n",
    "    print(discourse_text)\n",
    "    print(\"-\" * 20)\n",
    "    print(\"\\n***Using discourse_start and discourse_end***\\n\")\n",
    "    print(file_span)\n",
    "\n",
    "    # Print index of difference in char\n",
    "    print(diffs)\n",
    "\n",
    "    print(\"\\n\" + \"*\" * 20 + \"\\n\")\n",
    "    counter += 1\n"
   ]
  },
  {
   "cell_type": "markdown",
   "id": "44c72b9b",
   "metadata": {
    "papermill": {
     "duration": 0.019349,
     "end_time": "2021-12-28T23:52:41.450110",
     "exception": false,
     "start_time": "2021-12-28T23:52:41.430761",
     "status": "completed"
    },
    "tags": []
   },
   "source": [
    "## Ok now it looks like a few are misaligned by a few characters which makes it look like there are tons of characters that are different. Here is a counter of all the times the characters didn't align. Keep in mind that this includes the cases when one is a shifted version of another (like in `discourse_id=1622992466917.0`)"
   ]
  },
  {
   "cell_type": "code",
   "execution_count": 3,
   "id": "ae83aa4f",
   "metadata": {
    "execution": {
     "iopub.execute_input": "2021-12-28T23:52:41.514124Z",
     "iopub.status.busy": "2021-12-28T23:52:41.493296Z",
     "iopub.status.idle": "2021-12-28T23:52:42.661071Z",
     "shell.execute_reply": "2021-12-28T23:52:42.660522Z",
     "shell.execute_reply.started": "2021-12-28T23:27:06.037809Z"
    },
    "papermill": {
     "duration": 1.191717,
     "end_time": "2021-12-28T23:52:42.661231",
     "exception": false,
     "start_time": "2021-12-28T23:52:41.469514",
     "status": "completed"
    },
    "tags": []
   },
   "outputs": [
    {
     "data": {
      "text/plain": [
       "[((' ', '\\n'), 30833),\n",
       " ((' ', '.'), 10828),\n",
       " ((' ', ','), 2338),\n",
       " ((' ', 'e'), 987),\n",
       " (('e', ' '), 934),\n",
       " (('t', ' '), 824),\n",
       " ((' ', 't'), 765),\n",
       " (('o', ' '), 635),\n",
       " ((' ', 'o'), 621),\n",
       " ((' ', 'a'), 581),\n",
       " (('a', ' '), 540),\n",
       " (('n', ' '), 478),\n",
       " (('t', 'e'), 474),\n",
       " (('e', 't'), 471),\n",
       " (('s', ' '), 442),\n",
       " ((' ', 'n'), 437),\n",
       " ((' ', 's'), 410),\n",
       " ((' ', 'h'), 407),\n",
       " (('i', ' '), 403),\n",
       " (('r', ' '), 387)]"
      ]
     },
     "execution_count": 3,
     "metadata": {},
     "output_type": "execute_result"
    }
   ],
   "source": [
    "from collections import Counter\n",
    "\n",
    "all_diffs = []\n",
    "for discourse_text, file_text in not_equal_texts[[\"discourse_text\", \"text_by_index\"]].values:\n",
    "    \n",
    "    if len(discourse_text) != len(file_text):\n",
    "        continue\n",
    "        \n",
    "    all_diffs.extend([(char1, char2) for char1, char2 in zip(discourse_text, file_text) if char1!=char2])\n",
    "\n",
    "    \n",
    "counter = Counter(all_diffs)\n",
    "\n",
    "counter.most_common(20)"
   ]
  },
  {
   "cell_type": "markdown",
   "id": "0c361977",
   "metadata": {
    "papermill": {
     "duration": 0.019397,
     "end_time": "2021-12-28T23:52:42.701029",
     "exception": false,
     "start_time": "2021-12-28T23:52:42.681632",
     "status": "completed"
    },
    "tags": []
   },
   "source": [
    "## My approach to fix the incorrect `discourse_start` and `discourse_end` values\n",
    "\n",
    "The first step is to check if we can use the entire `discourse_text` to find the starting index in the file text.\n",
    "\n",
    "\n",
    "If a match with the entire `discourse_text` string is not found, I'll take the first ~20 or so characters from `discourse_text` and see where it starts in the file text and use that as the starting point.\n",
    "\n",
    "If the span starts with punctuation and then text, I'll keep increasing the start index until it isn't whitespace or punctuation. This eliminates the examples that begin with a period or comma. \n",
    "\n",
    "If the span ends in whitespace, I'll keep it. This whitespace could be beneficial for the model. \n",
    "\n",
    "If the span does not end in whitespace and the character after the span is punctuation or whitespace, extend the span to include it. Extending it can hopefully add useful information and it also standardizes the examples to have trailing whitespace but not leading whitespace. Adding the punctuation or whitespace would ***not*** change the `predictionstring` but it ***would*** change how the NER labeling is done."
   ]
  },
  {
   "cell_type": "code",
   "execution_count": 4,
   "id": "2845d236",
   "metadata": {
    "execution": {
     "iopub.execute_input": "2021-12-28T23:52:42.763483Z",
     "iopub.status.busy": "2021-12-28T23:52:42.762680Z",
     "iopub.status.idle": "2021-12-28T23:56:14.612865Z",
     "shell.execute_reply": "2021-12-28T23:56:14.613439Z",
     "shell.execute_reply.started": "2021-12-28T23:27:08.455518Z"
    },
    "papermill": {
     "duration": 211.892822,
     "end_time": "2021-12-28T23:56:14.613655",
     "exception": false,
     "start_time": "2021-12-28T23:52:42.720833",
     "status": "completed"
    },
    "tags": []
   },
   "outputs": [
    {
     "name": "stdout",
     "output_type": "stream",
     "text": [
      "CPU times: user 12.7 s, sys: 535 ms, total: 13.2 s\n",
      "Wall time: 3min 31s\n"
     ]
    }
   ],
   "source": [
    "%%time\n",
    "\n",
    "PUNCTUATION = set(\".,;\")\n",
    "\n",
    "def get_new_positions(examples):\n",
    "    \n",
    "    disc_ids = []\n",
    "    new_starts = []\n",
    "    new_ends = []\n",
    "    new_texts = []\n",
    "    \n",
    "    for id_ in examples[\"id\"]:\n",
    "    \n",
    "        with open(f\"../input/feedback-prize-2021/train/{id_}.txt\") as fp:\n",
    "            file_text = fp.read()\n",
    "\n",
    "        discourse_data = df[df[\"id\"] == id_]\n",
    "\n",
    "        discourse_ids = discourse_data[\"discourse_id\"]\n",
    "        discourse_texts = discourse_data[\"discourse_text\"]\n",
    "        discourse_starts = discourse_data[\"discourse_start\"]\n",
    "        for disc_id, disc_text, disc_start in zip(discourse_ids, discourse_texts, discourse_starts):\n",
    "            disc_text = disc_text.strip()\n",
    "\n",
    "            matches = [x for x in re.finditer(re.escape(disc_text), file_text)]\n",
    "            offset = 0\n",
    "            while len(matches) == 0 and offset < len(disc_text):\n",
    "                chunk = disc_text if offset == 0 else disc_text[:-offset]\n",
    "                matches = [x for x in re.finditer(re.escape(chunk), file_text)]\n",
    "                offset += 5\n",
    "            if offset >= len(disc_text):\n",
    "                print(f\"Could not find substring in {disc_id}\")\n",
    "                continue\n",
    "\n",
    "            # There are some instances when there are multiple matches, \n",
    "            # so we'll take the closest one to the original discourse_start\n",
    "            distances = [abs(disc_start-match.start()) for match in matches]\n",
    "\n",
    "            idx = matches[np.argmin(distances)].start()                \n",
    "\n",
    "            end_idx = idx + len(disc_text)\n",
    "\n",
    "            # if it starts with whitespace or punctuation, increase idx\n",
    "            while file_text[idx].split()==[] or file_text[idx] in PUNCTUATION:\n",
    "                idx += 1\n",
    "            \n",
    "            # if the next \n",
    "            if (end_idx < len(file_text) and \n",
    "                (file_text[end_idx-1]!=[] or file_text[end_idx-1] not in PUNCTUATION) and \n",
    "                (file_text[end_idx].split()==[] or file_text[end_idx] in PUNCTUATION)):\n",
    "                end_idx += 1\n",
    "\n",
    "            final_text = file_text[idx:end_idx]\n",
    "            \n",
    "            disc_ids.append(disc_id)\n",
    "            new_starts.append(idx)\n",
    "            new_ends.append(idx + len(final_text))\n",
    "            new_texts.append(final_text)\n",
    "            \n",
    "    return {\n",
    "        \"discourse_id\": disc_ids,\n",
    "        \"new_start\": new_starts,\n",
    "        \"new_end\": new_ends,\n",
    "        \"text_by_new_index\": new_texts,\n",
    "    }\n",
    "\n",
    "# using Dataset will make it easy to do multi-processing        \n",
    "dataset = Dataset.from_dict({\"id\": df[\"id\"].unique()})   \n",
    "\n",
    "results = dataset.map(get_new_positions, batched=True, num_proc=4, remove_columns=[\"id\"])"
   ]
  },
  {
   "cell_type": "code",
   "execution_count": 5,
   "id": "dd723d0c",
   "metadata": {
    "execution": {
     "iopub.execute_input": "2021-12-28T23:56:14.754659Z",
     "iopub.status.busy": "2021-12-28T23:56:14.657418Z",
     "iopub.status.idle": "2021-12-28T23:56:15.276192Z",
     "shell.execute_reply": "2021-12-28T23:56:15.275544Z",
     "shell.execute_reply.started": "2021-12-28T23:29:42.025478Z"
    },
    "papermill": {
     "duration": 0.642363,
     "end_time": "2021-12-28T23:56:15.276368",
     "exception": false,
     "start_time": "2021-12-28T23:56:14.634005",
     "status": "completed"
    },
    "tags": []
   },
   "outputs": [],
   "source": [
    "df[\"new_start\"] = results[\"new_start\"]\n",
    "df[\"new_end\"] = results[\"new_end\"]\n",
    "df[\"text_by_new_index\"] = results[\"text_by_new_index\"]"
   ]
  },
  {
   "cell_type": "markdown",
   "id": "52724b8f",
   "metadata": {
    "papermill": {
     "duration": 0.020074,
     "end_time": "2021-12-28T23:56:15.316712",
     "exception": false,
     "start_time": "2021-12-28T23:56:15.296638",
     "status": "completed"
    },
    "tags": []
   },
   "source": [
    "# Let's check how many of these new spans of text don't match the original `discourse_text` values\n"
   ]
  },
  {
   "cell_type": "code",
   "execution_count": 6,
   "id": "be7b72d3",
   "metadata": {
    "execution": {
     "iopub.execute_input": "2021-12-28T23:56:15.427461Z",
     "iopub.status.busy": "2021-12-28T23:56:15.426753Z",
     "iopub.status.idle": "2021-12-28T23:56:15.573369Z",
     "shell.execute_reply": "2021-12-28T23:56:15.573910Z",
     "shell.execute_reply.started": "2021-12-28T23:29:42.681668Z"
    },
    "papermill": {
     "duration": 0.236945,
     "end_time": "2021-12-28T23:56:15.574117",
     "exception": false,
     "start_time": "2021-12-28T23:56:15.337172",
     "status": "completed"
    },
    "tags": []
   },
   "outputs": [
    {
     "name": "stdout",
     "output_type": "stream",
     "text": [
      "There are 15515 files and 114144 rows with mismatched spans.\n"
     ]
    }
   ],
   "source": [
    "new_not_equal_texts = df[df[\"discourse_text\"]!=df[\"text_by_new_index\"]].copy()\n",
    "print(f\"There are {new_not_equal_texts['id'].nunique()} files and {len(new_not_equal_texts)} rows with mismatched spans.\")"
   ]
  },
  {
   "cell_type": "markdown",
   "id": "c0b9c8ff",
   "metadata": {
    "papermill": {
     "duration": 0.02018,
     "end_time": "2021-12-28T23:56:15.614955",
     "exception": false,
     "start_time": "2021-12-28T23:56:15.594775",
     "status": "completed"
    },
    "tags": []
   },
   "source": [
    "## There are still many that don't match because I deleted some leading punctuation and added some trailing punctuation\n",
    "\n",
    "#### NOTE: One row does not match because `discourse_text` did not have the PII masked for some reason (discourse_id = 1623258656795.0). "
   ]
  },
  {
   "cell_type": "code",
   "execution_count": 7,
   "id": "761613c1",
   "metadata": {
    "execution": {
     "iopub.execute_input": "2021-12-28T23:56:15.663992Z",
     "iopub.status.busy": "2021-12-28T23:56:15.659617Z",
     "iopub.status.idle": "2021-12-28T23:56:16.124162Z",
     "shell.execute_reply": "2021-12-28T23:56:16.124698Z",
     "shell.execute_reply.started": "2021-12-28T23:29:42.862521Z"
    },
    "papermill": {
     "duration": 0.488759,
     "end_time": "2021-12-28T23:56:16.124919",
     "exception": false,
     "start_time": "2021-12-28T23:56:15.636160",
     "status": "completed"
    },
    "tags": []
   },
   "outputs": [
    {
     "data": {
      "text/plain": [
       "array([[', it would help prevent conflicts such as bullying. Staying at home with the responsibility to complete work should be desirable for any person wishing to pursue their educative life, no person should feel uncomfortable or in dismay when it comes to wanting to learn. ',\n",
       "        'it would help prevent conflicts such as bullying. Staying at home with the responsibility to complete work should be desirable for any person wishing to pursue their educative life, no person should feel uncomfortable or in dismay when it comes to wanting to learn.\\n'],\n",
       "       ['. I was in it and it was just great to be able to help all of those horses. ',\n",
       "        'I was in it and it was just great to be able to help all of those horses. '],\n",
       "       [', if only one answer is given, there is not much advice to take in.',\n",
       "        'if only one answer is given, there is not much advice to take in.\\xa0'],\n",
       "       [\". Besides you're supposed to have fun outside of school and a lot of people wont be able to have fun with this new rule.\",\n",
       "        \"Besides you're supposed to have fun outside of school and a lot of people wont be able to have fun with this new rule. \"],\n",
       "       ['. The maurfatuers are trying to do it by bringing in car entertainment maybe tv. To keep things safe the entertainment would turn off as soon as the driver needs to take over.\\n',\n",
       "        'The maurfatuers are trying to do it by bringing in car entertainment maybe tv. To keep things safe the entertainment would turn off as soon as the driver needs to take over.\\n'],\n",
       "       ['. If you are a seagoing cowboy you may learn a few new things and visit new places like never before ',\n",
       "        'If you are a seagoing cowboy you may learn a few new things and visit new places like never before.'],\n",
       "       ['. In the form of a game night , party , or even a cook-out perhaps .The children who fight and feel the need to have a safe ,healthy ,smart ,concerned community should be taken care of in a fun way .Because they take time away from their fun. This will maybe even show other children how important it is to do the same and might have a positive influence on them.',\n",
       "        'In the form of a game night , party , or even a cook-out perhaps .The children who fight and feel the need to have a safe ,healthy ,smart ,concerned community should be taken care of in a fun way .Because they take time away from their fun. This will maybe even show other children how important it is to do the same and might have a positive influence on them.\\n'],\n",
       "       [', another advantage of limiting car usage is improvement of social and also awarness of other transportation.  ',\n",
       "        'another advantage of limiting car usage is improvement of social and also awarness of other transportation. '],\n",
       "       [\".Another reason a student wouldn't benefit is because they have not have the right equipment to succeed from home\",\n",
       "        \"Another reason a student wouldn't benefit is because they have not have the right equipment to succeed from home \"],\n",
       "       ['.In 2013, There was a develpment called \"Trafic Jam Assistant\"announced by BMW.This helps steer,accelerate, and break themselves. however they notify the driver when it doesn\\'t have the skills to drive it in a certin situation. It can function up to 25 mph. There are also vibrations in the drivers seat to notify of an emergancy. This can mean that the driver still needs to stay concentrated on the road when the sitiuations occur. There have beeen ideas considering useing flashlights lighs on the mwindsheilkd and other heads up display just in case. ',\n",
       "        'In 2013, There was a develpment called \"Trafic Jam Assistant\"announced by BMW.This helps steer,accelerate, and break themselves. however they notify the driver when it doesn\\'t have the skills to drive it in a certin situation. It can function up to 25 mph. There are also vibrations in the drivers seat to notify of an emergancy. This can mean that the driver still needs to stay concentrated on the road when the sitiuations occur. There have beeen ideas considering useing flashlights lighs on the mwindsheilkd and other heads up display just in case.\\n'],\n",
       "       [', a student-designed project is more beneficial since it not only leaves the student to create a more passionate product, but also gives the student more motivation and encourages the student to learn more about their project.',\n",
       "        'a student-designed project is more beneficial since it not only leaves the student to create a more passionate product, but also gives the student more motivation and encourages the student to learn more about their project.'],\n",
       "       ['. I agree that students should go to a extracurricular\\xa0activity',\n",
       "        'I agree that students should go to a extracurricular\\xa0activity '],\n",
       "       ['. On the other hand, Teachers who have been working with students for years will know how to get a student to grasp the topics. Therefore, teachers designing assignments will know how to mold the assignment into a more enjoyable experience.\\n',\n",
       "        'On the other hand, Teachers who have been working with students for years will know how to get a student to grasp the topics. Therefore, teachers designing assignments will know how to mold the assignment into a more enjoyable experience.\\n'],\n",
       "       [', you should become a Seagoing Cowboy because you would help people in need, it is a once in a lifetime expirience, and it is fun. Luke Bomberger crossed the Atlantisc Ocean 16 times and the Pacific twice to go help people in need. So, you should go and sign up to become a Seagoing Cowboy',\n",
       "        'you should become a Seagoing Cowboy because you would help people in need, it is a once in a lifetime expirience, and it is fun. Luke Bomberger crossed the Atlantisc Ocean 16 times and the Pacific twice to go help people in need. So, you should go and sign up to become a Seagoing Cowboy.'],\n",
       "       [\", the future for today's children is unlike the life they live now in school. There will no longer be someone to give them instructions for every task, and many projects are completely controlled and monitored by the person creating it.\",\n",
       "        \"the future for today's children is unlike the life they live now in school. There will no longer be someone to give them instructions for every task, and many projects are completely controlled and monitored by the person creating it. \"],\n",
       "       ['. I believe student-designed projects would be the best way to go ',\n",
       "        'I believe student-designed projects would be the best way to go '],\n",
       "       [', I strongly believe that you should ask people their opinions because it could be useful in your future. The opinion could lead you in the right pathway. It can also be very helpful advice in which you will use forever. Maybe you will even give the advice to your friends and family. I hope you agree with my opinion.',\n",
       "        'I strongly believe that you should ask people their opinions because it could be useful in your future. The opinion could lead you in the right pathway. It can also be very helpful advice in which you will use forever. Maybe you will even give the advice to your friends and family. I hope you agree with my opinion. '],\n",
       "       ['. I mean yea a C is not the best thing for you too have so you can get in a College but its better then a D. ',\n",
       "        'I mean yea a C is not the best thing for you too have so you can get in a College but its better then a D. '],\n",
       "       [\", they try to tell us what is good and bad and what we should and shouldn't do. Students and parents should be able to makes decisions that are best for the student. \",\n",
       "        \"they try to tell us what is good and bad and what we should and shouldn't do. Students and parents should be able to makes decisions that are best for the student.\\n\"],\n",
       "       [\",making a photo album of the places they traveled or things they did during the break and write a couple paragraphs detailing the pic's. On the other hand, teachers will choose something boring like reading a book and writing a report on it, or making something nobody cares about like a toy car then make them write an 1 page essay on it. But if the students get to design the project they could find a way to make it both fun and educational at the same time. \",\n",
       "        \"making a photo album of the places they traveled or things they did during the break and write a couple paragraphs detailing the pic's. On the other hand, teachers will choose something boring like reading a book and writing a report on it, or making something nobody cares about like a toy car then make them write an 1 page essay on it. But if the students get to design the project they could find a way to make it both fun and educational at the same time.\\n\"],\n",
       "       [\".If the students receive classes in home, then the\\xa0parents need to pay it for private teachers, and buy appropriate tools that the students can use, for receive a appropriate\\xa0class\\xa0.This classes are more expensive than classes in schools, and parents can save more money, to future university by their child .For example,students can attend to public schools ,and they don't need to pay anything for receive this classes .Also,the schools have a capacity teacher, and good classes that they can choose .The monetary problems, is one of the factors\\xa0why classes from home is a bad idea.\\n\",\n",
       "        \"If the students receive classes in home, then the\\xa0parents need to pay it for private teachers, and buy appropriate tools that the students can use, for receive a appropriate\\xa0class\\xa0.This classes are more expensive than classes in schools, and parents can save more money, to future university by their child .For example,students can attend to public schools ,and they don't need to pay anything for receive this classes .Also,the schools have a capacity teacher, and good classes that they can choose .The monetary problems, is one of the factors\\xa0why classes from home is a bad idea.\\n\"],\n",
       "       [', this is most important because students learn more,',\n",
       "        'this is most important because students learn more,'],\n",
       "       ['. In the bad situations you usually will not get hurt or injured. So if you are a cowboy you need to watch out for the bad situations and the terrible situations because you will get hurt. So that is why you have to watch out for the bad situations and the terrible situations. ',\n",
       "        'In the bad situations you usually will not get hurt or injured. So if you are a cowboy you need to watch out for the bad situations and the terrible situations because you will get hurt. So that is why you have to watch out for the bad situations and the terrible situations. '],\n",
       "       [', it is a problem and may cause health hazards to the person. And if someone is pushed to their limits they could do something they never would have thought ',\n",
       "        'it is a problem and may cause health hazards to the person. And if someone is pushed to their limits they could do something they never would have thought '],\n",
       "       [',by woking on time managment prepares you for future jobs. For example I have friend that does home schooling she tried going to a regular school but didnt feel comfortable her parents decided to try home schooling, she ended up loving it,she had more time do other activities ',\n",
       "        'by woking on time managment prepares you for future jobs. For example I have friend that does home schooling she tried going to a regular school but didnt feel comfortable her parents decided to try home schooling, she ended up loving it,she had more time do other activities,']],\n",
       "      dtype=object)"
      ]
     },
     "execution_count": 7,
     "metadata": {},
     "output_type": "execute_result"
    }
   ],
   "source": [
    "new_not_equal_texts[\"discourse_text\"] = new_not_equal_texts[\"discourse_text\"]\n",
    "new_not_equal_texts[\"text_by_new_index\"] = new_not_equal_texts[\"text_by_new_index\"]\n",
    "\n",
    "# if we cutoff the last few characters, they will are more likely to be equal\n",
    "old_text = new_not_equal_texts[\"discourse_text\"].str.strip().str.slice(start=2, stop=3)\n",
    "new_text = new_not_equal_texts[\"text_by_new_index\"].str.strip().str.slice(start=2, stop=3)\n",
    "\n",
    "\n",
    "char_unequal_mask = old_text!=new_text\n",
    "\n",
    "unequal_texts = new_not_equal_texts[char_unequal_mask]\n",
    "\n",
    "unequal_texts[[\"discourse_text\", \"text_by_new_index\"]].sample(n=25).values"
   ]
  },
  {
   "cell_type": "markdown",
   "id": "3166c58b",
   "metadata": {
    "papermill": {
     "duration": 0.021162,
     "end_time": "2021-12-28T23:56:16.167447",
     "exception": false,
     "start_time": "2021-12-28T23:56:16.146285",
     "status": "completed"
    },
    "tags": []
   },
   "source": [
    "## Getting predictionstring values"
   ]
  },
  {
   "cell_type": "code",
   "execution_count": 8,
   "id": "aaf437a4",
   "metadata": {
    "execution": {
     "iopub.execute_input": "2021-12-28T23:56:16.213170Z",
     "iopub.status.busy": "2021-12-28T23:56:16.212412Z",
     "iopub.status.idle": "2021-12-28T23:58:58.572489Z",
     "shell.execute_reply": "2021-12-28T23:58:58.573262Z",
     "shell.execute_reply.started": "2021-12-28T23:38:23.008552Z"
    },
    "papermill": {
     "duration": 162.385137,
     "end_time": "2021-12-28T23:58:58.573507",
     "exception": false,
     "start_time": "2021-12-28T23:56:16.188370",
     "status": "completed"
    },
    "tags": []
   },
   "outputs": [
    {
     "name": "stdout",
     "output_type": "stream",
     "text": [
      "CPU times: user 15.1 s, sys: 587 ms, total: 15.7 s\n",
      "Wall time: 2min 42s\n"
     ]
    }
   ],
   "source": [
    "%%time\n",
    "\n",
    "def find_pred_string(examples):\n",
    "    \n",
    "    new_pred_strings = []\n",
    "    discourse_ids = []\n",
    "    \n",
    "    for id_ in examples[\"id\"]:\n",
    "        with open(f\"../input/feedback-prize-2021/train/{id_}.txt\") as fp:\n",
    "            file_text = fp.read()\n",
    "\n",
    "        discourse_data = df[df[\"id\"] == id_]\n",
    "        \n",
    "        left_idxs = discourse_data[\"new_start\"]\n",
    "        right_idxs = discourse_data[\"new_end\"]\n",
    "        disc_ids = discourse_data[\"discourse_id\"]\n",
    "        \n",
    "        for left_idx, right_idx, disc_id in zip(left_idxs, right_idxs, disc_ids):\n",
    "            start_word_id = len(file_text[:left_idx].split())\n",
    "            \n",
    "            # In the event that the first character of the span is not whitespace\n",
    "            # and the character before the span is not whitespace, `len(span.split())`\n",
    "            # will need to be reduced by 1.\n",
    "            # ex: word__word___sp[an starts in the middle of a word]\n",
    "            # `len(text[:left_idx].split())==3` but it actually starts in the 3rd word \n",
    "            # which is word_id=2\n",
    "            if left_idx > 0 and file_text[left_idx].split() != [] and file_text[left_idx-1].split() != []:\n",
    "                start_word_id -= 1\n",
    "                \n",
    "            end_word_id = start_word_id + len(file_text[left_idx:right_idx].split())\n",
    "            \n",
    "            new_pred_strings.append(\" \".join(list(map(str, range(start_word_id, end_word_id)))))\n",
    "            discourse_ids.append(disc_id)\n",
    "            \n",
    "            \n",
    "    return {\n",
    "        \"new_predictionstring\": new_pred_strings,\n",
    "        \"discourse_id\": discourse_ids\n",
    "    }\n",
    "        \n",
    "\n",
    "id_ds = Dataset.from_pandas(df[[\"id\"]].drop_duplicates())\n",
    "new_pred_string_ds = id_ds.map(find_pred_string, batched=True, num_proc=4, remove_columns=id_ds.column_names)"
   ]
  },
  {
   "cell_type": "markdown",
   "id": "01a86f66",
   "metadata": {
    "papermill": {
     "duration": 0.020783,
     "end_time": "2021-12-28T23:58:58.617043",
     "exception": false,
     "start_time": "2021-12-28T23:58:58.596260",
     "status": "completed"
    },
    "tags": []
   },
   "source": [
    "# How many failed to find a substring?\n",
    "\n",
    "There should be an empty string if no intersection is found."
   ]
  },
  {
   "cell_type": "code",
   "execution_count": 9,
   "id": "5e656c7e",
   "metadata": {
    "execution": {
     "iopub.execute_input": "2021-12-28T23:58:58.663041Z",
     "iopub.status.busy": "2021-12-28T23:58:58.662399Z",
     "iopub.status.idle": "2021-12-28T23:58:59.198892Z",
     "shell.execute_reply": "2021-12-28T23:58:59.199438Z",
     "shell.execute_reply.started": "2021-12-28T23:40:18.473611Z"
    },
    "papermill": {
     "duration": 0.561458,
     "end_time": "2021-12-28T23:58:59.199650",
     "exception": false,
     "start_time": "2021-12-28T23:58:58.638192",
     "status": "completed"
    },
    "tags": []
   },
   "outputs": [
    {
     "data": {
      "text/plain": [
       "0"
      ]
     },
     "execution_count": 9,
     "metadata": {},
     "output_type": "execute_result"
    }
   ],
   "source": [
    "df[\"new_predictionstring\"] = new_pred_string_ds[\"new_predictionstring\"]\n",
    "len([x for x in new_pred_string_ds[\"new_predictionstring\"] if x == \"\"])"
   ]
  },
  {
   "cell_type": "markdown",
   "id": "577c3948",
   "metadata": {
    "execution": {
     "iopub.execute_input": "2021-12-22T22:04:26.802448Z",
     "iopub.status.busy": "2021-12-22T22:04:26.801771Z",
     "iopub.status.idle": "2021-12-22T22:04:26.839279Z",
     "shell.execute_reply": "2021-12-22T22:04:26.838392Z",
     "shell.execute_reply.started": "2021-12-22T22:04:26.802402Z"
    },
    "papermill": {
     "duration": 0.021256,
     "end_time": "2021-12-28T23:58:59.242426",
     "exception": false,
     "start_time": "2021-12-28T23:58:59.221170",
     "status": "completed"
    },
    "tags": []
   },
   "source": [
    "## Let's compare some new and old `predictionstring` values\n",
    "\n",
    "In all the examples I looked at, the `new_predictionstring` values looked better"
   ]
  },
  {
   "cell_type": "code",
   "execution_count": 10,
   "id": "8a733405",
   "metadata": {
    "execution": {
     "iopub.execute_input": "2021-12-28T23:58:59.357773Z",
     "iopub.status.busy": "2021-12-28T23:58:59.288648Z",
     "iopub.status.idle": "2021-12-28T23:58:59.574505Z",
     "shell.execute_reply": "2021-12-28T23:58:59.573820Z",
     "shell.execute_reply.started": "2021-12-28T23:41:12.058158Z"
    },
    "papermill": {
     "duration": 0.310609,
     "end_time": "2021-12-28T23:58:59.574683",
     "exception": false,
     "start_time": "2021-12-28T23:58:59.264074",
     "status": "completed"
    },
    "tags": []
   },
   "outputs": [
    {
     "name": "stdout",
     "output_type": "stream",
     "text": [
      "Old predictionstring= 106 107 108 109 110 111 112 113 114 115\n",
      "New predictionstring= 105 106 107 108 109 110 111 112 113 114\n",
      "words using old predictionstring= ['had', 'the', 'side', 'benifit', 'of', 'seeing', 'Europe', 'and', 'China.\"', 'Being']\n",
      "words using new predictionstring= ['traveling.\"i', 'had', 'the', 'side', 'benifit', 'of', 'seeing', 'Europe', 'and', 'China.\"']\n",
      "discourse text= i had the side benifit of seeing Europe and China.\" \n",
      "start_idx/end_idx= 519/571\n",
      "discourse_id= 1620242335332.0 \n",
      "\n",
      "Old predictionstring= 14 15 16 17 18 19 20 21 22 23 24 25 26 27 28 29 30\n",
      "New predictionstring= 13 14 15 16 17 18 19 20 21 22 23 24 25 26 27 28 29\n",
      "words using old predictionstring= ['states', 'are', 'left', 'in', 'the', 'dust', 'without', 'being', 'visited', 'or', 'even', 'seeing', 'anything', 'about', 'a', 'campaign.', 'Also']\n",
      "words using new predictionstring= ['states.Some', 'states', 'are', 'left', 'in', 'the', 'dust', 'without', 'being', 'visited', 'or', 'even', 'seeing', 'anything', 'about', 'a', 'campaign.']\n",
      "discourse text= Some states are left in the dust without being visited or even seeing anything about a campaign.\n",
      "start_idx/end_idx= 76/172\n",
      "discourse_id= 1615226708186.0 \n",
      "\n",
      "Old predictionstring= 60 61 62\n",
      "New predictionstring= 59 60 61\n",
      "words using old predictionstring= ['trust', 'levels,', 'and']\n",
      "words using new predictionstring= ['opinions,different', 'trust', 'levels,']\n",
      "discourse text= different trust levels,\n",
      "start_idx/end_idx= 341/364\n",
      "discourse_id= 1618063902197.0 \n",
      "\n",
      "Old predictionstring= 225 226 227 228 229 230 231 232 233 234 235 236\n",
      "New predictionstring= 224 225 226 227 228 229 230 231 232 233 234 235\n",
      "words using old predictionstring= ['people', 'now', 'that', \"can't\", 'even', 'follow', 'the', 'simple', 'rules', 'of', 'driving.', 'And']\n",
      "words using new predictionstring= [\".There's\", 'people', 'now', 'that', \"can't\", 'even', 'follow', 'the', 'simple', 'rules', 'of', 'driving.']\n",
      "discourse text= There's people now that can't even follow the simple rules of driving.\n",
      "\n",
      "start_idx/end_idx= 1199/1270\n",
      "discourse_id= 1621005234816.0 \n",
      "\n",
      "Old predictionstring= 29 30 31 32 33 34 35 36 37 38 39 40 41\n",
      "New predictionstring= 29 30 31 32 33 34 35 36 37 38 39 40\n",
      "words using old predictionstring= ['Some', \"couldn't\", 'fathom', 'the', 'amount', 'of', 'stress', 'that', 'students', 'are', 'under', 'today.', 'For']\n",
      "words using new predictionstring= ['Some', \"couldn't\", 'fathom', 'the', 'amount', 'of', 'stress', 'that', 'students', 'are', 'under', 'today.']\n",
      "discourse text= Some couldn't fathom the amount of stress that students are under today. \n",
      "start_idx/end_idx= 166/239\n",
      "discourse_id= 1616162548956.0 \n",
      "\n"
     ]
    }
   ],
   "source": [
    "different_value_mask = df[\"new_predictionstring\"] != df[\"predictionstring\"]\n",
    "\n",
    "for idx, row in df[different_value_mask].sample(n=5, random_state=18).iterrows():\n",
    "    file_text = open(f\"../input/feedback-prize-2021/train/{row.id}.txt\").read()\n",
    "    print(\"Old predictionstring=\", row.predictionstring)\n",
    "    print(\"New predictionstring=\", row.new_predictionstring)\n",
    "    print(\"words using old predictionstring=\", [x for i, x in enumerate(file_text.split()) if i in list(map(int, row.predictionstring.split()))])\n",
    "    print(\"words using new predictionstring=\", [x for i, x in enumerate(file_text.split()) if i in list(map(int, row.new_predictionstring.split()))])\n",
    "    print(\"discourse text=\", row.text_by_new_index)\n",
    "    print(f\"start_idx/end_idx= {row.new_start}/{row.new_end}\")\n",
    "    print(\"discourse_id=\",row.discourse_id, \"\\n\")"
   ]
  },
  {
   "cell_type": "markdown",
   "id": "03e19819",
   "metadata": {
    "papermill": {
     "duration": 0.021803,
     "end_time": "2021-12-28T23:58:59.621120",
     "exception": false,
     "start_time": "2021-12-28T23:58:59.599317",
     "status": "completed"
    },
    "tags": []
   },
   "source": [
    "## How many `discourse_start` and `discourse_end` values got modified?"
   ]
  },
  {
   "cell_type": "code",
   "execution_count": 11,
   "id": "2c2b5a9a",
   "metadata": {
    "execution": {
     "iopub.execute_input": "2021-12-28T23:58:59.668373Z",
     "iopub.status.busy": "2021-12-28T23:58:59.667685Z",
     "iopub.status.idle": "2021-12-28T23:58:59.720246Z",
     "shell.execute_reply": "2021-12-28T23:58:59.720775Z",
     "shell.execute_reply.started": "2021-12-28T23:41:55.142245Z"
    },
    "papermill": {
     "duration": 0.078232,
     "end_time": "2021-12-28T23:58:59.720999",
     "exception": false,
     "start_time": "2021-12-28T23:58:59.642767",
     "status": "completed"
    },
    "tags": []
   },
   "outputs": [
    {
     "name": "stdout",
     "output_type": "stream",
     "text": [
      "16278\n",
      "66128\n"
     ]
    }
   ],
   "source": [
    "print(sum(df[\"discourse_start\"].astype(int) != df[\"new_start\"]))\n",
    "print(sum(df[\"discourse_end\"].astype(int) != df[\"new_end\"]))"
   ]
  },
  {
   "cell_type": "markdown",
   "id": "35c70b3b",
   "metadata": {
    "papermill": {
     "duration": 0.022049,
     "end_time": "2021-12-28T23:58:59.765404",
     "exception": false,
     "start_time": "2021-12-28T23:58:59.743355",
     "status": "completed"
    },
    "tags": []
   },
   "source": [
    "## Looks pretty good to me!\n",
    "\n",
    "#### But please let me know if there is something I missed because I don't want the new training set to be more detrimental than the original 😱"
   ]
  },
  {
   "cell_type": "markdown",
   "id": "ef6828e6",
   "metadata": {
    "papermill": {
     "duration": 0.022031,
     "end_time": "2021-12-28T23:58:59.811055",
     "exception": false,
     "start_time": "2021-12-28T23:58:59.789024",
     "status": "completed"
    },
    "tags": []
   },
   "source": [
    "## Saving corrected information\n",
    "\n",
    "New columns are:\n",
    "- `text_by_index` (can ignore)\n",
    "- `new_start` (replaces `discourse_start`)\n",
    "- `new_end` (replaces `discourse_end`)\n",
    "- `text_by_new_index` (replaces `discourse_text`)\n",
    "- `new_predictionstring` (replaces `predictionstring`)"
   ]
  },
  {
   "cell_type": "code",
   "execution_count": 12,
   "id": "fbdcf5d4",
   "metadata": {
    "execution": {
     "iopub.execute_input": "2021-12-28T23:58:59.861358Z",
     "iopub.status.busy": "2021-12-28T23:58:59.860369Z",
     "iopub.status.idle": "2021-12-28T23:59:07.368305Z",
     "shell.execute_reply": "2021-12-28T23:59:07.367657Z",
     "shell.execute_reply.started": "2021-12-28T23:42:02.533853Z"
    },
    "papermill": {
     "duration": 7.535107,
     "end_time": "2021-12-28T23:59:07.368484",
     "exception": false,
     "start_time": "2021-12-28T23:58:59.833377",
     "status": "completed"
    },
    "tags": []
   },
   "outputs": [],
   "source": [
    "df.to_csv(\"corrected_train.csv\", index=False)"
   ]
  },
  {
   "cell_type": "markdown",
   "id": "1325f1e5",
   "metadata": {
    "papermill": {
     "duration": 0.022135,
     "end_time": "2021-12-28T23:59:07.413577",
     "exception": false,
     "start_time": "2021-12-28T23:59:07.391442",
     "status": "completed"
    },
    "tags": []
   },
   "source": [
    "### Hopefully this makes our models better! I know it can be confusing, so please comment and I'll do my best to answer your quesions!\n",
    "\n",
    "<p style=\"font-size: 40px\">😊</p>"
   ]
  }
 ],
 "metadata": {
  "kernelspec": {
   "display_name": "Python 3",
   "language": "python",
   "name": "python3"
  },
  "language_info": {
   "codemirror_mode": {
    "name": "ipython",
    "version": 3
   },
   "file_extension": ".py",
   "mimetype": "text/x-python",
   "name": "python",
   "nbconvert_exporter": "python",
   "pygments_lexer": "ipython3",
   "version": "3.7.12"
  },
  "papermill": {
   "default_parameters": {},
   "duration": 446.823699,
   "end_time": "2021-12-28T23:59:08.550721",
   "environment_variables": {},
   "exception": null,
   "input_path": "__notebook__.ipynb",
   "output_path": "__notebook__.ipynb",
   "parameters": {},
   "start_time": "2021-12-28T23:51:41.727022",
   "version": "2.3.3"
  }
 },
 "nbformat": 4,
 "nbformat_minor": 5
}
