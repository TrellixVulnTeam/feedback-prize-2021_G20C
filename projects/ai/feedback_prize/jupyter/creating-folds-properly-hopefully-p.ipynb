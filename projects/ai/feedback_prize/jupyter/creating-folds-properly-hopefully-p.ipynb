{
 "cells": [
  {
   "cell_type": "code",
   "execution_count": 7,
   "metadata": {
    "_cell_guid": "b1076dfc-b9ad-4769-8c92-a6c4dae69d19",
    "_uuid": "8f2839f25d086af736a60e9eeb907d3b93b6e0e5",
    "execution": {
     "iopub.execute_input": "2022-01-11T08:11:54.026150Z",
     "iopub.status.busy": "2022-01-11T08:11:54.025301Z",
     "iopub.status.idle": "2022-01-11T08:12:04.251228Z",
     "shell.execute_reply": "2022-01-11T08:12:04.250508Z",
     "shell.execute_reply.started": "2022-01-11T08:10:47.804753Z"
    },
    "papermill": {
     "duration": 10.238457,
     "end_time": "2022-01-11T08:12:04.251383",
     "exception": false,
     "start_time": "2022-01-11T08:11:54.012926",
     "status": "completed"
    },
    "tags": []
   },
   "outputs": [],
   "source": [
    "# !pip install -q iterative-stratification"
   ]
  },
  {
   "cell_type": "code",
   "execution_count": 8,
   "metadata": {
    "execution": {
     "iopub.execute_input": "2022-01-11T08:12:04.265417Z",
     "iopub.status.busy": "2022-01-11T08:12:04.264529Z",
     "iopub.status.idle": "2022-01-11T08:12:05.284426Z",
     "shell.execute_reply": "2022-01-11T08:12:05.284875Z",
     "shell.execute_reply.started": "2022-01-11T08:10:56.674544Z"
    },
    "papermill": {
     "duration": 1.029031,
     "end_time": "2022-01-11T08:12:05.285054",
     "exception": false,
     "start_time": "2022-01-11T08:12:04.256023",
     "status": "completed"
    },
    "tags": []
   },
   "outputs": [],
   "source": [
    "import pandas as pd\n",
    "from sklearn.model_selection import KFold\n",
    "from iterstrat.ml_stratifiers import MultilabelStratifiedKFold"
   ]
  },
  {
   "cell_type": "code",
   "execution_count": 9,
   "metadata": {
    "execution": {
     "iopub.execute_input": "2022-01-11T08:12:05.300983Z",
     "iopub.status.busy": "2022-01-11T08:12:05.300287Z",
     "iopub.status.idle": "2022-01-11T08:12:09.902357Z",
     "shell.execute_reply": "2022-01-11T08:12:09.901403Z",
     "shell.execute_reply.started": "2022-01-11T08:11:26.601473Z"
    },
    "papermill": {
     "duration": 4.613868,
     "end_time": "2022-01-11T08:12:09.902499",
     "exception": false,
     "start_time": "2022-01-11T08:12:05.288631",
     "status": "completed"
    },
    "tags": []
   },
   "outputs": [],
   "source": [
    "df = pd.read_feather(\"../input/feedback-prize-2021/train.fea\")\n",
    "if 'kfold' in df.columns:\n",
    "   df.drop('kfold', axis=1, inplace=True)\n",
    "if 'cluster' in df.columns:\n",
    "   df.drop('cluster', axis=1, inplace=True)\n",
    "dfx = pd.get_dummies(df, columns=[\"discourse_type\"]).groupby([\"id\"], as_index=False).sum()"
   ]
  },
  {
   "cell_type": "code",
   "execution_count": 10,
   "id": "bbc1e0b4",
   "metadata": {},
   "outputs": [],
   "source": [
    "cluster = pd.read_csv(\"../input/feedback-prize-2021/cluster.csv\")\n",
    "dfx = dfx.merge(cluster, on=['id'], how='left')"
   ]
  },
  {
   "cell_type": "code",
   "execution_count": 11,
   "id": "d731d98a",
   "metadata": {},
   "outputs": [
    {
     "data": {
      "text/plain": [
       "Index(['id', 'index', 'discourse_id', 'discourse_start', 'discourse_end',\n",
       "       'essay_len', 'essay_words', 'start', 'end', 'discourse_words',\n",
       "       'gap_before', 'gap_length', 'gap_end_length', 'discourse_type_id',\n",
       "       'Unnamed: 0', 'discourse_type_Claim',\n",
       "       'discourse_type_Concluding Statement', 'discourse_type_Counterclaim',\n",
       "       'discourse_type_Evidence', 'discourse_type_Lead',\n",
       "       'discourse_type_Position', 'discourse_type_Rebuttal', 'text',\n",
       "       'cluster'],\n",
       "      dtype='object')"
      ]
     },
     "execution_count": 11,
     "metadata": {},
     "output_type": "execute_result"
    }
   ],
   "source": [
    "dfx.columns"
   ]
  },
  {
   "cell_type": "code",
   "execution_count": 12,
   "id": "0a25bb2f",
   "metadata": {},
   "outputs": [],
   "source": [
    "for i in range(15):\n",
    "  dfx[f'cluster_{i}'] = dfx.cluster.apply(lambda x: int(x == i))"
   ]
  },
  {
   "cell_type": "code",
   "execution_count": 13,
   "metadata": {},
   "outputs": [
    {
     "data": {
      "text/plain": [
       "['id',\n",
       " 'discourse_type_id',\n",
       " 'discourse_type_Claim',\n",
       " 'discourse_type_Concluding Statement',\n",
       " 'discourse_type_Counterclaim',\n",
       " 'discourse_type_Evidence',\n",
       " 'discourse_type_Lead',\n",
       " 'discourse_type_Position',\n",
       " 'discourse_type_Rebuttal',\n",
       " 'cluster',\n",
       " 'cluster_0',\n",
       " 'cluster_1',\n",
       " 'cluster_2',\n",
       " 'cluster_3',\n",
       " 'cluster_4',\n",
       " 'cluster_5',\n",
       " 'cluster_6',\n",
       " 'cluster_7',\n",
       " 'cluster_8',\n",
       " 'cluster_9',\n",
       " 'cluster_10',\n",
       " 'cluster_11',\n",
       " 'cluster_12',\n",
       " 'cluster_13',\n",
       " 'cluster_14']"
      ]
     },
     "execution_count": 13,
     "metadata": {},
     "output_type": "execute_result"
    }
   ],
   "source": [
    "cols = [c for c in dfx.columns if c.startswith('cluster') or c.startswith(\"discourse_type_\") or c == \"id\" and c != \"discourse_type_num\"]\n",
    "cols"
   ]
  },
  {
   "cell_type": "code",
   "execution_count": 14,
   "metadata": {},
   "outputs": [
    {
     "name": "stdout",
     "output_type": "stream",
     "text": [
      "12485 3109\n",
      "12471 3123\n",
      "12479 3115\n",
      "12475 3119\n",
      "12466 3128\n",
      "3    29027\n",
      "1    28946\n",
      "2    28876\n",
      "0    28773\n",
      "4    28671\n",
      "Name: kfold, dtype: int64\n"
     ]
    }
   ],
   "source": [
    "dfx = dfx[cols]\n",
    "seed = 20201021\n",
    "mskf = MultilabelStratifiedKFold(n_splits=5, shuffle=True, random_state=seed)\n",
    "labels = [c for c in dfx.columns if (c != \"id\" and c != \"cluster\")]\n",
    "dfx_labels = dfx[labels]\n",
    "dfx[\"kfold\"] = -1\n",
    "\n",
    "for fold, (trn_, val_) in enumerate(mskf.split(dfx, dfx_labels)):\n",
    "  print(len(trn_), len(val_))\n",
    "  dfx.loc[val_, \"kfold\"] = fold\n",
    "\n",
    "df = df.merge(dfx[[\"id\", \"kfold\", \"cluster\"]], on=\"id\", how=\"left\")\n",
    "print(df.kfold.value_counts())\n",
    "df.to_csv(\"../input/feedback-prize-2021/train_folds.csv\", index=False)"
   ]
  },
  {
   "cell_type": "code",
   "execution_count": 15,
   "id": "4e7e6d66",
   "metadata": {},
   "outputs": [],
   "source": [
    "x = df[['id', 'kfold', 'cluster']].drop_duplicates()"
   ]
  },
  {
   "cell_type": "code",
   "execution_count": 17,
   "id": "86498e5c",
   "metadata": {},
   "outputs": [
    {
     "data": {
      "text/html": [
       "<div>\n",
       "<style scoped>\n",
       "    .dataframe tbody tr th:only-of-type {\n",
       "        vertical-align: middle;\n",
       "    }\n",
       "\n",
       "    .dataframe tbody tr th {\n",
       "        vertical-align: top;\n",
       "    }\n",
       "\n",
       "    .dataframe thead th {\n",
       "        text-align: right;\n",
       "    }\n",
       "</style>\n",
       "<table border=\"1\" class=\"dataframe\">\n",
       "  <thead>\n",
       "    <tr style=\"text-align: right;\">\n",
       "      <th>discourse_type</th>\n",
       "      <th>Claim</th>\n",
       "      <th>Concluding Statement</th>\n",
       "      <th>Counterclaim</th>\n",
       "      <th>Evidence</th>\n",
       "      <th>Lead</th>\n",
       "      <th>Position</th>\n",
       "      <th>Rebuttal</th>\n",
       "    </tr>\n",
       "    <tr>\n",
       "      <th>kfold</th>\n",
       "      <th></th>\n",
       "      <th></th>\n",
       "      <th></th>\n",
       "      <th></th>\n",
       "      <th></th>\n",
       "      <th></th>\n",
       "      <th></th>\n",
       "    </tr>\n",
       "  </thead>\n",
       "  <tbody>\n",
       "    <tr>\n",
       "      <th>0</th>\n",
       "      <td>9988</td>\n",
       "      <td>2705</td>\n",
       "      <td>1168</td>\n",
       "      <td>9114</td>\n",
       "      <td>1861</td>\n",
       "      <td>3080</td>\n",
       "      <td>857</td>\n",
       "    </tr>\n",
       "    <tr>\n",
       "      <th>1</th>\n",
       "      <td>10061</td>\n",
       "      <td>2696</td>\n",
       "      <td>1187</td>\n",
       "      <td>9172</td>\n",
       "      <td>1861</td>\n",
       "      <td>3080</td>\n",
       "      <td>889</td>\n",
       "    </tr>\n",
       "    <tr>\n",
       "      <th>2</th>\n",
       "      <td>10023</td>\n",
       "      <td>2700</td>\n",
       "      <td>1168</td>\n",
       "      <td>9168</td>\n",
       "      <td>1862</td>\n",
       "      <td>3078</td>\n",
       "      <td>877</td>\n",
       "    </tr>\n",
       "    <tr>\n",
       "      <th>3</th>\n",
       "      <td>10202</td>\n",
       "      <td>2705</td>\n",
       "      <td>1149</td>\n",
       "      <td>9166</td>\n",
       "      <td>1861</td>\n",
       "      <td>3087</td>\n",
       "      <td>857</td>\n",
       "    </tr>\n",
       "    <tr>\n",
       "      <th>4</th>\n",
       "      <td>9934</td>\n",
       "      <td>2699</td>\n",
       "      <td>1145</td>\n",
       "      <td>9082</td>\n",
       "      <td>1860</td>\n",
       "      <td>3094</td>\n",
       "      <td>857</td>\n",
       "    </tr>\n",
       "  </tbody>\n",
       "</table>\n",
       "</div>"
      ],
      "text/plain": [
       "discourse_type  Claim  Concluding Statement  Counterclaim  Evidence  Lead  \\\n",
       "kfold                                                                       \n",
       "0                9988                  2705          1168      9114  1861   \n",
       "1               10061                  2696          1187      9172  1861   \n",
       "2               10023                  2700          1168      9168  1862   \n",
       "3               10202                  2705          1149      9166  1861   \n",
       "4                9934                  2699          1145      9082  1860   \n",
       "\n",
       "discourse_type  Position  Rebuttal  \n",
       "kfold                               \n",
       "0                   3080       857  \n",
       "1                   3080       889  \n",
       "2                   3078       877  \n",
       "3                   3087       857  \n",
       "4                   3094       857  "
      ]
     },
     "metadata": {},
     "output_type": "display_data"
    }
   ],
   "source": [
    "display(df.groupby([\"kfold\", 'discourse_type'], as_index=False).count().pivot(index='discourse_type', columns='kfold', values='id').T)"
   ]
  },
  {
   "cell_type": "code",
   "execution_count": 18,
   "id": "89cb3574",
   "metadata": {},
   "outputs": [
    {
     "data": {
      "text/html": [
       "<div>\n",
       "<style scoped>\n",
       "    .dataframe tbody tr th:only-of-type {\n",
       "        vertical-align: middle;\n",
       "    }\n",
       "\n",
       "    .dataframe tbody tr th {\n",
       "        vertical-align: top;\n",
       "    }\n",
       "\n",
       "    .dataframe thead th {\n",
       "        text-align: right;\n",
       "    }\n",
       "</style>\n",
       "<table border=\"1\" class=\"dataframe\">\n",
       "  <thead>\n",
       "    <tr style=\"text-align: right;\">\n",
       "      <th>cluster</th>\n",
       "      <th>0</th>\n",
       "      <th>1</th>\n",
       "      <th>2</th>\n",
       "      <th>3</th>\n",
       "      <th>4</th>\n",
       "      <th>5</th>\n",
       "      <th>6</th>\n",
       "      <th>7</th>\n",
       "      <th>8</th>\n",
       "      <th>9</th>\n",
       "      <th>10</th>\n",
       "      <th>11</th>\n",
       "      <th>12</th>\n",
       "      <th>13</th>\n",
       "      <th>14</th>\n",
       "    </tr>\n",
       "    <tr>\n",
       "      <th>kfold</th>\n",
       "      <th></th>\n",
       "      <th></th>\n",
       "      <th></th>\n",
       "      <th></th>\n",
       "      <th></th>\n",
       "      <th></th>\n",
       "      <th></th>\n",
       "      <th></th>\n",
       "      <th></th>\n",
       "      <th></th>\n",
       "      <th></th>\n",
       "      <th></th>\n",
       "      <th></th>\n",
       "      <th></th>\n",
       "      <th></th>\n",
       "    </tr>\n",
       "  </thead>\n",
       "  <tbody>\n",
       "    <tr>\n",
       "      <th>0</th>\n",
       "      <td>168</td>\n",
       "      <td>300</td>\n",
       "      <td>185</td>\n",
       "      <td>220</td>\n",
       "      <td>363</td>\n",
       "      <td>277</td>\n",
       "      <td>138</td>\n",
       "      <td>164</td>\n",
       "      <td>140</td>\n",
       "      <td>297</td>\n",
       "      <td>166</td>\n",
       "      <td>195</td>\n",
       "      <td>175</td>\n",
       "      <td>169</td>\n",
       "      <td>152</td>\n",
       "    </tr>\n",
       "    <tr>\n",
       "      <th>1</th>\n",
       "      <td>168</td>\n",
       "      <td>313</td>\n",
       "      <td>186</td>\n",
       "      <td>220</td>\n",
       "      <td>363</td>\n",
       "      <td>276</td>\n",
       "      <td>137</td>\n",
       "      <td>164</td>\n",
       "      <td>141</td>\n",
       "      <td>298</td>\n",
       "      <td>167</td>\n",
       "      <td>195</td>\n",
       "      <td>175</td>\n",
       "      <td>168</td>\n",
       "      <td>152</td>\n",
       "    </tr>\n",
       "    <tr>\n",
       "      <th>2</th>\n",
       "      <td>168</td>\n",
       "      <td>304</td>\n",
       "      <td>185</td>\n",
       "      <td>220</td>\n",
       "      <td>363</td>\n",
       "      <td>277</td>\n",
       "      <td>137</td>\n",
       "      <td>164</td>\n",
       "      <td>141</td>\n",
       "      <td>298</td>\n",
       "      <td>167</td>\n",
       "      <td>195</td>\n",
       "      <td>176</td>\n",
       "      <td>168</td>\n",
       "      <td>152</td>\n",
       "    </tr>\n",
       "    <tr>\n",
       "      <th>3</th>\n",
       "      <td>168</td>\n",
       "      <td>309</td>\n",
       "      <td>186</td>\n",
       "      <td>220</td>\n",
       "      <td>363</td>\n",
       "      <td>276</td>\n",
       "      <td>137</td>\n",
       "      <td>163</td>\n",
       "      <td>141</td>\n",
       "      <td>298</td>\n",
       "      <td>167</td>\n",
       "      <td>195</td>\n",
       "      <td>175</td>\n",
       "      <td>169</td>\n",
       "      <td>152</td>\n",
       "    </tr>\n",
       "    <tr>\n",
       "      <th>4</th>\n",
       "      <td>168</td>\n",
       "      <td>318</td>\n",
       "      <td>186</td>\n",
       "      <td>220</td>\n",
       "      <td>362</td>\n",
       "      <td>277</td>\n",
       "      <td>137</td>\n",
       "      <td>164</td>\n",
       "      <td>140</td>\n",
       "      <td>298</td>\n",
       "      <td>167</td>\n",
       "      <td>195</td>\n",
       "      <td>175</td>\n",
       "      <td>169</td>\n",
       "      <td>152</td>\n",
       "    </tr>\n",
       "  </tbody>\n",
       "</table>\n",
       "</div>"
      ],
      "text/plain": [
       "cluster   0    1    2    3    4    5    6    7    8    9    10   11   12   13  \\\n",
       "kfold                                                                           \n",
       "0        168  300  185  220  363  277  138  164  140  297  166  195  175  169   \n",
       "1        168  313  186  220  363  276  137  164  141  298  167  195  175  168   \n",
       "2        168  304  185  220  363  277  137  164  141  298  167  195  176  168   \n",
       "3        168  309  186  220  363  276  137  163  141  298  167  195  175  169   \n",
       "4        168  318  186  220  362  277  137  164  140  298  167  195  175  169   \n",
       "\n",
       "cluster   14  \n",
       "kfold         \n",
       "0        152  \n",
       "1        152  \n",
       "2        152  \n",
       "3        152  \n",
       "4        152  "
      ]
     },
     "metadata": {},
     "output_type": "display_data"
    }
   ],
   "source": [
    "display(x.groupby([\"kfold\", 'cluster'], as_index=False).count().pivot(index='cluster', columns='kfold', values='id').T)"
   ]
  },
  {
   "cell_type": "code",
   "execution_count": 19,
   "id": "0cc56219",
   "metadata": {},
   "outputs": [],
   "source": [
    "x.to_csv(\"../input/feedback-prize-2021/folds.csv\")"
   ]
  },
  {
   "cell_type": "code",
   "execution_count": null,
   "id": "bdf434a1",
   "metadata": {},
   "outputs": [],
   "source": []
  }
 ],
 "metadata": {
  "kernelspec": {
   "display_name": "Python 3",
   "language": "python",
   "name": "python3"
  },
  "language_info": {
   "codemirror_mode": {
    "name": "ipython",
    "version": 3
   },
   "file_extension": ".py",
   "mimetype": "text/x-python",
   "name": "python",
   "nbconvert_exporter": "python",
   "pygments_lexer": "ipython3",
   "version": "3.7.9"
  },
  "papermill": {
   "default_parameters": {},
   "duration": 25.017425,
   "end_time": "2022-01-11T08:12:10.615418",
   "environment_variables": {},
   "exception": null,
   "input_path": "__notebook__.ipynb",
   "output_path": "__notebook__.ipynb",
   "parameters": {},
   "start_time": "2022-01-11T08:11:45.597993",
   "version": "2.3.3"
  }
 },
 "nbformat": 4,
 "nbformat_minor": 5
}
