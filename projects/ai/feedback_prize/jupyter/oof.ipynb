{
 "cells": [
  {
   "cell_type": "code",
   "execution_count": 1,
   "metadata": {},
   "outputs": [],
   "source": [
    "import numpy as np\n",
    "import pandas as pd\n",
    "import random\n",
    "import itertools\n",
    "import matplotlib.pyplot as plt\n",
    "import plotly.express as px\n",
    "import glob\n",
    "import spacy\n",
    "import sklearn\n",
    "from collections import defaultdict\n",
    "import matplotlib.pyplot as plt\n",
    "import matplotlib\n",
    "import io\n",
    "import base64\n",
    "from IPython.display import display_html\n",
    "from itertools import chain, cycle\n",
    "import sys\n",
    "sys.path.append('../../../../utils')\n",
    "sys.path.append('..')\n",
    "import gezi\n",
    "from gezi import tqdm\n",
    "from src.eval import *\n",
    "from src.util import *\n",
    "from src import config\n",
    "from src.visualize import *\n",
    "pd.set_option('display.float_format', lambda x: '%.02f' % x)"
   ]
  },
  {
   "cell_type": "code",
   "execution_count": 2,
   "metadata": {},
   "outputs": [],
   "source": [
    "# https://www.kaggle.com/kaggleqrdl/oof-vrs-valid-eda"
   ]
  },
  {
   "cell_type": "code",
   "execution_count": 3,
   "metadata": {},
   "outputs": [],
   "source": [
    "#https://stackoverflow.com/questions/38783027/jupyter-notebook-display-two-pandas-tables-side-by-side\n",
    "def display_side_by_side(*args):\n",
    "  tds = \"text-align:left; border-left: 1px solid #000;border-right: 1px solid #000;\"\n",
    "  html_str=''\n",
    "  wd = int(100/len(args))\n",
    "  for df, title in args:\n",
    "    html_str+=f'<td style=\"{tds}min-width: {wd}%;width: {wd}%;\">'\n",
    "    html_str+=f'<b>{title}</b><br>{df}'\n",
    "    html_str+='</td>'\n",
    "  display_html(\"<table style='border: 1px solid black;'>\"+html_str+\"</table>\",raw=True)"
   ]
  },
  {
   "cell_type": "code",
   "execution_count": 4,
   "metadata": {},
   "outputs": [],
   "source": [
    "#stolen from https://www.kaggle.com/raghavendrakotala/fine-tunned-on-roberta-base-as-ner-problem-0-533 \n",
    "def oof_init(validcsv='../input/feedback-prize-2021/train.csv', oofcsv='../working/offline/44/valid_pred.csv', feedbackdir=\"../input/feedback-prize-2021\"):\n",
    "  global train_texts, valid, oof\n",
    "  train_names, train_texts = [], [] \n",
    "  train_texts = pd.read_feather(f'{feedbackdir}/texts.fea') \n",
    "  #import dataset with valid (subset of train, holdout for CV) and oof (predictions for valid set)\n",
    "  valid = pd.read_csv(validcsv)\n",
    "  oof = pd.read_csv(oofcsv)\n",
    "  oof['oof_discourse_id'] = range(len(oof)) #i find this more clear than index\n",
    "  oof[\"pred_len\"] = oof[\"predictionstring\"].apply(lambda x: len(x.split()))\n",
    "  valid[\"pred_len\"] = valid[\"predictionstring\"].apply(lambda x: len(x.split()))\n",
    "  oof[\"start\"] = oof[\"predictionstring\"].apply(lambda x: int(x.split()[0]))\n",
    "  oof[\"end\"] = oof[\"predictionstring\"].apply(lambda x: int(x.split()[-1]))\n",
    "  valid[\"start\"] = valid[\"predictionstring\"].apply(lambda x: int(x.split()[0]))\n",
    "  valid[\"end\"] = valid[\"predictionstring\"].apply(lambda x: int(x.split()[-1]))\n",
    "  valid[\"pred_len\"] = valid[\"predictionstring\"].apply(lambda x: len(x.split()))\n",
    "  print(f\"Train Texts Shape {np.shape(train_texts)}  OOF Shape {np.shape(oof)} Valid Shape {np.shape(valid)} \")\n",
    "  return oof, valid, train_texts"
   ]
  },
  {
   "cell_type": "code",
   "execution_count": 5,
   "metadata": {},
   "outputs": [],
   "source": [
    "def show_lengths(oof, valid):\n",
    "  def get_html(train, dtn):\n",
    "    #print(\"get_html:\", train.keys())\n",
    "    df = train.groupby(dtn).mean()[['pred_len', 'start', 'end']]\n",
    "    #display(df)\n",
    "    df.insert(0, \"count\", train.groupby(dtn).count()['id'])\n",
    "    df.insert(0, \"perc\", df['count']/len(train))\n",
    "    #print(df.keys())\n",
    "    df.loc['Column_TotalOrMean'] = df.sum(numeric_only=True, axis=0)\n",
    "    df.loc['Column_TotalOrMean']['pred_len'] = df['pred_len'].mean()\n",
    "    df.loc['Column_TotalOrMean']['start'] = df['start'].mean()\n",
    "    df.loc['Column_TotalOrMean']['end'] = df['end'].mean()\n",
    "    return df.to_html()\n",
    "  display_side_by_side((get_html(oof, \"class\"), \"oof class perc, counts and avg lengths \"), (get_html(valid, \"discourse_type\"), \"valid type perc, counts and avg lengths\"))"
   ]
  },
  {
   "cell_type": "code",
   "execution_count": 6,
   "metadata": {},
   "outputs": [
    {
     "name": "stdout",
     "output_type": "stream",
     "text": [
      "Train Texts Shape (15594, 3)  OOF Shape (140095, 7) Valid Shape (144293, 11) \n"
     ]
    }
   ],
   "source": [
    "oof, valid, train_texts = oof_init()"
   ]
  },
  {
   "cell_type": "code",
   "execution_count": 7,
   "metadata": {},
   "outputs": [
    {
     "data": {
      "text/html": [
       "<table style='border: 1px solid black;'><td style=\"text-align:left; border-left: 1px solid #000;border-right: 1px solid #000;min-width: 50%;width: 50%;\"><b>oof class perc, counts and avg lengths </b><br><table border=\"1\" class=\"dataframe\">\n",
       "  <thead>\n",
       "    <tr style=\"text-align: right;\">\n",
       "      <th></th>\n",
       "      <th>perc</th>\n",
       "      <th>count</th>\n",
       "      <th>pred_len</th>\n",
       "      <th>start</th>\n",
       "      <th>end</th>\n",
       "    </tr>\n",
       "    <tr>\n",
       "      <th>class</th>\n",
       "      <th></th>\n",
       "      <th></th>\n",
       "      <th></th>\n",
       "      <th></th>\n",
       "      <th></th>\n",
       "    </tr>\n",
       "  </thead>\n",
       "  <tbody>\n",
       "    <tr>\n",
       "      <th>Claim</th>\n",
       "      <td>0.33</td>\n",
       "      <td>46716.00</td>\n",
       "      <td>16.54</td>\n",
       "      <td>129.42</td>\n",
       "      <td>144.96</td>\n",
       "    </tr>\n",
       "    <tr>\n",
       "      <th>Concluding Statement</th>\n",
       "      <td>0.10</td>\n",
       "      <td>13821.00</td>\n",
       "      <td>63.18</td>\n",
       "      <td>375.15</td>\n",
       "      <td>437.33</td>\n",
       "    </tr>\n",
       "    <tr>\n",
       "      <th>Counterclaim</th>\n",
       "      <td>0.04</td>\n",
       "      <td>5399.00</td>\n",
       "      <td>22.65</td>\n",
       "      <td>253.71</td>\n",
       "      <td>275.36</td>\n",
       "    </tr>\n",
       "    <tr>\n",
       "      <th>Evidence</th>\n",
       "      <td>0.32</td>\n",
       "      <td>45502.00</td>\n",
       "      <td>82.21</td>\n",
       "      <td>190.16</td>\n",
       "      <td>271.35</td>\n",
       "    </tr>\n",
       "    <tr>\n",
       "      <th>Lead</th>\n",
       "      <td>0.07</td>\n",
       "      <td>9300.00</td>\n",
       "      <td>51.50</td>\n",
       "      <td>1.36</td>\n",
       "      <td>51.86</td>\n",
       "    </tr>\n",
       "    <tr>\n",
       "      <th>Position</th>\n",
       "      <td>0.11</td>\n",
       "      <td>15383.00</td>\n",
       "      <td>16.70</td>\n",
       "      <td>41.70</td>\n",
       "      <td>57.39</td>\n",
       "    </tr>\n",
       "    <tr>\n",
       "      <th>Rebuttal</th>\n",
       "      <td>0.03</td>\n",
       "      <td>3974.00</td>\n",
       "      <td>24.73</td>\n",
       "      <td>298.64</td>\n",
       "      <td>322.37</td>\n",
       "    </tr>\n",
       "    <tr>\n",
       "      <th>Column_TotalOrMean</th>\n",
       "      <td>1.00</td>\n",
       "      <td>140095.00</td>\n",
       "      <td>69.38</td>\n",
       "      <td>322.53</td>\n",
       "      <td>390.15</td>\n",
       "    </tr>\n",
       "  </tbody>\n",
       "</table></td><td style=\"text-align:left; border-left: 1px solid #000;border-right: 1px solid #000;min-width: 50%;width: 50%;\"><b>valid type perc, counts and avg lengths</b><br><table border=\"1\" class=\"dataframe\">\n",
       "  <thead>\n",
       "    <tr style=\"text-align: right;\">\n",
       "      <th></th>\n",
       "      <th>perc</th>\n",
       "      <th>count</th>\n",
       "      <th>pred_len</th>\n",
       "      <th>start</th>\n",
       "      <th>end</th>\n",
       "    </tr>\n",
       "    <tr>\n",
       "      <th>discourse_type</th>\n",
       "      <th></th>\n",
       "      <th></th>\n",
       "      <th></th>\n",
       "      <th></th>\n",
       "      <th></th>\n",
       "    </tr>\n",
       "  </thead>\n",
       "  <tbody>\n",
       "    <tr>\n",
       "      <th>Claim</th>\n",
       "      <td>0.35</td>\n",
       "      <td>50208.00</td>\n",
       "      <td>17.42</td>\n",
       "      <td>140.78</td>\n",
       "      <td>157.20</td>\n",
       "    </tr>\n",
       "    <tr>\n",
       "      <th>Concluding Statement</th>\n",
       "      <td>0.09</td>\n",
       "      <td>13505.00</td>\n",
       "      <td>61.30</td>\n",
       "      <td>377.15</td>\n",
       "      <td>437.45</td>\n",
       "    </tr>\n",
       "    <tr>\n",
       "      <th>Counterclaim</th>\n",
       "      <td>0.04</td>\n",
       "      <td>5817.00</td>\n",
       "      <td>24.04</td>\n",
       "      <td>256.21</td>\n",
       "      <td>279.24</td>\n",
       "    </tr>\n",
       "    <tr>\n",
       "      <th>Evidence</th>\n",
       "      <td>0.32</td>\n",
       "      <td>45702.00</td>\n",
       "      <td>77.37</td>\n",
       "      <td>192.02</td>\n",
       "      <td>268.39</td>\n",
       "    </tr>\n",
       "    <tr>\n",
       "      <th>Lead</th>\n",
       "      <td>0.06</td>\n",
       "      <td>9305.00</td>\n",
       "      <td>51.95</td>\n",
       "      <td>0.95</td>\n",
       "      <td>51.90</td>\n",
       "    </tr>\n",
       "    <tr>\n",
       "      <th>Position</th>\n",
       "      <td>0.11</td>\n",
       "      <td>15419.00</td>\n",
       "      <td>18.25</td>\n",
       "      <td>59.01</td>\n",
       "      <td>76.26</td>\n",
       "    </tr>\n",
       "    <tr>\n",
       "      <th>Rebuttal</th>\n",
       "      <td>0.03</td>\n",
       "      <td>4337.00</td>\n",
       "      <td>28.09</td>\n",
       "      <td>301.20</td>\n",
       "      <td>328.29</td>\n",
       "    </tr>\n",
       "    <tr>\n",
       "      <th>Column_TotalOrMean</th>\n",
       "      <td>1.00</td>\n",
       "      <td>144293.00</td>\n",
       "      <td>69.60</td>\n",
       "      <td>331.83</td>\n",
       "      <td>399.68</td>\n",
       "    </tr>\n",
       "  </tbody>\n",
       "</table></td></table>"
      ]
     },
     "metadata": {},
     "output_type": "display_data"
    }
   ],
   "source": [
    "show_lengths(oof, valid)"
   ]
  },
  {
   "cell_type": "code",
   "execution_count": 8,
   "metadata": {},
   "outputs": [
    {
     "data": {
      "application/vnd.jupyter.widget-view+json": {
       "model_id": "824f27b69fca4698baefb2a5caf6ed9f",
       "version_major": 2,
       "version_minor": 0
      },
      "text/plain": [
       "calc_f1:   0%|          | 0/7 [00:00<?, ?it/s]"
      ]
     },
     "metadata": {},
     "output_type": "display_data"
    }
   ],
   "source": [
    "res = calc_metrics(valid, oof)"
   ]
  },
  {
   "cell_type": "code",
   "execution_count": 9,
   "metadata": {},
   "outputs": [
    {
     "data": {
      "text/plain": [
       "{'f1/Overall': 0.7133371193737977,\n",
       " 'f1/Claim': 0.6788470267816614,\n",
       " 'acc/Claim': 0.7041713931040386,\n",
       " 'recall/Claim': 0.6552809257304467,\n",
       " 'cm/Claim': array([[32901, 13822],\n",
       "        [17308, 29415]]),\n",
       " 'f1/Evidence': 0.7771479942552049,\n",
       " 'acc/Evidence': 0.7787958690397715,\n",
       " 'recall/Evidence': 0.7755070783099578,\n",
       " 'cm/Evidence': array([[35443, 10067],\n",
       "        [10260, 35250]]),\n",
       " 'f1/Position': 0.7302947669133879,\n",
       " 'acc/Position': 0.7311492459698388,\n",
       " 'recall/Position': 0.7294422827496757,\n",
       " 'cm/Position': array([[11248,  4136],\n",
       "        [ 4172, 11212]]),\n",
       " 'f1/Concluding Statement': 0.8717066744730679,\n",
       " 'acc/Concluding Statement': 0.8617421501953407,\n",
       " 'recall/Concluding Statement': 0.8819043388123797,\n",
       " 'cm/Concluding Statement': array([[11911,  1911],\n",
       "        [ 1595, 12227]]),\n",
       " 'f1/Lead': 0.8386091255978932,\n",
       " 'acc/Lead': 0.8388345339210838,\n",
       " 'recall/Lead': 0.8383838383838383,\n",
       " 'cm/Lead': array([[7802, 1499],\n",
       "        [1504, 7797]]),\n",
       " 'f1/Counterclaim': 0.5888750222856124,\n",
       " 'acc/Counterclaim': 0.6116666666666667,\n",
       " 'recall/Counterclaim': 0.5677208662770712,\n",
       " 'cm/Counterclaim': array([[3303, 2097],\n",
       "        [2515, 2885]]),\n",
       " 'f1/Rebuttal': 0.5078792253097558,\n",
       " 'acc/Rebuttal': 0.5310691823899371,\n",
       " 'recall/Rebuttal': 0.4866297833102812,\n",
       " 'cm/Rebuttal': array([[2111, 1864],\n",
       "        [2227, 1748]])}"
      ]
     },
     "execution_count": 9,
     "metadata": {},
     "output_type": "execute_result"
    }
   ],
   "source": [
    "res"
   ]
  },
  {
   "cell_type": "code",
   "execution_count": 15,
   "metadata": {},
   "outputs": [
    {
     "data": {
      "image/png": "[encoded data removed]",
      "text/plain": [
       "<Figure size 432x288 with 2 Axes>"
      ]
     },
     "metadata": {
      "needs_background": "light"
     },
     "output_type": "display_data"
    },
    {
     "data": {
      "image/png": "[encoded data removed]",
      "text/plain": [
       "<Figure size 432x288 with 2 Axes>"
      ]
     },
     "metadata": {
      "needs_background": "light"
     },
     "output_type": "display_data"
    },
    {
     "data": {
      "image/png": "[encoded data removed]",
      "text/plain": [
       "<Figure size 432x288 with 2 Axes>"
      ]
     },
     "metadata": {
      "needs_background": "light"
     },
     "output_type": "display_data"
    },
    {
     "data": {
      "image/png": "[encoded data removed]",
      "text/plain": [
       "<Figure size 432x288 with 2 Axes>"
      ]
     },
     "metadata": {
      "needs_background": "light"
     },
     "output_type": "display_data"
    },
    {
     "data": {
      "image/png": "[encoded data removed]",
      "text/plain": [
       "<Figure size 432x288 with 2 Axes>"
      ]
     },
     "metadata": {
      "needs_background": "light"
     },
     "output_type": "display_data"
    },
    {
     "data": {
      "image/png": "[encoded data removed]",
      "text/plain": [
       "<Figure size 432x288 with 2 Axes>"
      ]
     },
     "metadata": {
      "needs_background": "light"
     },
     "output_type": "display_data"
    },
    {
     "data": {
      "image/png": "[encoded data removed]",
      "text/plain": [
       "<Figure size 432x288 with 2 Axes>"
      ]
     },
     "metadata": {
      "needs_background": "light"
     },
     "output_type": "display_data"
    }
   ],
   "source": [
    "for cls in CLASSES:\n",
    "  sklearn.metrics.ConfusionMatrixDisplay(res[f'cm/{cls}'], [f'P_{cls}', 'N']).plot()"
   ]
  },
  {
   "cell_type": "code",
   "execution_count": null,
   "metadata": {},
   "outputs": [],
   "source": []
  }
 ],
 "metadata": {
  "interpreter": {
   "hash": "2e1511501be64c09e2f1eb58c3220ebc9ce84b491d308a480caed250bbb4af51"
  },
  "kernelspec": {
   "display_name": "Python 3.6.13 64-bit (conda)",
   "language": "python",
   "name": "python3"
  },
  "language_info": {
   "codemirror_mode": {
    "name": "ipython",
    "version": 3
   },
   "file_extension": ".py",
   "mimetype": "text/x-python",
   "name": "python",
   "nbconvert_exporter": "python",
   "pygments_lexer": "ipython3",
   "version": "3.6.13"
  },
  "orig_nbformat": 4
 },
 "nbformat": 4,
 "nbformat_minor": 2
}
