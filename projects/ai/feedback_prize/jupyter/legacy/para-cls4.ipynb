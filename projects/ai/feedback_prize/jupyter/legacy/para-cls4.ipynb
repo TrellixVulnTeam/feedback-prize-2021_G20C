{
 "cells": [
  {
   "cell_type": "code",
   "execution_count": 36,
   "metadata": {},
   "outputs": [],
   "source": [
    "import numpy as np\n",
    "import pandas as pd\n",
    "import random\n",
    "import itertools\n",
    "import matplotlib.pyplot as plt\n",
    "import plotly.express as px\n",
    "import glob\n",
    "import spacy\n",
    "import sklearn\n",
    "from collections import defaultdict, Counter\n",
    "from bisect import bisect_left\n",
    "import matplotlib.pyplot as plt\n",
    "import matplotlib\n",
    "import io\n",
    "import base64\n",
    "import pymp\n",
    "from multiprocessing import Pool, Manager, cpu_count\n",
    "from IPython.display import display_html\n",
    "from itertools import chain, cycle\n",
    "import lightgbm as lgb\n",
    "import sys\n",
    "sys.path.append('../../../../utils')\n",
    "sys.path.append('..')\n",
    "import gezi\n",
    "from gezi import tqdm\n",
    "from src.eval import *\n",
    "from src.util import *\n",
    "from src import config\n",
    "from src.visualize import *\n",
    "from src.rewards import *\n",
    "pd.set_option('display.float_format', lambda x: '%.02f' % x)"
   ]
  },
  {
   "cell_type": "code",
   "execution_count": 37,
   "metadata": {},
   "outputs": [],
   "source": [
    "# https://www.kaggle.com/chasembowers/sequence-postprocessing-v2-67-lb/notebook#Sequence-Datasets"
   ]
  },
  {
   "cell_type": "code",
   "execution_count": 38,
   "metadata": {},
   "outputs": [],
   "source": [
    "root = '../input/feedback-prize-2021'"
   ]
  },
  {
   "cell_type": "code",
   "execution_count": 39,
   "metadata": {},
   "outputs": [],
   "source": [
    "df = pd.read_feather(f'{root}/train_en.fea')"
   ]
  },
  {
   "cell_type": "code",
   "execution_count": 40,
   "metadata": {},
   "outputs": [
    {
     "data": {
      "text/plain": [
       "{'Nothing': 132,\n",
       " 'Claim': 55,\n",
       " 'Evidence': 299,\n",
       " 'Position': 59,\n",
       " 'Concluding Statement': 191,\n",
       " 'Lead': 197,\n",
       " 'Counterclaim': 95,\n",
       " 'Rebuttal': 116}"
      ]
     },
     "execution_count": 40,
     "metadata": {},
     "output_type": "execute_result"
    }
   ],
   "source": [
    "MAX_SEQ_LEN = {}\n",
    "df['len'] = df.end - df.start\n",
    "max_lens = df.groupby('para_type')['len'].quantile(.995)\n",
    "for i in range(len(ALL_CLASSES)):\n",
    "  MAX_SEQ_LEN[id2dis[i]] = int(max_lens[i])\n",
    "MAX_SEQ_LEN"
   ]
  },
  {
   "cell_type": "code",
   "execution_count": 41,
   "metadata": {},
   "outputs": [],
   "source": [
    "proba_thresh = {\n",
    "    \"Lead\": 0.7,\n",
    "    \"Position\": 0.55,\n",
    "    \"Evidence\": 0.65,\n",
    "    \"Claim\": 0.55,\n",
    "    \"Concluding Statement\": 0.7,\n",
    "    \"Counterclaim\": 0.5,\n",
    "    \"Rebuttal\": 0.55,\n",
    "    \"Nothing\": 0.5,\n",
    "}\n",
    "# TODO 自动学习这个阈值"
   ]
  },
  {
   "cell_type": "code",
   "execution_count": 42,
   "metadata": {},
   "outputs": [],
   "source": [
    "d = pd.read_feather(f'{root}/para_label.fea')"
   ]
  },
  {
   "cell_type": "code",
   "execution_count": 43,
   "metadata": {},
   "outputs": [
    {
     "data": {
      "application/vnd.jupyter.widget-view+json": {
       "model_id": "0fd8e17fe499478b897ddaeba733e23e",
       "version_major": 2,
       "version_minor": 0
      },
      "text/plain": [
       "  0%|          | 0/15594 [00:00<?, ?it/s]"
      ]
     },
     "metadata": {},
     "output_type": "display_data"
    }
   ],
   "source": [
    "gts = {}\n",
    "for row in tqdm(d.itertuples(), total=len(d)):\n",
    "  gts[row.id] = decode_label_all(row.start, row.para_types)"
   ]
  },
  {
   "cell_type": "code",
   "execution_count": 44,
   "metadata": {},
   "outputs": [
    {
     "data": {
      "application/vnd.jupyter.widget-view+json": {
       "model_id": "e7c7c16e442b4fcf9e25687f276bfaa1",
       "version_major": 2,
       "version_minor": 0
      },
      "text/plain": [
       "  0%|          | 0/175160 [00:00<?, ?it/s]"
      ]
     },
     "metadata": {},
     "output_type": "display_data"
    }
   ],
   "source": [
    "folds = {}\n",
    "for row in tqdm(df.itertuples(), total=len(df)):\n",
    "  folds[row.id] = row.kfold"
   ]
  },
  {
   "cell_type": "code",
   "execution_count": 45,
   "metadata": {},
   "outputs": [],
   "source": [
    "np.random.seed(12345)"
   ]
  },
  {
   "cell_type": "code",
   "execution_count": 46,
   "metadata": {},
   "outputs": [
    {
     "data": {
      "application/vnd.jupyter.widget-view+json": {
       "model_id": "ea9faba38b8e46778f4a4367d5f2b0b5",
       "version_major": 2,
       "version_minor": 0
      },
      "text/plain": [
       "  0%|          | 0/175160 [00:00<?, ?it/s]"
      ]
     },
     "metadata": {},
     "output_type": "display_data"
    }
   ],
   "source": [
    "subfolds = {}\n",
    "for row in tqdm(df.itertuples(), total=len(df)):\n",
    "  subfolds[row.id] = np.random.randint(5)"
   ]
  },
  {
   "cell_type": "code",
   "execution_count": 47,
   "metadata": {},
   "outputs": [
    {
     "data": {
      "text/plain": [
       "{0: [[0, 3]],\n",
       " 1: [[15, 36]],\n",
       " 2: [[36, 177]],\n",
       " 3: [[3, 15]],\n",
       " 4: [[177, 212]],\n",
       " 5: [],\n",
       " 6: [],\n",
       " 7: []}"
      ]
     },
     "execution_count": 47,
     "metadata": {},
     "output_type": "execute_result"
    }
   ],
   "source": [
    "gts['A8445CABFECE']"
   ]
  },
  {
   "cell_type": "code",
   "execution_count": 48,
   "metadata": {},
   "outputs": [],
   "source": [
    "def para_dataset(info, disc_type=None, start_thre=0.1, start_thre2=0.99, fold=None, subfold=None, infer=False):\n",
    "  total = len(info['id'])\n",
    "  fes = []\n",
    "  scores = []\n",
    "  matches = []\n",
    "  for i in tqdm(range(total)):\n",
    "    x = {}\n",
    "    for key in info:\n",
    "      x[key] = info[key][i]\n",
    "    id = x['id']\n",
    "    gt = gts[id]\n",
    "    fe = {}\n",
    "    fe['id'] = id\n",
    "    fe['index'] = i\n",
    "    fe['fold'] = folds[id]\n",
    "    if fold is not None and fe['fold'] != fold:\n",
    "      continue\n",
    "    fe['subfold'] = subfolds[id]\n",
    "    if subfold is not None and fe['subfold'] != subfold:\n",
    "      continue\n",
    "    fe['num_words'] = x['num_words']\n",
    "    fe['seps'] = (x['start_probs'][:,1] > 0.5).sum()\n",
    "    fe['sep_ratio'] = fe['seps'] / fe['num_words']\n",
    "    num_words = x['num_words']\n",
    "    for j in range(num_words):\n",
    "      if j > 0 and x['start_probs'][j][1] < start_thre and x['preds'][j] == x['preds'][j - 1]:\n",
    "        continue\n",
    "      probs = np.zeros_like(x['probs'][j])\n",
    "      probs += x['probs'][j]\n",
    "      fe['start'] = j\n",
    "      fe['start_ratio'] = (j + 1) / num_words\n",
    "      fe['start_probs'] = x['probs'][j]\n",
    "      fe['start_sep_prob'] = x['start_probs'][j][1] if j > 0 else 1.\n",
    "      preds = {k: 0 for k in range(NUM_CLASSES)}\n",
    "      fe['start_cls'] = x['preds'][j]\n",
    "      fe['max_start_prob'] = probs.max()\n",
    "      preds[x['preds'][j]] += 1\n",
    "      fe['pre_cls'] = -1 if j == 0 else x['preds'][j - 1]\n",
    "      fe['pre_max_prob'] = 1 if j == 0 else x['probs'][j - 1].max()\n",
    "      sep_count = 0\n",
    "      for k in range(j + 1, num_words):\n",
    "        probs += x['probs'][k]\n",
    "        fe['para_len'] = k + 1 - j\n",
    "        fe['para_len_ratio'] = (k + 1 - j) / num_words\n",
    "        preds[x['preds'][k]] += 1\n",
    "        if k + 1 < num_words and x['start_probs'][k + 1][1] < start_thre and x['preds'][k] == x['preds'][k + 1]:\n",
    "          continue\n",
    "        if k + 1 < num_words and x['start_probs'][k + 1][1] > 0.5:\n",
    "          sep_count += 1\n",
    "        fe['end'] = k + 1\n",
    "        fe['end_ratio'] = (k + 1) / num_words\n",
    "        fe['end_probs'] = x['probs'][k]\n",
    "        fe['max_end_prob'] = x['probs'][k + 1].max() if k + 1 < num_words else 1\n",
    "        end_cls = np.argmax(x['probs'][k])\n",
    "        fe['end_cls'] = end_cls\n",
    "        fe['end_sep_prob'] = x['start_probs'][k + 1][1] if k + 1 < num_words else 1.\n",
    "        fe['sep_add_prob'] = (fe['start_sep_prob'] + fe['end_sep_prob']) / 2.\n",
    "        fe['sep_mul_prob'] = (fe['start_sep_prob'] * fe['end_sep_prob']) ** 0.5\n",
    "        fe['num_classes'] = len([k for k in range(NUM_CLASSES) if preds[k] > 0])\n",
    "        mean_probs = gezi.softmax(probs)\n",
    "        fe['mean_probs'] = mean_probs\n",
    "        fe['max_prob'] = mean_probs.max()\n",
    "        top_classes = np.argsort(-mean_probs,axis=0)[:2]\n",
    "        fe['top_class'] = top_classes[0]\n",
    "        fe['top_class2'] = top_classes[1]\n",
    "        fe['next_cls'] = -1 if k + 1  == num_words else x['preds'][k + 1]\n",
    "        # top_classes = top_classes[:1]\n",
    "        if fe['para_len'] > 1 and fe['num_classes'] < 4:\n",
    "          for cls in top_classes:\n",
    "            if disc_type != None and cls != disc_type:\n",
    "              continue\n",
    "            # if cls and fe['para_len'] >  MAX_SEQ_LEN[id2dis[cls]]:\n",
    "            #   continue\n",
    "            # if fe['mean_probs'][cls] < proba_thresh[id2dis[cls]]:\n",
    "            #   continue\n",
    "            fe['mean_prob'] = fe['mean_probs'][cls]\n",
    "            fe['start_prob'] = x['probs'][j][cls]\n",
    "            fe['end_prob'] = x['probs'][k][cls]\n",
    "            fe['class_ratio'] = (x['preds'][j:k+1] == cls).sum() / fe['para_len']\n",
    "            # fe['class_max_prob'] = x['probs'][j:k+1][cls].max()\n",
    "            # fe['class_min_prob'] = x['probs'][j:k+1][cls].min()\n",
    "            fe['cls'] = cls\n",
    "            fe['is_top_class'] = int(cls == fe['top_class'])\n",
    "            fe['is_top_class2'] = int(cls == fe['top_class2'])\n",
    "            if not infer:\n",
    "              fe['score'] = best_match(gt[cls], [j, k + 1])\n",
    "              fe['match'] = calc_match(gt[cls], [[j, k + 1]])\n",
    "              # if not fe['match'] and np.random.randint(3) != 0:\n",
    "              #   continue\n",
    "              scores.append(fe['score'])\n",
    "              matches.append(fe['match'])\n",
    "            fes.append(fe.copy())\n",
    "        if k + 1 < num_words and x['start_probs'][k + 1][1] > start_thre2:\n",
    "          break\n",
    "        if sep_count > 2:  \n",
    "          break\n",
    "  if not infer:\n",
    "    ic(np.mean(scores), np.mean(matches))\n",
    "  d = pd.DataFrame(fes)\n",
    "  return d"
   ]
  },
  {
   "cell_type": "code",
   "execution_count": null,
   "metadata": {},
   "outputs": [],
   "source": [
    "info = gezi.load('../working/offline/44/valid.pkl')"
   ]
  },
  {
   "cell_type": "code",
   "execution_count": 15,
   "metadata": {},
   "outputs": [
    {
     "data": {
      "application/vnd.jupyter.widget-view+json": {
       "model_id": "ce8d080d36d446c3aaa88d214276d8f5",
       "version_major": 2,
       "version_minor": 0
      },
      "text/plain": [
       "  0%|          | 0/15594 [00:00<?, ?it/s]"
      ]
     },
     "metadata": {},
     "output_type": "display_data"
    },
    {
     "name": "stderr",
     "output_type": "stream",
     "text": [
      "ic| <ipython-input-13-c602e6a91567>:98 in para_dataset()\n",
      "    npmean.(scores): \n",
      "0.2602468290317452    np.mean(matches): 0.24468753785262276\n",
      "ic| -<ipython-input13-c602e6a91567>:98 in para_dataset()np\n",
      "    .mean(scores): 0.26072600215658354\n",
      "    np.mean(matches): 0.24603241455691266\n",
      "ic| <ipython-input-13-c602e6a91567>:98 in para_dataset()\n",
      "    np.mean(scores): 0.2607095447385953\n",
      "    np.mean(matches): 0.24669412915271316\n",
      "ic| <ipython-input--13c602e6a91567>:98 in para_dataset()\n",
      "    np.mean(scores): 0.24418819056263794\n",
      "    np.mean(:matches) 0.21973929728672542\n",
      "ic| <ipython-input-13-c602e6a91567>:98 in para_dataset()\n",
      "    np.mean(scores): 0.24742760015593704\n",
      "    np.mean(matches): 0.23014723759194\n"
     ]
    }
   ],
   "source": [
    "nw = 5\n",
    "ds = Manager().dict()\n",
    "with pymp.Parallel(nw) as p:\n",
    "  for fold in p.range(5):\n",
    "    fold_ = fold\n",
    "    ds[fold_] = para_dataset(info, fold=fold)"
   ]
  },
  {
   "cell_type": "code",
   "execution_count": 16,
   "metadata": {},
   "outputs": [],
   "source": [
    "dtrain = pd.concat([ds[0], ds[2], ds[3], ds[4]])"
   ]
  },
  {
   "cell_type": "code",
   "execution_count": 17,
   "metadata": {},
   "outputs": [],
   "source": [
    "dtrain['match'] = dtrain['match'].apply(lambda x: min(x, 1))"
   ]
  },
  {
   "cell_type": "code",
   "execution_count": 18,
   "metadata": {},
   "outputs": [],
   "source": [
    "dvalid = ds[1]"
   ]
  },
  {
   "cell_type": "code",
   "execution_count": 19,
   "metadata": {},
   "outputs": [],
   "source": [
    "dvalid['match'] = dvalid['match'].apply(lambda x: min(x, 1))"
   ]
  },
  {
   "cell_type": "code",
   "execution_count": 20,
   "metadata": {},
   "outputs": [],
   "source": [
    "# dtrain = d[d.subfold != 0]\n",
    "# # dtrain = d0[d0.subfold == 1]\n",
    "# dvalid = d[d.subfold == 0]\n",
    "reg_cols =  [\n",
    "              'num_words', 'start', 'start_ratio', 'end', 'end_ratio',\n",
    "              'start_sep_prob', 'end_sep_prob', 'para_len', 'para_len_ratio',\n",
    "              'num_classes', 'mean_prob', \n",
    "              # 'start_prob', 'end_prob', \n",
    "              # 'seps', 'sep_ratio', \n",
    "              'class_ratio',\n",
    "              # 'sep_add_prob', 'sep_mul_prob', \n",
    "              # 'is_top_class', 'is_top_class2',\n",
    "            #   'class_max_prob', 'class_min_prob'\n",
    "        ]\n",
    "cat_cols = [\n",
    "            'cls', \n",
    "            # 'start_cls', 'end_cls',\n",
    "            'pre_cls', \n",
    "            'next_cls'\n",
    "            ]\n",
    "label_col = 'match'\n",
    "label_col = 'score'\n",
    "cols = reg_cols + cat_cols\n",
    "X_train = dtrain[cols]\n",
    "y_train = dtrain[[label_col]]"
   ]
  },
  {
   "cell_type": "code",
   "execution_count": 21,
   "metadata": {},
   "outputs": [],
   "source": [
    "X_valid = dvalid[cols]\n",
    "# y_valid = dvalid[[label_col]]\n",
    "y_valid = dvalid[['match']]"
   ]
  },
  {
   "cell_type": "code",
   "execution_count": 22,
   "metadata": {},
   "outputs": [],
   "source": [
    "learning_rate = 0.1\n",
    "num_boost_round = 1000\n",
    "params = {\n",
    "          # \"objective\": \"binary\",\n",
    "          # \"objective\": \"regression\" if label_col is 'score' else 'binary',\n",
    "          \"objective\": \"cross_entropy\",\n",
    "          \"metric\": \"auc\",\n",
    "          \"boosting_type\": \"gbdt\",\n",
    "          \"learning_rate\": learning_rate,\n",
    "          \"num_leaves\": 12,\n",
    "          \"max_bin\": 256,\n",
    "          \"feature_fraction\": 0.75,\n",
    "          \"verbosity\": 0,\n",
    "          # \"drop_rate\": 0.1,\n",
    "          \"is_unbalance\": True,\n",
    "          # \"max_drop\": 50,\n",
    "          \"min_child_samples\": 20,\n",
    "          \"min_child_weight\": 150,\n",
    "          \"min_split_gain\": 0,\n",
    "          \"bagging_freq\": 5,\n",
    "          \"bagging_fraction\": 0.9,\n",
    "          # \"num_trees\": 200,\n",
    "          \"subsample\": 0.9\n",
    "          }"
   ]
  },
  {
   "cell_type": "code",
   "execution_count": 23,
   "metadata": {},
   "outputs": [
    {
     "name": "stdout",
     "output_type": "stream",
     "text": [
      "[LightGBM] [Warning] bagging_fraction is set=0.9, subsample=0.9 will be ignored. Current value: bagging_fraction=0.9\n",
      "[LightGBM] [Warning] bagging_fraction is set=0.9, subsample=0.9 will be ignored. Current value: bagging_fraction=0.9\n",
      "[LightGBM] [Warning] Auto-choosing col-wise multi-threading, the overhead of testing was 0.995625 seconds.\n",
      "You can set `force_col_wise=true` to remove the overhead.\n",
      "[LightGBM] [Warning] bagging_fraction is set=0.9, subsample=0.9 will be ignored. Current value: bagging_fraction=0.9\n",
      "[1]\tvalid_0's auc: 0.783747\n",
      "Training until validation scores don't improve for 10 rounds\n",
      "[2]\tvalid_0's auc: 0.799093\n",
      "[3]\tvalid_0's auc: 0.796232\n",
      "[4]\tvalid_0's auc: 0.795439\n",
      "[5]\tvalid_0's auc: 0.79427\n",
      "[6]\tvalid_0's auc: 0.79684\n",
      "[7]\tvalid_0's auc: 0.806122\n",
      "[8]\tvalid_0's auc: 0.807877\n",
      "[9]\tvalid_0's auc: 0.808349\n",
      "[10]\tvalid_0's auc: 0.80997\n",
      "[11]\tvalid_0's auc: 0.809344\n",
      "[12]\tvalid_0's auc: 0.811225\n",
      "[13]\tvalid_0's auc: 0.811155\n",
      "[14]\tvalid_0's auc: 0.812731\n",
      "[15]\tvalid_0's auc: 0.813981\n",
      "[16]\tvalid_0's auc: 0.814003\n",
      "[17]\tvalid_0's auc: 0.81643\n",
      "[18]\tvalid_0's auc: 0.81617\n",
      "[19]\tvalid_0's auc: 0.817261\n",
      "[20]\tvalid_0's auc: 0.8178\n",
      "[21]\tvalid_0's auc: 0.818048\n",
      "[22]\tvalid_0's auc: 0.818115\n",
      "[23]\tvalid_0's auc: 0.818336\n",
      "[24]\tvalid_0's auc: 0.818381\n",
      "[25]\tvalid_0's auc: 0.818308\n",
      "[26]\tvalid_0's auc: 0.819792\n",
      "[27]\tvalid_0's auc: 0.820883\n",
      "[28]\tvalid_0's auc: 0.821588\n",
      "[29]\tvalid_0's auc: 0.822398\n",
      "[30]\tvalid_0's auc: 0.823412\n",
      "[31]\tvalid_0's auc: 0.823926\n",
      "[32]\tvalid_0's auc: 0.824485\n",
      "[33]\tvalid_0's auc: 0.824748\n",
      "[34]\tvalid_0's auc: 0.824896\n",
      "[35]\tvalid_0's auc: 0.824909\n",
      "[36]\tvalid_0's auc: 0.825125\n",
      "[37]\tvalid_0's auc: 0.825642\n",
      "[38]\tvalid_0's auc: 0.826098\n",
      "[39]\tvalid_0's auc: 0.826316\n",
      "[40]\tvalid_0's auc: 0.826411\n",
      "[41]\tvalid_0's auc: 0.826719\n",
      "[42]\tvalid_0's auc: 0.826888\n",
      "[43]\tvalid_0's auc: 0.827122\n",
      "[44]\tvalid_0's auc: 0.827253\n",
      "[45]\tvalid_0's auc: 0.827235\n",
      "[46]\tvalid_0's auc: 0.827196\n",
      "[47]\tvalid_0's auc: 0.827262\n",
      "[48]\tvalid_0's auc: 0.827824\n",
      "[49]\tvalid_0's auc: 0.828153\n",
      "[50]\tvalid_0's auc: 0.82849\n",
      "[51]\tvalid_0's auc: 0.828598\n",
      "[52]\tvalid_0's auc: 0.828771\n",
      "[53]\tvalid_0's auc: 0.828829\n",
      "[54]\tvalid_0's auc: 0.828931\n",
      "[55]\tvalid_0's auc: 0.829024\n",
      "[56]\tvalid_0's auc: 0.829179\n",
      "[57]\tvalid_0's auc: 0.829267\n",
      "[58]\tvalid_0's auc: 0.829679\n",
      "[59]\tvalid_0's auc: 0.829738\n",
      "[60]\tvalid_0's auc: 0.83024\n",
      "[61]\tvalid_0's auc: 0.830362\n",
      "[62]\tvalid_0's auc: 0.83035\n",
      "[63]\tvalid_0's auc: 0.830381\n",
      "[64]\tvalid_0's auc: 0.830456\n",
      "[65]\tvalid_0's auc: 0.830536\n",
      "[66]\tvalid_0's auc: 0.830625\n",
      "[67]\tvalid_0's auc: 0.830645\n",
      "[68]\tvalid_0's auc: 0.830728\n",
      "[69]\tvalid_0's auc: 0.831006\n",
      "[70]\tvalid_0's auc: 0.831354\n",
      "[71]\tvalid_0's auc: 0.831321\n",
      "[72]\tvalid_0's auc: 0.831388\n",
      "[73]\tvalid_0's auc: 0.831412\n",
      "[74]\tvalid_0's auc: 0.831444\n",
      "[75]\tvalid_0's auc: 0.831579\n",
      "[76]\tvalid_0's auc: 0.831849\n",
      "[77]\tvalid_0's auc: 0.831911\n",
      "[78]\tvalid_0's auc: 0.832002\n",
      "[79]\tvalid_0's auc: 0.832027\n",
      "[80]\tvalid_0's auc: 0.832119\n",
      "[81]\tvalid_0's auc: 0.832146\n",
      "[82]\tvalid_0's auc: 0.832217\n",
      "[83]\tvalid_0's auc: 0.832337\n",
      "[84]\tvalid_0's auc: 0.832345\n",
      "[85]\tvalid_0's auc: 0.832397\n",
      "[86]\tvalid_0's auc: 0.832483\n",
      "[87]\tvalid_0's auc: 0.83249\n",
      "[88]\tvalid_0's auc: 0.832701\n",
      "[89]\tvalid_0's auc: 0.832692\n",
      "[90]\tvalid_0's auc: 0.832764\n",
      "[91]\tvalid_0's auc: 0.832809\n",
      "[92]\tvalid_0's auc: 0.832882\n",
      "[93]\tvalid_0's auc: 0.832929\n",
      "[94]\tvalid_0's auc: 0.832973\n",
      "[95]\tvalid_0's auc: 0.832956\n",
      "[96]\tvalid_0's auc: 0.832968\n",
      "[97]\tvalid_0's auc: 0.832996\n",
      "[98]\tvalid_0's auc: 0.833157\n",
      "[99]\tvalid_0's auc: 0.833463\n",
      "[100]\tvalid_0's auc: 0.833514\n",
      "[101]\tvalid_0's auc: 0.833545\n",
      "[102]\tvalid_0's auc: 0.833586\n",
      "[103]\tvalid_0's auc: 0.833589\n",
      "[104]\tvalid_0's auc: 0.833617\n",
      "[105]\tvalid_0's auc: 0.83365\n",
      "[106]\tvalid_0's auc: 0.833793\n",
      "[107]\tvalid_0's auc: 0.833854\n",
      "[108]\tvalid_0's auc: 0.833876\n",
      "[109]\tvalid_0's auc: 0.833875\n",
      "[110]\tvalid_0's auc: 0.834037\n",
      "[111]\tvalid_0's auc: 0.834121\n",
      "[112]\tvalid_0's auc: 0.834128\n",
      "[113]\tvalid_0's auc: 0.834169\n",
      "[114]\tvalid_0's auc: 0.834223\n",
      "[115]\tvalid_0's auc: 0.834267\n",
      "[116]\tvalid_0's auc: 0.83437\n",
      "[117]\tvalid_0's auc: 0.83436\n",
      "[118]\tvalid_0's auc: 0.83441\n",
      "[119]\tvalid_0's auc: 0.834459\n",
      "[120]\tvalid_0's auc: 0.834472\n",
      "[121]\tvalid_0's auc: 0.834535\n",
      "[122]\tvalid_0's auc: 0.83456\n",
      "[123]\tvalid_0's auc: 0.834619\n",
      "[124]\tvalid_0's auc: 0.834678\n",
      "[125]\tvalid_0's auc: 0.834663\n",
      "[126]\tvalid_0's auc: 0.834628\n",
      "[127]\tvalid_0's auc: 0.834648\n",
      "[128]\tvalid_0's auc: 0.834731\n",
      "[129]\tvalid_0's auc: 0.834833\n",
      "[130]\tvalid_0's auc: 0.834854\n",
      "[131]\tvalid_0's auc: 0.834875\n",
      "[132]\tvalid_0's auc: 0.834901\n",
      "[133]\tvalid_0's auc: 0.83501\n",
      "[134]\tvalid_0's auc: 0.83511\n",
      "[135]\tvalid_0's auc: 0.83512\n",
      "[136]\tvalid_0's auc: 0.835226\n",
      "[137]\tvalid_0's auc: 0.835028\n",
      "[138]\tvalid_0's auc: 0.835013\n",
      "[139]\tvalid_0's auc: 0.835095\n",
      "[140]\tvalid_0's auc: 0.83511\n",
      "[141]\tvalid_0's auc: 0.835197\n",
      "[142]\tvalid_0's auc: 0.835254\n",
      "[143]\tvalid_0's auc: 0.835248\n",
      "[144]\tvalid_0's auc: 0.835241\n",
      "[145]\tvalid_0's auc: 0.835212\n",
      "[146]\tvalid_0's auc: 0.8352\n",
      "[147]\tvalid_0's auc: 0.835206\n",
      "[148]\tvalid_0's auc: 0.835028\n",
      "[149]\tvalid_0's auc: 0.835127\n",
      "[150]\tvalid_0's auc: 0.835239\n",
      "[151]\tvalid_0's auc: 0.835344\n",
      "[152]\tvalid_0's auc: 0.835388\n",
      "[153]\tvalid_0's auc: 0.835389\n",
      "[154]\tvalid_0's auc: 0.835411\n",
      "[155]\tvalid_0's auc: 0.835426\n",
      "[156]\tvalid_0's auc: 0.835397\n",
      "[157]\tvalid_0's auc: 0.835453\n",
      "[158]\tvalid_0's auc: 0.835588\n",
      "[159]\tvalid_0's auc: 0.835628\n",
      "[160]\tvalid_0's auc: 0.835637\n",
      "[161]\tvalid_0's auc: 0.83567\n",
      "[162]\tvalid_0's auc: 0.835803\n",
      "[163]\tvalid_0's auc: 0.835862\n",
      "[164]\tvalid_0's auc: 0.835931\n",
      "[165]\tvalid_0's auc: 0.835926\n",
      "[166]\tvalid_0's auc: 0.835959\n",
      "[167]\tvalid_0's auc: 0.836026\n",
      "[168]\tvalid_0's auc: 0.836119\n",
      "[169]\tvalid_0's auc: 0.836156\n",
      "[170]\tvalid_0's auc: 0.836127\n",
      "[171]\tvalid_0's auc: 0.836101\n",
      "[172]\tvalid_0's auc: 0.836119\n",
      "[173]\tvalid_0's auc: 0.836228\n",
      "[174]\tvalid_0's auc: 0.836245\n",
      "[175]\tvalid_0's auc: 0.836272\n",
      "[176]\tvalid_0's auc: 0.836338\n",
      "[177]\tvalid_0's auc: 0.836376\n",
      "[178]\tvalid_0's auc: 0.836432\n",
      "[179]\tvalid_0's auc: 0.836452\n",
      "[180]\tvalid_0's auc: 0.836441\n",
      "[181]\tvalid_0's auc: 0.836424\n",
      "[182]\tvalid_0's auc: 0.836464\n",
      "[183]\tvalid_0's auc: 0.836484\n",
      "[184]\tvalid_0's auc: 0.836561\n",
      "[185]\tvalid_0's auc: 0.836559\n",
      "[186]\tvalid_0's auc: 0.836658\n",
      "[187]\tvalid_0's auc: 0.836692\n",
      "[188]\tvalid_0's auc: 0.836667\n",
      "[189]\tvalid_0's auc: 0.8368\n",
      "[190]\tvalid_0's auc: 0.836805\n",
      "[191]\tvalid_0's auc: 0.836817\n",
      "[192]\tvalid_0's auc: 0.836819\n",
      "[193]\tvalid_0's auc: 0.836727\n",
      "[194]\tvalid_0's auc: 0.836804\n",
      "[195]\tvalid_0's auc: 0.836823\n",
      "[196]\tvalid_0's auc: 0.836811\n",
      "[197]\tvalid_0's auc: 0.836869\n",
      "[198]\tvalid_0's auc: 0.836867\n",
      "[199]\tvalid_0's auc: 0.836868\n",
      "[200]\tvalid_0's auc: 0.836918\n",
      "[201]\tvalid_0's auc: 0.836895\n",
      "[202]\tvalid_0's auc: 0.83688\n",
      "[203]\tvalid_0's auc: 0.836895\n",
      "[204]\tvalid_0's auc: 0.836955\n",
      "[205]\tvalid_0's auc: 0.836948\n",
      "[206]\tvalid_0's auc: 0.836968\n",
      "[207]\tvalid_0's auc: 0.83701\n",
      "[208]\tvalid_0's auc: 0.837025\n",
      "[209]\tvalid_0's auc: 0.837047\n",
      "[210]\tvalid_0's auc: 0.83708\n",
      "[211]\tvalid_0's auc: 0.837125\n",
      "[212]\tvalid_0's auc: 0.837125\n",
      "[213]\tvalid_0's auc: 0.837137\n",
      "[214]\tvalid_0's auc: 0.837133\n",
      "[215]\tvalid_0's auc: 0.837142\n",
      "[216]\tvalid_0's auc: 0.837159\n",
      "[217]\tvalid_0's auc: 0.837111\n",
      "[218]\tvalid_0's auc: 0.837116\n",
      "[219]\tvalid_0's auc: 0.837162\n",
      "[220]\tvalid_0's auc: 0.837224\n",
      "[221]\tvalid_0's auc: 0.837259\n",
      "[222]\tvalid_0's auc: 0.837271\n",
      "[223]\tvalid_0's auc: 0.837286\n",
      "[224]\tvalid_0's auc: 0.83729\n",
      "[225]\tvalid_0's auc: 0.837342\n",
      "[226]\tvalid_0's auc: 0.837331\n",
      "[227]\tvalid_0's auc: 0.837352\n",
      "[228]\tvalid_0's auc: 0.837343\n",
      "[229]\tvalid_0's auc: 0.837366\n",
      "[230]\tvalid_0's auc: 0.837289\n",
      "[231]\tvalid_0's auc: 0.837289\n",
      "[232]\tvalid_0's auc: 0.837296\n",
      "[233]\tvalid_0's auc: 0.837372\n",
      "[234]\tvalid_0's auc: 0.837314\n",
      "[235]\tvalid_0's auc: 0.837311\n",
      "[236]\tvalid_0's auc: 0.837328\n",
      "[237]\tvalid_0's auc: 0.837342\n",
      "[238]\tvalid_0's auc: 0.837305\n",
      "[239]\tvalid_0's auc: 0.837354\n",
      "[240]\tvalid_0's auc: 0.837372\n",
      "[241]\tvalid_0's auc: 0.837387\n",
      "[242]\tvalid_0's auc: 0.837398\n",
      "[243]\tvalid_0's auc: 0.837463\n",
      "[244]\tvalid_0's auc: 0.837486\n",
      "[245]\tvalid_0's auc: 0.83756\n",
      "[246]\tvalid_0's auc: 0.83756\n",
      "[247]\tvalid_0's auc: 0.837621\n",
      "[248]\tvalid_0's auc: 0.837657\n",
      "[249]\tvalid_0's auc: 0.837698\n",
      "[250]\tvalid_0's auc: 0.83773\n",
      "[251]\tvalid_0's auc: 0.83776\n",
      "[252]\tvalid_0's auc: 0.837771\n",
      "[253]\tvalid_0's auc: 0.837773\n",
      "[254]\tvalid_0's auc: 0.837782\n",
      "[255]\tvalid_0's auc: 0.837793\n",
      "[256]\tvalid_0's auc: 0.837856\n",
      "[257]\tvalid_0's auc: 0.8379\n",
      "[258]\tvalid_0's auc: 0.837945\n",
      "[259]\tvalid_0's auc: 0.837949\n",
      "[260]\tvalid_0's auc: 0.837958\n",
      "[261]\tvalid_0's auc: 0.837988\n",
      "[262]\tvalid_0's auc: 0.838023\n",
      "[263]\tvalid_0's auc: 0.83804\n",
      "[264]\tvalid_0's auc: 0.838108\n",
      "[265]\tvalid_0's auc: 0.8381\n",
      "[266]\tvalid_0's auc: 0.838108\n",
      "[267]\tvalid_0's auc: 0.838138\n",
      "[268]\tvalid_0's auc: 0.838175\n",
      "[269]\tvalid_0's auc: 0.838169\n",
      "[270]\tvalid_0's auc: 0.838163\n",
      "[271]\tvalid_0's auc: 0.838175\n",
      "[272]\tvalid_0's auc: 0.838175\n",
      "[273]\tvalid_0's auc: 0.838171\n",
      "[274]\tvalid_0's auc: 0.838159\n",
      "[275]\tvalid_0's auc: 0.83804\n",
      "[276]\tvalid_0's auc: 0.83808\n",
      "[277]\tvalid_0's auc: 0.83809\n",
      "[278]\tvalid_0's auc: 0.838088\n",
      "Early stopping, best iteration is:\n",
      "[268]\tvalid_0's auc: 0.838175\n"
     ]
    }
   ],
   "source": [
    "d_train = lgb.Dataset(X_train, y_train)\n",
    "d_valid = lgb.Dataset(X_valid, y_valid, reference=d_train)\n",
    "bst = lgb.train(params, d_train, num_boost_round, valid_sets=d_valid, \n",
    "                categorical_feature=cat_cols,\n",
    "                verbose_eval=1,\n",
    "                early_stopping_rounds=10)"
   ]
  },
  {
   "cell_type": "code",
   "execution_count": 24,
   "metadata": {},
   "outputs": [
    {
     "data": {
      "text/plain": [
       "[('cls', 426),\n",
       " ('num_words', 376),\n",
       " ('mean_prob', 334),\n",
       " ('next_cls', 220),\n",
       " ('end_sep_prob', 218),\n",
       " ('class_ratio', 218),\n",
       " ('para_len_ratio', 207),\n",
       " ('para_len', 164),\n",
       " ('pre_cls', 149),\n",
       " ('start_sep_prob', 131),\n",
       " ('start', 121),\n",
       " ('end_ratio', 120),\n",
       " ('start_ratio', 111),\n",
       " ('end', 77),\n",
       " ('num_classes', 76)]"
      ]
     },
     "execution_count": 24,
     "metadata": {},
     "output_type": "execute_result"
    }
   ],
   "source": [
    "l = list(zip(bst.feature_name(), bst.feature_importance()))\n",
    "l.sort(key=lambda x: -x[1])\n",
    "l"
   ]
  },
  {
   "cell_type": "code",
   "execution_count": 25,
   "metadata": {},
   "outputs": [],
   "source": [
    "def greedy_decodes(df, cols, para_classifier):\n",
    "  proba_thresh = {\n",
    "    \"Lead\": 0.99,\n",
    "    \"Position\": 0.55,\n",
    "    \"Evidence\": 0.7,\n",
    "    \"Claim\": 0.55,\n",
    "    \"Concluding Statement\": 0.99,\n",
    "    \"Counterclaim\": 0.5,\n",
    "    \"Rebuttal\": 0.5,\n",
    "    \"Nothing\": 0.1,\n",
    "  }\n",
    "\n",
    "  df['pred'] = para_classifier.predict(df[cols])\n",
    "  ids = set(df.id)\n",
    "  ids_list, types_list, preds_list = [], [], []\n",
    "  for id in tqdm(ids):\n",
    "    d = df[df.id == id]\n",
    "    d = d.sort_values(['pred'], ascending=[False])\n",
    "    num_words = d.num_words.values[0]\n",
    "    used = np.zeros(num_words)\n",
    "    for row in d.itertuples():\n",
    "      start, end = row.start, row.end\n",
    "      cls = row.cls\n",
    "      if used[start: end].sum() == 0:\n",
    "        # used[start: end] = 1\n",
    "        # if cls > 0:\n",
    "        if row.mean_prob > proba_thresh[id2dis[cls]]:\n",
    "          used[start: end] = 1\n",
    "          if cls > 0:\n",
    "            ids_list.append(id)\n",
    "            types_list.append(id2dis[cls])\n",
    "            preds_list.append(' '.join([str(x) for x in range(start, end)]))\n",
    "      if used.sum() == num_words:\n",
    "        break\n",
    "          \n",
    "  df = pd.DataFrame({\n",
    "    'id': ids_list,\n",
    "    'class': types_list,\n",
    "    'predictionstring': preds_list,\n",
    "  })\n",
    "  return df"
   ]
  },
  {
   "cell_type": "code",
   "execution_count": 26,
   "metadata": {},
   "outputs": [
    {
     "data": {
      "application/vnd.jupyter.widget-view+json": {
       "model_id": "a7c5cc043b4a4d8198c376d80ab511f8",
       "version_major": 2,
       "version_minor": 0
      },
      "text/plain": [
       "  0%|          | 0/3050 [00:00<?, ?it/s]"
      ]
     },
     "metadata": {},
     "output_type": "display_data"
    }
   ],
   "source": [
    "df_pred = greedy_decodes(dvalid, cols, bst)"
   ]
  },
  {
   "cell_type": "code",
   "execution_count": 27,
   "metadata": {},
   "outputs": [],
   "source": [
    "df_gt = pd.read_csv('../working/offline/44/valid_gt.csv')"
   ]
  },
  {
   "cell_type": "code",
   "execution_count": 28,
   "metadata": {},
   "outputs": [
    {
     "data": {
      "application/vnd.jupyter.widget-view+json": {
       "model_id": "a5fb9697763c4ea6b1c10fbf932b542c",
       "version_major": 2,
       "version_minor": 0
      },
      "text/plain": [
       "calc_f1:   0%|          | 0/7 [00:00<?, ?it/s]"
      ]
     },
     "metadata": {},
     "output_type": "display_data"
    },
    {
     "name": "stderr",
     "output_type": "stream",
     "text": [
      "ic| <ipython-input-28-cb78f7a414c1>:2 in <module>\n",
      "    res['f1/Overall']: 0.7050391018600468\n",
      "ic| <ipython-input-28-cb78f7a414c1>:3 in <module>\n",
      "    res: {'acc/Claim': 0.7018239492466296,\n",
      "          'acc/Concluding Statement': 0.866044776119403,\n",
      "          'acc/Counterclaim': 0.6058879392212726,\n",
      "          'acc/Evidence': 0.7858490566037736,\n",
      "          'acc/Lead': 0.8424543946932007,\n",
      "          'acc/Position': 0.7454798331015299,\n",
      "          'acc/Rebuttal': 0.50920245398773,\n",
      "          'cm/Claim': array([[6195, 2632],\n",
      "                [3619, 5208]]),\n",
      "          'cm/Concluding Statement': array([[2321,  359],\n",
      "                [ 312, 2368]]),\n",
      "          'cm/Counterclaim': array([[638, 415],\n",
      "                [523, 530]]),\n",
      "          'cm/Evidence': array([[6664, 1816],\n",
      "                [2317, 6163]]),\n",
      "          'cm/Lead': array([[1524,  285],\n",
      "                [ 299, 1510]]),\n",
      "          'cm/Position': array([[2144,  732],\n",
      "                [ 874, 2002]]),\n",
      "          'cm/Rebuttal': array([[415, 400],\n",
      "                [462, 353]]),\n",
      "          'f1/Claim': 0.6646639128802103,\n",
      "          'f1/Concluding Statement': 0.8737060041407867,\n",
      "          'f1/Counterclaim': 0.5763324299909666,\n",
      "          'f1/Evidence': 0.7633010709581353,\n",
      "          'f1/Lead': 0.8392070484581498,\n",
      "          'f1/Overall': 0.7050391018600468,\n",
      "          'f1/Position': 0.7275195113674924,\n",
      "          'f1/Rebuttal': 0.4905437352245863,\n",
      "          'recall/Claim': 0.6312410841654779,\n",
      "          'recall/Concluding Statement': 0.8815039878465628,\n",
      "          'recall/Counterclaim': 0.549526270456503,\n",
      "          'recall/Evidence': 0.7420109119251753,\n",
      "          'recall/Lead': 0.8359846407021393,\n",
      "          'recall/Position': 0.7104042412193505,\n",
      "          'recall/Rebuttal': 0.4732041049030787}\n"
     ]
    },
    {
     "data": {
      "text/plain": [
       "{'f1/Overall': 0.7050391018600468,\n",
       " 'f1/Claim': 0.6646639128802103,\n",
       " 'acc/Claim': 0.7018239492466296,\n",
       " 'recall/Claim': 0.6312410841654779,\n",
       " 'cm/Claim': array([[6195, 2632],\n",
       "        [3619, 5208]]),\n",
       " 'f1/Evidence': 0.7633010709581353,\n",
       " 'acc/Evidence': 0.7858490566037736,\n",
       " 'recall/Evidence': 0.7420109119251753,\n",
       " 'cm/Evidence': array([[6664, 1816],\n",
       "        [2317, 6163]]),\n",
       " 'f1/Position': 0.7275195113674924,\n",
       " 'acc/Position': 0.7454798331015299,\n",
       " 'recall/Position': 0.7104042412193505,\n",
       " 'cm/Position': array([[2144,  732],\n",
       "        [ 874, 2002]]),\n",
       " 'f1/Concluding Statement': 0.8737060041407867,\n",
       " 'acc/Concluding Statement': 0.866044776119403,\n",
       " 'recall/Concluding Statement': 0.8815039878465628,\n",
       " 'cm/Concluding Statement': array([[2321,  359],\n",
       "        [ 312, 2368]]),\n",
       " 'f1/Lead': 0.8392070484581498,\n",
       " 'acc/Lead': 0.8424543946932007,\n",
       " 'recall/Lead': 0.8359846407021393,\n",
       " 'cm/Lead': array([[1524,  285],\n",
       "        [ 299, 1510]]),\n",
       " 'f1/Counterclaim': 0.5763324299909666,\n",
       " 'acc/Counterclaim': 0.6058879392212726,\n",
       " 'recall/Counterclaim': 0.549526270456503,\n",
       " 'cm/Counterclaim': array([[638, 415],\n",
       "        [523, 530]]),\n",
       " 'f1/Rebuttal': 0.4905437352245863,\n",
       " 'acc/Rebuttal': 0.50920245398773,\n",
       " 'recall/Rebuttal': 0.4732041049030787,\n",
       " 'cm/Rebuttal': array([[415, 400],\n",
       "        [462, 353]])}"
      ]
     },
     "execution_count": 28,
     "metadata": {},
     "output_type": "execute_result"
    }
   ],
   "source": [
    "res = calc_metrics(df_gt[df_gt.id.isin(set(df_pred.id))], df_pred)\n",
    "ic(res['f1/Overall'])\n",
    "ic(res)"
   ]
  },
  {
   "cell_type": "code",
   "execution_count": 29,
   "metadata": {},
   "outputs": [],
   "source": [
    "# df_pred2[df_pred2.id=='4125C404E34B']"
   ]
  },
  {
   "cell_type": "code",
   "execution_count": 30,
   "metadata": {},
   "outputs": [],
   "source": [
    "# dvalid[dvalid.id=='4125C404E34B'][['id', 'pred', 'match', 'score', 'start', 'end', 'cls', 'mean_prob', 'start_sep_prob', 'end_sep_prob']]"
   ]
  },
  {
   "cell_type": "code",
   "execution_count": 31,
   "metadata": {},
   "outputs": [],
   "source": [
    "# gts['4125C404E34B']"
   ]
  },
  {
   "cell_type": "code",
   "execution_count": 32,
   "metadata": {},
   "outputs": [],
   "source": [
    "# ALL_CLASSES"
   ]
  },
  {
   "cell_type": "code",
   "execution_count": 33,
   "metadata": {},
   "outputs": [],
   "source": [
    "# df_pred2 = df_pred2[df_pred2.id.isin(set(df_pred.id))]"
   ]
  },
  {
   "cell_type": "code",
   "execution_count": 34,
   "metadata": {},
   "outputs": [],
   "source": [
    "# df_pred_fold1 = greedy_decodes(ds[1], cols, bst)"
   ]
  },
  {
   "cell_type": "code",
   "execution_count": 35,
   "metadata": {},
   "outputs": [],
   "source": [
    "# res = calc_metrics(df_gt[df_gt.id.isin(set(df_pred_fold1.id))], df_pred_fold1)\n",
    "# ic(res)"
   ]
  },
  {
   "cell_type": "code",
   "execution_count": null,
   "metadata": {},
   "outputs": [],
   "source": []
  },
  {
   "cell_type": "code",
   "execution_count": null,
   "metadata": {},
   "outputs": [],
   "source": []
  }
 ],
 "metadata": {
  "interpreter": {
   "hash": "2e1511501be64c09e2f1eb58c3220ebc9ce84b491d308a480caed250bbb4af51"
  },
  "kernelspec": {
   "display_name": "Python 3.6.13 64-bit (conda)",
   "language": "python",
   "name": "python3"
  },
  "language_info": {
   "codemirror_mode": {
    "name": "ipython",
    "version": 3
   },
   "file_extension": ".py",
   "mimetype": "text/x-python",
   "name": "python",
   "nbconvert_exporter": "python",
   "pygments_lexer": "ipython3",
   "version": "3.6.13"
  },
  "orig_nbformat": 4
 },
 "nbformat": 4,
 "nbformat_minor": 2
}
