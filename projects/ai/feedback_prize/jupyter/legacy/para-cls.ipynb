{
 "cells": [
  {
   "cell_type": "code",
   "execution_count": 4,
   "metadata": {},
   "outputs": [],
   "source": [
    "import numpy as np\n",
    "import pandas as pd\n",
    "import random\n",
    "import itertools\n",
    "import matplotlib.pyplot as plt\n",
    "import plotly.express as px\n",
    "import glob\n",
    "import spacy\n",
    "import sklearn\n",
    "from collections import defaultdict, Counter\n",
    "from bisect import bisect_left\n",
    "import matplotlib.pyplot as plt\n",
    "import matplotlib\n",
    "import io\n",
    "import base64\n",
    "import pymp\n",
    "from multiprocessing import Pool, Manager, cpu_count\n",
    "from IPython.display import display_html\n",
    "from itertools import chain, cycle\n",
    "import lightgbm as lgb\n",
    "import sys\n",
    "sys.path.append('../../../../utils')\n",
    "sys.path.append('..')\n",
    "import gezi\n",
    "from gezi import tqdm\n",
    "from src.eval import *\n",
    "from src.util import *\n",
    "from src import config\n",
    "from src.visualize import *\n",
    "from src.rewards import *\n",
    "pd.set_option('display.float_format', lambda x: '%.02f' % x)"
   ]
  },
  {
   "cell_type": "code",
   "execution_count": 5,
   "metadata": {},
   "outputs": [],
   "source": [
    "# https://www.kaggle.com/chasembowers/sequence-postprocessing-v2-67-lb/notebook#Sequence-Datasets"
   ]
  },
  {
   "cell_type": "code",
   "execution_count": 6,
   "metadata": {},
   "outputs": [],
   "source": [
    "root = '../input/feedback-prize-2021'"
   ]
  },
  {
   "cell_type": "code",
   "execution_count": 7,
   "metadata": {},
   "outputs": [],
   "source": [
    "df = pd.read_feather(f'{root}/train_en.fea')"
   ]
  },
  {
   "cell_type": "code",
   "execution_count": 8,
   "metadata": {},
   "outputs": [
    {
     "data": {
      "text/plain": [
       "{'Nothing': 132,\n",
       " 'Claim': 55,\n",
       " 'Evidence': 299,\n",
       " 'Position': 59,\n",
       " 'Concluding Statement': 191,\n",
       " 'Lead': 197,\n",
       " 'Counterclaim': 95,\n",
       " 'Rebuttal': 116}"
      ]
     },
     "execution_count": 8,
     "metadata": {},
     "output_type": "execute_result"
    }
   ],
   "source": [
    "MAX_SEQ_LEN = {}\n",
    "df['len'] = df.end - df.start\n",
    "max_lens = df.groupby('para_type')['len'].quantile(.995)\n",
    "for i in range(len(ALL_CLASSES)):\n",
    "  MAX_SEQ_LEN[id2dis[i]] = int(max_lens[i])\n",
    "MAX_SEQ_LEN"
   ]
  },
  {
   "cell_type": "code",
   "execution_count": 9,
   "metadata": {},
   "outputs": [],
   "source": [
    "d = pd.read_feather(f'{root}/para_label.fea')"
   ]
  },
  {
   "cell_type": "code",
   "execution_count": 10,
   "metadata": {},
   "outputs": [
    {
     "data": {
      "application/vnd.jupyter.widget-view+json": {
       "model_id": "ac91ad432d474f29b0b510c3ed70420d",
       "version_major": 2,
       "version_minor": 0
      },
      "text/plain": [
       "  0%|          | 0/15594 [00:00<?, ?it/s]"
      ]
     },
     "metadata": {},
     "output_type": "display_data"
    }
   ],
   "source": [
    "gts = {}\n",
    "for row in tqdm(d.itertuples(), total=len(d)):\n",
    "  gts[row.id] = decode_label_all(row.start, row.para_types)"
   ]
  },
  {
   "cell_type": "code",
   "execution_count": 11,
   "metadata": {},
   "outputs": [
    {
     "data": {
      "application/vnd.jupyter.widget-view+json": {
       "model_id": "012d26ab135243ba96b2d3aeeea9c86c",
       "version_major": 2,
       "version_minor": 0
      },
      "text/plain": [
       "  0%|          | 0/175160 [00:00<?, ?it/s]"
      ]
     },
     "metadata": {},
     "output_type": "display_data"
    }
   ],
   "source": [
    "folds = {}\n",
    "for row in tqdm(df.itertuples(), total=len(df)):\n",
    "  folds[row.id] = row.kfold"
   ]
  },
  {
   "cell_type": "code",
   "execution_count": 12,
   "metadata": {},
   "outputs": [],
   "source": [
    "np.random.seed(12345)"
   ]
  },
  {
   "cell_type": "code",
   "execution_count": 13,
   "metadata": {},
   "outputs": [
    {
     "data": {
      "application/vnd.jupyter.widget-view+json": {
       "model_id": "31e969b1a95d45a0b1d10535c608b922",
       "version_major": 2,
       "version_minor": 0
      },
      "text/plain": [
       "  0%|          | 0/175160 [00:00<?, ?it/s]"
      ]
     },
     "metadata": {},
     "output_type": "display_data"
    }
   ],
   "source": [
    "subfolds = {}\n",
    "for row in tqdm(df.itertuples(), total=len(df)):\n",
    "  subfolds[row.id] = np.random.randint(5)"
   ]
  },
  {
   "cell_type": "code",
   "execution_count": 14,
   "metadata": {},
   "outputs": [
    {
     "data": {
      "text/plain": [
       "{0: [[0, 3]],\n",
       " 1: [[15, 36]],\n",
       " 2: [[36, 177]],\n",
       " 3: [[3, 15]],\n",
       " 4: [[177, 212]],\n",
       " 5: [],\n",
       " 6: [],\n",
       " 7: []}"
      ]
     },
     "execution_count": 14,
     "metadata": {},
     "output_type": "execute_result"
    }
   ],
   "source": [
    "gts['A8445CABFECE']"
   ]
  },
  {
   "cell_type": "code",
   "execution_count": 16,
   "metadata": {},
   "outputs": [],
   "source": [
    "def para_dataset(info, disc_type=None, start_thre=0.5, start_thre2=0.99, fold=None, subfold=None, infer=False):\n",
    "  total = len(info['id'])\n",
    "  fes = []\n",
    "  scores = []\n",
    "  matches = []\n",
    "  for i in tqdm(range(total)):\n",
    "    x = {}\n",
    "    for key in info:\n",
    "      x[key] = info[key][i]\n",
    "    id = x['id']\n",
    "    gt = gts[id]\n",
    "    fe = {}\n",
    "    fe['id'] = id\n",
    "    fe['index'] = i\n",
    "    fe['fold'] = folds[id]\n",
    "    if fold is not None and fe['fold'] != fold:\n",
    "      continue\n",
    "    fe['subfold'] = subfolds[id]\n",
    "    if subfold is not None and fe['subfold'] != subfold:\n",
    "      continue\n",
    "    fe['num_words'] = x['num_words']\n",
    "    fe['seps'] = (x['start_probs'][:,1] > 0.5).sum()\n",
    "    fe['sep_ratio'] = fe['seps'] / fe['num_words']\n",
    "    num_words = x['num_words']\n",
    "    for j in range(num_words):\n",
    "      probs = np.zeros_like(x['probs'][j])\n",
    "      probs += x['probs'][j]\n",
    "      fe['start'] = j\n",
    "      fe['start_ratio'] = (j + 1) / num_words\n",
    "      fe['start_probs'] = x['probs'][j]\n",
    "      fe['start_sep_prob'] = x['start_probs'][j][1] if j > 0 else 1.\n",
    "      preds = {k: 0 for k in range(NUM_CLASSES)}\n",
    "      fe['start_cls'] = x['preds'][j]\n",
    "      fe['max_start_prob'] = probs.max()\n",
    "      preds[x['preds'][j]] += 1\n",
    "      fe['pre_cls'] = -1 if j == 0 else x['preds'][j - 1]\n",
    "      fe['pre_max_prob'] = 1 if j == 0 else x['probs'][j - 1].max()\n",
    "      sep_count = 0\n",
    "      for k in range(j + 1, num_words):\n",
    "        probs += x['probs'][k]\n",
    "        fe['para_len'] = k + 1 - j\n",
    "        fe['para_len_ratio'] = (k + 1 - j) / num_words\n",
    "        preds[x['preds'][k]] += 1  \n",
    "        fe['end'] = k + 1\n",
    "        fe['end_ratio'] = (k + 1) / num_words\n",
    "        fe['end_probs'] = x['probs'][k]\n",
    "        fe['max_end_prob'] = x['probs'][k + 1].max() if k + 1 < num_words else 1\n",
    "        end_cls = np.argmax(x['probs'][k])\n",
    "        fe['end_cls'] = end_cls\n",
    "        fe['end_sep_prob'] = x['start_probs'][k + 1][1] if k + 1 < num_words else 1.\n",
    "        fe['sep_add_prob'] = (fe['start_sep_prob'] + fe['end_sep_prob']) / 2.\n",
    "        fe['sep_mul_prob'] = (fe['start_sep_prob'] * fe['end_sep_prob']) ** 0.5\n",
    "        fe['num_classes'] = len([k for k in range(NUM_CLASSES) if preds[k] > 0])\n",
    "        mean_probs = gezi.softmax(probs)\n",
    "        fe['mean_probs'] = mean_probs\n",
    "        fe['max_prob'] = mean_probs.max()\n",
    "        top_classes = np.argsort(-mean_probs,axis=0)[:2]\n",
    "        fe['top_class'] = top_classes[0]\n",
    "        fe['top_class2'] = top_classes[1]\n",
    "        fe['next_cls'] = -1 if k + 1  == num_words else x['preds'][k + 1]\n",
    "        fe['next_max_prob'] = 1 if k + 1  == num_words else x['probs'][k + 1].max()\n",
    "        # top_classes = top_classes[:1]\n",
    "        if fe['para_len'] > 1 and fe['num_classes'] < 4:\n",
    "          for cls in top_classes:\n",
    "            if disc_type != None and cls != disc_type:\n",
    "              continue\n",
    "            if cls and fe['para_len'] >  MAX_SEQ_LEN[id2dis[cls]]:\n",
    "              continue\n",
    "            if fe['mean_probs'][cls] < proba_thresh[id2dis[cls]]:\n",
    "              continue\n",
    "            fe['mean_prob'] = fe['mean_probs'][cls]\n",
    "            fe['start_prob'] = x['probs'][j][cls]\n",
    "            fe['end_prob'] = x['probs'][k][cls]\n",
    "            fe['class_ratio'] = (x['preds'][j:k+1] == cls).sum() / fe['para_len']\n",
    "            # fe['class_max_prob'] = x['probs'][j:k+1][cls].max()\n",
    "            # fe['class_min_prob'] = x['probs'][j:k+1][cls].min()\n",
    "            fe['cls'] = cls\n",
    "            fe['is_top_class'] = int(cls == fe['top_class'])\n",
    "            fe['is_top_class2'] = int(cls == fe['top_class2'])\n",
    "            if not infer:\n",
    "              fe['score'] = best_match(gt[cls], [j, k + 1])\n",
    "              fe['match'] = calc_match(gt[cls], [[j, k + 1]])\n",
    "              # if not fe['match'] and np.random.randint(3) != 0:\n",
    "              #   continue\n",
    "              # score = best_match(gt[cls], [j, k + 1])\n",
    "              # match = calc_match(gt[cls], [[j, k + 1]])\n",
    "              # scores.append(score)\n",
    "              # matches.append(match)\n",
    "              scores.append(fe['score'])\n",
    "              matches.append(fe['match'])\n",
    "            fes.append(fe.copy())\n",
    "          # if not infer:\n",
    "          #   fe['score'] = np.max(scores)\n",
    "          #   fe['match'] = np.max(matches)\n",
    "          # fes.append(fe.copy())\n",
    "        if k + 1 < num_words and x['start_probs'][k + 1][1] > start_thre2:\n",
    "          break\n",
    "        if sep_count > 2:  \n",
    "          break\n",
    "  if not infer:\n",
    "    ic(np.mean(scores), np.mean(matches))\n",
    "  d = pd.DataFrame(fes)\n",
    "  return d"
   ]
  },
  {
   "cell_type": "code",
   "execution_count": 17,
   "metadata": {},
   "outputs": [],
   "source": [
    "info = gezi.load('../working/offline/47/best.pkl')"
   ]
  },
  {
   "cell_type": "code",
   "execution_count": 18,
   "metadata": {},
   "outputs": [
    {
     "data": {
      "application/vnd.jupyter.widget-view+json": {
       "model_id": "d0d9f7dd4672456fa1dd0405b44ae5cc",
       "version_major": 2,
       "version_minor": 0
      },
      "text/plain": [
       "  0%|          | 0/15594 [00:00<?, ?it/s]"
      ]
     },
     "metadata": {},
     "output_type": "display_data"
    }
   ],
   "source": [
    "nw = 5\n",
    "ds = Manager().dict()\n",
    "with pymp.Parallel(nw) as p:\n",
    "  for fold in p.range(5):\n",
    "    fold_ = fold\n",
    "    ds[fold_] = para_dataset(info, fold=fold)"
   ]
  },
  {
   "cell_type": "code",
   "execution_count": null,
   "metadata": {},
   "outputs": [],
   "source": [
    "dtrain = pd.concat([ds[1], ds[2], ds[3], ds[4]])"
   ]
  },
  {
   "cell_type": "code",
   "execution_count": null,
   "metadata": {},
   "outputs": [],
   "source": [
    "dvalid = ds[0]"
   ]
  },
  {
   "cell_type": "code",
   "execution_count": null,
   "metadata": {},
   "outputs": [],
   "source": [
    "# dtrain = d[d.subfold != 0]\n",
    "# # dtrain = d0[d0.subfold == 1]\n",
    "# dvalid = d[d.subfold == 0]\n",
    "reg_cols =  [\n",
    "              'num_words', 'start', 'start_ratio', 'end', 'end_ratio',\n",
    "              'start_sep_prob', 'end_sep_prob', 'para_len', 'para_len_ratio',\n",
    "              'num_classes', \n",
    "              'mean_prob', \n",
    "              # 'start_prob', 'end_prob', \n",
    "              # 'seps', 'sep_ratio', \n",
    "              'class_ratio',\n",
    "              'max_prob',\n",
    "              # 'sep_add_prob', 'sep_mul_prob', \n",
    "              # 'is_top_class', 'is_top_class2',\n",
    "            #   'class_max_prob', 'class_min_prob'\n",
    "        ]\n",
    "cat_cols = [\n",
    "            'cls', \n",
    "            # 'start_cls', 'end_cls',\n",
    "            # 'top_class',\n",
    "            'pre_cls', \n",
    "            'next_cls'\n",
    "            ]\n",
    "label_col = 'match'\n",
    "label_col = 'score'\n",
    "cols = reg_cols + cat_cols\n",
    "X_train = dtrain[cols]\n",
    "y_train = dtrain[[label_col]]"
   ]
  },
  {
   "cell_type": "code",
   "execution_count": null,
   "metadata": {},
   "outputs": [],
   "source": [
    "X_valid = dvalid[cols]\n",
    "# y_valid = dvalid[[label_col]]\n",
    "y_valid = dvalid[['match']]"
   ]
  },
  {
   "cell_type": "code",
   "execution_count": null,
   "metadata": {},
   "outputs": [],
   "source": [
    "learning_rate = 0.1\n",
    "num_boost_round = 1000\n",
    "params = {\n",
    "          # \"objective\": \"binary\",\n",
    "          # \"objective\": \"regression\" if label_col is 'score' else 'binary',\n",
    "          \"objective\": \"cross_entropy\",\n",
    "          \"metric\": \"auc\",\n",
    "          \"boosting_type\": \"gbdt\",\n",
    "          \"learning_rate\": learning_rate,\n",
    "          \"num_leaves\": 6,\n",
    "          \"max_bin\": 256,\n",
    "          \"feature_fraction\": 0.75,\n",
    "          \"verbosity\": 0,\n",
    "          # \"drop_rate\": 0.1,\n",
    "          \"is_unbalance\": True,\n",
    "          # \"max_drop\": 50,\n",
    "          \"min_child_samples\": 20,\n",
    "          \"min_child_weight\": 150,\n",
    "          \"min_split_gain\": 0,\n",
    "          \"bagging_freq\": 5,\n",
    "          \"bagging_fraction\": 0.9,\n",
    "          # \"num_trees\": 200,\n",
    "          \"subsample\": 0.9\n",
    "          }"
   ]
  },
  {
   "cell_type": "code",
   "execution_count": null,
   "metadata": {},
   "outputs": [
    {
     "name": "stdout",
     "output_type": "stream",
     "text": [
      "[LightGBM] [Warning] bagging_fraction is set=0.9, subsample=0.9 will be ignored. Current value: bagging_fraction=0.9\n",
      "[LightGBM] [Warning] bagging_fraction is set=0.9, subsample=0.9 will be ignored. Current value: bagging_fraction=0.9\n",
      "[LightGBM] [Warning] Auto-choosing col-wise multi-threading, the overhead of testing was 0.235130 seconds.\n",
      "You can set `force_col_wise=true` to remove the overhead.\n",
      "[LightGBM] [Warning] bagging_fraction is set=0.9, subsample=0.9 will be ignored. Current value: bagging_fraction=0.9\n",
      "[1]\tvalid_0's auc: 0.678095\n",
      "Training until validation scores don't improve for 10 rounds\n",
      "[2]\tvalid_0's auc: 0.688221\n",
      "[3]\tvalid_0's auc: 0.703881\n",
      "[4]\tvalid_0's auc: 0.711684\n",
      "[5]\tvalid_0's auc: 0.711695\n",
      "[6]\tvalid_0's auc: 0.71446\n",
      "[7]\tvalid_0's auc: 0.71601\n",
      "[8]\tvalid_0's auc: 0.715865\n",
      "[9]\tvalid_0's auc: 0.718866\n",
      "[10]\tvalid_0's auc: 0.72251\n",
      "[11]\tvalid_0's auc: 0.723587\n",
      "[12]\tvalid_0's auc: 0.726504\n",
      "[13]\tvalid_0's auc: 0.728403\n",
      "[14]\tvalid_0's auc: 0.730321\n",
      "[15]\tvalid_0's auc: 0.730205\n",
      "[16]\tvalid_0's auc: 0.730584\n",
      "[17]\tvalid_0's auc: 0.731039\n",
      "[18]\tvalid_0's auc: 0.732475\n",
      "[19]\tvalid_0's auc: 0.734173\n",
      "[20]\tvalid_0's auc: 0.734365\n",
      "[21]\tvalid_0's auc: 0.734668\n",
      "[22]\tvalid_0's auc: 0.73498\n",
      "[23]\tvalid_0's auc: 0.73507\n",
      "[24]\tvalid_0's auc: 0.736819\n",
      "[25]\tvalid_0's auc: 0.737218\n",
      "[26]\tvalid_0's auc: 0.737656\n",
      "[27]\tvalid_0's auc: 0.737773\n",
      "[28]\tvalid_0's auc: 0.738053\n",
      "[29]\tvalid_0's auc: 0.737722\n",
      "[30]\tvalid_0's auc: 0.738094\n",
      "[31]\tvalid_0's auc: 0.738174\n",
      "[32]\tvalid_0's auc: 0.737173\n",
      "[33]\tvalid_0's auc: 0.737349\n",
      "[34]\tvalid_0's auc: 0.7381\n",
      "[35]\tvalid_0's auc: 0.738915\n",
      "[36]\tvalid_0's auc: 0.738802\n",
      "[37]\tvalid_0's auc: 0.739193\n",
      "[38]\tvalid_0's auc: 0.739848\n",
      "[39]\tvalid_0's auc: 0.739995\n",
      "[40]\tvalid_0's auc: 0.74065\n",
      "[41]\tvalid_0's auc: 0.741286\n",
      "[42]\tvalid_0's auc: 0.741574\n",
      "[43]\tvalid_0's auc: 0.741659\n",
      "[44]\tvalid_0's auc: 0.741763\n",
      "[45]\tvalid_0's auc: 0.742086\n",
      "[46]\tvalid_0's auc: 0.741582\n",
      "[47]\tvalid_0's auc: 0.741497\n",
      "[48]\tvalid_0's auc: 0.741832\n",
      "[49]\tvalid_0's auc: 0.741974\n",
      "[50]\tvalid_0's auc: 0.742179\n",
      "[51]\tvalid_0's auc: 0.742303\n",
      "[52]\tvalid_0's auc: 0.742406\n",
      "[53]\tvalid_0's auc: 0.742599\n",
      "[54]\tvalid_0's auc: 0.742603\n",
      "[55]\tvalid_0's auc: 0.742453\n",
      "[56]\tvalid_0's auc: 0.742817\n",
      "[57]\tvalid_0's auc: 0.742948\n",
      "[58]\tvalid_0's auc: 0.743177\n",
      "[59]\tvalid_0's auc: 0.743286\n",
      "[60]\tvalid_0's auc: 0.743275\n",
      "[61]\tvalid_0's auc: 0.743368\n",
      "[62]\tvalid_0's auc: 0.743418\n",
      "[63]\tvalid_0's auc: 0.743702\n",
      "[64]\tvalid_0's auc: 0.74408\n",
      "[65]\tvalid_0's auc: 0.744127\n",
      "[66]\tvalid_0's auc: 0.744147\n",
      "[67]\tvalid_0's auc: 0.744296\n",
      "[68]\tvalid_0's auc: 0.744433\n",
      "[69]\tvalid_0's auc: 0.744516\n",
      "[70]\tvalid_0's auc: 0.744537\n",
      "[71]\tvalid_0's auc: 0.744676\n",
      "[72]\tvalid_0's auc: 0.744717\n",
      "[73]\tvalid_0's auc: 0.744783\n",
      "[74]\tvalid_0's auc: 0.74516\n",
      "[75]\tvalid_0's auc: 0.745272\n",
      "[76]\tvalid_0's auc: 0.745463\n",
      "[77]\tvalid_0's auc: 0.745493\n",
      "[78]\tvalid_0's auc: 0.745658\n",
      "[79]\tvalid_0's auc: 0.745442\n",
      "[80]\tvalid_0's auc: 0.745594\n",
      "[81]\tvalid_0's auc: 0.745556\n",
      "[82]\tvalid_0's auc: 0.745646\n",
      "[83]\tvalid_0's auc: 0.745676\n",
      "[84]\tvalid_0's auc: 0.745943\n",
      "[85]\tvalid_0's auc: 0.746243\n",
      "[86]\tvalid_0's auc: 0.746198\n",
      "[87]\tvalid_0's auc: 0.746246\n",
      "[88]\tvalid_0's auc: 0.746465\n",
      "[89]\tvalid_0's auc: 0.746684\n",
      "[90]\tvalid_0's auc: 0.746731\n",
      "[91]\tvalid_0's auc: 0.746832\n",
      "[92]\tvalid_0's auc: 0.74705\n",
      "[93]\tvalid_0's auc: 0.747014\n",
      "[94]\tvalid_0's auc: 0.747057\n",
      "[95]\tvalid_0's auc: 0.747119\n",
      "[96]\tvalid_0's auc: 0.747362\n",
      "[97]\tvalid_0's auc: 0.747404\n",
      "[98]\tvalid_0's auc: 0.747748\n",
      "[99]\tvalid_0's auc: 0.747835\n",
      "[100]\tvalid_0's auc: 0.747825\n",
      "[101]\tvalid_0's auc: 0.747951\n",
      "[102]\tvalid_0's auc: 0.747969\n",
      "[103]\tvalid_0's auc: 0.748238\n",
      "[104]\tvalid_0's auc: 0.748321\n",
      "[105]\tvalid_0's auc: 0.748405\n",
      "[106]\tvalid_0's auc: 0.748432\n",
      "[107]\tvalid_0's auc: 0.748624\n",
      "[108]\tvalid_0's auc: 0.748647\n",
      "[109]\tvalid_0's auc: 0.748682\n",
      "[110]\tvalid_0's auc: 0.748659\n",
      "[111]\tvalid_0's auc: 0.748645\n",
      "[112]\tvalid_0's auc: 0.748637\n",
      "[113]\tvalid_0's auc: 0.748701\n",
      "[114]\tvalid_0's auc: 0.748717\n",
      "[115]\tvalid_0's auc: 0.748797\n",
      "[116]\tvalid_0's auc: 0.748867\n",
      "[117]\tvalid_0's auc: 0.748936\n",
      "[118]\tvalid_0's auc: 0.748962\n",
      "[119]\tvalid_0's auc: 0.748978\n",
      "[120]\tvalid_0's auc: 0.74895\n",
      "[121]\tvalid_0's auc: 0.748958\n",
      "[122]\tvalid_0's auc: 0.74897\n",
      "[123]\tvalid_0's auc: 0.748966\n",
      "[124]\tvalid_0's auc: 0.748999\n",
      "[125]\tvalid_0's auc: 0.748988\n",
      "[126]\tvalid_0's auc: 0.748996\n",
      "[127]\tvalid_0's auc: 0.748974\n",
      "[128]\tvalid_0's auc: 0.74917\n",
      "[129]\tvalid_0's auc: 0.749355\n",
      "[130]\tvalid_0's auc: 0.749396\n",
      "[131]\tvalid_0's auc: 0.749542\n",
      "[132]\tvalid_0's auc: 0.749602\n",
      "[133]\tvalid_0's auc: 0.74962\n",
      "[134]\tvalid_0's auc: 0.749691\n",
      "[135]\tvalid_0's auc: 0.749759\n",
      "[136]\tvalid_0's auc: 0.749788\n",
      "[137]\tvalid_0's auc: 0.749899\n",
      "[138]\tvalid_0's auc: 0.749863\n",
      "[139]\tvalid_0's auc: 0.749961\n",
      "[140]\tvalid_0's auc: 0.750147\n",
      "[141]\tvalid_0's auc: 0.75035\n",
      "[142]\tvalid_0's auc: 0.75038\n",
      "[143]\tvalid_0's auc: 0.750418\n",
      "[144]\tvalid_0's auc: 0.750415\n",
      "[145]\tvalid_0's auc: 0.750527\n",
      "[146]\tvalid_0's auc: 0.750546\n",
      "[147]\tvalid_0's auc: 0.750664\n",
      "[148]\tvalid_0's auc: 0.750704\n",
      "[149]\tvalid_0's auc: 0.750757\n",
      "[150]\tvalid_0's auc: 0.750924\n",
      "[151]\tvalid_0's auc: 0.750942\n",
      "[152]\tvalid_0's auc: 0.750891\n",
      "[153]\tvalid_0's auc: 0.750919\n",
      "[154]\tvalid_0's auc: 0.750906\n",
      "[155]\tvalid_0's auc: 0.750809\n",
      "[156]\tvalid_0's auc: 0.750823\n",
      "[157]\tvalid_0's auc: 0.75085\n",
      "[158]\tvalid_0's auc: 0.750897\n",
      "[159]\tvalid_0's auc: 0.750934\n",
      "[160]\tvalid_0's auc: 0.751005\n",
      "[161]\tvalid_0's auc: 0.751012\n",
      "[162]\tvalid_0's auc: 0.750984\n",
      "[163]\tvalid_0's auc: 0.751091\n",
      "[164]\tvalid_0's auc: 0.750959\n",
      "[165]\tvalid_0's auc: 0.750973\n",
      "[166]\tvalid_0's auc: 0.75101\n",
      "[167]\tvalid_0's auc: 0.75087\n",
      "[168]\tvalid_0's auc: 0.750972\n",
      "[169]\tvalid_0's auc: 0.750994\n",
      "[170]\tvalid_0's auc: 0.751024\n",
      "[171]\tvalid_0's auc: 0.75093\n",
      "[172]\tvalid_0's auc: 0.750945\n",
      "[173]\tvalid_0's auc: 0.750977\n",
      "Early stopping, best iteration is:\n",
      "[163]\tvalid_0's auc: 0.751091\n"
     ]
    }
   ],
   "source": [
    "d_train = lgb.Dataset(X_train, y_train)\n",
    "d_valid = lgb.Dataset(X_valid, y_valid, reference=d_train)\n",
    "bst = lgb.train(params, d_train, num_boost_round, valid_sets=d_valid, \n",
    "                categorical_feature=cat_cols,\n",
    "                verbose_eval=1,\n",
    "                early_stopping_rounds=10)"
   ]
  },
  {
   "cell_type": "code",
   "execution_count": null,
   "metadata": {},
   "outputs": [
    {
     "data": {
      "text/plain": [
       "[('cls', 117),\n",
       " ('end_sep_prob', 91),\n",
       " ('next_cls', 86),\n",
       " ('para_len_ratio', 77),\n",
       " ('num_words', 70),\n",
       " ('mean_prob', 58),\n",
       " ('start_sep_prob', 54),\n",
       " ('pre_cls', 45),\n",
       " ('num_classes', 39),\n",
       " ('para_len', 34),\n",
       " ('end', 29),\n",
       " ('end_ratio', 29),\n",
       " ('class_ratio', 29),\n",
       " ('start_ratio', 26),\n",
       " ('max_prob', 17),\n",
       " ('start', 14)]"
      ]
     },
     "execution_count": 49,
     "metadata": {},
     "output_type": "execute_result"
    }
   ],
   "source": [
    "l = list(zip(bst.feature_name(), bst.feature_importance()))\n",
    "l.sort(key=lambda x: -x[1])\n",
    "l"
   ]
  },
  {
   "cell_type": "code",
   "execution_count": null,
   "metadata": {},
   "outputs": [],
   "source": [
    "def greedy_decodes(df, cols, para_classifier):\n",
    "  df['pred'] = para_classifier.predict(df[cols])\n",
    "  ids = set(df.id)\n",
    "  ids_list, types_list, preds_list = [], [], []\n",
    "  for id in tqdm(ids):\n",
    "    d = df[df.id == id]\n",
    "    d = d.sort_values(['pred'], ascending=[False])\n",
    "    num_words = d.num_words.values[0]\n",
    "    used = np.zeros(num_words)\n",
    "    for row in d.itertuples():\n",
    "      start, end = row.start, row.end\n",
    "      # cls = row.cls\n",
    "      cls = row.top_class\n",
    "      if used[start: end].sum() == 0:\n",
    "        # used[start: end] = 1\n",
    "        # if cls > 0:\n",
    "        if row.mean_prob > proba_thresh[id2dis[cls]]:\n",
    "          used[start: end] = 1\n",
    "          if cls > 0:\n",
    "            ids_list.append(id)\n",
    "            types_list.append(id2dis[cls])\n",
    "            preds_list.append(' '.join([str(x) for x in range(start, end)]))\n",
    "      if used.sum() == num_words:\n",
    "        break\n",
    "          \n",
    "  df = pd.DataFrame({\n",
    "    'id': ids_list,\n",
    "    'class': types_list,\n",
    "    'predictionstring': preds_list,\n",
    "  })\n",
    "  return df"
   ]
  },
  {
   "cell_type": "code",
   "execution_count": null,
   "metadata": {},
   "outputs": [
    {
     "data": {
      "application/vnd.jupyter.widget-view+json": {
       "model_id": "39157e8cf0e64be2935619540323b626",
       "version_major": 2,
       "version_minor": 0
      },
      "text/plain": [
       "  0%|          | 0/3136 [00:00<?, ?it/s]"
      ]
     },
     "metadata": {},
     "output_type": "display_data"
    }
   ],
   "source": [
    "df_pred = greedy_decodes(dvalid, cols, bst)"
   ]
  },
  {
   "cell_type": "code",
   "execution_count": null,
   "metadata": {},
   "outputs": [],
   "source": [
    "df_gt = pd.read_csv('../working/offline/47/valid_gt.csv')"
   ]
  },
  {
   "cell_type": "code",
   "execution_count": null,
   "metadata": {},
   "outputs": [
    {
     "data": {
      "application/vnd.jupyter.widget-view+json": {
       "model_id": "cd59c22ab6424a3493be915e04bb83b1",
       "version_major": 2,
       "version_minor": 0
      },
      "text/plain": [
       "calc_f1:   0%|          | 0/7 [00:00<?, ?it/s]"
      ]
     },
     "metadata": {},
     "output_type": "display_data"
    },
    {
     "name": "stderr",
     "output_type": "stream",
     "text": [
      "ic| <ipython-input-53-cb78f7a414c1>:2 in <module>\n",
      "    res['f1/Overall']: 0.6975778634132961\n",
      "ic| <ipython-input-53-cb78f7a414c1>:3 in <module>\n",
      "    res: {'acc/Claim': 0.7185264663805436,\n",
      "          'acc/Concluding Statement': 0.8636363636363636,\n",
      "          'acc/Counterclaim': 0.6252465483234714,\n",
      "          'acc/Evidence': 0.7758917307030623,\n",
      "          'acc/Lead': 0.8309022150189087,\n",
      "          'acc/Position': 0.7398625429553265,\n",
      "          'acc/Rebuttal': 0.5200534759358288,\n",
      "          'cm/Claim': array([[6027, 2361],\n",
      "                [4125, 4263]]),\n",
      "          'cm/Concluding Statement': array([[2394,  378],\n",
      "                [ 331, 2441]]),\n",
      "          'cm/Counterclaim': array([[634, 380],\n",
      "                [546, 468]]),\n",
      "          'cm/Evidence': array([[6765, 1954],\n",
      "                [2453, 6266]]),\n",
      "          'cm/Lead': array([[1538,  313],\n",
      "                [ 318, 1533]]),\n",
      "          'cm/Position': array([[2153,  757],\n",
      "                [ 956, 1954]]),\n",
      "          'cm/Rebuttal': array([[389, 359],\n",
      "                [469, 279]]),\n",
      "          'f1/Claim': 0.6501618122977346,\n",
      "          'f1/Concluding Statement': 0.8710205566672731,\n",
      "          'f1/Counterclaim': 0.577939835916135,\n",
      "          'f1/Evidence': 0.7543067402575682,\n",
      "          'f1/Lead': 0.8297814944699218,\n",
      "          'f1/Overall': 0.6975778634132961,\n",
      "          'f1/Position': 0.7154012294401063,\n",
      "          'f1/Rebuttal': 0.48443337484433374,\n",
      "          'recall/Claim': 0.5936761229314421,\n",
      "          'recall/Concluding Statement': 0.8785321100917431,\n",
      "          'recall/Counterclaim': 0.5372881355932203,\n",
      "          'recall/Evidence': 0.733890214797136,\n",
      "          'recall/Lead': 0.8286637931034483,\n",
      "          'recall/Position': 0.6925056288195561,\n",
      "          'recall/Rebuttal': 0.4533799533799534}\n"
     ]
    },
    {
     "data": {
      "text/plain": [
       "{'f1/Overall': 0.6975778634132961,\n",
       " 'f1/Claim': 0.6501618122977346,\n",
       " 'acc/Claim': 0.7185264663805436,\n",
       " 'recall/Claim': 0.5936761229314421,\n",
       " 'cm/Claim': array([[6027, 2361],\n",
       "        [4125, 4263]]),\n",
       " 'f1/Evidence': 0.7543067402575682,\n",
       " 'acc/Evidence': 0.7758917307030623,\n",
       " 'recall/Evidence': 0.733890214797136,\n",
       " 'cm/Evidence': array([[6765, 1954],\n",
       "        [2453, 6266]]),\n",
       " 'f1/Position': 0.7154012294401063,\n",
       " 'acc/Position': 0.7398625429553265,\n",
       " 'recall/Position': 0.6925056288195561,\n",
       " 'cm/Position': array([[2153,  757],\n",
       "        [ 956, 1954]]),\n",
       " 'f1/Concluding Statement': 0.8710205566672731,\n",
       " 'acc/Concluding Statement': 0.8636363636363636,\n",
       " 'recall/Concluding Statement': 0.8785321100917431,\n",
       " 'cm/Concluding Statement': array([[2394,  378],\n",
       "        [ 331, 2441]]),\n",
       " 'f1/Lead': 0.8297814944699218,\n",
       " 'acc/Lead': 0.8309022150189087,\n",
       " 'recall/Lead': 0.8286637931034483,\n",
       " 'cm/Lead': array([[1538,  313],\n",
       "        [ 318, 1533]]),\n",
       " 'f1/Counterclaim': 0.577939835916135,\n",
       " 'acc/Counterclaim': 0.6252465483234714,\n",
       " 'recall/Counterclaim': 0.5372881355932203,\n",
       " 'cm/Counterclaim': array([[634, 380],\n",
       "        [546, 468]]),\n",
       " 'f1/Rebuttal': 0.48443337484433374,\n",
       " 'acc/Rebuttal': 0.5200534759358288,\n",
       " 'recall/Rebuttal': 0.4533799533799534,\n",
       " 'cm/Rebuttal': array([[389, 359],\n",
       "        [469, 279]])}"
      ]
     },
     "execution_count": 53,
     "metadata": {},
     "output_type": "execute_result"
    }
   ],
   "source": [
    "res = calc_metrics(df_gt[df_gt.id.isin(set(df_pred.id))], df_pred)\n",
    "ic(res['f1/Overall'])\n",
    "ic(res)"
   ]
  },
  {
   "cell_type": "code",
   "execution_count": null,
   "metadata": {},
   "outputs": [],
   "source": [
    "# df_pred2[df_pred2.id=='4125C404E34B']"
   ]
  },
  {
   "cell_type": "code",
   "execution_count": null,
   "metadata": {},
   "outputs": [],
   "source": [
    "# dvalid[dvalid.id=='4125C404E34B'][['id', 'pred', 'match', 'score', 'start', 'end', 'cls', 'mean_prob', 'start_sep_prob', 'end_sep_prob']]"
   ]
  },
  {
   "cell_type": "code",
   "execution_count": null,
   "metadata": {},
   "outputs": [],
   "source": [
    "# gts['4125C404E34B']"
   ]
  },
  {
   "cell_type": "code",
   "execution_count": null,
   "metadata": {},
   "outputs": [],
   "source": [
    "# ALL_CLASSES"
   ]
  },
  {
   "cell_type": "code",
   "execution_count": null,
   "metadata": {},
   "outputs": [],
   "source": [
    "# df_pred2 = df_pred2[df_pred2.id.isin(set(df_pred.id))]"
   ]
  },
  {
   "cell_type": "code",
   "execution_count": null,
   "metadata": {},
   "outputs": [],
   "source": [
    "# df_pred_fold1 = greedy_decodes(ds[1], cols, bst)"
   ]
  },
  {
   "cell_type": "code",
   "execution_count": null,
   "metadata": {},
   "outputs": [],
   "source": [
    "# res = calc_metrics(df_gt[df_gt.id.isin(set(df_pred_fold1.id))], df_pred_fold1)\n",
    "# ic(res)"
   ]
  },
  {
   "cell_type": "code",
   "execution_count": null,
   "metadata": {},
   "outputs": [],
   "source": [
    "valid_ids = set(dvalid.id)"
   ]
  },
  {
   "cell_type": "code",
   "execution_count": null,
   "metadata": {},
   "outputs": [
    {
     "data": {
      "text/plain": [
       "3136"
      ]
     },
     "execution_count": 39,
     "metadata": {},
     "output_type": "execute_result"
    }
   ],
   "source": [
    "len(valid_ids)"
   ]
  },
  {
   "cell_type": "code",
   "execution_count": null,
   "metadata": {},
   "outputs": [],
   "source": [
    "from src.config import proba_thresh"
   ]
  },
  {
   "cell_type": "code",
   "execution_count": null,
   "metadata": {},
   "outputs": [],
   "source": [
    "def get_pred_bystart(x, post_adjust=True, pred_info=None):\n",
    "  MIN_LEN = FLAGS.para_min_len  #2\n",
    "  MIN_LEN2 = FLAGS.para_min_len2 #6\n",
    "  NUM_CLASSES = len(id2dis)\n",
    "  pred = x['preds']\n",
    "  total = len(pred)\n",
    "  # by prob not logit\n",
    "  probs = x['probs'] \n",
    "  # probs = x['pred']\n",
    "  start_prob = x['start_probs'] if 'start_probs' in x else None\n",
    "  # ic((start_prob[:,1] > start_prob[:,0]).astype(int).sum())\n",
    "  pre_type = None\n",
    "  # predictionstring list\n",
    "  preds_list = []\n",
    "  # store each pred word_id for one precitionstring\n",
    "  preds = [] \n",
    "  pre_scores = np.zeros_like(probs[0])\n",
    "  \n",
    "  types = []\n",
    "    \n",
    "  pre_probs = None\n",
    "  for i in range(total):    \n",
    "    pre_cls = np.argmax(pre_scores)\n",
    "    pre_type = id2dis[pre_cls]\n",
    "    now_type = id2dis[np.argmax(probs[i])]\n",
    "    \n",
    "    is_sep = False\n",
    "    if start_prob[i].sum() == 0:\n",
    "      is_sep = True\n",
    "      \n",
    "    if start_prob is None:\n",
    "      is_sep = pred[i] % 2 == 1\n",
    "    else:\n",
    "      is_sep = start_prob[i][1] > 0.5\n",
    "      \n",
    "      if post_adjust:\n",
    "        if i > 0:\n",
    "          # 注意目前最高线上版本依然是按照第一个model取pred而不是ensemble的结果取pred信息，另外有adjacent rule待验证\n",
    "          if pred[i] != pred[i - 1]:\n",
    "            if start_prob[i][1] > 0.3 and (pre_type in  ['Rebuttal', 'Counterclaim']):\n",
    "                is_sep = True\n",
    "            # 这个目前有利于shortformer 不利于longformer longformer的start预测更准确\n",
    "            # 之前小模型集成这个是707 708有1k收益 但是目前看小模型自己集成之后似乎也可以去掉\n",
    "            if FLAGS.adjacent_rule:\n",
    "              if pre_probs[pred[i - 1]] > 0.5 and probs[i][pred[i]] > 0.5 and len(preds) >= min_thresh[id2dis[pred[i - 1]]]:\n",
    "                is_sep = True\n",
    "          else:\n",
    "            if pre_type == 'Evidence':\n",
    "              if start_prob[i][1] < 0.55:\n",
    "                is_sep = False\n",
    "                \n",
    "          # if start_prob[i][1] > 0.1:\n",
    "          #   start = i - len(preds)\n",
    "          #   end = i\n",
    "          #   try:\n",
    "          #     pred_value = pred_info[(pred_info.start==start) & (pred_info.end==end) & (pred_info.cls==pre_cls)]['pred'].values[0]\n",
    "          #   except Exception:\n",
    "          #     pred_value = 0\n",
    "          #   # print(start_prob[i][1], pred_value)\n",
    "          #   if pred_value > proba_thresh[pre_type]:\n",
    "          #     is_sep = True\n",
    "              \n",
    "      # else:\n",
    "      #   if pred[i] != pred[i - 1]:\n",
    "      #     is_sep = True\n",
    "            \n",
    "    if is_sep:\n",
    "      if preds:  \n",
    "        if pre_type != 'Nothing':\n",
    "          if post_adjust:\n",
    "            if len(preds) < MIN_LEN:\n",
    "              # 低置信度的干脆放弃召回 更安全 pass not continue\n",
    "              pass\n",
    "            else:\n",
    "              if pre_probs.max() > proba_thresh[pre_type]:\n",
    "                preds_list.append(' '.join(preds))\n",
    "                types.append(pre_type)\n",
    "          else:\n",
    "            preds_list.append(' '.join(preds))\n",
    "            types.append(pre_type)\n",
    "            \n",
    "        preds = []\n",
    "        pre_scores = np.zeros_like(probs[0])\n",
    "              \n",
    "    pre_scores += probs[i] \n",
    "    pre_probs = gezi.softmax(pre_scores)\n",
    "    preds.append(str(i))\n",
    "    \n",
    "  if preds:\n",
    "    if pre_scores.shape[-1] > NUM_CLASSES:\n",
    "      pre_type = id2dis[int(np.argmax(pre_scores) / 2)]\n",
    "    else:\n",
    "      pre_type = id2dis[np.argmax(pre_scores)]\n",
    "      \n",
    "    # 结尾应该更长\n",
    "    if pre_type != 'Nothing':\n",
    "      if post_adjust:\n",
    "        if len(preds) >= MIN_LEN2:\n",
    "          if pre_probs.max() > proba_thresh[pre_type]:\n",
    "            preds_list.append(' '.join(preds))\n",
    "            types.append(pre_type)\n",
    "      else:\n",
    "        preds_list.append(' '.join(preds))\n",
    "        types.append(pre_type)\n",
    "  return types, preds_list\n"
   ]
  },
  {
   "cell_type": "code",
   "execution_count": null,
   "metadata": {},
   "outputs": [],
   "source": [
    "def get_preds_(x, post_adjust=True, selected_ids=None, fold=None, folds=5):  \n",
    "  # ic(post_adjust)\n",
    "  pred_fn = None\n",
    "  if FLAGS.token2word:\n",
    "    if FLAGS.pred_method == 'end':\n",
    "      pred_fn = get_pred_byend\n",
    "    elif FLAGS.pred_method == 'se':\n",
    "      pred_fn = get_pred_byse\n",
    "    elif FLAGS.pred_method == 'start':\n",
    "      pred_fn = get_pred_bystart\n",
    "    else:\n",
    "      raise ValueError(FLAGS.pred_method)\n",
    "  else:\n",
    "    if FLAGS.pred_method == 'end':\n",
    "      pred_fn = get_pred_byend2\n",
    "    elif FLAGS.pred_method == 'se':\n",
    "      pred_fn = get_pred_byse2\n",
    "    elif FLAGS.pred_method == 'start':\n",
    "      pred_fn = get_pred_bystart2\n",
    "    else:\n",
    "      raise ValueError(FLAGS.pred_method)\n",
    "  # ic(pred_fn)\n",
    "\n",
    "  total = len(x['id'])\n",
    "  # with gezi.Timer('get_preds'):\n",
    "  # ic(FLAGS.openmp)\n",
    "  ids_list, types_list, preds_list = [], [], []\n",
    "  for i in tqdm(range(total), desc='get_preds', leave=False):\n",
    "    id = x['id'][i]\n",
    "    if selected_ids is not None and id not in selected_ids:\n",
    "      continue\n",
    "    if fold is not None:\n",
    "      if i % folds != fold:\n",
    "        continue\n",
    "    x_ = {}\n",
    "    for key in x: \n",
    "      x_[key] = x[key][i]\n",
    "    types, preds = pred_fn(x_, post_adjust=post_adjust, pred_info=dvalid[dvalid.id==id])\n",
    "    ids_list.extend([id] * len(types))\n",
    "    types_list.extend(types)\n",
    "    preds_list.extend(preds)\n",
    " \n",
    "  m = {\n",
    "    'id': ids_list,\n",
    "    'class': types_list,\n",
    "    'predictionstring': preds_list\n",
    "  }\n",
    "\n",
    "  df = pd.DataFrame(m)\n",
    "    \n",
    "  return df\n",
    "\n",
    "def get_preds(x, post_adjust=True, selected_ids=None, folds=5):  \n",
    "  if selected_ids is not None:\n",
    "    return get_preds_(x, post_adjust, selected_ids)\n",
    "  else:\n",
    "    dfs = Manager().dict()\n",
    "    with pymp.Parallel(folds) as p:\n",
    "      for i in p.range(folds):\n",
    "        dfs[i] = get_preds_(x, post_adjust, fold=i, folds=folds)\n",
    "    return pd.concat(dfs.values())"
   ]
  },
  {
   "cell_type": "code",
   "execution_count": null,
   "metadata": {},
   "outputs": [],
   "source": [
    "gezi.init_flags()"
   ]
  },
  {
   "cell_type": "code",
   "execution_count": null,
   "metadata": {},
   "outputs": [
    {
     "data": {
      "application/vnd.jupyter.widget-view+json": {
       "model_id": "996f4e1e513f4addb35c3864ef3671bb",
       "version_major": 2,
       "version_minor": 0
      },
      "text/plain": [
       "get_preds:   0%|          | 0/15594 [00:00<?, ?it/s]"
      ]
     },
     "metadata": {},
     "output_type": "display_data"
    },
    {
     "ename": "KeyboardInterrupt",
     "evalue": "",
     "output_type": "error",
     "traceback": [
      "\u001b[0;31m---------------------------------------------------------------------------\u001b[0m",
      "\u001b[0;31mKeyboardInterrupt\u001b[0m                         Traceback (most recent call last)",
      "\u001b[0;32m<ipython-input-44-78d5bd6e6b06>\u001b[0m in \u001b[0;36m<module>\u001b[0;34m\u001b[0m\n\u001b[0;32m----> 1\u001b[0;31m \u001b[0mdf_pred2\u001b[0m \u001b[0;34m=\u001b[0m \u001b[0mget_preds\u001b[0m\u001b[0;34m(\u001b[0m\u001b[0minfo\u001b[0m\u001b[0;34m,\u001b[0m \u001b[0mselected_ids\u001b[0m\u001b[0;34m=\u001b[0m\u001b[0mvalid_ids\u001b[0m\u001b[0;34m)\u001b[0m\u001b[0;34m\u001b[0m\u001b[0;34m\u001b[0m\u001b[0m\n\u001b[0m",
      "\u001b[0;32m<ipython-input-42-b4702647d1cc>\u001b[0m in \u001b[0;36mget_preds\u001b[0;34m(x, post_adjust, selected_ids, folds)\u001b[0m\n\u001b[1;32m     53\u001b[0m \u001b[0;32mdef\u001b[0m \u001b[0mget_preds\u001b[0m\u001b[0;34m(\u001b[0m\u001b[0mx\u001b[0m\u001b[0;34m,\u001b[0m \u001b[0mpost_adjust\u001b[0m\u001b[0;34m=\u001b[0m\u001b[0;32mTrue\u001b[0m\u001b[0;34m,\u001b[0m \u001b[0mselected_ids\u001b[0m\u001b[0;34m=\u001b[0m\u001b[0;32mNone\u001b[0m\u001b[0;34m,\u001b[0m \u001b[0mfolds\u001b[0m\u001b[0;34m=\u001b[0m\u001b[0;36m5\u001b[0m\u001b[0;34m)\u001b[0m\u001b[0;34m:\u001b[0m\u001b[0;34m\u001b[0m\u001b[0;34m\u001b[0m\u001b[0m\n\u001b[1;32m     54\u001b[0m   \u001b[0;32mif\u001b[0m \u001b[0mselected_ids\u001b[0m \u001b[0;32mis\u001b[0m \u001b[0;32mnot\u001b[0m \u001b[0;32mNone\u001b[0m\u001b[0;34m:\u001b[0m\u001b[0;34m\u001b[0m\u001b[0;34m\u001b[0m\u001b[0m\n\u001b[0;32m---> 55\u001b[0;31m     \u001b[0;32mreturn\u001b[0m \u001b[0mget_preds_\u001b[0m\u001b[0;34m(\u001b[0m\u001b[0mx\u001b[0m\u001b[0;34m,\u001b[0m \u001b[0mpost_adjust\u001b[0m\u001b[0;34m,\u001b[0m \u001b[0mselected_ids\u001b[0m\u001b[0;34m)\u001b[0m\u001b[0;34m\u001b[0m\u001b[0;34m\u001b[0m\u001b[0m\n\u001b[0m\u001b[1;32m     56\u001b[0m   \u001b[0;32melse\u001b[0m\u001b[0;34m:\u001b[0m\u001b[0;34m\u001b[0m\u001b[0;34m\u001b[0m\u001b[0m\n\u001b[1;32m     57\u001b[0m     \u001b[0mdfs\u001b[0m \u001b[0;34m=\u001b[0m \u001b[0mManager\u001b[0m\u001b[0;34m(\u001b[0m\u001b[0;34m)\u001b[0m\u001b[0;34m.\u001b[0m\u001b[0mdict\u001b[0m\u001b[0;34m(\u001b[0m\u001b[0;34m)\u001b[0m\u001b[0;34m\u001b[0m\u001b[0;34m\u001b[0m\u001b[0m\n",
      "\u001b[0;32m<ipython-input-42-b4702647d1cc>\u001b[0m in \u001b[0;36mget_preds_\u001b[0;34m(x, post_adjust, selected_ids, fold, folds)\u001b[0m\n\u001b[1;32m     36\u001b[0m     \u001b[0;32mfor\u001b[0m \u001b[0mkey\u001b[0m \u001b[0;32min\u001b[0m \u001b[0mx\u001b[0m\u001b[0;34m:\u001b[0m\u001b[0;34m\u001b[0m\u001b[0;34m\u001b[0m\u001b[0m\n\u001b[1;32m     37\u001b[0m       \u001b[0mx_\u001b[0m\u001b[0;34m[\u001b[0m\u001b[0mkey\u001b[0m\u001b[0;34m]\u001b[0m \u001b[0;34m=\u001b[0m \u001b[0mx\u001b[0m\u001b[0;34m[\u001b[0m\u001b[0mkey\u001b[0m\u001b[0;34m]\u001b[0m\u001b[0;34m[\u001b[0m\u001b[0mi\u001b[0m\u001b[0;34m]\u001b[0m\u001b[0;34m\u001b[0m\u001b[0;34m\u001b[0m\u001b[0m\n\u001b[0;32m---> 38\u001b[0;31m     \u001b[0mtypes\u001b[0m\u001b[0;34m,\u001b[0m \u001b[0mpreds\u001b[0m \u001b[0;34m=\u001b[0m \u001b[0mpred_fn\u001b[0m\u001b[0;34m(\u001b[0m\u001b[0mx_\u001b[0m\u001b[0;34m,\u001b[0m \u001b[0mpost_adjust\u001b[0m\u001b[0;34m=\u001b[0m\u001b[0mpost_adjust\u001b[0m\u001b[0;34m,\u001b[0m \u001b[0mpred_info\u001b[0m\u001b[0;34m=\u001b[0m\u001b[0mdvalid\u001b[0m\u001b[0;34m[\u001b[0m\u001b[0mdvalid\u001b[0m\u001b[0;34m.\u001b[0m\u001b[0mid\u001b[0m\u001b[0;34m==\u001b[0m\u001b[0mid\u001b[0m\u001b[0;34m]\u001b[0m\u001b[0;34m)\u001b[0m\u001b[0;34m\u001b[0m\u001b[0;34m\u001b[0m\u001b[0m\n\u001b[0m\u001b[1;32m     39\u001b[0m     \u001b[0mids_list\u001b[0m\u001b[0;34m.\u001b[0m\u001b[0mextend\u001b[0m\u001b[0;34m(\u001b[0m\u001b[0;34m[\u001b[0m\u001b[0mid\u001b[0m\u001b[0;34m]\u001b[0m \u001b[0;34m*\u001b[0m \u001b[0mlen\u001b[0m\u001b[0;34m(\u001b[0m\u001b[0mtypes\u001b[0m\u001b[0;34m)\u001b[0m\u001b[0;34m)\u001b[0m\u001b[0;34m\u001b[0m\u001b[0;34m\u001b[0m\u001b[0m\n\u001b[1;32m     40\u001b[0m     \u001b[0mtypes_list\u001b[0m\u001b[0;34m.\u001b[0m\u001b[0mextend\u001b[0m\u001b[0;34m(\u001b[0m\u001b[0mtypes\u001b[0m\u001b[0;34m)\u001b[0m\u001b[0;34m\u001b[0m\u001b[0;34m\u001b[0m\u001b[0m\n",
      "\u001b[0;32m~/.local/lib/python3.6/site-packages/pandas/core/ops/common.py\u001b[0m in \u001b[0;36mnew_method\u001b[0;34m(self, other)\u001b[0m\n\u001b[1;32m     63\u001b[0m         \u001b[0mother\u001b[0m \u001b[0;34m=\u001b[0m \u001b[0mitem_from_zerodim\u001b[0m\u001b[0;34m(\u001b[0m\u001b[0mother\u001b[0m\u001b[0;34m)\u001b[0m\u001b[0;34m\u001b[0m\u001b[0;34m\u001b[0m\u001b[0m\n\u001b[1;32m     64\u001b[0m \u001b[0;34m\u001b[0m\u001b[0m\n\u001b[0;32m---> 65\u001b[0;31m         \u001b[0;32mreturn\u001b[0m \u001b[0mmethod\u001b[0m\u001b[0;34m(\u001b[0m\u001b[0mself\u001b[0m\u001b[0;34m,\u001b[0m \u001b[0mother\u001b[0m\u001b[0;34m)\u001b[0m\u001b[0;34m\u001b[0m\u001b[0;34m\u001b[0m\u001b[0m\n\u001b[0m\u001b[1;32m     66\u001b[0m \u001b[0;34m\u001b[0m\u001b[0m\n\u001b[1;32m     67\u001b[0m     \u001b[0;32mreturn\u001b[0m \u001b[0mnew_method\u001b[0m\u001b[0;34m\u001b[0m\u001b[0;34m\u001b[0m\u001b[0m\n",
      "\u001b[0;32m~/.local/lib/python3.6/site-packages/pandas/core/ops/__init__.py\u001b[0m in \u001b[0;36mwrapper\u001b[0;34m(self, other)\u001b[0m\n\u001b[1;32m    368\u001b[0m         \u001b[0mrvalues\u001b[0m \u001b[0;34m=\u001b[0m \u001b[0mextract_array\u001b[0m\u001b[0;34m(\u001b[0m\u001b[0mother\u001b[0m\u001b[0;34m,\u001b[0m \u001b[0mextract_numpy\u001b[0m\u001b[0;34m=\u001b[0m\u001b[0;32mTrue\u001b[0m\u001b[0;34m)\u001b[0m\u001b[0;34m\u001b[0m\u001b[0;34m\u001b[0m\u001b[0m\n\u001b[1;32m    369\u001b[0m \u001b[0;34m\u001b[0m\u001b[0m\n\u001b[0;32m--> 370\u001b[0;31m         \u001b[0mres_values\u001b[0m \u001b[0;34m=\u001b[0m \u001b[0mcomparison_op\u001b[0m\u001b[0;34m(\u001b[0m\u001b[0mlvalues\u001b[0m\u001b[0;34m,\u001b[0m \u001b[0mrvalues\u001b[0m\u001b[0;34m,\u001b[0m \u001b[0mop\u001b[0m\u001b[0;34m)\u001b[0m\u001b[0;34m\u001b[0m\u001b[0;34m\u001b[0m\u001b[0m\n\u001b[0m\u001b[1;32m    371\u001b[0m \u001b[0;34m\u001b[0m\u001b[0m\n\u001b[1;32m    372\u001b[0m         \u001b[0;32mreturn\u001b[0m \u001b[0mself\u001b[0m\u001b[0;34m.\u001b[0m\u001b[0m_construct_result\u001b[0m\u001b[0;34m(\u001b[0m\u001b[0mres_values\u001b[0m\u001b[0;34m,\u001b[0m \u001b[0mname\u001b[0m\u001b[0;34m=\u001b[0m\u001b[0mres_name\u001b[0m\u001b[0;34m)\u001b[0m\u001b[0;34m\u001b[0m\u001b[0;34m\u001b[0m\u001b[0m\n",
      "\u001b[0;32m~/.local/lib/python3.6/site-packages/pandas/core/ops/array_ops.py\u001b[0m in \u001b[0;36mcomparison_op\u001b[0;34m(left, right, op)\u001b[0m\n\u001b[1;32m    242\u001b[0m \u001b[0;34m\u001b[0m\u001b[0m\n\u001b[1;32m    243\u001b[0m     \u001b[0;32melif\u001b[0m \u001b[0mis_object_dtype\u001b[0m\u001b[0;34m(\u001b[0m\u001b[0mlvalues\u001b[0m\u001b[0;34m.\u001b[0m\u001b[0mdtype\u001b[0m\u001b[0;34m)\u001b[0m\u001b[0;34m:\u001b[0m\u001b[0;34m\u001b[0m\u001b[0;34m\u001b[0m\u001b[0m\n\u001b[0;32m--> 244\u001b[0;31m         \u001b[0mres_values\u001b[0m \u001b[0;34m=\u001b[0m \u001b[0mcomp_method_OBJECT_ARRAY\u001b[0m\u001b[0;34m(\u001b[0m\u001b[0mop\u001b[0m\u001b[0;34m,\u001b[0m \u001b[0mlvalues\u001b[0m\u001b[0;34m,\u001b[0m \u001b[0mrvalues\u001b[0m\u001b[0;34m)\u001b[0m\u001b[0;34m\u001b[0m\u001b[0;34m\u001b[0m\u001b[0m\n\u001b[0m\u001b[1;32m    245\u001b[0m \u001b[0;34m\u001b[0m\u001b[0m\n\u001b[1;32m    246\u001b[0m     \u001b[0;32melse\u001b[0m\u001b[0;34m:\u001b[0m\u001b[0;34m\u001b[0m\u001b[0;34m\u001b[0m\u001b[0m\n",
      "\u001b[0;32m~/.local/lib/python3.6/site-packages/pandas/core/ops/array_ops.py\u001b[0m in \u001b[0;36mcomp_method_OBJECT_ARRAY\u001b[0;34m(op, x, y)\u001b[0m\n\u001b[1;32m     54\u001b[0m         \u001b[0mresult\u001b[0m \u001b[0;34m=\u001b[0m \u001b[0mlibops\u001b[0m\u001b[0;34m.\u001b[0m\u001b[0mvec_compare\u001b[0m\u001b[0;34m(\u001b[0m\u001b[0mx\u001b[0m\u001b[0;34m.\u001b[0m\u001b[0mravel\u001b[0m\u001b[0;34m(\u001b[0m\u001b[0;34m)\u001b[0m\u001b[0;34m,\u001b[0m \u001b[0my\u001b[0m\u001b[0;34m.\u001b[0m\u001b[0mravel\u001b[0m\u001b[0;34m(\u001b[0m\u001b[0;34m)\u001b[0m\u001b[0;34m,\u001b[0m \u001b[0mop\u001b[0m\u001b[0;34m)\u001b[0m\u001b[0;34m\u001b[0m\u001b[0;34m\u001b[0m\u001b[0m\n\u001b[1;32m     55\u001b[0m     \u001b[0;32melse\u001b[0m\u001b[0;34m:\u001b[0m\u001b[0;34m\u001b[0m\u001b[0;34m\u001b[0m\u001b[0m\n\u001b[0;32m---> 56\u001b[0;31m         \u001b[0mresult\u001b[0m \u001b[0;34m=\u001b[0m \u001b[0mlibops\u001b[0m\u001b[0;34m.\u001b[0m\u001b[0mscalar_compare\u001b[0m\u001b[0;34m(\u001b[0m\u001b[0mx\u001b[0m\u001b[0;34m.\u001b[0m\u001b[0mravel\u001b[0m\u001b[0;34m(\u001b[0m\u001b[0;34m)\u001b[0m\u001b[0;34m,\u001b[0m \u001b[0my\u001b[0m\u001b[0;34m,\u001b[0m \u001b[0mop\u001b[0m\u001b[0;34m)\u001b[0m\u001b[0;34m\u001b[0m\u001b[0;34m\u001b[0m\u001b[0m\n\u001b[0m\u001b[1;32m     57\u001b[0m     \u001b[0;32mreturn\u001b[0m \u001b[0mresult\u001b[0m\u001b[0;34m.\u001b[0m\u001b[0mreshape\u001b[0m\u001b[0;34m(\u001b[0m\u001b[0mx\u001b[0m\u001b[0;34m.\u001b[0m\u001b[0mshape\u001b[0m\u001b[0;34m)\u001b[0m\u001b[0;34m\u001b[0m\u001b[0;34m\u001b[0m\u001b[0m\n\u001b[1;32m     58\u001b[0m \u001b[0;34m\u001b[0m\u001b[0m\n",
      "\u001b[0;31mKeyboardInterrupt\u001b[0m: "
     ]
    }
   ],
   "source": [
    "df_pred2 = get_preds(info, selected_ids=valid_ids)"
   ]
  },
  {
   "cell_type": "code",
   "execution_count": null,
   "metadata": {},
   "outputs": [],
   "source": [
    "len(df_pred2)"
   ]
  },
  {
   "cell_type": "code",
   "execution_count": null,
   "metadata": {},
   "outputs": [],
   "source": [
    "len(set(df_pred2.id))"
   ]
  },
  {
   "cell_type": "code",
   "execution_count": null,
   "metadata": {},
   "outputs": [],
   "source": [
    "res = calc_metrics(df_gt[df_gt.id.isin(valid_ids)], df_pred2[df_pred2.id.isin(valid_ids)])\n",
    "res"
   ]
  },
  {
   "cell_type": "code",
   "execution_count": null,
   "metadata": {},
   "outputs": [],
   "source": [
    "res = calc_metrics(df_gt[df_gt.id.isin(valid_ids)], link_evidence(df_pred2[df_pred2.id.isin(valid_ids)]))\n",
    "res"
   ]
  },
  {
   "cell_type": "code",
   "execution_count": null,
   "metadata": {},
   "outputs": [],
   "source": [
    "df_valid2 = pd.read_feather('../working/offline/44/1/base.bart.start/valid_gt.fea')"
   ]
  },
  {
   "cell_type": "code",
   "execution_count": null,
   "metadata": {},
   "outputs": [],
   "source": [
    "len(set(df_valid2.id))"
   ]
  },
  {
   "cell_type": "code",
   "execution_count": null,
   "metadata": {},
   "outputs": [],
   "source": [
    "res = calc_metrics(df_valid2, link_evidence(df_pred2[df_pred2.id.isin(valid_ids)]))\n",
    "res"
   ]
  },
  {
   "cell_type": "code",
   "execution_count": null,
   "metadata": {},
   "outputs": [],
   "source": []
  }
 ],
 "metadata": {
  "interpreter": {
   "hash": "2e1511501be64c09e2f1eb58c3220ebc9ce84b491d308a480caed250bbb4af51"
  },
  "kernelspec": {
   "display_name": "Python 3.6.13 64-bit (conda)",
   "language": "python",
   "name": "python3"
  },
  "language_info": {
   "codemirror_mode": {
    "name": "ipython",
    "version": 3
   },
   "file_extension": ".py",
   "mimetype": "text/x-python",
   "name": "python",
   "nbconvert_exporter": "python",
   "pygments_lexer": "ipython3",
   "version": "3.7.9"
  },
  "orig_nbformat": 4
 },
 "nbformat": 4,
 "nbformat_minor": 2
}
