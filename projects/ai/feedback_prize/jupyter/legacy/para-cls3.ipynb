{
 "cells": [
  {
   "cell_type": "code",
   "execution_count": 1,
   "metadata": {},
   "outputs": [],
   "source": [
    "import numpy as np\n",
    "import pandas as pd\n",
    "import random\n",
    "import itertools\n",
    "import matplotlib.pyplot as plt\n",
    "import plotly.express as px\n",
    "import glob\n",
    "import spacy\n",
    "import sklearn\n",
    "from collections import defaultdict, Counter\n",
    "from bisect import bisect_left\n",
    "import matplotlib.pyplot as plt\n",
    "import matplotlib\n",
    "import io\n",
    "import base64\n",
    "import pymp\n",
    "from multiprocessing import Pool, Manager, cpu_count\n",
    "from IPython.display import display_html\n",
    "from itertools import chain, cycle\n",
    "import lightgbm as lgb\n",
    "import sys\n",
    "sys.path.append('../../../../utils')\n",
    "sys.path.append('..')\n",
    "import gezi\n",
    "from gezi import tqdm\n",
    "from src.eval import *\n",
    "from src.util import *\n",
    "from src import config\n",
    "from src.visualize import *\n",
    "from src.rewards import *\n",
    "pd.set_option('display.float_format', lambda x: '%.02f' % x)"
   ]
  },
  {
   "cell_type": "code",
   "execution_count": 2,
   "metadata": {},
   "outputs": [],
   "source": [
    "# https://www.kaggle.com/chasembowers/sequence-postprocessing-v2-67-lb/notebook#Sequence-Datasets"
   ]
  },
  {
   "cell_type": "code",
   "execution_count": 3,
   "metadata": {},
   "outputs": [],
   "source": [
    "root = '../input/feedback-prize-2021'"
   ]
  },
  {
   "cell_type": "code",
   "execution_count": 4,
   "metadata": {},
   "outputs": [],
   "source": [
    "df = pd.read_feather(f'{root}/train_en.fea')"
   ]
  },
  {
   "cell_type": "code",
   "execution_count": 5,
   "metadata": {},
   "outputs": [
    {
     "data": {
      "text/plain": [
       "{'Nothing': 132,\n",
       " 'Claim': 55,\n",
       " 'Evidence': 299,\n",
       " 'Position': 59,\n",
       " 'Concluding Statement': 191,\n",
       " 'Lead': 197,\n",
       " 'Counterclaim': 95,\n",
       " 'Rebuttal': 116}"
      ]
     },
     "execution_count": 5,
     "metadata": {},
     "output_type": "execute_result"
    }
   ],
   "source": [
    "MAX_SEQ_LEN = {}\n",
    "df['len'] = df.end - df.start\n",
    "max_lens = df.groupby('para_type')['len'].quantile(.995)\n",
    "for i in range(len(ALL_CLASSES)):\n",
    "  MAX_SEQ_LEN[id2dis[i]] = int(max_lens[i])\n",
    "MAX_SEQ_LEN"
   ]
  },
  {
   "cell_type": "code",
   "execution_count": 6,
   "metadata": {},
   "outputs": [],
   "source": [
    "proba_thresh = {\n",
    "    \"Lead\": 0.7,\n",
    "    \"Position\": 0.55,\n",
    "    \"Evidence\": 0.65,\n",
    "    \"Claim\": 0.55,\n",
    "    \"Concluding Statement\": 0.7,\n",
    "    \"Counterclaim\": 0.5,\n",
    "    \"Rebuttal\": 0.55,\n",
    "    \"Nothing\": 0.5,\n",
    "}\n",
    "# TODO 自动学习这个阈值"
   ]
  },
  {
   "cell_type": "code",
   "execution_count": 7,
   "metadata": {},
   "outputs": [],
   "source": [
    "d = pd.read_feather(f'{root}/para_label.fea')"
   ]
  },
  {
   "cell_type": "code",
   "execution_count": 8,
   "metadata": {},
   "outputs": [
    {
     "data": {
      "application/vnd.jupyter.widget-view+json": {
       "model_id": "478d5cae48d8480dab89326ef13a215e",
       "version_major": 2,
       "version_minor": 0
      },
      "text/plain": [
       "  0%|          | 0/15594 [00:00<?, ?it/s]"
      ]
     },
     "metadata": {},
     "output_type": "display_data"
    }
   ],
   "source": [
    "gts = {}\n",
    "for row in tqdm(d.itertuples(), total=len(d)):\n",
    "  gts[row.id] = decode_label_all(row.start, row.para_types)"
   ]
  },
  {
   "cell_type": "code",
   "execution_count": 9,
   "metadata": {},
   "outputs": [
    {
     "data": {
      "application/vnd.jupyter.widget-view+json": {
       "model_id": "1c7e8038580d41d8be317ee4f251aa22",
       "version_major": 2,
       "version_minor": 0
      },
      "text/plain": [
       "  0%|          | 0/175160 [00:00<?, ?it/s]"
      ]
     },
     "metadata": {},
     "output_type": "display_data"
    }
   ],
   "source": [
    "folds = {}\n",
    "for row in tqdm(df.itertuples(), total=len(df)):\n",
    "  folds[row.id] = row.kfold"
   ]
  },
  {
   "cell_type": "code",
   "execution_count": 10,
   "metadata": {},
   "outputs": [],
   "source": [
    "np.random.seed(12345)"
   ]
  },
  {
   "cell_type": "code",
   "execution_count": 11,
   "metadata": {},
   "outputs": [
    {
     "data": {
      "application/vnd.jupyter.widget-view+json": {
       "model_id": "6bac4cf79d90401eb226ba7ca07faba9",
       "version_major": 2,
       "version_minor": 0
      },
      "text/plain": [
       "  0%|          | 0/175160 [00:00<?, ?it/s]"
      ]
     },
     "metadata": {},
     "output_type": "display_data"
    }
   ],
   "source": [
    "subfolds = {}\n",
    "for row in tqdm(df.itertuples(), total=len(df)):\n",
    "  subfolds[row.id] = np.random.randint(5)"
   ]
  },
  {
   "cell_type": "code",
   "execution_count": 12,
   "metadata": {},
   "outputs": [
    {
     "data": {
      "text/plain": [
       "{0: [[0, 3]],\n",
       " 1: [[15, 36]],\n",
       " 2: [[36, 177]],\n",
       " 3: [[3, 15]],\n",
       " 4: [[177, 212]],\n",
       " 5: [],\n",
       " 6: [],\n",
       " 7: []}"
      ]
     },
     "execution_count": 12,
     "metadata": {},
     "output_type": "execute_result"
    }
   ],
   "source": [
    "gts['A8445CABFECE']"
   ]
  },
  {
   "cell_type": "code",
   "execution_count": 13,
   "metadata": {},
   "outputs": [],
   "source": [
    "def para_dataset(info, disc_type=None, start_thre=0.1, start_thre2=0.99, fold=None, subfold=None, infer=False):\n",
    "  total = len(info['id'])\n",
    "  fes = []\n",
    "  scores = []\n",
    "  matches = []\n",
    "  for i in tqdm(range(total)):\n",
    "    x = {}\n",
    "    for key in info:\n",
    "      x[key] = info[key][i]\n",
    "    id = x['id']\n",
    "    gt = gts[id]\n",
    "    fe = {}\n",
    "    fe['id'] = id\n",
    "    fe['index'] = i\n",
    "    fe['fold'] = folds[id]\n",
    "    if fold is not None and fe['fold'] != fold:\n",
    "      continue\n",
    "    fe['subfold'] = subfolds[id]\n",
    "    if subfold is not None and fe['subfold'] != subfold:\n",
    "      continue\n",
    "    fe['num_words'] = x['num_words']\n",
    "    fe['seps'] = (x['start_probs'][:,1] > 0.5).sum()\n",
    "    fe['sep_ratio'] = fe['seps'] / fe['num_words']\n",
    "    num_words = x['num_words']\n",
    "    for j in range(num_words):\n",
    "      if j > 0 and x['start_probs'][j][1] < start_thre and x['preds'][j] == x['preds'][j - 1]:\n",
    "        continue\n",
    "      probs = np.zeros_like(x['probs'][j])\n",
    "      probs += x['probs'][j]\n",
    "      fe['start'] = j\n",
    "      fe['start_ratio'] = (j + 1) / num_words\n",
    "      fe['start_probs'] = x['probs'][j]\n",
    "      fe['start_sep_prob'] = x['start_probs'][j][1] if j > 0 else 1.\n",
    "      preds = {k: 0 for k in range(NUM_CLASSES)}\n",
    "      fe['start_cls'] = x['preds'][j]\n",
    "      fe['max_start_prob'] = probs.max()\n",
    "      preds[x['preds'][j]] += 1\n",
    "      fe['pre_cls'] = -1 if j == 0 else x['preds'][j - 1]\n",
    "      fe['pre_max_prob'] = 1 if j == 0 else x['probs'][j - 1].max()\n",
    "      sep_count = 0\n",
    "      for k in range(j + 1, num_words):\n",
    "        probs += x['probs'][k]\n",
    "        fe['para_len'] = k + 1 - j\n",
    "        fe['para_len_ratio'] = (k + 1 - j) / num_words\n",
    "        preds[x['preds'][k]] += 1\n",
    "        if k + 1 < num_words and x['start_probs'][k + 1][1] < start_thre and x['preds'][k] == x['preds'][k + 1]:\n",
    "          continue\n",
    "        if k + 1 < num_words and x['start_probs'][k + 1][1] > 0.5:\n",
    "          sep_count += 1\n",
    "        fe['end'] = k + 1\n",
    "        fe['end_ratio'] = (k + 1) / num_words\n",
    "        fe['end_probs'] = x['probs'][k]\n",
    "        fe['max_end_prob'] = x['probs'][k + 1].max() if k + 1 < num_words else 1\n",
    "        end_cls = np.argmax(x['probs'][k])\n",
    "        fe['end_cls'] = end_cls\n",
    "        fe['end_sep_prob'] = x['start_probs'][k + 1][1] if k + 1 < num_words else 1.\n",
    "        fe['sep_add_prob'] = (fe['start_sep_prob'] + fe['end_sep_prob']) / 2.\n",
    "        fe['sep_mul_prob'] = (fe['start_sep_prob'] * fe['end_sep_prob']) ** 0.5\n",
    "        fe['num_classes'] = len([k for k in range(NUM_CLASSES) if preds[k] > 0])\n",
    "        mean_probs = gezi.softmax(probs)\n",
    "        fe['mean_probs'] = mean_probs\n",
    "        fe['max_prob'] = mean_probs.max()\n",
    "        top_classes = np.argsort(-mean_probs,axis=0)[:2]\n",
    "        fe['top_class'] = top_classes[0]\n",
    "        fe['top_class2'] = top_classes[1]\n",
    "        fe['next_cls'] = -1 if k + 1  == num_words else x['preds'][k + 1]\n",
    "        # top_classes = top_classes[:1]\n",
    "        if fe['para_len'] > 1 and fe['num_classes'] < 4:\n",
    "          for cls in top_classes:\n",
    "            if disc_type != None and cls != disc_type:\n",
    "              continue\n",
    "            # if cls and fe['para_len'] >  MAX_SEQ_LEN[id2dis[cls]]:\n",
    "            #   continue\n",
    "            # if fe['mean_probs'][cls] < proba_thresh[id2dis[cls]]:\n",
    "            #   continue\n",
    "            fe['mean_prob'] = fe['mean_probs'][cls]\n",
    "            fe['start_prob'] = x['probs'][j][cls]\n",
    "            fe['end_prob'] = x['probs'][k][cls]\n",
    "            fe['class_ratio'] = (x['preds'][j:k+1] == cls).sum() / fe['para_len']\n",
    "            # fe['class_max_prob'] = x['probs'][j:k+1][cls].max()\n",
    "            # fe['class_min_prob'] = x['probs'][j:k+1][cls].min()\n",
    "            fe['cls'] = cls\n",
    "            fe['is_top_class'] = int(cls == fe['top_class'])\n",
    "            fe['is_top_class2'] = int(cls == fe['top_class2'])\n",
    "            if not infer:\n",
    "              fe['score'] = best_match(gt[cls], [j, k + 1])\n",
    "              fe['match'] = calc_match(gt[cls], [[j, k + 1]])\n",
    "              # if not fe['match'] and np.random.randint(3) != 0:\n",
    "              #   continue\n",
    "              scores.append(fe['score'])\n",
    "              matches.append(fe['match'])\n",
    "            fes.append(fe.copy())\n",
    "        if k + 1 < num_words and x['start_probs'][k + 1][1] > start_thre2:\n",
    "          break\n",
    "        if sep_count > 2:  \n",
    "          break\n",
    "  if not infer:\n",
    "    ic(np.mean(scores), np.mean(matches))\n",
    "  d = pd.DataFrame(fes)\n",
    "  return d"
   ]
  },
  {
   "cell_type": "code",
   "execution_count": 14,
   "metadata": {},
   "outputs": [],
   "source": [
    "info = gezi.load('../working/offline/44/valid.pkl')"
   ]
  },
  {
   "cell_type": "code",
   "execution_count": 15,
   "metadata": {},
   "outputs": [
    {
     "data": {
      "application/vnd.jupyter.widget-view+json": {
       "model_id": "6e9d5932e50148e5acafca407b0da162",
       "version_major": 2,
       "version_minor": 0
      },
      "text/plain": [
       "  0%|          | 0/15594 [00:00<?, ?it/s]"
      ]
     },
     "metadata": {},
     "output_type": "display_data"
    },
    {
     "name": "stderr",
     "output_type": "stream",
     "text": [
      "ic| <ipython--input13-c602e6a91567:>98 in para_dataset.()\n",
      "    npmean(scores): 0.2602468290317452\n",
      "    np.mean(matches): 0.24468753785262276\n",
      "ic| <ipythoninput--13-c602e6a91567>:98 in para_dataset()\n",
      "    np.(meanscores): 0.26072600215658354\n",
      "    np.mean(matches): 0.24603241455691266\n",
      "ic| <ipython-input-13-c602e6a91567>:98 in para_dataset()(\n",
      "    np.meanscores):mean 0.2607095447385953\n",
      "    np.(matches): 0.24669412915271316\n",
      "ic| <ipython-input-13-c602e6a91567>:98 in para_dataset()\n",
      "    np.mean(scores): 0.24418819056263794\n",
      "    np.mean(matches) :0.21973929728672542\n",
      "ic| <ipython-input-13-c602e6a91567>:98 in para_dataset()\n",
      "    np.mean(scores): 0.24742760015593704\n",
      "    np.mean(matches): 0.23014723759194\n"
     ]
    }
   ],
   "source": [
    "nw = 5\n",
    "ds = Manager().dict()\n",
    "with pymp.Parallel(nw) as p:\n",
    "  for fold in p.range(5):\n",
    "    fold_ = fold\n",
    "    ds[fold_] = para_dataset(info, fold=fold)"
   ]
  },
  {
   "cell_type": "code",
   "execution_count": 16,
   "metadata": {},
   "outputs": [],
   "source": [
    "dtrain = pd.concat([ds[0], ds[2], ds[3], ds[4]])"
   ]
  },
  {
   "cell_type": "code",
   "execution_count": 17,
   "metadata": {},
   "outputs": [],
   "source": [
    "dtrain['match'] = dtrain['match'].apply(lambda x: min(x, 1))"
   ]
  },
  {
   "cell_type": "code",
   "execution_count": 18,
   "metadata": {},
   "outputs": [],
   "source": [
    "dvalid = ds[1]"
   ]
  },
  {
   "cell_type": "code",
   "execution_count": 19,
   "metadata": {},
   "outputs": [],
   "source": [
    "dvalid['match'] = dvalid['match'].apply(lambda x: min(x, 1))"
   ]
  },
  {
   "cell_type": "code",
   "execution_count": 20,
   "metadata": {},
   "outputs": [],
   "source": [
    "# dtrain = d[d.subfold != 0]\n",
    "# # dtrain = d0[d0.subfold == 1]\n",
    "# dvalid = d[d.subfold == 0]\n",
    "reg_cols =  [\n",
    "              'num_words', 'start', 'start_ratio', 'end', 'end_ratio',\n",
    "              'start_sep_prob', 'end_sep_prob', 'para_len', 'para_len_ratio',\n",
    "              'num_classes', 'mean_prob', \n",
    "              # 'start_prob', 'end_prob', \n",
    "              # 'seps', 'sep_ratio', \n",
    "              'class_ratio',\n",
    "              # 'sep_add_prob', 'sep_mul_prob', \n",
    "              # 'is_top_class', 'is_top_class2',\n",
    "            #   'class_max_prob', 'class_min_prob'\n",
    "        ]\n",
    "cat_cols = [\n",
    "            'cls', \n",
    "            # 'start_cls', 'end_cls',\n",
    "            'pre_cls', \n",
    "            'next_cls'\n",
    "            ]\n",
    "label_col = 'match'\n",
    "label_col = 'score'\n",
    "cols = reg_cols + cat_cols\n",
    "X_train = dtrain[cols]\n",
    "y_train = dtrain[[label_col]]"
   ]
  },
  {
   "cell_type": "code",
   "execution_count": 21,
   "metadata": {},
   "outputs": [],
   "source": [
    "X_valid = dvalid[cols]\n",
    "# y_valid = dvalid[[label_col]]\n",
    "y_valid = dvalid[['match']]"
   ]
  },
  {
   "cell_type": "code",
   "execution_count": 22,
   "metadata": {},
   "outputs": [],
   "source": [
    "learning_rate = 0.1\n",
    "num_boost_round = 1000\n",
    "params = {\n",
    "          # \"objective\": \"binary\",\n",
    "          \"objective\": \"regression\" if label_col is 'score' else 'binary',\n",
    "          # \"objective\": \"cross_entropy\",\n",
    "          \"metric\": \"auc\",\n",
    "          \"boosting_type\": \"gbdt\",\n",
    "          \"learning_rate\": learning_rate,\n",
    "          \"num_leaves\": 12,\n",
    "          \"max_bin\": 256,\n",
    "          \"feature_fraction\": 0.75,\n",
    "          \"verbosity\": 0,\n",
    "          # \"drop_rate\": 0.1,\n",
    "          \"is_unbalance\": True,\n",
    "          # \"max_drop\": 50,\n",
    "          \"min_child_samples\": 20,\n",
    "          \"min_child_weight\": 150,\n",
    "          \"min_split_gain\": 0,\n",
    "          \"bagging_freq\": 5,\n",
    "          \"bagging_fraction\": 0.9,\n",
    "          # \"num_trees\": 200,\n",
    "          \"subsample\": 0.9\n",
    "          }"
   ]
  },
  {
   "cell_type": "code",
   "execution_count": 23,
   "metadata": {},
   "outputs": [
    {
     "name": "stdout",
     "output_type": "stream",
     "text": [
      "[LightGBM] [Warning] bagging_fraction is set=0.9, subsample=0.9 will be ignored. Current value: bagging_fraction=0.9\n",
      "[LightGBM] [Warning] bagging_fraction is set=0.9, subsample=0.9 will be ignored. Current value: bagging_fraction=0.9\n",
      "[LightGBM] [Warning] Auto-choosing col-wise multi-threading, the overhead of testing was 0.649648 seconds.\n",
      "You can set `force_col_wise=true` to remove the overhead.\n",
      "[LightGBM] [Warning] bagging_fraction is set=0.9, subsample=0.9 will be ignored. Current value: bagging_fraction=0.9\n",
      "[1]\tvalid_0's auc: 0.783773\n",
      "Training until validation scores don't improve for 10 rounds\n",
      "[2]\tvalid_0's auc: 0.797946\n",
      "[3]\tvalid_0's auc: 0.7974\n",
      "[4]\tvalid_0's auc: 0.795545\n",
      "[5]\tvalid_0's auc: 0.793586\n",
      "[6]\tvalid_0's auc: 0.798447\n",
      "[7]\tvalid_0's auc: 0.806563\n",
      "[8]\tvalid_0's auc: 0.807901\n",
      "[9]\tvalid_0's auc: 0.808718\n",
      "[10]\tvalid_0's auc: 0.810022\n",
      "[11]\tvalid_0's auc: 0.80907\n",
      "[12]\tvalid_0's auc: 0.810151\n",
      "[13]\tvalid_0's auc: 0.810054\n",
      "[14]\tvalid_0's auc: 0.812512\n",
      "[15]\tvalid_0's auc: 0.813089\n",
      "[16]\tvalid_0's auc: 0.813186\n",
      "[17]\tvalid_0's auc: 0.816481\n",
      "[18]\tvalid_0's auc: 0.817045\n",
      "[19]\tvalid_0's auc: 0.818163\n",
      "[20]\tvalid_0's auc: 0.818388\n",
      "[21]\tvalid_0's auc: 0.818492\n",
      "[22]\tvalid_0's auc: 0.818563\n",
      "[23]\tvalid_0's auc: 0.819196\n",
      "[24]\tvalid_0's auc: 0.819104\n",
      "[25]\tvalid_0's auc: 0.8189\n",
      "[26]\tvalid_0's auc: 0.819667\n",
      "[27]\tvalid_0's auc: 0.820402\n",
      "[28]\tvalid_0's auc: 0.821253\n",
      "[29]\tvalid_0's auc: 0.821872\n",
      "[30]\tvalid_0's auc: 0.821919\n",
      "[31]\tvalid_0's auc: 0.822439\n",
      "[32]\tvalid_0's auc: 0.823086\n",
      "[33]\tvalid_0's auc: 0.82331\n",
      "[34]\tvalid_0's auc: 0.823585\n",
      "[35]\tvalid_0's auc: 0.823573\n",
      "[36]\tvalid_0's auc: 0.823687\n",
      "[37]\tvalid_0's auc: 0.824099\n",
      "[38]\tvalid_0's auc: 0.824645\n",
      "[39]\tvalid_0's auc: 0.824835\n",
      "[40]\tvalid_0's auc: 0.824979\n",
      "[41]\tvalid_0's auc: 0.825173\n",
      "[42]\tvalid_0's auc: 0.825553\n",
      "[43]\tvalid_0's auc: 0.826206\n",
      "[44]\tvalid_0's auc: 0.82636\n",
      "[45]\tvalid_0's auc: 0.826899\n",
      "[46]\tvalid_0's auc: 0.82689\n",
      "[47]\tvalid_0's auc: 0.827077\n",
      "[48]\tvalid_0's auc: 0.827504\n",
      "[49]\tvalid_0's auc: 0.827526\n",
      "[50]\tvalid_0's auc: 0.828099\n",
      "[51]\tvalid_0's auc: 0.828189\n",
      "[52]\tvalid_0's auc: 0.828578\n",
      "[53]\tvalid_0's auc: 0.828699\n",
      "[54]\tvalid_0's auc: 0.828765\n",
      "[55]\tvalid_0's auc: 0.828867\n",
      "[56]\tvalid_0's auc: 0.829049\n",
      "[57]\tvalid_0's auc: 0.829125\n",
      "[58]\tvalid_0's auc: 0.829592\n",
      "[59]\tvalid_0's auc: 0.829764\n",
      "[60]\tvalid_0's auc: 0.830045\n",
      "[61]\tvalid_0's auc: 0.830127\n",
      "[62]\tvalid_0's auc: 0.830441\n",
      "[63]\tvalid_0's auc: 0.830598\n",
      "[64]\tvalid_0's auc: 0.830691\n",
      "[65]\tvalid_0's auc: 0.830756\n",
      "[66]\tvalid_0's auc: 0.830784\n",
      "[67]\tvalid_0's auc: 0.830838\n",
      "[68]\tvalid_0's auc: 0.830936\n",
      "[69]\tvalid_0's auc: 0.830932\n",
      "[70]\tvalid_0's auc: 0.830971\n",
      "[71]\tvalid_0's auc: 0.831043\n",
      "[72]\tvalid_0's auc: 0.831225\n",
      "[73]\tvalid_0's auc: 0.831326\n",
      "[74]\tvalid_0's auc: 0.831496\n",
      "[75]\tvalid_0's auc: 0.831527\n",
      "[76]\tvalid_0's auc: 0.831736\n",
      "[77]\tvalid_0's auc: 0.831772\n",
      "[78]\tvalid_0's auc: 0.831846\n",
      "[79]\tvalid_0's auc: 0.831821\n",
      "[80]\tvalid_0's auc: 0.831837\n",
      "[81]\tvalid_0's auc: 0.832051\n",
      "[82]\tvalid_0's auc: 0.832098\n",
      "[83]\tvalid_0's auc: 0.832309\n",
      "[84]\tvalid_0's auc: 0.832223\n",
      "[85]\tvalid_0's auc: 0.832405\n",
      "[86]\tvalid_0's auc: 0.832495\n",
      "[87]\tvalid_0's auc: 0.832569\n",
      "[88]\tvalid_0's auc: 0.832654\n",
      "[89]\tvalid_0's auc: 0.832792\n",
      "[90]\tvalid_0's auc: 0.832801\n",
      "[91]\tvalid_0's auc: 0.832789\n",
      "[92]\tvalid_0's auc: 0.832858\n",
      "[93]\tvalid_0's auc: 0.832885\n",
      "[94]\tvalid_0's auc: 0.83296\n",
      "[95]\tvalid_0's auc: 0.833054\n",
      "[96]\tvalid_0's auc: 0.833108\n",
      "[97]\tvalid_0's auc: 0.833133\n",
      "[98]\tvalid_0's auc: 0.833192\n",
      "[99]\tvalid_0's auc: 0.833346\n",
      "[100]\tvalid_0's auc: 0.833417\n",
      "[101]\tvalid_0's auc: 0.833555\n",
      "[102]\tvalid_0's auc: 0.83357\n",
      "[103]\tvalid_0's auc: 0.833617\n",
      "[104]\tvalid_0's auc: 0.833618\n",
      "[105]\tvalid_0's auc: 0.833507\n",
      "[106]\tvalid_0's auc: 0.833598\n",
      "[107]\tvalid_0's auc: 0.833545\n",
      "[108]\tvalid_0's auc: 0.833611\n",
      "[109]\tvalid_0's auc: 0.833606\n",
      "[110]\tvalid_0's auc: 0.83364\n",
      "[111]\tvalid_0's auc: 0.833662\n",
      "[112]\tvalid_0's auc: 0.833752\n",
      "[113]\tvalid_0's auc: 0.833737\n",
      "[114]\tvalid_0's auc: 0.833742\n",
      "[115]\tvalid_0's auc: 0.833717\n",
      "[116]\tvalid_0's auc: 0.833799\n",
      "[117]\tvalid_0's auc: 0.833767\n",
      "[118]\tvalid_0's auc: 0.833851\n",
      "[119]\tvalid_0's auc: 0.833873\n",
      "[120]\tvalid_0's auc: 0.833907\n",
      "[121]\tvalid_0's auc: 0.833949\n",
      "[122]\tvalid_0's auc: 0.833944\n",
      "[123]\tvalid_0's auc: 0.833959\n",
      "[124]\tvalid_0's auc: 0.833995\n",
      "[125]\tvalid_0's auc: 0.833993\n",
      "[126]\tvalid_0's auc: 0.834006\n",
      "[127]\tvalid_0's auc: 0.83404\n",
      "[128]\tvalid_0's auc: 0.834054\n",
      "[129]\tvalid_0's auc: 0.83415\n",
      "[130]\tvalid_0's auc: 0.834243\n",
      "[131]\tvalid_0's auc: 0.834279\n",
      "[132]\tvalid_0's auc: 0.834332\n",
      "[133]\tvalid_0's auc: 0.834385\n",
      "[134]\tvalid_0's auc: 0.834308\n",
      "[135]\tvalid_0's auc: 0.834318\n",
      "[136]\tvalid_0's auc: 0.834347\n",
      "[137]\tvalid_0's auc: 0.834355\n",
      "[138]\tvalid_0's auc: 0.834323\n",
      "[139]\tvalid_0's auc: 0.834363\n",
      "[140]\tvalid_0's auc: 0.8344\n",
      "[141]\tvalid_0's auc: 0.83443\n",
      "[142]\tvalid_0's auc: 0.834383\n",
      "[143]\tvalid_0's auc: 0.834382\n",
      "[144]\tvalid_0's auc: 0.83438\n",
      "[145]\tvalid_0's auc: 0.834405\n",
      "[146]\tvalid_0's auc: 0.834398\n",
      "[147]\tvalid_0's auc: 0.834412\n",
      "[148]\tvalid_0's auc: 0.834432\n",
      "[149]\tvalid_0's auc: 0.834451\n",
      "[150]\tvalid_0's auc: 0.834441\n",
      "[151]\tvalid_0's auc: 0.83441\n",
      "[152]\tvalid_0's auc: 0.834458\n",
      "[153]\tvalid_0's auc: 0.834462\n",
      "[154]\tvalid_0's auc: 0.834459\n",
      "[155]\tvalid_0's auc: 0.834465\n",
      "[156]\tvalid_0's auc: 0.834489\n",
      "[157]\tvalid_0's auc: 0.834437\n",
      "[158]\tvalid_0's auc: 0.834459\n",
      "[159]\tvalid_0's auc: 0.834525\n",
      "[160]\tvalid_0's auc: 0.834564\n",
      "[161]\tvalid_0's auc: 0.83465\n",
      "[162]\tvalid_0's auc: 0.83471\n",
      "[163]\tvalid_0's auc: 0.834856\n",
      "[164]\tvalid_0's auc: 0.834919\n",
      "[165]\tvalid_0's auc: 0.834918\n",
      "[166]\tvalid_0's auc: 0.834941\n",
      "[167]\tvalid_0's auc: 0.834972\n",
      "[168]\tvalid_0's auc: 0.835015\n",
      "[169]\tvalid_0's auc: 0.83506\n",
      "[170]\tvalid_0's auc: 0.835014\n",
      "[171]\tvalid_0's auc: 0.835026\n",
      "[172]\tvalid_0's auc: 0.835037\n",
      "[173]\tvalid_0's auc: 0.835088\n",
      "[174]\tvalid_0's auc: 0.835179\n",
      "[175]\tvalid_0's auc: 0.835228\n",
      "[176]\tvalid_0's auc: 0.835298\n",
      "[177]\tvalid_0's auc: 0.835306\n",
      "[178]\tvalid_0's auc: 0.835354\n",
      "[179]\tvalid_0's auc: 0.835358\n",
      "[180]\tvalid_0's auc: 0.835432\n",
      "[181]\tvalid_0's auc: 0.835473\n",
      "[182]\tvalid_0's auc: 0.835443\n",
      "[183]\tvalid_0's auc: 0.835462\n",
      "[184]\tvalid_0's auc: 0.835457\n",
      "[185]\tvalid_0's auc: 0.835599\n",
      "[186]\tvalid_0's auc: 0.835646\n",
      "[187]\tvalid_0's auc: 0.835718\n",
      "[188]\tvalid_0's auc: 0.835718\n",
      "[189]\tvalid_0's auc: 0.835715\n",
      "[190]\tvalid_0's auc: 0.835574\n",
      "[191]\tvalid_0's auc: 0.83568\n",
      "[192]\tvalid_0's auc: 0.835701\n",
      "[193]\tvalid_0's auc: 0.835746\n",
      "[194]\tvalid_0's auc: 0.835761\n",
      "[195]\tvalid_0's auc: 0.835804\n",
      "[196]\tvalid_0's auc: 0.835838\n",
      "[197]\tvalid_0's auc: 0.835847\n",
      "[198]\tvalid_0's auc: 0.835866\n",
      "[199]\tvalid_0's auc: 0.835868\n",
      "[200]\tvalid_0's auc: 0.835897\n",
      "[201]\tvalid_0's auc: 0.835876\n",
      "[202]\tvalid_0's auc: 0.835888\n",
      "[203]\tvalid_0's auc: 0.835888\n",
      "[204]\tvalid_0's auc: 0.835881\n",
      "[205]\tvalid_0's auc: 0.835927\n",
      "[206]\tvalid_0's auc: 0.835944\n",
      "[207]\tvalid_0's auc: 0.835964\n",
      "[208]\tvalid_0's auc: 0.835976\n",
      "[209]\tvalid_0's auc: 0.836032\n",
      "[210]\tvalid_0's auc: 0.836049\n",
      "[211]\tvalid_0's auc: 0.836061\n",
      "[212]\tvalid_0's auc: 0.836069\n",
      "[213]\tvalid_0's auc: 0.836111\n",
      "[214]\tvalid_0's auc: 0.83613\n",
      "[215]\tvalid_0's auc: 0.836153\n",
      "[216]\tvalid_0's auc: 0.836271\n",
      "[217]\tvalid_0's auc: 0.836131\n",
      "[218]\tvalid_0's auc: 0.836159\n",
      "[219]\tvalid_0's auc: 0.836221\n",
      "[220]\tvalid_0's auc: 0.836231\n",
      "[221]\tvalid_0's auc: 0.836249\n",
      "[222]\tvalid_0's auc: 0.836302\n",
      "[223]\tvalid_0's auc: 0.83632\n",
      "[224]\tvalid_0's auc: 0.836331\n",
      "[225]\tvalid_0's auc: 0.836398\n",
      "[226]\tvalid_0's auc: 0.83642\n",
      "[227]\tvalid_0's auc: 0.836425\n",
      "[228]\tvalid_0's auc: 0.836356\n",
      "[229]\tvalid_0's auc: 0.836359\n",
      "[230]\tvalid_0's auc: 0.836357\n",
      "[231]\tvalid_0's auc: 0.836438\n",
      "[232]\tvalid_0's auc: 0.83647\n",
      "[233]\tvalid_0's auc: 0.83646\n",
      "[234]\tvalid_0's auc: 0.836496\n",
      "[235]\tvalid_0's auc: 0.836548\n",
      "[236]\tvalid_0's auc: 0.83657\n",
      "[237]\tvalid_0's auc: 0.836541\n",
      "[238]\tvalid_0's auc: 0.836533\n",
      "[239]\tvalid_0's auc: 0.836575\n",
      "[240]\tvalid_0's auc: 0.836617\n",
      "[241]\tvalid_0's auc: 0.836667\n",
      "[242]\tvalid_0's auc: 0.836685\n",
      "[243]\tvalid_0's auc: 0.836733\n",
      "[244]\tvalid_0's auc: 0.836751\n",
      "[245]\tvalid_0's auc: 0.836746\n",
      "[246]\tvalid_0's auc: 0.836768\n",
      "[247]\tvalid_0's auc: 0.83679\n",
      "[248]\tvalid_0's auc: 0.836826\n",
      "[249]\tvalid_0's auc: 0.836839\n",
      "[250]\tvalid_0's auc: 0.836871\n",
      "[251]\tvalid_0's auc: 0.836899\n",
      "[252]\tvalid_0's auc: 0.836901\n",
      "[253]\tvalid_0's auc: 0.836932\n",
      "[254]\tvalid_0's auc: 0.836955\n",
      "[255]\tvalid_0's auc: 0.836964\n",
      "[256]\tvalid_0's auc: 0.837031\n",
      "[257]\tvalid_0's auc: 0.837066\n",
      "[258]\tvalid_0's auc: 0.837073\n",
      "[259]\tvalid_0's auc: 0.836985\n",
      "[260]\tvalid_0's auc: 0.836998\n",
      "[261]\tvalid_0's auc: 0.837012\n",
      "[262]\tvalid_0's auc: 0.837042\n",
      "[263]\tvalid_0's auc: 0.837085\n",
      "[264]\tvalid_0's auc: 0.837102\n",
      "[265]\tvalid_0's auc: 0.837147\n",
      "[266]\tvalid_0's auc: 0.837184\n",
      "[267]\tvalid_0's auc: 0.837192\n",
      "[268]\tvalid_0's auc: 0.837204\n",
      "[269]\tvalid_0's auc: 0.837246\n",
      "[270]\tvalid_0's auc: 0.837258\n",
      "[271]\tvalid_0's auc: 0.83733\n",
      "[272]\tvalid_0's auc: 0.837328\n",
      "[273]\tvalid_0's auc: 0.837322\n",
      "[274]\tvalid_0's auc: 0.837319\n",
      "[275]\tvalid_0's auc: 0.837368\n",
      "[276]\tvalid_0's auc: 0.837372\n",
      "[277]\tvalid_0's auc: 0.837415\n",
      "[278]\tvalid_0's auc: 0.837436\n",
      "[279]\tvalid_0's auc: 0.837493\n",
      "[280]\tvalid_0's auc: 0.837521\n",
      "[281]\tvalid_0's auc: 0.83755\n",
      "[282]\tvalid_0's auc: 0.837564\n",
      "[283]\tvalid_0's auc: 0.837565\n",
      "[284]\tvalid_0's auc: 0.83756\n",
      "[285]\tvalid_0's auc: 0.837581\n",
      "[286]\tvalid_0's auc: 0.837631\n",
      "[287]\tvalid_0's auc: 0.837639\n",
      "[288]\tvalid_0's auc: 0.83762\n",
      "[289]\tvalid_0's auc: 0.837668\n",
      "[290]\tvalid_0's auc: 0.837664\n",
      "[291]\tvalid_0's auc: 0.837674\n",
      "[292]\tvalid_0's auc: 0.837716\n",
      "[293]\tvalid_0's auc: 0.837721\n",
      "[294]\tvalid_0's auc: 0.837738\n",
      "[295]\tvalid_0's auc: 0.837736\n",
      "[296]\tvalid_0's auc: 0.837753\n",
      "[297]\tvalid_0's auc: 0.837735\n",
      "[298]\tvalid_0's auc: 0.837735\n",
      "[299]\tvalid_0's auc: 0.837742\n",
      "[300]\tvalid_0's auc: 0.837766\n",
      "[301]\tvalid_0's auc: 0.837781\n",
      "[302]\tvalid_0's auc: 0.837815\n",
      "[303]\tvalid_0's auc: 0.837817\n",
      "[304]\tvalid_0's auc: 0.837832\n",
      "[305]\tvalid_0's auc: 0.837837\n",
      "[306]\tvalid_0's auc: 0.83787\n",
      "[307]\tvalid_0's auc: 0.837893\n",
      "[308]\tvalid_0's auc: 0.837904\n",
      "[309]\tvalid_0's auc: 0.837894\n",
      "[310]\tvalid_0's auc: 0.837865\n",
      "[311]\tvalid_0's auc: 0.837895\n",
      "[312]\tvalid_0's auc: 0.837936\n",
      "[313]\tvalid_0's auc: 0.837961\n",
      "[314]\tvalid_0's auc: 0.83797\n",
      "[315]\tvalid_0's auc: 0.838007\n",
      "[316]\tvalid_0's auc: 0.838004\n",
      "[317]\tvalid_0's auc: 0.838017\n",
      "[318]\tvalid_0's auc: 0.838036\n",
      "[319]\tvalid_0's auc: 0.83804\n",
      "[320]\tvalid_0's auc: 0.838065\n",
      "[321]\tvalid_0's auc: 0.838054\n",
      "[322]\tvalid_0's auc: 0.838079\n",
      "[323]\tvalid_0's auc: 0.838126\n",
      "[324]\tvalid_0's auc: 0.838101\n",
      "[325]\tvalid_0's auc: 0.8381\n",
      "[326]\tvalid_0's auc: 0.838136\n",
      "[327]\tvalid_0's auc: 0.838099\n",
      "[328]\tvalid_0's auc: 0.838111\n",
      "[329]\tvalid_0's auc: 0.83812\n",
      "[330]\tvalid_0's auc: 0.838132\n",
      "[331]\tvalid_0's auc: 0.838118\n",
      "[332]\tvalid_0's auc: 0.838138\n",
      "[333]\tvalid_0's auc: 0.838135\n",
      "[334]\tvalid_0's auc: 0.83815\n",
      "[335]\tvalid_0's auc: 0.838122\n",
      "[336]\tvalid_0's auc: 0.838129\n",
      "[337]\tvalid_0's auc: 0.838127\n",
      "[338]\tvalid_0's auc: 0.838123\n",
      "[339]\tvalid_0's auc: 0.838188\n",
      "[340]\tvalid_0's auc: 0.838159\n",
      "[341]\tvalid_0's auc: 0.838151\n",
      "[342]\tvalid_0's auc: 0.838168\n",
      "[343]\tvalid_0's auc: 0.838166\n",
      "[344]\tvalid_0's auc: 0.83818\n",
      "[345]\tvalid_0's auc: 0.838183\n",
      "[346]\tvalid_0's auc: 0.838185\n",
      "[347]\tvalid_0's auc: 0.838194\n",
      "[348]\tvalid_0's auc: 0.838189\n",
      "[349]\tvalid_0's auc: 0.838214\n",
      "[350]\tvalid_0's auc: 0.838218\n",
      "[351]\tvalid_0's auc: 0.838227\n",
      "[352]\tvalid_0's auc: 0.83824\n",
      "[353]\tvalid_0's auc: 0.838257\n",
      "[354]\tvalid_0's auc: 0.83826\n",
      "[355]\tvalid_0's auc: 0.838278\n",
      "[356]\tvalid_0's auc: 0.838302\n",
      "[357]\tvalid_0's auc: 0.838311\n",
      "[358]\tvalid_0's auc: 0.838308\n",
      "[359]\tvalid_0's auc: 0.838378\n",
      "[360]\tvalid_0's auc: 0.838422\n",
      "[361]\tvalid_0's auc: 0.838418\n",
      "[362]\tvalid_0's auc: 0.838431\n",
      "[363]\tvalid_0's auc: 0.838436\n",
      "[364]\tvalid_0's auc: 0.838434\n",
      "[365]\tvalid_0's auc: 0.83844\n",
      "[366]\tvalid_0's auc: 0.83843\n",
      "[367]\tvalid_0's auc: 0.83846\n",
      "[368]\tvalid_0's auc: 0.838413\n",
      "[369]\tvalid_0's auc: 0.838498\n",
      "[370]\tvalid_0's auc: 0.838501\n",
      "[371]\tvalid_0's auc: 0.838513\n",
      "[372]\tvalid_0's auc: 0.838503\n",
      "[373]\tvalid_0's auc: 0.838475\n",
      "[374]\tvalid_0's auc: 0.838484\n",
      "[375]\tvalid_0's auc: 0.838433\n",
      "[376]\tvalid_0's auc: 0.838442\n",
      "[377]\tvalid_0's auc: 0.838447\n",
      "[378]\tvalid_0's auc: 0.838456\n",
      "[379]\tvalid_0's auc: 0.838466\n",
      "[380]\tvalid_0's auc: 0.838463\n",
      "[381]\tvalid_0's auc: 0.838448\n",
      "Early stopping, best iteration is:\n",
      "[371]\tvalid_0's auc: 0.838513\n"
     ]
    }
   ],
   "source": [
    "d_train = lgb.Dataset(X_train, y_train)\n",
    "d_valid = lgb.Dataset(X_valid, y_valid, reference=d_train)\n",
    "bst = lgb.train(params, d_train, num_boost_round, valid_sets=d_valid, \n",
    "                categorical_feature=cat_cols,\n",
    "                verbose_eval=1,\n",
    "                early_stopping_rounds=10)"
   ]
  },
  {
   "cell_type": "code",
   "execution_count": 24,
   "metadata": {},
   "outputs": [
    {
     "data": {
      "text/plain": [
       "[('cls', 475),\n",
       " ('num_words', 470),\n",
       " ('mean_prob', 443),\n",
       " ('next_cls', 346),\n",
       " ('class_ratio', 343),\n",
       " ('end_sep_prob', 309),\n",
       " ('para_len', 245),\n",
       " ('para_len_ratio', 245),\n",
       " ('start_sep_prob', 232),\n",
       " ('pre_cls', 201),\n",
       " ('end_ratio', 184),\n",
       " ('end', 157),\n",
       " ('start_ratio', 156),\n",
       " ('start', 154),\n",
       " ('num_classes', 121)]"
      ]
     },
     "execution_count": 24,
     "metadata": {},
     "output_type": "execute_result"
    }
   ],
   "source": [
    "l = list(zip(bst.feature_name(), bst.feature_importance()))\n",
    "l.sort(key=lambda x: -x[1])\n",
    "l"
   ]
  },
  {
   "cell_type": "code",
   "execution_count": 25,
   "metadata": {},
   "outputs": [],
   "source": [
    "def greedy_decodes(df, cols, para_classifier):\n",
    "  proba_thresh = {\n",
    "    \"Lead\": 0.99,\n",
    "    \"Position\": 0.55,\n",
    "    \"Evidence\": 0.7,\n",
    "    \"Claim\": 0.55,\n",
    "    \"Concluding Statement\": 0.99,\n",
    "    \"Counterclaim\": 0.5,\n",
    "    \"Rebuttal\": 0.5,\n",
    "    \"Nothing\": 0.1,\n",
    "  }\n",
    "\n",
    "  df['pred'] = para_classifier.predict(df[cols])\n",
    "  ids = set(df.id)\n",
    "  ids_list, types_list, preds_list = [], [], []\n",
    "  for id in tqdm(ids):\n",
    "    d = df[df.id == id]\n",
    "    d = d.sort_values(['pred'], ascending=[False])\n",
    "    num_words = d.num_words.values[0]\n",
    "    used = np.zeros(num_words)\n",
    "    for row in d.itertuples():\n",
    "      start, end = row.start, row.end\n",
    "      cls = row.cls\n",
    "      if used[start: end].sum() == 0:\n",
    "        # used[start: end] = 1\n",
    "        # if cls > 0:\n",
    "        if row.mean_prob > proba_thresh[id2dis[cls]]:\n",
    "          used[start: end] = 1\n",
    "          if cls > 0:\n",
    "            ids_list.append(id)\n",
    "            types_list.append(id2dis[cls])\n",
    "            preds_list.append(' '.join([str(x) for x in range(start, end)]))\n",
    "      if used.sum() == num_words:\n",
    "        break\n",
    "          \n",
    "  df = pd.DataFrame({\n",
    "    'id': ids_list,\n",
    "    'class': types_list,\n",
    "    'predictionstring': preds_list,\n",
    "  })\n",
    "  return df"
   ]
  },
  {
   "cell_type": "code",
   "execution_count": 26,
   "metadata": {},
   "outputs": [
    {
     "data": {
      "application/vnd.jupyter.widget-view+json": {
       "model_id": "94f2d66f19f84a269ccff4c6bc1952a8",
       "version_major": 2,
       "version_minor": 0
      },
      "text/plain": [
       "  0%|          | 0/3050 [00:00<?, ?it/s]"
      ]
     },
     "metadata": {},
     "output_type": "display_data"
    }
   ],
   "source": [
    "df_pred = greedy_decodes(dvalid, cols, bst)"
   ]
  },
  {
   "cell_type": "code",
   "execution_count": 27,
   "metadata": {},
   "outputs": [],
   "source": [
    "df_gt = pd.read_csv('../working/offline/44/valid_gt.csv')"
   ]
  },
  {
   "cell_type": "code",
   "execution_count": 28,
   "metadata": {},
   "outputs": [
    {
     "data": {
      "application/vnd.jupyter.widget-view+json": {
       "model_id": "72992989074f4206b1f2dd04e1dd1154",
       "version_major": 2,
       "version_minor": 0
      },
      "text/plain": [
       "calc_f1:   0%|          | 0/7 [00:00<?, ?it/s]"
      ]
     },
     "metadata": {},
     "output_type": "display_data"
    },
    {
     "name": "stderr",
     "output_type": "stream",
     "text": [
      "ic| <ipython-input-28-cb78f7a414c1>:2 in <module>\n",
      "    res['f1/Overall']: 0.7050897703709867\n",
      "ic| <ipython-input-28-cb78f7a414c1>:3 in <module>\n",
      "    res: {'acc/Claim': 0.7058218002973807,\n",
      "          'acc/Concluding Statement': 0.865894658199477,\n",
      "          'acc/Counterclaim': 0.6168768186226964,\n",
      "          'acc/Evidence': 0.7801784875528417,\n",
      "          'acc/Lead': 0.8430071862907684,\n",
      "          'acc/Position': 0.7459044963401882,\n",
      "          'acc/Rebuttal': 0.5211267605633803,\n",
      "          'cm/Claim': array([[6171, 2572],\n",
      "                [3643, 5100]]),\n",
      "          'cm/Concluding Statement': array([[2318,  359],\n",
      "                [ 315, 2362]]),\n",
      "          'cm/Counterclaim': array([[636, 395],\n",
      "                [525, 506]]),\n",
      "          'cm/Evidence': array([[6644, 1872],\n",
      "                [2337, 6179]]),\n",
      "          'cm/Lead': array([[1525,  284],\n",
      "                [ 298, 1511]]),\n",
      "          'cm/Position': array([[2140,  729],\n",
      "                [ 878, 1991]]),\n",
      "          'cm/Rebuttal': array([[407, 374],\n",
      "                [470, 311]]),\n",
      "          'f1/Claim': 0.6650859513930053,\n",
      "          'f1/Concluding Statement': 0.8730696798493409,\n",
      "          'f1/Counterclaim': 0.5802919708029197,\n",
      "          'f1/Evidence': 0.7594444761959193,\n",
      "          'f1/Lead': 0.8397577092511013,\n",
      "          'f1/Overall': 0.7050897703709867,\n",
      "          'f1/Position': 0.727025649736708,\n",
      "          'f1/Rebuttal': 0.49095295536791317,\n",
      "          'recall/Claim': 0.6287955981251274,\n",
      "          'recall/Concluding Statement': 0.8803646031143183,\n",
      "          'recall/Counterclaim': 0.5478036175710594,\n",
      "          'recall/Evidence': 0.7397839884199978,\n",
      "          'recall/Lead': 0.8365331870543061,\n",
      "          'recall/Position': 0.7090788601722995,\n",
      "          'recall/Rebuttal': 0.4640820980615735}\n"
     ]
    },
    {
     "data": {
      "text/plain": [
       "{'f1/Overall': 0.7050897703709867,\n",
       " 'f1/Claim': 0.6650859513930053,\n",
       " 'acc/Claim': 0.7058218002973807,\n",
       " 'recall/Claim': 0.6287955981251274,\n",
       " 'cm/Claim': array([[6171, 2572],\n",
       "        [3643, 5100]]),\n",
       " 'f1/Evidence': 0.7594444761959193,\n",
       " 'acc/Evidence': 0.7801784875528417,\n",
       " 'recall/Evidence': 0.7397839884199978,\n",
       " 'cm/Evidence': array([[6644, 1872],\n",
       "        [2337, 6179]]),\n",
       " 'f1/Position': 0.727025649736708,\n",
       " 'acc/Position': 0.7459044963401882,\n",
       " 'recall/Position': 0.7090788601722995,\n",
       " 'cm/Position': array([[2140,  729],\n",
       "        [ 878, 1991]]),\n",
       " 'f1/Concluding Statement': 0.8730696798493409,\n",
       " 'acc/Concluding Statement': 0.865894658199477,\n",
       " 'recall/Concluding Statement': 0.8803646031143183,\n",
       " 'cm/Concluding Statement': array([[2318,  359],\n",
       "        [ 315, 2362]]),\n",
       " 'f1/Lead': 0.8397577092511013,\n",
       " 'acc/Lead': 0.8430071862907684,\n",
       " 'recall/Lead': 0.8365331870543061,\n",
       " 'cm/Lead': array([[1525,  284],\n",
       "        [ 298, 1511]]),\n",
       " 'f1/Counterclaim': 0.5802919708029197,\n",
       " 'acc/Counterclaim': 0.6168768186226964,\n",
       " 'recall/Counterclaim': 0.5478036175710594,\n",
       " 'cm/Counterclaim': array([[636, 395],\n",
       "        [525, 506]]),\n",
       " 'f1/Rebuttal': 0.49095295536791317,\n",
       " 'acc/Rebuttal': 0.5211267605633803,\n",
       " 'recall/Rebuttal': 0.4640820980615735,\n",
       " 'cm/Rebuttal': array([[407, 374],\n",
       "        [470, 311]])}"
      ]
     },
     "execution_count": 28,
     "metadata": {},
     "output_type": "execute_result"
    }
   ],
   "source": [
    "res = calc_metrics(df_gt[df_gt.id.isin(set(df_pred.id))], df_pred)\n",
    "ic(res['f1/Overall'])\n",
    "ic(res)"
   ]
  },
  {
   "cell_type": "code",
   "execution_count": 29,
   "metadata": {},
   "outputs": [],
   "source": [
    "# df_pred2[df_pred2.id=='4125C404E34B']"
   ]
  },
  {
   "cell_type": "code",
   "execution_count": null,
   "metadata": {},
   "outputs": [],
   "source": [
    "# dvalid[dvalid.id=='4125C404E34B'][['id', 'pred', 'match', 'score', 'start', 'end', 'cls', 'mean_prob', 'start_sep_prob', 'end_sep_prob']]"
   ]
  },
  {
   "cell_type": "code",
   "execution_count": null,
   "metadata": {},
   "outputs": [],
   "source": [
    "# gts['4125C404E34B']"
   ]
  },
  {
   "cell_type": "code",
   "execution_count": null,
   "metadata": {},
   "outputs": [],
   "source": [
    "# ALL_CLASSES"
   ]
  },
  {
   "cell_type": "code",
   "execution_count": null,
   "metadata": {},
   "outputs": [],
   "source": [
    "# df_pred2 = df_pred2[df_pred2.id.isin(set(df_pred.id))]"
   ]
  },
  {
   "cell_type": "code",
   "execution_count": null,
   "metadata": {},
   "outputs": [],
   "source": [
    "# df_pred_fold1 = greedy_decodes(ds[1], cols, bst)"
   ]
  },
  {
   "cell_type": "code",
   "execution_count": null,
   "metadata": {},
   "outputs": [],
   "source": [
    "# res = calc_metrics(df_gt[df_gt.id.isin(set(df_pred_fold1.id))], df_pred_fold1)\n",
    "# ic(res)"
   ]
  },
  {
   "cell_type": "code",
   "execution_count": null,
   "metadata": {},
   "outputs": [],
   "source": []
  },
  {
   "cell_type": "code",
   "execution_count": null,
   "metadata": {},
   "outputs": [],
   "source": []
  }
 ],
 "metadata": {
  "interpreter": {
   "hash": "2e1511501be64c09e2f1eb58c3220ebc9ce84b491d308a480caed250bbb4af51"
  },
  "kernelspec": {
   "display_name": "Python 3.6.13 64-bit (conda)",
   "language": "python",
   "name": "python3"
  },
  "language_info": {
   "codemirror_mode": {
    "name": "ipython",
    "version": 3
   },
   "file_extension": ".py",
   "mimetype": "text/x-python",
   "name": "python",
   "nbconvert_exporter": "python",
   "pygments_lexer": "ipython3",
   "version": "3.6.13"
  },
  "orig_nbformat": 4
 },
 "nbformat": 4,
 "nbformat_minor": 2
}
