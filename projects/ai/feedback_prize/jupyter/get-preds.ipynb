{
 "cells": [
  {
   "cell_type": "code",
   "execution_count": 1,
   "metadata": {},
   "outputs": [
    {
     "name": "stdout",
     "output_type": "stream",
     "text": [
      "No module named 'tensorflow.python.keras.layers.preprocessing'\n"
     ]
    }
   ],
   "source": [
    "import numpy as np\n",
    "import pandas as pd\n",
    "import random\n",
    "import itertools\n",
    "import matplotlib.pyplot as plt\n",
    "import plotly.express as px\n",
    "import glob\n",
    "import spacy\n",
    "import sklearn\n",
    "from collections import defaultdict, Counter\n",
    "from bisect import bisect_left\n",
    "import matplotlib.pyplot as plt\n",
    "import matplotlib\n",
    "import io\n",
    "import base64\n",
    "import pymp\n",
    "from multiprocessing import Pool, Manager, cpu_count\n",
    "from IPython.display import display_html\n",
    "from itertools import chain, cycle\n",
    "import lightgbm as lgb\n",
    "import sys\n",
    "sys.path.append('../../../../utils')\n",
    "sys.path.append('..')\n",
    "import gezi\n",
    "from gezi import tqdm\n",
    "from src.eval import *\n",
    "from src.util import *\n",
    "from src.get_preds import *\n",
    "from src import config\n",
    "from src.visualize import *\n",
    "from src.rewards import *\n",
    "pd.set_option('display.float_format', lambda x: '%.02f' % x)"
   ]
  },
  {
   "cell_type": "code",
   "execution_count": 2,
   "metadata": {},
   "outputs": [
    {
     "data": {
      "text/plain": [
       "'2.10.0'"
      ]
     },
     "execution_count": 2,
     "metadata": {},
     "output_type": "execute_result"
    }
   ],
   "source": [
    "import optuna\n",
    "from optuna import Trial\n",
    "\n",
    "optuna.__version__"
   ]
  },
  {
   "cell_type": "code",
   "execution_count": 3,
   "metadata": {},
   "outputs": [],
   "source": [
    "root = '../input/feedback-prize-2021'"
   ]
  },
  {
   "cell_type": "code",
   "execution_count": 4,
   "metadata": {},
   "outputs": [],
   "source": [
    "df = pd.read_feather(f'{root}/train_en.fea')"
   ]
  },
  {
   "cell_type": "code",
   "execution_count": 5,
   "metadata": {},
   "outputs": [
    {
     "data": {
      "text/plain": [
       "{'Nothing': 223,\n",
       " 'Claim': 67,\n",
       " 'Evidence': 417,\n",
       " 'Position': 74,\n",
       " 'Concluding Statement': 245,\n",
       " 'Lead': 274,\n",
       " 'Counterclaim': 142,\n",
       " 'Rebuttal': 142}"
      ]
     },
     "execution_count": 5,
     "metadata": {},
     "output_type": "execute_result"
    }
   ],
   "source": [
    "MAX_SEQ_LEN = {}\n",
    "df['len'] = df.end - df.start\n",
    "max_lens = df.groupby('para_type')['len'].quantile(.999)\n",
    "for i in range(len(ALL_CLASSES)):\n",
    "  MAX_SEQ_LEN[id2dis[i]] = int(max_lens[i])\n",
    "MAX_SEQ_LEN"
   ]
  },
  {
   "cell_type": "code",
   "execution_count": 6,
   "metadata": {},
   "outputs": [
    {
     "data": {
      "text/plain": [
       "{'Nothing': 1,\n",
       " 'Claim': 1,\n",
       " 'Evidence': 6,\n",
       " 'Position': 2,\n",
       " 'Concluding Statement': 5,\n",
       " 'Lead': 4,\n",
       " 'Counterclaim': 3,\n",
       " 'Rebuttal': 3}"
      ]
     },
     "execution_count": 6,
     "metadata": {},
     "output_type": "execute_result"
    }
   ],
   "source": [
    "MIN_SEQ_LEN = {}\n",
    "df['len'] = df.end - df.start\n",
    "min_lens = df.groupby('para_type')['len'].quantile(.001)\n",
    "for i in range(len(ALL_CLASSES)):\n",
    "  MIN_SEQ_LEN[id2dis[i]] = int(min_lens[i])\n",
    "MIN_SEQ_LEN"
   ]
  },
  {
   "cell_type": "code",
   "execution_count": 7,
   "metadata": {},
   "outputs": [],
   "source": [
    "MAX_SEQ_LEN = {'Nothing': 223,\n",
    " 'Claim': 67,\n",
    " 'Evidence': 417,\n",
    " 'Position': 74,\n",
    " 'Concluding Statement': 245,\n",
    " 'Lead': 274,\n",
    " 'Counterclaim': 142,\n",
    " 'Rebuttal': 142}"
   ]
  },
  {
   "cell_type": "code",
   "execution_count": 8,
   "metadata": {},
   "outputs": [],
   "source": [
    "MIN_SEQ_lens = {'Nothing': 1,\n",
    " 'Claim': 1,\n",
    " 'Evidence': 6,\n",
    " 'Position': 2,\n",
    " 'Concluding Statement': 5,\n",
    " 'Lead': 4,\n",
    " 'Counterclaim': 3,\n",
    " 'Rebuttal': 3}"
   ]
  },
  {
   "cell_type": "code",
   "execution_count": 9,
   "metadata": {},
   "outputs": [],
   "source": [
    "d = pd.read_feather(f'{root}/para_label.fea')"
   ]
  },
  {
   "cell_type": "code",
   "execution_count": 10,
   "metadata": {},
   "outputs": [],
   "source": [
    "np.random.seed(12345)"
   ]
  },
  {
   "cell_type": "code",
   "execution_count": 11,
   "metadata": {},
   "outputs": [],
   "source": [
    "root = '../working/offline/44/'"
   ]
  },
  {
   "cell_type": "code",
   "execution_count": 12,
   "metadata": {},
   "outputs": [],
   "source": [
    "# mn = 'mui.deberta-v3.rl.s1'\n",
    "# mn = 'mui.electra.rl.s1'\n",
    "# mn = 'mui.4'\n",
    "# mn = 'large.longformer.start.len1280.seq_encoder'\n",
    "# root = f'../working/offline/44/0/{mn}'"
   ]
  },
  {
   "cell_type": "code",
   "execution_count": 13,
   "metadata": {},
   "outputs": [],
   "source": [
    "info = gezi.load(f'{root}/best.pkl')"
   ]
  },
  {
   "cell_type": "code",
   "execution_count": 14,
   "metadata": {},
   "outputs": [],
   "source": [
    "df_gt = pd.read_csv(f'{root}/valid_gt.csv')"
   ]
  },
  {
   "cell_type": "code",
   "execution_count": 15,
   "metadata": {},
   "outputs": [],
   "source": [
    "def get_pred_bystart(x, post_adjust=True, pred_info=None):\n",
    "  MIN_LEN = 2\n",
    "  MIN_LEN2 = 2\n",
    "  NUM_CLASSES = len(id2dis)\n",
    "  pred = x['preds']\n",
    "  total = len(pred)\n",
    "  # by prob not logit\n",
    "  probs = x['probs'] \n",
    "  # probs = x['pred']\n",
    "  start_prob = x['start_probs'] if 'start_probs' in x else None\n",
    "  # ic((start_prob[:,1] > start_prob[:,0]).astype(int).sum())\n",
    "  pre_type = None\n",
    "  # predictionstring list\n",
    "  preds_list = []\n",
    "  # store each pred word_id for one precitionstring\n",
    "  preds = [] \n",
    "  pre_scores = np.zeros_like(probs[0])\n",
    "  \n",
    "  types = []\n",
    "    \n",
    "  pre_probs = None\n",
    "  for i in range(total):    \n",
    "   \n",
    "    is_sep = False\n",
    "    if i > 0:\n",
    "      pre_cls = np.argmax(pre_scores)\n",
    "      pre_prob = pre_probs[pre_cls]\n",
    "      pre_type = id2dis[pre_cls]\n",
    "      now_cls = pred[i]\n",
    "      now_type = id2dis[now_cls]\n",
    "      now_prob = probs[i][now_cls]\n",
    "      \n",
    "      if start_prob[i].sum() == 0:\n",
    "        is_sep = True\n",
    "      else:\n",
    "        is_sep = start_prob[i][1] >= P['sep_prob']\n",
    "        \n",
    "        if post_adjust and FLAGS.sep_rule:\n",
    "          if i > 0:\n",
    "            # 注意目前最高线上版本依然是按照第一个model取pred而不是ensemble的结果取pred信息，另外有adjacent rule待验证\n",
    "            if pred[i] != pred[i - 1]:      \n",
    "              if FLAGS.adjacent_rebuttal:\n",
    "                if start_prob[i][1] > P['sep_prob2'] and (pre_type in  ['Rebuttal', 'Counterclaim']):\n",
    "                  is_sep = True\n",
    "               \n",
    "              if FLAGS.adjacent_minthre:\n",
    "                if start_prob[i][1] > P['sep_prob3']:\n",
    "                  if len(preds) >= min_thresh[pre_type]:\n",
    "                    is_sep = True\n",
    "                                  \n",
    "              if FLAGS.adjacent_rule:\n",
    "                if pre_probs[pred[i - 1]] > P['pre_prob'] and probs[i][pred[i]] > P['after_prob'] and len(preds) >= min_thresh[id2dis[pred[i - 1]]]:\n",
    "                  is_sep = True\n",
    "              \n",
    "              if FLAGS.adjacent_prob:\n",
    "                if start_prob[i][1] > P['sep_prob4']:\n",
    "                  is_sep = True\n",
    "                  \n",
    "    if is_sep:\n",
    "      if preds:  \n",
    "        if pre_type != 'Nothing':\n",
    "          if post_adjust:\n",
    "            if len(preds) < MIN_LEN:\n",
    "              # 低置信度的干脆放弃召回 更安全 pass not continue\n",
    "              pass\n",
    "            else:\n",
    "              if pre_probs.max() > proba_thresh[pre_type]:\n",
    "                preds_list.append(' '.join(preds))\n",
    "                types.append(pre_type)\n",
    "          else:\n",
    "            preds_list.append(' '.join(preds))\n",
    "            types.append(pre_type)\n",
    "      \n",
    "        preds = []\n",
    "        pre_scores = np.zeros_like(probs[0])\n",
    "              \n",
    "    pre_scores += probs[i] \n",
    "    pre_probs = gezi.softmax(pre_scores)\n",
    "    # pre_probs = pre_scores / len(preds)\n",
    "    preds.append(str(i))\n",
    "    \n",
    "  if preds:\n",
    "    pre_type = id2dis[np.argmax(pre_scores)]\n",
    "      \n",
    "    # 结尾应该更长\n",
    "    if pre_type != 'Nothing':\n",
    "      if post_adjust:\n",
    "        if len(preds) >= MIN_LEN2:\n",
    "          if pre_probs.max() > proba_thresh[pre_type]:\n",
    "            preds_list.append(' '.join(preds))\n",
    "            types.append(pre_type)\n",
    "        # else:\n",
    "        #   top_classes = np.argsort(-pre_probs,axis=0)[:2]\n",
    "        #   pre_cls = top_classes[1]\n",
    "        #   pre_type = id2dis[pre_cls]\n",
    "        #   if pre_probs[pre_cls] > proba_thresh[pre_type]:\n",
    "        #     preds_list.append(' '.join(preds))\n",
    "        #     types.append(pre_type)\n",
    "      else:\n",
    "        preds_list.append(' '.join(preds))\n",
    "        types.append(pre_type)\n",
    "  return types, preds_list"
   ]
  },
  {
   "cell_type": "code",
   "execution_count": 16,
   "metadata": {},
   "outputs": [],
   "source": [
    "def get_preds_(x, post_adjust=True, selected_ids=None, fold=None, folds=5):  \n",
    "  # ic(post_adjust)\n",
    "  pred_fn = None\n",
    "  pred_fn = get_pred_bystart\n",
    "\n",
    "  total = len(x['id'])\n",
    "  # with gezi.Timer('get_preds'):\n",
    "  # ic(FLAGS.openmp)\n",
    "  ids_list, types_list, preds_list = [], [], []\n",
    "  for i in tqdm(range(total), desc='get_preds', leave=False):\n",
    "    id = x['id'][i]\n",
    "    if selected_ids is not None and id not in selected_ids:\n",
    "      continue\n",
    "    if fold is not None:\n",
    "      if i % folds != fold:\n",
    "        continue\n",
    "    x_ = {}\n",
    "    for key in x: \n",
    "      x_[key] = x[key][i]\n",
    "    types, preds = pred_fn(x_, post_adjust=post_adjust)\n",
    "    ids_list.extend([id] * len(types))\n",
    "    types_list.extend(types)\n",
    "    preds_list.extend(preds)\n",
    " \n",
    "  m = {\n",
    "    'id': ids_list,\n",
    "    'class': types_list,\n",
    "    'predictionstring': preds_list\n",
    "  }\n",
    "\n",
    "  df = pd.DataFrame(m)\n",
    "    \n",
    "  return df\n",
    "\n",
    "def get_preds(x, post_adjust=True, selected_ids=None, folds=5):  \n",
    "  if selected_ids is not None:\n",
    "    return get_preds_(x, post_adjust, selected_ids)\n",
    "  else:\n",
    "    try:\n",
    "      dfs = Manager().dict()\n",
    "      with pymp.Parallel(folds) as p:\n",
    "        for i in p.range(folds):\n",
    "          dfs[i] = get_preds_(x, post_adjust, fold=i, folds=folds)\n",
    "      return pd.concat(dfs.values())\n",
    "    except Exception:\n",
    "      return get_preds_(x, post_adjust)"
   ]
  },
  {
   "cell_type": "code",
   "execution_count": 17,
   "metadata": {},
   "outputs": [],
   "source": [
    "gezi.init_flags()"
   ]
  },
  {
   "cell_type": "code",
   "execution_count": 19,
   "metadata": {},
   "outputs": [
    {
     "name": "stderr",
     "output_type": "stream",
     "text": [
      "\u001b[32m[I 2022-02-14 09:51:42,745]\u001b[0m A new study created in memory with name: no-name-92650005-00b4-4168-ae6a-941e9b4e3bd1\u001b[0m\n"
     ]
    },
    {
     "data": {
      "application/vnd.jupyter.widget-view+json": {
       "model_id": "12adbc827ffd415f92a7f51bc707d1a6",
       "version_major": 2,
       "version_minor": 0
      },
      "text/plain": [
       "get_preds:   0%|          | 0/15594 [00:00<?, ?it/s]"
      ]
     },
     "metadata": {},
     "output_type": "display_data"
    },
    {
     "data": {
      "application/vnd.jupyter.widget-view+json": {
       "model_id": "85f4d3f9f611453d8ac5b7b5227b63fa",
       "version_major": 2,
       "version_minor": 0
      },
      "text/plain": [
       "calc_f1:   0%|          | 0/7 [00:00<?, ?it/s]"
      ]
     },
     "metadata": {},
     "output_type": "display_data"
    },
    {
     "name": "stderr",
     "output_type": "stream",
     "text": [
      "\u001b[32m[I 2022-02-14 09:52:01,382]\u001b[0m Trial 0 finished with value: 0.7134057137772153 and parameters: {'link_len': 19, 'sep_prob': 0.5033054284879286, 'sep_prob2': 0.13472732064177032, 'sep_prob3': 0.5262972732717827, 'sep_prob4': 0.6863983724198255, 'sep_prob5': 0.9624321867180947, 'pre_prob': 0.09529367272712097, 'after_prob': 0.9694061326305012}. Best is trial 0 with value: 0.7134057137772153.\u001b[0m\n"
     ]
    },
    {
     "data": {
      "application/vnd.jupyter.widget-view+json": {
       "model_id": "2f90d3fd8d8746aeb192648694b65afc",
       "version_major": 2,
       "version_minor": 0
      },
      "text/plain": [
       "get_preds:   0%|          | 0/15594 [00:00<?, ?it/s]"
      ]
     },
     "metadata": {},
     "output_type": "display_data"
    },
    {
     "data": {
      "application/vnd.jupyter.widget-view+json": {
       "model_id": "ec18d6e3543241378c030740bb73d62f",
       "version_major": 2,
       "version_minor": 0
      },
      "text/plain": [
       "calc_f1:   0%|          | 0/7 [00:00<?, ?it/s]"
      ]
     },
     "metadata": {},
     "output_type": "display_data"
    },
    {
     "name": "stderr",
     "output_type": "stream",
     "text": [
      "\u001b[32m[I 2022-02-14 09:52:18,041]\u001b[0m Trial 1 finished with value: 0.7153976377823318 and parameters: {'link_len': 24, 'sep_prob': 0.7412839952701945, 'sep_prob2': 0.29262244184069935, 'sep_prob3': 0.35693954853228815, 'sep_prob4': 0.83974539554151, 'sep_prob5': 0.7893861902341406, 'pre_prob': 0.7952336141575895, 'after_prob': 0.2149187606815448}. Best is trial 1 with value: 0.7153976377823318.\u001b[0m\n"
     ]
    },
    {
     "data": {
      "application/vnd.jupyter.widget-view+json": {
       "model_id": "acd699297f474db3a7f62192e016b8a3",
       "version_major": 2,
       "version_minor": 0
      },
      "text/plain": [
       "get_preds:   0%|          | 0/15594 [00:00<?, ?it/s]"
      ]
     },
     "metadata": {},
     "output_type": "display_data"
    },
    {
     "data": {
      "application/vnd.jupyter.widget-view+json": {
       "model_id": "5f199292bdc34a23982ff12be3877956",
       "version_major": 2,
       "version_minor": 0
      },
      "text/plain": [
       "calc_f1:   0%|          | 0/7 [00:00<?, ?it/s]"
      ]
     },
     "metadata": {},
     "output_type": "display_data"
    },
    {
     "name": "stderr",
     "output_type": "stream",
     "text": [
      "\u001b[32m[I 2022-02-14 09:52:33,986]\u001b[0m Trial 2 finished with value: 0.7134028306476307 and parameters: {'link_len': 11, 'sep_prob': 0.665563856468347, 'sep_prob2': 0.5315319053496913, 'sep_prob3': 0.3079316165148915, 'sep_prob4': 0.5685358384457503, 'sep_prob5': 0.8959802498543395, 'pre_prob': 0.43200168618774504, 'after_prob': 0.40849241434445527}. Best is trial 1 with value: 0.7153976377823318.\u001b[0m\n"
     ]
    },
    {
     "data": {
      "application/vnd.jupyter.widget-view+json": {
       "model_id": "67a7c89b8fb94401a500330702d1bb5f",
       "version_major": 2,
       "version_minor": 0
      },
      "text/plain": [
       "get_preds:   0%|          | 0/15594 [00:00<?, ?it/s]"
      ]
     },
     "metadata": {},
     "output_type": "display_data"
    },
    {
     "data": {
      "application/vnd.jupyter.widget-view+json": {
       "model_id": "a82ba218f9c54829825207a85d44b614",
       "version_major": 2,
       "version_minor": 0
      },
      "text/plain": [
       "calc_f1:   0%|          | 0/7 [00:00<?, ?it/s]"
      ]
     },
     "metadata": {},
     "output_type": "display_data"
    },
    {
     "name": "stderr",
     "output_type": "stream",
     "text": [
      "\u001b[32m[I 2022-02-14 09:52:50,015]\u001b[0m Trial 3 finished with value: 0.7136029370796637 and parameters: {'link_len': 33, 'sep_prob': 0.6068258719957117, 'sep_prob2': 0.01415551953053633, 'sep_prob3': 0.023808409367635484, 'sep_prob4': 0.7890002893023487, 'sep_prob5': 0.8901209059254176, 'pre_prob': 0.5325163155241919, 'after_prob': 0.5270905862006506}. Best is trial 1 with value: 0.7153976377823318.\u001b[0m\n"
     ]
    },
    {
     "data": {
      "application/vnd.jupyter.widget-view+json": {
       "model_id": "9178e632b2c1402cb39f10f289166bed",
       "version_major": 2,
       "version_minor": 0
      },
      "text/plain": [
       "get_preds:   0%|          | 0/15594 [00:00<?, ?it/s]"
      ]
     },
     "metadata": {},
     "output_type": "display_data"
    },
    {
     "data": {
      "application/vnd.jupyter.widget-view+json": {
       "model_id": "c20a1108b82244d3aba482acab56af8a",
       "version_major": 2,
       "version_minor": 0
      },
      "text/plain": [
       "calc_f1:   0%|          | 0/7 [00:00<?, ?it/s]"
      ]
     },
     "metadata": {},
     "output_type": "display_data"
    },
    {
     "name": "stderr",
     "output_type": "stream",
     "text": [
      "\u001b[32m[I 2022-02-14 09:53:06,273]\u001b[0m Trial 4 finished with value: 0.7092989307032437 and parameters: {'link_len': 27, 'sep_prob': 0.9705912890853968, 'sep_prob2': 0.24510883303496997, 'sep_prob3': 0.14842127195299085, 'sep_prob4': 0.5176001738705849, 'sep_prob5': 0.6249034563250173, 'pre_prob': 0.65822793554499, 'after_prob': 0.3216103963050153}. Best is trial 1 with value: 0.7153976377823318.\u001b[0m\n"
     ]
    },
    {
     "data": {
      "application/vnd.jupyter.widget-view+json": {
       "model_id": "89893d4ff9cc47ee8ecd7834505018f2",
       "version_major": 2,
       "version_minor": 0
      },
      "text/plain": [
       "get_preds:   0%|          | 0/15594 [00:00<?, ?it/s]"
      ]
     },
     "metadata": {},
     "output_type": "display_data"
    },
    {
     "data": {
      "application/vnd.jupyter.widget-view+json": {
       "model_id": "dfa8c993485b48dc9cf1d8e9d169cef1",
       "version_major": 2,
       "version_minor": 0
      },
      "text/plain": [
       "calc_f1:   0%|          | 0/7 [00:00<?, ?it/s]"
      ]
     },
     "metadata": {},
     "output_type": "display_data"
    },
    {
     "name": "stderr",
     "output_type": "stream",
     "text": [
      "\u001b[32m[I 2022-02-14 09:53:21,933]\u001b[0m Trial 5 finished with value: 0.7136040867522881 and parameters: {'link_len': 26, 'sep_prob': 0.9148835202355868, 'sep_prob2': 0.22030526709118825, 'sep_prob3': 0.39453793958279465, 'sep_prob4': 0.6515815619660503, 'sep_prob5': 0.6865504550525157, 'pre_prob': 0.7804780607753792, 'after_prob': 0.2458280974137511}. Best is trial 1 with value: 0.7153976377823318.\u001b[0m\n"
     ]
    },
    {
     "data": {
      "application/vnd.jupyter.widget-view+json": {
       "model_id": "416e0dec2051443b99fe4f63adf42668",
       "version_major": 2,
       "version_minor": 0
      },
      "text/plain": [
       "get_preds:   0%|          | 0/15594 [00:00<?, ?it/s]"
      ]
     },
     "metadata": {},
     "output_type": "display_data"
    },
    {
     "data": {
      "application/vnd.jupyter.widget-view+json": {
       "model_id": "17e91dda925147978b189f4213b786b1",
       "version_major": 2,
       "version_minor": 0
      },
      "text/plain": [
       "calc_f1:   0%|          | 0/7 [00:00<?, ?it/s]"
      ]
     },
     "metadata": {},
     "output_type": "display_data"
    },
    {
     "name": "stderr",
     "output_type": "stream",
     "text": [
      "\u001b[32m[I 2022-02-14 09:53:37,583]\u001b[0m Trial 6 finished with value: 0.7148817376929799 and parameters: {'link_len': 10, 'sep_prob': 0.5371169041069812, 'sep_prob2': 0.06586135434858062, 'sep_prob3': 0.3111888065810546, 'sep_prob4': 0.7298725627384055, 'sep_prob5': 0.7427604065377347, 'pre_prob': 0.47124748857194665, 'after_prob': 0.6886338686894368}. Best is trial 1 with value: 0.7153976377823318.\u001b[0m\n"
     ]
    },
    {
     "data": {
      "application/vnd.jupyter.widget-view+json": {
       "model_id": "4590e136970b4fb4bfc0e82425dfa294",
       "version_major": 2,
       "version_minor": 0
      },
      "text/plain": [
       "get_preds:   0%|          | 0/15594 [00:00<?, ?it/s]"
      ]
     },
     "metadata": {},
     "output_type": "display_data"
    },
    {
     "data": {
      "application/vnd.jupyter.widget-view+json": {
       "model_id": "654d5f3fab954cb9aa340014551bef8b",
       "version_major": 2,
       "version_minor": 0
      },
      "text/plain": [
       "calc_f1:   0%|          | 0/7 [00:00<?, ?it/s]"
      ]
     },
     "metadata": {},
     "output_type": "display_data"
    },
    {
     "name": "stderr",
     "output_type": "stream",
     "text": [
      "\u001b[32m[I 2022-02-14 09:53:53,758]\u001b[0m Trial 7 finished with value: 0.7134010799329304 and parameters: {'link_len': 18, 'sep_prob': 0.7847650282510015, 'sep_prob2': 0.00704218770049465, 'sep_prob3': 0.484673368644253, 'sep_prob4': 0.8437165711493976, 'sep_prob5': 0.8111039324005362, 'pre_prob': 0.17171218676630695, 'after_prob': 0.908320536031198}. Best is trial 1 with value: 0.7153976377823318.\u001b[0m\n"
     ]
    },
    {
     "data": {
      "application/vnd.jupyter.widget-view+json": {
       "model_id": "4606181f0c294bdbb1c66b6a58636286",
       "version_major": 2,
       "version_minor": 0
      },
      "text/plain": [
       "get_preds:   0%|          | 0/15594 [00:00<?, ?it/s]"
      ]
     },
     "metadata": {},
     "output_type": "display_data"
    },
    {
     "data": {
      "application/vnd.jupyter.widget-view+json": {
       "model_id": "0f2e0d4f6a2c4be4b45cd4c9fa75e574",
       "version_major": 2,
       "version_minor": 0
      },
      "text/plain": [
       "calc_f1:   0%|          | 0/7 [00:00<?, ?it/s]"
      ]
     },
     "metadata": {},
     "output_type": "display_data"
    },
    {
     "name": "stderr",
     "output_type": "stream",
     "text": [
      "\u001b[32m[I 2022-02-14 09:54:09,655]\u001b[0m Trial 8 finished with value: 0.7093275058762348 and parameters: {'link_len': 27, 'sep_prob': 0.5308841509104074, 'sep_prob2': 0.24927566611143814, 'sep_prob3': 0.5119212953215713, 'sep_prob4': 0.9497823079261105, 'sep_prob5': 0.7154804558332237, 'pre_prob': 0.1046518505334586, 'after_prob': 0.4609916209134457}. Best is trial 1 with value: 0.7153976377823318.\u001b[0m\n"
     ]
    },
    {
     "data": {
      "application/vnd.jupyter.widget-view+json": {
       "model_id": "c3231447323e4a328009ef2d1a91ebbc",
       "version_major": 2,
       "version_minor": 0
      },
      "text/plain": [
       "get_preds:   0%|          | 0/15594 [00:00<?, ?it/s]"
      ]
     },
     "metadata": {},
     "output_type": "display_data"
    },
    {
     "data": {
      "application/vnd.jupyter.widget-view+json": {
       "model_id": "8c1b0e8c739844c6a9ddb5f6c5be9a68",
       "version_major": 2,
       "version_minor": 0
      },
      "text/plain": [
       "calc_f1:   0%|          | 0/7 [00:00<?, ?it/s]"
      ]
     },
     "metadata": {},
     "output_type": "display_data"
    },
    {
     "name": "stderr",
     "output_type": "stream",
     "text": [
      "\u001b[32m[I 2022-02-14 09:54:25,685]\u001b[0m Trial 9 finished with value: 0.7137286804156212 and parameters: {'link_len': 24, 'sep_prob': 0.761077983512401, 'sep_prob2': 0.21207361884653386, 'sep_prob3': 0.11603984245399077, 'sep_prob4': 0.8968635748833014, 'sep_prob5': 0.5597052970586378, 'pre_prob': 0.7919001827623321, 'after_prob': 0.26122368463512957}. Best is trial 1 with value: 0.7153976377823318.\u001b[0m\n"
     ]
    },
    {
     "data": {
      "application/vnd.jupyter.widget-view+json": {
       "model_id": "a3b42f87cfce42d781ed0c7f77d894a6",
       "version_major": 2,
       "version_minor": 0
      },
      "text/plain": [
       "get_preds:   0%|          | 0/15594 [00:00<?, ?it/s]"
      ]
     },
     "metadata": {},
     "output_type": "display_data"
    },
    {
     "data": {
      "application/vnd.jupyter.widget-view+json": {
       "model_id": "8405277ec964462b87ac6aad8b5d4b57",
       "version_major": 2,
       "version_minor": 0
      },
      "text/plain": [
       "calc_f1:   0%|          | 0/7 [00:00<?, ?it/s]"
      ]
     },
     "metadata": {},
     "output_type": "display_data"
    },
    {
     "name": "stderr",
     "output_type": "stream",
     "text": [
      "\u001b[32m[I 2022-02-14 09:54:41,257]\u001b[0m Trial 10 finished with value: 0.7113666167119055 and parameters: {'link_len': 40, 'sep_prob': 0.8702765649359541, 'sep_prob2': 0.4115531765731414, 'sep_prob3': 0.2075174774751372, 'sep_prob4': 0.9642077942537637, 'sep_prob5': 0.8325807879089395, 'pre_prob': 0.9655125464899147, 'after_prob': 0.027509988878157365}. Best is trial 1 with value: 0.7153976377823318.\u001b[0m\n"
     ]
    },
    {
     "data": {
      "application/vnd.jupyter.widget-view+json": {
       "model_id": "7a07012136ca41b39a5a2df587b4059b",
       "version_major": 2,
       "version_minor": 0
      },
      "text/plain": [
       "get_preds:   0%|          | 0/15594 [00:00<?, ?it/s]"
      ]
     },
     "metadata": {},
     "output_type": "display_data"
    },
    {
     "data": {
      "application/vnd.jupyter.widget-view+json": {
       "model_id": "563309511ba04a1da7f016e718d32491",
       "version_major": 2,
       "version_minor": 0
      },
      "text/plain": [
       "calc_f1:   0%|          | 0/7 [00:00<?, ?it/s]"
      ]
     },
     "metadata": {},
     "output_type": "display_data"
    },
    {
     "name": "stderr",
     "output_type": "stream",
     "text": [
      "\u001b[32m[I 2022-02-14 09:54:56,458]\u001b[0m Trial 11 finished with value: 0.7138003147798181 and parameters: {'link_len': 10, 'sep_prob': 0.6626238840642454, 'sep_prob2': 0.3968755429271478, 'sep_prob3': 0.33884926712081165, 'sep_prob4': 0.7475851152321425, 'sep_prob5': 0.7697237328716604, 'pre_prob': 0.3594643368755227, 'after_prob': 0.7126709531481455}. Best is trial 1 with value: 0.7153976377823318.\u001b[0m\n"
     ]
    },
    {
     "data": {
      "application/vnd.jupyter.widget-view+json": {
       "model_id": "f3214f91cc7a4d10975dc456e8afe38c",
       "version_major": 2,
       "version_minor": 0
      },
      "text/plain": [
       "get_preds:   0%|          | 0/15594 [00:00<?, ?it/s]"
      ]
     },
     "metadata": {},
     "output_type": "display_data"
    },
    {
     "data": {
      "application/vnd.jupyter.widget-view+json": {
       "model_id": "c75285ea920944fcafaece608f33bf7d",
       "version_major": 2,
       "version_minor": 0
      },
      "text/plain": [
       "calc_f1:   0%|          | 0/7 [00:00<?, ?it/s]"
      ]
     },
     "metadata": {},
     "output_type": "display_data"
    },
    {
     "name": "stderr",
     "output_type": "stream",
     "text": [
      "\u001b[32m[I 2022-02-14 09:55:11,784]\u001b[0m Trial 12 finished with value: 0.7140671032965746 and parameters: {'link_len': 15, 'sep_prob': 0.6006985897481386, 'sep_prob2': 0.11112066255296231, 'sep_prob3': 0.4097081593852732, 'sep_prob4': 0.8009489497429632, 'sep_prob5': 0.6600887670969329, 'pre_prob': 0.5940880958191062, 'after_prob': 0.6739560180079478}. Best is trial 1 with value: 0.7153976377823318.\u001b[0m\n"
     ]
    },
    {
     "data": {
      "application/vnd.jupyter.widget-view+json": {
       "model_id": "40b450735a584042afd149e32156e272",
       "version_major": 2,
       "version_minor": 0
      },
      "text/plain": [
       "get_preds:   0%|          | 0/15594 [00:00<?, ?it/s]"
      ]
     },
     "metadata": {},
     "output_type": "display_data"
    },
    {
     "data": {
      "application/vnd.jupyter.widget-view+json": {
       "model_id": "63d39a61c19c42a488f85116c83dbdba",
       "version_major": 2,
       "version_minor": 0
      },
      "text/plain": [
       "calc_f1:   0%|          | 0/7 [00:00<?, ?it/s]"
      ]
     },
     "metadata": {},
     "output_type": "display_data"
    },
    {
     "name": "stderr",
     "output_type": "stream",
     "text": [
      "\u001b[32m[I 2022-02-14 09:55:27,570]\u001b[0m Trial 13 finished with value: 0.7127459008730741 and parameters: {'link_len': 34, 'sep_prob': 0.8402879722047188, 'sep_prob2': 0.36616534228373465, 'sep_prob3': 0.21697244715106023, 'sep_prob4': 0.7159015291908637, 'sep_prob5': 0.7603967126244983, 'pre_prob': 0.35727081767784674, 'after_prob': 0.07871705911298438}. Best is trial 1 with value: 0.7153976377823318.\u001b[0m\n"
     ]
    },
    {
     "data": {
      "application/vnd.jupyter.widget-view+json": {
       "model_id": "7032fa3dc216491e8bb91924114e0829",
       "version_major": 2,
       "version_minor": 0
      },
      "text/plain": [
       "get_preds:   0%|          | 0/15594 [00:00<?, ?it/s]"
      ]
     },
     "metadata": {},
     "output_type": "display_data"
    },
    {
     "data": {
      "application/vnd.jupyter.widget-view+json": {
       "model_id": "907ccd87cb4248bb90c6a3e94ea555c6",
       "version_major": 2,
       "version_minor": 0
      },
      "text/plain": [
       "calc_f1:   0%|          | 0/7 [00:00<?, ?it/s]"
      ]
     },
     "metadata": {},
     "output_type": "display_data"
    },
    {
     "name": "stderr",
     "output_type": "stream",
     "text": [
      "\u001b[32m[I 2022-02-14 09:55:43,062]\u001b[0m Trial 14 finished with value: 0.7091690359012016 and parameters: {'link_len': 8, 'sep_prob': 0.7097143090111118, 'sep_prob2': 0.5274021169342396, 'sep_prob3': 0.5881479473255392, 'sep_prob4': 0.6263363460830705, 'sep_prob5': 0.5987513687575852, 'pre_prob': 0.9485842989240303, 'after_prob': 0.6746235724718054}. Best is trial 1 with value: 0.7153976377823318.\u001b[0m\n"
     ]
    },
    {
     "data": {
      "application/vnd.jupyter.widget-view+json": {
       "model_id": "7690bbcbee494cbba9f7b448d1d7fad1",
       "version_major": 2,
       "version_minor": 0
      },
      "text/plain": [
       "get_preds:   0%|          | 0/15594 [00:00<?, ?it/s]"
      ]
     },
     "metadata": {},
     "output_type": "display_data"
    },
    {
     "data": {
      "application/vnd.jupyter.widget-view+json": {
       "model_id": "aed9fc8c600c46ea8b45ddc9520371d2",
       "version_major": 2,
       "version_minor": 0
      },
      "text/plain": [
       "calc_f1:   0%|          | 0/7 [00:00<?, ?it/s]"
      ]
     },
     "metadata": {},
     "output_type": "display_data"
    },
    {
     "name": "stderr",
     "output_type": "stream",
     "text": [
      "\u001b[32m[I 2022-02-14 09:55:58,263]\u001b[0m Trial 15 finished with value: 0.7127642341503224 and parameters: {'link_len': 20, 'sep_prob': 0.5771423818830581, 'sep_prob2': 0.10422910099588739, 'sep_prob3': 0.24464765701048075, 'sep_prob4': 0.8650856315893897, 'sep_prob5': 0.5173183972836407, 'pre_prob': 0.7099031687880604, 'after_prob': 0.7903171356255209}. Best is trial 1 with value: 0.7153976377823318.\u001b[0m\n"
     ]
    },
    {
     "data": {
      "application/vnd.jupyter.widget-view+json": {
       "model_id": "9c7be74674554de4b2676f00d8892905",
       "version_major": 2,
       "version_minor": 0
      },
      "text/plain": [
       "get_preds:   0%|          | 0/15594 [00:00<?, ?it/s]"
      ]
     },
     "metadata": {},
     "output_type": "display_data"
    },
    {
     "data": {
      "application/vnd.jupyter.widget-view+json": {
       "model_id": "f4cfc083d7934cda9808774807f75e91",
       "version_major": 2,
       "version_minor": 0
      },
      "text/plain": [
       "calc_f1:   0%|          | 0/7 [00:00<?, ?it/s]"
      ]
     },
     "metadata": {},
     "output_type": "display_data"
    },
    {
     "name": "stderr",
     "output_type": "stream",
     "text": [
      "\u001b[32m[I 2022-02-14 09:56:13,876]\u001b[0m Trial 16 finished with value: 0.7057162106382184 and parameters: {'link_len': 13, 'sep_prob': 0.8132575377071346, 'sep_prob2': 0.3166274412790733, 'sep_prob3': 0.38982227922550167, 'sep_prob4': 0.7867651384765482, 'sep_prob5': 0.9994962494687163, 'pre_prob': 0.23451628826960946, 'after_prob': 0.16662158233641683}. Best is trial 1 with value: 0.7153976377823318.\u001b[0m\n"
     ]
    },
    {
     "data": {
      "application/vnd.jupyter.widget-view+json": {
       "model_id": "3278956436df4f91b97aaf823ea134d9",
       "version_major": 2,
       "version_minor": 0
      },
      "text/plain": [
       "get_preds:   0%|          | 0/15594 [00:00<?, ?it/s]"
      ]
     },
     "metadata": {},
     "output_type": "display_data"
    },
    {
     "data": {
      "application/vnd.jupyter.widget-view+json": {
       "model_id": "0a0d86b080674cff82ff68ee0160f311",
       "version_major": 2,
       "version_minor": 0
      },
      "text/plain": [
       "calc_f1:   0%|          | 0/7 [00:00<?, ?it/s]"
      ]
     },
     "metadata": {},
     "output_type": "display_data"
    },
    {
     "name": "stderr",
     "output_type": "stream",
     "text": [
      "\u001b[32m[I 2022-02-14 09:56:30,995]\u001b[0m Trial 17 finished with value: 0.7118923518623285 and parameters: {'link_len': 32, 'sep_prob': 0.7171447671969088, 'sep_prob2': 0.4662026944690181, 'sep_prob3': 0.2760521173962267, 'sep_prob4': 0.8970922296974932, 'sep_prob5': 0.8294754414179604, 'pre_prob': 0.8403708050331589, 'after_prob': 0.5819795736282365}. Best is trial 1 with value: 0.7153976377823318.\u001b[0m\n"
     ]
    },
    {
     "data": {
      "application/vnd.jupyter.widget-view+json": {
       "model_id": "fea0a2c4632646b2941a09dc95d6e619",
       "version_major": 2,
       "version_minor": 0
      },
      "text/plain": [
       "get_preds:   0%|          | 0/15594 [00:00<?, ?it/s]"
      ]
     },
     "metadata": {},
     "output_type": "display_data"
    },
    {
     "data": {
      "application/vnd.jupyter.widget-view+json": {
       "model_id": "ff52847d227c4179a80533587633f2b1",
       "version_major": 2,
       "version_minor": 0
      },
      "text/plain": [
       "calc_f1:   0%|          | 0/7 [00:00<?, ?it/s]"
      ]
     },
     "metadata": {},
     "output_type": "display_data"
    },
    {
     "name": "stderr",
     "output_type": "stream",
     "text": [
      "\u001b[32m[I 2022-02-14 09:56:48,924]\u001b[0m Trial 18 finished with value: 0.7145453544570258 and parameters: {'link_len': 22, 'sep_prob': 0.6672275980984217, 'sep_prob2': 0.5900519500617989, 'sep_prob3': 0.45641941576440437, 'sep_prob4': 0.7393336242790847, 'sep_prob5': 0.7203416051290737, 'pre_prob': 0.4945988150101286, 'after_prob': 0.3869567190025157}. Best is trial 1 with value: 0.7153976377823318.\u001b[0m\n"
     ]
    },
    {
     "data": {
      "application/vnd.jupyter.widget-view+json": {
       "model_id": "ab6b53229de847e7993744923e06626a",
       "version_major": 2,
       "version_minor": 0
      },
      "text/plain": [
       "get_preds:   0%|          | 0/15594 [00:00<?, ?it/s]"
      ]
     },
     "metadata": {},
     "output_type": "display_data"
    },
    {
     "data": {
      "application/vnd.jupyter.widget-view+json": {
       "model_id": "1762c485c2694d1dbfdecd73992e9453",
       "version_major": 2,
       "version_minor": 0
      },
      "text/plain": [
       "calc_f1:   0%|          | 0/7 [00:00<?, ?it/s]"
      ]
     },
     "metadata": {},
     "output_type": "display_data"
    },
    {
     "name": "stderr",
     "output_type": "stream",
     "text": [
      "\u001b[32m[I 2022-02-14 09:57:05,316]\u001b[0m Trial 19 finished with value: 0.7041734682044192 and parameters: {'link_len': 16, 'sep_prob': 0.9853265744046966, 'sep_prob2': 0.1617433243968387, 'sep_prob3': 0.3425815619545729, 'sep_prob4': 0.8160469717949626, 'sep_prob5': 0.7884352378803531, 'pre_prob': 0.271455615882228, 'after_prob': 0.8322654714054971}. Best is trial 1 with value: 0.7153976377823318.\u001b[0m\n"
     ]
    },
    {
     "data": {
      "application/vnd.jupyter.widget-view+json": {
       "model_id": "3ef9787ca52e4b4a9530a96a6b8ad06c",
       "version_major": 2,
       "version_minor": 0
      },
      "text/plain": [
       "get_preds:   0%|          | 0/15594 [00:00<?, ?it/s]"
      ]
     },
     "metadata": {},
     "output_type": "display_data"
    },
    {
     "data": {
      "application/vnd.jupyter.widget-view+json": {
       "model_id": "7f0848d15b0945c69e81ffd876035a9f",
       "version_major": 2,
       "version_minor": 0
      },
      "text/plain": [
       "calc_f1:   0%|          | 0/7 [00:00<?, ?it/s]"
      ]
     },
     "metadata": {},
     "output_type": "display_data"
    },
    {
     "name": "stderr",
     "output_type": "stream",
     "text": [
      "\u001b[32m[I 2022-02-14 09:57:21,619]\u001b[0m Trial 20 finished with value: 0.6989948464868911 and parameters: {'link_len': 40, 'sep_prob': 0.5558225970245448, 'sep_prob2': 0.06004619388294641, 'sep_prob3': 0.13627249373968361, 'sep_prob4': 0.9948927814240844, 'sep_prob5': 0.8930102983520932, 'pre_prob': 0.013649793782830988, 'after_prob': 0.5993080420195372}. Best is trial 1 with value: 0.7153976377823318.\u001b[0m\n"
     ]
    },
    {
     "data": {
      "application/vnd.jupyter.widget-view+json": {
       "model_id": "2c6bdd71c8884f65ae96ea08ddf7f8bd",
       "version_major": 2,
       "version_minor": 0
      },
      "text/plain": [
       "get_preds:   0%|          | 0/15594 [00:00<?, ?it/s]"
      ]
     },
     "metadata": {},
     "output_type": "display_data"
    },
    {
     "data": {
      "application/vnd.jupyter.widget-view+json": {
       "model_id": "88c688afbc084c35bada0fdfd689483e",
       "version_major": 2,
       "version_minor": 0
      },
      "text/plain": [
       "calc_f1:   0%|          | 0/7 [00:00<?, ?it/s]"
      ]
     },
     "metadata": {},
     "output_type": "display_data"
    },
    {
     "name": "stderr",
     "output_type": "stream",
     "text": [
      "\u001b[32m[I 2022-02-14 09:57:38,034]\u001b[0m Trial 21 finished with value: 0.7143963663853216 and parameters: {'link_len': 21, 'sep_prob': 0.6495488757686838, 'sep_prob2': 0.5917610832348023, 'sep_prob3': 0.4470032862820503, 'sep_prob4': 0.7195516790957263, 'sep_prob5': 0.7182705228188708, 'pre_prob': 0.4901763039923011, 'after_prob': 0.3652270977687436}. Best is trial 1 with value: 0.7153976377823318.\u001b[0m\n"
     ]
    },
    {
     "data": {
      "application/vnd.jupyter.widget-view+json": {
       "model_id": "b0913ea9ef4b4872878b3752f968a784",
       "version_major": 2,
       "version_minor": 0
      },
      "text/plain": [
       "get_preds:   0%|          | 0/15594 [00:00<?, ?it/s]"
      ]
     },
     "metadata": {},
     "output_type": "display_data"
    },
    {
     "data": {
      "application/vnd.jupyter.widget-view+json": {
       "model_id": "e517ccc63eda4a17ab423c1975628638",
       "version_major": 2,
       "version_minor": 0
      },
      "text/plain": [
       "calc_f1:   0%|          | 0/7 [00:00<?, ?it/s]"
      ]
     },
     "metadata": {},
     "output_type": "display_data"
    },
    {
     "name": "stderr",
     "output_type": "stream",
     "text": [
      "\u001b[32m[I 2022-02-14 09:57:54,724]\u001b[0m Trial 22 finished with value: 0.715226282990427 and parameters: {'link_len': 23, 'sep_prob': 0.7301799498880205, 'sep_prob2': 0.3338216062996459, 'sep_prob3': 0.3482113696729347, 'sep_prob4': 0.7524643672329251, 'sep_prob5': 0.7228457594510913, 'pre_prob': 0.6035101111320736, 'after_prob': 0.15775245517927622}. Best is trial 1 with value: 0.7153976377823318.\u001b[0m\n"
     ]
    },
    {
     "data": {
      "application/vnd.jupyter.widget-view+json": {
       "model_id": "023fe98f80fa4c6ba1390eeb06b8516c",
       "version_major": 2,
       "version_minor": 0
      },
      "text/plain": [
       "get_preds:   0%|          | 0/15594 [00:00<?, ?it/s]"
      ]
     },
     "metadata": {},
     "output_type": "display_data"
    },
    {
     "data": {
      "application/vnd.jupyter.widget-view+json": {
       "model_id": "9dff328812e74a2c8b4288f86de5553c",
       "version_major": 2,
       "version_minor": 0
      },
      "text/plain": [
       "calc_f1:   0%|          | 0/7 [00:00<?, ?it/s]"
      ]
     },
     "metadata": {},
     "output_type": "display_data"
    },
    {
     "name": "stderr",
     "output_type": "stream",
     "text": [
      "\u001b[32m[I 2022-02-14 09:58:11,499]\u001b[0m Trial 23 finished with value: 0.7155549843480199 and parameters: {'link_len': 30, 'sep_prob': 0.7350425285212342, 'sep_prob2': 0.3061603530182449, 'sep_prob3': 0.33617599333378456, 'sep_prob4': 0.6270890905847537, 'sep_prob5': 0.6669589092953389, 'pre_prob': 0.6400260845337402, 'after_prob': 0.15063972865454434}. Best is trial 23 with value: 0.7155549843480199.\u001b[0m\n"
     ]
    },
    {
     "data": {
      "application/vnd.jupyter.widget-view+json": {
       "model_id": "011a4d215f174cc78b9d4798a4e9a71a",
       "version_major": 2,
       "version_minor": 0
      },
      "text/plain": [
       "get_preds:   0%|          | 0/15594 [00:00<?, ?it/s]"
      ]
     },
     "metadata": {},
     "output_type": "display_data"
    },
    {
     "data": {
      "application/vnd.jupyter.widget-view+json": {
       "model_id": "89a39d601efa4b3db7ec3b9bf47d3563",
       "version_major": 2,
       "version_minor": 0
      },
      "text/plain": [
       "calc_f1:   0%|          | 0/7 [00:00<?, ?it/s]"
      ]
     },
     "metadata": {},
     "output_type": "display_data"
    },
    {
     "name": "stderr",
     "output_type": "stream",
     "text": [
      "\u001b[32m[I 2022-02-14 09:58:28,325]\u001b[0m Trial 24 finished with value: 0.715515680926994 and parameters: {'link_len': 30, 'sep_prob': 0.7183347925677198, 'sep_prob2': 0.33008535633561426, 'sep_prob3': 0.363394780327082, 'sep_prob4': 0.6095980006824224, 'sep_prob5': 0.6502426208446507, 'pre_prob': 0.6335679207335032, 'after_prob': 0.14817036624777014}. Best is trial 23 with value: 0.7155549843480199.\u001b[0m\n"
     ]
    },
    {
     "data": {
      "application/vnd.jupyter.widget-view+json": {
       "model_id": "fa9c22b205a34dbb98c76164bc9f027d",
       "version_major": 2,
       "version_minor": 0
      },
      "text/plain": [
       "get_preds:   0%|          | 0/15594 [00:00<?, ?it/s]"
      ]
     },
     "metadata": {},
     "output_type": "display_data"
    },
    {
     "data": {
      "application/vnd.jupyter.widget-view+json": {
       "model_id": "6da64c4298ff4a63ae2d65f41772271a",
       "version_major": 2,
       "version_minor": 0
      },
      "text/plain": [
       "calc_f1:   0%|          | 0/7 [00:00<?, ?it/s]"
      ]
     },
     "metadata": {},
     "output_type": "display_data"
    },
    {
     "name": "stderr",
     "output_type": "stream",
     "text": [
      "\u001b[32m[I 2022-02-14 09:58:46,388]\u001b[0m Trial 25 finished with value: 0.7162267178097743 and parameters: {'link_len': 30, 'sep_prob': 0.7835683148096986, 'sep_prob2': 0.28494935238957275, 'sep_prob3': 0.2586615658343077, 'sep_prob4': 0.5810833081424839, 'sep_prob5': 0.6494460546467324, 'pre_prob': 0.8641242118213159, 'after_prob': 0.1433248813195611}. Best is trial 25 with value: 0.7162267178097743.\u001b[0m\n"
     ]
    },
    {
     "data": {
      "application/vnd.jupyter.widget-view+json": {
       "model_id": "a1733006977f4f84aa4be024d7972914",
       "version_major": 2,
       "version_minor": 0
      },
      "text/plain": [
       "get_preds:   0%|          | 0/15594 [00:00<?, ?it/s]"
      ]
     },
     "metadata": {},
     "output_type": "display_data"
    },
    {
     "data": {
      "application/vnd.jupyter.widget-view+json": {
       "model_id": "0a979428f231497badf84b17b5ad7504",
       "version_major": 2,
       "version_minor": 0
      },
      "text/plain": [
       "calc_f1:   0%|          | 0/7 [00:00<?, ?it/s]"
      ]
     },
     "metadata": {},
     "output_type": "display_data"
    },
    {
     "name": "stderr",
     "output_type": "stream",
     "text": [
      "\u001b[32m[I 2022-02-14 09:59:02,941]\u001b[0m Trial 26 finished with value: 0.7161469228849923 and parameters: {'link_len': 31, 'sep_prob': 0.7906697527945826, 'sep_prob2': 0.29649443123518343, 'sep_prob3': 0.26794016604565707, 'sep_prob4': 0.578410013103193, 'sep_prob5': 0.6432317494467107, 'pre_prob': 0.8783418085591341, 'after_prob': 0.010605098359017073}. Best is trial 25 with value: 0.7162267178097743.\u001b[0m\n"
     ]
    },
    {
     "data": {
      "application/vnd.jupyter.widget-view+json": {
       "model_id": "25b3c17e1773433390609a38661af0a2",
       "version_major": 2,
       "version_minor": 0
      },
      "text/plain": [
       "get_preds:   0%|          | 0/15594 [00:00<?, ?it/s]"
      ]
     },
     "metadata": {},
     "output_type": "display_data"
    },
    {
     "data": {
      "application/vnd.jupyter.widget-view+json": {
       "model_id": "178ccf92a14546f28b9017cd43dc4c1a",
       "version_major": 2,
       "version_minor": 0
      },
      "text/plain": [
       "calc_f1:   0%|          | 0/7 [00:00<?, ?it/s]"
      ]
     },
     "metadata": {},
     "output_type": "display_data"
    },
    {
     "name": "stderr",
     "output_type": "stream",
     "text": [
      "\u001b[32m[I 2022-02-14 09:59:19,479]\u001b[0m Trial 27 finished with value: 0.7149582035061399 and parameters: {'link_len': 36, 'sep_prob': 0.8704683371833387, 'sep_prob2': 0.2803659595356223, 'sep_prob3': 0.19182131545846756, 'sep_prob4': 0.5142786775207085, 'sep_prob5': 0.5737554689191581, 'pre_prob': 0.8976854980615271, 'after_prob': 0.032957357773300555}. Best is trial 25 with value: 0.7162267178097743.\u001b[0m\n"
     ]
    },
    {
     "data": {
      "application/vnd.jupyter.widget-view+json": {
       "model_id": "b4ee67497f06408baa973c2e0c10b583",
       "version_major": 2,
       "version_minor": 0
      },
      "text/plain": [
       "get_preds:   0%|          | 0/15594 [00:00<?, ?it/s]"
      ]
     },
     "metadata": {},
     "output_type": "display_data"
    },
    {
     "data": {
      "application/vnd.jupyter.widget-view+json": {
       "model_id": "bd1c2304b7fc400dbee65e3be7bea408",
       "version_major": 2,
       "version_minor": 0
      },
      "text/plain": [
       "calc_f1:   0%|          | 0/7 [00:00<?, ?it/s]"
      ]
     },
     "metadata": {},
     "output_type": "display_data"
    },
    {
     "name": "stderr",
     "output_type": "stream",
     "text": [
      "\u001b[32m[I 2022-02-14 09:59:35,433]\u001b[0m Trial 28 finished with value: 0.7159876784649225 and parameters: {'link_len': 30, 'sep_prob': 0.7963415318962839, 'sep_prob2': 0.19099289309865838, 'sep_prob3': 0.2619925908333935, 'sep_prob4': 0.5654981039671301, 'sep_prob5': 0.5139827056072476, 'pre_prob': 0.8826731431662577, 'after_prob': 0.10929376167419126}. Best is trial 25 with value: 0.7162267178097743.\u001b[0m\n"
     ]
    },
    {
     "data": {
      "application/vnd.jupyter.widget-view+json": {
       "model_id": "658a41b6cc1241819584d7b6d69a651a",
       "version_major": 2,
       "version_minor": 0
      },
      "text/plain": [
       "get_preds:   0%|          | 0/15594 [00:00<?, ?it/s]"
      ]
     },
     "metadata": {},
     "output_type": "display_data"
    },
    {
     "data": {
      "application/vnd.jupyter.widget-view+json": {
       "model_id": "13ecc20f7a164a6a8b20db2413e9407a",
       "version_major": 2,
       "version_minor": 0
      },
      "text/plain": [
       "calc_f1:   0%|          | 0/7 [00:00<?, ?it/s]"
      ]
     },
     "metadata": {},
     "output_type": "display_data"
    },
    {
     "name": "stderr",
     "output_type": "stream",
     "text": [
      "\u001b[32m[I 2022-02-14 09:59:51,165]\u001b[0m Trial 29 finished with value: 0.7158050560920782 and parameters: {'link_len': 37, 'sep_prob': 0.7992876854534503, 'sep_prob2': 0.1698513689656304, 'sep_prob3': 0.26444039160147864, 'sep_prob4': 0.5586250981108203, 'sep_prob5': 0.5054643629756105, 'pre_prob': 0.8776108308201975, 'after_prob': 0.09158152335194847}. Best is trial 25 with value: 0.7162267178097743.\u001b[0m\n"
     ]
    },
    {
     "data": {
      "application/vnd.jupyter.widget-view+json": {
       "model_id": "aeaf730ada244f5cba403f829460280b",
       "version_major": 2,
       "version_minor": 0
      },
      "text/plain": [
       "get_preds:   0%|          | 0/15594 [00:00<?, ?it/s]"
      ]
     },
     "metadata": {},
     "output_type": "display_data"
    },
    {
     "data": {
      "application/vnd.jupyter.widget-view+json": {
       "model_id": "d2c561100efe4b3499241db6ed692634",
       "version_major": 2,
       "version_minor": 0
      },
      "text/plain": [
       "calc_f1:   0%|          | 0/7 [00:00<?, ?it/s]"
      ]
     },
     "metadata": {},
     "output_type": "display_data"
    },
    {
     "name": "stderr",
     "output_type": "stream",
     "text": [
      "\u001b[32m[I 2022-02-14 10:00:07,771]\u001b[0m Trial 30 finished with value: 0.7133635350628558 and parameters: {'link_len': 30, 'sep_prob': 0.9045597107788184, 'sep_prob2': 0.19361399497415613, 'sep_prob3': 0.07295073212170136, 'sep_prob4': 0.572547841061078, 'sep_prob5': 0.5386233387211575, 'pre_prob': 0.9321050605201157, 'after_prob': 0.29697651069546993}. Best is trial 25 with value: 0.7162267178097743.\u001b[0m\n"
     ]
    },
    {
     "data": {
      "application/vnd.jupyter.widget-view+json": {
       "model_id": "916703874e8c4bf09343eaaf4bd8f29f",
       "version_major": 2,
       "version_minor": 0
      },
      "text/plain": [
       "get_preds:   0%|          | 0/15594 [00:00<?, ?it/s]"
      ]
     },
     "metadata": {},
     "output_type": "display_data"
    },
    {
     "data": {
      "application/vnd.jupyter.widget-view+json": {
       "model_id": "3ae87f6eb47a495b9244bb1c1a4b70f8",
       "version_major": 2,
       "version_minor": 0
      },
      "text/plain": [
       "calc_f1:   0%|          | 0/7 [00:00<?, ?it/s]"
      ]
     },
     "metadata": {},
     "output_type": "display_data"
    },
    {
     "name": "stderr",
     "output_type": "stream",
     "text": [
      "\u001b[32m[I 2022-02-14 10:00:23,963]\u001b[0m Trial 31 finished with value: 0.7157054394543979 and parameters: {'link_len': 37, 'sep_prob': 0.8080677210298165, 'sep_prob2': 0.15667620417623512, 'sep_prob3': 0.2660998067126388, 'sep_prob4': 0.560041298926749, 'sep_prob5': 0.5015276565009225, 'pre_prob': 0.868870682030437, 'after_prob': 0.08090988092663001}. Best is trial 25 with value: 0.7162267178097743.\u001b[0m\n"
     ]
    },
    {
     "data": {
      "application/vnd.jupyter.widget-view+json": {
       "model_id": "9b8e572cbd134716b39d5ec0c803016a",
       "version_major": 2,
       "version_minor": 0
      },
      "text/plain": [
       "get_preds:   0%|          | 0/15594 [00:00<?, ?it/s]"
      ]
     },
     "metadata": {},
     "output_type": "display_data"
    },
    {
     "data": {
      "application/vnd.jupyter.widget-view+json": {
       "model_id": "95a28fe5e906498aa17b0a1925072d70",
       "version_major": 2,
       "version_minor": 0
      },
      "text/plain": [
       "calc_f1:   0%|          | 0/7 [00:00<?, ?it/s]"
      ]
     },
     "metadata": {},
     "output_type": "display_data"
    },
    {
     "name": "stderr",
     "output_type": "stream",
     "text": [
      "\u001b[32m[I 2022-02-14 10:00:40,611]\u001b[0m Trial 32 finished with value: 0.7154939298409726 and parameters: {'link_len': 36, 'sep_prob': 0.7761439426785263, 'sep_prob2': 0.26932089505654294, 'sep_prob3': 0.1730662073139123, 'sep_prob4': 0.6803518512710897, 'sep_prob5': 0.6002321827891867, 'pre_prob': 0.7316161621035544, 'after_prob': 0.08478361126144908}. Best is trial 25 with value: 0.7162267178097743.\u001b[0m\n"
     ]
    },
    {
     "data": {
      "application/vnd.jupyter.widget-view+json": {
       "model_id": "0692d07760f34e41927388231fb76ee6",
       "version_major": 2,
       "version_minor": 0
      },
      "text/plain": [
       "get_preds:   0%|          | 0/15594 [00:00<?, ?it/s]"
      ]
     },
     "metadata": {},
     "output_type": "display_data"
    },
    {
     "data": {
      "application/vnd.jupyter.widget-view+json": {
       "model_id": "02be4ab4e57947bab4f0a941f26bb916",
       "version_major": 2,
       "version_minor": 0
      },
      "text/plain": [
       "calc_f1:   0%|          | 0/7 [00:00<?, ?it/s]"
      ]
     },
     "metadata": {},
     "output_type": "display_data"
    },
    {
     "name": "stderr",
     "output_type": "stream",
     "text": [
      "\u001b[32m[I 2022-02-14 10:00:56,685]\u001b[0m Trial 33 finished with value: 0.7160684929200406 and parameters: {'link_len': 29, 'sep_prob': 0.8235989936681583, 'sep_prob2': 0.17319134629955515, 'sep_prob3': 0.23538545968744048, 'sep_prob4': 0.546392679565091, 'sep_prob5': 0.5378359111361534, 'pre_prob': 0.9953370868319362, 'after_prob': 0.010138380141769904}. Best is trial 25 with value: 0.7162267178097743.\u001b[0m\n"
     ]
    },
    {
     "data": {
      "application/vnd.jupyter.widget-view+json": {
       "model_id": "560c400e33be49a086fb37f6d8c1f155",
       "version_major": 2,
       "version_minor": 0
      },
      "text/plain": [
       "get_preds:   0%|          | 0/15594 [00:00<?, ?it/s]"
      ]
     },
     "metadata": {},
     "output_type": "display_data"
    },
    {
     "data": {
      "application/vnd.jupyter.widget-view+json": {
       "model_id": "8de3a2a8da374862b9ff1599ff327c62",
       "version_major": 2,
       "version_minor": 0
      },
      "text/plain": [
       "calc_f1:   0%|          | 0/7 [00:00<?, ?it/s]"
      ]
     },
     "metadata": {},
     "output_type": "display_data"
    },
    {
     "name": "stderr",
     "output_type": "stream",
     "text": [
      "\u001b[32m[I 2022-02-14 10:01:13,061]\u001b[0m Trial 34 finished with value: 0.7159701415269628 and parameters: {'link_len': 28, 'sep_prob': 0.8326242160517316, 'sep_prob2': 0.23364569298657797, 'sep_prob3': 0.23088464716182158, 'sep_prob4': 0.5876224303823164, 'sep_prob5': 0.548367110844245, 'pre_prob': 0.9836860582418705, 'after_prob': 0.012310483608875135}. Best is trial 25 with value: 0.7162267178097743.\u001b[0m\n"
     ]
    },
    {
     "data": {
      "application/vnd.jupyter.widget-view+json": {
       "model_id": "5dcc6b16f4044e1db6bb5107ce599843",
       "version_major": 2,
       "version_minor": 0
      },
      "text/plain": [
       "get_preds:   0%|          | 0/15594 [00:00<?, ?it/s]"
      ]
     },
     "metadata": {},
     "output_type": "display_data"
    },
    {
     "data": {
      "application/vnd.jupyter.widget-view+json": {
       "model_id": "a75ace95f12344c2a68ce28a69d2ba83",
       "version_major": 2,
       "version_minor": 0
      },
      "text/plain": [
       "calc_f1:   0%|          | 0/7 [00:00<?, ?it/s]"
      ]
     },
     "metadata": {},
     "output_type": "display_data"
    },
    {
     "name": "stderr",
     "output_type": "stream",
     "text": [
      "\u001b[32m[I 2022-02-14 10:01:29,401]\u001b[0m Trial 35 finished with value: 0.7149786054623054 and parameters: {'link_len': 32, 'sep_prob': 0.8686227410718739, 'sep_prob2': 0.3587652762647121, 'sep_prob3': 0.29746256416664707, 'sep_prob4': 0.5376715421974685, 'sep_prob5': 0.6210524624131846, 'pre_prob': 0.8112161761128831, 'after_prob': 0.0006820606674419732}. Best is trial 25 with value: 0.7162267178097743.\u001b[0m\n"
     ]
    },
    {
     "data": {
      "application/vnd.jupyter.widget-view+json": {
       "model_id": "af03fe0ca72444dfa790956608117529",
       "version_major": 2,
       "version_minor": 0
      },
      "text/plain": [
       "get_preds:   0%|          | 0/15594 [00:00<?, ?it/s]"
      ]
     },
     "metadata": {},
     "output_type": "display_data"
    },
    {
     "data": {
      "application/vnd.jupyter.widget-view+json": {
       "model_id": "0a534b4b76224621be183be17882ec43",
       "version_major": 2,
       "version_minor": 0
      },
      "text/plain": [
       "calc_f1:   0%|          | 0/7 [00:00<?, ?it/s]"
      ]
     },
     "metadata": {},
     "output_type": "display_data"
    },
    {
     "name": "stderr",
     "output_type": "stream",
     "text": [
      "\u001b[32m[I 2022-02-14 10:01:45,722]\u001b[0m Trial 36 finished with value: 0.7155368781383186 and parameters: {'link_len': 29, 'sep_prob': 0.7569378937895775, 'sep_prob2': 0.19532491237963223, 'sep_prob3': 0.185473778491626, 'sep_prob4': 0.501287563817445, 'sep_prob5': 0.587689054449493, 'pre_prob': 0.73598220569775, 'after_prob': 0.2182250985901707}. Best is trial 25 with value: 0.7162267178097743.\u001b[0m\n"
     ]
    },
    {
     "data": {
      "application/vnd.jupyter.widget-view+json": {
       "model_id": "36b45942b55b4b75991674e1ed1b1cde",
       "version_major": 2,
       "version_minor": 0
      },
      "text/plain": [
       "get_preds:   0%|          | 0/15594 [00:00<?, ?it/s]"
      ]
     },
     "metadata": {},
     "output_type": "display_data"
    },
    {
     "data": {
      "application/vnd.jupyter.widget-view+json": {
       "model_id": "de082fde78234555a420249b4000623c",
       "version_major": 2,
       "version_minor": 0
      },
      "text/plain": [
       "calc_f1:   0%|          | 0/7 [00:00<?, ?it/s]"
      ]
     },
     "metadata": {},
     "output_type": "display_data"
    },
    {
     "name": "stderr",
     "output_type": "stream",
     "text": [
      "\u001b[32m[I 2022-02-14 10:02:02,900]\u001b[0m Trial 37 finished with value: 0.712326901840932 and parameters: {'link_len': 25, 'sep_prob': 0.9464979019857689, 'sep_prob2': 0.12054491248042157, 'sep_prob3': 0.10424481088399287, 'sep_prob4': 0.5980398868612276, 'sep_prob5': 0.6225489124786112, 'pre_prob': 0.9955485299470068, 'after_prob': 0.1931678643813822}. Best is trial 25 with value: 0.7162267178097743.\u001b[0m\n"
     ]
    },
    {
     "data": {
      "application/vnd.jupyter.widget-view+json": {
       "model_id": "91dbef7ff63f4c149b2d4f1ed5f2a67b",
       "version_major": 2,
       "version_minor": 0
      },
      "text/plain": [
       "get_preds:   0%|          | 0/15594 [00:00<?, ?it/s]"
      ]
     },
     "metadata": {},
     "output_type": "display_data"
    },
    {
     "data": {
      "application/vnd.jupyter.widget-view+json": {
       "model_id": "c19f9397180241cb841de7b797348900",
       "version_major": 2,
       "version_minor": 0
      },
      "text/plain": [
       "calc_f1:   0%|          | 0/7 [00:00<?, ?it/s]"
      ]
     },
     "metadata": {},
     "output_type": "display_data"
    },
    {
     "name": "stderr",
     "output_type": "stream",
     "text": [
      "\u001b[32m[I 2022-02-14 10:02:20,523]\u001b[0m Trial 38 finished with value: 0.7158214699491268 and parameters: {'link_len': 34, 'sep_prob': 0.8380014129501707, 'sep_prob2': 0.26478811941904007, 'sep_prob3': 0.29640583386532504, 'sep_prob4': 0.6839934272879846, 'sep_prob5': 0.6880770287567792, 'pre_prob': 0.9173638074989581, 'after_prob': 0.10676022852103491}. Best is trial 25 with value: 0.7162267178097743.\u001b[0m\n"
     ]
    },
    {
     "data": {
      "application/vnd.jupyter.widget-view+json": {
       "model_id": "6f528f39aefc4426b320c32ba0ff19a0",
       "version_major": 2,
       "version_minor": 0
      },
      "text/plain": [
       "get_preds:   0%|          | 0/15594 [00:00<?, ?it/s]"
      ]
     },
     "metadata": {},
     "output_type": "display_data"
    },
    {
     "data": {
      "application/vnd.jupyter.widget-view+json": {
       "model_id": "df16369ec65e4f188291b5b1d9532293",
       "version_major": 2,
       "version_minor": 0
      },
      "text/plain": [
       "calc_f1:   0%|          | 0/7 [00:00<?, ?it/s]"
      ]
     },
     "metadata": {},
     "output_type": "display_data"
    },
    {
     "name": "stderr",
     "output_type": "stream",
     "text": [
      "\u001b[32m[I 2022-02-14 10:02:39,568]\u001b[0m Trial 39 finished with value: 0.7125433527336549 and parameters: {'link_len': 26, 'sep_prob': 0.9092439909386845, 'sep_prob2': 0.29131176211064047, 'sep_prob3': 0.007215719549509114, 'sep_prob4': 0.6505097162679829, 'sep_prob5': 0.5471593203909154, 'pre_prob': 0.8383528449119567, 'after_prob': 0.2976401052253392}. Best is trial 25 with value: 0.7162267178097743.\u001b[0m\n"
     ]
    },
    {
     "data": {
      "application/vnd.jupyter.widget-view+json": {
       "model_id": "fdcf2bf5397e41ecb219f62e7f88e1c8",
       "version_major": 2,
       "version_minor": 0
      },
      "text/plain": [
       "get_preds:   0%|          | 0/15594 [00:00<?, ?it/s]"
      ]
     },
     "metadata": {},
     "output_type": "display_data"
    },
    {
     "data": {
      "application/vnd.jupyter.widget-view+json": {
       "model_id": "8e5abf23950a432993049977d51611ce",
       "version_major": 2,
       "version_minor": 0
      },
      "text/plain": [
       "calc_f1:   0%|          | 0/7 [00:00<?, ?it/s]"
      ]
     },
     "metadata": {},
     "output_type": "display_data"
    },
    {
     "name": "stderr",
     "output_type": "stream",
     "text": [
      "\u001b[32m[I 2022-02-14 10:02:55,618]\u001b[0m Trial 40 finished with value: 0.7152260388443155 and parameters: {'link_len': 31, 'sep_prob': 0.6893795321217568, 'sep_prob2': 0.07915683502005158, 'sep_prob3': 0.15269138778730765, 'sep_prob4': 0.5322446454727017, 'sep_prob5': 0.5259927115490635, 'pre_prob': 0.7709891194600287, 'after_prob': 0.22580087420062825}. Best is trial 25 with value: 0.7162267178097743.\u001b[0m\n"
     ]
    },
    {
     "data": {
      "application/vnd.jupyter.widget-view+json": {
       "model_id": "e23cc84465024dc7b32613006b9e780c",
       "version_major": 2,
       "version_minor": 0
      },
      "text/plain": [
       "get_preds:   0%|          | 0/15594 [00:00<?, ?it/s]"
      ]
     },
     "metadata": {},
     "output_type": "display_data"
    },
    {
     "data": {
      "application/vnd.jupyter.widget-view+json": {
       "model_id": "1659504efbfe4201b7d0edf04d5a7495",
       "version_major": 2,
       "version_minor": 0
      },
      "text/plain": [
       "calc_f1:   0%|          | 0/7 [00:00<?, ?it/s]"
      ]
     },
     "metadata": {},
     "output_type": "display_data"
    },
    {
     "name": "stderr",
     "output_type": "stream",
     "text": [
      "\u001b[32m[I 2022-02-14 10:03:12,104]\u001b[0m Trial 41 finished with value: 0.7160471164822738 and parameters: {'link_len': 28, 'sep_prob': 0.8367155911044645, 'sep_prob2': 0.23272097186870105, 'sep_prob3': 0.2407299753241311, 'sep_prob4': 0.588691001517591, 'sep_prob5': 0.5631419780106621, 'pre_prob': 0.9883741347649758, 'after_prob': 0.003235003560331101}. Best is trial 25 with value: 0.7162267178097743.\u001b[0m\n"
     ]
    },
    {
     "data": {
      "application/vnd.jupyter.widget-view+json": {
       "model_id": "4a4f26fd28964323824d63dcfaeb107d",
       "version_major": 2,
       "version_minor": 0
      },
      "text/plain": [
       "get_preds:   0%|          | 0/15594 [00:00<?, ?it/s]"
      ]
     },
     "metadata": {},
     "output_type": "display_data"
    },
    {
     "data": {
      "application/vnd.jupyter.widget-view+json": {
       "model_id": "5012c6ba9c84403a83bf7a579c0aa7dc",
       "version_major": 2,
       "version_minor": 0
      },
      "text/plain": [
       "calc_f1:   0%|          | 0/7 [00:00<?, ?it/s]"
      ]
     },
     "metadata": {},
     "output_type": "display_data"
    },
    {
     "name": "stderr",
     "output_type": "stream",
     "text": [
      "\u001b[32m[I 2022-02-14 10:03:28,517]\u001b[0m Trial 42 finished with value: 0.7164586147932015 and parameters: {'link_len': 28, 'sep_prob': 0.7746245801577354, 'sep_prob2': 0.22065724659861216, 'sep_prob3': 0.22065630775608103, 'sep_prob4': 0.5467825042478288, 'sep_prob5': 0.6342709485035543, 'pre_prob': 0.9993042831118901, 'after_prob': 0.04441087701374064}. Best is trial 42 with value: 0.7164586147932015.\u001b[0m\n"
     ]
    },
    {
     "data": {
      "application/vnd.jupyter.widget-view+json": {
       "model_id": "2ee4a8c2b3c943f79152187116d384b8",
       "version_major": 2,
       "version_minor": 0
      },
      "text/plain": [
       "get_preds:   0%|          | 0/15594 [00:00<?, ?it/s]"
      ]
     },
     "metadata": {},
     "output_type": "display_data"
    },
    {
     "data": {
      "application/vnd.jupyter.widget-view+json": {
       "model_id": "24f74d4f1cd34725a152c6bbb34f214a",
       "version_major": 2,
       "version_minor": 0
      },
      "text/plain": [
       "calc_f1:   0%|          | 0/7 [00:00<?, ?it/s]"
      ]
     },
     "metadata": {},
     "output_type": "display_data"
    },
    {
     "name": "stderr",
     "output_type": "stream",
     "text": [
      "\u001b[32m[I 2022-02-14 10:03:44,415]\u001b[0m Trial 43 finished with value: 0.716979258735954 and parameters: {'link_len': 28, 'sep_prob': 0.7537878152176803, 'sep_prob2': 0.2355801051495712, 'sep_prob3': 0.22785678605847043, 'sep_prob4': 0.5404353798190348, 'sep_prob5': 0.6323882068586013, 'pre_prob': 0.993742157734799, 'after_prob': 0.05115451643971939}. Best is trial 43 with value: 0.716979258735954.\u001b[0m\n"
     ]
    },
    {
     "data": {
      "application/vnd.jupyter.widget-view+json": {
       "model_id": "38dfe78deb35407c9ea1bf1d72f1f705",
       "version_major": 2,
       "version_minor": 0
      },
      "text/plain": [
       "get_preds:   0%|          | 0/15594 [00:00<?, ?it/s]"
      ]
     },
     "metadata": {},
     "output_type": "display_data"
    },
    {
     "data": {
      "application/vnd.jupyter.widget-view+json": {
       "model_id": "e63e77d9e18a43efb497da235f0a46e8",
       "version_major": 2,
       "version_minor": 0
      },
      "text/plain": [
       "calc_f1:   0%|          | 0/7 [00:00<?, ?it/s]"
      ]
     },
     "metadata": {},
     "output_type": "display_data"
    },
    {
     "name": "stderr",
     "output_type": "stream",
     "text": [
      "\u001b[32m[I 2022-02-14 10:04:01,172]\u001b[0m Trial 44 finished with value: 0.7163277587668802 and parameters: {'link_len': 26, 'sep_prob': 0.7661521578121271, 'sep_prob2': 0.25910255935647386, 'sep_prob3': 0.2121965843023608, 'sep_prob4': 0.5388443502304366, 'sep_prob5': 0.6878742871403289, 'pre_prob': 0.9315525885222705, 'after_prob': 0.04342293504272736}. Best is trial 43 with value: 0.716979258735954.\u001b[0m\n"
     ]
    },
    {
     "data": {
      "application/vnd.jupyter.widget-view+json": {
       "model_id": "d98b97bb4ae64bff8747a9222a510de5",
       "version_major": 2,
       "version_minor": 0
      },
      "text/plain": [
       "get_preds:   0%|          | 0/15594 [00:00<?, ?it/s]"
      ]
     },
     "metadata": {},
     "output_type": "display_data"
    },
    {
     "data": {
      "application/vnd.jupyter.widget-view+json": {
       "model_id": "c97b937a4d644eb6aa3960984d55b297",
       "version_major": 2,
       "version_minor": 0
      },
      "text/plain": [
       "calc_f1:   0%|          | 0/7 [00:00<?, ?it/s]"
      ]
     },
     "metadata": {},
     "output_type": "display_data"
    },
    {
     "name": "stderr",
     "output_type": "stream",
     "text": [
      "\u001b[32m[I 2022-02-14 10:04:31,954]\u001b[0m Trial 45 finished with value: 0.7161608590327332 and parameters: {'link_len': 25, 'sep_prob': 0.7765498137521881, 'sep_prob2': 0.2519930078119974, 'sep_prob3': 0.2055120398175252, 'sep_prob4': 0.5228353567493215, 'sep_prob5': 0.6903669844781095, 'pre_prob': 0.9263050431360459, 'after_prob': 0.055599536729443275}. Best is trial 43 with value: 0.716979258735954.\u001b[0m\n"
     ]
    },
    {
     "data": {
      "application/vnd.jupyter.widget-view+json": {
       "model_id": "5aaa91eb9391445793d19b97a646c938",
       "version_major": 2,
       "version_minor": 0
      },
      "text/plain": [
       "get_preds:   0%|          | 0/15594 [00:00<?, ?it/s]"
      ]
     },
     "metadata": {},
     "output_type": "display_data"
    },
    {
     "data": {
      "application/vnd.jupyter.widget-view+json": {
       "model_id": "775ce9a925b34343bb338d9f016d0334",
       "version_major": 2,
       "version_minor": 0
      },
      "text/plain": [
       "calc_f1:   0%|          | 0/7 [00:00<?, ?it/s]"
      ]
     },
     "metadata": {},
     "output_type": "display_data"
    },
    {
     "name": "stderr",
     "output_type": "stream",
     "text": [
      "\u001b[32m[I 2022-02-14 10:04:48,453]\u001b[0m Trial 46 finished with value: 0.7155491371059188 and parameters: {'link_len': 25, 'sep_prob': 0.7610572083300772, 'sep_prob2': 0.25107317872395796, 'sep_prob3': 0.06613469258885502, 'sep_prob4': 0.5232844573085371, 'sep_prob5': 0.6879766493376654, 'pre_prob': 0.943125613860906, 'after_prob': 0.052819006749204866}. Best is trial 43 with value: 0.716979258735954.\u001b[0m\n"
     ]
    },
    {
     "data": {
      "application/vnd.jupyter.widget-view+json": {
       "model_id": "3d4afd6d52d448218b43111676e0930a",
       "version_major": 2,
       "version_minor": 0
      },
      "text/plain": [
       "get_preds:   0%|          | 0/15594 [00:00<?, ?it/s]"
      ]
     },
     "metadata": {},
     "output_type": "display_data"
    },
    {
     "data": {
      "application/vnd.jupyter.widget-view+json": {
       "model_id": "bb6c343cf00e4dfaa2614862145de735",
       "version_major": 2,
       "version_minor": 0
      },
      "text/plain": [
       "calc_f1:   0%|          | 0/7 [00:00<?, ?it/s]"
      ]
     },
     "metadata": {},
     "output_type": "display_data"
    },
    {
     "name": "stderr",
     "output_type": "stream",
     "text": [
      "\u001b[32m[I 2022-02-14 10:05:05,424]\u001b[0m Trial 47 finished with value: 0.7163127492037943 and parameters: {'link_len': 27, 'sep_prob': 0.6956653082170703, 'sep_prob2': 0.21673120687147723, 'sep_prob3': 0.2066141200394731, 'sep_prob4': 0.5008810644599894, 'sep_prob5': 0.6769861176352527, 'pre_prob': 0.9235369561113308, 'after_prob': 0.12848628099888637}. Best is trial 43 with value: 0.716979258735954.\u001b[0m\n"
     ]
    },
    {
     "data": {
      "application/vnd.jupyter.widget-view+json": {
       "model_id": "0f7ea2bda0c74d69a8952656e966811b",
       "version_major": 2,
       "version_minor": 0
      },
      "text/plain": [
       "get_preds:   0%|          | 0/15594 [00:00<?, ?it/s]"
      ]
     },
     "metadata": {},
     "output_type": "display_data"
    },
    {
     "data": {
      "application/vnd.jupyter.widget-view+json": {
       "model_id": "022cf063acad4d1b97d53431bf083ccf",
       "version_major": 2,
       "version_minor": 0
      },
      "text/plain": [
       "calc_f1:   0%|          | 0/7 [00:00<?, ?it/s]"
      ]
     },
     "metadata": {},
     "output_type": "display_data"
    },
    {
     "name": "stderr",
     "output_type": "stream",
     "text": [
      "\u001b[32m[I 2022-02-14 10:05:28,649]\u001b[0m Trial 48 finished with value: 0.7154505176719634 and parameters: {'link_len': 27, 'sep_prob': 0.6938683167663322, 'sep_prob2': 0.20827262136335642, 'sep_prob3': 0.16114662554411116, 'sep_prob4': 0.5011068315410451, 'sep_prob5': 0.6335290427602558, 'pre_prob': 0.8158104714028702, 'after_prob': 0.4619192997878928}. Best is trial 43 with value: 0.716979258735954.\u001b[0m\n"
     ]
    },
    {
     "data": {
      "application/vnd.jupyter.widget-view+json": {
       "model_id": "47330aea05114c2da67d14ebe1e01030",
       "version_major": 2,
       "version_minor": 0
      },
      "text/plain": [
       "get_preds:   0%|          | 0/15594 [00:00<?, ?it/s]"
      ]
     },
     "metadata": {},
     "output_type": "display_data"
    },
    {
     "data": {
      "application/vnd.jupyter.widget-view+json": {
       "model_id": "ee5aaeb8ccd44d16a42bf1540f49a5fe",
       "version_major": 2,
       "version_minor": 0
      },
      "text/plain": [
       "calc_f1:   0%|          | 0/7 [00:00<?, ?it/s]"
      ]
     },
     "metadata": {},
     "output_type": "display_data"
    },
    {
     "name": "stderr",
     "output_type": "stream",
     "text": [
      "\u001b[32m[I 2022-02-14 10:05:44,944]\u001b[0m Trial 49 finished with value: 0.7161086077624087 and parameters: {'link_len': 19, 'sep_prob': 0.7457040938100706, 'sep_prob2': 0.1412679497094239, 'sep_prob3': 0.12390422563168421, 'sep_prob4': 0.6212191421014286, 'sep_prob5': 0.6783090354644182, 'pre_prob': 0.9542537681835663, 'after_prob': 0.27536665272543354}. Best is trial 43 with value: 0.716979258735954.\u001b[0m\n"
     ]
    },
    {
     "data": {
      "application/vnd.jupyter.widget-view+json": {
       "model_id": "4cdbd62a115a44689875d96dcccaa5fb",
       "version_major": 2,
       "version_minor": 0
      },
      "text/plain": [
       "get_preds:   0%|          | 0/15594 [00:00<?, ?it/s]"
      ]
     },
     "metadata": {},
     "output_type": "display_data"
    },
    {
     "data": {
      "application/vnd.jupyter.widget-view+json": {
       "model_id": "19b244c70a9748dda593475056f1cfca",
       "version_major": 2,
       "version_minor": 0
      },
      "text/plain": [
       "calc_f1:   0%|          | 0/7 [00:00<?, ?it/s]"
      ]
     },
     "metadata": {},
     "output_type": "display_data"
    },
    {
     "name": "stderr",
     "output_type": "stream",
     "text": [
      "\u001b[32m[I 2022-02-14 10:06:01,637]\u001b[0m Trial 50 finished with value: 0.7154084316845976 and parameters: {'link_len': 23, 'sep_prob': 0.6902876785744562, 'sep_prob2': 0.2276327057953444, 'sep_prob3': 0.3175927275363003, 'sep_prob4': 0.6606553503354381, 'sep_prob5': 0.6133470253246057, 'pre_prob': 0.6886932079763106, 'after_prob': 0.19059755495616398}. Best is trial 43 with value: 0.716979258735954.\u001b[0m\n"
     ]
    },
    {
     "data": {
      "application/vnd.jupyter.widget-view+json": {
       "model_id": "667dc0ee635a4785bb83b4ccc290db1c",
       "version_major": 2,
       "version_minor": 0
      },
      "text/plain": [
       "get_preds:   0%|          | 0/15594 [00:00<?, ?it/s]"
      ]
     },
     "metadata": {},
     "output_type": "display_data"
    },
    {
     "data": {
      "application/vnd.jupyter.widget-view+json": {
       "model_id": "30728c4942e046d29f4addb7e470e344",
       "version_major": 2,
       "version_minor": 0
      },
      "text/plain": [
       "calc_f1:   0%|          | 0/7 [00:00<?, ?it/s]"
      ]
     },
     "metadata": {},
     "output_type": "display_data"
    },
    {
     "name": "stderr",
     "output_type": "stream",
     "text": [
      "\u001b[32m[I 2022-02-14 10:06:18,150]\u001b[0m Trial 51 finished with value: 0.7161773004676941 and parameters: {'link_len': 26, 'sep_prob': 0.7722489358435016, 'sep_prob2': 0.24967342298752812, 'sep_prob3': 0.1983963020282326, 'sep_prob4': 0.5454595069056953, 'sep_prob5': 0.7454382063130662, 'pre_prob': 0.9152792392937721, 'after_prob': 0.12781716261366516}. Best is trial 43 with value: 0.716979258735954.\u001b[0m\n"
     ]
    },
    {
     "data": {
      "application/vnd.jupyter.widget-view+json": {
       "model_id": "b4b0bf7332e144c88b0231f898187840",
       "version_major": 2,
       "version_minor": 0
      },
      "text/plain": [
       "get_preds:   0%|          | 0/15594 [00:00<?, ?it/s]"
      ]
     },
     "metadata": {},
     "output_type": "display_data"
    },
    {
     "data": {
      "application/vnd.jupyter.widget-view+json": {
       "model_id": "13052eab9453424da20a5d3a491da059",
       "version_major": 2,
       "version_minor": 0
      },
      "text/plain": [
       "calc_f1:   0%|          | 0/7 [00:00<?, ?it/s]"
      ]
     },
     "metadata": {},
     "output_type": "display_data"
    },
    {
     "name": "stderr",
     "output_type": "stream",
     "text": [
      "\u001b[32m[I 2022-02-14 10:06:35,048]\u001b[0m Trial 52 finished with value: 0.7162158027690715 and parameters: {'link_len': 27, 'sep_prob': 0.6275170763666222, 'sep_prob2': 0.3703393432869558, 'sep_prob3': 0.1921841739749412, 'sep_prob4': 0.5474684871004303, 'sep_prob5': 0.7425793422455974, 'pre_prob': 0.8435866024296859, 'after_prob': 0.13488907222171542}. Best is trial 43 with value: 0.716979258735954.\u001b[0m\n"
     ]
    },
    {
     "data": {
      "application/vnd.jupyter.widget-view+json": {
       "model_id": "867f8b9fc2cb4e0a9e6329af88e7cda7",
       "version_major": 2,
       "version_minor": 0
      },
      "text/plain": [
       "get_preds:   0%|          | 0/15594 [00:00<?, ?it/s]"
      ]
     },
     "metadata": {},
     "output_type": "display_data"
    },
    {
     "data": {
      "application/vnd.jupyter.widget-view+json": {
       "model_id": "bfbbcfa04014486cb0872331b590c697",
       "version_major": 2,
       "version_minor": 0
      },
      "text/plain": [
       "calc_f1:   0%|          | 0/7 [00:00<?, ?it/s]"
      ]
     },
     "metadata": {},
     "output_type": "display_data"
    },
    {
     "name": "stderr",
     "output_type": "stream",
     "text": [
      "\u001b[32m[I 2022-02-14 10:06:51,172]\u001b[0m Trial 53 finished with value: 0.7151539540201988 and parameters: {'link_len': 28, 'sep_prob': 0.6254278735802089, 'sep_prob2': 0.47169996236017114, 'sep_prob3': 0.1701389679115778, 'sep_prob4': 0.5466343108087388, 'sep_prob5': 0.7043413906778656, 'pre_prob': 0.7796045682674158, 'after_prob': 0.9696103659033304}. Best is trial 43 with value: 0.716979258735954.\u001b[0m\n"
     ]
    },
    {
     "data": {
      "application/vnd.jupyter.widget-view+json": {
       "model_id": "24f60b27f0ae48f8bb457a5ae4214861",
       "version_major": 2,
       "version_minor": 0
      },
      "text/plain": [
       "get_preds:   0%|          | 0/15594 [00:00<?, ?it/s]"
      ]
     },
     "metadata": {},
     "output_type": "display_data"
    },
    {
     "data": {
      "application/vnd.jupyter.widget-view+json": {
       "model_id": "94ad39e0503f493d8470a32b7002bcdc",
       "version_major": 2,
       "version_minor": 0
      },
      "text/plain": [
       "calc_f1:   0%|          | 0/7 [00:00<?, ?it/s]"
      ]
     },
     "metadata": {},
     "output_type": "display_data"
    },
    {
     "name": "stderr",
     "output_type": "stream",
     "text": [
      "\u001b[32m[I 2022-02-14 10:07:07,377]\u001b[0m Trial 54 finished with value: 0.7157997530585742 and parameters: {'link_len': 27, 'sep_prob': 0.6339402772083821, 'sep_prob2': 0.4009931748669593, 'sep_prob3': 0.2134674281542286, 'sep_prob4': 0.5043051806940941, 'sep_prob5': 0.6614421476310754, 'pre_prob': 0.8455478305372995, 'after_prob': 0.05584939525949627}. Best is trial 43 with value: 0.716979258735954.\u001b[0m\n"
     ]
    },
    {
     "data": {
      "application/vnd.jupyter.widget-view+json": {
       "model_id": "c2d1b41a8f1447a7a6cee914a809af60",
       "version_major": 2,
       "version_minor": 0
      },
      "text/plain": [
       "get_preds:   0%|          | 0/15594 [00:00<?, ?it/s]"
      ]
     },
     "metadata": {},
     "output_type": "display_data"
    },
    {
     "data": {
      "application/vnd.jupyter.widget-view+json": {
       "model_id": "fcb7a38d1f794641bb6ca4653b31e058",
       "version_major": 2,
       "version_minor": 0
      },
      "text/plain": [
       "calc_f1:   0%|          | 0/7 [00:00<?, ?it/s]"
      ]
     },
     "metadata": {},
     "output_type": "display_data"
    },
    {
     "name": "stderr",
     "output_type": "stream",
     "text": [
      "\u001b[32m[I 2022-02-14 10:07:29,768]\u001b[0m Trial 55 finished with value: 0.7166200234311384 and parameters: {'link_len': 23, 'sep_prob': 0.7084463775499068, 'sep_prob2': 0.3589721695775583, 'sep_prob3': 0.22682822412397322, 'sep_prob4': 0.5264033043358813, 'sep_prob5': 0.7832392963672931, 'pre_prob': 0.9602259982700823, 'after_prob': 0.35243589304980566}. Best is trial 43 with value: 0.716979258735954.\u001b[0m\n"
     ]
    },
    {
     "data": {
      "application/vnd.jupyter.widget-view+json": {
       "model_id": "81939027687440a09d1645e016426f2f",
       "version_major": 2,
       "version_minor": 0
      },
      "text/plain": [
       "get_preds:   0%|          | 0/15594 [00:00<?, ?it/s]"
      ]
     },
     "metadata": {},
     "output_type": "display_data"
    },
    {
     "data": {
      "application/vnd.jupyter.widget-view+json": {
       "model_id": "58320eab31a543c1bb7a2f6f345c0581",
       "version_major": 2,
       "version_minor": 0
      },
      "text/plain": [
       "calc_f1:   0%|          | 0/7 [00:00<?, ?it/s]"
      ]
     },
     "metadata": {},
     "output_type": "display_data"
    },
    {
     "name": "stderr",
     "output_type": "stream",
     "text": [
      "\u001b[32m[I 2022-02-14 10:07:48,424]\u001b[0m Trial 56 finished with value: 0.7169482026418584 and parameters: {'link_len': 23, 'sep_prob': 0.701930927098233, 'sep_prob2': 0.34746468077102016, 'sep_prob3': 0.2901895471110358, 'sep_prob4': 0.5222601985555276, 'sep_prob5': 0.8570374212482337, 'pre_prob': 0.9683241847949935, 'after_prob': 0.3242514301118594}. Best is trial 43 with value: 0.716979258735954.\u001b[0m\n"
     ]
    },
    {
     "data": {
      "application/vnd.jupyter.widget-view+json": {
       "model_id": "5c2f2e3e7ada4e869619706d1eb34423",
       "version_major": 2,
       "version_minor": 0
      },
      "text/plain": [
       "get_preds:   0%|          | 0/15594 [00:00<?, ?it/s]"
      ]
     },
     "metadata": {},
     "output_type": "display_data"
    },
    {
     "data": {
      "application/vnd.jupyter.widget-view+json": {
       "model_id": "182018ffa46f40209d7564521e71d23f",
       "version_major": 2,
       "version_minor": 0
      },
      "text/plain": [
       "calc_f1:   0%|          | 0/7 [00:00<?, ?it/s]"
      ]
     },
     "metadata": {},
     "output_type": "display_data"
    },
    {
     "name": "stderr",
     "output_type": "stream",
     "text": [
      "\u001b[32m[I 2022-02-14 10:08:10,985]\u001b[0m Trial 57 finished with value: 0.7160011232082334 and parameters: {'link_len': 21, 'sep_prob': 0.6640184678430094, 'sep_prob2': 0.4325544744166654, 'sep_prob3': 0.2857236098327274, 'sep_prob4': 0.532825873901376, 'sep_prob5': 0.9277885801724258, 'pre_prob': 0.9593061084533129, 'after_prob': 0.3296455942526872}. Best is trial 43 with value: 0.716979258735954.\u001b[0m\n"
     ]
    },
    {
     "data": {
      "application/vnd.jupyter.widget-view+json": {
       "model_id": "f0bb2669723841d7a23bf56302778c2a",
       "version_major": 2,
       "version_minor": 0
      },
      "text/plain": [
       "get_preds:   0%|          | 0/15594 [00:00<?, ?it/s]"
      ]
     },
     "metadata": {},
     "output_type": "display_data"
    },
    {
     "data": {
      "application/vnd.jupyter.widget-view+json": {
       "model_id": "b4270addaab64506a874050576ab1676",
       "version_major": 2,
       "version_minor": 0
      },
      "text/plain": [
       "calc_f1:   0%|          | 0/7 [00:00<?, ?it/s]"
      ]
     },
     "metadata": {},
     "output_type": "display_data"
    },
    {
     "name": "stderr",
     "output_type": "stream",
     "text": [
      "\u001b[32m[I 2022-02-14 10:08:30,855]\u001b[0m Trial 58 finished with value: 0.7159655834337919 and parameters: {'link_len': 23, 'sep_prob': 0.6991503863491847, 'sep_prob2': 0.358034271496622, 'sep_prob3': 0.22824158600842712, 'sep_prob4': 0.5187489731200071, 'sep_prob5': 0.8601798859387977, 'pre_prob': 0.9668034774375487, 'after_prob': 0.4341401163730371}. Best is trial 43 with value: 0.716979258735954.\u001b[0m\n"
     ]
    },
    {
     "data": {
      "application/vnd.jupyter.widget-view+json": {
       "model_id": "3692f63e2f7b47208ee137703a30c3ae",
       "version_major": 2,
       "version_minor": 0
      },
      "text/plain": [
       "get_preds:   0%|          | 0/15594 [00:00<?, ?it/s]"
      ]
     },
     "metadata": {},
     "output_type": "display_data"
    },
    {
     "data": {
      "application/vnd.jupyter.widget-view+json": {
       "model_id": "ebf3add275714f41af589315690ad56a",
       "version_major": 2,
       "version_minor": 0
      },
      "text/plain": [
       "calc_f1:   0%|          | 0/7 [00:00<?, ?it/s]"
      ]
     },
     "metadata": {},
     "output_type": "display_data"
    },
    {
     "name": "stderr",
     "output_type": "stream",
     "text": [
      "\u001b[32m[I 2022-02-14 10:08:46,896]\u001b[0m Trial 59 finished with value: 0.7165182745981286 and parameters: {'link_len': 17, 'sep_prob': 0.7293152315073158, 'sep_prob2': 0.33771377896184596, 'sep_prob3': 0.3264843518390731, 'sep_prob4': 0.5981408391948086, 'sep_prob5': 0.8081643072314274, 'pre_prob': 0.9156870670181346, 'after_prob': 0.3472711599759203}. Best is trial 43 with value: 0.716979258735954.\u001b[0m\n"
     ]
    },
    {
     "data": {
      "application/vnd.jupyter.widget-view+json": {
       "model_id": "229792e86c0640d88e5fc65e591abd56",
       "version_major": 2,
       "version_minor": 0
      },
      "text/plain": [
       "get_preds:   0%|          | 0/15594 [00:00<?, ?it/s]"
      ]
     },
     "metadata": {},
     "output_type": "display_data"
    },
    {
     "data": {
      "application/vnd.jupyter.widget-view+json": {
       "model_id": "5ebb343d1ae04a1f88a80cc5e991bf3b",
       "version_major": 2,
       "version_minor": 0
      },
      "text/plain": [
       "calc_f1:   0%|          | 0/7 [00:00<?, ?it/s]"
      ]
     },
     "metadata": {},
     "output_type": "display_data"
    },
    {
     "name": "stderr",
     "output_type": "stream",
     "text": [
      "\u001b[32m[I 2022-02-14 10:09:04,800]\u001b[0m Trial 60 finished with value: 0.7150672476760059 and parameters: {'link_len': 17, 'sep_prob': 0.7349157885494798, 'sep_prob2': 0.3270109869443685, 'sep_prob3': 0.32376178091500885, 'sep_prob4': 0.6053212093565481, 'sep_prob5': 0.7981458305488562, 'pre_prob': 0.9030589258060676, 'after_prob': 0.5359280874996163}. Best is trial 43 with value: 0.716979258735954.\u001b[0m\n"
     ]
    },
    {
     "data": {
      "application/vnd.jupyter.widget-view+json": {
       "model_id": "bac931592d554b32b9edfc690c29b5ef",
       "version_major": 2,
       "version_minor": 0
      },
      "text/plain": [
       "get_preds:   0%|          | 0/15594 [00:00<?, ?it/s]"
      ]
     },
     "metadata": {},
     "output_type": "display_data"
    },
    {
     "data": {
      "application/vnd.jupyter.widget-view+json": {
       "model_id": "793bd805951545939c16c7ea6c67e60f",
       "version_major": 2,
       "version_minor": 0
      },
      "text/plain": [
       "calc_f1:   0%|          | 0/7 [00:00<?, ?it/s]"
      ]
     },
     "metadata": {},
     "output_type": "display_data"
    },
    {
     "name": "stderr",
     "output_type": "stream",
     "text": [
      "\u001b[32m[I 2022-02-14 10:09:21,200]\u001b[0m Trial 61 finished with value: 0.716533564631938 and parameters: {'link_len': 24, 'sep_prob': 0.6746995893978371, 'sep_prob2': 0.34859718592304983, 'sep_prob3': 0.3744795357707852, 'sep_prob4': 0.5647462470118824, 'sep_prob5': 0.8640169079738452, 'pre_prob': 0.9979067946887002, 'after_prob': 0.36618503915954675}. Best is trial 43 with value: 0.716979258735954.\u001b[0m\n"
     ]
    },
    {
     "data": {
      "application/vnd.jupyter.widget-view+json": {
       "model_id": "65537bf1769f42e78a9ff35fbbdb3e80",
       "version_major": 2,
       "version_minor": 0
      },
      "text/plain": [
       "get_preds:   0%|          | 0/15594 [00:00<?, ?it/s]"
      ]
     },
     "metadata": {},
     "output_type": "display_data"
    },
    {
     "data": {
      "application/vnd.jupyter.widget-view+json": {
       "model_id": "3fb90e0c2e6e4dfb8fef5ede969d47ec",
       "version_major": 2,
       "version_minor": 0
      },
      "text/plain": [
       "calc_f1:   0%|          | 0/7 [00:00<?, ?it/s]"
      ]
     },
     "metadata": {},
     "output_type": "display_data"
    },
    {
     "name": "stderr",
     "output_type": "stream",
     "text": [
      "\u001b[32m[I 2022-02-14 10:09:37,362]\u001b[0m Trial 62 finished with value: 0.7137535574018209 and parameters: {'link_len': 14, 'sep_prob': 0.7200498514143638, 'sep_prob2': 0.38248188995500837, 'sep_prob3': 0.3927392256499895, 'sep_prob4': 0.5657800591372025, 'sep_prob5': 0.8508513402207819, 'pre_prob': 0.4287379332088571, 'after_prob': 0.35513314379496774}. Best is trial 43 with value: 0.716979258735954.\u001b[0m\n"
     ]
    },
    {
     "data": {
      "application/vnd.jupyter.widget-view+json": {
       "model_id": "6d165dde4a584112b110fcea44056c39",
       "version_major": 2,
       "version_minor": 0
      },
      "text/plain": [
       "get_preds:   0%|          | 0/15594 [00:00<?, ?it/s]"
      ]
     },
     "metadata": {},
     "output_type": "display_data"
    },
    {
     "data": {
      "application/vnd.jupyter.widget-view+json": {
       "model_id": "65383d8921d1484fada5f196efa57a7d",
       "version_major": 2,
       "version_minor": 0
      },
      "text/plain": [
       "calc_f1:   0%|          | 0/7 [00:00<?, ?it/s]"
      ]
     },
     "metadata": {},
     "output_type": "display_data"
    },
    {
     "name": "stderr",
     "output_type": "stream",
     "text": [
      "\u001b[32m[I 2022-02-14 10:09:55,553]\u001b[0m Trial 63 finished with value: 0.7155769999260487 and parameters: {'link_len': 19, 'sep_prob': 0.6723372668417419, 'sep_prob2': 0.3438289841691687, 'sep_prob3': 0.4218777852129678, 'sep_prob4': 0.6443680699912218, 'sep_prob5': 0.9168778824680357, 'pre_prob': 0.9993894349417934, 'after_prob': 0.4077429595730591}. Best is trial 43 with value: 0.716979258735954.\u001b[0m\n"
     ]
    },
    {
     "data": {
      "application/vnd.jupyter.widget-view+json": {
       "model_id": "2f3d8b3180c5443197f2a6a374758c85",
       "version_major": 2,
       "version_minor": 0
      },
      "text/plain": [
       "get_preds:   0%|          | 0/15594 [00:00<?, ?it/s]"
      ]
     },
     "metadata": {},
     "output_type": "display_data"
    },
    {
     "data": {
      "application/vnd.jupyter.widget-view+json": {
       "model_id": "e6ff0ab8a1ed409e8d70c108053f4539",
       "version_major": 2,
       "version_minor": 0
      },
      "text/plain": [
       "calc_f1:   0%|          | 0/7 [00:00<?, ?it/s]"
      ]
     },
     "metadata": {},
     "output_type": "display_data"
    },
    {
     "name": "stderr",
     "output_type": "stream",
     "text": [
      "\u001b[32m[I 2022-02-14 10:10:13,268]\u001b[0m Trial 64 finished with value: 0.7159581002645723 and parameters: {'link_len': 21, 'sep_prob': 0.7095493121677348, 'sep_prob2': 0.4325535631555408, 'sep_prob3': 0.3759052891385386, 'sep_prob4': 0.5599761194459673, 'sep_prob5': 0.8256545713223727, 'pre_prob': 0.9570874403550003, 'after_prob': 0.46468938699984197}. Best is trial 43 with value: 0.716979258735954.\u001b[0m\n"
     ]
    },
    {
     "data": {
      "application/vnd.jupyter.widget-view+json": {
       "model_id": "bded639414354a6da65f34f4fc6e1dfc",
       "version_major": 2,
       "version_minor": 0
      },
      "text/plain": [
       "get_preds:   0%|          | 0/15594 [00:00<?, ?it/s]"
      ]
     },
     "metadata": {},
     "output_type": "display_data"
    },
    {
     "data": {
      "application/vnd.jupyter.widget-view+json": {
       "model_id": "5136874c055c451fa163e0486123d6a0",
       "version_major": 2,
       "version_minor": 0
      },
      "text/plain": [
       "calc_f1:   0%|          | 0/7 [00:00<?, ?it/s]"
      ]
     },
     "metadata": {},
     "output_type": "display_data"
    },
    {
     "name": "stderr",
     "output_type": "stream",
     "text": [
      "\u001b[32m[I 2022-02-14 10:10:29,082]\u001b[0m Trial 65 finished with value: 0.7161696257872688 and parameters: {'link_len': 24, 'sep_prob': 0.7439671621837239, 'sep_prob2': 0.31169082272389176, 'sep_prob3': 0.36174434694426244, 'sep_prob4': 0.613075107485467, 'sep_prob5': 0.8775628731021886, 'pre_prob': 0.8944292477374267, 'after_prob': 0.33157126572047535}. Best is trial 43 with value: 0.716979258735954.\u001b[0m\n"
     ]
    },
    {
     "data": {
      "application/vnd.jupyter.widget-view+json": {
       "model_id": "16696a2566944d75a2670be3cffa7785",
       "version_major": 2,
       "version_minor": 0
      },
      "text/plain": [
       "get_preds:   0%|          | 0/15594 [00:00<?, ?it/s]"
      ]
     },
     "metadata": {},
     "output_type": "display_data"
    },
    {
     "data": {
      "application/vnd.jupyter.widget-view+json": {
       "model_id": "4f16d2a0a5c643abb223cff4e57f38a5",
       "version_major": 2,
       "version_minor": 0
      },
      "text/plain": [
       "calc_f1:   0%|          | 0/7 [00:00<?, ?it/s]"
      ]
     },
     "metadata": {},
     "output_type": "display_data"
    },
    {
     "name": "stderr",
     "output_type": "stream",
     "text": [
      "\u001b[32m[I 2022-02-14 10:10:46,738]\u001b[0m Trial 66 finished with value: 0.7169863867377657 and parameters: {'link_len': 22, 'sep_prob': 0.7283484245740546, 'sep_prob2': 0.4205464302206296, 'sep_prob3': 0.28665773648899123, 'sep_prob4': 0.5933609047518863, 'sep_prob5': 0.7700136334291394, 'pre_prob': 0.9603439713413209, 'after_prob': 0.24968605397561786}. Best is trial 66 with value: 0.7169863867377657.\u001b[0m\n"
     ]
    },
    {
     "data": {
      "application/vnd.jupyter.widget-view+json": {
       "model_id": "8c677e8ceaaf4cb1a1c602677d3f9182",
       "version_major": 2,
       "version_minor": 0
      },
      "text/plain": [
       "get_preds:   0%|          | 0/15594 [00:00<?, ?it/s]"
      ]
     },
     "metadata": {},
     "output_type": "display_data"
    },
    {
     "data": {
      "application/vnd.jupyter.widget-view+json": {
       "model_id": "d2f3ec22bd5f4e0ba067e81427bd3bdf",
       "version_major": 2,
       "version_minor": 0
      },
      "text/plain": [
       "calc_f1:   0%|          | 0/7 [00:00<?, ?it/s]"
      ]
     },
     "metadata": {},
     "output_type": "display_data"
    },
    {
     "name": "stderr",
     "output_type": "stream",
     "text": [
      "\u001b[32m[I 2022-02-14 10:11:03,876]\u001b[0m Trial 67 finished with value: 0.7173358285778583 and parameters: {'link_len': 22, 'sep_prob': 0.6496589548094734, 'sep_prob2': 0.4232086690151046, 'sep_prob3': 0.3091055070278099, 'sep_prob4': 0.5977178179220216, 'sep_prob5': 0.777078267429386, 'pre_prob': 0.9617552114502745, 'after_prob': 0.24789912210949755}. Best is trial 67 with value: 0.7173358285778583.\u001b[0m\n"
     ]
    },
    {
     "data": {
      "application/vnd.jupyter.widget-view+json": {
       "model_id": "16b41b0f4456441182e6bff1bdde4e84",
       "version_major": 2,
       "version_minor": 0
      },
      "text/plain": [
       "get_preds:   0%|          | 0/15594 [00:00<?, ?it/s]"
      ]
     },
     "metadata": {},
     "output_type": "display_data"
    },
    {
     "data": {
      "application/vnd.jupyter.widget-view+json": {
       "model_id": "03519d113965433297fd20f9f15a755f",
       "version_major": 2,
       "version_minor": 0
      },
      "text/plain": [
       "calc_f1:   0%|          | 0/7 [00:00<?, ?it/s]"
      ]
     },
     "metadata": {},
     "output_type": "display_data"
    },
    {
     "name": "stderr",
     "output_type": "stream",
     "text": [
      "\u001b[32m[I 2022-02-14 10:11:21,624]\u001b[0m Trial 68 finished with value: 0.7168038939056418 and parameters: {'link_len': 22, 'sep_prob': 0.6776851884863322, 'sep_prob2': 0.4858932562768562, 'sep_prob3': 0.31834460716164165, 'sep_prob4': 0.6340013996830592, 'sep_prob5': 0.7913763970603913, 'pre_prob': 0.963878130963095, 'after_prob': 0.37468393853024656}. Best is trial 67 with value: 0.7173358285778583.\u001b[0m\n"
     ]
    },
    {
     "data": {
      "application/vnd.jupyter.widget-view+json": {
       "model_id": "925b79d734cc46489ee578570befe13d",
       "version_major": 2,
       "version_minor": 0
      },
      "text/plain": [
       "get_preds:   0%|          | 0/15594 [00:00<?, ?it/s]"
      ]
     },
     "metadata": {},
     "output_type": "display_data"
    },
    {
     "data": {
      "application/vnd.jupyter.widget-view+json": {
       "model_id": "4db9c4025a8d46ed801381f32e04c38f",
       "version_major": 2,
       "version_minor": 0
      },
      "text/plain": [
       "calc_f1:   0%|          | 0/7 [00:00<?, ?it/s]"
      ]
     },
     "metadata": {},
     "output_type": "display_data"
    },
    {
     "name": "stderr",
     "output_type": "stream",
     "text": [
      "\u001b[32m[I 2022-02-14 10:11:42,726]\u001b[0m Trial 69 finished with value: 0.7149054506464407 and parameters: {'link_len': 22, 'sep_prob': 0.5883227283741299, 'sep_prob2': 0.5113666543057106, 'sep_prob3': 0.3055826711926365, 'sep_prob4': 0.666844949739854, 'sep_prob5': 0.7754928377524758, 'pre_prob': 0.5434862869369723, 'after_prob': 0.2528215036836711}. Best is trial 67 with value: 0.7173358285778583.\u001b[0m\n"
     ]
    },
    {
     "data": {
      "application/vnd.jupyter.widget-view+json": {
       "model_id": "364963d3794c43d094d5542cc362d71e",
       "version_major": 2,
       "version_minor": 0
      },
      "text/plain": [
       "get_preds:   0%|          | 0/15594 [00:00<?, ?it/s]"
      ]
     },
     "metadata": {},
     "output_type": "display_data"
    },
    {
     "data": {
      "application/vnd.jupyter.widget-view+json": {
       "model_id": "0e81104d6e064d3daa24b2ee144a3f63",
       "version_major": 2,
       "version_minor": 0
      },
      "text/plain": [
       "calc_f1:   0%|          | 0/7 [00:00<?, ?it/s]"
      ]
     },
     "metadata": {},
     "output_type": "display_data"
    },
    {
     "name": "stderr",
     "output_type": "stream",
     "text": [
      "\u001b[32m[I 2022-02-14 10:12:02,761]\u001b[0m Trial 70 finished with value: 0.716597309959753 and parameters: {'link_len': 20, 'sep_prob': 0.649605008040957, 'sep_prob2': 0.4349637347447741, 'sep_prob3': 0.2844215604815282, 'sep_prob4': 0.6416637842197006, 'sep_prob5': 0.7763656331176344, 'pre_prob': 0.9666944909498181, 'after_prob': 0.38351623765035053}. Best is trial 67 with value: 0.7173358285778583.\u001b[0m\n"
     ]
    },
    {
     "data": {
      "application/vnd.jupyter.widget-view+json": {
       "model_id": "1345e83ddaa04b21b15c2f4d8cf35a8a",
       "version_major": 2,
       "version_minor": 0
      },
      "text/plain": [
       "get_preds:   0%|          | 0/15594 [00:00<?, ?it/s]"
      ]
     },
     "metadata": {},
     "output_type": "display_data"
    },
    {
     "data": {
      "application/vnd.jupyter.widget-view+json": {
       "model_id": "d0822b18f53346db8ff76fea95a020e5",
       "version_major": 2,
       "version_minor": 0
      },
      "text/plain": [
       "calc_f1:   0%|          | 0/7 [00:00<?, ?it/s]"
      ]
     },
     "metadata": {},
     "output_type": "display_data"
    },
    {
     "name": "stderr",
     "output_type": "stream",
     "text": [
      "\u001b[32m[I 2022-02-14 10:12:19,614]\u001b[0m Trial 71 finished with value: 0.7165141462173461 and parameters: {'link_len': 20, 'sep_prob': 0.6445111028553445, 'sep_prob2': 0.46957602754243094, 'sep_prob3': 0.2833656678604109, 'sep_prob4': 0.5797318350442648, 'sep_prob5': 0.7821482812834786, 'pre_prob': 0.9623973045950043, 'after_prob': 0.37503215259084505}. Best is trial 67 with value: 0.7173358285778583.\u001b[0m\n"
     ]
    },
    {
     "data": {
      "application/vnd.jupyter.widget-view+json": {
       "model_id": "0259d02b6aa24b4bb8e19969b347cd4a",
       "version_major": 2,
       "version_minor": 0
      },
      "text/plain": [
       "get_preds:   0%|          | 0/15594 [00:00<?, ?it/s]"
      ]
     },
     "metadata": {},
     "output_type": "display_data"
    },
    {
     "data": {
      "application/vnd.jupyter.widget-view+json": {
       "model_id": "bf2a162272e04014b7c72540e10a66b1",
       "version_major": 2,
       "version_minor": 0
      },
      "text/plain": [
       "calc_f1:   0%|          | 0/7 [00:00<?, ?it/s]"
      ]
     },
     "metadata": {},
     "output_type": "display_data"
    },
    {
     "name": "stderr",
     "output_type": "stream",
     "text": [
      "\u001b[32m[I 2022-02-14 10:12:36,082]\u001b[0m Trial 72 finished with value: 0.7156424587064169 and parameters: {'link_len': 22, 'sep_prob': 0.6191816391259826, 'sep_prob2': 0.43238576656707783, 'sep_prob3': 0.2516460732797882, 'sep_prob4': 0.6414789504640255, 'sep_prob5': 0.7531028834241628, 'pre_prob': 0.9658258188938899, 'after_prob': 0.5012264984094065}. Best is trial 67 with value: 0.7173358285778583.\u001b[0m\n"
     ]
    },
    {
     "data": {
      "application/vnd.jupyter.widget-view+json": {
       "model_id": "90df85fa701f49099004f602d61d74c2",
       "version_major": 2,
       "version_minor": 0
      },
      "text/plain": [
       "get_preds:   0%|          | 0/15594 [00:00<?, ?it/s]"
      ]
     },
     "metadata": {},
     "output_type": "display_data"
    },
    {
     "data": {
      "application/vnd.jupyter.widget-view+json": {
       "model_id": "6c0709bc70c8479ca90cf4f4d4aed4fd",
       "version_major": 2,
       "version_minor": 0
      },
      "text/plain": [
       "calc_f1:   0%|          | 0/7 [00:00<?, ?it/s]"
      ]
     },
     "metadata": {},
     "output_type": "display_data"
    },
    {
     "name": "stderr",
     "output_type": "stream",
     "text": [
      "\u001b[32m[I 2022-02-14 10:12:52,207]\u001b[0m Trial 73 finished with value: 0.7163995604000889 and parameters: {'link_len': 24, 'sep_prob': 0.6827586821033348, 'sep_prob2': 0.49490254753172697, 'sep_prob3': 0.4258465307366859, 'sep_prob4': 0.6249858527301413, 'sep_prob5': 0.8452427480710926, 'pre_prob': 0.8691633640708999, 'after_prob': 0.40646507822646494}. Best is trial 67 with value: 0.7173358285778583.\u001b[0m\n"
     ]
    },
    {
     "data": {
      "application/vnd.jupyter.widget-view+json": {
       "model_id": "a95edb2b17e247cda6fc58bd23fda302",
       "version_major": 2,
       "version_minor": 0
      },
      "text/plain": [
       "get_preds:   0%|          | 0/15594 [00:00<?, ?it/s]"
      ]
     },
     "metadata": {},
     "output_type": "display_data"
    },
    {
     "data": {
      "application/vnd.jupyter.widget-view+json": {
       "model_id": "4d0f3e3b5b39462f8cbd1041194fe681",
       "version_major": 2,
       "version_minor": 0
      },
      "text/plain": [
       "calc_f1:   0%|          | 0/7 [00:00<?, ?it/s]"
      ]
     },
     "metadata": {},
     "output_type": "display_data"
    },
    {
     "name": "stderr",
     "output_type": "stream",
     "text": [
      "\u001b[32m[I 2022-02-14 10:13:08,196]\u001b[0m Trial 74 finished with value: 0.7170084921473222 and parameters: {'link_len': 20, 'sep_prob': 0.6563925258640199, 'sep_prob2': 0.4493585209139782, 'sep_prob3': 0.3466801619952041, 'sep_prob4': 0.635585783973649, 'sep_prob5': 0.7661834928329081, 'pre_prob': 0.8952806897212484, 'after_prob': 0.3013914360363805}. Best is trial 67 with value: 0.7173358285778583.\u001b[0m\n"
     ]
    },
    {
     "data": {
      "application/vnd.jupyter.widget-view+json": {
       "model_id": "233c6fd6a00348f7b2f8176a23817582",
       "version_major": 2,
       "version_minor": 0
      },
      "text/plain": [
       "get_preds:   0%|          | 0/15594 [00:00<?, ?it/s]"
      ]
     },
     "metadata": {},
     "output_type": "display_data"
    },
    {
     "data": {
      "application/vnd.jupyter.widget-view+json": {
       "model_id": "f9dc854bb09e41cfb032ad77271d4b16",
       "version_major": 2,
       "version_minor": 0
      },
      "text/plain": [
       "calc_f1:   0%|          | 0/7 [00:00<?, ?it/s]"
      ]
     },
     "metadata": {},
     "output_type": "display_data"
    },
    {
     "name": "stderr",
     "output_type": "stream",
     "text": [
      "\u001b[32m[I 2022-02-14 10:13:24,384]\u001b[0m Trial 75 finished with value: 0.7169644639395688 and parameters: {'link_len': 19, 'sep_prob': 0.6576290995960161, 'sep_prob2': 0.5480305480638703, 'sep_prob3': 0.338950725320302, 'sep_prob4': 0.7004843356939763, 'sep_prob5': 0.7639019099501742, 'pre_prob': 0.9014721647290169, 'after_prob': 0.29093460797093096}. Best is trial 67 with value: 0.7173358285778583.\u001b[0m\n"
     ]
    },
    {
     "data": {
      "application/vnd.jupyter.widget-view+json": {
       "model_id": "fd3a019034114160a21a5f12a1dba700",
       "version_major": 2,
       "version_minor": 0
      },
      "text/plain": [
       "get_preds:   0%|          | 0/15594 [00:00<?, ?it/s]"
      ]
     },
     "metadata": {},
     "output_type": "display_data"
    },
    {
     "data": {
      "application/vnd.jupyter.widget-view+json": {
       "model_id": "20611bfa04354de6a53a49f3d8bc0d02",
       "version_major": 2,
       "version_minor": 0
      },
      "text/plain": [
       "calc_f1:   0%|          | 0/7 [00:00<?, ?it/s]"
      ]
     },
     "metadata": {},
     "output_type": "display_data"
    },
    {
     "name": "stderr",
     "output_type": "stream",
     "text": [
      "\u001b[32m[I 2022-02-14 10:13:42,825]\u001b[0m Trial 76 finished with value: 0.7165883947536594 and parameters: {'link_len': 19, 'sep_prob': 0.5046792087767167, 'sep_prob2': 0.5612862682497463, 'sep_prob3': 0.3477841802174676, 'sep_prob4': 0.7029663938935337, 'sep_prob5': 0.7359427850208625, 'pre_prob': 0.8111768050488792, 'after_prob': 0.2865969478345234}. Best is trial 67 with value: 0.7173358285778583.\u001b[0m\n"
     ]
    },
    {
     "data": {
      "application/vnd.jupyter.widget-view+json": {
       "model_id": "2e42f69ea50740f58b28af290c198440",
       "version_major": 2,
       "version_minor": 0
      },
      "text/plain": [
       "get_preds:   0%|          | 0/15594 [00:00<?, ?it/s]"
      ]
     },
     "metadata": {},
     "output_type": "display_data"
    },
    {
     "data": {
      "application/vnd.jupyter.widget-view+json": {
       "model_id": "ba52e517974e4e91a0b3ba757f803837",
       "version_major": 2,
       "version_minor": 0
      },
      "text/plain": [
       "calc_f1:   0%|          | 0/7 [00:00<?, ?it/s]"
      ]
     },
     "metadata": {},
     "output_type": "display_data"
    },
    {
     "name": "stderr",
     "output_type": "stream",
     "text": [
      "\u001b[32m[I 2022-02-14 10:14:02,815]\u001b[0m Trial 77 finished with value: 0.716946439304027 and parameters: {'link_len': 18, 'sep_prob': 0.5982839191581888, 'sep_prob2': 0.5521540046431649, 'sep_prob3': 0.33010015107263313, 'sep_prob4': 0.7025137923526834, 'sep_prob5': 0.7649874887511512, 'pre_prob': 0.8841314978029637, 'after_prob': 0.24803400502600656}. Best is trial 67 with value: 0.7173358285778583.\u001b[0m\n"
     ]
    },
    {
     "data": {
      "application/vnd.jupyter.widget-view+json": {
       "model_id": "cad23134d9184833b7325aabca535130",
       "version_major": 2,
       "version_minor": 0
      },
      "text/plain": [
       "get_preds:   0%|          | 0/15594 [00:00<?, ?it/s]"
      ]
     },
     "metadata": {},
     "output_type": "display_data"
    },
    {
     "data": {
      "application/vnd.jupyter.widget-view+json": {
       "model_id": "4088816fd2254380b7df1814f3d1d3f1",
       "version_major": 2,
       "version_minor": 0
      },
      "text/plain": [
       "calc_f1:   0%|          | 0/7 [00:00<?, ?it/s]"
      ]
     },
     "metadata": {},
     "output_type": "display_data"
    },
    {
     "name": "stderr",
     "output_type": "stream",
     "text": [
      "\u001b[32m[I 2022-02-14 10:14:23,327]\u001b[0m Trial 78 finished with value: 0.7170417053558902 and parameters: {'link_len': 18, 'sep_prob': 0.6028949283292715, 'sep_prob2': 0.546652916590283, 'sep_prob3': 0.3345038011097795, 'sep_prob4': 0.7017066700322179, 'sep_prob5': 0.7597111674688927, 'pre_prob': 0.8870155462239407, 'after_prob': 0.23742937025578778}. Best is trial 67 with value: 0.7173358285778583.\u001b[0m\n"
     ]
    },
    {
     "data": {
      "application/vnd.jupyter.widget-view+json": {
       "model_id": "364da422cb8445bcbc817fa574472e91",
       "version_major": 2,
       "version_minor": 0
      },
      "text/plain": [
       "get_preds:   0%|          | 0/15594 [00:00<?, ?it/s]"
      ]
     },
     "metadata": {},
     "output_type": "display_data"
    },
    {
     "data": {
      "application/vnd.jupyter.widget-view+json": {
       "model_id": "f116b4f2dcc84bc2bef34e00e3f8ca08",
       "version_major": 2,
       "version_minor": 0
      },
      "text/plain": [
       "calc_f1:   0%|          | 0/7 [00:00<?, ?it/s]"
      ]
     },
     "metadata": {},
     "output_type": "display_data"
    },
    {
     "name": "stderr",
     "output_type": "stream",
     "text": [
      "\u001b[32m[I 2022-02-14 10:14:39,503]\u001b[0m Trial 79 finished with value: 0.7167416310839204 and parameters: {'link_len': 16, 'sep_prob': 0.566983086717099, 'sep_prob2': 0.5551807454931712, 'sep_prob3': 0.34125668393256475, 'sep_prob4': 0.7011804376669708, 'sep_prob5': 0.7620523053881385, 'pre_prob': 0.8531532217226133, 'after_prob': 0.251061374606414}. Best is trial 67 with value: 0.7173358285778583.\u001b[0m\n"
     ]
    },
    {
     "data": {
      "application/vnd.jupyter.widget-view+json": {
       "model_id": "e95c4f5153d94f209010dd3456ace368",
       "version_major": 2,
       "version_minor": 0
      },
      "text/plain": [
       "get_preds:   0%|          | 0/15594 [00:00<?, ?it/s]"
      ]
     },
     "metadata": {},
     "output_type": "display_data"
    },
    {
     "data": {
      "application/vnd.jupyter.widget-view+json": {
       "model_id": "13943a1c45244d3280d0deebb996875d",
       "version_major": 2,
       "version_minor": 0
      },
      "text/plain": [
       "calc_f1:   0%|          | 0/7 [00:00<?, ?it/s]"
      ]
     },
     "metadata": {},
     "output_type": "display_data"
    },
    {
     "name": "stderr",
     "output_type": "stream",
     "text": [
      "\u001b[32m[I 2022-02-14 10:14:56,076]\u001b[0m Trial 80 finished with value: 0.7171388380674981 and parameters: {'link_len': 18, 'sep_prob': 0.5909043706207145, 'sep_prob2': 0.5463075118253667, 'sep_prob3': 0.40591364110114164, 'sep_prob4': 0.7629520351191809, 'sep_prob5': 0.8161787962101827, 'pre_prob': 0.8886875570919384, 'after_prob': 0.18422682343819635}. Best is trial 67 with value: 0.7173358285778583.\u001b[0m\n"
     ]
    },
    {
     "data": {
      "application/vnd.jupyter.widget-view+json": {
       "model_id": "83a920069b904637ac5226326b0239da",
       "version_major": 2,
       "version_minor": 0
      },
      "text/plain": [
       "get_preds:   0%|          | 0/15594 [00:00<?, ?it/s]"
      ]
     },
     "metadata": {},
     "output_type": "display_data"
    },
    {
     "data": {
      "application/vnd.jupyter.widget-view+json": {
       "model_id": "b9fcfb3389034421906c5ba1c97c8b22",
       "version_major": 2,
       "version_minor": 0
      },
      "text/plain": [
       "calc_f1:   0%|          | 0/7 [00:00<?, ?it/s]"
      ]
     },
     "metadata": {},
     "output_type": "display_data"
    },
    {
     "name": "stderr",
     "output_type": "stream",
     "text": [
      "\u001b[32m[I 2022-02-14 10:15:12,750]\u001b[0m Trial 81 finished with value: 0.7166334932246613 and parameters: {'link_len': 18, 'sep_prob': 0.6111974194298304, 'sep_prob2': 0.5485031064069212, 'sep_prob3': 0.48527791068493464, 'sep_prob4': 0.7692380944568087, 'sep_prob5': 0.8172809872606804, 'pre_prob': 0.8963731160990931, 'after_prob': 0.30151299667527076}. Best is trial 67 with value: 0.7173358285778583.\u001b[0m\n"
     ]
    },
    {
     "data": {
      "application/vnd.jupyter.widget-view+json": {
       "model_id": "d519feee9f3340fd99e5d89d3a7c756f",
       "version_major": 2,
       "version_minor": 0
      },
      "text/plain": [
       "get_preds:   0%|          | 0/15594 [00:00<?, ?it/s]"
      ]
     },
     "metadata": {},
     "output_type": "display_data"
    },
    {
     "data": {
      "application/vnd.jupyter.widget-view+json": {
       "model_id": "bd9cbfc399d747c5b5447cd66cd14271",
       "version_major": 2,
       "version_minor": 0
      },
      "text/plain": [
       "calc_f1:   0%|          | 0/7 [00:00<?, ?it/s]"
      ]
     },
     "metadata": {},
     "output_type": "display_data"
    },
    {
     "name": "stderr",
     "output_type": "stream",
     "text": [
      "\u001b[32m[I 2022-02-14 10:15:30,948]\u001b[0m Trial 82 finished with value: 0.7162880407895625 and parameters: {'link_len': 18, 'sep_prob': 0.5985542107677159, 'sep_prob2': 0.520917830795777, 'sep_prob3': 0.3676678499335649, 'sep_prob4': 0.732014257092478, 'sep_prob5': 0.7313910928030531, 'pre_prob': 0.7597314564060274, 'after_prob': 0.1773636927498303}. Best is trial 67 with value: 0.7173358285778583.\u001b[0m\n"
     ]
    },
    {
     "data": {
      "application/vnd.jupyter.widget-view+json": {
       "model_id": "a49b945737734c28b073a78a8cf2750c",
       "version_major": 2,
       "version_minor": 0
      },
      "text/plain": [
       "get_preds:   0%|          | 0/15594 [00:00<?, ?it/s]"
      ]
     },
     "metadata": {},
     "output_type": "display_data"
    },
    {
     "data": {
      "application/vnd.jupyter.widget-view+json": {
       "model_id": "0ac820e61bb747a6b5942bcd2dc1b389",
       "version_major": 2,
       "version_minor": 0
      },
      "text/plain": [
       "calc_f1:   0%|          | 0/7 [00:00<?, ?it/s]"
      ]
     },
     "metadata": {},
     "output_type": "display_data"
    },
    {
     "name": "stderr",
     "output_type": "stream",
     "text": [
      "\u001b[32m[I 2022-02-14 10:15:47,017]\u001b[0m Trial 83 finished with value: 0.7166585075296042 and parameters: {'link_len': 15, 'sep_prob': 0.5383598366990655, 'sep_prob2': 0.5764683032200645, 'sep_prob3': 0.40809033018213464, 'sep_prob4': 0.7559050282970424, 'sep_prob5': 0.8032077118855823, 'pre_prob': 0.8186075923112067, 'after_prob': 0.24136034440795975}. Best is trial 67 with value: 0.7173358285778583.\u001b[0m\n"
     ]
    },
    {
     "data": {
      "application/vnd.jupyter.widget-view+json": {
       "model_id": "ea9643db71a54aa88069f511841990c1",
       "version_major": 2,
       "version_minor": 0
      },
      "text/plain": [
       "get_preds:   0%|          | 0/15594 [00:00<?, ?it/s]"
      ]
     },
     "metadata": {},
     "output_type": "display_data"
    },
    {
     "data": {
      "application/vnd.jupyter.widget-view+json": {
       "model_id": "9d67c401fd26427bbdd49cc4df3e2dd6",
       "version_major": 2,
       "version_minor": 0
      },
      "text/plain": [
       "calc_f1:   0%|          | 0/7 [00:00<?, ?it/s]"
      ]
     },
     "metadata": {},
     "output_type": "display_data"
    },
    {
     "name": "stderr",
     "output_type": "stream",
     "text": [
      "\u001b[32m[I 2022-02-14 10:16:03,536]\u001b[0m Trial 84 finished with value: 0.7168965365866496 and parameters: {'link_len': 20, 'sep_prob': 0.5792521612639993, 'sep_prob2': 0.5386988941764884, 'sep_prob3': 0.30659876079567505, 'sep_prob4': 0.715297723293064, 'sep_prob5': 0.7632208508285425, 'pre_prob': 0.8868168609839587, 'after_prob': 0.2087417968674078}. Best is trial 67 with value: 0.7173358285778583.\u001b[0m\n"
     ]
    },
    {
     "data": {
      "application/vnd.jupyter.widget-view+json": {
       "model_id": "72430175df7b47418a68cdb3452fd75e",
       "version_major": 2,
       "version_minor": 0
      },
      "text/plain": [
       "get_preds:   0%|          | 0/15594 [00:00<?, ?it/s]"
      ]
     },
     "metadata": {},
     "output_type": "display_data"
    },
    {
     "data": {
      "application/vnd.jupyter.widget-view+json": {
       "model_id": "c3faeb97cb0a436c903a109101888929",
       "version_major": 2,
       "version_minor": 0
      },
      "text/plain": [
       "calc_f1:   0%|          | 0/7 [00:00<?, ?it/s]"
      ]
     },
     "metadata": {},
     "output_type": "display_data"
    },
    {
     "name": "stderr",
     "output_type": "stream",
     "text": [
      "\u001b[32m[I 2022-02-14 10:16:19,873]\u001b[0m Trial 85 finished with value: 0.7167024211637744 and parameters: {'link_len': 17, 'sep_prob': 0.6445806409631993, 'sep_prob2': 0.5704534278680083, 'sep_prob3': 0.33293098137756755, 'sep_prob4': 0.7833529667101267, 'sep_prob5': 0.7142537426919319, 'pre_prob': 0.930473737242575, 'after_prob': 0.2291944068995425}. Best is trial 67 with value: 0.7173358285778583.\u001b[0m\n"
     ]
    },
    {
     "data": {
      "application/vnd.jupyter.widget-view+json": {
       "model_id": "0f775a48a1a740299dfa718b5dcf6b79",
       "version_major": 2,
       "version_minor": 0
      },
      "text/plain": [
       "get_preds:   0%|          | 0/15594 [00:00<?, ?it/s]"
      ]
     },
     "metadata": {},
     "output_type": "display_data"
    },
    {
     "data": {
      "application/vnd.jupyter.widget-view+json": {
       "model_id": "c49d8df188e64347944ce95266ee7b90",
       "version_major": 2,
       "version_minor": 0
      },
      "text/plain": [
       "calc_f1:   0%|          | 0/7 [00:00<?, ?it/s]"
      ]
     },
     "metadata": {},
     "output_type": "display_data"
    },
    {
     "name": "stderr",
     "output_type": "stream",
     "text": [
      "\u001b[32m[I 2022-02-14 10:16:36,722]\u001b[0m Trial 86 finished with value: 0.7167221246448411 and parameters: {'link_len': 19, 'sep_prob': 0.5534177310771801, 'sep_prob2': 0.5044569643069973, 'sep_prob3': 0.3520080001115811, 'sep_prob4': 0.6677686131416627, 'sep_prob5': 0.8313913802403614, 'pre_prob': 0.8738524773837252, 'after_prob': 0.2731003335616171}. Best is trial 67 with value: 0.7173358285778583.\u001b[0m\n"
     ]
    },
    {
     "data": {
      "application/vnd.jupyter.widget-view+json": {
       "model_id": "5efe9316b94a490b866c7e7906263d33",
       "version_major": 2,
       "version_minor": 0
      },
      "text/plain": [
       "get_preds:   0%|          | 0/15594 [00:00<?, ?it/s]"
      ]
     },
     "metadata": {},
     "output_type": "display_data"
    },
    {
     "data": {
      "application/vnd.jupyter.widget-view+json": {
       "model_id": "3262cd5eea7a4f5795e9ceb589e3a433",
       "version_major": 2,
       "version_minor": 0
      },
      "text/plain": [
       "calc_f1:   0%|          | 0/7 [00:00<?, ?it/s]"
      ]
     },
     "metadata": {},
     "output_type": "display_data"
    },
    {
     "name": "stderr",
     "output_type": "stream",
     "text": [
      "\u001b[32m[I 2022-02-14 10:16:53,530]\u001b[0m Trial 87 finished with value: 0.716862184221469 and parameters: {'link_len': 13, 'sep_prob': 0.6050982799017074, 'sep_prob2': 0.4499247106667907, 'sep_prob3': 0.45461395174428265, 'sep_prob4': 0.7051547255593282, 'sep_prob5': 0.818881498021256, 'pre_prob': 0.8371351937457573, 'after_prob': 0.20411879094266588}. Best is trial 67 with value: 0.7173358285778583.\u001b[0m\n"
     ]
    },
    {
     "data": {
      "application/vnd.jupyter.widget-view+json": {
       "model_id": "a97d7fae9a3e4dfcb6f0c1403cf5c880",
       "version_major": 2,
       "version_minor": 0
      },
      "text/plain": [
       "get_preds:   0%|          | 0/15594 [00:00<?, ?it/s]"
      ]
     },
     "metadata": {},
     "output_type": "display_data"
    },
    {
     "data": {
      "application/vnd.jupyter.widget-view+json": {
       "model_id": "ad45a809d8b6492b8a752ee3a2a8ab33",
       "version_major": 2,
       "version_minor": 0
      },
      "text/plain": [
       "calc_f1:   0%|          | 0/7 [00:00<?, ?it/s]"
      ]
     },
     "metadata": {},
     "output_type": "display_data"
    },
    {
     "name": "stderr",
     "output_type": "stream",
     "text": [
      "\u001b[32m[I 2022-02-14 10:17:10,335]\u001b[0m Trial 88 finished with value: 0.713798184795527 and parameters: {'link_len': 18, 'sep_prob': 0.6600864090457867, 'sep_prob2': 0.5906481057459539, 'sep_prob3': 0.3868204703625634, 'sep_prob4': 0.6888108943258524, 'sep_prob5': 0.7513155535064484, 'pre_prob': 0.30874683630948585, 'after_prob': 0.3105939877116763}. Best is trial 67 with value: 0.7173358285778583.\u001b[0m\n"
     ]
    },
    {
     "data": {
      "application/vnd.jupyter.widget-view+json": {
       "model_id": "3a363008d00b4e7c9496887484ac9020",
       "version_major": 2,
       "version_minor": 0
      },
      "text/plain": [
       "get_preds:   0%|          | 0/15594 [00:00<?, ?it/s]"
      ]
     },
     "metadata": {},
     "output_type": "display_data"
    },
    {
     "data": {
      "application/vnd.jupyter.widget-view+json": {
       "model_id": "53371f9412c841f4b38c59b68d0658bf",
       "version_major": 2,
       "version_minor": 0
      },
      "text/plain": [
       "calc_f1:   0%|          | 0/7 [00:00<?, ?it/s]"
      ]
     },
     "metadata": {},
     "output_type": "display_data"
    },
    {
     "name": "stderr",
     "output_type": "stream",
     "text": [
      "\u001b[32m[I 2022-02-14 10:17:27,378]\u001b[0m Trial 89 finished with value: 0.7165710795430079 and parameters: {'link_len': 16, 'sep_prob': 0.5912299149144296, 'sep_prob2': 0.5352334948074822, 'sep_prob3': 0.2722584699224816, 'sep_prob4': 0.741921765737664, 'sep_prob5': 0.7963869913279332, 'pre_prob': 0.9371917338880221, 'after_prob': 0.17211602954017874}. Best is trial 67 with value: 0.7173358285778583.\u001b[0m\n"
     ]
    },
    {
     "data": {
      "application/vnd.jupyter.widget-view+json": {
       "model_id": "3974c1b04e4648f2ae077a6663dafd46",
       "version_major": 2,
       "version_minor": 0
      },
      "text/plain": [
       "get_preds:   0%|          | 0/15594 [00:00<?, ?it/s]"
      ]
     },
     "metadata": {},
     "output_type": "display_data"
    },
    {
     "data": {
      "application/vnd.jupyter.widget-view+json": {
       "model_id": "4031cd8bc97746c39538e331b2255a01",
       "version_major": 2,
       "version_minor": 0
      },
      "text/plain": [
       "calc_f1:   0%|          | 0/7 [00:00<?, ?it/s]"
      ]
     },
     "metadata": {},
     "output_type": "display_data"
    },
    {
     "name": "stderr",
     "output_type": "stream",
     "text": [
      "\u001b[32m[I 2022-02-14 10:17:44,060]\u001b[0m Trial 90 finished with value: 0.7165041143329786 and parameters: {'link_len': 21, 'sep_prob': 0.6136411166119715, 'sep_prob2': 0.45290533187201887, 'sep_prob3': 0.40769232404817074, 'sep_prob4': 0.7705295113962013, 'sep_prob5': 0.7684248632880538, 'pre_prob': 0.7989103816504025, 'after_prob': 0.26032969617362023}. Best is trial 67 with value: 0.7173358285778583.\u001b[0m\n"
     ]
    },
    {
     "data": {
      "application/vnd.jupyter.widget-view+json": {
       "model_id": "e2d260ec91fb400bb6bbc84f6d92e8cc",
       "version_major": 2,
       "version_minor": 0
      },
      "text/plain": [
       "get_preds:   0%|          | 0/15594 [00:00<?, ?it/s]"
      ]
     },
     "metadata": {},
     "output_type": "display_data"
    },
    {
     "data": {
      "application/vnd.jupyter.widget-view+json": {
       "model_id": "90faaafb11da4b63b07c5bbd35836072",
       "version_major": 2,
       "version_minor": 0
      },
      "text/plain": [
       "calc_f1:   0%|          | 0/7 [00:00<?, ?it/s]"
      ]
     },
     "metadata": {},
     "output_type": "display_data"
    },
    {
     "name": "stderr",
     "output_type": "stream",
     "text": [
      "\u001b[32m[I 2022-02-14 10:18:00,389]\u001b[0m Trial 91 finished with value: 0.7138927916052028 and parameters: {'link_len': 20, 'sep_prob': 0.5766191508410734, 'sep_prob2': 0.5283104148870201, 'sep_prob3': 0.30729441886991604, 'sep_prob4': 0.7169349451440064, 'sep_prob5': 0.763795872566423, 'pre_prob': 0.14544255319719357, 'after_prob': 0.20609085262874707}. Best is trial 67 with value: 0.7173358285778583.\u001b[0m\n"
     ]
    },
    {
     "data": {
      "application/vnd.jupyter.widget-view+json": {
       "model_id": "f1d542e62ecb4409a65ae2d062457cac",
       "version_major": 2,
       "version_minor": 0
      },
      "text/plain": [
       "get_preds:   0%|          | 0/15594 [00:00<?, ?it/s]"
      ]
     },
     "metadata": {},
     "output_type": "display_data"
    },
    {
     "data": {
      "application/vnd.jupyter.widget-view+json": {
       "model_id": "e9249453ed4340f4a150c9f8ee018e7f",
       "version_major": 2,
       "version_minor": 0
      },
      "text/plain": [
       "calc_f1:   0%|          | 0/7 [00:00<?, ?it/s]"
      ]
     },
     "metadata": {},
     "output_type": "display_data"
    },
    {
     "name": "stderr",
     "output_type": "stream",
     "text": [
      "\u001b[32m[I 2022-02-14 10:18:17,035]\u001b[0m Trial 92 finished with value: 0.7159627718641872 and parameters: {'link_len': 20, 'sep_prob': 0.5841904028998279, 'sep_prob2': 0.540905204184248, 'sep_prob3': 0.2972839881051938, 'sep_prob4': 0.8295263292368473, 'sep_prob5': 0.7266698408583839, 'pre_prob': 0.9015480837684433, 'after_prob': 0.22689576127963546}. Best is trial 67 with value: 0.7173358285778583.\u001b[0m\n"
     ]
    },
    {
     "data": {
      "application/vnd.jupyter.widget-view+json": {
       "model_id": "f51c97aa499c4b619ae5485ab24c9de3",
       "version_major": 2,
       "version_minor": 0
      },
      "text/plain": [
       "get_preds:   0%|          | 0/15594 [00:00<?, ?it/s]"
      ]
     },
     "metadata": {},
     "output_type": "display_data"
    },
    {
     "data": {
      "application/vnd.jupyter.widget-view+json": {
       "model_id": "e89b1f5222f540ba989ec840080ea849",
       "version_major": 2,
       "version_minor": 0
      },
      "text/plain": [
       "calc_f1:   0%|          | 0/7 [00:00<?, ?it/s]"
      ]
     },
     "metadata": {},
     "output_type": "display_data"
    },
    {
     "name": "stderr",
     "output_type": "stream",
     "text": [
      "\u001b[32m[I 2022-02-14 10:18:35,853]\u001b[0m Trial 93 finished with value: 0.7167044380997226 and parameters: {'link_len': 21, 'sep_prob': 0.5709584662130123, 'sep_prob2': 0.48740875483225443, 'sep_prob3': 0.3092064574731318, 'sep_prob4': 0.7276710245749746, 'sep_prob5': 0.7594657031369285, 'pre_prob': 0.8869063857224871, 'after_prob': 0.31942630455284027}. Best is trial 67 with value: 0.7173358285778583.\u001b[0m\n"
     ]
    },
    {
     "data": {
      "application/vnd.jupyter.widget-view+json": {
       "model_id": "81c09fcae4b9441d894a88045270d169",
       "version_major": 2,
       "version_minor": 0
      },
      "text/plain": [
       "get_preds:   0%|          | 0/15594 [00:00<?, ?it/s]"
      ]
     },
     "metadata": {},
     "output_type": "display_data"
    },
    {
     "data": {
      "application/vnd.jupyter.widget-view+json": {
       "model_id": "8a821ece19604130971adfeefb57ab3c",
       "version_major": 2,
       "version_minor": 0
      },
      "text/plain": [
       "calc_f1:   0%|          | 0/7 [00:00<?, ?it/s]"
      ]
     },
     "metadata": {},
     "output_type": "display_data"
    },
    {
     "name": "stderr",
     "output_type": "stream",
     "text": [
      "\u001b[32m[I 2022-02-14 10:19:02,931]\u001b[0m Trial 94 finished with value: 0.7165572698220789 and parameters: {'link_len': 17, 'sep_prob': 0.6320065345221185, 'sep_prob2': 0.41542936195893027, 'sep_prob3': 0.3382029631810283, 'sep_prob4': 0.6937767168524437, 'sep_prob5': 0.841367315109656, 'pre_prob': 0.8286649917124587, 'after_prob': 0.1577227034732609}. Best is trial 67 with value: 0.7173358285778583.\u001b[0m\n"
     ]
    },
    {
     "data": {
      "application/vnd.jupyter.widget-view+json": {
       "model_id": "10672ffcdb1c465db37eab113512e579",
       "version_major": 2,
       "version_minor": 0
      },
      "text/plain": [
       "get_preds:   0%|          | 0/15594 [00:00<?, ?it/s]"
      ]
     },
     "metadata": {},
     "output_type": "display_data"
    },
    {
     "data": {
      "application/vnd.jupyter.widget-view+json": {
       "model_id": "e8ce0ef5a17e4d1db7f06ffd5ba6b873",
       "version_major": 2,
       "version_minor": 0
      },
      "text/plain": [
       "calc_f1:   0%|          | 0/7 [00:00<?, ?it/s]"
      ]
     },
     "metadata": {},
     "output_type": "display_data"
    },
    {
     "name": "stderr",
     "output_type": "stream",
     "text": [
      "\u001b[32m[I 2022-02-14 10:19:25,096]\u001b[0m Trial 95 finished with value: 0.7163118424182839 and parameters: {'link_len': 19, 'sep_prob': 0.5523406539597645, 'sep_prob2': 0.5804141896971307, 'sep_prob3': 0.2501055322876715, 'sep_prob4': 0.6777895639318716, 'sep_prob5': 0.7019487731789785, 'pre_prob': 0.8601206881982094, 'after_prob': 0.278909584641719}. Best is trial 67 with value: 0.7173358285778583.\u001b[0m\n"
     ]
    },
    {
     "data": {
      "application/vnd.jupyter.widget-view+json": {
       "model_id": "5b7163e7ba9046a69d8e5afce538a344",
       "version_major": 2,
       "version_minor": 0
      },
      "text/plain": [
       "get_preds:   0%|          | 0/15594 [00:00<?, ?it/s]"
      ]
     },
     "metadata": {},
     "output_type": "display_data"
    },
    {
     "data": {
      "application/vnd.jupyter.widget-view+json": {
       "model_id": "c0208f7b12d84d23895b412f4a8d8646",
       "version_major": 2,
       "version_minor": 0
      },
      "text/plain": [
       "calc_f1:   0%|          | 0/7 [00:00<?, ?it/s]"
      ]
     },
     "metadata": {},
     "output_type": "display_data"
    },
    {
     "name": "stderr",
     "output_type": "stream",
     "text": [
      "\u001b[32m[I 2022-02-14 10:19:56,521]\u001b[0m Trial 96 finished with value: 0.7165072174242972 and parameters: {'link_len': 18, 'sep_prob': 0.6583966932584927, 'sep_prob2': 0.5207943874323131, 'sep_prob3': 0.29073315708761777, 'sep_prob4': 0.755760461212856, 'sep_prob5': 0.8090721065186774, 'pre_prob': 0.9114461450967096, 'after_prob': 0.17847266597856556}. Best is trial 67 with value: 0.7173358285778583.\u001b[0m\n"
     ]
    },
    {
     "data": {
      "application/vnd.jupyter.widget-view+json": {
       "model_id": "704aad92ca3a41faa09b5fa8380c1137",
       "version_major": 2,
       "version_minor": 0
      },
      "text/plain": [
       "get_preds:   0%|          | 0/15594 [00:00<?, ?it/s]"
      ]
     },
     "metadata": {},
     "output_type": "display_data"
    },
    {
     "data": {
      "application/vnd.jupyter.widget-view+json": {
       "model_id": "4979db1a09884e438d42732ee15cec47",
       "version_major": 2,
       "version_minor": 0
      },
      "text/plain": [
       "calc_f1:   0%|          | 0/7 [00:00<?, ?it/s]"
      ]
     },
     "metadata": {},
     "output_type": "display_data"
    },
    {
     "name": "stderr",
     "output_type": "stream",
     "text": [
      "\u001b[32m[I 2022-02-14 10:20:13,369]\u001b[0m Trial 97 finished with value: 0.7158789287273739 and parameters: {'link_len': 22, 'sep_prob': 0.5983992060762137, 'sep_prob2': 0.3840833961220259, 'sep_prob3': 0.35736804508493075, 'sep_prob4': 0.8002593699391781, 'sep_prob5': 0.7900361630756497, 'pre_prob': 0.7486881143279357, 'after_prob': 0.20473160370118904}. Best is trial 67 with value: 0.7173358285778583.\u001b[0m\n"
     ]
    },
    {
     "data": {
      "application/vnd.jupyter.widget-view+json": {
       "model_id": "7a1fca980c384688bbcd480606bbc395",
       "version_major": 2,
       "version_minor": 0
      },
      "text/plain": [
       "get_preds:   0%|          | 0/15594 [00:00<?, ?it/s]"
      ]
     },
     "metadata": {},
     "output_type": "display_data"
    },
    {
     "data": {
      "application/vnd.jupyter.widget-view+json": {
       "model_id": "4ebc8104f5494059bbbabd7ee85a7a26",
       "version_major": 2,
       "version_minor": 0
      },
      "text/plain": [
       "calc_f1:   0%|          | 0/7 [00:00<?, ?it/s]"
      ]
     },
     "metadata": {},
     "output_type": "display_data"
    },
    {
     "name": "stderr",
     "output_type": "stream",
     "text": [
      "\u001b[32m[I 2022-02-14 10:20:29,343]\u001b[0m Trial 98 finished with value: 0.7174311611639734 and parameters: {'link_len': 15, 'sep_prob': 0.6356957848542432, 'sep_prob2': 0.5602738659198996, 'sep_prob3': 0.3817972229525624, 'sep_prob4': 0.7105312182924486, 'sep_prob5': 0.7409606473336943, 'pre_prob': 0.9415491221754493, 'after_prob': 0.2329225808487579}. Best is trial 98 with value: 0.7174311611639734.\u001b[0m\n"
     ]
    },
    {
     "data": {
      "application/vnd.jupyter.widget-view+json": {
       "model_id": "2d4a4d4a3f58431bbea2e2248d35646d",
       "version_major": 2,
       "version_minor": 0
      },
      "text/plain": [
       "get_preds:   0%|          | 0/15594 [00:00<?, ?it/s]"
      ]
     },
     "metadata": {},
     "output_type": "display_data"
    },
    {
     "data": {
      "application/vnd.jupyter.widget-view+json": {
       "model_id": "8d675b6a828240d28e75b1e039a6ebcd",
       "version_major": 2,
       "version_minor": 0
      },
      "text/plain": [
       "calc_f1:   0%|          | 0/7 [00:00<?, ?it/s]"
      ]
     },
     "metadata": {},
     "output_type": "display_data"
    },
    {
     "name": "stderr",
     "output_type": "stream",
     "text": [
      "\u001b[32m[I 2022-02-14 10:20:47,060]\u001b[0m Trial 99 finished with value: 0.7172292919836576 and parameters: {'link_len': 13, 'sep_prob': 0.6358916658326214, 'sep_prob2': 0.5993489005041838, 'sep_prob3': 0.3813730306839383, 'sep_prob4': 0.6540952546743426, 'sep_prob5': 0.7360324085596773, 'pre_prob': 0.9412773831314202, 'after_prob': 0.1110379328663985}. Best is trial 98 with value: 0.7174311611639734.\u001b[0m\n",
      "ic| 3129377046.py:28 in <module>\n",
      "    study.best_value: 0.7174311611639734\n",
      "    study.best_params: {'after_prob': 0.2329225808487579,\n",
      "                        'link_len': 15,\n",
      "                        'pre_prob': 0.9415491221754493,\n",
      "                        'sep_prob': 0.6356957848542432,\n",
      "                        'sep_prob2': 0.5602738659198996,\n",
      "                        'sep_prob3': 0.3817972229525624,\n",
      "                        'sep_prob4': 0.7105312182924486,\n",
      "                        'sep_prob5': 0.7409606473336943}\n"
     ]
    },
    {
     "data": {
      "text/plain": [
       "(0.7174311611639734,\n",
       " {'link_len': 15,\n",
       "  'sep_prob': 0.6356957848542432,\n",
       "  'sep_prob2': 0.5602738659198996,\n",
       "  'sep_prob3': 0.3817972229525624,\n",
       "  'sep_prob4': 0.7105312182924486,\n",
       "  'sep_prob5': 0.7409606473336943,\n",
       "  'pre_prob': 0.9415491221754493,\n",
       "  'after_prob': 0.2329225808487579})"
      ]
     },
     "execution_count": 19,
     "metadata": {},
     "output_type": "execute_result"
    }
   ],
   "source": [
    "def objective(trial):\n",
    "\n",
    "    # for key in proba_thresh:\n",
    "    #   if key != 'Nothing':\n",
    "    #     proba_thresh[key] = trial.suggest_uniform(key, 0., 1.)\n",
    "    \n",
    "    P['sep_prob'] = trial.suggest_float('sep_prob', 0.5, 1.)\n",
    "    P['sep_prob2'] = trial.suggest_float('sep_prob2', 0., 0.6)\n",
    "    P['sep_prob3'] = trial.suggest_float('sep_prob3', 0., 0.6)\n",
    "    P['sep_prob4'] = trial.suggest_float('sep_prob4', 0., 0.6)\n",
    "    FLAGS.sep_rule = trial.suggest_int('sep_rule',0, 1)\n",
    "    FLAGS.adjacent_prob = trial.suggest_int('adjacent_prob', 0, 1)\n",
    "    FLAGS.adjacent_rebuttal = trial.suggest_int('adjacent_rebuttal',0, 1)\n",
    "    FLAGS.adjacent_rule = trial.suggest_int('adjacent_rule', 0, 1)\n",
    "    FLAGS.adjacent_minthre = trial.suggest_int('adjacent_minthre', 0, 1)\n",
    "\n",
    "  \n",
    "    df_pred = get_preds(info, post_adjust=True, folds=50)\n",
    "    res = calc_metrics(df_gt, df_pred)\n",
    "    score = res['f1/Overall']\n",
    "    return score\n",
    "\n",
    "study = optuna.create_study(direction='maximize')\n",
    "study.optimize(objective, n_trials=100)\n",
    "\n",
    "ic(study.best_value, study.best_params)"
   ]
  },
  {
   "cell_type": "code",
   "execution_count": null,
   "metadata": {},
   "outputs": [],
   "source": [
    "df_pred = get_preds(info, post_adjust=True, folds=50)"
   ]
  },
  {
   "cell_type": "code",
   "execution_count": null,
   "metadata": {},
   "outputs": [],
   "source": [
    "res = calc_metrics(df_gt, df_pred)\n",
    "res"
   ]
  },
  {
   "cell_type": "code",
   "execution_count": null,
   "metadata": {},
   "outputs": [],
   "source": [
    "# res = calc_metrics(df_gt, link_evidence(df_pred))\n",
    "# res"
   ]
  },
  {
   "cell_type": "code",
   "execution_count": null,
   "metadata": {},
   "outputs": [],
   "source": [
    "len(df_gt)"
   ]
  },
  {
   "cell_type": "code",
   "execution_count": null,
   "metadata": {},
   "outputs": [],
   "source": [
    "len(info['id'])"
   ]
  },
  {
   "cell_type": "code",
   "execution_count": null,
   "metadata": {},
   "outputs": [],
   "source": []
  },
  {
   "cell_type": "code",
   "execution_count": null,
   "metadata": {},
   "outputs": [],
   "source": []
  }
 ],
 "metadata": {
  "interpreter": {
   "hash": "2e1511501be64c09e2f1eb58c3220ebc9ce84b491d308a480caed250bbb4af51"
  },
  "kernelspec": {
   "display_name": "Python 3.6.13 64-bit (conda)",
   "language": "python",
   "name": "python3"
  },
  "language_info": {
   "codemirror_mode": {
    "name": "ipython",
    "version": 3
   },
   "file_extension": ".py",
   "mimetype": "text/x-python",
   "name": "python",
   "nbconvert_exporter": "python",
   "pygments_lexer": "ipython3",
   "version": "3.7.9"
  },
  "orig_nbformat": 4
 },
 "nbformat": 4,
 "nbformat_minor": 2
}
