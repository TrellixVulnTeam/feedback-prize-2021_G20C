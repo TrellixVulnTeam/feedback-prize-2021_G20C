{
 "cells": [
  {
   "cell_type": "code",
   "execution_count": 25,
   "metadata": {},
   "outputs": [],
   "source": [
    "import numpy as np\n",
    "import pandas as pd\n",
    "import random\n",
    "import itertools\n",
    "import matplotlib.pyplot as plt\n",
    "import plotly.express as px\n",
    "import glob\n",
    "import spacy\n",
    "import sklearn\n",
    "from collections import defaultdict, Counter\n",
    "from bisect import bisect_left\n",
    "import matplotlib.pyplot as plt\n",
    "import matplotlib\n",
    "import io\n",
    "import base64\n",
    "import pymp\n",
    "from multiprocessing import Pool, Manager, cpu_count\n",
    "from IPython.display import display_html\n",
    "from itertools import chain, cycle\n",
    "import lightgbm as lgb\n",
    "import sys\n",
    "sys.path.append('../../../../utils')\n",
    "sys.path.append('..')\n",
    "import gezi\n",
    "from gezi import tqdm\n",
    "from src.eval import *\n",
    "from src.util import *\n",
    "from src.get_preds import *\n",
    "from src import config\n",
    "from src.visualize import *\n",
    "from src.rewards import *\n",
    "pd.set_option('display.float_format', lambda x: '%.02f' % x)"
   ]
  },
  {
   "cell_type": "code",
   "execution_count": 26,
   "metadata": {},
   "outputs": [
    {
     "data": {
      "text/plain": [
       "'2.10.0'"
      ]
     },
     "execution_count": 26,
     "metadata": {},
     "output_type": "execute_result"
    }
   ],
   "source": [
    "import optuna\n",
    "from optuna import Trial\n",
    "\n",
    "optuna.__version__"
   ]
  },
  {
   "cell_type": "code",
   "execution_count": 27,
   "metadata": {},
   "outputs": [],
   "source": [
    "root = '../input/feedback-prize-2021'"
   ]
  },
  {
   "cell_type": "code",
   "execution_count": 28,
   "metadata": {},
   "outputs": [],
   "source": [
    "df = pd.read_feather(f'{root}/train_en.fea')"
   ]
  },
  {
   "cell_type": "code",
   "execution_count": 29,
   "metadata": {},
   "outputs": [
    {
     "data": {
      "text/plain": [
       "{'Nothing': 223,\n",
       " 'Claim': 67,\n",
       " 'Evidence': 417,\n",
       " 'Position': 74,\n",
       " 'Concluding Statement': 245,\n",
       " 'Lead': 274,\n",
       " 'Counterclaim': 142,\n",
       " 'Rebuttal': 142}"
      ]
     },
     "execution_count": 29,
     "metadata": {},
     "output_type": "execute_result"
    }
   ],
   "source": [
    "MAX_SEQ_LEN = {}\n",
    "df['len'] = df.end - df.start\n",
    "max_lens = df.groupby('para_type')['len'].quantile(.999)\n",
    "for i in range(len(ALL_CLASSES)):\n",
    "  MAX_SEQ_LEN[id2dis[i]] = int(max_lens[i])\n",
    "MAX_SEQ_LEN"
   ]
  },
  {
   "cell_type": "code",
   "execution_count": 30,
   "metadata": {},
   "outputs": [
    {
     "data": {
      "text/plain": [
       "{'Nothing': 1,\n",
       " 'Claim': 1,\n",
       " 'Evidence': 6,\n",
       " 'Position': 2,\n",
       " 'Concluding Statement': 5,\n",
       " 'Lead': 4,\n",
       " 'Counterclaim': 3,\n",
       " 'Rebuttal': 3}"
      ]
     },
     "execution_count": 30,
     "metadata": {},
     "output_type": "execute_result"
    }
   ],
   "source": [
    "MIN_SEQ_LEN = {}\n",
    "df['len'] = df.end - df.start\n",
    "min_lens = df.groupby('para_type')['len'].quantile(.001)\n",
    "for i in range(len(ALL_CLASSES)):\n",
    "  MIN_SEQ_LEN[id2dis[i]] = int(min_lens[i])\n",
    "MIN_SEQ_LEN"
   ]
  },
  {
   "cell_type": "code",
   "execution_count": 31,
   "metadata": {},
   "outputs": [],
   "source": [
    "MAX_SEQ_LEN = {'Nothing': 223,\n",
    " 'Claim': 67,\n",
    " 'Evidence': 417,\n",
    " 'Position': 74,\n",
    " 'Concluding Statement': 245,\n",
    " 'Lead': 274,\n",
    " 'Counterclaim': 142,\n",
    " 'Rebuttal': 142}"
   ]
  },
  {
   "cell_type": "code",
   "execution_count": 32,
   "metadata": {},
   "outputs": [],
   "source": [
    "MIN_SEQ_lens = {'Nothing': 1,\n",
    " 'Claim': 1,\n",
    " 'Evidence': 6,\n",
    " 'Position': 2,\n",
    " 'Concluding Statement': 5,\n",
    " 'Lead': 4,\n",
    " 'Counterclaim': 3,\n",
    " 'Rebuttal': 3}"
   ]
  },
  {
   "cell_type": "code",
   "execution_count": 33,
   "metadata": {},
   "outputs": [],
   "source": [
    "d = pd.read_feather(f'{root}/para_label.fea')"
   ]
  },
  {
   "cell_type": "code",
   "execution_count": 34,
   "metadata": {},
   "outputs": [],
   "source": [
    "np.random.seed(12345)"
   ]
  },
  {
   "cell_type": "code",
   "execution_count": 35,
   "metadata": {},
   "outputs": [],
   "source": [
    "root = '../working/offline/44/'"
   ]
  },
  {
   "cell_type": "code",
   "execution_count": 36,
   "metadata": {},
   "outputs": [],
   "source": [
    "# mn = 'mui.deberta-v3.rl.s1'\n",
    "# mn = 'mui.electra.rl.s1'\n",
    "# mn = 'mui.4'\n",
    "# mn = 'large.longformer.start.len1280.seq_encoder'\n",
    "# root = f'../working/offline/44/0/{mn}'"
   ]
  },
  {
   "cell_type": "code",
   "execution_count": 37,
   "metadata": {},
   "outputs": [],
   "source": [
    "info = gezi.load(f'{root}/best.pkl')"
   ]
  },
  {
   "cell_type": "code",
   "execution_count": 38,
   "metadata": {},
   "outputs": [],
   "source": [
    "df_gt = pd.read_csv(f'{root}/valid_gt.csv')"
   ]
  },
  {
   "cell_type": "code",
   "execution_count": 39,
   "metadata": {},
   "outputs": [],
   "source": [
    "P = {\n",
    "  # 'sep_prob': 0.5,\n",
    "  'sep_prob2': 0.5,\n",
    "  'sep_prob3': 0.5,\n",
    "}\n",
    "def get_pred_bystart(x, post_adjust=True, pred_info=None):\n",
    "  MIN_LEN = 2\n",
    "  MIN_LEN2 = 2\n",
    "  NUM_CLASSES = len(id2dis)\n",
    "  pred = x['preds']\n",
    "  total = len(pred)\n",
    "  # by prob not logit\n",
    "  probs = x['probs'] \n",
    "  # probs = x['pred']\n",
    "  start_prob = x['start_probs'] if 'start_probs' in x else None\n",
    "  # ic((start_prob[:,1] > start_prob[:,0]).astype(int).sum())\n",
    "  pre_type = None\n",
    "  # predictionstring list\n",
    "  preds_list = []\n",
    "  # store each pred word_id for one precitionstring\n",
    "  preds = [] \n",
    "  pre_scores = np.zeros_like(probs[0])\n",
    "  \n",
    "  types = []\n",
    "    \n",
    "  pre_probs = None\n",
    "  for i in range(total):    \n",
    "   \n",
    "    is_sep = False\n",
    "    if i > 0:\n",
    "      pre_cls = np.argmax(pre_scores)\n",
    "      pre_prob = pre_probs[pre_cls]\n",
    "      pre_type = id2dis[pre_cls]\n",
    "      now_cls = pred[i]\n",
    "      now_type = id2dis[now_cls]\n",
    "      now_prob = probs[i][now_cls]\n",
    "      \n",
    "      if start_prob[i].sum() == 0:\n",
    "        is_sep = True\n",
    "        \n",
    "      # if start_prob is None:\n",
    "      #   is_sep = pred[i] % 2 == 1\n",
    "      # else:\n",
    "      # is_sep = start_prob[i][1] >= P['sep_prob']\n",
    "      is_sep = False\n",
    "      \n",
    "      if post_adjust and FLAGS.sep_rule:\n",
    "        if i > 0:\n",
    "          # 注意目前最高线上版本依然是按照第一个model取pred而不是ensemble的结果取pred信息，另外有adjacent rule待验证\n",
    "          if pred[i] != pred[i - 1]:\n",
    "            if start_prob[i][1] > P['sep_prob2']:\n",
    "              is_sep = True\n",
    "          else:\n",
    "            if start_prob[i][1] > P['sep_prob3']:\n",
    "              is_sep = True\n",
    "          #   if start_prob[i][1] > P['sep_prob2'] and (pre_type in  ['Rebuttal', 'Counterclaim']):\n",
    "          #       is_sep = True\n",
    "    \n",
    "          #   # TODO this rule should be optimized...\n",
    "          #   # if start_prob[i][1] > 0.45:\n",
    "          #   #   # if pre_prob > proba_thresh[pre_type] and len(preds) >= min_thresh[pre_type]:\n",
    "          #   #   if len(preds) >= min_thresh[pre_type]:\n",
    "          #   #     is_sep = True\n",
    "            \n",
    "            \n",
    "          #   if start_prob[i][1] > P['sep_prob3']:\n",
    "          #     # if pre_prob > proba_thresh[pre_type] and len(preds) >= min_thresh[pre_type]:\n",
    "          #     if len(preds) >= min_thresh[pre_type]:\n",
    "          #       is_sep = True\n",
    "                                \n",
    "          #   if FLAGS.adjacent_rule:\n",
    "          #     if pre_probs[pred[i - 1]] > P['pre_prob'] and probs[i][pred[i]] > P['after_prob'] and len(preds) >= min_thresh[id2dis[pred[i - 1]]]:\n",
    "          #       is_sep = True\n",
    "          # else:\n",
    "          #   if pre_type == 'Evidence':\n",
    "          #     if start_prob[i][1] < P['sep_prob4']:\n",
    "          #       is_sep = False\n",
    "                \n",
    "          #   if len(preds) <= P['link_len'] and start_prob[i][1] < P['sep_prob5']:\n",
    "          #     is_sep = False\n",
    "                  \n",
    "    if is_sep:\n",
    "      if preds:  \n",
    "        if pre_type != 'Nothing':\n",
    "          if post_adjust:\n",
    "            if len(preds) < MIN_LEN:\n",
    "              # 低置信度的干脆放弃召回 更安全 pass not continue\n",
    "              pass\n",
    "            else:\n",
    "              if pre_probs.max() > proba_thresh[pre_type]:\n",
    "                preds_list.append(' '.join(preds))\n",
    "                types.append(pre_type)\n",
    "              # else:\n",
    "              #   top_classes = np.argsort(-pre_probs,axis=0)[:2]\n",
    "              #   pre_cls = top_classes[1]\n",
    "              #   pre_type = id2dis[pre_cls]\n",
    "              #   if pre_probs[pre_cls] > proba_thresh[pre_type]:\n",
    "              #     preds_list.append(' '.join(preds))\n",
    "              #     types.append(pre_type)\n",
    "          else:\n",
    "            preds_list.append(' '.join(preds))\n",
    "            types.append(pre_type)\n",
    "      \n",
    "        preds = []\n",
    "        pre_scores = np.zeros_like(probs[0])\n",
    "              \n",
    "    pre_scores += probs[i] \n",
    "    pre_probs = gezi.softmax(pre_scores)\n",
    "    # pre_probs = pre_scores / len(preds)\n",
    "    preds.append(str(i))\n",
    "    \n",
    "  if preds:\n",
    "    pre_type = id2dis[np.argmax(pre_scores)]\n",
    "      \n",
    "    # 结尾应该更长\n",
    "    if pre_type != 'Nothing':\n",
    "      if post_adjust:\n",
    "        if len(preds) >= MIN_LEN2:\n",
    "          if pre_probs.max() > proba_thresh[pre_type]:\n",
    "            preds_list.append(' '.join(preds))\n",
    "            types.append(pre_type)\n",
    "        # else:\n",
    "        #   top_classes = np.argsort(-pre_probs,axis=0)[:2]\n",
    "        #   pre_cls = top_classes[1]\n",
    "        #   pre_type = id2dis[pre_cls]\n",
    "        #   if pre_probs[pre_cls] > proba_thresh[pre_type]:\n",
    "        #     preds_list.append(' '.join(preds))\n",
    "        #     types.append(pre_type)\n",
    "      else:\n",
    "        preds_list.append(' '.join(preds))\n",
    "        types.append(pre_type)\n",
    "  return types, preds_list"
   ]
  },
  {
   "cell_type": "code",
   "execution_count": 40,
   "metadata": {},
   "outputs": [],
   "source": [
    "def get_preds_(x, post_adjust=True, selected_ids=None, fold=None, folds=5):  \n",
    "  # ic(post_adjust)\n",
    "  pred_fn = None\n",
    "  pred_fn = get_pred_bystart\n",
    "\n",
    "  total = len(x['id'])\n",
    "  # with gezi.Timer('get_preds'):\n",
    "  # ic(FLAGS.openmp)\n",
    "  ids_list, types_list, preds_list = [], [], []\n",
    "  for i in tqdm(range(total), desc='get_preds', leave=False):\n",
    "    id = x['id'][i]\n",
    "    if selected_ids is not None and id not in selected_ids:\n",
    "      continue\n",
    "    if fold is not None:\n",
    "      if i % folds != fold:\n",
    "        continue\n",
    "    x_ = {}\n",
    "    for key in x: \n",
    "      x_[key] = x[key][i]\n",
    "    types, preds = pred_fn(x_, post_adjust=post_adjust)\n",
    "    ids_list.extend([id] * len(types))\n",
    "    types_list.extend(types)\n",
    "    preds_list.extend(preds)\n",
    " \n",
    "  m = {\n",
    "    'id': ids_list,\n",
    "    'class': types_list,\n",
    "    'predictionstring': preds_list\n",
    "  }\n",
    "\n",
    "  df = pd.DataFrame(m)\n",
    "    \n",
    "  return df\n",
    "\n",
    "def get_preds(x, post_adjust=True, selected_ids=None, folds=5):  \n",
    "  if selected_ids is not None:\n",
    "    return get_preds_(x, post_adjust, selected_ids)\n",
    "  else:\n",
    "    try:\n",
    "      dfs = Manager().dict()\n",
    "      with pymp.Parallel(folds) as p:\n",
    "        for i in p.range(folds):\n",
    "          dfs[i] = get_preds_(x, post_adjust, fold=i, folds=folds)\n",
    "      return pd.concat(dfs.values())\n",
    "    except Exception:\n",
    "      return get_preds_(x, post_adjust)"
   ]
  },
  {
   "cell_type": "code",
   "execution_count": 41,
   "metadata": {},
   "outputs": [],
   "source": [
    "gezi.init_flags()"
   ]
  },
  {
   "cell_type": "code",
   "execution_count": 42,
   "metadata": {},
   "outputs": [
    {
     "name": "stderr",
     "output_type": "stream",
     "text": [
      "\u001b[32m[I 2022-02-14 06:21:00,353]\u001b[0m A new study created in memory with name: no-name-0b2d9f24-3fa3-4983-8efc-aa8ab34057e5\u001b[0m\n"
     ]
    },
    {
     "data": {
      "application/vnd.jupyter.widget-view+json": {
       "model_id": "856191d97a0a4f5ea813aca7f6ac817b",
       "version_major": 2,
       "version_minor": 0
      },
      "text/plain": [
       "get_preds:   0%|          | 0/15594 [00:00<?, ?it/s]"
      ]
     },
     "metadata": {},
     "output_type": "display_data"
    },
    {
     "data": {
      "application/vnd.jupyter.widget-view+json": {
       "model_id": "db32b52b52a04c57a25f07f8ab4aed8f",
       "version_major": 2,
       "version_minor": 0
      },
      "text/plain": [
       "calc_f1:   0%|          | 0/7 [00:00<?, ?it/s]"
      ]
     },
     "metadata": {},
     "output_type": "display_data"
    },
    {
     "name": "stderr",
     "output_type": "stream",
     "text": [
      "\u001b[32m[I 2022-02-14 06:21:16,648]\u001b[0m Trial 0 finished with value: 0.5565939130528778 and parameters: {'sep_prob': 0.9081719072817505, 'sep_prob2': 0.9973744560025188}. Best is trial 0 with value: 0.5565939130528778.\u001b[0m\n"
     ]
    },
    {
     "data": {
      "application/vnd.jupyter.widget-view+json": {
       "model_id": "06c78cebf7c14865ac1a6fd19939ab54",
       "version_major": 2,
       "version_minor": 0
      },
      "text/plain": [
       "get_preds:   0%|          | 0/15594 [00:00<?, ?it/s]"
      ]
     },
     "metadata": {},
     "output_type": "display_data"
    },
    {
     "data": {
      "application/vnd.jupyter.widget-view+json": {
       "model_id": "6b982e8b33bd4988bd2afca67c9178e5",
       "version_major": 2,
       "version_minor": 0
      },
      "text/plain": [
       "calc_f1:   0%|          | 0/7 [00:00<?, ?it/s]"
      ]
     },
     "metadata": {},
     "output_type": "display_data"
    },
    {
     "name": "stderr",
     "output_type": "stream",
     "text": [
      "\u001b[32m[I 2022-02-14 06:21:34,184]\u001b[0m Trial 1 finished with value: 0.6708543016939899 and parameters: {'sep_prob': 0.22039300744984802, 'sep_prob2': 0.6086841824868577}. Best is trial 1 with value: 0.6708543016939899.\u001b[0m\n"
     ]
    },
    {
     "data": {
      "application/vnd.jupyter.widget-view+json": {
       "model_id": "88656987a9ad4e96915c9a6ff86de768",
       "version_major": 2,
       "version_minor": 0
      },
      "text/plain": [
       "get_preds:   0%|          | 0/15594 [00:00<?, ?it/s]"
      ]
     },
     "metadata": {},
     "output_type": "display_data"
    },
    {
     "data": {
      "application/vnd.jupyter.widget-view+json": {
       "model_id": "545fd4f5db594f449d94aea277edc9ed",
       "version_major": 2,
       "version_minor": 0
      },
      "text/plain": [
       "calc_f1:   0%|          | 0/7 [00:00<?, ?it/s]"
      ]
     },
     "metadata": {},
     "output_type": "display_data"
    },
    {
     "name": "stderr",
     "output_type": "stream",
     "text": [
      "\u001b[32m[I 2022-02-14 06:21:51,650]\u001b[0m Trial 2 finished with value: 0.7151667698110901 and parameters: {'sep_prob': 0.7570665580695488, 'sep_prob2': 0.12425089843154269}. Best is trial 2 with value: 0.7151667698110901.\u001b[0m\n"
     ]
    },
    {
     "data": {
      "application/vnd.jupyter.widget-view+json": {
       "model_id": "c2dad378a19043e096a0dc5813f611f5",
       "version_major": 2,
       "version_minor": 0
      },
      "text/plain": [
       "get_preds:   0%|          | 0/15594 [00:00<?, ?it/s]"
      ]
     },
     "metadata": {},
     "output_type": "display_data"
    },
    {
     "data": {
      "application/vnd.jupyter.widget-view+json": {
       "model_id": "0cc4aceb76024fbcba7829e67009f477",
       "version_major": 2,
       "version_minor": 0
      },
      "text/plain": [
       "calc_f1:   0%|          | 0/7 [00:00<?, ?it/s]"
      ]
     },
     "metadata": {},
     "output_type": "display_data"
    },
    {
     "name": "stderr",
     "output_type": "stream",
     "text": [
      "\u001b[32m[I 2022-02-14 06:22:09,448]\u001b[0m Trial 3 finished with value: 0.6827011675686014 and parameters: {'sep_prob': 0.25589088431931795, 'sep_prob2': 0.5884583252706566}. Best is trial 2 with value: 0.7151667698110901.\u001b[0m\n"
     ]
    },
    {
     "data": {
      "application/vnd.jupyter.widget-view+json": {
       "model_id": "199d862256cc496ea6c646176517040a",
       "version_major": 2,
       "version_minor": 0
      },
      "text/plain": [
       "get_preds:   0%|          | 0/15594 [00:00<?, ?it/s]"
      ]
     },
     "metadata": {},
     "output_type": "display_data"
    },
    {
     "data": {
      "application/vnd.jupyter.widget-view+json": {
       "model_id": "9369aafffc7b452eaab88d2ae6b018bd",
       "version_major": 2,
       "version_minor": 0
      },
      "text/plain": [
       "calc_f1:   0%|          | 0/7 [00:00<?, ?it/s]"
      ]
     },
     "metadata": {},
     "output_type": "display_data"
    },
    {
     "name": "stderr",
     "output_type": "stream",
     "text": [
      "\u001b[32m[I 2022-02-14 06:22:26,522]\u001b[0m Trial 4 finished with value: 0.7141765191975369 and parameters: {'sep_prob': 0.49152642532141133, 'sep_prob2': 0.13852180780835377}. Best is trial 2 with value: 0.7151667698110901.\u001b[0m\n"
     ]
    },
    {
     "data": {
      "application/vnd.jupyter.widget-view+json": {
       "model_id": "a09f94898d834b2db0dc1a202d9c1258",
       "version_major": 2,
       "version_minor": 0
      },
      "text/plain": [
       "get_preds:   0%|          | 0/15594 [00:00<?, ?it/s]"
      ]
     },
     "metadata": {},
     "output_type": "display_data"
    },
    {
     "data": {
      "application/vnd.jupyter.widget-view+json": {
       "model_id": "2aac8b0391bf4be59a46bfbe0845f81f",
       "version_major": 2,
       "version_minor": 0
      },
      "text/plain": [
       "calc_f1:   0%|          | 0/7 [00:00<?, ?it/s]"
      ]
     },
     "metadata": {},
     "output_type": "display_data"
    },
    {
     "name": "stderr",
     "output_type": "stream",
     "text": [
      "\u001b[32m[I 2022-02-14 06:22:45,014]\u001b[0m Trial 5 finished with value: 0.6075144971338203 and parameters: {'sep_prob': 0.1142683796677123, 'sep_prob2': 0.8716334754862612}. Best is trial 2 with value: 0.7151667698110901.\u001b[0m\n"
     ]
    },
    {
     "data": {
      "application/vnd.jupyter.widget-view+json": {
       "model_id": "b699434061944ca7be9e4ea63fefbead",
       "version_major": 2,
       "version_minor": 0
      },
      "text/plain": [
       "get_preds:   0%|          | 0/15594 [00:00<?, ?it/s]"
      ]
     },
     "metadata": {},
     "output_type": "display_data"
    },
    {
     "data": {
      "application/vnd.jupyter.widget-view+json": {
       "model_id": "148fdf1a0e0748d5b2320a70654cdbbf",
       "version_major": 2,
       "version_minor": 0
      },
      "text/plain": [
       "calc_f1:   0%|          | 0/7 [00:00<?, ?it/s]"
      ]
     },
     "metadata": {},
     "output_type": "display_data"
    },
    {
     "name": "stderr",
     "output_type": "stream",
     "text": [
      "\u001b[32m[I 2022-02-14 06:23:02,110]\u001b[0m Trial 6 finished with value: 0.7119777474842776 and parameters: {'sep_prob': 0.4462877242110045, 'sep_prob2': 0.794774821405477}. Best is trial 2 with value: 0.7151667698110901.\u001b[0m\n"
     ]
    },
    {
     "data": {
      "application/vnd.jupyter.widget-view+json": {
       "model_id": "b1ef5f5d0c8244d69d32c6736978954e",
       "version_major": 2,
       "version_minor": 0
      },
      "text/plain": [
       "get_preds:   0%|          | 0/15594 [00:00<?, ?it/s]"
      ]
     },
     "metadata": {},
     "output_type": "display_data"
    },
    {
     "data": {
      "application/vnd.jupyter.widget-view+json": {
       "model_id": "1bf0a144f7094bd1ad0b88f1cb124183",
       "version_major": 2,
       "version_minor": 0
      },
      "text/plain": [
       "calc_f1:   0%|          | 0/7 [00:00<?, ?it/s]"
      ]
     },
     "metadata": {},
     "output_type": "display_data"
    },
    {
     "name": "stderr",
     "output_type": "stream",
     "text": [
      "\u001b[32m[I 2022-02-14 06:23:22,304]\u001b[0m Trial 7 finished with value: 0.6645036688153457 and parameters: {'sep_prob': 0.20827865221896402, 'sep_prob2': 0.13835348761622757}. Best is trial 2 with value: 0.7151667698110901.\u001b[0m\n"
     ]
    },
    {
     "data": {
      "application/vnd.jupyter.widget-view+json": {
       "model_id": "79d0680425314e47a567da097c49424e",
       "version_major": 2,
       "version_minor": 0
      },
      "text/plain": [
       "get_preds:   0%|          | 0/15594 [00:00<?, ?it/s]"
      ]
     },
     "metadata": {},
     "output_type": "display_data"
    },
    {
     "data": {
      "application/vnd.jupyter.widget-view+json": {
       "model_id": "1e2c6e71f7d74b1e8e465aeab7e2cbb0",
       "version_major": 2,
       "version_minor": 0
      },
      "text/plain": [
       "calc_f1:   0%|          | 0/7 [00:00<?, ?it/s]"
      ]
     },
     "metadata": {},
     "output_type": "display_data"
    },
    {
     "name": "stderr",
     "output_type": "stream",
     "text": [
      "\u001b[32m[I 2022-02-14 06:23:40,636]\u001b[0m Trial 8 finished with value: 0.6564993463064707 and parameters: {'sep_prob': 0.18796655251753946, 'sep_prob2': 0.364756796235857}. Best is trial 2 with value: 0.7151667698110901.\u001b[0m\n"
     ]
    },
    {
     "data": {
      "application/vnd.jupyter.widget-view+json": {
       "model_id": "802df3e69fa64e5f8eb3dfb4fa46f97c",
       "version_major": 2,
       "version_minor": 0
      },
      "text/plain": [
       "get_preds:   0%|          | 0/15594 [00:00<?, ?it/s]"
      ]
     },
     "metadata": {},
     "output_type": "display_data"
    },
    {
     "data": {
      "application/vnd.jupyter.widget-view+json": {
       "model_id": "13af60bafc254e72a7a44b005827a41d",
       "version_major": 2,
       "version_minor": 0
      },
      "text/plain": [
       "calc_f1:   0%|          | 0/7 [00:00<?, ?it/s]"
      ]
     },
     "metadata": {},
     "output_type": "display_data"
    },
    {
     "name": "stderr",
     "output_type": "stream",
     "text": [
      "\u001b[32m[I 2022-02-14 06:23:57,933]\u001b[0m Trial 9 finished with value: 0.7130974892779488 and parameters: {'sep_prob': 0.46951539675217424, 'sep_prob2': 0.12626667047550888}. Best is trial 2 with value: 0.7151667698110901.\u001b[0m\n"
     ]
    },
    {
     "data": {
      "application/vnd.jupyter.widget-view+json": {
       "model_id": "7d37c858f2cd4e7aa6ca8a6b4588704d",
       "version_major": 2,
       "version_minor": 0
      },
      "text/plain": [
       "get_preds:   0%|          | 0/15594 [00:00<?, ?it/s]"
      ]
     },
     "metadata": {},
     "output_type": "display_data"
    }
   ],
   "source": [
    "def objective(trial):\n",
    "\n",
    "    # for key in proba_thresh:\n",
    "    #   if key != 'Nothing':\n",
    "    #     proba_thresh[key] = trial.suggest_uniform(key, 0., 1.)\n",
    "    \n",
    "    # for i, cls in enumerate(ALL_CLASSES):\n",
    "    #   cls_weights[i] = trial.suggest_float(f'w_{cls}', 0., 1.)\n",
    "    for key in P:\n",
    "      if 'prob' in key:\n",
    "        P[key] = trial.suggest_float(key, 0., 1.)\n",
    "    #   else:\n",
    "    #     if key == 'link_len':\n",
    "    #       P[key] = trial.suggest_int(key, 8, 40)\n",
    "    \n",
    "    # for key in min_thresh:\n",
    "    #   if key != 'Nothing':\n",
    "    #     min_thresh[key] = trial.suggest_int(key, 2, 30)  \n",
    "        \n",
    "    df_pred = get_preds(info, post_adjust=True, folds=50)\n",
    "    res = calc_metrics(df_gt, df_pred)\n",
    "    score = res['f1/Overall']\n",
    "    return score\n",
    "\n",
    "study = optuna.create_study(direction='maximize')\n",
    "study.optimize(objective, n_trials=100)\n",
    "ic(study.best_params)"
   ]
  },
  {
   "cell_type": "code",
   "execution_count": null,
   "metadata": {},
   "outputs": [
    {
     "data": {
      "application/vnd.jupyter.widget-view+json": {
       "model_id": "856b78c4a5c04a9e9aff0c3c5f7955c6",
       "version_major": 2,
       "version_minor": 0
      },
      "text/plain": [
       "get_preds:   0%|          | 0/15594 [00:00<?, ?it/s]"
      ]
     },
     "metadata": {},
     "output_type": "display_data"
    }
   ],
   "source": [
    "df_pred = get_preds(info, post_adjust=True, folds=50)"
   ]
  },
  {
   "cell_type": "code",
   "execution_count": null,
   "metadata": {},
   "outputs": [
    {
     "data": {
      "application/vnd.jupyter.widget-view+json": {
       "model_id": "6d875f2227184bfe85af1b563e66e238",
       "version_major": 2,
       "version_minor": 0
      },
      "text/plain": [
       "calc_f1:   0%|          | 0/7 [00:00<?, ?it/s]"
      ]
     },
     "metadata": {},
     "output_type": "display_data"
    },
    {
     "data": {
      "text/plain": [
       "{'f1/Overall': 0.7183546722089155,\n",
       " 'f1/Claim': 0.6869478661191987,\n",
       " 'acc/Claim': 0.7164702065534768,\n",
       " 'recall/Claim': 0.659762194028959,\n",
       " 'f1/Evidence': 0.7807380738073807,\n",
       " 'acc/Evidence': 0.803575977951224,\n",
       " 'recall/Evidence': 0.7591624182219986,\n",
       " 'f1/Position': 0.7397361690671692,\n",
       " 'acc/Position': 0.7688164521544488,\n",
       " 'recall/Position': 0.7127756160830091,\n",
       " 'f1/Concluding Statement': 0.8725475841874085,\n",
       " 'acc/Concluding Statement': 0.8628203272042855,\n",
       " 'recall/Concluding Statement': 0.8824966681474901,\n",
       " 'f1/Lead': 0.8421675725125114,\n",
       " 'acc/Lead': 0.8434838848765764,\n",
       " 'recall/Lead': 0.8408553621319579,\n",
       " 'f1/Counterclaim': 0.5919241637043113,\n",
       " 'acc/Counterclaim': 0.6301183776440908,\n",
       " 'recall/Counterclaim': 0.5580955654864215,\n",
       " 'f1/Rebuttal': 0.5144212760644276,\n",
       " 'acc/Rebuttal': 0.5611549986379734,\n",
       " 'recall/Rebuttal': 0.47487321346242506}"
      ]
     },
     "execution_count": 21,
     "metadata": {},
     "output_type": "execute_result"
    }
   ],
   "source": [
    "res = calc_metrics(df_gt, df_pred)\n",
    "res"
   ]
  },
  {
   "cell_type": "code",
   "execution_count": null,
   "metadata": {},
   "outputs": [],
   "source": [
    "# res = calc_metrics(df_gt, link_evidence(df_pred))\n",
    "# res"
   ]
  },
  {
   "cell_type": "code",
   "execution_count": null,
   "metadata": {},
   "outputs": [
    {
     "data": {
      "text/plain": [
       "144293"
      ]
     },
     "execution_count": 23,
     "metadata": {},
     "output_type": "execute_result"
    }
   ],
   "source": [
    "len(df_gt)"
   ]
  },
  {
   "cell_type": "code",
   "execution_count": null,
   "metadata": {},
   "outputs": [
    {
     "data": {
      "text/plain": [
       "15594"
      ]
     },
     "execution_count": 24,
     "metadata": {},
     "output_type": "execute_result"
    }
   ],
   "source": [
    "len(info['id'])"
   ]
  },
  {
   "cell_type": "code",
   "execution_count": null,
   "metadata": {},
   "outputs": [],
   "source": []
  },
  {
   "cell_type": "code",
   "execution_count": null,
   "metadata": {},
   "outputs": [],
   "source": []
  }
 ],
 "metadata": {
  "interpreter": {
   "hash": "2e1511501be64c09e2f1eb58c3220ebc9ce84b491d308a480caed250bbb4af51"
  },
  "kernelspec": {
   "display_name": "Python 3.6.13 64-bit (conda)",
   "language": "python",
   "name": "python3"
  },
  "language_info": {
   "codemirror_mode": {
    "name": "ipython",
    "version": 3
   },
   "file_extension": ".py",
   "mimetype": "text/x-python",
   "name": "python",
   "nbconvert_exporter": "python",
   "pygments_lexer": "ipython3",
   "version": "3.7.9"
  },
  "orig_nbformat": 4
 },
 "nbformat": 4,
 "nbformat_minor": 2
}
