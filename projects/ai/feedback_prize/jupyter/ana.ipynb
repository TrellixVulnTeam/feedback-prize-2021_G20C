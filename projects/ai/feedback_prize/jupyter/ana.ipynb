{
 "cells": [
  {
   "cell_type": "code",
   "execution_count": 1,
   "metadata": {},
   "outputs": [
    {
     "name": "stdout",
     "output_type": "stream",
     "text": [
      "No module named 'tensorflow.python.keras.layers.preprocessing'\n"
     ]
    }
   ],
   "source": [
    "import numpy as np\n",
    "import pandas as pd\n",
    "import random\n",
    "import matplotlib.pyplot as plt\n",
    "import plotly.express as px\n",
    "import glob\n",
    "import spacy\n",
    "import sys\n",
    "sys.path.append('../../../../utils')\n",
    "sys.path.append('..')\n",
    "import gezi\n",
    "from gezi import tqdm\n",
    "from src.eval import calc_f1\n",
    "from src.visualize import *\n",
    "from src.config import *\n",
    "from src.util import *\n",
    "pd.set_option('display.float_format', lambda x: '%.2f' % x)"
   ]
  },
  {
   "cell_type": "code",
   "execution_count": 2,
   "metadata": {},
   "outputs": [
    {
     "data": {
      "text/html": [
       "<div>\n",
       "<style scoped>\n",
       "    .dataframe tbody tr th:only-of-type {\n",
       "        vertical-align: middle;\n",
       "    }\n",
       "\n",
       "    .dataframe tbody tr th {\n",
       "        vertical-align: top;\n",
       "    }\n",
       "\n",
       "    .dataframe thead th {\n",
       "        text-align: right;\n",
       "    }\n",
       "</style>\n",
       "<table border=\"1\" class=\"dataframe\">\n",
       "  <thead>\n",
       "    <tr style=\"text-align: right;\">\n",
       "      <th></th>\n",
       "      <th>index</th>\n",
       "      <th>id</th>\n",
       "      <th>text</th>\n",
       "    </tr>\n",
       "  </thead>\n",
       "  <tbody>\n",
       "    <tr>\n",
       "      <th>0</th>\n",
       "      <td>0</td>\n",
       "      <td>4B22D00F9BD7</td>\n",
       "      <td>Students of the United States of America have ...</td>\n",
       "    </tr>\n",
       "    <tr>\n",
       "      <th>1</th>\n",
       "      <td>1</td>\n",
       "      <td>1F8DDCFCA766</td>\n",
       "      <td>Have you ever awoken to the arrogant, angry sh...</td>\n",
       "    </tr>\n",
       "    <tr>\n",
       "      <th>2</th>\n",
       "      <td>2</td>\n",
       "      <td>ED27B5020694</td>\n",
       "      <td>The Battle for Control\\n\\nIn the near future, ...</td>\n",
       "    </tr>\n",
       "    <tr>\n",
       "      <th>3</th>\n",
       "      <td>3</td>\n",
       "      <td>B1AF3AD74555</td>\n",
       "      <td>In the article the author talks about machines...</td>\n",
       "    </tr>\n",
       "    <tr>\n",
       "      <th>4</th>\n",
       "      <td>4</td>\n",
       "      <td>F0B1C389A815</td>\n",
       "      <td>Have you ever needed some dire advice for some...</td>\n",
       "    </tr>\n",
       "  </tbody>\n",
       "</table>\n",
       "</div>"
      ],
      "text/plain": [
       "   index            id                                               text\n",
       "0      0  4B22D00F9BD7  Students of the United States of America have ...\n",
       "1      1  1F8DDCFCA766  Have you ever awoken to the arrogant, angry sh...\n",
       "2      2  ED27B5020694  The Battle for Control\\n\\nIn the near future, ...\n",
       "3      3  B1AF3AD74555  In the article the author talks about machines...\n",
       "4      4  F0B1C389A815  Have you ever needed some dire advice for some..."
      ]
     },
     "execution_count": 2,
     "metadata": {},
     "output_type": "execute_result"
    }
   ],
   "source": [
    "texts_csv = '../input/feedback-prize-2021/texts.fea'\n",
    "df_texts = pd.read_feather(texts_csv)\n",
    "df_texts.head()"
   ]
  },
  {
   "cell_type": "code",
   "execution_count": 3,
   "metadata": {},
   "outputs": [],
   "source": [
    "df_texts['num_words'] = df_texts.text.apply(lambda x: len(x.split()))"
   ]
  },
  {
   "cell_type": "code",
   "execution_count": 4,
   "metadata": {},
   "outputs": [
    {
     "data": {
      "text/html": [
       "<div>\n",
       "<style scoped>\n",
       "    .dataframe tbody tr th:only-of-type {\n",
       "        vertical-align: middle;\n",
       "    }\n",
       "\n",
       "    .dataframe tbody tr th {\n",
       "        vertical-align: top;\n",
       "    }\n",
       "\n",
       "    .dataframe thead th {\n",
       "        text-align: right;\n",
       "    }\n",
       "</style>\n",
       "<table border=\"1\" class=\"dataframe\">\n",
       "  <thead>\n",
       "    <tr style=\"text-align: right;\">\n",
       "      <th></th>\n",
       "      <th>index</th>\n",
       "      <th>num_words</th>\n",
       "    </tr>\n",
       "  </thead>\n",
       "  <tbody>\n",
       "    <tr>\n",
       "      <th>count</th>\n",
       "      <td>15594.00</td>\n",
       "      <td>15594.00</td>\n",
       "    </tr>\n",
       "    <tr>\n",
       "      <th>mean</th>\n",
       "      <td>7796.50</td>\n",
       "      <td>421.26</td>\n",
       "    </tr>\n",
       "    <tr>\n",
       "      <th>std</th>\n",
       "      <td>4501.74</td>\n",
       "      <td>191.07</td>\n",
       "    </tr>\n",
       "    <tr>\n",
       "      <th>min</th>\n",
       "      <td>0.00</td>\n",
       "      <td>144.00</td>\n",
       "    </tr>\n",
       "    <tr>\n",
       "      <th>25%</th>\n",
       "      <td>3898.25</td>\n",
       "      <td>278.00</td>\n",
       "    </tr>\n",
       "    <tr>\n",
       "      <th>50%</th>\n",
       "      <td>7796.50</td>\n",
       "      <td>384.00</td>\n",
       "    </tr>\n",
       "    <tr>\n",
       "      <th>75%</th>\n",
       "      <td>11694.75</td>\n",
       "      <td>520.00</td>\n",
       "    </tr>\n",
       "    <tr>\n",
       "      <th>90%</th>\n",
       "      <td>14033.70</td>\n",
       "      <td>686.00</td>\n",
       "    </tr>\n",
       "    <tr>\n",
       "      <th>99%</th>\n",
       "      <td>15437.07</td>\n",
       "      <td>1016.00</td>\n",
       "    </tr>\n",
       "    <tr>\n",
       "      <th>99.9%</th>\n",
       "      <td>15577.41</td>\n",
       "      <td>1175.44</td>\n",
       "    </tr>\n",
       "    <tr>\n",
       "      <th>max</th>\n",
       "      <td>15593.00</td>\n",
       "      <td>1656.00</td>\n",
       "    </tr>\n",
       "  </tbody>\n",
       "</table>\n",
       "</div>"
      ],
      "text/plain": [
       "         index  num_words\n",
       "count 15594.00   15594.00\n",
       "mean   7796.50     421.26\n",
       "std    4501.74     191.07\n",
       "min       0.00     144.00\n",
       "25%    3898.25     278.00\n",
       "50%    7796.50     384.00\n",
       "75%   11694.75     520.00\n",
       "90%   14033.70     686.00\n",
       "99%   15437.07    1016.00\n",
       "99.9% 15577.41    1175.44\n",
       "max   15593.00    1656.00"
      ]
     },
     "execution_count": 4,
     "metadata": {},
     "output_type": "execute_result"
    }
   ],
   "source": [
    "df_texts.describe([.25,.5,.75,.9,.99,.999])"
   ]
  },
  {
   "cell_type": "code",
   "execution_count": 5,
   "metadata": {},
   "outputs": [
    {
     "data": {
      "text/plain": [
       "100"
      ]
     },
     "execution_count": 5,
     "metadata": {},
     "output_type": "execute_result"
    }
   ],
   "source": [
    "df_texts[df_texts['id']=='D753B3C6BDDA'].text.values[0].count('\\n')"
   ]
  },
  {
   "cell_type": "code",
   "execution_count": 6,
   "metadata": {},
   "outputs": [],
   "source": [
    "v = 44\n",
    "# mn = 'mid.roberta-squad.sm=start'"
   ]
  },
  {
   "cell_type": "code",
   "execution_count": 7,
   "metadata": {},
   "outputs": [],
   "source": [
    "gezi.init_flags()"
   ]
  },
  {
   "cell_type": "code",
   "execution_count": 8,
   "metadata": {},
   "outputs": [
    {
     "ename": "FileNotFoundError",
     "evalue": "[Errno 2] No such file or directory: '../working/offline/44/valid.pkl'",
     "output_type": "error",
     "traceback": [
      "\u001b[0;31m---------------------------------------------------------------------------\u001b[0m",
      "\u001b[0;31mFileNotFoundError\u001b[0m                         Traceback (most recent call last)",
      "\u001b[0;32m/tmp/ipykernel_12346/888225450.py\u001b[0m in \u001b[0;36m<module>\u001b[0;34m\u001b[0m\n\u001b[1;32m      1\u001b[0m \u001b[0;31m# model_dir = f'../working/offline/{v}/0/{mn}'\u001b[0m\u001b[0;34m\u001b[0m\u001b[0;34m\u001b[0m\u001b[0;34m\u001b[0m\u001b[0m\n\u001b[1;32m      2\u001b[0m \u001b[0mmodel_dir\u001b[0m \u001b[0;34m=\u001b[0m \u001b[0;34mf'../working/offline/{v}'\u001b[0m\u001b[0;34m\u001b[0m\u001b[0;34m\u001b[0m\u001b[0m\n\u001b[0;32m----> 3\u001b[0;31m \u001b[0minfo\u001b[0m \u001b[0;34m=\u001b[0m \u001b[0mgezi\u001b[0m\u001b[0;34m.\u001b[0m\u001b[0mload\u001b[0m\u001b[0;34m(\u001b[0m\u001b[0;34mf'{model_dir}/valid.pkl'\u001b[0m\u001b[0;34m)\u001b[0m\u001b[0;34m\u001b[0m\u001b[0;34m\u001b[0m\u001b[0m\n\u001b[0m\u001b[1;32m      4\u001b[0m \u001b[0minfo\u001b[0m\u001b[0;34m.\u001b[0m\u001b[0mkeys\u001b[0m\u001b[0;34m(\u001b[0m\u001b[0;34m)\u001b[0m\u001b[0;34m\u001b[0m\u001b[0;34m\u001b[0m\u001b[0m\n",
      "\u001b[0;32m/work/pikachu/utils/gezi/util.py\u001b[0m in \u001b[0;36mload\u001b[0;34m(filename)\u001b[0m\n\u001b[1;32m   1038\u001b[0m \u001b[0;32mdef\u001b[0m \u001b[0mload\u001b[0m\u001b[0;34m(\u001b[0m\u001b[0mfilename\u001b[0m\u001b[0;34m)\u001b[0m\u001b[0;34m:\u001b[0m\u001b[0;34m\u001b[0m\u001b[0;34m\u001b[0m\u001b[0m\n\u001b[1;32m   1039\u001b[0m   \u001b[0;32mif\u001b[0m \u001b[0mfilename\u001b[0m\u001b[0;34m.\u001b[0m\u001b[0mendswith\u001b[0m\u001b[0;34m(\u001b[0m\u001b[0;34m'.pkl'\u001b[0m\u001b[0;34m)\u001b[0m\u001b[0;34m:\u001b[0m\u001b[0;34m\u001b[0m\u001b[0;34m\u001b[0m\u001b[0m\n\u001b[0;32m-> 1040\u001b[0;31m     \u001b[0;32mreturn\u001b[0m \u001b[0mload_pickle\u001b[0m\u001b[0;34m(\u001b[0m\u001b[0mfilename\u001b[0m\u001b[0;34m)\u001b[0m\u001b[0;34m\u001b[0m\u001b[0;34m\u001b[0m\u001b[0m\n\u001b[0m\u001b[1;32m   1041\u001b[0m   \u001b[0;32melif\u001b[0m \u001b[0mfilename\u001b[0m\u001b[0;34m.\u001b[0m\u001b[0mendswith\u001b[0m\u001b[0;34m(\u001b[0m\u001b[0;34m'.json'\u001b[0m\u001b[0;34m)\u001b[0m\u001b[0;34m:\u001b[0m\u001b[0;34m\u001b[0m\u001b[0;34m\u001b[0m\u001b[0m\n\u001b[1;32m   1042\u001b[0m     \u001b[0;32mreturn\u001b[0m \u001b[0mload_json\u001b[0m\u001b[0;34m(\u001b[0m\u001b[0mfilename\u001b[0m\u001b[0;34m)\u001b[0m\u001b[0;34m\u001b[0m\u001b[0;34m\u001b[0m\u001b[0m\n",
      "\u001b[0;32m/work/pikachu/utils/gezi/util.py\u001b[0m in \u001b[0;36mload_pickle\u001b[0;34m(filename, use_timer)\u001b[0m\n\u001b[1;32m   1011\u001b[0m   \u001b[0;32mif\u001b[0m \u001b[0muse_timer\u001b[0m\u001b[0;34m:\u001b[0m\u001b[0;34m\u001b[0m\u001b[0;34m\u001b[0m\u001b[0m\n\u001b[1;32m   1012\u001b[0m     \u001b[0mtimer\u001b[0m \u001b[0;34m=\u001b[0m \u001b[0mgezi\u001b[0m\u001b[0;34m.\u001b[0m\u001b[0mTimer\u001b[0m\u001b[0;34m(\u001b[0m\u001b[0;34m\"Loading {}...\"\u001b[0m\u001b[0;34m.\u001b[0m\u001b[0mformat\u001b[0m\u001b[0;34m(\u001b[0m\u001b[0mfilename\u001b[0m\u001b[0;34m)\u001b[0m\u001b[0;34m)\u001b[0m\u001b[0;34m\u001b[0m\u001b[0;34m\u001b[0m\u001b[0m\n\u001b[0;32m-> 1013\u001b[0;31m   \u001b[0;32mwith\u001b[0m \u001b[0mopen\u001b[0m\u001b[0;34m(\u001b[0m\u001b[0mfilename\u001b[0m\u001b[0;34m,\u001b[0m \u001b[0;34m'rb'\u001b[0m\u001b[0;34m)\u001b[0m \u001b[0;32mas\u001b[0m \u001b[0mf\u001b[0m\u001b[0;34m:\u001b[0m\u001b[0;34m\u001b[0m\u001b[0;34m\u001b[0m\u001b[0m\n\u001b[0m\u001b[1;32m   1014\u001b[0m     \u001b[0mx\u001b[0m \u001b[0;34m=\u001b[0m \u001b[0mpickle\u001b[0m\u001b[0;34m.\u001b[0m\u001b[0mload\u001b[0m\u001b[0;34m(\u001b[0m\u001b[0mf\u001b[0m\u001b[0;34m)\u001b[0m\u001b[0;34m\u001b[0m\u001b[0;34m\u001b[0m\u001b[0m\n\u001b[1;32m   1015\u001b[0m   \u001b[0;32mif\u001b[0m \u001b[0muse_timer\u001b[0m\u001b[0;34m:\u001b[0m\u001b[0;34m\u001b[0m\u001b[0;34m\u001b[0m\u001b[0m\n",
      "\u001b[0;31mFileNotFoundError\u001b[0m: [Errno 2] No such file or directory: '../working/offline/44/valid.pkl'"
     ]
    }
   ],
   "source": [
    "# model_dir = f'../working/offline/{v}/0/{mn}'\n",
    "model_dir = f'../working/offline/{v}'\n",
    "info = gezi.load(f'{model_dir}/valid.pkl')\n",
    "info.keys()"
   ]
  },
  {
   "cell_type": "code",
   "execution_count": null,
   "metadata": {},
   "outputs": [],
   "source": [
    "# df_pred = get_preds(x, post_adjust=FLAGS.post_adjust)\n",
    "# df_pred = link_evidence(df_pred)"
   ]
  },
  {
   "cell_type": "code",
   "execution_count": null,
   "metadata": {},
   "outputs": [],
   "source": [
    "df_gt = pd.read_csv(f'{model_dir}/valid_gt.csv')\n",
    "df_pred = pd.read_csv(f'{model_dir}/valid_pred.csv')"
   ]
  },
  {
   "cell_type": "code",
   "execution_count": null,
   "metadata": {},
   "outputs": [],
   "source": [
    "def prepare(df, df_texts=None, fast=False):\n",
    "  df['start'] = df.predictionstring.apply(lambda x: int(str(x).split()[0]))\n",
    "  df.sort_values(['id', 'start'], inplace=True)\n",
    "  df = df.reset_index(drop=True)\n",
    "  if 'class' in df.columns:\n",
    "    df.rename({'class': 'discourse_type'}, axis=1, inplace=True)\n",
    "  if fast:\n",
    "    return df\n",
    "  if 'text' in df.columns:\n",
    "    df.drop(['text'], axis=1, inplace=True)\n",
    "  df = pd.merge(df, df_texts, how='left', on='id')\n",
    "  df[\"essay_len\"] = df[\"text\"].apply(lambda x: len(x))\n",
    "  df[\"essay_words\"] = df[\"text\"].apply(lambda x: len(x.split()))\n",
    "  dis_starts, dis_ends = [], []\n",
    "  text_list = []\n",
    "  for row in tqdm(df.itertuples(), total=len(df), desc='vis_prepare1', leave=False):\n",
    "    preds = row.predictionstring.split()\n",
    "    s, e = int(preds[0]), int(preds[-1])\n",
    "    texts = row.text.split()\n",
    "    start = sum([len(x) + 1 for x in texts[:s]])\n",
    "    end = sum([len(x) + 1 for x in texts[:e + 1]])\n",
    "    dis_starts.append(start)\n",
    "    dis_ends.append(end)\n",
    "    text = ' '.join(texts)\n",
    "    text_list.append(text)\n",
    "\n",
    "  df['discourse_start'], df['discourse_end'] = dis_starts, dis_ends\n",
    "  df['text'] = text_list\n",
    "\n",
    "  df['gap_before'] = False\n",
    "  df['gap_length'] = np.nan\n",
    "\n",
    "  #set the first one\n",
    "  df.loc[0, 'gap_before'] = True\n",
    "  df.loc[0, 'gap_length'] = 0\n",
    "  \n",
    "  df['gap_end_length'] = df.essay_len - df.discourse_end\n",
    "\n",
    "  #loop over rest\n",
    "  for i in tqdm(range(1, len(df)), desc='vis_prepare2', leave=False):\n",
    "    #gap if difference is not 1 within an essay\n",
    "    if ((df.loc[i, \"id\"] == df.loc[i-1, \"id\"])\\\n",
    "        and (df.loc[i, \"discourse_start\"] - df.loc[i-1, \"discourse_end\"] > 0)):\n",
    "      df.loc[i, 'gap_before'] = True\n",
    "      df.loc[i,\n",
    "             'gap_length'] = df.loc[i,\n",
    "                                    \"discourse_start\"] - df.loc[i - 1,\n",
    "                                                                \"discourse_end\"]\n",
    "    #gap if the first discourse of an new essay does not start at 0\n",
    "    elif ((df.loc[i, \"id\"] != df.loc[i-1, \"id\"])\\\n",
    "        and (df.loc[i, \"discourse_start\"] != 0)):\n",
    "      df.loc[i, 'gap_before'] = True\n",
    "      df.loc[i, 'gap_length'] = df.loc[i, \"discourse_start\"]\n",
    "\n",
    "  return df"
   ]
  },
  {
   "cell_type": "code",
   "execution_count": null,
   "metadata": {},
   "outputs": [
    {
     "data": {
      "application/vnd.jupyter.widget-view+json": {
       "model_id": "b4d4fed9b7334a0c93d1e284c44d48a1",
       "version_major": 2,
       "version_minor": 0
      },
      "text/plain": [
       "vis_prepare1:   0%|          | 0/144293 [00:00<?, ?it/s]"
      ]
     },
     "metadata": {},
     "output_type": "display_data"
    },
    {
     "data": {
      "application/vnd.jupyter.widget-view+json": {
       "model_id": "7b7d4c54e4254e659c903233caf0e3b1",
       "version_major": 2,
       "version_minor": 0
      },
      "text/plain": [
       "vis_prepare2:   0%|          | 0/144292 [00:00<?, ?it/s]"
      ]
     },
     "metadata": {},
     "output_type": "display_data"
    },
    {
     "data": {
      "application/vnd.jupyter.widget-view+json": {
       "model_id": "793f1e481c11461f852b2adf6104cc61",
       "version_major": 2,
       "version_minor": 0
      },
      "text/plain": [
       "vis_prepare1:   0%|          | 0/137368 [00:00<?, ?it/s]"
      ]
     },
     "metadata": {},
     "output_type": "display_data"
    },
    {
     "data": {
      "application/vnd.jupyter.widget-view+json": {
       "model_id": "9b86cd33cf164d478086b095eca4b38e",
       "version_major": 2,
       "version_minor": 0
      },
      "text/plain": [
       "vis_prepare2:   0%|          | 0/137367 [00:00<?, ?it/s]"
      ]
     },
     "metadata": {},
     "output_type": "display_data"
    }
   ],
   "source": [
    "df_gt = prepare(df_gt, df_texts)\n",
    "df_pred = prepare(df_pred, df_texts)"
   ]
  },
  {
   "cell_type": "code",
   "execution_count": null,
   "metadata": {},
   "outputs": [
    {
     "data": {
      "text/html": [
       "<div>\n",
       "<style scoped>\n",
       "    .dataframe tbody tr th:only-of-type {\n",
       "        vertical-align: middle;\n",
       "    }\n",
       "\n",
       "    .dataframe tbody tr th {\n",
       "        vertical-align: top;\n",
       "    }\n",
       "\n",
       "    .dataframe thead th {\n",
       "        text-align: right;\n",
       "    }\n",
       "</style>\n",
       "<table border=\"1\" class=\"dataframe\">\n",
       "  <thead>\n",
       "    <tr style=\"text-align: right;\">\n",
       "      <th></th>\n",
       "      <th>level_0</th>\n",
       "      <th>index_x</th>\n",
       "      <th>id</th>\n",
       "      <th>discourse_id</th>\n",
       "      <th>discourse_start</th>\n",
       "      <th>discourse_end</th>\n",
       "      <th>discourse_text</th>\n",
       "      <th>discourse_type</th>\n",
       "      <th>discourse_type_num</th>\n",
       "      <th>predictionstring</th>\n",
       "      <th>...</th>\n",
       "      <th>text_</th>\n",
       "      <th>discourse_words</th>\n",
       "      <th>gap_before</th>\n",
       "      <th>gap_length</th>\n",
       "      <th>gap_end_length</th>\n",
       "      <th>discourse_type_id</th>\n",
       "      <th>kfold</th>\n",
       "      <th>num_words</th>\n",
       "      <th>index_y</th>\n",
       "      <th>text</th>\n",
       "    </tr>\n",
       "  </thead>\n",
       "  <tbody>\n",
       "    <tr>\n",
       "      <th>0</th>\n",
       "      <td>59951</td>\n",
       "      <td>59951</td>\n",
       "      <td>0000D23A521A</td>\n",
       "      <td>1617734767734.00</td>\n",
       "      <td>0</td>\n",
       "      <td>170</td>\n",
       "      <td>Some people belive that the so called \"face\" o...</td>\n",
       "      <td>Position</td>\n",
       "      <td>Position 1</td>\n",
       "      <td>0 1 2 3 4 5 6 7 8 9 10 11 12 13 14 15 16 17 18...</td>\n",
       "      <td>...</td>\n",
       "      <td>Some people belive that the so called \"face\" o...</td>\n",
       "      <td>34</td>\n",
       "      <td>True</td>\n",
       "      <td>0.00</td>\n",
       "      <td>1173</td>\n",
       "      <td>3</td>\n",
       "      <td>0</td>\n",
       "      <td>251</td>\n",
       "      <td>99</td>\n",
       "      <td>Some people belive that the so called \"face\" o...</td>\n",
       "    </tr>\n",
       "    <tr>\n",
       "      <th>1</th>\n",
       "      <td>59952</td>\n",
       "      <td>59952</td>\n",
       "      <td>0000D23A521A</td>\n",
       "      <td>1617734782429.00</td>\n",
       "      <td>170</td>\n",
       "      <td>357</td>\n",
       "      <td>It was not created by aliens, and there is no ...</td>\n",
       "      <td>Evidence</td>\n",
       "      <td>Evidence 1</td>\n",
       "      <td>34 35 36 37 38 39 40 41 42 43 44 45 46 47 48 4...</td>\n",
       "      <td>...</td>\n",
       "      <td>Some people belive that the so called \"face\" o...</td>\n",
       "      <td>35</td>\n",
       "      <td>False</td>\n",
       "      <td>nan</td>\n",
       "      <td>986</td>\n",
       "      <td>2</td>\n",
       "      <td>0</td>\n",
       "      <td>251</td>\n",
       "      <td>99</td>\n",
       "      <td>Some people belive that the so called \"face\" o...</td>\n",
       "    </tr>\n",
       "  </tbody>\n",
       "</table>\n",
       "<p>2 rows × 24 columns</p>\n",
       "</div>"
      ],
      "text/plain": [
       "   level_0  index_x            id     discourse_id  discourse_start  \\\n",
       "0    59951    59951  0000D23A521A 1617734767734.00                0   \n",
       "1    59952    59952  0000D23A521A 1617734782429.00              170   \n",
       "\n",
       "   discourse_end                                     discourse_text  \\\n",
       "0            170  Some people belive that the so called \"face\" o...   \n",
       "1            357  It was not created by aliens, and there is no ...   \n",
       "\n",
       "  discourse_type discourse_type_num  \\\n",
       "0       Position         Position 1   \n",
       "1       Evidence         Evidence 1   \n",
       "\n",
       "                                    predictionstring  ...  \\\n",
       "0  0 1 2 3 4 5 6 7 8 9 10 11 12 13 14 15 16 17 18...  ...   \n",
       "1  34 35 36 37 38 39 40 41 42 43 44 45 46 47 48 4...  ...   \n",
       "\n",
       "                                               text_  discourse_words  \\\n",
       "0  Some people belive that the so called \"face\" o...               34   \n",
       "1  Some people belive that the so called \"face\" o...               35   \n",
       "\n",
       "   gap_before  gap_length gap_end_length  discourse_type_id  kfold  num_words  \\\n",
       "0        True        0.00           1173                  3      0        251   \n",
       "1       False         nan            986                  2      0        251   \n",
       "\n",
       "   index_y                                               text  \n",
       "0       99  Some people belive that the so called \"face\" o...  \n",
       "1       99  Some people belive that the so called \"face\" o...  \n",
       "\n",
       "[2 rows x 24 columns]"
      ]
     },
     "execution_count": 11,
     "metadata": {},
     "output_type": "execute_result"
    }
   ],
   "source": [
    "df_gt.head(2)"
   ]
  },
  {
   "cell_type": "code",
   "execution_count": null,
   "metadata": {},
   "outputs": [
    {
     "name": "stderr",
     "output_type": "stream",
     "text": [
      "ic| <ipython-input-12-7b549c361283>:2 in <module>\n",
      "    len(info['id']): 15594\n"
     ]
    },
    {
     "data": {
      "application/vnd.jupyter.widget-view+json": {
       "model_id": "b7f1ae48b4a04972a50156389a135e9a",
       "version_major": 2,
       "version_minor": 0
      },
      "text/plain": [
       "  0%|          | 0/15594 [00:00<?, ?it/s]"
      ]
     },
     "metadata": {},
     "output_type": "display_data"
    },
    {
     "data": {
      "text/html": [
       "<div>\n",
       "<style scoped>\n",
       "    .dataframe tbody tr th:only-of-type {\n",
       "        vertical-align: middle;\n",
       "    }\n",
       "\n",
       "    .dataframe tbody tr th {\n",
       "        vertical-align: top;\n",
       "    }\n",
       "\n",
       "    .dataframe thead th {\n",
       "        text-align: right;\n",
       "    }\n",
       "</style>\n",
       "<table border=\"1\" class=\"dataframe\">\n",
       "  <thead>\n",
       "    <tr style=\"text-align: right;\">\n",
       "      <th></th>\n",
       "      <th>id</th>\n",
       "      <th>start_probs</th>\n",
       "      <th>probs</th>\n",
       "      <th>preds</th>\n",
       "    </tr>\n",
       "  </thead>\n",
       "  <tbody>\n",
       "    <tr>\n",
       "      <th>0</th>\n",
       "      <td>0000D23A521A</td>\n",
       "      <td>[0.28606481193087563, 0.00016431452167259562, ...</td>\n",
       "      <td>[[0.0031465774334546595, 0.0005460000944906803...</td>\n",
       "      <td>[5, 5, 5, 5, 5, 5, 5, 5, 5, 5, 5, 5, 5, 5, 5, ...</td>\n",
       "    </tr>\n",
       "    <tr>\n",
       "      <th>1</th>\n",
       "      <td>00203C45FC55</td>\n",
       "      <td>[0.1095542439099887, 0.0007105170399748789, 0....</td>\n",
       "      <td>[[0.00093990522070121, 0.0008884080641985265, ...</td>\n",
       "      <td>[5, 5, 5, 5, 5, 5, 5, 5, 5, 5, 5, 5, 5, 5, 5, ...</td>\n",
       "    </tr>\n",
       "    <tr>\n",
       "      <th>2</th>\n",
       "      <td>0027FC00C35B</td>\n",
       "      <td>[0.01012457054850018, 0.001643909220106461, 0....</td>\n",
       "      <td>[[0.9793871362500677, 0.002534964256767401, 0....</td>\n",
       "      <td>[0, 0, 0, 5, 5, 5, 5, 5, 5, 5, 5, 5, 5, 5, 5, ...</td>\n",
       "    </tr>\n",
       "    <tr>\n",
       "      <th>3</th>\n",
       "      <td>003CF65C2780</td>\n",
       "      <td>[0.2983003112446299, 0.026230594955785693, 0.0...</td>\n",
       "      <td>[[0.030836693019114347, 0.0013687842098892673,...</td>\n",
       "      <td>[5, 5, 5, 5, 5, 5, 5, 5, 5, 5, 5, 5, 5, 5, 5, ...</td>\n",
       "    </tr>\n",
       "    <tr>\n",
       "      <th>4</th>\n",
       "      <td>004AC288D833</td>\n",
       "      <td>[0.004916196756978211, 0.00012620873224900676,...</td>\n",
       "      <td>[[0.9967266029487862, 0.00031348658410261846, ...</td>\n",
       "      <td>[0, 0, 3, 3, 3, 3, 3, 3, 3, 1, 1, 0, 1, 1, 1, ...</td>\n",
       "    </tr>\n",
       "    <tr>\n",
       "      <th>...</th>\n",
       "      <td>...</td>\n",
       "      <td>...</td>\n",
       "      <td>...</td>\n",
       "      <td>...</td>\n",
       "    </tr>\n",
       "    <tr>\n",
       "      <th>15589</th>\n",
       "      <td>FF7ADCC6146A</td>\n",
       "      <td>[0.8113365192221603, 0.00047377420895714574, 0...</td>\n",
       "      <td>[[0.006370559157203906, 0.002540922558797743, ...</td>\n",
       "      <td>[3, 3, 3, 3, 3, 3, 3, 3, 3, 3, 3, 3, 3, 3, 3, ...</td>\n",
       "    </tr>\n",
       "    <tr>\n",
       "      <th>15590</th>\n",
       "      <td>FF7E2F5C21CC</td>\n",
       "      <td>[0.19175138065983924, 0.00150794988838485, 0.0...</td>\n",
       "      <td>[[0.009723777752182847, 0.0007278612741582868,...</td>\n",
       "      <td>[5, 5, 5, 5, 5, 5, 5, 5, 5, 5, 5, 5, 5, 5, 5, ...</td>\n",
       "    </tr>\n",
       "    <tr>\n",
       "      <th>15591</th>\n",
       "      <td>FF9DB9D43F72</td>\n",
       "      <td>[0.20325322002703516, 0.0007575317558971834, 0...</td>\n",
       "      <td>[[0.005740019427871671, 0.0013193050396426013,...</td>\n",
       "      <td>[5, 5, 5, 5, 5, 5, 5, 5, 5, 5, 5, 5, 5, 5, 5, ...</td>\n",
       "    </tr>\n",
       "    <tr>\n",
       "      <th>15592</th>\n",
       "      <td>FFBA3014CDC7</td>\n",
       "      <td>[0.11517521184020374, 0.0015696905791034764, 0...</td>\n",
       "      <td>[[0.005283370620790963, 0.000512157318425365, ...</td>\n",
       "      <td>[5, 5, 5, 5, 5, 5, 5, 5, 5, 5, 5, 5, 5, 5, 5, ...</td>\n",
       "    </tr>\n",
       "    <tr>\n",
       "      <th>15593</th>\n",
       "      <td>FFF1ED4F8544</td>\n",
       "      <td>[0.10560737328206792, 0.00032862493543422, 0.0...</td>\n",
       "      <td>[[0.002137865710955587, 0.0007887287993451135,...</td>\n",
       "      <td>[5, 5, 5, 5, 5, 5, 5, 5, 5, 5, 5, 5, 5, 5, 5, ...</td>\n",
       "    </tr>\n",
       "  </tbody>\n",
       "</table>\n",
       "<p>15594 rows × 4 columns</p>\n",
       "</div>"
      ],
      "text/plain": [
       "                 id                                        start_probs  \\\n",
       "0      0000D23A521A  [0.28606481193087563, 0.00016431452167259562, ...   \n",
       "1      00203C45FC55  [0.1095542439099887, 0.0007105170399748789, 0....   \n",
       "2      0027FC00C35B  [0.01012457054850018, 0.001643909220106461, 0....   \n",
       "3      003CF65C2780  [0.2983003112446299, 0.026230594955785693, 0.0...   \n",
       "4      004AC288D833  [0.004916196756978211, 0.00012620873224900676,...   \n",
       "...             ...                                                ...   \n",
       "15589  FF7ADCC6146A  [0.8113365192221603, 0.00047377420895714574, 0...   \n",
       "15590  FF7E2F5C21CC  [0.19175138065983924, 0.00150794988838485, 0.0...   \n",
       "15591  FF9DB9D43F72  [0.20325322002703516, 0.0007575317558971834, 0...   \n",
       "15592  FFBA3014CDC7  [0.11517521184020374, 0.0015696905791034764, 0...   \n",
       "15593  FFF1ED4F8544  [0.10560737328206792, 0.00032862493543422, 0.0...   \n",
       "\n",
       "                                                   probs  \\\n",
       "0      [[0.0031465774334546595, 0.0005460000944906803...   \n",
       "1      [[0.00093990522070121, 0.0008884080641985265, ...   \n",
       "2      [[0.9793871362500677, 0.002534964256767401, 0....   \n",
       "3      [[0.030836693019114347, 0.0013687842098892673,...   \n",
       "4      [[0.9967266029487862, 0.00031348658410261846, ...   \n",
       "...                                                  ...   \n",
       "15589  [[0.006370559157203906, 0.002540922558797743, ...   \n",
       "15590  [[0.009723777752182847, 0.0007278612741582868,...   \n",
       "15591  [[0.005740019427871671, 0.0013193050396426013,...   \n",
       "15592  [[0.005283370620790963, 0.000512157318425365, ...   \n",
       "15593  [[0.002137865710955587, 0.0007887287993451135,...   \n",
       "\n",
       "                                                   preds  \n",
       "0      [5, 5, 5, 5, 5, 5, 5, 5, 5, 5, 5, 5, 5, 5, 5, ...  \n",
       "1      [5, 5, 5, 5, 5, 5, 5, 5, 5, 5, 5, 5, 5, 5, 5, ...  \n",
       "2      [0, 0, 0, 5, 5, 5, 5, 5, 5, 5, 5, 5, 5, 5, 5, ...  \n",
       "3      [5, 5, 5, 5, 5, 5, 5, 5, 5, 5, 5, 5, 5, 5, 5, ...  \n",
       "4      [0, 0, 3, 3, 3, 3, 3, 3, 3, 1, 1, 0, 1, 1, 1, ...  \n",
       "...                                                  ...  \n",
       "15589  [3, 3, 3, 3, 3, 3, 3, 3, 3, 3, 3, 3, 3, 3, 3, ...  \n",
       "15590  [5, 5, 5, 5, 5, 5, 5, 5, 5, 5, 5, 5, 5, 5, 5, ...  \n",
       "15591  [5, 5, 5, 5, 5, 5, 5, 5, 5, 5, 5, 5, 5, 5, 5, ...  \n",
       "15592  [5, 5, 5, 5, 5, 5, 5, 5, 5, 5, 5, 5, 5, 5, 5, ...  \n",
       "15593  [5, 5, 5, 5, 5, 5, 5, 5, 5, 5, 5, 5, 5, 5, 5, ...  \n",
       "\n",
       "[15594 rows x 4 columns]"
      ]
     },
     "execution_count": 12,
     "metadata": {},
     "output_type": "execute_result"
    }
   ],
   "source": [
    "l = []\n",
    "ic(len(info['id']))\n",
    "infos = {}\n",
    "for i in tqdm(range(len(info['id']))):\n",
    "  id = info['id'][i]\n",
    "  m = {\n",
    "    'id': info['id'][i],\n",
    "    'start_probs': info['start_probs'][i][:,1],\n",
    "    'probs': info['probs'][i],\n",
    "    'preds': info['preds'][i]\n",
    "  }\n",
    "  infos[id] = m\n",
    "  l.append(m) \n",
    "d = pd.DataFrame(l)\n",
    "d"
   ]
  },
  {
   "cell_type": "code",
   "execution_count": null,
   "metadata": {},
   "outputs": [],
   "source": [
    "trans = pd.read_feather(f'../input/feedback-prize-2021/zh-cn.fea')"
   ]
  },
  {
   "cell_type": "code",
   "execution_count": null,
   "metadata": {},
   "outputs": [
    {
     "data": {
      "text/html": [
       "<div>\n",
       "<style scoped>\n",
       "    .dataframe tbody tr th:only-of-type {\n",
       "        vertical-align: middle;\n",
       "    }\n",
       "\n",
       "    .dataframe tbody tr th {\n",
       "        vertical-align: top;\n",
       "    }\n",
       "\n",
       "    .dataframe thead th {\n",
       "        text-align: right;\n",
       "    }\n",
       "</style>\n",
       "<table border=\"1\" class=\"dataframe\">\n",
       "  <thead>\n",
       "    <tr style=\"text-align: right;\">\n",
       "      <th></th>\n",
       "      <th>id</th>\n",
       "      <th>mid</th>\n",
       "      <th>para_type</th>\n",
       "    </tr>\n",
       "  </thead>\n",
       "  <tbody>\n",
       "    <tr>\n",
       "      <th>0</th>\n",
       "      <td>0000D23A521A</td>\n",
       "      <td>[有些人认为火星上所谓的“脸”是由火星的生命创造的。不是这种情况。火星上的面孔是一种叫做梅萨...</td>\n",
       "      <td>[3, 2, 2, 1, 6, 7, 2, 4]</td>\n",
       "    </tr>\n",
       "    <tr>\n",
       "      <th>1</th>\n",
       "      <td>00066EA9880D</td>\n",
       "      <td>[无人驾驶汽车对他们所期望的东西更加激烈。在没有一个人的情况下驾驶的汽车实际上是在车轮上控制...</td>\n",
       "      <td>[5, 3, 0, 1, 2, 1, 2, 0, 1, 2, 4]</td>\n",
       "    </tr>\n",
       "    <tr>\n",
       "      <th>2</th>\n",
       "      <td>000E6DE9E817</td>\n",
       "      <td>[[NONE], 我争论政策变革, [NONE], 尽管有一些孩子在那里真的需要帮助他们的学...</td>\n",
       "      <td>[0, 3, 0, 6, 7, 2, 0, 1, 2, 1, 0, 1, 0, 1, 0, ...</td>\n",
       "    </tr>\n",
       "    <tr>\n",
       "      <th>3</th>\n",
       "      <td>001552828BD0</td>\n",
       "      <td>[你能给你的车吗？不得不在公共汽车上骑陌生人来减少污染。驾驶汽车后，您能够支付罚款吗？[BR...</td>\n",
       "      <td>[5, 2, 1, 1, 2, 1, 2, 1, 2, 3]</td>\n",
       "    </tr>\n",
       "    <tr>\n",
       "      <th>4</th>\n",
       "      <td>0016926B079C</td>\n",
       "      <td>[我认为学生将从家里学习，因为, 他们不会改变和, 早上起床淋浴，在那里做头发。, 只有课程...</td>\n",
       "      <td>[3, 1, 1, 0, 1, 1, 2, 1, 2, 1, 1, 2]</td>\n",
       "    </tr>\n",
       "  </tbody>\n",
       "</table>\n",
       "</div>"
      ],
      "text/plain": [
       "             id                                                mid  \\\n",
       "0  0000D23A521A  [有些人认为火星上所谓的“脸”是由火星的生命创造的。不是这种情况。火星上的面孔是一种叫做梅萨...   \n",
       "1  00066EA9880D  [无人驾驶汽车对他们所期望的东西更加激烈。在没有一个人的情况下驾驶的汽车实际上是在车轮上控制...   \n",
       "2  000E6DE9E817  [[NONE], 我争论政策变革, [NONE], 尽管有一些孩子在那里真的需要帮助他们的学...   \n",
       "3  001552828BD0  [你能给你的车吗？不得不在公共汽车上骑陌生人来减少污染。驾驶汽车后，您能够支付罚款吗？[BR...   \n",
       "4  0016926B079C  [我认为学生将从家里学习，因为, 他们不会改变和, 早上起床淋浴，在那里做头发。, 只有课程...   \n",
       "\n",
       "                                           para_type  \n",
       "0                           [3, 2, 2, 1, 6, 7, 2, 4]  \n",
       "1                  [5, 3, 0, 1, 2, 1, 2, 0, 1, 2, 4]  \n",
       "2  [0, 3, 0, 6, 7, 2, 0, 1, 2, 1, 0, 1, 0, 1, 0, ...  \n",
       "3                     [5, 2, 1, 1, 2, 1, 2, 1, 2, 3]  \n",
       "4               [3, 1, 1, 0, 1, 1, 2, 1, 2, 1, 1, 2]  "
      ]
     },
     "execution_count": 14,
     "metadata": {},
     "output_type": "execute_result"
    }
   ],
   "source": [
    "trans.head()"
   ]
  },
  {
   "cell_type": "code",
   "execution_count": null,
   "metadata": {},
   "outputs": [
    {
     "data": {
      "text/plain": [
       "100"
      ]
     },
     "execution_count": 15,
     "metadata": {},
     "output_type": "execute_result"
    }
   ],
   "source": [
    "df_gt[df_gt['id']=='D753B3C6BDDA'].text_.values[0].count('\\n')"
   ]
  },
  {
   "cell_type": "code",
   "execution_count": null,
   "metadata": {},
   "outputs": [
    {
     "data": {
      "text/plain": [
       "array(['卢克的观点[BR] [BR]', '“来吧！请加入我！”我求。“这会很有趣！”[BR] [BR]',\n",
       "       '“不，我不想。看起来很无聊。”萨姆说。[BR] [BR]“唐和我正在这样做。你想帮助有需要的人吗？”我说。[BR] [BR]“这件事怎么样，我会在我的父母那里谈论它，看看他们的想法，那么我会做出最终决定。好吗？”他解释道。[BR] [BR]“好的。明天在3岁的大树见到我。”我们双手走了。[BR] [BR]我真的希望Sam会同意。[BR] [BR]我们就像三个月斯科特！我想。[BR] [BR]唐，山姆，我是最好的朋友，因为我能记得。唐已经是我的邻居，所以当山姆在一对夫妇中搬到了众议院时，我们决定开始成为朋友的朋友。我很高兴我们做到了。[BR] [BR]唐，我现在一直待了一会儿，我们是一个刹车的家。我们唯一的使命虽然回家是试图让人们加入。我们已经有了一对夫妇，但我们需要更多。',\n",
       "       '总有工作要在船上完成。[BR] [BR]',\n",
       "       '“嗨妈妈。”我说走进厨房。 “晚餐闻起来很好。” [BR] [BR]“好。你今天过得怎么样？”她问。 “任何人都招募？” [BR] [BR]“仍然在山姆。他说他明天会告诉我他的最后答案。”我告诉她了。 [BR] [BR]我们吃了晚餐，然后清洗了菜肴。 [sep] [sep]“妈妈，如果我回到城里，它是好吗？”我问。 [BR] [BR]“当然。只是在黑暗之前回来。” [BR] [BR]我去了公共领域，因为这次在这时吃了很多人吃，和动物一起玩耍，或者小孩子们在跑去。我走进普通和肯定，人们在那里。 [BR] [BR]当我走路时，我觉得我的背部拍了一下。 [BR] [BR]“看起来我们有同样的想法，卢克！”这是唐。 [BR] [BR]“是的！很高兴你在这里。你有人得到了吗？”我问。 [BR] [BR]“是的。实际上。那些男人坐在那边说话。”他指着3个人在长凳上聊天。 [BR] [BR]“好工作！”我致意了他。 “山姆和我明天在大树见到他的最终决定。他说他今晚要和父母一起谈谈。” [sep] [sep]“哦，好。让我们去更多的人。”他回答。 [BR] [BR]“你好”。我对我这个年龄周围的一个男人抚摸着他的狗。 “我和未经撤退的小组，”海上牛仔“和我想知道你是否对此感兴趣。” [sep] [sep]“你好，并肯定。告诉我它。”他说，带着一种微笑。 [BR] [BR]',\n",
       "       '“联合国救济和康复管理局以及我们所做的是什么是联合国救济和康复管理局，以船只对不同的地方。例如，我们去了希腊并卸下了。我们携带马，年轻奶牛和骡子。',\n",
       "       '我们也有空闲时间在船上。', '我们做乒乓球锦标赛，击剑，拳击，阅读，惠特，我们可以打排球和棒球。“我解释说。[BR] [BR]',\n",
       "       '“这听起来非常出境！”我在哪里注册？“他散发出来。[BR] [BR]我递给他一篇论文。”把你的地址，名字和姓氏，和这里的年龄。我们在一个星期内留下了摇头，所以在几天里，有人会出现，如果你被起草或没有。“[sep] [sep] [sep]”谢谢！“他在签字后签字后说。[SEP ] [BR]它变得黑暗，所以不要一起回家。我们谈到了像我们可能去窝那样的小东西，我们将继续这样做，我们也谈到了我们可能想要的其他工作。 [BR] [BR]我回到了我的房间。这是漫长的一天，所以我很快就去睡觉了。[BR] [BR]我醒来的是阳光下挡住了我的房间。该房子已经闻起来像蓝莓松饼。[sep] [sep]“善良的，甜心。”我妈妈迎接了。[sep] [sep]“早上好，妈妈早上好。松饼闻起来很好。“我说。[BR] [BR]”吃掉了。“她用2个松饼放一盘。我很快就吞噬了他们。[BR] [BR]在3我见过山姆他的审美机构。我希望他决定这样做。“我说。 [BR] [BR]“我也是。这三个人来说很有趣。” [BR] [BR]稍后我拿走了所有人所遇到的所有人的论文。他住在镇上。我花了大约10分钟才能到达那里。 [BR] [BR]我敲了敲他的门。 [BR] [BR]“你好卢克！”他说。 [sep] [sep]“嘿凯尔先生。我给你带来了更多的人论文。”我告诉他了。 [sep] [sep]“很棒！”我现在就会透过他们。“他惊呼。[BR] [BR]”我今天晚些时候也会再次。“我说，退出了。[BR] [BR]”很棒。回来让我知道，好吗？他笑了。 [sep] [sep]“会做。”我走回了人行道。 [BR] [BR]我去了图书馆，市场，谷仓只是为了杀死时间。它最终变成了3个，所以我走到了大树。山姆已经在那里了。 [sep] [sep]“嘿山姆！”我迎接了他。 [BR] [BR]“我会这样做！”他喊道。 [sep] [sep]真的？“我问。 [BR] [BR]“是的。”他回答。 [sep] [sep]“很棒！”我们去凯尔先生。“我说。'],\n",
       "      dtype=object)"
      ]
     },
     "execution_count": 16,
     "metadata": {},
     "output_type": "execute_result"
    }
   ],
   "source": [
    "trans[trans['id']=='D753B3C6BDDA'].mid.values[0]"
   ]
  },
  {
   "cell_type": "code",
   "execution_count": null,
   "metadata": {},
   "outputs": [],
   "source": [
    "def visulize(essay):\n",
    "  y = df_gt[df_gt['id']==essay]\n",
    "  y_ = df_pred[df_pred['id']==essay]\n",
    "  res = {}\n",
    "  f1s = []\n",
    "  CLASSES = list(id2dis.values())[1:] \n",
    "  for c in CLASSES:\n",
    "    try:\n",
    "      ret = calc_f1(y[y['discourse_type'] == c],\n",
    "                   y_[y_['discourse_type'] == c], return_dict=True)\n",
    "      res[c] = ret['f1']\n",
    "      # res[f'{c}/acc'] = ret['acc']\n",
    "      # res[f'{c}/recall'] = ret['recall']\n",
    "      f1s.append(ret['f1'])\n",
    "    except Exception:\n",
    "      pass\n",
    "  res['Overall'] = np.mean(f1s)\n",
    "  gezi.pprint_dict(res)\n",
    "  visulize_df(df_gt, essay)\n",
    "  if len(y_):\n",
    "    visulize_df(df_pred, essay)\n",
    "  text1 = y.text_.values[0]\n",
    "  ENTER = '@@'\n",
    "  text = text1.replace('\\n', ENTER)\n",
    "  l = []\n",
    "  \n",
    "  print(essay)\n",
    "  text_cn_ = trans[trans['id']==essay]\n",
    "  para_types = [id2dis[x] for x in text_cn_.para_type.values[0]]\n",
    "  text_cn = list(zip(list(text_cn_.mid.values[0]), para_types))\n",
    "  ic(text_cn)\n",
    "  # print(text)\n",
    "  \n",
    "  words = text1.split()\n",
    "  start_probs = infos[essay]['start_probs']\n",
    "  start_probs = ['%.2f' % x for x in start_probs]\n",
    "  token_probs = infos[essay]['probs']\n",
    "  tokens = np.argmax(token_probs, -1)\n",
    "  max_probs = token_probs.max(-1)\n",
    "  max_probs = ['%.2f' % x for x in max_probs]\n",
    "  # tokens = [id2dis[x] for x in tokens]\n",
    "  print(list(zip(words, start_probs, tokens, max_probs)))\n",
    "vis = visulize"
   ]
  },
  {
   "cell_type": "code",
   "execution_count": null,
   "metadata": {},
   "outputs": [],
   "source": [
    "# B3DCC9D9797B \n",
    "# D753B3C6BDDA"
   ]
  },
  {
   "cell_type": "code",
   "execution_count": null,
   "metadata": {},
   "outputs": [
    {
     "name": "stdout",
     "output_type": "stream",
     "text": [
      "\n",
      " +---------+------------+------------+------------------------+--------+----------------+------------+-----------+\n",
      "|   Claim |   Evidence |   Position |   Concluding Statement |   Lead |   Counterclaim |   Rebuttal |   Overall |\n",
      "|---------+------------+------------+------------------------+--------+----------------+------------+-----------|\n",
      "|       0 |        0.4 |          0 |                      1 |      0 |              1 |          0 |    0.3429 |\n",
      "+---------+------------+------------+------------------------+--------+----------------+------------+-----------+\n"
     ]
    },
    {
     "data": {
      "text/html": [
       "<span class=\"tex2jax_ignore\"><div class=\"entities\" style=\"line-height: 2.5; direction: ltr\">\n",
       "<mark class=\"entity\" style=\"background: #AB4DE1; padding: 0.45em 0.6em; margin: 0 0.25em; line-height: 1; border-radius: 0.35em;\">\n",
       "    Some people belive that the so called &quot;face&quot; on mars was created by life on mars. This is not the case. The face on Mars is a naturally occuring land form called a mesa. \n",
       "    <span style=\"font-size: 0.8em; font-weight: bold; line-height: 1; border-radius: 0.35em; vertical-align: middle; margin-left: 0.5rem\">Position</span>\n",
       "</mark>\n",
       "\n",
       "<mark class=\"entity\" style=\"background: #33FAFA; padding: 0.45em 0.6em; margin: 0 0.25em; line-height: 1; border-radius: 0.35em;\">\n",
       "    It was not created by aliens, and there is no consiracy to hide alien lifeforms on mars. There is no evidence that NASA has found that even suggests that this face was created by aliens. \n",
       "    <span style=\"font-size: 0.8em; font-weight: bold; line-height: 1; border-radius: 0.35em; vertical-align: middle; margin-left: 0.5rem\">Evidence</span>\n",
       "</mark>\n",
       "\n",
       "<mark class=\"entity\" style=\"background: #33FAFA; padding: 0.45em 0.6em; margin: 0 0.25em; line-height: 1; border-radius: 0.35em;\">\n",
       "    A mesa is a naturally occuring rock formation, that is found on Mars and Earth. \n",
       "    <span style=\"font-size: 0.8em; font-weight: bold; line-height: 1; border-radius: 0.35em; vertical-align: middle; margin-left: 0.5rem\">Evidence</span>\n",
       "</mark>\n",
       "\n",
       "<mark class=\"entity\" style=\"background: #1EDE71; padding: 0.45em 0.6em; margin: 0 0.25em; line-height: 1; border-radius: 0.35em;\">\n",
       "    This &quot;face&quot; on mars only looks like a face because humans tend to see faces wherever we look, humans are obviously extremely social, which is why our brain is designed to recognize faces. \n",
       "    <span style=\"font-size: 0.8em; font-weight: bold; line-height: 1; border-radius: 0.35em; vertical-align: middle; margin-left: 0.5rem\">Claim</span>\n",
       "</mark>\n",
       "\n",
       "<mark class=\"entity\" style=\"background: #4253C1; padding: 0.45em 0.6em; margin: 0 0.25em; line-height: 1; border-radius: 0.35em;\">\n",
       "    Many conspiracy theorists believe that NASA is hiding life on Mars from the rest of the world. \n",
       "    <span style=\"font-size: 0.8em; font-weight: bold; line-height: 1; border-radius: 0.35em; vertical-align: middle; margin-left: 0.5rem\">Counterclaim</span>\n",
       "</mark>\n",
       "\n",
       "<mark class=\"entity\" style=\"background: red; padding: 0.45em 0.6em; margin: 0 0.25em; line-height: 1; border-radius: 0.35em;\">\n",
       "    These people would be very wrong. If NASA found life on Mars, then they would get millions of people's attention. \n",
       "    <span style=\"font-size: 0.8em; font-weight: bold; line-height: 1; border-radius: 0.35em; vertical-align: middle; margin-left: 0.5rem\">Rebuttal</span>\n",
       "</mark>\n",
       "\n",
       "<mark class=\"entity\" style=\"background: #33FAFA; padding: 0.45em 0.6em; margin: 0 0.25em; line-height: 1; border-radius: 0.35em;\">\n",
       "    NASA's budget would increase drasticly, which means that their workers would get paid more. There is no good reason that NASA would hide life on Mars from the rest of the world. \n",
       "    <span style=\"font-size: 0.8em; font-weight: bold; line-height: 1; border-radius: 0.35em; vertical-align: middle; margin-left: 0.5rem\">Evidence</span>\n",
       "</mark>\n",
       "\n",
       "<mark class=\"entity\" style=\"background: yellow; padding: 0.45em 0.6em; margin: 0 0.25em; line-height: 1; border-radius: 0.35em;\">\n",
       "    So, NASA is not hiding life on Mars from us, and they are not trying to trick us into thinking that the &quot;face&quot; on mars is just a mesa, because it actually is. NASA hiding life would be illogical, because if they found life on Mars, they would make a lot of money, and we all know that the people at NASA aren't illogical people.\n",
       "    <span style=\"font-size: 0.8em; font-weight: bold; line-height: 1; border-radius: 0.35em; vertical-align: middle; margin-left: 0.5rem\">Concluding Statement</span>\n",
       "</mark>\n",
       "\n",
       "<mark class=\"entity\" style=\"background: #ddd; padding: 0.45em 0.6em; margin: 0 0.25em; line-height: 1; border-radius: 0.35em;\">\n",
       "    \n",
       "    <span style=\"font-size: 0.8em; font-weight: bold; line-height: 1; border-radius: 0.35em; vertical-align: middle; margin-left: 0.5rem\">Nothing</span>\n",
       "</mark>\n",
       "</div></span>"
      ],
      "text/plain": [
       "<IPython.core.display.HTML object>"
      ]
     },
     "metadata": {},
     "output_type": "display_data"
    },
    {
     "data": {
      "text/html": [
       "<span class=\"tex2jax_ignore\"><div class=\"entities\" style=\"line-height: 2.5; direction: ltr\">\n",
       "<mark class=\"entity\" style=\"background: #EE11D0; padding: 0.45em 0.6em; margin: 0 0.25em; line-height: 1; border-radius: 0.35em;\">\n",
       "    Some people belive that the so called &quot;face&quot; on mars was created by life on mars. This is not the case. \n",
       "    <span style=\"font-size: 0.8em; font-weight: bold; line-height: 1; border-radius: 0.35em; vertical-align: middle; margin-left: 0.5rem\">Lead</span>\n",
       "</mark>\n",
       "\n",
       "<mark class=\"entity\" style=\"background: #AB4DE1; padding: 0.45em 0.6em; margin: 0 0.25em; line-height: 1; border-radius: 0.35em;\">\n",
       "    The face on Mars is a naturally occuring land form called a mesa. \n",
       "    <span style=\"font-size: 0.8em; font-weight: bold; line-height: 1; border-radius: 0.35em; vertical-align: middle; margin-left: 0.5rem\">Position</span>\n",
       "</mark>\n",
       "\n",
       "<mark class=\"entity\" style=\"background: #1EDE71; padding: 0.45em 0.6em; margin: 0 0.25em; line-height: 1; border-radius: 0.35em;\">\n",
       "    It was not created by aliens, and there is no consiracy to hide alien lifeforms on mars. \n",
       "    <span style=\"font-size: 0.8em; font-weight: bold; line-height: 1; border-radius: 0.35em; vertical-align: middle; margin-left: 0.5rem\">Claim</span>\n",
       "</mark>\n",
       "\n",
       "<mark class=\"entity\" style=\"background: #ddd; padding: 0.45em 0.6em; margin: 0 0.25em; line-height: 1; border-radius: 0.35em;\">\n",
       "    There is no evidence that NASA has found that even suggests that this face was created by aliens. \n",
       "    <span style=\"font-size: 0.8em; font-weight: bold; line-height: 1; border-radius: 0.35em; vertical-align: middle; margin-left: 0.5rem\">Nothing</span>\n",
       "</mark>\n",
       "\n",
       "<mark class=\"entity\" style=\"background: #1EDE71; padding: 0.45em 0.6em; margin: 0 0.25em; line-height: 1; border-radius: 0.35em;\">\n",
       "    A mesa is a naturally occuring rock formation, that is found on Mars and Earth. \n",
       "    <span style=\"font-size: 0.8em; font-weight: bold; line-height: 1; border-radius: 0.35em; vertical-align: middle; margin-left: 0.5rem\">Claim</span>\n",
       "</mark>\n",
       "\n",
       "<mark class=\"entity\" style=\"background: #33FAFA; padding: 0.45em 0.6em; margin: 0 0.25em; line-height: 1; border-radius: 0.35em;\">\n",
       "    This &quot;face&quot; on mars only looks like a face because humans tend to see faces wherever we look, humans are obviously extremely social, which is why our brain is designed to recognize faces. \n",
       "    <span style=\"font-size: 0.8em; font-weight: bold; line-height: 1; border-radius: 0.35em; vertical-align: middle; margin-left: 0.5rem\">Evidence</span>\n",
       "</mark>\n",
       "\n",
       "<mark class=\"entity\" style=\"background: #4253C1; padding: 0.45em 0.6em; margin: 0 0.25em; line-height: 1; border-radius: 0.35em;\">\n",
       "    Many conspiracy theorists believe that NASA is hiding life on Mars from the rest of the world. \n",
       "    <span style=\"font-size: 0.8em; font-weight: bold; line-height: 1; border-radius: 0.35em; vertical-align: middle; margin-left: 0.5rem\">Counterclaim</span>\n",
       "</mark>\n",
       "\n",
       "<mark class=\"entity\" style=\"background: red; padding: 0.45em 0.6em; margin: 0 0.25em; line-height: 1; border-radius: 0.35em;\">\n",
       "    These people would be very wrong. If \n",
       "    <span style=\"font-size: 0.8em; font-weight: bold; line-height: 1; border-radius: 0.35em; vertical-align: middle; margin-left: 0.5rem\">Rebuttal</span>\n",
       "</mark>\n",
       "\n",
       "<mark class=\"entity\" style=\"background: #33FAFA; padding: 0.45em 0.6em; margin: 0 0.25em; line-height: 1; border-radius: 0.35em;\">\n",
       "    NASA found life on Mars, then they would get millions of people's attention. NASA's budget would increase drasticly, which means that their workers would get paid more. There is no good reason that NASA would hide life on Mars from the rest of the world. \n",
       "    <span style=\"font-size: 0.8em; font-weight: bold; line-height: 1; border-radius: 0.35em; vertical-align: middle; margin-left: 0.5rem\">Evidence</span>\n",
       "</mark>\n",
       "\n",
       "<mark class=\"entity\" style=\"background: yellow; padding: 0.45em 0.6em; margin: 0 0.25em; line-height: 1; border-radius: 0.35em;\">\n",
       "    So, NASA is not hiding life on Mars from us, and they are not trying to trick us into thinking that the &quot;face&quot; on mars is just a mesa, because it actually is. NASA hiding life would be illogical, because if they found life on Mars, they would make a lot of money, and we all know that the people at NASA aren't illogical people.\n",
       "    <span style=\"font-size: 0.8em; font-weight: bold; line-height: 1; border-radius: 0.35em; vertical-align: middle; margin-left: 0.5rem\">Concluding Statement</span>\n",
       "</mark>\n",
       "\n",
       "<mark class=\"entity\" style=\"background: #ddd; padding: 0.45em 0.6em; margin: 0 0.25em; line-height: 1; border-radius: 0.35em;\">\n",
       "    \n",
       "    <span style=\"font-size: 0.8em; font-weight: bold; line-height: 1; border-radius: 0.35em; vertical-align: middle; margin-left: 0.5rem\">Nothing</span>\n",
       "</mark>\n",
       "</div></span>"
      ],
      "text/plain": [
       "<IPython.core.display.HTML object>"
      ]
     },
     "metadata": {},
     "output_type": "display_data"
    },
    {
     "name": "stdout",
     "output_type": "stream",
     "text": [
      "0000D23A521A\n"
     ]
    },
    {
     "name": "stderr",
     "output_type": "stream",
     "text": [
      "ic| <ipython-input-17-15bf9090b021>:31 in visulize()\n",
      "    text_cn: [('有些人认为火星上所谓的“脸”是由火星的生命创造的。不是这种情况。火星上的面孔是一种叫做梅萨的天然存在的地貌。', 'Position'),\n",
      "              ('它不是由外星人创造的，并且没有阴谋隐藏在火星上隐藏外星生活。没有证据表明美国宇航局发现甚至认为这张脸是由外星人创造的。[BR] [BR]',\n",
      "               'Evidence'),\n",
      "              ('MESA是一个天然存在的岩层，在火星和地球上发现。', 'Evidence'),\n",
      "              ('在火星上的这种“脸”看起来只看起来像一张脸，因为人类倾向于看到脸部，无论人类都在何处，人类都很非常非常社会，这就是为什么我们的大脑旨在识别面孔的原因。[BR] '\n",
      "               '[BR]',\n",
      "               'Claim'),\n",
      "              ('许多阴谋理论家认为美国国家航空航天局在世界其他地区躲藏在火星上。', 'Counterclaim'),\n",
      "              ('这些人会非常错误。如果美国国家航空航天局发现火星的生活，那么他们会得到数百万的人的关注。', 'Rebuttal'),\n",
      "              ('美国宇航局的预算将增加剧烈，这意味着他们的工人会得到更多报酬。没有充分的理由，美国宇航局将在世界其他地区隐藏火星的生活。[BR] [BR]',\n",
      "               'Evidence'),\n",
      "              ('所以，美国国家航空航天局没有躲在美国火星上的生活，他们并不试图欺骗我们认为火星上的“脸”只是一个梅萨，因为它实际上是。美国宇航局隐藏生活将是不合逻辑的，因为如果他们在火星上找到了生活，他们会赚很多钱，我们都知道美国宇航局的人民不是不合逻辑的人。',\n",
      "               'Concluding Statement')]\n"
     ]
    },
    {
     "name": "stdout",
     "output_type": "stream",
     "text": [
      "[('Some', '0.29', 5, '0.91'), ('people', '0.00', 5, '0.90'), ('belive', '0.00', 5, '0.91'), ('that', '0.00', 5, '0.90'), ('the', '0.00', 5, '0.90'), ('so', '0.00', 5, '0.90'), ('called', '0.00', 5, '0.90'), ('\"face\"', '0.00', 5, '0.90'), ('on', '0.00', 5, '0.90'), ('mars', '0.00', 5, '0.91'), ('was', '0.00', 5, '0.90'), ('created', '0.00', 5, '0.90'), ('by', '0.00', 5, '0.90'), ('life', '0.00', 5, '0.90'), ('on', '0.00', 5, '0.90'), ('mars.', '0.00', 5, '0.92'), ('This', '0.07', 5, '0.79'), ('is', '0.00', 5, '0.81'), ('not', '0.00', 5, '0.82'), ('the', '0.00', 5, '0.80'), ('case.', '0.00', 5, '0.80'), ('The', '0.82', 3, '0.90'), ('face', '0.00', 3, '0.91'), ('on', '0.00', 3, '0.91'), ('Mars', '0.00', 3, '0.91'), ('is', '0.00', 3, '0.91'), ('a', '0.00', 3, '0.91'), ('naturally', '0.00', 3, '0.90'), ('occuring', '0.00', 3, '0.90'), ('land', '0.00', 3, '0.92'), ('form', '0.00', 3, '0.92'), ('called', '0.00', 3, '0.91'), ('a', '0.00', 3, '0.92'), ('mesa.', '0.00', 3, '0.92'), ('It', '0.67', 1, '0.53'), ('was', '0.00', 1, '0.53'), ('not', '0.00', 1, '0.53'), ('created', '0.00', 1, '0.53'), ('by', '0.00', 1, '0.51'), ('aliens,', '0.00', 1, '0.51'), ('and', '0.20', 1, '0.39'), ('there', '0.16', 1, '0.56'), ('is', '0.00', 1, '0.54'), ('no', '0.00', 1, '0.57'), ('consiracy', '0.00', 1, '0.58'), ('to', '0.00', 1, '0.56'), ('hide', '0.00', 1, '0.56'), ('alien', '0.00', 1, '0.56'), ('lifeforms', '0.00', 1, '0.56'), ('on', '0.00', 1, '0.57'), ('mars.', '0.00', 1, '0.55'), ('There', '0.64', 2, '0.42'), ('is', '0.00', 2, '0.46'), ('no', '0.00', 2, '0.46'), ('evidence', '0.00', 2, '0.48'), ('that', '0.00', 2, '0.48'), ('NASA', '0.00', 2, '0.47'), ('has', '0.00', 2, '0.48'), ('found', '0.00', 2, '0.49'), ('that', '0.00', 2, '0.49'), ('even', '0.00', 2, '0.49'), ('suggests', '0.00', 2, '0.51'), ('that', '0.00', 2, '0.51'), ('this', '0.00', 2, '0.51'), ('face', '0.00', 2, '0.50'), ('was', '0.00', 2, '0.51'), ('created', '0.00', 2, '0.51'), ('by', '0.00', 2, '0.51'), ('aliens.', '0.00', 2, '0.51'), ('A', '0.99', 1, '0.90'), ('mesa', '0.00', 1, '0.91'), ('is', '0.00', 1, '0.91'), ('a', '0.00', 1, '0.91'), ('naturally', '0.00', 1, '0.91'), ('occuring', '0.00', 1, '0.91'), ('rock', '0.00', 1, '0.91'), ('formation,', '0.00', 1, '0.91'), ('that', '0.00', 1, '0.90'), ('is', '0.00', 1, '0.90'), ('found', '0.00', 1, '0.90'), ('on', '0.00', 1, '0.90'), ('Mars', '0.00', 1, '0.90'), ('and', '0.00', 1, '0.90'), ('Earth.', '0.00', 1, '0.91'), ('This', '0.90', 2, '0.94'), ('\"face\"', '0.00', 2, '0.96'), ('on', '0.00', 2, '0.96'), ('mars', '0.00', 2, '0.96'), ('only', '0.00', 2, '0.96'), ('looks', '0.00', 2, '0.95'), ('like', '0.00', 2, '0.95'), ('a', '0.00', 2, '0.95'), ('face', '0.00', 2, '0.95'), ('because', '0.00', 2, '0.97'), ('humans', '0.00', 2, '0.97'), ('tend', '0.00', 2, '0.97'), ('to', '0.00', 2, '0.97'), ('see', '0.00', 2, '0.97'), ('faces', '0.00', 2, '0.97'), ('wherever', '0.00', 2, '0.97'), ('we', '0.00', 2, '0.97'), ('look,', '0.00', 2, '0.97'), ('humans', '0.01', 2, '0.98'), ('are', '0.00', 2, '0.98'), ('obviously', '0.00', 2, '0.98'), ('extremely', '0.00', 2, '0.98'), ('social,', '0.00', 2, '0.98'), ('which', '0.00', 2, '0.98'), ('is', '0.00', 2, '0.98'), ('why', '0.00', 2, '0.98'), ('our', '0.00', 2, '0.98'), ('brain', '0.00', 2, '0.98'), ('is', '0.00', 2, '0.98'), ('designed', '0.00', 2, '0.98'), ('to', '0.00', 2, '0.98'), ('recognize', '0.00', 2, '0.98'), ('faces.', '0.00', 2, '0.98'), ('Many', '1.00', 6, '0.95'), ('conspiracy', '0.00', 6, '0.96'), ('theorists', '0.00', 6, '0.95'), ('believe', '0.00', 6, '0.96'), ('that', '0.00', 6, '0.96'), ('NASA', '0.00', 6, '0.96'), ('is', '0.00', 6, '0.96'), ('hiding', '0.00', 6, '0.96'), ('life', '0.00', 6, '0.96'), ('on', '0.00', 6, '0.96'), ('Mars', '0.00', 6, '0.96'), ('from', '0.00', 6, '0.96'), ('the', '0.00', 6, '0.96'), ('rest', '0.00', 6, '0.96'), ('of', '0.00', 6, '0.96'), ('the', '0.00', 6, '0.96'), ('world.', '0.00', 6, '0.96'), ('These', '0.96', 7, '0.92'), ('people', '0.00', 7, '0.94'), ('would', '0.00', 7, '0.94'), ('be', '0.00', 7, '0.93'), ('very', '0.00', 7, '0.93'), ('wrong.', '0.00', 7, '0.94'), ('If', '0.59', 7, '0.50'), ('NASA', '0.00', 2, '0.56'), ('found', '0.00', 2, '0.59'), ('life', '0.00', 2, '0.60'), ('on', '0.00', 2, '0.59'), ('Mars,', '0.00', 2, '0.59'), ('then', '0.00', 2, '0.56'), ('they', '0.00', 2, '0.57'), ('would', '0.00', 2, '0.57'), ('get', '0.00', 2, '0.55'), ('millions', '0.00', 2, '0.54'), ('of', '0.00', 2, '0.55'), (\"people's\", '0.00', 2, '0.55'), ('attention.', '0.00', 2, '0.56'), (\"NASA's\", '0.12', 2, '0.84'), ('budget', '0.00', 2, '0.84'), ('would', '0.00', 2, '0.84'), ('increase', '0.00', 2, '0.83'), ('drasticly,', '0.00', 2, '0.84'), ('which', '0.00', 2, '0.86'), ('means', '0.00', 2, '0.85'), ('that', '0.00', 2, '0.84'), ('their', '0.00', 2, '0.85'), ('workers', '0.00', 2, '0.84'), ('would', '0.00', 2, '0.83'), ('get', '0.00', 2, '0.83'), ('paid', '0.00', 2, '0.83'), ('more.', '0.00', 2, '0.82'), ('There', '0.08', 2, '0.85'), ('is', '0.00', 2, '0.84'), ('no', '0.00', 2, '0.84'), ('good', '0.00', 2, '0.84'), ('reason', '0.00', 2, '0.84'), ('that', '0.00', 2, '0.85'), ('NASA', '0.00', 2, '0.84'), ('would', '0.00', 2, '0.85'), ('hide', '0.00', 2, '0.84'), ('life', '0.00', 2, '0.85'), ('on', '0.00', 2, '0.84'), ('Mars', '0.00', 2, '0.84'), ('from', '0.00', 2, '0.84'), ('the', '0.00', 2, '0.85'), ('rest', '0.00', 2, '0.84'), ('of', '0.00', 2, '0.84'), ('the', '0.00', 2, '0.85'), ('world.', '0.00', 2, '0.84'), ('So,', '1.00', 4, '0.98'), ('NASA', '0.01', 4, '0.99'), ('is', '0.00', 4, '0.99'), ('not', '0.00', 4, '0.99'), ('hiding', '0.00', 4, '0.99'), ('life', '0.00', 4, '0.99'), ('on', '0.00', 4, '0.99'), ('Mars', '0.00', 4, '0.99'), ('from', '0.00', 4, '0.99'), ('us,', '0.00', 4, '0.99'), ('and', '0.00', 4, '0.99'), ('they', '0.00', 4, '0.99'), ('are', '0.00', 4, '0.99'), ('not', '0.00', 4, '0.99'), ('trying', '0.00', 4, '0.99'), ('to', '0.00', 4, '0.99'), ('trick', '0.00', 4, '0.99'), ('us', '0.00', 4, '0.99'), ('into', '0.00', 4, '0.99'), ('thinking', '0.00', 4, '0.99'), ('that', '0.00', 4, '0.99'), ('the', '0.00', 4, '0.99'), ('\"face\"', '0.00', 4, '0.99'), ('on', '0.00', 4, '0.99'), ('mars', '0.00', 4, '0.99'), ('is', '0.00', 4, '0.99'), ('just', '0.00', 4, '0.99'), ('a', '0.00', 4, '0.99'), ('mesa,', '0.00', 4, '0.99'), ('because', '0.00', 4, '0.99'), ('it', '0.00', 4, '0.99'), ('actually', '0.00', 4, '0.99'), ('is.', '0.00', 4, '0.99'), ('NASA', '0.01', 4, '1.00'), ('hiding', '0.00', 4, '1.00'), ('life', '0.00', 4, '0.99'), ('would', '0.00', 4, '0.99'), ('be', '0.00', 4, '0.99'), ('illogical,', '0.00', 4, '0.99'), ('because', '0.00', 4, '0.99'), ('if', '0.00', 4, '0.99'), ('they', '0.00', 4, '0.99'), ('found', '0.00', 4, '0.99'), ('life', '0.00', 4, '0.99'), ('on', '0.00', 4, '0.99'), ('Mars,', '0.00', 4, '0.99'), ('they', '0.00', 4, '0.99'), ('would', '0.00', 4, '0.99'), ('make', '0.00', 4, '0.99'), ('a', '0.00', 4, '0.99'), ('lot', '0.00', 4, '0.99'), ('of', '0.00', 4, '0.99'), ('money,', '0.00', 4, '0.99'), ('and', '0.00', 4, '0.99'), ('we', '0.00', 4, '0.99'), ('all', '0.00', 4, '0.99'), ('know', '0.00', 4, '0.99'), ('that', '0.00', 4, '0.99'), ('the', '0.00', 4, '0.99'), ('people', '0.00', 4, '0.99'), ('at', '0.00', 4, '0.99'), ('NASA', '0.00', 4, '0.99'), (\"aren't\", '0.00', 4, '0.99'), ('illogical', '0.00', 4, '0.99'), ('people.', '0.00', 4, '0.99')]\n"
     ]
    }
   ],
   "source": [
    "vis('0000D23A521A')"
   ]
  },
  {
   "cell_type": "code",
   "execution_count": null,
   "metadata": {},
   "outputs": [
    {
     "name": "stdout",
     "output_type": "stream",
     "text": [
      "\n",
      " +---------+------------+------------+-----------+\n",
      "|   Claim |   Evidence |   Position |   Overall |\n",
      "|---------+------------+------------+-----------|\n",
      "|       0 |          0 |          0 |         0 |\n",
      "+---------+------------+------------+-----------+\n"
     ]
    },
    {
     "data": {
      "text/html": [
       "<span class=\"tex2jax_ignore\"><div class=\"entities\" style=\"line-height: 2.5; direction: ltr\">Luke's Point Of Veiw \n",
       "<mark class=\"entity\" style=\"background: #AB4DE1; padding: 0.45em 0.6em; margin: 0 0.25em; line-height: 1; border-radius: 0.35em;\">\n",
       "    &quot;Come on! Please join with me!&quot; I begged. &quot;It will be so much fun!&quot; \n",
       "    <span style=\"font-size: 0.8em; font-weight: bold; line-height: 1; border-radius: 0.35em; vertical-align: middle; margin-left: 0.5rem\">Position</span>\n",
       "</mark>\n",
       "\n",
       "<mark class=\"entity\" style=\"background: #ddd; padding: 0.45em 0.6em; margin: 0 0.25em; line-height: 1; border-radius: 0.35em;\">\n",
       "    &quot;No. I don't want to. It seems boring.&quot; Sam said. &quot;Don and I are doing it. Wouldn't you want to help someone in need?&quot; I said. &quot;How about this, I will talk it over wiht my parents and see what they think, then I will make the final decision. Ok?&quot; he explained. &quot;Ok. Meet me at the Big Tree tomorrow at 3.&quot; The we bothed walked off. I really hoped that Sam would agree. We would be like the three muskateers! I thought. Don, Sam, and I have been best friends since I could remember. DOn had already been my neighbor, so when Sam moved in a couple houses down we decided to start being friend swith him. I'm glad we did. Don and I have been apart of the UNRRA for a while now, and we were home for a brake. Our only mission while being home is to try and get people to join. We already got a couple, but we needed more. \n",
       "    <span style=\"font-size: 0.8em; font-weight: bold; line-height: 1; border-radius: 0.35em; vertical-align: middle; margin-left: 0.5rem\">Nothing</span>\n",
       "</mark>\n",
       "\n",
       "<mark class=\"entity\" style=\"background: #1EDE71; padding: 0.45em 0.6em; margin: 0 0.25em; line-height: 1; border-radius: 0.35em;\">\n",
       "    There is always work to be done on the ship. \n",
       "    <span style=\"font-size: 0.8em; font-weight: bold; line-height: 1; border-radius: 0.35em; vertical-align: middle; margin-left: 0.5rem\">Claim</span>\n",
       "</mark>\n",
       "\n",
       "<mark class=\"entity\" style=\"background: #ddd; padding: 0.45em 0.6em; margin: 0 0.25em; line-height: 1; border-radius: 0.35em;\">\n",
       "    &quot;Hi Mom.&quot; I said walking into the kitchen. &quot;Dinner smells good.&quot; &quot;Good. How was your day?&quot; she asked. &quot;Anybody new recruited?&quot; &quot;Still working on Sam. He said he would tell me his final answer tomorrow.&quot; I told her. We ate dinner and then cleaned the dishes off. &quot;Mom, is it ok if i go back out to town?&quot; I asked. &quot;Sure. Just be back before dark.&quot; I went to the common area because there is normally still a lot of people ther at this time eating, playing with animals, or little kids running around. I walked into the common and sure enough, people were there. As I was walking, I felt a tap on my back. &quot;Looks like we had the same idea, Luke!&quot; It was Don. &quot;Yeah! So glad you're here. Have you gotten anyone?&quot; I asked. &quot;Yeah actually. Those men sitting over there talking.&quot; He pointed to 3 men chatting on a bench. &quot;Good job!&quot; I congradulated him. &quot;Sam and I are meeting at the Big Tree tomorrow for his final decision. He said he was going to talk it over with his parents tonight.&quot; &quot;Oh good. Let's go get some more people.&quot; he replied. &quot;Hello.&quot; I said to a man around my age petting his dog. &quot;I'm with the UNRRA group, the &quot;Seagoing Cowboys&quot; and I was wondering if you are interested in it.&quot; &quot;Hello, and sure. Tell me about it.&quot; he said, with a kind smile. \n",
       "    <span style=\"font-size: 0.8em; font-weight: bold; line-height: 1; border-radius: 0.35em; vertical-align: middle; margin-left: 0.5rem\">Nothing</span>\n",
       "</mark>\n",
       "\n",
       "<mark class=\"entity\" style=\"background: #33FAFA; padding: 0.45em 0.6em; margin: 0 0.25em; line-height: 1; border-radius: 0.35em;\">\n",
       "    &quot;What UNRRA stands for is the United Nations Relief and Rehabilition Administration and what we do is carry animals on ships to different places. FOr example, we went to Greece and unloaded there. We carry horses, young cows, and mules. \n",
       "    <span style=\"font-size: 0.8em; font-weight: bold; line-height: 1; border-radius: 0.35em; vertical-align: middle; margin-left: 0.5rem\">Evidence</span>\n",
       "</mark>\n",
       "\n",
       "<mark class=\"entity\" style=\"background: #1EDE71; padding: 0.45em 0.6em; margin: 0 0.25em; line-height: 1; border-radius: 0.35em;\">\n",
       "    We also have spare time on the ship. \n",
       "    <span style=\"font-size: 0.8em; font-weight: bold; line-height: 1; border-radius: 0.35em; vertical-align: middle; margin-left: 0.5rem\">Claim</span>\n",
       "</mark>\n",
       "\n",
       "<mark class=\"entity\" style=\"background: #33FAFA; padding: 0.45em 0.6em; margin: 0 0.25em; line-height: 1; border-radius: 0.35em;\">\n",
       "    We do table tennis tournaments, fencing, boxing, readong, whittling, and we can play volleyball and baseball.&quot; I explained. \n",
       "    <span style=\"font-size: 0.8em; font-weight: bold; line-height: 1; border-radius: 0.35em; vertical-align: middle; margin-left: 0.5rem\">Evidence</span>\n",
       "</mark>\n",
       "\n",
       "<mark class=\"entity\" style=\"background: #ddd; padding: 0.45em 0.6em; margin: 0 0.25em; line-height: 1; border-radius: 0.35em;\">\n",
       "    &quot;That sounds very exiting!&quot; Where do I sign up?&quot; he askeed. I handed him a paper. &quot;Put your adress, first and last name, and age on here. We leave in a week to head bak c out, so in a couple of days someone will show up and say if you are drafted or not.&quot; &quot;Thanks!&quot; He said after signing the paper. It was getting dark, so Don and I decided to head home together. We talked about small things like where we might go nest, how long we will continue doing this, and we also talked about other jobs we might want. I got home and went to my room. It was a long day, so I went to bed shortly after. I woke up to the sun peering into my room through the window. The house already smelled like blueberry muffins. &quot;Good moring, sweetie.&quot; my mom greeted. &quot; Good morning, Mom. Muffins smell good.&quot; I said. &quot;Eat up.&quot; She put a plate in front of me with 2 muffins. I devoured them pretty quickly. At 3 I am meeting Sam for his decison. I hope he decides to do it.&quot; I said. &quot;Me too. It would be fun for the three of you.&quot; A little later I took the papers of all the people I have gotten to my boss. He lived right in town. It took me about 10 minutes to get there. I knocked on his door. &quot;Hello Luke!&quot; he said. &quot;Hey Mr. Kyle. I brought you some more papers of people.&quot; I told him. &quot;Great!&quot; I will look through them right now actually.&quot; he exclaimed. &quot;I might have one more later today also.&quot; I said, getting exited. &quot;Wonderful. COme back and let me know, alright? he smiled. &quot;Will do.&quot; I walked back to the sidewalk. I went to the library, the market, and the barn just to kill time. It eventually became 3, so I walked to the Big Tree. Sam was already there. &quot;Hey Sam!&quot; I Greeted him. &quot;I'll do it!&quot; he exclaimed. &quot;Really?&quot; I asked. &quot;Yeah.&quot; he replied. &quot;Great!&quot; Let's go to Mr. Kyle.&quot; I said.\n",
       "    <span style=\"font-size: 0.8em; font-weight: bold; line-height: 1; border-radius: 0.35em; vertical-align: middle; margin-left: 0.5rem\">Nothing</span>\n",
       "</mark>\n",
       "</div></span>"
      ],
      "text/plain": [
       "<IPython.core.display.HTML object>"
      ]
     },
     "metadata": {},
     "output_type": "display_data"
    },
    {
     "data": {
      "text/html": [
       "<span class=\"tex2jax_ignore\"><div class=\"entities\" style=\"line-height: 2.5; direction: ltr\">\n",
       "<mark class=\"entity\" style=\"background: #33FAFA; padding: 0.45em 0.6em; margin: 0 0.25em; line-height: 1; border-radius: 0.35em;\">\n",
       "    Luke's Point Of Veiw &quot;Come on! Please join with me!&quot; I begged. &quot;It will be so much fun!&quot; &quot;No. I don't want to. It seems boring.&quot; Sam said. &quot;Don and I are doing it. Wouldn't you want to help someone in need?&quot; I said. &quot;How about this, I will talk it over wiht my parents and see what they think, then I will make the final decision. Ok?&quot; he explained. &quot;Ok. Meet me at the Big Tree tomorrow at 3.&quot; The we bothed walked off. I really hoped that Sam would agree. We would be like the three muskateers! I thought. Don, Sam, and I have been best friends since I could remember. DOn had already been my neighbor, so when Sam moved in a couple houses down we decided to start being friend swith him. I'm glad we did. Don and I have been apart of the UNRRA for a while now, and we were home for a brake. Our only mission while being home is to try and get people to join. We already got a couple, but we needed more. There is always work to be done on the ship. &quot;Hi Mom.&quot; I said walking into the kitchen. &quot;Dinner smells good.&quot; &quot;Good. How was your day?&quot; she asked. &quot;Anybody new recruited?&quot; &quot;Still working on Sam. He said he would tell me his final answer tomorrow.&quot; I told her. We ate dinner and then cleaned the dishes off. &quot;Mom, is it ok if i go back out to town?&quot; I asked. &quot;Sure. Just be back before dark.&quot; I went to the common area because there is normally still a lot of people ther at this time eating, playing with animals, or little kids running around. I walked into the common and sure enough, people were there. As I was walking, I felt a tap on my back. &quot;Looks like we had the same idea, Luke!&quot; It was Don. &quot;Yeah! So glad you're here. Have you gotten anyone?&quot; I asked. &quot;Yeah actually. Those men sitting over there talking.&quot; He pointed to 3 men chatting on a bench. &quot;Good job!&quot; I congradulated him. &quot;Sam and I are meeting at the Big Tree tomorrow for his final decision. He said he was going to talk it over with his parents tonight.&quot; &quot;Oh good. Let's go get some more people.&quot; he replied. &quot;Hello.&quot; I said to a man around my age petting his dog. &quot;I'm with the UNRRA group, the &quot;Seagoing Cowboys&quot; and I was wondering if you are interested in it.&quot; &quot;Hello, and sure. Tell me about it.&quot; he said, with a kind smile. &quot;What UNRRA stands for is the United Nations Relief and Rehabilition Administration and what we do is carry animals on ships to different places. FOr example, we went to Greece and unloaded there. We carry horses, young cows, and mules. We also have spare time on the ship. We do table tennis tournaments, fencing, boxing, readong, whittling, and we can play volleyball and baseball.&quot; I explained. &quot;That sounds very exiting!&quot; Where do I sign up?&quot; he askeed. I handed him a paper. &quot;Put your adress, first and last name, and age on here. We leave in a week to head bak c out, so in a couple of days someone will show up and say if you are drafted or not.&quot; &quot;Thanks!&quot; He said after signing the paper. It was getting dark, so Don and I decided to head home together. We talked about small things like where we might go nest, how long we will continue doing this, and we also talked about other jobs we might want. I got home and went to my room. It was a long day, so I went to bed shortly after. I woke up to the sun peering into my room through the window. The house already smelled like blueberry muffins. &quot;Good moring, sweetie.&quot; my mom greeted. &quot; Good morning, Mom. Muffins smell good.&quot; I said. &quot;Eat up.&quot; She put a plate in front of me with 2 muffins. I devoured them pretty quickly. At 3 I am meeting Sam for his decison. I hope he decides to do it.&quot; I said. &quot;Me too. It would be fun for the three of you.&quot; A little later I took the papers of all the people I have gotten to my boss. He lived right in town. It took me about 10 minutes to get there. I knocked on his door. &quot;Hello Luke!&quot; he said. &quot;Hey Mr. Kyle. I brought you some more papers of people.&quot; I told him. &quot;Great!&quot; I will look through them right now actually.&quot; he exclaimed. &quot;I might have one more later today also.&quot; I said, getting exited. &quot;Wonderful. COme back and let me know, alright? he smiled. &quot;Will do.&quot; I walked back to the sidewalk. I went to the library, the market, and the barn just to kill time. It eventually became 3, so I walked to the Big Tree. Sam was already there. &quot;Hey Sam!&quot; I Greeted him. &quot;I'll do it!&quot; he exclaimed. &quot;Really?&quot; I asked. &quot;Yeah.&quot; he replied. &quot;Great!&quot; Let's go to Mr. Kyle.&quot; I said.\n",
       "    <span style=\"font-size: 0.8em; font-weight: bold; line-height: 1; border-radius: 0.35em; vertical-align: middle; margin-left: 0.5rem\">Evidence</span>\n",
       "</mark>\n",
       "\n",
       "<mark class=\"entity\" style=\"background: #ddd; padding: 0.45em 0.6em; margin: 0 0.25em; line-height: 1; border-radius: 0.35em;\">\n",
       "    \n",
       "    <span style=\"font-size: 0.8em; font-weight: bold; line-height: 1; border-radius: 0.35em; vertical-align: middle; margin-left: 0.5rem\">Nothing</span>\n",
       "</mark>\n",
       "</div></span>"
      ],
      "text/plain": [
       "<IPython.core.display.HTML object>"
      ]
     },
     "metadata": {},
     "output_type": "display_data"
    },
    {
     "name": "stderr",
     "output_type": "stream",
     "text": [
      "ic| <ipython-input-17-15bf9090b021>:31 in visulize()\n",
      "    text_cn: [('卢克的观点[BR] [BR]', 'Nothing'),\n",
      "              ('“来吧！请加入我！”我求。“这会很有趣！”[BR] [BR]', 'Position'),\n",
      "              ('“不，我不想。看起来很无聊。”萨姆说。[BR] [BR]“唐和我正在这样做。你想帮助有需要的人吗？”我说。[BR] '\n",
      "               '[BR]“这件事怎么样，我会在我的父母那里谈论它，看看他们的想法，那么我会做出最终决定。好吗？”他解释道。[BR] '\n",
      "               '[BR]“好的。明天在3岁的大树见到我。”我们双手走了。[BR] [BR]我真的希望Sam会同意。[BR] '\n",
      "               '[BR]我们就像三个月斯科特！我想。[BR] '\n",
      "               '[BR]唐，山姆，我是最好的朋友，因为我能记得。唐已经是我的邻居，所以当山姆在一对夫妇中搬到了众议院时，我们决定开始成为朋友的朋友。我很高兴我们做到了。[BR] '\n",
      "               '[BR]唐，我现在一直待了一会儿，我们是一个刹车的家。我们唯一的使命虽然回家是试图让人们加入。我们已经有了一对夫妇，但我们需要更多。',\n"
     ]
    },
    {
     "name": "stdout",
     "output_type": "stream",
     "text": [
      "D753B3C6BDDA\n"
     ]
    },
    {
     "name": "stderr",
     "output_type": "stream",
     "text": [
      "               'Nothing'),\n",
      "              ('总有工作要在船上完成。[BR] [BR]', 'Claim'),\n",
      "              ('“嗨妈妈。”我说走进厨房。 “晚餐闻起来很好。” [BR] [BR]“好。你今天过得怎么样？”她问。 “任何人都招募？” [BR] '\n",
      "               '[BR]“仍然在山姆。他说他明天会告诉我他的最后答案。”我告诉她了。 [BR] [BR]我们吃了晚餐，然后清洗了菜肴。 [sep] '\n",
      "               '[sep]“妈妈，如果我回到城里，它是好吗？”我问。 [BR] [BR]“当然。只是在黑暗之前回来。” [BR] '\n",
      "               '[BR]我去了公共领域，因为这次在这时吃了很多人吃，和动物一起玩耍，或者小孩子们在跑去。我走进普通和肯定，人们在那里。 [BR] '\n",
      "               '[BR]当我走路时，我觉得我的背部拍了一下。 [BR] [BR]“看起来我们有同样的想法，卢克！”这是唐。 [BR] '\n",
      "               '[BR]“是的！很高兴你在这里。你有人得到了吗？”我问。 [BR] [BR]“是的。实际上。那些男人坐在那边说话。”他指着3个人在长凳上聊天。 '\n",
      "               '[BR] [BR]“好工作！”我致意了他。 “山姆和我明天在大树见到他的最终决定。他说他今晚要和父母一起谈谈。” [sep] '\n",
      "               '[sep]“哦，好。让我们去更多的人。”他回答。 [BR] [BR]“你好”。我对我这个年龄周围的一个男人抚摸着他的狗。 '\n",
      "               '“我和未经撤退的小组，”海上牛仔“和我想知道你是否对此感兴趣。” [sep] [sep]“你好，并肯定。告诉我它。”他说，带着一种微笑。 [BR] '\n",
      "               '[BR]',\n",
      "               'Nothing'),\n",
      "              ('“联合国救济和康复管理局以及我们所做的是什么是联合国救济和康复管理局，以船只对不同的地方。例如，我们去了希腊并卸下了。我们携带马，年轻奶牛和骡子。',\n",
      "               'Evidence'),\n",
      "              ('我们也有空闲时间在船上。', 'Claim'),\n",
      "              ('我们做乒乓球锦标赛，击剑，拳击，阅读，惠特，我们可以打排球和棒球。“我解释说。[BR] [BR]', 'Evidence'),\n",
      "              ('“这听起来非常出境！”我在哪里注册？“他散发出来。[BR] '\n",
      "               '[BR]我递给他一篇论文。”把你的地址，名字和姓氏，和这里的年龄。我们在一个星期内留下了摇头，所以在几天里，有人会出现，如果你被起草或没有。“[sep] '\n",
      "               '[sep] [sep]”谢谢！“他在签字后签字后说。[SEP ] '\n",
      "               '[BR]它变得黑暗，所以不要一起回家。我们谈到了像我们可能去窝那样的小东西，我们将继续这样做，我们也谈到了我们可能想要的其他工作。 [BR] '\n",
      "               '[BR]我回到了我的房间。这是漫长的一天，所以我很快就去睡觉了。[BR] '\n",
      "               '[BR]我醒来的是阳光下挡住了我的房间。该房子已经闻起来像蓝莓松饼。[sep] [sep]“善良的，甜心。”我妈妈迎接了。[sep] '\n",
      "               '[sep]“早上好，妈妈早上好。松饼闻起来很好。“我说。[BR] [BR]”吃掉了。“她用2个松饼放一盘。我很快就吞噬了他们。[BR] '\n",
      "               '[BR]在3我见过山姆他的审美机构。我希望他决定这样做。“我说。 [BR] [BR]“我也是。这三个人来说很有趣。” [BR] '\n",
      "               '[BR]稍后我拿走了所有人所遇到的所有人的论文。他住在镇上。我花了大约10分钟才能到达那里。 [BR] [BR]我敲了敲他的门。 [BR] '\n",
      "               '[BR]“你好卢克！”他说。 [sep] [sep]“嘿凯尔先生。我给你带来了更多的人论文。”我告诉他了。 [sep] '\n",
      "               '[sep]“很棒！”我现在就会透过他们。“他惊呼。[BR] [BR]”我今天晚些时候也会再次。“我说，退出了。[BR] '\n",
      "               '[BR]”很棒。回来让我知道，好吗？他笑了。 [sep] [sep]“会做。”我走回了人行道。 [BR] '\n",
      "               '[BR]我去了图书馆，市场，谷仓只是为了杀死时间。它最终变成了3个，所以我走到了大树。山姆已经在那里了。 [sep] '\n",
      "               '[sep]“嘿山姆！”我迎接了他。 [BR] [BR]“我会这样做！”他喊道。 [sep] [sep]真的？“我问。 [BR] '\n",
      "               '[BR]“是的。”他回答。 [sep] [sep]“很棒！”我们去凯尔先生。“我说。',\n",
      "               'Nothing')]\n"
     ]
    },
    {
     "name": "stdout",
     "output_type": "stream",
     "text": [
      "[(\"Luke's\", '0.04', 0, '0.95'), ('Point', '0.00', 0, '0.95'), ('Of', '0.00', 0, '0.95'), ('Veiw', '0.00', 0, '0.95'), ('\"Come', '0.76', 0, '0.52'), ('on!', '0.02', 0, '0.29'), ('Please', '0.08', 3, '0.27'), ('join', '0.00', 3, '0.31'), ('with', '0.00', 3, '0.32'), ('me!\"', '0.00', 3, '0.33'), ('I', '0.04', 5, '0.25'), ('begged.', '0.00', 0, '0.30'), ('\"It', '0.10', 0, '0.32'), ('will', '0.02', 3, '0.32'), ('be', '0.00', 3, '0.33'), ('so', '0.00', 3, '0.32'), ('much', '0.00', 3, '0.31'), ('fun!\"', '0.00', 3, '0.32'), ('\"No.', '0.40', 0, '0.37'), ('I', '0.07', 6, '0.28'), (\"don't\", '0.00', 6, '0.29'), ('want', '0.00', 6, '0.29'), ('to.', '0.00', 6, '0.27'), ('It', '0.04', 6, '0.29'), ('seems', '0.00', 6, '0.31'), ('boring.\"', '0.00', 6, '0.31'), ('Sam', '0.04', 0, '0.31'), ('said.', '0.00', 0, '0.35'), ('\"Don', '0.50', 0, '0.47'), ('and', '0.07', 7, '0.20'), ('I', '0.01', 7, '0.21'), ('are', '0.00', 7, '0.24'), ('doing', '0.00', 7, '0.22'), ('it.', '0.00', 7, '0.21'), (\"Wouldn't\", '0.20', 7, '0.21'), ('you', '0.01', 7, '0.24'), ('want', '0.00', 7, '0.24'), ('to', '0.00', 7, '0.25'), ('help', '0.00', 7, '0.24'), ('someone', '0.00', 7, '0.24'), ('in', '0.00', 7, '0.24'), ('need?\"', '0.00', 7, '0.24'), ('I', '0.09', 0, '0.38'), ('said.', '0.01', 0, '0.43'), ('\"How', '0.39', 0, '0.56'), ('about', '0.02', 0, '0.53'), ('this,', '0.00', 0, '0.51'), ('I', '0.06', 0, '0.40'), ('will', '0.00', 0, '0.43'), ('talk', '0.00', 0, '0.39'), ('it', '0.00', 0, '0.40'), ('over', '0.00', 0, '0.39'), ('wiht', '0.00', 0, '0.37'), ('my', '0.00', 0, '0.40'), ('parents', '0.00', 0, '0.40'), ('and', '0.00', 0, '0.39'), ('see', '0.00', 0, '0.40'), ('what', '0.00', 0, '0.40'), ('they', '0.00', 0, '0.40'), ('think,', '0.00', 0, '0.39'), ('then', '0.01', 0, '0.42'), ('I', '0.00', 0, '0.42'), ('will', '0.00', 0, '0.42'), ('make', '0.00', 0, '0.43'), ('the', '0.00', 0, '0.45'), ('final', '0.00', 0, '0.42'), ('decision.', '0.00', 0, '0.45'), ('Ok?\"', '0.04', 0, '0.56'), ('he', '0.02', 0, '0.55'), ('explained.', '0.00', 0, '0.57'), ('\"Ok.', '0.10', 0, '0.58'), ('Meet', '0.05', 0, '0.50'), ('me', '0.00', 0, '0.51'), ('at', '0.00', 0, '0.47'), ('the', '0.00', 0, '0.46'), ('Big', '0.00', 0, '0.43'), ('Tree', '0.00', 0, '0.45'), ('tomorrow', '0.00', 0, '0.50'), ('at', '0.00', 0, '0.47'), ('3.\"', '0.00', 0, '0.45'), ('The', '0.07', 0, '0.49'), ('we', '0.01', 0, '0.49'), ('bothed', '0.00', 0, '0.47'), ('walked', '0.00', 0, '0.45'), ('off.', '0.00', 0, '0.46'), ('I', '0.15', 2, '0.45'), ('really', '0.00', 2, '0.46'), ('hoped', '0.00', 2, '0.46'), ('that', '0.00', 2, '0.47'), ('Sam', '0.01', 2, '0.49'), ('would', '0.00', 2, '0.49'), ('agree.', '0.00', 2, '0.47'), ('We', '0.16', 2, '0.56'), ('would', '0.00', 2, '0.57'), ('be', '0.00', 2, '0.59'), ('like', '0.00', 2, '0.58'), ('the', '0.00', 2, '0.58'), ('three', '0.00', 2, '0.57'), ('muskateers!', '0.00', 2, '0.58'), ('I', '0.03', 2, '0.55'), ('thought.', '0.00', 2, '0.52'), ('Don,', '0.13', 2, '0.68'), ('Sam,', '0.01', 2, '0.69'), ('and', '0.00', 2, '0.67'), ('I', '0.00', 2, '0.68'), ('have', '0.00', 2, '0.70'), ('been', '0.00', 2, '0.70'), ('best', '0.00', 2, '0.70'), ('friends', '0.00', 2, '0.69'), ('since', '0.00', 2, '0.68'), ('I', '0.00', 2, '0.67'), ('could', '0.00', 2, '0.68'), ('remember.', '0.00', 2, '0.67'), ('DOn', '0.03', 2, '0.72'), ('had', '0.00', 2, '0.73'), ('already', '0.00', 2, '0.72'), ('been', '0.00', 2, '0.73'), ('my', '0.00', 2, '0.72'), ('neighbor,', '0.00', 2, '0.72'), ('so', '0.00', 2, '0.72'), ('when', '0.00', 2, '0.72'), ('Sam', '0.00', 2, '0.73'), ('moved', '0.00', 2, '0.72'), ('in', '0.00', 2, '0.72'), ('a', '0.00', 2, '0.72'), ('couple', '0.00', 2, '0.72'), ('houses', '0.00', 2, '0.72'), ('down', '0.00', 2, '0.73'), ('we', '0.00', 2, '0.72'), ('decided', '0.00', 2, '0.72'), ('to', '0.00', 2, '0.73'), ('start', '0.00', 2, '0.72'), ('being', '0.00', 2, '0.73'), ('friend', '0.00', 2, '0.74'), ('swith', '0.00', 2, '0.71'), ('him.', '0.00', 2, '0.75'), (\"I'm\", '0.01', 2, '0.71'), ('glad', '0.00', 2, '0.69'), ('we', '0.00', 2, '0.70'), ('did.', '0.00', 2, '0.71'), ('Don', '0.12', 2, '0.72'), ('and', '0.00', 2, '0.72'), ('I', '0.00', 2, '0.70'), ('have', '0.00', 2, '0.73'), ('been', '0.00', 2, '0.73'), ('apart', '0.00', 2, '0.74'), ('of', '0.00', 2, '0.73'), ('the', '0.00', 2, '0.73'), ('UNRRA', '0.00', 2, '0.71'), ('for', '0.00', 2, '0.72'), ('a', '0.00', 2, '0.73'), ('while', '0.00', 2, '0.73'), ('now,', '0.00', 2, '0.72'), ('and', '0.01', 2, '0.71'), ('we', '0.01', 2, '0.71'), ('were', '0.00', 2, '0.73'), ('home', '0.00', 2, '0.73'), ('for', '0.00', 2, '0.73'), ('a', '0.00', 2, '0.73'), ('brake.', '0.00', 2, '0.73'), ('Our', '0.06', 2, '0.72'), ('only', '0.00', 2, '0.71'), ('mission', '0.00', 2, '0.72'), ('while', '0.00', 2, '0.73'), ('being', '0.00', 2, '0.72'), ('home', '0.00', 2, '0.73'), ('is', '0.00', 2, '0.72'), ('to', '0.00', 2, '0.72'), ('try', '0.00', 2, '0.73'), ('and', '0.00', 2, '0.71'), ('get', '0.00', 2, '0.72'), ('people', '0.00', 2, '0.73'), ('to', '0.00', 2, '0.74'), ('join.', '0.00', 2, '0.73'), ('We', '0.07', 2, '0.70'), ('already', '0.00', 2, '0.68'), ('got', '0.00', 2, '0.63'), ('a', '0.00', 2, '0.64'), ('couple,', '0.00', 2, '0.63'), ('but', '0.01', 2, '0.62'), ('we', '0.01', 2, '0.61'), ('needed', '0.00', 2, '0.63'), ('more.', '0.00', 2, '0.63'), ('There', '0.07', 2, '0.59'), ('is', '0.00', 2, '0.59'), ('always', '0.00', 2, '0.60'), ('work', '0.00', 2, '0.60'), ('to', '0.00', 2, '0.61'), ('be', '0.00', 2, '0.60'), ('done', '0.00', 2, '0.60'), ('on', '0.00', 2, '0.60'), ('the', '0.00', 2, '0.59'), ('ship.', '0.00', 2, '0.60'), ('\"Hi', '0.18', 2, '0.48'), ('Mom.\"', '0.02', 0, '0.46'), ('I', '0.02', 2, '0.50'), ('said', '0.00', 2, '0.48'), ('walking', '0.00', 2, '0.49'), ('into', '0.00', 2, '0.49'), ('the', '0.00', 2, '0.50'), ('kitchen.', '0.00', 2, '0.50'), ('\"Dinner', '0.01', 2, '0.49'), ('smells', '0.00', 2, '0.46'), ('good.\"', '0.00', 2, '0.46'), ('\"Good.', '0.03', 2, '0.48'), ('How', '0.03', 2, '0.46'), ('was', '0.00', 2, '0.45'), ('your', '0.00', 2, '0.45'), ('day?\"', '0.00', 2, '0.46'), ('she', '0.01', 2, '0.45'), ('asked.', '0.00', 2, '0.45'), ('\"Anybody', '0.02', 2, '0.46'), ('new', '0.00', 2, '0.48'), ('recruited?\"', '0.00', 2, '0.50'), ('\"Still', '0.05', 2, '0.49'), ('working', '0.02', 2, '0.47'), ('on', '0.00', 2, '0.48'), ('Sam.', '0.01', 2, '0.48'), ('He', '0.02', 2, '0.48'), ('said', '0.00', 2, '0.46'), ('he', '0.00', 2, '0.48'), ('would', '0.00', 2, '0.48'), ('tell', '0.00', 2, '0.46'), ('me', '0.00', 2, '0.48'), ('his', '0.00', 2, '0.49'), ('final', '0.00', 2, '0.49'), ('answer', '0.00', 2, '0.48'), ('tomorrow.\"', '0.00', 2, '0.47'), ('I', '0.02', 2, '0.47'), ('told', '0.00', 2, '0.45'), ('her.', '0.00', 2, '0.45'), ('We', '0.08', 2, '0.48'), ('ate', '0.00', 2, '0.45'), ('dinner', '0.00', 2, '0.47'), ('and', '0.01', 2, '0.48'), ('then', '0.00', 2, '0.47'), ('cleaned', '0.00', 2, '0.46'), ('the', '0.00', 2, '0.47'), ('dishes', '0.00', 2, '0.48'), ('off.', '0.00', 2, '0.47'), ('\"Mom,', '0.04', 2, '0.46'), ('is', '0.02', 0, '0.46'), ('it', '0.00', 0, '0.46'), ('ok', '0.00', 0, '0.46'), ('if', '0.00', 0, '0.46'), ('i', '0.00', 2, '0.44'), ('go', '0.00', 0, '0.45'), ('back', '0.00', 2, '0.45'), ('out', '0.00', 2, '0.46'), ('to', '0.00', 2, '0.45'), ('town?\"', '0.00', 2, '0.46'), ('I', '0.01', 0, '0.44'), ('asked.', '0.00', 0, '0.47'), ('\"Sure.', '0.02', 2, '0.47'), ('Just', '0.01', 0, '0.45'), ('be', '0.00', 0, '0.49'), ('back', '0.00', 2, '0.45'), ('before', '0.00', 2, '0.46'), ('dark.\"', '0.00', 2, '0.47'), ('I', '0.08', 2, '0.57'), ('went', '0.00', 2, '0.57'), ('to', '0.00', 2, '0.57'), ('the', '0.00', 2, '0.59'), ('common', '0.00', 2, '0.59'), ('area', '0.00', 2, '0.59'), ('because', '0.01', 2, '0.57'), ('there', '0.01', 2, '0.60'), ('is', '0.00', 2, '0.59'), ('normally', '0.00', 2, '0.60'), ('still', '0.00', 2, '0.61'), ('a', '0.00', 2, '0.60'), ('lot', '0.00', 2, '0.61'), ('of', '0.00', 2, '0.60'), ('people', '0.00', 2, '0.61'), ('ther', '0.00', 2, '0.63'), ('at', '0.00', 2, '0.60'), ('this', '0.00', 2, '0.58'), ('time', '0.00', 2, '0.58'), ('eating,', '0.00', 2, '0.60'), ('playing', '0.00', 2, '0.59'), ('with', '0.00', 2, '0.58'), ('animals,', '0.00', 2, '0.59'), ('or', '0.00', 2, '0.59'), ('little', '0.00', 2, '0.60'), ('kids', '0.00', 2, '0.58'), ('running', '0.00', 2, '0.59'), ('around.', '0.00', 2, '0.59'), ('I', '0.02', 2, '0.56'), ('walked', '0.00', 2, '0.53'), ('into', '0.00', 2, '0.53'), ('the', '0.00', 2, '0.55'), ('common', '0.00', 2, '0.57'), ('and', '0.00', 2, '0.55'), ('sure', '0.00', 2, '0.55'), ('enough,', '0.00', 2, '0.53'), ('people', '0.00', 2, '0.54'), ('were', '0.00', 2, '0.54'), ('there.', '0.00', 2, '0.55'), ('As', '0.07', 2, '0.47'), ('I', '0.00', 0, '0.48'), ('was', '0.00', 0, '0.49'), ('walking,', '0.00', 0, '0.49'), ('I', '0.01', 0, '0.47'), ('felt', '0.00', 0, '0.49'), ('a', '0.00', 0, '0.47'), ('tap', '0.00', 0, '0.48'), ('on', '0.00', 0, '0.48'), ('my', '0.00', 0, '0.48'), ('back.', '0.00', 0, '0.47'), ('\"Looks', '0.03', 0, '0.48'), ('like', '0.00', 0, '0.54'), ('we', '0.00', 0, '0.53'), ('had', '0.00', 0, '0.50'), ('the', '0.00', 0, '0.48'), ('same', '0.00', 0, '0.51'), ('idea,', '0.00', 0, '0.47'), ('Luke!\"', '0.00', 0, '0.51'), ('It', '0.01', 0, '0.50'), ('was', '0.00', 0, '0.54'), ('Don.', '0.00', 0, '0.48'), ('\"Yeah!', '0.04', 0, '0.53'), ('So', '0.02', 0, '0.52'), ('glad', '0.00', 0, '0.56'), (\"you're\", '0.00', 0, '0.54'), ('here.', '0.00', 0, '0.53'), ('Have', '0.03', 0, '0.50'), ('you', '0.00', 0, '0.52'), ('gotten', '0.00', 0, '0.49'), ('anyone?\"', '0.00', 0, '0.50'), ('I', '0.01', 0, '0.54'), ('asked.', '0.00', 0, '0.56'), ('\"Yeah', '0.04', 0, '0.52'), ('actually.', '0.01', 0, '0.54'), ('Those', '0.02', 0, '0.46'), ('men', '0.00', 0, '0.49'), ('sitting', '0.00', 0, '0.48'), ('over', '0.00', 0, '0.49'), ('there', '0.00', 0, '0.50'), ('talking.\"', '0.00', 0, '0.50'), ('He', '0.02', 0, '0.49'), ('pointed', '0.00', 0, '0.51'), ('to', '0.00', 0, '0.48'), ('3', '0.00', 0, '0.45'), ('men', '0.00', 0, '0.47'), ('chatting', '0.00', 0, '0.47'), ('on', '0.00', 0, '0.46'), ('a', '0.00', 0, '0.46'), ('bench.', '0.00', 0, '0.46'), ('\"Good', '0.07', 0, '0.52'), ('job!\"', '0.02', 0, '0.46'), ('I', '0.06', 0, '0.44'), ('congradulated', '0.01', 0, '0.48'), ('him.', '0.01', 0, '0.46'), ('\"Sam', '0.11', 0, '0.44'), ('and', '0.06', 0, '0.43'), ('I', '0.02', 0, '0.43'), ('are', '0.01', 0, '0.43'), ('meeting', '0.01', 0, '0.41'), ('at', '0.02', 0, '0.37'), ('the', '0.02', 0, '0.37'), ('Big', '0.02', 0, '0.37'), ('Tree', '0.02', 0, '0.37'), ('tomorrow', '0.02', 0, '0.38'), ('for', '0.06', 2, '0.29'), ('his', '0.04', 0, '0.30'), ('final', '0.04', 0, '0.29'), ('decision.', '0.04', 0, '0.30'), ('He', '0.14', 0, '0.30'), ('said', '0.05', 0, '0.30'), ('he', '0.05', 0, '0.31'), ('was', '0.04', 0, '0.30'), ('going', '0.04', 0, '0.30'), ('to', '0.04', 0, '0.30'), ('talk', '0.04', 0, '0.30'), ('it', '0.03', 0, '0.30'), ('over', '0.03', 0, '0.30'), ('with', '0.03', 0, '0.30'), ('his', '0.04', 0, '0.30'), ('parents', '0.03', 0, '0.29'), ('tonight.\"', '0.04', 0, '0.29'), ('\"Oh', '0.27', 0, '0.32'), ('good.', '0.13', 0, '0.33'), (\"Let's\", '0.22', 0, '0.30'), ('go', '0.07', 0, '0.31'), ('get', '0.06', 0, '0.30'), ('some', '0.04', 0, '0.29'), ('more', '0.04', 0, '0.30'), ('people.\"', '0.05', 0, '0.29'), ('he', '0.13', 0, '0.31'), ('replied.', '0.06', 0, '0.31'), ('\"Hello.\"', '0.41', 0, '0.32'), ('I', '0.28', 0, '0.27'), ('said', '0.10', 0, '0.27'), ('to', '0.08', 0, '0.27'), ('a', '0.11', 0, '0.26'), ('man', '0.07', 2, '0.26'), ('around', '0.04', 2, '0.27'), ('my', '0.05', 0, '0.27'), ('age', '0.03', 2, '0.26'), ('petting', '0.06', 0, '0.27'), ('his', '0.04', 0, '0.27'), ('dog.', '0.04', 0, '0.27'), ('\"I\\'m', '0.27', 0, '0.27'), ('with', '0.19', 0, '0.24'), ('the', '0.13', 2, '0.23'), ('UNRRA', '0.12', 0, '0.23'), ('group,', '0.07', 2, '0.23'), ('the', '0.17', 2, '0.23'), ('\"Seagoing', '0.10', 2, '0.24'), ('Cowboys\"', '0.09', 2, '0.23'), ('and', '0.29', 0, '0.24'), ('I', '0.25', 2, '0.22'), ('was', '0.09', 2, '0.22'), ('wondering', '0.09', 2, '0.22'), ('if', '0.11', 2, '0.23'), ('you', '0.14', 2, '0.23'), ('are', '0.07', 2, '0.23'), ('interested', '0.05', 2, '0.23'), ('in', '0.05', 2, '0.23'), ('it.\"', '0.07', 2, '0.22'), ('\"Hello,', '0.42', 0, '0.31'), ('and', '0.16', 0, '0.32'), ('sure.', '0.13', 0, '0.31'), ('Tell', '0.24', 0, '0.30'), ('me', '0.07', 0, '0.29'), ('about', '0.07', 0, '0.30'), ('it.\"', '0.06', 0, '0.30'), ('he', '0.22', 0, '0.30'), ('said,', '0.07', 0, '0.33'), ('with', '0.10', 0, '0.32'), ('a', '0.05', 0, '0.30'), ('kind', '0.04', 0, '0.31'), ('smile.', '0.04', 0, '0.31'), ('\"What', '0.41', 0, '0.33'), ('UNRRA', '0.35', 2, '0.38'), ('stands', '0.08', 2, '0.42'), ('for', '0.04', 2, '0.40'), ('is', '0.05', 2, '0.40'), ('the', '0.11', 2, '0.41'), ('United', '0.08', 2, '0.40'), ('Nations', '0.05', 2, '0.40'), ('Relief', '0.05', 2, '0.40'), ('and', '0.05', 2, '0.39'), ('Rehabilition', '0.03', 2, '0.39'), ('Administration', '0.05', 2, '0.39'), ('and', '0.19', 2, '0.41'), ('what', '0.20', 2, '0.42'), ('we', '0.07', 2, '0.44'), ('do', '0.04', 2, '0.47'), ('is', '0.04', 2, '0.46'), ('carry', '0.09', 2, '0.46'), ('animals', '0.04', 2, '0.47'), ('on', '0.04', 2, '0.47'), ('ships', '0.03', 2, '0.46'), ('to', '0.03', 2, '0.47'), ('different', '0.03', 2, '0.45'), ('places.', '0.03', 2, '0.46'), ('FOr', '0.22', 2, '0.46'), ('example,', '0.10', 2, '0.49'), ('we', '0.15', 2, '0.53'), ('went', '0.05', 2, '0.53'), ('to', '0.04', 2, '0.53'), ('Greece', '0.04', 2, '0.52'), ('and', '0.04', 2, '0.53'), ('unloaded', '0.04', 2, '0.54'), ('there.', '0.03', 2, '0.54'), ('We', '0.12', 2, '0.54'), ('carry', '0.05', 2, '0.52'), ('horses,', '0.04', 2, '0.52'), ('young', '0.03', 2, '0.53'), ('cows,', '0.03', 2, '0.51'), ('and', '0.03', 2, '0.53'), ('mules.', '0.03', 2, '0.51'), ('We', '0.22', 2, '0.49'), ('also', '0.06', 2, '0.49'), ('have', '0.05', 2, '0.51'), ('spare', '0.04', 2, '0.52'), ('time', '0.03', 2, '0.50'), ('on', '0.04', 2, '0.49'), ('the', '0.04', 2, '0.49'), ('ship.', '0.03', 2, '0.50'), ('We', '0.15', 2, '0.53'), ('do', '0.05', 2, '0.53'), ('table', '0.04', 2, '0.52'), ('tennis', '0.03', 2, '0.50'), ('tournaments,', '0.03', 2, '0.52'), ('fencing,', '0.04', 2, '0.52'), ('boxing,', '0.03', 2, '0.51'), ('readong,', '0.03', 2, '0.52'), ('whittling,', '0.04', 2, '0.51'), ('and', '0.05', 2, '0.53'), ('we', '0.06', 2, '0.55'), ('can', '0.03', 2, '0.53'), ('play', '0.03', 2, '0.52'), ('volleyball', '0.03', 2, '0.51'), ('and', '0.03', 2, '0.52'), ('baseball.\"', '0.04', 2, '0.49'), ('I', '0.25', 2, '0.36'), ('explained.', '0.08', 2, '0.38'), ('\"That', '0.45', 0, '0.32'), ('sounds', '0.25', 0, '0.26'), ('very', '0.08', 2, '0.26'), ('exiting!\"', '0.06', 2, '0.26'), ('Where', '0.34', 0, '0.29'), ('do', '0.11', 0, '0.28'), ('I', '0.08', 0, '0.29'), ('sign', '0.06', 0, '0.29'), ('up?\"', '0.05', 0, '0.28'), ('he', '0.19', 0, '0.31'), ('askeed.', '0.05', 0, '0.37'), ('I', '0.31', 2, '0.37'), ('handed', '0.04', 0, '0.39'), ('him', '0.03', 2, '0.39'), ('a', '0.02', 2, '0.39'), ('paper.', '0.02', 2, '0.40'), ('\"Put', '0.11', 2, '0.40'), ('your', '0.08', 2, '0.41'), ('adress,', '0.02', 2, '0.41'), ('first', '0.03', 2, '0.40'), ('and', '0.01', 2, '0.40'), ('last', '0.02', 2, '0.39'), ('name,', '0.01', 2, '0.39'), ('and', '0.02', 2, '0.41'), ('age', '0.01', 2, '0.40'), ('on', '0.01', 2, '0.42'), ('here.', '0.02', 2, '0.41'), ('We', '0.14', 2, '0.41'), ('leave', '0.02', 2, '0.42'), ('in', '0.02', 2, '0.43'), ('a', '0.01', 2, '0.45'), ('week', '0.01', 2, '0.42'), ('to', '0.01', 2, '0.43'), ('head', '0.01', 2, '0.43'), ('bak', '0.02', 2, '0.42'), ('c', '0.02', 2, '0.40'), ('out,', '0.02', 2, '0.42'), ('so', '0.04', 2, '0.44'), ('in', '0.04', 2, '0.43'), ('a', '0.01', 2, '0.44'), ('couple', '0.01', 2, '0.43'), ('of', '0.01', 2, '0.43'), ('days', '0.01', 2, '0.43'), ('someone', '0.02', 2, '0.43'), ('will', '0.01', 2, '0.43'), ('show', '0.01', 2, '0.43'), ('up', '0.01', 2, '0.44'), ('and', '0.01', 2, '0.43'), ('say', '0.01', 2, '0.42'), ('if', '0.01', 2, '0.43'), ('you', '0.01', 2, '0.43'), ('are', '0.01', 2, '0.44'), ('drafted', '0.01', 2, '0.42'), ('or', '0.01', 2, '0.44'), ('not.\"', '0.01', 2, '0.42'), ('\"Thanks!\"', '0.22', 0, '0.40'), ('He', '0.10', 0, '0.38'), ('said', '0.02', 0, '0.40'), ('after', '0.03', 0, '0.40'), ('signing', '0.02', 0, '0.38'), ('the', '0.02', 2, '0.40'), ('paper.', '0.01', 2, '0.39'), ('It', '0.41', 2, '0.38'), ('was', '0.03', 0, '0.37'), ('getting', '0.02', 2, '0.37'), ('dark,', '0.02', 0, '0.37'), ('so', '0.06', 2, '0.39'), ('Don', '0.07', 2, '0.37'), ('and', '0.03', 2, '0.38'), ('I', '0.02', 2, '0.38'), ('decided', '0.02', 2, '0.39'), ('to', '0.01', 2, '0.38'), ('head', '0.01', 2, '0.38'), ('home', '0.01', 2, '0.38'), ('together.', '0.02', 2, '0.38'), ('We', '0.18', 2, '0.42'), ('talked', '0.03', 2, '0.42'), ('about', '0.01', 2, '0.42'), ('small', '0.02', 2, '0.42'), ('things', '0.01', 2, '0.42'), ('like', '0.02', 2, '0.43'), ('where', '0.03', 2, '0.41'), ('we', '0.02', 2, '0.41'), ('might', '0.01', 2, '0.42'), ('go', '0.01', 2, '0.42'), ('nest,', '0.02', 2, '0.42'), ('how', '0.04', 2, '0.42'), ('long', '0.01', 2, '0.41'), ('we', '0.02', 2, '0.41'), ('will', '0.01', 2, '0.42'), ('continue', '0.01', 2, '0.42'), ('doing', '0.01', 2, '0.42'), ('this,', '0.01', 2, '0.42'), ('and', '0.04', 2, '0.42'), ('we', '0.04', 2, '0.43'), ('also', '0.01', 2, '0.46'), ('talked', '0.01', 2, '0.45'), ('about', '0.00', 2, '0.44'), ('other', '0.01', 2, '0.44'), ('jobs', '0.00', 2, '0.43'), ('we', '0.01', 2, '0.45'), ('might', '0.00', 2, '0.45'), ('want.', '0.00', 2, '0.44'), ('I', '0.16', 2, '0.43'), ('got', '0.02', 2, '0.43'), ('home', '0.01', 0, '0.42'), ('and', '0.01', 2, '0.42'), ('went', '0.01', 0, '0.42'), ('to', '0.00', 0, '0.42'), ('my', '0.01', 2, '0.41'), ('room.', '0.00', 0, '0.42'), ('It', '0.07', 2, '0.44'), ('was', '0.01', 2, '0.43'), ('a', '0.01', 2, '0.45'), ('long', '0.00', 2, '0.43'), ('day,', '0.00', 2, '0.42'), ('so', '0.01', 2, '0.43'), ('I', '0.01', 2, '0.43'), ('went', '0.01', 2, '0.44'), ('to', '0.00', 2, '0.44'), ('bed', '0.00', 2, '0.43'), ('shortly', '0.01', 2, '0.45'), ('after.', '0.01', 2, '0.45'), ('I', '0.20', 2, '0.39'), ('woke', '0.02', 2, '0.40'), ('up', '0.02', 2, '0.39'), ('to', '0.02', 2, '0.41'), ('the', '0.02', 2, '0.41'), ('sun', '0.02', 2, '0.40'), ('peering', '0.01', 2, '0.41'), ('into', '0.01', 2, '0.41'), ('my', '0.01', 2, '0.42'), ('room', '0.01', 2, '0.40'), ('through', '0.01', 2, '0.40'), ('the', '0.01', 2, '0.41'), ('window.', '0.01', 2, '0.40'), ('The', '0.10', 2, '0.41'), ('house', '0.02', 2, '0.40'), ('already', '0.02', 2, '0.43'), ('smelled', '0.01', 2, '0.41'), ('like', '0.01', 2, '0.42'), ('blueberry', '0.02', 2, '0.40'), ('muffins.', '0.01', 2, '0.40'), ('\"Good', '0.10', 2, '0.39'), ('moring,', '0.03', 0, '0.41'), ('sweetie.\"', '0.02', 0, '0.40'), ('my', '0.05', 0, '0.39'), ('mom', '0.02', 0, '0.40'), ('greeted.', '0.02', 0, '0.39'), ('\"', '0.11', 0, '0.39'), ('Good', '0.07', 0, '0.39'), ('morning,', '0.02', 0, '0.42'), ('Mom.', '0.03', 0, '0.41'), ('Muffins', '0.07', 0, '0.39'), ('smell', '0.02', 0, '0.41'), ('good.\"', '0.02', 0, '0.40'), ('I', '0.05', 0, '0.39'), ('said.', '0.02', 0, '0.41'), ('\"Eat', '0.09', 2, '0.39'), ('up.\"', '0.04', 0, '0.41'), ('She', '0.10', 2, '0.39'), ('put', '0.02', 0, '0.39'), ('a', '0.01', 2, '0.39'), ('plate', '0.01', 0, '0.39'), ('in', '0.01', 0, '0.39'), ('front', '0.01', 0, '0.38'), ('of', '0.02', 2, '0.39'), ('me', '0.01', 2, '0.39'), ('with', '0.01', 2, '0.39'), ('2', '0.02', 2, '0.39'), ('muffins.', '0.01', 2, '0.38'), ('I', '0.07', 2, '0.39'), ('devoured', '0.02', 2, '0.39'), ('them', '0.02', 2, '0.39'), ('pretty', '0.02', 2, '0.41'), ('quickly.', '0.01', 2, '0.40'), ('At', '0.29', 2, '0.34'), ('3', '0.05', 2, '0.35'), ('I', '0.07', 2, '0.37'), ('am', '0.02', 2, '0.36'), ('meeting', '0.02', 2, '0.35'), ('Sam', '0.04', 2, '0.35'), ('for', '0.02', 2, '0.37'), ('his', '0.02', 2, '0.37'), ('decison.', '0.01', 2, '0.37'), ('I', '0.23', 2, '0.35'), ('hope', '0.06', 2, '0.33'), ('he', '0.05', 2, '0.35'), ('decides', '0.02', 2, '0.35'), ('to', '0.02', 2, '0.35'), ('do', '0.02', 2, '0.34'), ('it.\"', '0.02', 2, '0.35'), ('I', '0.13', 0, '0.34'), ('said.', '0.03', 0, '0.38'), ('\"Me', '0.16', 2, '0.34'), ('too.', '0.05', 0, '0.35'), ('It', '0.19', 2, '0.33'), ('would', '0.01', 2, '0.42'), ('be', '0.01', 2, '0.43'), ('fun', '0.01', 2, '0.42'), ('for', '0.02', 2, '0.42'), ('the', '0.01', 2, '0.44'), ('three', '0.01', 2, '0.42'), ('of', '0.01', 2, '0.42'), ('you.\"', '0.01', 2, '0.40'), ('A', '0.35', 2, '0.44'), ('little', '0.02', 2, '0.44'), ('later', '0.02', 2, '0.45'), ('I', '0.06', 2, '0.49'), ('took', '0.01', 2, '0.48'), ('the', '0.01', 2, '0.49'), ('papers', '0.01', 2, '0.50'), ('of', '0.00', 2, '0.49'), ('all', '0.00', 2, '0.50'), ('the', '0.01', 2, '0.49'), ('people', '0.00', 2, '0.50'), ('I', '0.01', 2, '0.49'), ('have', '0.00', 2, '0.49'), ('gotten', '0.00', 2, '0.49'), ('to', '0.01', 2, '0.50'), ('my', '0.01', 2, '0.48'), ('boss.', '0.01', 2, '0.47'), ('He', '0.07', 2, '0.50'), ('lived', '0.01', 2, '0.50'), ('right', '0.00', 2, '0.53'), ('in', '0.00', 2, '0.51'), ('town.', '0.00', 2, '0.50'), ('It', '0.05', 2, '0.53'), ('took', '0.01', 2, '0.50'), ('me', '0.01', 2, '0.48'), ('about', '0.00', 2, '0.49'), ('10', '0.01', 2, '0.49'), ('minutes', '0.00', 2, '0.48'), ('to', '0.01', 2, '0.51'), ('get', '0.00', 2, '0.48'), ('there.', '0.00', 2, '0.49'), ('I', '0.05', 2, '0.50'), ('knocked', '0.01', 2, '0.46'), ('on', '0.01', 2, '0.45'), ('his', '0.01', 2, '0.46'), ('door.', '0.00', 2, '0.45'), ('\"Hello', '0.04', 2, '0.46'), ('Luke!\"', '0.02', 0, '0.43'), ('he', '0.02', 0, '0.44'), ('said.', '0.01', 0, '0.44'), ('\"Hey', '0.05', 2, '0.45'), ('Mr.', '0.02', 0, '0.45'), ('Kyle.', '0.01', 0, '0.44'), ('I', '0.05', 2, '0.46'), ('brought', '0.01', 2, '0.43'), ('you', '0.01', 2, '0.46'), ('some', '0.01', 2, '0.44'), ('more', '0.01', 2, '0.45'), ('papers', '0.01', 2, '0.45'), ('of', '0.00', 2, '0.45'), ('people.\"', '0.01', 2, '0.46'), ('I', '0.02', 0, '0.42'), ('told', '0.01', 0, '0.44'), ('him.', '0.01', 0, '0.42'), ('\"Great!\"', '0.07', 2, '0.44'), ('I', '0.07', 2, '0.47'), ('will', '0.01', 2, '0.44'), ('look', '0.01', 2, '0.44'), ('through', '0.00', 2, '0.45'), ('them', '0.01', 2, '0.44'), ('right', '0.01', 2, '0.45'), ('now', '0.00', 2, '0.43'), ('actually.\"', '0.01', 2, '0.45'), ('he', '0.03', 2, '0.42'), ('exclaimed.', '0.01', 2, '0.43'), ('\"I', '0.07', 2, '0.44'), ('might', '0.02', 2, '0.44'), ('have', '0.01', 2, '0.43'), ('one', '0.01', 2, '0.43'), ('more', '0.01', 2, '0.45'), ('later', '0.01', 2, '0.45'), ('today', '0.01', 2, '0.42'), ('also.\"', '0.01', 2, '0.44'), ('I', '0.04', 0, '0.42'), ('said,', '0.01', 0, '0.45'), ('getting', '0.02', 0, '0.42'), ('exited.', '0.01', 0, '0.42'), ('\"Wonderful.', '0.08', 0, '0.42'), ('COme', '0.05', 2, '0.41'), ('back', '0.01', 0, '0.44'), ('and', '0.01', 0, '0.42'), ('let', '0.01', 0, '0.42'), ('me', '0.01', 0, '0.42'), ('know,', '0.00', 0, '0.42'), ('alright?', '0.01', 0, '0.45'), ('he', '0.05', 0, '0.43'), ('smiled.', '0.01', 0, '0.44'), ('\"Will', '0.09', 0, '0.44'), ('do.\"', '0.02', 0, '0.47'), ('I', '0.08', 2, '0.40'), ('walked', '0.01', 0, '0.43'), ('back', '0.01', 0, '0.43'), ('to', '0.01', 0, '0.43'), ('the', '0.01', 0, '0.41'), ('sidewalk.', '0.01', 0, '0.42'), ('I', '0.15', 2, '0.41'), ('went', '0.02', 2, '0.41'), ('to', '0.01', 2, '0.42'), ('the', '0.01', 2, '0.42'), ('library,', '0.01', 2, '0.41'), ('the', '0.01', 2, '0.43'), ('market,', '0.01', 2, '0.42'), ('and', '0.01', 2, '0.44'), ('the', '0.01', 2, '0.44'), ('barn', '0.01', 2, '0.42'), ('just', '0.01', 2, '0.43'), ('to', '0.01', 2, '0.43'), ('kill', '0.00', 2, '0.41'), ('time.', '0.00', 2, '0.41'), ('It', '0.10', 2, '0.41'), ('eventually', '0.01', 2, '0.43'), ('became', '0.01', 2, '0.42'), ('3,', '0.01', 2, '0.41'), ('so', '0.03', 2, '0.44'), ('I', '0.02', 2, '0.41'), ('walked', '0.01', 2, '0.42'), ('to', '0.01', 2, '0.42'), ('the', '0.01', 2, '0.40'), ('Big', '0.01', 2, '0.40'), ('Tree.', '0.01', 2, '0.40'), ('Sam', '0.07', 0, '0.38'), ('was', '0.01', 2, '0.39'), ('already', '0.01', 2, '0.42'), ('there.', '0.01', 2, '0.41'), ('\"Hey', '0.11', 0, '0.42'), ('Sam!\"', '0.03', 0, '0.43'), ('I', '0.03', 0, '0.42'), ('Greeted', '0.01', 0, '0.42'), ('him.', '0.01', 0, '0.43'), ('\"I\\'ll', '0.18', 0, '0.40'), ('do', '0.02', 0, '0.37'), ('it!\"', '0.01', 0, '0.35'), ('he', '0.06', 0, '0.40'), ('exclaimed.', '0.02', 0, '0.38'), ('\"Really?\"', '0.14', 0, '0.43'), ('I', '0.05', 0, '0.41'), ('asked.', '0.01', 0, '0.47'), ('\"Yeah.\"', '0.09', 0, '0.42'), ('he', '0.06', 0, '0.43'), ('replied.', '0.01', 0, '0.44'), ('\"Great!\"', '0.14', 0, '0.42'), (\"Let's\", '0.16', 0, '0.40'), ('go', '0.01', 0, '0.42'), ('to', '0.01', 0, '0.39'), ('Mr.', '0.02', 0, '0.39'), ('Kyle.\"', '0.01', 0, '0.40'), ('I', '0.04', 0, '0.40'), ('said.', '0.01', 0, '0.44')]\n"
     ]
    }
   ],
   "source": [
    "vis('D753B3C6BDDA')"
   ]
  },
  {
   "cell_type": "code",
   "execution_count": null,
   "metadata": {},
   "outputs": [],
   "source": [
    "ids = list(set(df_gt['id']))"
   ]
  },
  {
   "cell_type": "code",
   "execution_count": null,
   "metadata": {},
   "outputs": [
    {
     "name": "stderr",
     "output_type": "stream",
     "text": [
      "ic| <ipython-input-34-dedd7e5b98d6>:2 in <module>- id: 'EC8FCCDB698A'\n"
     ]
    },
    {
     "name": "stdout",
     "output_type": "stream",
     "text": [
      "\n",
      " +---------+------------+------------+-----------+\n",
      "|   Claim |   Evidence |   Position |   Overall |\n",
      "|---------+------------+------------+-----------|\n",
      "|  0.3333 |        0.4 |          0 |    0.2444 |\n",
      "+---------+------------+------------+-----------+\n"
     ]
    },
    {
     "data": {
      "text/html": [
       "<span class=\"tex2jax_ignore\"><div class=\"entities\" style=\"line-height: 2.5; direction: ltr\">\n",
       "<mark class=\"entity\" style=\"background: #AB4DE1; padding: 0.45em 0.6em; margin: 0 0.25em; line-height: 1; border-radius: 0.35em;\">\n",
       "    Venus is worth studying \n",
       "    <span style=\"font-size: 0.8em; font-weight: bold; line-height: 1; border-radius: 0.35em; vertical-align: middle; margin-left: 0.5rem\">Position</span>\n",
       "</mark>\n",
       "\n",
       "<mark class=\"entity\" style=\"background: #ddd; padding: 0.45em 0.6em; margin: 0 0.25em; line-height: 1; border-radius: 0.35em;\">\n",
       "    because \n",
       "    <span style=\"font-size: 0.8em; font-weight: bold; line-height: 1; border-radius: 0.35em; vertical-align: middle; margin-left: 0.5rem\">Nothing</span>\n",
       "</mark>\n",
       "\n",
       "<mark class=\"entity\" style=\"background: #1EDE71; padding: 0.45em 0.6em; margin: 0 0.25em; line-height: 1; border-radius: 0.35em;\">\n",
       "    when they study it they called it an &quot;Evening Star&quot; also a &quot;twin&quot; of earth. \n",
       "    <span style=\"font-size: 0.8em; font-weight: bold; line-height: 1; border-radius: 0.35em; vertical-align: middle; margin-left: 0.5rem\">Claim</span>\n",
       "</mark>\n",
       "\n",
       "<mark class=\"entity\" style=\"background: #33FAFA; padding: 0.45em 0.6em; margin: 0 0.25em; line-height: 1; border-radius: 0.35em;\">\n",
       "    It's the closest planet to earth, It is the closest in distence as well. Venus also has a 97% carbon diocide blanket, but on the surface its 800 degrees Fahrenheight. \n",
       "    <span style=\"font-size: 0.8em; font-weight: bold; line-height: 1; border-radius: 0.35em; vertical-align: middle; margin-left: 0.5rem\">Evidence</span>\n",
       "</mark>\n",
       "\n",
       "<mark class=\"entity\" style=\"background: #ddd; padding: 0.45em 0.6em; margin: 0 0.25em; line-height: 1; border-radius: 0.35em;\">\n",
       "    Since \n",
       "    <span style=\"font-size: 0.8em; font-weight: bold; line-height: 1; border-radius: 0.35em; vertical-align: middle; margin-left: 0.5rem\">Nothing</span>\n",
       "</mark>\n",
       "\n",
       "<mark class=\"entity\" style=\"background: #1EDE71; padding: 0.45em 0.6em; margin: 0 0.25em; line-height: 1; border-radius: 0.35em;\">\n",
       "    the conditions of the planet are like that its way to extreme for humans to live there. \n",
       "    <span style=\"font-size: 0.8em; font-weight: bold; line-height: 1; border-radius: 0.35em; vertical-align: middle; margin-left: 0.5rem\">Claim</span>\n",
       "</mark>\n",
       "\n",
       "<mark class=\"entity\" style=\"background: #33FAFA; padding: 0.45em 0.6em; margin: 0 0.25em; line-height: 1; border-radius: 0.35em;\">\n",
       "    Venus is also has the hottest suface temperature in our solar system, even thou Mercury is closest to the sun Venus is till hotter. It has eruputing volcanoes, powerful earthquakes and frequesnt lightning strikes that happen on the surface of the planet. \n",
       "    <span style=\"font-size: 0.8em; font-weight: bold; line-height: 1; border-radius: 0.35em; vertical-align: middle; margin-left: 0.5rem\">Evidence</span>\n",
       "</mark>\n",
       "\n",
       "<mark class=\"entity\" style=\"background: #1EDE71; padding: 0.45em 0.6em; margin: 0 0.25em; line-height: 1; border-radius: 0.35em;\">\n",
       "    Scientist think that long ago Venus was like Earth, but even now it still has some of the features that Earth has. \n",
       "    <span style=\"font-size: 0.8em; font-weight: bold; line-height: 1; border-radius: 0.35em; vertical-align: middle; margin-left: 0.5rem\">Claim</span>\n",
       "</mark>\n",
       "\n",
       "<mark class=\"entity\" style=\"background: #ddd; padding: 0.45em 0.6em; margin: 0 0.25em; line-height: 1; border-radius: 0.35em;\">\n",
       "    It has the rocky sediment, valleys, mountains, craters. NASA is working to keep studying Venus. They have done fom silicon carbide tests that are simulations of the chaos of Venus's surface. \n",
       "    <span style=\"font-size: 0.8em; font-weight: bold; line-height: 1; border-radius: 0.35em; vertical-align: middle; margin-left: 0.5rem\">Nothing</span>\n",
       "</mark>\n",
       "\n",
       "<mark class=\"entity\" style=\"background: #1EDE71; padding: 0.45em 0.6em; margin: 0 0.25em; line-height: 1; border-radius: 0.35em;\">\n",
       "    One of the things is that they are still striving to meet the challenge presented by Venus. \n",
       "    <span style=\"font-size: 0.8em; font-weight: bold; line-height: 1; border-radius: 0.35em; vertical-align: middle; margin-left: 0.5rem\">Claim</span>\n",
       "</mark>\n",
       "\n",
       "<mark class=\"entity\" style=\"background: #33FAFA; padding: 0.45em 0.6em; margin: 0 0.25em; line-height: 1; border-radius: 0.35em;\">\n",
       "    So if there is a way that they are able to go there and get more samples from Venus, then maybe that might tell the scientist what might have been there before and help them out with the previous clues as what happened. They also didn't think about how fast the computers we have today would be. But they also said that just imagine exposing a cell phone, tablet to acid, or heat compatible of a metling tin, that must be what the heat is like on Venus. And since they can't be on Venus just orbiting or hovering safely they can't get the samples that they want from that distance.\n",
       "    <span style=\"font-size: 0.8em; font-weight: bold; line-height: 1; border-radius: 0.35em; vertical-align: middle; margin-left: 0.5rem\">Evidence</span>\n",
       "</mark>\n",
       "</div></span>"
      ],
      "text/plain": [
       "<IPython.core.display.HTML object>"
      ]
     },
     "metadata": {},
     "output_type": "display_data"
    },
    {
     "data": {
      "text/html": [
       "<span class=\"tex2jax_ignore\"><div class=\"entities\" style=\"line-height: 2.5; direction: ltr\">Venus is worth studying \n",
       "<mark class=\"entity\" style=\"background: #1EDE71; padding: 0.45em 0.6em; margin: 0 0.25em; line-height: 1; border-radius: 0.35em;\">\n",
       "    because when they study it they called it an &quot;Evening Star&quot; also a &quot;twin&quot; of earth. \n",
       "    <span style=\"font-size: 0.8em; font-weight: bold; line-height: 1; border-radius: 0.35em; vertical-align: middle; margin-left: 0.5rem\">Claim</span>\n",
       "</mark>\n",
       "\n",
       "<mark class=\"entity\" style=\"background: #33FAFA; padding: 0.45em 0.6em; margin: 0 0.25em; line-height: 1; border-radius: 0.35em;\">\n",
       "    It's the closest planet to earth, It is the closest in distence as well. Venus also has a 97% carbon diocide blanket, but on the surface its 800 degrees Fahrenheight. Since the conditions of the planet are like that its way to extreme for humans to live there. Venus is also has the hottest suface temperature in our solar system, even thou Mercury is closest to the sun Venus is till hotter. It has eruputing volcanoes, powerful earthquakes and frequesnt lightning strikes that happen on the surface of the planet. Scientist think that long ago Venus was like Earth, but even now it still has some of the features that Earth has. It has the rocky sediment, valleys, mountains, craters. \n",
       "    <span style=\"font-size: 0.8em; font-weight: bold; line-height: 1; border-radius: 0.35em; vertical-align: middle; margin-left: 0.5rem\">Evidence</span>\n",
       "</mark>\n",
       "\n",
       "<mark class=\"entity\" style=\"background: #1EDE71; padding: 0.45em 0.6em; margin: 0 0.25em; line-height: 1; border-radius: 0.35em;\">\n",
       "    NASA is working to keep studying Venus. \n",
       "    <span style=\"font-size: 0.8em; font-weight: bold; line-height: 1; border-radius: 0.35em; vertical-align: middle; margin-left: 0.5rem\">Claim</span>\n",
       "</mark>\n",
       "\n",
       "<mark class=\"entity\" style=\"background: #33FAFA; padding: 0.45em 0.6em; margin: 0 0.25em; line-height: 1; border-radius: 0.35em;\">\n",
       "    They have done fom silicon carbide tests that are simulations of the chaos of Venus's surface. One of the things is that they are still striving to meet the challenge presented by Venus. So if there is a way that they are able to go there and get more samples from Venus, then maybe that might tell the scientist what might have been there before and help them out with the previous clues as what happened. They also didn't think about how fast the computers we have today would be. But they also said that just imagine exposing a cell phone, tablet to acid, or heat compatible of a metling tin, that must be what the heat is like on Venus. And since they can't be on Venus just orbiting or hovering safely they can't get the samples that they want from that distance.\n",
       "    <span style=\"font-size: 0.8em; font-weight: bold; line-height: 1; border-radius: 0.35em; vertical-align: middle; margin-left: 0.5rem\">Evidence</span>\n",
       "</mark>\n",
       "</div></span>"
      ],
      "text/plain": [
       "<IPython.core.display.HTML object>"
      ]
     },
     "metadata": {},
     "output_type": "display_data"
    },
    {
     "name": "stdout",
     "output_type": "stream",
     "text": [
      "EC8FCCDB698A\n"
     ]
    },
    {
     "name": "stderr",
     "output_type": "stream",
     "text": [
      "ic| <ipython-input-17-15bf9090b021>:31 in visulize()\n",
      "    text_cn: [('金星值得学习', 'Position'),\n",
      "              ('[NONE]', 'Nothing'),\n",
      "              ('当他们研究它时，他们称之为“傍晚的明星”，也是地球的“双胞胎”。', 'Claim'),\n",
      "              ('这是地球上最近的行星，它也是最远的差距。维纳斯还拥有97％的二氧化碳毯，但表面上的800 [BR] [BR]华氏度。', 'Evidence'),\n",
      "              ('自从', 'Nothing'),\n",
      "              ('这个星球的条件就像那种对人类生活在那里的极端。', 'Claim'),\n",
      "              ('维纳斯也具有我们太阳系中最热门的表面温度，即使你的水星最接近Sun Venus是较热的。它有腐蚀的火山，强大的地震和频率漏粉，在地球表面上发生。',\n",
      "               'Evidence'),\n",
      "              ('科学家认为，很久以前维纳斯就像地球，但即使现在它仍然拥有地球的一些功能。', 'Claim'),\n",
      "              ('它有岩石沉积物，山谷，山脉，陨石坑。美国宇航局正在努力继续学习金星。他们已经完成了碳化硅测试，这些碳化硅测试是金星表面的混乱的模拟。',\n",
      "               'Nothing'),\n",
      "              ('其中一个是他们仍在努力满足金星所呈现的挑战。', 'Claim'),\n",
      "              ('因此，如果有一种方法可以去那里并获得更多的样本，那么可能会告诉科学家可能在此之前有什么可能存在的东西，并在前面的线索中帮助他们出来的那样。他们也没有想到我们今天的计算机的快速。但他们还表示，只想想象暴露手机，平板电脑到酸，或者兼容金属锡，必须是金星上的热量。由于他们不能在金星上，只是轨道或安全地徘徊，他们无法获得他们想要的样本。',\n",
      "               'Evidence')]\n"
     ]
    },
    {
     "name": "stdout",
     "output_type": "stream",
     "text": [
      "[('Venus', '0.73', 3, '0.94'), ('is', '0.00', 3, '0.92'), ('worth', '0.00', 3, '0.91'), ('studying', '0.00', 3, '0.93'), ('because', '0.71', 1, '0.37'), ('when', '0.24', 1, '0.54'), ('they', '0.00', 1, '0.57'), ('study', '0.00', 1, '0.57'), ('it', '0.00', 1, '0.56'), ('they', '0.00', 1, '0.59'), ('called', '0.00', 1, '0.57'), ('it', '0.00', 1, '0.57'), ('an', '0.00', 1, '0.57'), ('\"Evening', '0.00', 1, '0.58'), ('Star\"', '0.00', 1, '0.56'), ('also', '0.01', 1, '0.58'), ('a', '0.00', 1, '0.57'), ('\"twin\"', '0.00', 1, '0.56'), ('of', '0.00', 1, '0.57'), ('earth.', '0.00', 1, '0.55'), (\"It's\", '0.83', 2, '0.93'), ('the', '0.00', 2, '0.95'), ('closest', '0.00', 2, '0.95'), ('planet', '0.00', 2, '0.94'), ('to', '0.00', 2, '0.95'), ('earth,', '0.00', 2, '0.94'), ('It', '0.01', 2, '0.96'), ('is', '0.00', 2, '0.96'), ('the', '0.00', 2, '0.96'), ('closest', '0.00', 2, '0.96'), ('in', '0.00', 2, '0.96'), ('distence', '0.00', 2, '0.96'), ('as', '0.00', 2, '0.96'), ('well.', '0.00', 2, '0.96'), ('Venus', '0.06', 2, '0.98'), ('also', '0.00', 2, '0.98'), ('has', '0.00', 2, '0.99'), ('a', '0.00', 2, '0.99'), ('97%', '0.00', 2, '0.99'), ('carbon', '0.00', 2, '0.99'), ('diocide', '0.00', 2, '0.98'), ('blanket,', '0.00', 2, '0.99'), ('but', '0.00', 2, '0.99'), ('on', '0.00', 2, '0.99'), ('the', '0.00', 2, '0.99'), ('surface', '0.00', 2, '0.99'), ('its', '0.00', 2, '0.99'), ('800', '0.00', 2, '0.99'), ('degrees', '0.00', 2, '0.99'), ('Fahrenheight.', '0.00', 2, '0.99'), ('Since', '0.17', 2, '0.92'), ('the', '0.00', 2, '0.90'), ('conditions', '0.00', 2, '0.90'), ('of', '0.00', 2, '0.90'), ('the', '0.00', 2, '0.89'), ('planet', '0.00', 2, '0.90'), ('are', '0.00', 2, '0.89'), ('like', '0.00', 2, '0.89'), ('that', '0.00', 2, '0.89'), ('its', '0.00', 2, '0.90'), ('way', '0.00', 2, '0.90'), ('to', '0.00', 2, '0.91'), ('extreme', '0.00', 2, '0.90'), ('for', '0.00', 2, '0.90'), ('humans', '0.00', 2, '0.90'), ('to', '0.00', 2, '0.90'), ('live', '0.00', 2, '0.89'), ('there.', '0.00', 2, '0.89'), ('Venus', '0.10', 2, '0.99'), ('is', '0.00', 2, '0.99'), ('also', '0.00', 2, '0.99'), ('has', '0.00', 2, '0.99'), ('the', '0.00', 2, '0.99'), ('hottest', '0.00', 2, '0.99'), ('suface', '0.00', 2, '0.99'), ('temperature', '0.00', 2, '0.99'), ('in', '0.00', 2, '0.99'), ('our', '0.00', 2, '0.99'), ('solar', '0.00', 2, '0.99'), ('system,', '0.00', 2, '0.99'), ('even', '0.00', 2, '0.99'), ('thou', '0.00', 2, '0.99'), ('Mercury', '0.00', 2, '1.00'), ('is', '0.00', 2, '0.99'), ('closest', '0.00', 2, '0.99'), ('to', '0.00', 2, '0.99'), ('the', '0.00', 2, '0.99'), ('sun', '0.00', 2, '0.99'), ('Venus', '0.00', 2, '0.99'), ('is', '0.00', 2, '0.99'), ('till', '0.00', 2, '0.99'), ('hotter.', '0.00', 2, '0.99'), ('It', '0.01', 2, '0.99'), ('has', '0.00', 2, '0.99'), ('eruputing', '0.00', 2, '0.99'), ('volcanoes,', '0.00', 2, '1.00'), ('powerful', '0.00', 2, '0.99'), ('earthquakes', '0.00', 2, '0.99'), ('and', '0.00', 2, '0.99'), ('frequesnt', '0.00', 2, '0.99'), ('lightning', '0.00', 2, '0.99'), ('strikes', '0.00', 2, '0.99'), ('that', '0.00', 2, '0.99'), ('happen', '0.00', 2, '0.99'), ('on', '0.00', 2, '0.99'), ('the', '0.00', 2, '0.99'), ('surface', '0.00', 2, '0.99'), ('of', '0.00', 2, '0.99'), ('the', '0.00', 2, '0.99'), ('planet.', '0.00', 2, '0.99'), ('Scientist', '0.38', 2, '0.72'), ('think', '0.00', 2, '0.71'), ('that', '0.00', 2, '0.70'), ('long', '0.00', 2, '0.71'), ('ago', '0.00', 2, '0.71'), ('Venus', '0.00', 2, '0.71'), ('was', '0.00', 2, '0.73'), ('like', '0.00', 2, '0.72'), ('Earth,', '0.00', 2, '0.72'), ('but', '0.03', 2, '0.74'), ('even', '0.01', 2, '0.73'), ('now', '0.00', 2, '0.74'), ('it', '0.00', 2, '0.75'), ('still', '0.00', 2, '0.74'), ('has', '0.00', 2, '0.73'), ('some', '0.00', 2, '0.73'), ('of', '0.00', 2, '0.73'), ('the', '0.00', 2, '0.73'), ('features', '0.00', 2, '0.74'), ('that', '0.00', 2, '0.74'), ('Earth', '0.00', 2, '0.75'), ('has.', '0.00', 2, '0.75'), ('It', '0.15', 2, '0.95'), ('has', '0.00', 2, '0.96'), ('the', '0.00', 2, '0.96'), ('rocky', '0.00', 2, '0.96'), ('sediment,', '0.00', 2, '0.96'), ('valleys,', '0.00', 2, '0.96'), ('mountains,', '0.00', 2, '0.96'), ('craters.', '0.00', 2, '0.97'), ('NASA', '0.72', 1, '0.64'), ('is', '0.00', 1, '0.71'), ('working', '0.00', 1, '0.70'), ('to', '0.00', 1, '0.69'), ('keep', '0.00', 1, '0.69'), ('studying', '0.00', 1, '0.70'), ('Venus.', '0.00', 1, '0.72'), ('They', '0.65', 2, '0.97'), ('have', '0.00', 2, '0.98'), ('done', '0.00', 2, '0.98'), ('fom', '0.00', 2, '0.98'), ('silicon', '0.00', 2, '0.98'), ('carbide', '0.00', 2, '0.98'), ('tests', '0.00', 2, '0.98'), ('that', '0.00', 2, '0.98'), ('are', '0.00', 2, '0.98'), ('simulations', '0.00', 2, '0.98'), ('of', '0.00', 2, '0.98'), ('the', '0.00', 2, '0.98'), ('chaos', '0.00', 2, '0.98'), ('of', '0.00', 2, '0.98'), (\"Venus's\", '0.00', 2, '0.98'), ('surface.', '0.00', 2, '0.98'), ('One', '0.04', 2, '0.98'), ('of', '0.00', 2, '0.98'), ('the', '0.00', 2, '0.98'), ('things', '0.00', 2, '0.98'), ('is', '0.00', 2, '0.98'), ('that', '0.00', 2, '0.98'), ('they', '0.00', 2, '0.98'), ('are', '0.00', 2, '0.98'), ('still', '0.00', 2, '0.98'), ('striving', '0.00', 2, '0.98'), ('to', '0.00', 2, '0.98'), ('meet', '0.00', 2, '0.98'), ('the', '0.00', 2, '0.98'), ('challenge', '0.00', 2, '0.98'), ('presented', '0.00', 2, '0.98'), ('by', '0.00', 2, '0.98'), ('Venus.', '0.00', 2, '0.98'), ('So', '0.11', 2, '0.96'), ('if', '0.01', 2, '0.95'), ('there', '0.00', 2, '0.95'), ('is', '0.00', 2, '0.95'), ('a', '0.00', 2, '0.95'), ('way', '0.00', 2, '0.95'), ('that', '0.00', 2, '0.95'), ('they', '0.00', 2, '0.95'), ('are', '0.00', 2, '0.95'), ('able', '0.00', 2, '0.95'), ('to', '0.00', 2, '0.95'), ('go', '0.00', 2, '0.95'), ('there', '0.00', 2, '0.95'), ('and', '0.00', 2, '0.95'), ('get', '0.00', 2, '0.95'), ('more', '0.00', 2, '0.95'), ('samples', '0.00', 2, '0.95'), ('from', '0.00', 2, '0.95'), ('Venus,', '0.00', 2, '0.95'), ('then', '0.00', 2, '0.95'), ('maybe', '0.00', 2, '0.95'), ('that', '0.00', 2, '0.95'), ('might', '0.00', 2, '0.95'), ('tell', '0.00', 2, '0.95'), ('the', '0.00', 2, '0.95'), ('scientist', '0.00', 2, '0.95'), ('what', '0.00', 2, '0.95'), ('might', '0.00', 2, '0.94'), ('have', '0.00', 2, '0.95'), ('been', '0.00', 2, '0.95'), ('there', '0.00', 2, '0.95'), ('before', '0.00', 2, '0.95'), ('and', '0.00', 2, '0.94'), ('help', '0.00', 2, '0.95'), ('them', '0.00', 2, '0.95'), ('out', '0.00', 2, '0.95'), ('with', '0.00', 2, '0.95'), ('the', '0.00', 2, '0.95'), ('previous', '0.00', 2, '0.94'), ('clues', '0.00', 2, '0.95'), ('as', '0.00', 2, '0.95'), ('what', '0.00', 2, '0.95'), ('happened.', '0.00', 2, '0.95'), ('They', '0.31', 2, '0.90'), ('also', '0.00', 2, '0.88'), (\"didn't\", '0.00', 2, '0.89'), ('think', '0.00', 2, '0.88'), ('about', '0.00', 2, '0.88'), ('how', '0.00', 2, '0.88'), ('fast', '0.00', 2, '0.87'), ('the', '0.00', 2, '0.88'), ('computers', '0.00', 2, '0.88'), ('we', '0.00', 2, '0.88'), ('have', '0.00', 2, '0.87'), ('today', '0.00', 2, '0.87'), ('would', '0.00', 2, '0.88'), ('be.', '0.00', 2, '0.87'), ('But', '0.14', 2, '0.96'), ('they', '0.01', 2, '0.97'), ('also', '0.00', 2, '0.97'), ('said', '0.00', 2, '0.98'), ('that', '0.00', 2, '0.98'), ('just', '0.00', 2, '0.98'), ('imagine', '0.00', 2, '0.98'), ('exposing', '0.00', 2, '0.98'), ('a', '0.00', 2, '0.98'), ('cell', '0.00', 2, '0.98'), ('phone,', '0.00', 2, '0.98'), ('tablet', '0.00', 2, '0.98'), ('to', '0.00', 2, '0.98'), ('acid,', '0.00', 2, '0.98'), ('or', '0.00', 2, '0.98'), ('heat', '0.00', 2, '0.98'), ('compatible', '0.00', 2, '0.98'), ('of', '0.00', 2, '0.98'), ('a', '0.00', 2, '0.98'), ('metling', '0.00', 2, '0.98'), ('tin,', '0.00', 2, '0.98'), ('that', '0.00', 2, '0.98'), ('must', '0.00', 2, '0.98'), ('be', '0.00', 2, '0.98'), ('what', '0.00', 2, '0.98'), ('the', '0.00', 2, '0.98'), ('heat', '0.00', 2, '0.98'), ('is', '0.00', 2, '0.98'), ('like', '0.00', 2, '0.98'), ('on', '0.00', 2, '0.98'), ('Venus.', '0.00', 2, '0.98'), ('And', '0.07', 2, '0.94'), ('since', '0.01', 2, '0.94'), ('they', '0.00', 2, '0.95'), (\"can't\", '0.00', 2, '0.95'), ('be', '0.00', 2, '0.94'), ('on', '0.00', 2, '0.94'), ('Venus', '0.00', 2, '0.94'), ('just', '0.00', 2, '0.94'), ('orbiting', '0.00', 2, '0.94'), ('or', '0.00', 2, '0.95'), ('hovering', '0.00', 2, '0.94'), ('safely', '0.00', 2, '0.94'), ('they', '0.00', 2, '0.94'), (\"can't\", '0.00', 2, '0.94'), ('get', '0.00', 2, '0.94'), ('the', '0.00', 2, '0.94'), ('samples', '0.00', 2, '0.94'), ('that', '0.00', 2, '0.94'), ('they', '0.00', 2, '0.94'), ('want', '0.00', 2, '0.94'), ('from', '0.00', 2, '0.94'), ('that', '0.00', 2, '0.94'), ('distance.', '0.00', 2, '0.94')]\n"
     ]
    }
   ],
   "source": [
    "id = ids[random.randint(0, len(ids) - 1)]\n",
    "ic(id)\n",
    "vis(id)"
   ]
  },
  {
   "cell_type": "code",
   "execution_count": null,
   "metadata": {},
   "outputs": [],
   "source": []
  },
  {
   "cell_type": "code",
   "execution_count": null,
   "metadata": {},
   "outputs": [],
   "source": []
  },
  {
   "cell_type": "code",
   "execution_count": null,
   "metadata": {},
   "outputs": [],
   "source": []
  },
  {
   "cell_type": "code",
   "execution_count": null,
   "metadata": {},
   "outputs": [],
   "source": []
  },
  {
   "cell_type": "code",
   "execution_count": null,
   "metadata": {},
   "outputs": [],
   "source": []
  }
 ],
 "metadata": {
  "interpreter": {
   "hash": "0ea47313c94383bf8f680c96aa3342ec5666a2ae764c7d77e71df945692dda57"
  },
  "kernelspec": {
   "display_name": "Python 3.6.13 64-bit (conda)",
   "language": "python",
   "name": "python3"
  },
  "language_info": {
   "codemirror_mode": {
    "name": "ipython",
    "version": 3
   },
   "file_extension": ".py",
   "mimetype": "text/x-python",
   "name": "python",
   "nbconvert_exporter": "python",
   "pygments_lexer": "ipython3",
   "version": "3.7.9"
  },
  "orig_nbformat": 4
 },
 "nbformat": 4,
 "nbformat_minor": 2
}
