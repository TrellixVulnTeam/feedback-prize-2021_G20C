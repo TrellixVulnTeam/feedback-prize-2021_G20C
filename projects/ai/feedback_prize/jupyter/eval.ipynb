{
 "cells": [
  {
   "cell_type": "code",
   "execution_count": 27,
   "metadata": {},
   "outputs": [],
   "source": [
    "import numpy as np\n",
    "import pandas as pd\n",
    "import random\n",
    "import matplotlib.pyplot as plt\n",
    "import plotly.express as px\n",
    "import glob\n",
    "import spacy\n",
    "from collections import defaultdict\n",
    "import sys\n",
    "sys.path.append('../../../../utils')\n",
    "sys.path.append('..')\n",
    "import gezi\n",
    "from gezi import tqdm\n",
    "from src.eval import calc_f1\n",
    "from src.util import *\n",
    "from src import config\n",
    "from src.visualize import *\n",
    "pd.set_option('display.float_format', lambda x: '%.02f' % x)"
   ]
  },
  {
   "cell_type": "code",
   "execution_count": 28,
   "metadata": {},
   "outputs": [],
   "source": [
    "m = {}\n",
    "df_gt = None"
   ]
  },
  {
   "cell_type": "code",
   "execution_count": 29,
   "metadata": {},
   "outputs": [],
   "source": [
    "fold = 0\n",
    "v = 16\n",
    "v = f'{v}.{fold}'\n",
    "mark = 'offline'\n",
    "mns = [ \n",
    "   'tf.roberta-large.x',\n",
    "   'tf.roberta-large.ts=left.x',\n",
    "   'pt.roberta-large.x',\n",
    "   'pt.roberta-large.ts=left.x', \n",
    "   'pt.large.max_len=1024.x',\n",
    "   'pt.large.max_len=1024.ts=left.x',\n",
    "   'pt.large.x',\n",
    "   'pt.large.ts=left.x',\n",
    "  ]\n",
    "# weights = [1,1,1,1,1,1]\n",
    "weights = None\n",
    "classes = [\n",
    "  'Claim', 'Evidence', 'Position', 'Concluding Statement', 'Lead', 'Counterclaim', 'Rebuttal'\n",
    "]"
   ]
  },
  {
   "cell_type": "code",
   "execution_count": 30,
   "metadata": {},
   "outputs": [],
   "source": [
    "model_dirs = [f'../working/{mark}/{v}/{mn}' for mn in mns]\n",
    "mn = mns[0]"
   ]
  },
  {
   "cell_type": "code",
   "execution_count": 31,
   "metadata": {},
   "outputs": [
    {
     "data": {
      "text/plain": [
       "['python', './main.py']"
      ]
     },
     "execution_count": 31,
     "metadata": {},
     "output_type": "execute_result"
    }
   ],
   "source": [
    "model_dir = f'../working/{mark}/{v}/{mn}'\n",
    "argv = open(f'{model_dir}/command.txt').readline().strip().split()\n",
    "FLAGS(argv)\n",
    "# FLAGS.adjust_prob = True\n",
    "# FLAGS.sent_min_len = 2\n",
    "# FLAGS.sent_min_len2 = 6\n",
    "# FLAGS.post_reduce_method = 'first'"
   ]
  },
  {
   "cell_type": "code",
   "execution_count": 32,
   "metadata": {},
   "outputs": [],
   "source": [
    "xs = [gezi.load(f'{model_dir}/valid.pkl') if model_dir not in m else m[model_dir] for model_dir in model_dirs]\n",
    "for i, model_dir in enumerate(model_dirs):\n",
    "  m[model_dir] = xs[i]\n",
    "\n",
    "num_words = None\n",
    "for x in xs: \n",
    "  if 'num_words' in x: \n",
    "    num_words = x['num_words']\n",
    "    \n",
    "x = xs[0]     \n",
    "for x in xs:\n",
    "  if 'num_words' not in x:\n",
    "    x['num_words'] = num_words"
   ]
  },
  {
   "cell_type": "code",
   "execution_count": 33,
   "metadata": {},
   "outputs": [
    {
     "data": {
      "application/vnd.jupyter.widget-view+json": {
       "model_id": "6dc193f678d9449f9fe2a78f071b4d9c",
       "version_major": 2,
       "version_minor": 0
      },
      "text/plain": [
       "  0%|          | 0/28809 [00:00<?, ?it/s]"
      ]
     },
     "metadata": {},
     "output_type": "display_data"
    },
    {
     "data": {
      "application/vnd.jupyter.widget-view+json": {
       "model_id": "a80b4edea5a541b8aa7a1f367fd8044a",
       "version_major": 2,
       "version_minor": 0
      },
      "text/plain": [
       "  0%|          | 0/28808 [00:00<?, ?it/s]"
      ]
     },
     "metadata": {},
     "output_type": "display_data"
    }
   ],
   "source": [
    "if df_gt is None:\n",
    "  df_gt = pd.read_feather(f'{FLAGS.idir}/train.fea')\n",
    "  eval_ids = set(x['id'])\n",
    "  df_gt = df_gt[df_gt['id'].isin(eval_ids)]\n",
    "  df_gt = prepare(df_gt)\n",
    "  df_gt_ = df_gt.copy()\n",
    "  df_gt_['discourse_type'] = 'Claim'"
   ]
  },
  {
   "cell_type": "code",
   "execution_count": 34,
   "metadata": {},
   "outputs": [
    {
     "data": {
      "application/vnd.jupyter.widget-view+json": {
       "model_id": "15b65f1fce774a39bb20ecc37775335d",
       "version_major": 2,
       "version_minor": 0
      },
      "text/plain": [
       "  0%|          | 0/8 [00:00<?, ?it/s]"
      ]
     },
     "metadata": {},
     "output_type": "display_data"
    }
   ],
   "source": [
    "for i, x in tqdm(enumerate(xs), total=len(xs)):\n",
    "  if 'probs' not in x:\n",
    "    convert_res(x)\n",
    "x = ensemble_res(xs, weights)"
   ]
  },
  {
   "cell_type": "code",
   "execution_count": 35,
   "metadata": {},
   "outputs": [
    {
     "data": {
      "application/vnd.jupyter.widget-view+json": {
       "model_id": "7b14fc6694af4f14a0decf841c57b831",
       "version_major": 2,
       "version_minor": 0
      },
      "text/plain": [
       "get_preds:   0%|          | 0/3119 [00:00<?, ?it/s]"
      ]
     },
     "metadata": {},
     "output_type": "display_data"
    }
   ],
   "source": [
    "df_pred = get_preds(x)"
   ]
  },
  {
   "cell_type": "code",
   "execution_count": 36,
   "metadata": {},
   "outputs": [
    {
     "data": {
      "text/html": [
       "<div>\n",
       "<style scoped>\n",
       "    .dataframe tbody tr th:only-of-type {\n",
       "        vertical-align: middle;\n",
       "    }\n",
       "\n",
       "    .dataframe tbody tr th {\n",
       "        vertical-align: top;\n",
       "    }\n",
       "\n",
       "    .dataframe thead th {\n",
       "        text-align: right;\n",
       "    }\n",
       "</style>\n",
       "<table border=\"1\" class=\"dataframe\">\n",
       "  <thead>\n",
       "    <tr style=\"text-align: right;\">\n",
       "      <th></th>\n",
       "      <th>id</th>\n",
       "      <th>class</th>\n",
       "      <th>predictionstring</th>\n",
       "    </tr>\n",
       "  </thead>\n",
       "  <tbody>\n",
       "    <tr>\n",
       "      <th>0</th>\n",
       "      <td>367111CA290A</td>\n",
       "      <td>Lead</td>\n",
       "      <td>4 5 6 7 8 9 10 11 12 13 14 15 16 17 18 19 20 2...</td>\n",
       "    </tr>\n",
       "    <tr>\n",
       "      <th>1</th>\n",
       "      <td>367111CA290A</td>\n",
       "      <td>Position</td>\n",
       "      <td>74 75 76 77 78 79 80 81 82 83 84 85 86 87 88 8...</td>\n",
       "    </tr>\n",
       "    <tr>\n",
       "      <th>2</th>\n",
       "      <td>367111CA290A</td>\n",
       "      <td>Evidence</td>\n",
       "      <td>93 94 95 96 97 98 99 100 101 102 103 104 105 1...</td>\n",
       "    </tr>\n",
       "    <tr>\n",
       "      <th>3</th>\n",
       "      <td>367111CA290A</td>\n",
       "      <td>Claim</td>\n",
       "      <td>254 255 256 257 258 259 260 261 262 263 264 26...</td>\n",
       "    </tr>\n",
       "    <tr>\n",
       "      <th>4</th>\n",
       "      <td>367111CA290A</td>\n",
       "      <td>Evidence</td>\n",
       "      <td>277 278 279 280 281 282 283 284 285 286 287 28...</td>\n",
       "    </tr>\n",
       "    <tr>\n",
       "      <th>...</th>\n",
       "      <td>...</td>\n",
       "      <td>...</td>\n",
       "      <td>...</td>\n",
       "    </tr>\n",
       "    <tr>\n",
       "      <th>27909</th>\n",
       "      <td>DBFD15D537CA</td>\n",
       "      <td>Claim</td>\n",
       "      <td>96 97 98 99 100 101 102 103 104 105 106 107 10...</td>\n",
       "    </tr>\n",
       "    <tr>\n",
       "      <th>27910</th>\n",
       "      <td>DBFD15D537CA</td>\n",
       "      <td>Evidence</td>\n",
       "      <td>114 115 116 117 118 119 120 121 122 123 124 12...</td>\n",
       "    </tr>\n",
       "    <tr>\n",
       "      <th>27911</th>\n",
       "      <td>DBFD15D537CA</td>\n",
       "      <td>Claim</td>\n",
       "      <td>179 180 181 182 183 184 185 186 187 188 189 19...</td>\n",
       "    </tr>\n",
       "    <tr>\n",
       "      <th>27912</th>\n",
       "      <td>DBFD15D537CA</td>\n",
       "      <td>Evidence</td>\n",
       "      <td>193 194 195 196 197 198 199 200 201 202 203 20...</td>\n",
       "    </tr>\n",
       "    <tr>\n",
       "      <th>27913</th>\n",
       "      <td>DBFD15D537CA</td>\n",
       "      <td>Concluding Statement</td>\n",
       "      <td>295 296 297 298 299 300 301 302 303 304 305 30...</td>\n",
       "    </tr>\n",
       "  </tbody>\n",
       "</table>\n",
       "<p>27914 rows × 3 columns</p>\n",
       "</div>"
      ],
      "text/plain": [
       "                 id                 class  \\\n",
       "0      367111CA290A                  Lead   \n",
       "1      367111CA290A              Position   \n",
       "2      367111CA290A              Evidence   \n",
       "3      367111CA290A                 Claim   \n",
       "4      367111CA290A              Evidence   \n",
       "...             ...                   ...   \n",
       "27909  DBFD15D537CA                 Claim   \n",
       "27910  DBFD15D537CA              Evidence   \n",
       "27911  DBFD15D537CA                 Claim   \n",
       "27912  DBFD15D537CA              Evidence   \n",
       "27913  DBFD15D537CA  Concluding Statement   \n",
       "\n",
       "                                        predictionstring  \n",
       "0      4 5 6 7 8 9 10 11 12 13 14 15 16 17 18 19 20 2...  \n",
       "1      74 75 76 77 78 79 80 81 82 83 84 85 86 87 88 8...  \n",
       "2      93 94 95 96 97 98 99 100 101 102 103 104 105 1...  \n",
       "3      254 255 256 257 258 259 260 261 262 263 264 26...  \n",
       "4      277 278 279 280 281 282 283 284 285 286 287 28...  \n",
       "...                                                  ...  \n",
       "27909  96 97 98 99 100 101 102 103 104 105 106 107 10...  \n",
       "27910  114 115 116 117 118 119 120 121 122 123 124 12...  \n",
       "27911  179 180 181 182 183 184 185 186 187 188 189 19...  \n",
       "27912  193 194 195 196 197 198 199 200 201 202 203 20...  \n",
       "27913  295 296 297 298 299 300 301 302 303 304 305 30...  \n",
       "\n",
       "[27914 rows x 3 columns]"
      ]
     },
     "execution_count": 36,
     "metadata": {},
     "output_type": "execute_result"
    }
   ],
   "source": [
    "df_pred"
   ]
  },
  {
   "cell_type": "code",
   "execution_count": 37,
   "metadata": {},
   "outputs": [
    {
     "data": {
      "application/vnd.jupyter.widget-view+json": {
       "model_id": "fd50f434d9d84bac8a95859327f6679c",
       "version_major": 2,
       "version_minor": 0
      },
      "text/plain": [
       "  0%|          | 0/27914 [00:00<?, ?it/s]"
      ]
     },
     "metadata": {},
     "output_type": "display_data"
    },
    {
     "data": {
      "application/vnd.jupyter.widget-view+json": {
       "model_id": "9e3e52e0199e4e91b69f11f180f49a27",
       "version_major": 2,
       "version_minor": 0
      },
      "text/plain": [
       "  0%|          | 0/27913 [00:00<?, ?it/s]"
      ]
     },
     "metadata": {},
     "output_type": "display_data"
    },
    {
     "data": {
      "text/html": [
       "<div>\n",
       "<style scoped>\n",
       "    .dataframe tbody tr th:only-of-type {\n",
       "        vertical-align: middle;\n",
       "    }\n",
       "\n",
       "    .dataframe tbody tr th {\n",
       "        vertical-align: top;\n",
       "    }\n",
       "\n",
       "    .dataframe thead th {\n",
       "        text-align: right;\n",
       "    }\n",
       "</style>\n",
       "<table border=\"1\" class=\"dataframe\">\n",
       "  <thead>\n",
       "    <tr style=\"text-align: right;\">\n",
       "      <th></th>\n",
       "      <th>id</th>\n",
       "      <th>discourse_type</th>\n",
       "      <th>predictionstring</th>\n",
       "      <th>text</th>\n",
       "      <th>start</th>\n",
       "      <th>essay_len</th>\n",
       "      <th>essay_words</th>\n",
       "      <th>discourse_start</th>\n",
       "      <th>discourse_end</th>\n",
       "      <th>gap_before</th>\n",
       "      <th>gap_length</th>\n",
       "      <th>gap_end_length</th>\n",
       "    </tr>\n",
       "  </thead>\n",
       "  <tbody>\n",
       "    <tr>\n",
       "      <th>0</th>\n",
       "      <td>00213CD75AC3</td>\n",
       "      <td>Lead</td>\n",
       "      <td>0 1 2 3 4 5 6 7 8 9 10 11 12 13 14 15 16 17 18...</td>\n",
       "      <td>Cars have been an issue to our community for a...</td>\n",
       "      <td>0</td>\n",
       "      <td>2209</td>\n",
       "      <td>381</td>\n",
       "      <td>0</td>\n",
       "      <td>123</td>\n",
       "      <td>True</td>\n",
       "      <td>0.00</td>\n",
       "      <td>2086</td>\n",
       "    </tr>\n",
       "    <tr>\n",
       "      <th>1</th>\n",
       "      <td>00213CD75AC3</td>\n",
       "      <td>Claim</td>\n",
       "      <td>24 25 26 27 28 29 30 31 32 33 34 35 36 37</td>\n",
       "      <td>Cars have been an issue to our community for a...</td>\n",
       "      <td>24</td>\n",
       "      <td>2209</td>\n",
       "      <td>381</td>\n",
       "      <td>123</td>\n",
       "      <td>202</td>\n",
       "      <td>False</td>\n",
       "      <td>nan</td>\n",
       "      <td>2007</td>\n",
       "    </tr>\n",
       "    <tr>\n",
       "      <th>2</th>\n",
       "      <td>00213CD75AC3</td>\n",
       "      <td>Claim</td>\n",
       "      <td>38 39 40 41 42 43 44 45 46 47</td>\n",
       "      <td>Cars have been an issue to our community for a...</td>\n",
       "      <td>38</td>\n",
       "      <td>2209</td>\n",
       "      <td>381</td>\n",
       "      <td>202</td>\n",
       "      <td>278</td>\n",
       "      <td>False</td>\n",
       "      <td>nan</td>\n",
       "      <td>1931</td>\n",
       "    </tr>\n",
       "    <tr>\n",
       "      <th>3</th>\n",
       "      <td>00213CD75AC3</td>\n",
       "      <td>Position</td>\n",
       "      <td>48 49 50 51 52 53 54 55 56 57 58 59 60 61 62</td>\n",
       "      <td>Cars have been an issue to our community for a...</td>\n",
       "      <td>48</td>\n",
       "      <td>2209</td>\n",
       "      <td>381</td>\n",
       "      <td>278</td>\n",
       "      <td>354</td>\n",
       "      <td>False</td>\n",
       "      <td>nan</td>\n",
       "      <td>1855</td>\n",
       "    </tr>\n",
       "    <tr>\n",
       "      <th>4</th>\n",
       "      <td>00213CD75AC3</td>\n",
       "      <td>Evidence</td>\n",
       "      <td>63 64 65 66 67 68 69 70 71 72 73 74 75 76 77 7...</td>\n",
       "      <td>Cars have been an issue to our community for a...</td>\n",
       "      <td>63</td>\n",
       "      <td>2209</td>\n",
       "      <td>381</td>\n",
       "      <td>354</td>\n",
       "      <td>693</td>\n",
       "      <td>False</td>\n",
       "      <td>nan</td>\n",
       "      <td>1516</td>\n",
       "    </tr>\n",
       "  </tbody>\n",
       "</table>\n",
       "</div>"
      ],
      "text/plain": [
       "             id discourse_type  \\\n",
       "0  00213CD75AC3           Lead   \n",
       "1  00213CD75AC3          Claim   \n",
       "2  00213CD75AC3          Claim   \n",
       "3  00213CD75AC3       Position   \n",
       "4  00213CD75AC3       Evidence   \n",
       "\n",
       "                                    predictionstring  \\\n",
       "0  0 1 2 3 4 5 6 7 8 9 10 11 12 13 14 15 16 17 18...   \n",
       "1          24 25 26 27 28 29 30 31 32 33 34 35 36 37   \n",
       "2                      38 39 40 41 42 43 44 45 46 47   \n",
       "3       48 49 50 51 52 53 54 55 56 57 58 59 60 61 62   \n",
       "4  63 64 65 66 67 68 69 70 71 72 73 74 75 76 77 7...   \n",
       "\n",
       "                                                text  start  essay_len  \\\n",
       "0  Cars have been an issue to our community for a...      0       2209   \n",
       "1  Cars have been an issue to our community for a...     24       2209   \n",
       "2  Cars have been an issue to our community for a...     38       2209   \n",
       "3  Cars have been an issue to our community for a...     48       2209   \n",
       "4  Cars have been an issue to our community for a...     63       2209   \n",
       "\n",
       "   essay_words  discourse_start  discourse_end  gap_before  gap_length  \\\n",
       "0          381                0            123        True        0.00   \n",
       "1          381              123            202       False         nan   \n",
       "2          381              202            278       False         nan   \n",
       "3          381              278            354       False         nan   \n",
       "4          381              354            693       False         nan   \n",
       "\n",
       "   gap_end_length  \n",
       "0            2086  \n",
       "1            2007  \n",
       "2            1931  \n",
       "3            1855  \n",
       "4            1516  "
      ]
     },
     "execution_count": 37,
     "metadata": {},
     "output_type": "execute_result"
    }
   ],
   "source": [
    "df_pred = pd.merge(df_pred, df_gt[['id', 'text']].drop_duplicates(), on=['id'], how='left')\n",
    "df_pred = prepare(df_pred)\n",
    "df_pred.head()"
   ]
  },
  {
   "cell_type": "code",
   "execution_count": 38,
   "metadata": {},
   "outputs": [
    {
     "name": "stdout",
     "output_type": "stream",
     "text": [
      "0.6961013696135806\n"
     ]
    },
    {
     "data": {
      "text/plain": [
       "{'Claim': 0.6648112167200546,\n",
       " 'Claim/acc': 0.7054496823804748,\n",
       " 'Claim/recall': 0.6285998013902682,\n",
       " 'Evidence': 0.761723298401609,\n",
       " 'Evidence/acc': 0.7418556701030928,\n",
       " 'Evidence/recall': 0.7826843593648032,\n",
       " 'Position': 0.7159261108337494,\n",
       " 'Position/acc': 0.7348821318756406,\n",
       " 'Position/recall': 0.6979234263465283,\n",
       " 'Concluding Statement': 0.8579205225911812,\n",
       " 'Concluding Statement/acc': 0.8341566690190544,\n",
       " 'Concluding Statement/recall': 0.8830780724691819,\n",
       " 'Lead': 0.8176299815254685,\n",
       " 'Lead/acc': 0.8055122204888195,\n",
       " 'Lead/recall': 0.830117899249732,\n",
       " 'Counterclaim': 0.5652173913043478,\n",
       " 'Counterclaim/acc': 0.6183932346723044,\n",
       " 'Counterclaim/recall': 0.5204626334519573,\n",
       " 'Rebuttal': 0.4894810659186536,\n",
       " 'Rebuttal/acc': 0.5601926163723917,\n",
       " 'Rebuttal/recall': 0.43462017434620176,\n",
       " 'Overall': 0.6961013696135806}"
      ]
     },
     "execution_count": 38,
     "metadata": {},
     "output_type": "execute_result"
    }
   ],
   "source": [
    "res = {}\n",
    "f1s = []\n",
    "CLASSES = list(id2dis.values())[1:]\n",
    "for c in CLASSES:\n",
    "  ret = calc_f1(df_gt[df_gt['discourse_type'] == c],\n",
    "               df_pred[df_pred['discourse_type'] == c], return_dict=True)\n",
    "  res[c] = ret['f1']\n",
    "  res[f'{c}/acc'] = ret['acc']\n",
    "  res[f'{c}/recall'] = ret['recall']\n",
    "  f1s.append(ret['f1'])\n",
    "res['Overall'] = np.mean(f1s)\n",
    "print(res['Overall'])\n",
    "res"
   ]
  },
  {
   "cell_type": "code",
   "execution_count": 39,
   "metadata": {},
   "outputs": [
    {
     "name": "stdout",
     "output_type": "stream",
     "text": [
      "ls: cannot access '../working/offline/7.0/pt.large.x1': No such file or directory\n"
     ]
    }
   ],
   "source": [
    "!ls ../working/offline/7.0/pt.large.x1"
   ]
  },
  {
   "cell_type": "code",
   "execution_count": 40,
   "metadata": {},
   "outputs": [
    {
     "data": {
      "application/vnd.jupyter.widget-view+json": {
       "model_id": "a9bdc21204a14b0e8e91ddd368559046",
       "version_major": 2,
       "version_minor": 0
      },
      "text/plain": [
       "  0%|          | 0/3119 [00:00<?, ?it/s]"
      ]
     },
     "metadata": {},
     "output_type": "display_data"
    }
   ],
   "source": [
    "eval_ids = list(eval_ids)\n",
    "f1s = []\n",
    "for id in tqdm(eval_ids):\n",
    "  f1s.append(calc_f1(df_gt[df_gt['id'] == id], df_pred[df_pred['id'] == id]))"
   ]
  },
  {
   "cell_type": "code",
   "execution_count": 47,
   "metadata": {},
   "outputs": [
    {
     "data": {
      "text/html": [
       "<div>\n",
       "<style scoped>\n",
       "    .dataframe tbody tr th:only-of-type {\n",
       "        vertical-align: middle;\n",
       "    }\n",
       "\n",
       "    .dataframe tbody tr th {\n",
       "        vertical-align: top;\n",
       "    }\n",
       "\n",
       "    .dataframe thead th {\n",
       "        text-align: right;\n",
       "    }\n",
       "</style>\n",
       "<table border=\"1\" class=\"dataframe\">\n",
       "  <thead>\n",
       "    <tr style=\"text-align: right;\">\n",
       "      <th></th>\n",
       "      <th>id</th>\n",
       "      <th>f1</th>\n",
       "    </tr>\n",
       "  </thead>\n",
       "  <tbody>\n",
       "    <tr>\n",
       "      <th>0</th>\n",
       "      <td>90631D30D477</td>\n",
       "      <td>0.40</td>\n",
       "    </tr>\n",
       "    <tr>\n",
       "      <th>1</th>\n",
       "      <td>196E73AAF08F</td>\n",
       "      <td>0.77</td>\n",
       "    </tr>\n",
       "    <tr>\n",
       "      <th>2</th>\n",
       "      <td>FF01B32BAC3E</td>\n",
       "      <td>0.80</td>\n",
       "    </tr>\n",
       "    <tr>\n",
       "      <th>3</th>\n",
       "      <td>9215ABF587EB</td>\n",
       "      <td>0.71</td>\n",
       "    </tr>\n",
       "    <tr>\n",
       "      <th>4</th>\n",
       "      <td>05FFBFA9B3BA</td>\n",
       "      <td>0.86</td>\n",
       "    </tr>\n",
       "    <tr>\n",
       "      <th>...</th>\n",
       "      <td>...</td>\n",
       "      <td>...</td>\n",
       "    </tr>\n",
       "    <tr>\n",
       "      <th>3114</th>\n",
       "      <td>0C24337CD49E</td>\n",
       "      <td>0.22</td>\n",
       "    </tr>\n",
       "    <tr>\n",
       "      <th>3115</th>\n",
       "      <td>CE28B6B31CCE</td>\n",
       "      <td>0.71</td>\n",
       "    </tr>\n",
       "    <tr>\n",
       "      <th>3116</th>\n",
       "      <td>A2BCD0012914</td>\n",
       "      <td>0.83</td>\n",
       "    </tr>\n",
       "    <tr>\n",
       "      <th>3117</th>\n",
       "      <td>30E611671A72</td>\n",
       "      <td>0.92</td>\n",
       "    </tr>\n",
       "    <tr>\n",
       "      <th>3118</th>\n",
       "      <td>A222B298A2BF</td>\n",
       "      <td>0.78</td>\n",
       "    </tr>\n",
       "  </tbody>\n",
       "</table>\n",
       "<p>3119 rows × 2 columns</p>\n",
       "</div>"
      ],
      "text/plain": [
       "                id   f1\n",
       "0     90631D30D477 0.40\n",
       "1     196E73AAF08F 0.77\n",
       "2     FF01B32BAC3E 0.80\n",
       "3     9215ABF587EB 0.71\n",
       "4     05FFBFA9B3BA 0.86\n",
       "...            ...  ...\n",
       "3114  0C24337CD49E 0.22\n",
       "3115  CE28B6B31CCE 0.71\n",
       "3116  A2BCD0012914 0.83\n",
       "3117  30E611671A72 0.92\n",
       "3118  A222B298A2BF 0.78\n",
       "\n",
       "[3119 rows x 2 columns]"
      ]
     },
     "execution_count": 47,
     "metadata": {},
     "output_type": "execute_result"
    }
   ],
   "source": [
    "df = pd.DataFrame(\n",
    "  {\n",
    "    'id': eval_ids,\n",
    "    'f1': f1s\n",
    "  }\n",
    ")\n",
    "df"
   ]
  },
  {
   "cell_type": "code",
   "execution_count": 48,
   "metadata": {},
   "outputs": [
    {
     "data": {
      "text/html": [
       "<div>\n",
       "<style scoped>\n",
       "    .dataframe tbody tr th:only-of-type {\n",
       "        vertical-align: middle;\n",
       "    }\n",
       "\n",
       "    .dataframe tbody tr th {\n",
       "        vertical-align: top;\n",
       "    }\n",
       "\n",
       "    .dataframe thead th {\n",
       "        text-align: right;\n",
       "    }\n",
       "</style>\n",
       "<table border=\"1\" class=\"dataframe\">\n",
       "  <thead>\n",
       "    <tr style=\"text-align: right;\">\n",
       "      <th></th>\n",
       "      <th>f1</th>\n",
       "    </tr>\n",
       "  </thead>\n",
       "  <tbody>\n",
       "    <tr>\n",
       "      <th>count</th>\n",
       "      <td>3119.00</td>\n",
       "    </tr>\n",
       "    <tr>\n",
       "      <th>mean</th>\n",
       "      <td>0.69</td>\n",
       "    </tr>\n",
       "    <tr>\n",
       "      <th>std</th>\n",
       "      <td>0.22</td>\n",
       "    </tr>\n",
       "    <tr>\n",
       "      <th>min</th>\n",
       "      <td>0.00</td>\n",
       "    </tr>\n",
       "    <tr>\n",
       "      <th>25%</th>\n",
       "      <td>0.56</td>\n",
       "    </tr>\n",
       "    <tr>\n",
       "      <th>50%</th>\n",
       "      <td>0.73</td>\n",
       "    </tr>\n",
       "    <tr>\n",
       "      <th>75%</th>\n",
       "      <td>0.86</td>\n",
       "    </tr>\n",
       "    <tr>\n",
       "      <th>max</th>\n",
       "      <td>1.00</td>\n",
       "    </tr>\n",
       "  </tbody>\n",
       "</table>\n",
       "</div>"
      ],
      "text/plain": [
       "           f1\n",
       "count 3119.00\n",
       "mean     0.69\n",
       "std      0.22\n",
       "min      0.00\n",
       "25%      0.56\n",
       "50%      0.73\n",
       "75%      0.86\n",
       "max      1.00"
      ]
     },
     "execution_count": 48,
     "metadata": {},
     "output_type": "execute_result"
    }
   ],
   "source": [
    "df.describe()"
   ]
  },
  {
   "cell_type": "code",
   "execution_count": 49,
   "metadata": {},
   "outputs": [],
   "source": [
    "df.sort_values(['f1'], ascending=True, inplace=True)"
   ]
  },
  {
   "cell_type": "code",
   "execution_count": 50,
   "metadata": {},
   "outputs": [
    {
     "data": {
      "text/plain": [
       "array(['8105CDA99A3C', 'F744ABAAC3FB', 'A1F48D16C67B', ...,\n",
       "       '2D36D365D242', '0A3818A64CF5', 'E0ACC902891D'], dtype=object)"
      ]
     },
     "execution_count": 50,
     "metadata": {},
     "output_type": "execute_result"
    }
   ],
   "source": [
    "df.id.values"
   ]
  },
  {
   "cell_type": "code",
   "execution_count": 51,
   "metadata": {},
   "outputs": [],
   "source": [
    "def visualize(essay):\n",
    "  f1 = calc_f1(\n",
    "      df_gt[df_gt['id'] == essay],\n",
    "      df_pred[df_pred['id'] == essay].rename({'discourse_type': 'class'},\n",
    "                                             axis=1))\n",
    "  f1_binary = calc_f1(\n",
    "      df_gt_[df_gt_['id'] == essay],\n",
    "      df_pred_[df_pred_['id'] == essay].rename({'discourse_type': 'class'},\n",
    "                                               axis=1))\n",
    "  print(essay, 'f1:', f1, 'f1_binary:', f1_binary)\n",
    "  visulize_df(df_gt, essay)\n",
    "  visulize_df(df_pred, essay)"
   ]
  },
  {
   "cell_type": "code",
   "execution_count": 52,
   "metadata": {},
   "outputs": [
    {
     "ename": "NameError",
     "evalue": "name 'df_pred_' is not defined",
     "output_type": "error",
     "traceback": [
      "\u001b[0;31m---------------------------------------------------------------------------\u001b[0m",
      "\u001b[0;31mNameError\u001b[0m                                 Traceback (most recent call last)",
      "\u001b[0;32m<ipython-input-52-6fe9d4621295>\u001b[0m in \u001b[0;36m<module>\u001b[0;34m\u001b[0m\n\u001b[0;32m----> 1\u001b[0;31m \u001b[0mvisualize\u001b[0m\u001b[0;34m(\u001b[0m\u001b[0mdf\u001b[0m\u001b[0;34m.\u001b[0m\u001b[0mid\u001b[0m\u001b[0;34m.\u001b[0m\u001b[0mvalues\u001b[0m\u001b[0;34m[\u001b[0m\u001b[0;36m0\u001b[0m\u001b[0;34m]\u001b[0m\u001b[0;34m)\u001b[0m\u001b[0;34m\u001b[0m\u001b[0;34m\u001b[0m\u001b[0m\n\u001b[0m",
      "\u001b[0;32m<ipython-input-51-69ce003253e9>\u001b[0m in \u001b[0;36mvisualize\u001b[0;34m(essay)\u001b[0m\n\u001b[1;32m      6\u001b[0m   f1_binary = calc_f1(\n\u001b[1;32m      7\u001b[0m       \u001b[0mdf_gt_\u001b[0m\u001b[0;34m[\u001b[0m\u001b[0mdf_gt_\u001b[0m\u001b[0;34m[\u001b[0m\u001b[0;34m'id'\u001b[0m\u001b[0;34m]\u001b[0m \u001b[0;34m==\u001b[0m \u001b[0messay\u001b[0m\u001b[0;34m]\u001b[0m\u001b[0;34m,\u001b[0m\u001b[0;34m\u001b[0m\u001b[0;34m\u001b[0m\u001b[0m\n\u001b[0;32m----> 8\u001b[0;31m       df_pred_[df_pred_['id'] == essay].rename({'discourse_type': 'class'},\n\u001b[0m\u001b[1;32m      9\u001b[0m                                                axis=1))\n\u001b[1;32m     10\u001b[0m   \u001b[0mprint\u001b[0m\u001b[0;34m(\u001b[0m\u001b[0messay\u001b[0m\u001b[0;34m,\u001b[0m \u001b[0;34m'f1:'\u001b[0m\u001b[0;34m,\u001b[0m \u001b[0mf1\u001b[0m\u001b[0;34m,\u001b[0m \u001b[0;34m'f1_binary:'\u001b[0m\u001b[0;34m,\u001b[0m \u001b[0mf1_binary\u001b[0m\u001b[0;34m)\u001b[0m\u001b[0;34m\u001b[0m\u001b[0;34m\u001b[0m\u001b[0m\n",
      "\u001b[0;31mNameError\u001b[0m: name 'df_pred_' is not defined"
     ]
    }
   ],
   "source": [
    "visualize(df.id.values[0])"
   ]
  },
  {
   "cell_type": "code",
   "execution_count": null,
   "metadata": {},
   "outputs": [],
   "source": [
    "visualize(df.id.values[1])"
   ]
  },
  {
   "cell_type": "code",
   "execution_count": null,
   "metadata": {},
   "outputs": [],
   "source": [
    "visualize(df.id.values[2])"
   ]
  },
  {
   "cell_type": "code",
   "execution_count": null,
   "metadata": {},
   "outputs": [],
   "source": [
    "visualize(df.id.values[3])"
   ]
  },
  {
   "cell_type": "code",
   "execution_count": null,
   "metadata": {},
   "outputs": [],
   "source": [
    "visualize(df.id.values[5])"
   ]
  },
  {
   "cell_type": "code",
   "execution_count": null,
   "metadata": {},
   "outputs": [],
   "source": [
    "visualize(df.id.values[random.randint(0, len(eval_ids) - 1)])"
   ]
  },
  {
   "cell_type": "code",
   "execution_count": null,
   "metadata": {},
   "outputs": [],
   "source": [
    "visualize(df.id.values[-1])"
   ]
  },
  {
   "cell_type": "code",
   "execution_count": null,
   "metadata": {},
   "outputs": [],
   "source": [
    "visualize('193591CD2E86')"
   ]
  },
  {
   "cell_type": "code",
   "execution_count": null,
   "metadata": {},
   "outputs": [],
   "source": []
  },
  {
   "cell_type": "code",
   "execution_count": null,
   "metadata": {},
   "outputs": [],
   "source": []
  },
  {
   "cell_type": "code",
   "execution_count": null,
   "metadata": {},
   "outputs": [],
   "source": []
  }
 ],
 "metadata": {
  "interpreter": {
   "hash": "0ea47313c94383bf8f680c96aa3342ec5666a2ae764c7d77e71df945692dda57"
  },
  "kernelspec": {
   "display_name": "Python 3.6.13 64-bit (conda)",
   "language": "python",
   "name": "python3"
  },
  "language_info": {
   "codemirror_mode": {
    "name": "ipython",
    "version": 3
   },
   "file_extension": ".py",
   "mimetype": "text/x-python",
   "name": "python",
   "nbconvert_exporter": "python",
   "pygments_lexer": "ipython3",
   "version": "3.6.13"
  },
  "orig_nbformat": 4
 },
 "nbformat": 4,
 "nbformat_minor": 2
}
