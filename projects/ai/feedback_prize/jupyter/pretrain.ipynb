{
 "cells": [
  {
   "cell_type": "code",
   "execution_count": 45,
   "metadata": {},
   "outputs": [],
   "source": [
    "import numpy as np\n",
    "import pandas as pd\n",
    "import random\n",
    "import matplotlib.pyplot as plt\n",
    "import plotly.express as px\n",
    "import glob\n",
    "import spacy\n",
    "import sys\n",
    "sys.path.append('../../../../utils')\n",
    "sys.path.append('..')\n",
    "import gezi\n",
    "from gezi import tqdm\n",
    "from src.eval import calc_f1\n",
    "from src.visualize import *\n",
    "from src.config import *\n",
    "from src.util import *\n",
    "pd.set_option('display.float_format', lambda x: '%.2f' % x)\n",
    "gezi.set_pandas_widder()"
   ]
  },
  {
   "cell_type": "code",
   "execution_count": 2,
   "metadata": {},
   "outputs": [
    {
     "data": {
      "text/html": [
       "<div>\n",
       "<style scoped>\n",
       "    .dataframe tbody tr th:only-of-type {\n",
       "        vertical-align: middle;\n",
       "    }\n",
       "\n",
       "    .dataframe tbody tr th {\n",
       "        vertical-align: top;\n",
       "    }\n",
       "\n",
       "    .dataframe thead th {\n",
       "        text-align: right;\n",
       "    }\n",
       "</style>\n",
       "<table border=\"1\" class=\"dataframe\">\n",
       "  <thead>\n",
       "    <tr style=\"text-align: right;\">\n",
       "      <th></th>\n",
       "      <th>index</th>\n",
       "      <th>id</th>\n",
       "      <th>text</th>\n",
       "    </tr>\n",
       "  </thead>\n",
       "  <tbody>\n",
       "    <tr>\n",
       "      <th>0</th>\n",
       "      <td>0</td>\n",
       "      <td>4B22D00F9BD7</td>\n",
       "      <td>Students of the United States of America have ...</td>\n",
       "    </tr>\n",
       "    <tr>\n",
       "      <th>1</th>\n",
       "      <td>1</td>\n",
       "      <td>1F8DDCFCA766</td>\n",
       "      <td>Have you ever awoken to the arrogant, angry sh...</td>\n",
       "    </tr>\n",
       "    <tr>\n",
       "      <th>2</th>\n",
       "      <td>2</td>\n",
       "      <td>ED27B5020694</td>\n",
       "      <td>The Battle for Control\\n\\nIn the near future, ...</td>\n",
       "    </tr>\n",
       "    <tr>\n",
       "      <th>3</th>\n",
       "      <td>3</td>\n",
       "      <td>B1AF3AD74555</td>\n",
       "      <td>In the article the author talks about machines...</td>\n",
       "    </tr>\n",
       "    <tr>\n",
       "      <th>4</th>\n",
       "      <td>4</td>\n",
       "      <td>F0B1C389A815</td>\n",
       "      <td>Have you ever needed some dire advice for some...</td>\n",
       "    </tr>\n",
       "  </tbody>\n",
       "</table>\n",
       "</div>"
      ],
      "text/plain": [
       "   index            id                                               text\n",
       "0      0  4B22D00F9BD7  Students of the United States of America have ...\n",
       "1      1  1F8DDCFCA766  Have you ever awoken to the arrogant, angry sh...\n",
       "2      2  ED27B5020694  The Battle for Control\\n\\nIn the near future, ...\n",
       "3      3  B1AF3AD74555  In the article the author talks about machines...\n",
       "4      4  F0B1C389A815  Have you ever needed some dire advice for some..."
      ]
     },
     "execution_count": 2,
     "metadata": {},
     "output_type": "execute_result"
    }
   ],
   "source": [
    "texts_csv = '../input/feedback-prize-2021/texts.fea'\n",
    "df_texts = pd.read_feather(texts_csv)\n",
    "df_texts.head()"
   ]
  },
  {
   "cell_type": "code",
   "execution_count": 3,
   "metadata": {},
   "outputs": [
    {
     "data": {
      "application/vnd.jupyter.widget-view+json": {
       "model_id": "0af9b223afcd46a9ab6b41efdfef4b6d",
       "version_major": 2,
       "version_minor": 0
      },
      "text/plain": [
       "  0%|          | 0/15594 [00:00<?, ?it/s]"
      ]
     },
     "metadata": {},
     "output_type": "display_data"
    }
   ],
   "source": [
    "with open('../input/feedback-prize-2021/train_corpus.txt', 'w') as f:\n",
    "  for text in tqdm(df_texts.text.values, total=len(df_texts)):\n",
    "    print(text.strip(), file=f)"
   ]
  },
  {
   "cell_type": "code",
   "execution_count": 4,
   "metadata": {},
   "outputs": [
    {
     "data": {
      "text/plain": [
       "\"Students of the United States of America have you ever wondered what it would be like to do school work from home rather than actually go to the school and learn there. Students in college have had the option to take online courses instead of actually attending a college class directly for a while now. Now some high schools\\xa0are beginning to offer up a similar program to students as of recently. Students it is a lot better to do school work from home because students would feel better in a familiar environment therefore allowing them to work more efficiently, a school could also save much more money on transportation costs allowing a school to have a bigger budget and finally the recent COVID-19 case has scared much of America today, so by allowing students to work from home there is a substantial decrease in the case a disease like this spreads quicker.\\n\\nAlthough some may argue against this by saying that if students don't have access to computers at home how would this work. There are many ways to get around this such as giving the students school issued laptops for a year allowing them access any programs they may need at home. Also in the case has a school wide exam they can use their school building itself as a testing center for students. Although there are many opinions beside this one to consider.\\n\\nFirst off, students feel better and work more efficiently in a familiar environment. Many studies have shown that people who work from home are less stressed; therefore, they work much more productively then they would in a unfamiliar environment. For example, a student typically who is very studious may be distracted by other students who disrupt the working environment, working from home would allow the student to be much more efficient do to the less distractions he has to deal with, therefore they will earn better grades. This is not the only reason students should have the option to do school from home.\\n\\nSecondly, the school itself can receive many benefits by giving the students the option to learn from their home. The school would be able to receive to save much more money on transportation, due to the reduced number of students a school would need to give a ride to school. For example, many schools today suffer from a lack of available transportation for students making it so many if not a large portion of students miss attending school do to this. Allowing students to work from home works in both turn for the school and the students. This by itself may sound impressive but this is not all benefits allowing students the option to work from home has to offer.\\n\\nLastly, students, parents and staff who have fears of any disease, epidemic or fear of general security in general may find it much more viable to allow students the option to work from home. Many people around the globe have voiced their concerns over the recent epidemic known as COVID-19 which has struck fear in many people of today's society. For example, say that the epidemic gets so bad in the USA that parents are refusing to send their children to school, than the school could still have those students work from home without any disruption, allowing the school to continue to run as intended.\\n\\nSo students of the USA it sounds like a pretty good deal overall, and not just for you but many others benefiting many while helping a lot more. Students should be allowed the option to attend school from home because students would work more effectively from home, schools could save much more money on transportation and finally students, parents and staff would not have to worry about any disease or epidemic, such as COVID-19, from spreading to them any time soon. So make sure to voice you're support on allowing students the right to attend school from safety and comfort of their own home.\\xa0\""
      ]
     },
     "execution_count": 4,
     "metadata": {},
     "output_type": "execute_result"
    }
   ],
   "source": [
    "df_texts.text.values[0]"
   ]
  },
  {
   "cell_type": "code",
   "execution_count": 5,
   "metadata": {},
   "outputs": [
    {
     "data": {
      "text/plain": [
       "\"Have you ever awoken to the arrogant, angry shriek of your alarm clock on a Monday morning? Maybe you have even experienced the arctic splash of freezing cold water falling over your back as your mom struggled to pry you from a deep sleep. It is apparent that waking up for school each morning is one of the most dreadful moments a student will face. A potential solution to this issue is the introduction of online classes and video conferences. Through this much more compatible, modern way of learning, students would be less restricted and undoubtedly happier. By establishing the opportunity to attend classes from home, students will be able to spend significantly more time with their loved ones, obtain important skills including responsibility and time management, and even be able to improve their sleep schedules.\\n\\nRecently, it has become difficult for students to spend enough time at home with their families, or even to establish a strong social life. Between countless extracurriculars, hours of homework, and demanding jobs, there is hardly enough time to relax, let alone spend time with anyone. By allowing students to attend classes at home, they will be given endless, new\\xa0opportunities to enjoy their families. It will become possible to cook breakfast with their parents or play outside with their siblings. This improved way of learning will also allow for more time for students to make memories with their friends, an important part of any child's life. The importance of family and friendship is undeniable in the development of a child's mind; therefore, it should be more easily available to students. It could be argued that instead of creating online classes, students should just eliminate activities like sports or clubs from their unbending schedules. However, these extracurriculars\\xa0actually account for most of the social skills and companionships students must gain to grow as people. Involvement in extracurricular activities is an active choice that students make; it is something that many youth desire, no matter the free time it may drain. School, however, is usually unenjoyable and forced onto students. Clearly, creating the option for students to attend online classes is a much more reasonable idea. Through the implementation of this technological advancement, students will be able to bond with their families and friends.\\n\\nAs students grow older, they must obtain certain life skills to guide them through experiences in college and the working world. By allowing students to attend online classes, they will learn to become much more responsible. Without a bell persistently ringing to keep students on time or teachers smiling beside each classroom to remind them of upcoming due dates, they will learn to manage their time wisely and keep a consistent schedule. They will also learn to be more self-accountable and independent. Such skills are necessary in any aspect of life, and students will be better equipped as they begin their journey through college or the workforce. By utilizing the idea of online schooling, students will be prepared to handle themselves as they independently face and overcome the real world.\\n\\nStudents struggle to get enough sleep because of the demanding schedule that school establishes. They usually arrive at school with heavy eyelids and stiff bodies, because it is utterly too early for them to be awake, let alone to learn. Studies have actually proven that detrimental health issues, including depression and anxiety, typically stem from lack of sleep. Because of students' biological clocks, waking up later is the only reasonable solution. Without rearranging the entire day, this issue cannot be adequately addressed by school systems. Thus, the option of online classes should be implemented in schools around the world. By allowing students to choose what time they wake up and begin their classes each day, they will be much less groggy and irritable. Their uncontrollable stress levels will significantly decrease, and their mindsets will positively progress. Student health should consistently be a top priority, and the most achievable step toward this is the improvement of their sleep schedules. Online schooling would largely help in accomplishing this.\\n\\nOnline classes and video conferences have the chance to make a real difference in students' lives, if they are just given the opportunity. This advanced version of learning would create bonds between students and their loved ones, provide important life skills to children, and improve student health and sleeping patterns. By implementing online classes, students will be able to discover an entirely new world of learning. School will be much more enjoyable, and students will even progress into better people through online schooling. Make online classes an option, and observe as students become much more engaged in not only the world of learning, but in the world itself.   \\xa0 \\xa0 \\xa0\""
      ]
     },
     "execution_count": 5,
     "metadata": {},
     "output_type": "execute_result"
    }
   ],
   "source": [
    "df_texts.text.values[1]"
   ]
  },
  {
   "cell_type": "code",
   "execution_count": 6,
   "metadata": {},
   "outputs": [
    {
     "data": {
      "text/plain": [
       "\"The Battle for Control\\n\\nIn the near future, driveless cars will become an inevitable reality. Their a supposed solution for most traffic problems the world posseses today. No need to worry about drunk and reckless drivers anymore, the answer is finally here! Well, dive a little deeper and you'll figure out that driveless cars will create just as many problems as they would, in theory, fix. The idea of a world with driveless cars as the main priority just runs shivers down my spine...\\n\\nThe main problem with driveless cars is a very nightmarish one. What if the car malfunctions, and goes completely berzerk on the road? Also, who would take the blame for the accident? The manufacturers or the driver would be a re-occuring question, and as stated in the article, this would cause thousands of legal battles every week. It would be truly heartbreaking to go to someone's funeral that you were very close with, and to always know that their death wasn't even their fault.\\n\\nAnother issue driveless cars would create is immense laziness and health problems. Although driving cars isn't an amazing workout by any means, it keeps the brain alert and stimulated. Also, if there is no work needed then many passengers would just fall asleep. Who is there to wake them up when they have reached their destination? A siren or alarm would be a good idea, but many people including myself are very heavy sleepers.\\n\\nMy biggest gripe with driveless cars would be the easy accessibilty. Literally anyone could just hop in and take control of it. Kids who have an argument with their parents and are currently angry at them can just get in one, and drive off. This completely kills the purpose of drivers licences, and in my opinion just isn't right. Another HUGE problem is this, how in the world would police do their job? Would their cars be driveless also, and how would they pull anyone over? They wouldn't be able to, the driveless cars would just continue cruising down the street.\\n\\nIn my honest opinion, a world with driveless cars would just be the beginning of a world ruled by computer A.I. Humans need to keep control of certain things in order for our species to thrive and survive. Not everything needs to be taken over by computers, and I truly wish that we as a species can realize this. We are becoming too dependent on technology, and I fear that soon our own knowledge will eventually cause the end of the human race as we know it. \""
      ]
     },
     "execution_count": 6,
     "metadata": {},
     "output_type": "execute_result"
    }
   ],
   "source": [
    "df_texts.text.values[2]"
   ]
  },
  {
   "cell_type": "code",
   "execution_count": 7,
   "metadata": {},
   "outputs": [
    {
     "data": {
      "text/plain": [
       "'Throughout the duration of time, education has been a prime characteristic of the structure of society. As time progressed, the education system has changed such that it is more ideal for people in society. For example, in the early 1900s, the idea of summer breaks was introduced in the American education system. A summer break can be defined as a time in which students and teachers in the public education system get a 2-3 month grace period of not attending school. During this time, there is a common trend for teachers assign homework for students to complete for the next annual school year. Although some may argue that these summer assignments should be designed by students, summer assignments must be teacher designed because the teacher knows the content better than a student, it retains the student\\'s memory efficiently, and students are prepared for the next academic year.\\n\\nSummer assignments must be teacher designed so that the memory of the student is exercised and retained. It is very common for students to become lazy over the summer; by making summer assignments student created, there is entitlement for students to create a summer assignment in which there is not much efficiency or work, for the sole purpose of being lazy over summer vacation. Although, if the teacher created the summer assignment, this allows for the teacher to create an efficient assignment that will properly teach the content. In addition, it holds the student accountable to do efficient and beneficiary work so that their memory stays retained. Retaining a student\\'s memory is needed because it is important that students remember everything from the last school year to help them in the upcoming one. If assignments are student designed, an inefficient assignment will most likely be created due to students not wanting to do any work over the break. By doing this, the student\\'s memory will most likely not be retained because their brain is not thinking the same as it would be if the assignment was teacher designed. This can be seen as a negative ideal. For example,\\n\\nScience Daily reported that the common student will loose 33 percent of their memory during the summer break if not exercised. By giving a teacher made assignment, the brain will be exercised properly which will lead to less significant or no memory loss.\\n\\nIt is ideal to make the summer assignments teacher designed because the teacher has knowledge of the content that will be in the class. This is important because the teacher will know what exactly to put on the assignment because he/she can make students practice important topics and/or common weak points that students have with the content. If the assignments are student designed, they wouldnt know what to put on the assignment since they dont teach the class. Then, therefore, wouldnt be able to efficiently make an assignment because students are not aware of weak points\\xa0that need to be practiced, and/or important topics in the content. In addition, by making the summer assignment designed by teachers, teachers are able to give students a background as to what the content and structure of the class will be like since they teach it. If assignments were to be student designed, they wouldnt know how to efficiently make a summer assignment because they wouldnt have the amount of knowledge about the class that the teacher exhibits. Students don\\'t teach the class, so they don\\'t have an idea of how the class will be taught and how the content will look like. Furthermore, summer assignments that are teacher assigned can be seen as beneficial. For example, in the memoir\\n\\n\"I Am Malala\",\\n\\nMalala, a 15 year old girl describes her summer break, and explains to her readers how she uses her summer assignments that are teacher designed to better understand the content and stay ahead of the class.\\n\\nBy making the assignment teacher designed, the academic life of the student has a bright start for the future. During the school year, students are used to a 7 hour work period. Although work amount is changed drastically over the summer, it is important that students are given teacher made assignments because students are used to teacher made assignments already; so why change the structure for the summer? If students were to make the assignments, it would ruin the routine that students are already used to. By making the assignment teacher designed, it allows the teacher to help get the student ready for the upcoming year, and also getting them back into the baseline work routine that the common student is used to. It also allows students to see how the next year school year will look like and what to expect. This allows a higher success rate and prepares students, because they have more time to get ready and what to expect. In fact, many students enjoy teacher made summer assignments. For example, in a survey conducted at Generic_School in Generic_City Virginia, the student body took a vote on if they enjoyed summer assignments. 57 percent of the students said they didnt mind summer assignments, while the other 43 percent were against them. The general consensus is that making summer assignments teacher made will help students for the future.\\n\\nMaking summer assignments teacher created is important for all students. This is because the teachers know what to put on it, the students are prepared for future, and students\\' memory will be in tact. Teachers have experience with students and the topic, so they will know what to put on the assignment. Students will be prepared for the future because they know what to expect content wise since the teacher made it. By making the summer assignment teacher made, students will not have the option to be lazy and will be held accountable to do efficient work over the summer period.\\xa0'"
      ]
     },
     "execution_count": 7,
     "metadata": {},
     "output_type": "execute_result"
    }
   ],
   "source": [
    "df_texts.text.values[-10]"
   ]
  },
  {
   "cell_type": "code",
   "execution_count": 8,
   "metadata": {},
   "outputs": [
    {
     "data": {
      "text/plain": [
       "\"Do you enjoy staying after school?,what do you do when you get home from school?\\n\\nAre you busy when you get home?\\n\\nWell if students are required to stay after school for an activity,i think they should at least be rewarded for there hard work and extra time they put in. One reason i disagree with the principal is beacause what if most students all ready have plans after school and its mandatory to be there,some students are super tired/stressed out when they get home cause they have so much work to do for school or its been a long day ,and my last reason is because teachers are going to have to grade more work and most kids dont even stay after school to get work done they only stay because there friends are there to goof around with them.\\n\\nMy first reason to why students should not stay after school for a activity is because some students allready have plans after school and it's mandatory to be there. Once my little cousin's grandma got the flue and she was sent to the hospital emidiately. Then they called my little cousin and told him to get there soon as possible ,but when he was trying to leave the school the princiapal wouldn't let him and told him he couldn't leave because he needed to stay after school to finsih some work that was do the next day and if he didnt finsh it he would fail his classes. My cousin was the only choose they had beacause he drived, the rest of his family members had to go to work and someone needed to get the medicine for her .He was to late when he arrived at the hospital his grandma had all allready passed away. It was all because the school forced him to stay aftter school.\\n\\nMy second reason is because the students come stressed out and tired from school,and of course every teacher want there students coming with a good attitude the next day. Most kids dont even get enough sleep when they get home cause there little sisters crying or somethings is on there mind like an SA that they have to do. They all ready have about 7 to 8 classes that give them work every single day\\n\\nMy last and finally reason is beacuse teachers are allways late on grading work. There going to have the double amount of papers they allready have. At my school kids just hang out during after school to be with there friends they dont even get there work done, because there friends are being a distraction.\\n\\nIn conclusion, i disagree with the principal beacuse student are not going to have courge to do work cause there tired or all ready have lots of work to do for other classes. They possible might have to attend something after school and teachers might lose track of whats graded and what not .Its just going to be so much cayous going on.\""
      ]
     },
     "execution_count": 8,
     "metadata": {},
     "output_type": "execute_result"
    }
   ],
   "source": [
    "df_texts.text.values[-100]"
   ]
  },
  {
   "cell_type": "code",
   "execution_count": 9,
   "metadata": {},
   "outputs": [
    {
     "data": {
      "text/plain": [
       "10"
      ]
     },
     "execution_count": 9,
     "metadata": {},
     "output_type": "execute_result"
    }
   ],
   "source": [
    "df_texts.text.values[0].count('\\n')"
   ]
  },
  {
   "cell_type": "code",
   "execution_count": 10,
   "metadata": {},
   "outputs": [
    {
     "data": {
      "text/plain": [
       "2"
      ]
     },
     "execution_count": 10,
     "metadata": {},
     "output_type": "execute_result"
    }
   ],
   "source": [
    "df_texts.text.values[0].count('\\xa0')"
   ]
  },
  {
   "cell_type": "code",
   "execution_count": 11,
   "metadata": {},
   "outputs": [
    {
     "data": {
      "text/plain": [
       "0"
      ]
     },
     "execution_count": 11,
     "metadata": {},
     "output_type": "execute_result"
    }
   ],
   "source": [
    "df_texts.text.values[0].count('\\t')"
   ]
  },
  {
   "cell_type": "code",
   "execution_count": 12,
   "metadata": {},
   "outputs": [
    {
     "data": {
      "text/plain": [
       "0"
      ]
     },
     "execution_count": 12,
     "metadata": {},
     "output_type": "execute_result"
    }
   ],
   "source": [
    "df_texts.text.values[0].count('\\r')"
   ]
  },
  {
   "cell_type": "code",
   "execution_count": 13,
   "metadata": {},
   "outputs": [],
   "source": [
    "all = ' '.join(df_texts.text.values)"
   ]
  },
  {
   "cell_type": "code",
   "execution_count": 14,
   "metadata": {},
   "outputs": [
    {
     "data": {
      "text/plain": [
       "142225"
      ]
     },
     "execution_count": 14,
     "metadata": {},
     "output_type": "execute_result"
    }
   ],
   "source": [
    "all.count('\\n')"
   ]
  },
  {
   "cell_type": "code",
   "execution_count": 15,
   "metadata": {},
   "outputs": [
    {
     "data": {
      "text/plain": [
       "65227"
      ]
     },
     "execution_count": 15,
     "metadata": {},
     "output_type": "execute_result"
    }
   ],
   "source": [
    "all.count('\\xa0')"
   ]
  },
  {
   "cell_type": "code",
   "execution_count": 16,
   "metadata": {},
   "outputs": [],
   "source": [
    "x = 'abc\\nde \\xa0b\\nc\\n\\nx'"
   ]
  },
  {
   "cell_type": "code",
   "execution_count": 17,
   "metadata": {},
   "outputs": [
    {
     "data": {
      "text/plain": [
       "['abc', 'de', 'b', 'c', 'x']"
      ]
     },
     "execution_count": 17,
     "metadata": {},
     "output_type": "execute_result"
    }
   ],
   "source": [
    "x.split()"
   ]
  },
  {
   "cell_type": "code",
   "execution_count": 18,
   "metadata": {},
   "outputs": [
    {
     "data": {
      "text/plain": [
       "['abc', '[BR]', 'de', '[XA0]', 'b', '[BR]', 'c', '[BR]', '[BR]', 'x']"
      ]
     },
     "execution_count": 18,
     "metadata": {},
     "output_type": "execute_result"
    }
   ],
   "source": [
    "x.replace('\\n', ' [BR] ').replace('\\xa0', ' [XA0] ').split()"
   ]
  },
  {
   "cell_type": "code",
   "execution_count": 19,
   "metadata": {},
   "outputs": [
    {
     "name": "stdout",
     "output_type": "stream",
     "text": [
      "Essay_Set_Descriptions\t    training_set_rel3.xlsx\n",
      "Essay_Set_Descriptions.zip  valid_sample_submission_1_column.csv\n",
      "Training_Materials\t    valid_sample_submission_1_column_no_header.csv\n",
      "Training_Materials.zip\t    valid_sample_submission_2_column.csv\n",
      "asap-aes.zip\t\t    valid_sample_submission_5_column.csv\n",
      "test_set.tsv\t\t    valid_set.tsv\n",
      "training_set_rel3.tsv\t    valid_set.xls\n",
      "training_set_rel3.xls\t    valid_set.xlsx\n"
     ]
    }
   ],
   "source": [
    "!ls ../input/asap-aes"
   ]
  },
  {
   "cell_type": "code",
   "execution_count": 20,
   "metadata": {},
   "outputs": [],
   "source": [
    "root = '../input/asap-aes'\n",
    "files = [f'{root}/test_set.tsv', f'{root}/valid_set.tsv', f'{root}/training_set_rel3.tsv']"
   ]
  },
  {
   "cell_type": "code",
   "execution_count": 21,
   "metadata": {},
   "outputs": [],
   "source": [
    "test = pd.read_csv(files[0], sep='\\t', encoding='ISO-8859-1')"
   ]
  },
  {
   "cell_type": "code",
   "execution_count": 22,
   "metadata": {},
   "outputs": [],
   "source": [
    "valid = pd.read_csv(files[1], sep='\\t', encoding='ISO-8859-1')"
   ]
  },
  {
   "cell_type": "code",
   "execution_count": 23,
   "metadata": {},
   "outputs": [],
   "source": [
    "train = pd.read_csv(files[2], sep='\\t', encoding='ISO-8859-1')"
   ]
  },
  {
   "cell_type": "code",
   "execution_count": 24,
   "metadata": {},
   "outputs": [],
   "source": [
    "train_text = ' '.join(train.essay.values)"
   ]
  },
  {
   "cell_type": "code",
   "execution_count": 25,
   "metadata": {},
   "outputs": [
    {
     "data": {
      "text/plain": [
       "0"
      ]
     },
     "execution_count": 25,
     "metadata": {},
     "output_type": "execute_result"
    }
   ],
   "source": [
    "train_text.count('\\xa0')"
   ]
  },
  {
   "cell_type": "code",
   "execution_count": 29,
   "metadata": {},
   "outputs": [
    {
     "data": {
      "text/plain": [
       "\"Dear local newspaper, I think effects computers have on people are great learning skills/affects because they give us time to chat with friends/new people, helps us learn about the globe(astronomy) and keeps us out of troble! Thing about! Dont you think so? How would you feel if your teenager is always on the phone with friends! Do you ever time to chat with your friends or buisness partner about things. Well now - there's a new way to chat the computer, theirs plenty of sites on the internet to do so: @ORGANIZATION1, @ORGANIZATION2, @CAPS1, facebook, myspace ect. Just think now while your setting up meeting with your boss on the computer, your teenager is having fun on the phone not rushing to get off cause you want to use it. How did you learn about other countrys/states outside of yours? Well I have by computer/internet, it's a new way to learn about what going on in our time! You might think your child spends a lot of time on the computer, but ask them so question about the economy, sea floor spreading or even about the @DATE1's you'll be surprise at how much he/she knows. Believe it or not the computer is much interesting then in class all day reading out of books. If your child is home on your computer or at a local library, it's better than being out with friends being fresh, or being perpressured to doing something they know isnt right. You might not know where your child is, @CAPS2 forbidde in a hospital bed because of a drive-by. Rather than your child on the computer learning, chatting or just playing games, safe and sound in your home or community place. Now I hope you have reached a point to understand and agree with me, because computers can have great effects on you or child because it gives us time to chat with friends/new people, helps us learn about the globe and believe or not keeps us out of troble. Thank you for listening.\""
      ]
     },
     "execution_count": 29,
     "metadata": {},
     "output_type": "execute_result"
    }
   ],
   "source": [
    "train.iloc[0].essay"
   ]
  },
  {
   "cell_type": "code",
   "execution_count": 38,
   "metadata": {},
   "outputs": [],
   "source": [
    "all = pd.concat([train[['essay_id', 'essay']], valid[['essay_id', 'essay']], test[['essay_id', 'essay']]])\n",
    "all['essay_id'] = all['essay_id'].astype(str)"
   ]
  },
  {
   "cell_type": "code",
   "execution_count": 41,
   "metadata": {},
   "outputs": [],
   "source": [
    "all['num_words'] = all['essay'].apply(lambda x: len(x.split()))"
   ]
  },
  {
   "cell_type": "code",
   "execution_count": 53,
   "metadata": {},
   "outputs": [],
   "source": [
    "all[all.num_words > 100].to_csv('../input/feedback-prize-2021/ext.csv', index=False)"
   ]
  },
  {
   "cell_type": "code",
   "execution_count": 42,
   "metadata": {},
   "outputs": [
    {
     "data": {
      "text/html": [
       "<div>\n",
       "<style scoped>\n",
       "    .dataframe tbody tr th:only-of-type {\n",
       "        vertical-align: middle;\n",
       "    }\n",
       "\n",
       "    .dataframe tbody tr th {\n",
       "        vertical-align: top;\n",
       "    }\n",
       "\n",
       "    .dataframe thead th {\n",
       "        text-align: right;\n",
       "    }\n",
       "</style>\n",
       "<table border=\"1\" class=\"dataframe\">\n",
       "  <thead>\n",
       "    <tr style=\"text-align: right;\">\n",
       "      <th></th>\n",
       "      <th>num_words</th>\n",
       "    </tr>\n",
       "  </thead>\n",
       "  <tbody>\n",
       "    <tr>\n",
       "      <th>count</th>\n",
       "      <td>21448.00</td>\n",
       "    </tr>\n",
       "    <tr>\n",
       "      <th>mean</th>\n",
       "      <td>223.52</td>\n",
       "    </tr>\n",
       "    <tr>\n",
       "      <th>std</th>\n",
       "      <td>176.88</td>\n",
       "    </tr>\n",
       "    <tr>\n",
       "      <th>min</th>\n",
       "      <td>2.00</td>\n",
       "    </tr>\n",
       "    <tr>\n",
       "      <th>25%</th>\n",
       "      <td>99.00</td>\n",
       "    </tr>\n",
       "    <tr>\n",
       "      <th>50%</th>\n",
       "      <td>164.00</td>\n",
       "    </tr>\n",
       "    <tr>\n",
       "      <th>75%</th>\n",
       "      <td>307.00</td>\n",
       "    </tr>\n",
       "    <tr>\n",
       "      <th>max</th>\n",
       "      <td>1064.00</td>\n",
       "    </tr>\n",
       "  </tbody>\n",
       "</table>\n",
       "</div>"
      ],
      "text/plain": [
       "       num_words\n",
       "count   21448.00\n",
       "mean      223.52\n",
       "std       176.88\n",
       "min         2.00\n",
       "25%        99.00\n",
       "50%       164.00\n",
       "75%       307.00\n",
       "max      1064.00"
      ]
     },
     "execution_count": 42,
     "metadata": {},
     "output_type": "execute_result"
    }
   ],
   "source": [
    "all.describe()"
   ]
  },
  {
   "cell_type": "code",
   "execution_count": 52,
   "metadata": {},
   "outputs": [
    {
     "data": {
      "text/html": [
       "<div>\n",
       "<style scoped>\n",
       "    .dataframe tbody tr th:only-of-type {\n",
       "        vertical-align: middle;\n",
       "    }\n",
       "\n",
       "    .dataframe tbody tr th {\n",
       "        vertical-align: top;\n",
       "    }\n",
       "\n",
       "    .dataframe thead th {\n",
       "        text-align: right;\n",
       "    }\n",
       "</style>\n",
       "<table border=\"1\" class=\"dataframe\">\n",
       "  <thead>\n",
       "    <tr style=\"text-align: right;\">\n",
       "      <th></th>\n",
       "      <th>essay_id</th>\n",
       "      <th>essay</th>\n",
       "      <th>num_words</th>\n",
       "    </tr>\n",
       "  </thead>\n",
       "  <tbody>\n",
       "    <tr>\n",
       "      <th>0</th>\n",
       "      <td>1</td>\n",
       "      <td>Dear local newspaper, I think effects computers have on people are great learning skills/affects because they give us time to chat with friends/new people, helps us learn about the globe(astronomy) and keeps us out of troble! Thing about! Dont you think so? How would you feel if your teenager is always on the phone with friends! Do you ever time to chat with your friends or buisness partner about things. Well now - there's a new way to chat the computer, theirs plenty of sites on the internet to do so: @ORGANIZATION1, @ORGANIZATION2, @CAPS1, facebook, myspace ect. Just think now while your setting up meeting with your boss on the computer, your teenager is having fun on the phone not rushing to get off cause you want to use it. How did you learn about other countrys/states outside of yours? Well I have by computer/internet, it's a new way to learn about what going on in our time! You might think your child spends a lot of time on the computer, but ask them so question about the economy, sea floor spreading or even about the @DATE1's you'll be surprise at how much he/she knows. Believe it or not the computer is much interesting then in class all day reading out of books. If your child is home on your computer or at a local library, it's better than being out with friends being fresh, or being perpressured to doing something they know isnt right. You might not know where your child is, @CAPS2 forbidde in a hospital bed because of a drive-by. Rather than your child on the computer learning, chatting or just playing games, safe and sound in your home or community place. Now I hope you have reached a point to understand and agree with me, because computers can have great effects on you or child because it gives us time to chat with friends/new people, helps us learn about the globe and believe or not keeps us out of troble. Thank you for listening.</td>\n",
       "      <td>338</td>\n",
       "    </tr>\n",
       "    <tr>\n",
       "      <th>1</th>\n",
       "      <td>2</td>\n",
       "      <td>Dear @CAPS1 @CAPS2, I believe that using computers will benefit us in many ways like talking and becoming friends will others through websites like facebook and mysace. Using computers can help us find coordibates, locations, and able ourselfs to millions of information. Also computers will benefit us by helping with jobs as in planning a house plan and typing a @NUM1 page report for one of our jobs in less than writing it. Now lets go into the wonder world of technology. Using a computer will help us in life by talking or making friends on line. Many people have myspace, facebooks, aim, these all benefit us by having conversations with one another. Many people believe computers are bad but how can you make friends if you can never talk to them? I am very fortunate for having a computer that can help with not only school work but my social life and how I make friends. Computers help us with finding our locations, coordibates and millions of information online. If we didn't go on the internet a lot we wouldn't know how to go onto websites that @MONTH1 help us with locations and coordinates like @LOCATION1. Would you rather use a computer or be in @LOCATION3. When your supposed to be vacationing in @LOCATION2. Million of information is found on the internet. You can as almost every question and a computer will have it. Would you rather easily draw up a house plan on the computers or take @NUM1 hours doing one by hand with ugly erazer marks all over it, you are garrenteed that to find a job with a drawing like that. Also when appling for a job many workers must write very long papers like a @NUM3 word essay on why this job fits you the most, and many people I know don't like writing @NUM3 words non-stopp for hours when it could take them I hav an a computer. That is why computers we needed a lot now adays. I hope this essay has impacted your descion on computers because they are great machines to work with. The other day I showed my mom how to use a computer and she said it was the greatest invention sense sliced bread! Now go out and buy a computer to help you chat online with friends, find locations and millions of information on one click of the button and help your self with getting a job with neat, prepared, printed work that your boss will love.</td>\n",
       "      <td>419</td>\n",
       "    </tr>\n",
       "    <tr>\n",
       "      <th>2</th>\n",
       "      <td>3</td>\n",
       "      <td>Dear, @CAPS1 @CAPS2 @CAPS3 More and more people use computers, but not everyone agrees that this benefits society. Those who support advances in technology believe that computers have a positive effect on people. Others have different ideas. A great amount in the world today are using computers, some for work and spme for the fun of it. Computers is one of mans greatest accomplishments. Computers are helpful in so many ways, @CAPS4, news, and live streams. Don't get me wrong way to much people spend time on the computer and they should be out interacting with others but who are we to tell them what to do. When I grow up I want to be a author or a journalist and I know for a fact that both of those jobs involve lots of time on time on the computer, one @MONTH1 spend more time then the other but you know exactly what @CAPS5 getting at. So what if some expert think people are spending to much time on the computer and not exercising, enjoying natures and interacting with family and friends. For all the expert knows that its how must people make a living and we don't know why people choose to use the computer for a great amount of time and to be honest it's non of my concern and it shouldn't be the so called experts concern. People interact a thousand times a day on the computers. Computers keep lots of kids of the streets instead of being out and causing trouble. Computers helps the @ORGANIZATION1 locate most wanted criminals. As you can see computers are more useful to society then you think, computers benefit society.</td>\n",
       "      <td>279</td>\n",
       "    </tr>\n",
       "    <tr>\n",
       "      <th>3</th>\n",
       "      <td>4</td>\n",
       "      <td>Dear Local Newspaper, @CAPS1 I have found that many experts say that computers do not benifit our society. In some cases this is true but in most cases studdies show that computers can help people. While nothing beats talking in person computers can get really close such examples are webcams or e-mail. @PERCENT1 of students who get good grades refer to reliable websites for reasearch or to help find good books. Also online catalouges or advertisments help the economy of stores worldwide. @CAPS2 people were not allowed to use computers most of the modern would not exist. @PERSON1 said that the best form of modern communication is the computer because of the ability to write, talk, or write back for much cheaper! Almost every single event i go to is planed on a computer by communication such as e-mail \"@CAPS2 a student ever needs homework because lam out sick or needs help studying for a test then contact their teacher through the best form of communication for them always e-mail. Even the post office uses computers to get letters and boxes to people. The president of the post office, @PERSON2 said \"@CAPS3 would be imposible to get mail to our coustmers @CAPS2 @CAPS3 were not for computers telling us where a zip code is or how heavy a box is.\" @CAPS4 that tell people what is happening around the world would not exist @CAPS2 @CAPS3 were not for the moder communication abilities that computer provid us. Because information can be commucated so quick. so can reasearch. When the country of @LOCATION2 took a pole @PERCENT2 of people used computer for any type of reasearch, of those @PERCENT3 were students currently in school and @PERCENT4 of them have good grades. When the same survey was taken in the @LOCATION1 @PERCENT5 of people used computers fore reasons and @PERCENT2 were students who had good grade @CAPS2 @CAPS3 were not posible for me to access documents in the @CAPS5 @CAPS6 online I probably would not have gotten an A+ on my @CAPS7 assignment! Could you amagine @CAPS2 suddenly your Newspaper reporters couldn't use the internet to work on their reports? The articles would probably be @NUM1 after the events occur. Most buissness, including the Newspaper, use the internet to advertise, shop, or read. The association of @ORGANIZATION1 reported that in @PERCENT1 of @ORGANIZATION1 used a website and of them @PERCENT5 were in good positions. The president of @CAPS8 @NUM2 imports said that they use an online catalouge because @CAPS3 is cheaper, but they can also promote that @CAPS3 is to save trees, or for the castomer's convinence. Small @ORGANIZATION1 can make websites to promote them selves and explain their star to potential coustomers. @PERSON3, the owner of @ORGANIZATION2's said that the internet saved her resturant. @CAPS2 @CAPS3 wer not for the internet @NUM3 more people would be jobless in @LOCATION3. In conclusion computer help everyday people and without them most convinences would not exist. They help communicate around the world. Computers help people reaserch subjects for school reports, and they make the current economy get better everyday. In moderation computers are the most useful tool out there.</td>\n",
       "      <td>524</td>\n",
       "    </tr>\n",
       "    <tr>\n",
       "      <th>4</th>\n",
       "      <td>5</td>\n",
       "      <td>Dear @LOCATION1, I know having computers has a positive effect on people. The computers connect families, contain information which is great for peoples education, and are very conveint. Computors are a step into the future and we should take advantage of it. First off the internet or e-mail will help family members connect. My family, which lives @NUM1 hours away by car, love to talk with me by e-mail. This helps me connect with my family and is just another reason why we should have computors. Another reason that includes family is when the family is just sitting around and are calling everywhere just to find a board game, it would just be easier to go online to find it. This way it would be quick and easy to find that one board game. The last reason why a computer would help a family is if a family wants to get in to any kinds of activities and they need the number they could just go online. On the internet the family could find the numbers, the and some information about it. This way more and more families can do activities together. As one can see the computer is bringing more and more families together. An other reason why the computers are good for society is educations. With information at the tip of your fingers more and more people will want to learn. Now a days people try to find the out, but will all the tools on the computers mae people get the education. Secondly computers are another way to go to collage. If you arn't up to going to school/collage because your sick. You wouldn't have to miss anything because with a click of a button you will have the materials needed for what was missed. Lastly everyone knows that in @LOCATION2 most classrooms can't afford one computer. The children want computors so hard. If they were to get one it would change so much. They would be able to learn so much more than before. The children could lean about different countries far away. As a result computers would improve the way we learn. The last reason why computers are so helpful is convience. Now a say the world is crazy, so if we don't have to go out or talk to someone we won't. The computer will offer the ability to confrence will other people so that there would be communication between work parttners. With the ability to talk with another for work would make us a lighter nation. This is only one of the many reasons computers are very conviente, subssiquently computers are conviente because you could book flights, vacations, rentals, and much more. With a click of a button you should be going to @CAPS1 or a nice vacation.</td>\n",
       "      <td>465</td>\n",
       "    </tr>\n",
       "    <tr>\n",
       "      <th>...</th>\n",
       "      <td>...</td>\n",
       "      <td>...</td>\n",
       "      <td>...</td>\n",
       "    </tr>\n",
       "    <tr>\n",
       "      <th>4249</th>\n",
       "      <td>22238</td>\n",
       "      <td>Just One @CAPS1 @CAPS2 can bring people together on any occation, one of my best friendships was brought out by just one @CAPS1. I never would have thought @DATE1 one girl could be @CAPS5 inspiring to me, @CAPS3 brings the best out of me. It all started just @DATE1, on my first day back to school I noticed @CAPS3 was in my class. Kind of hard not to notice her, @CAPS3 is very gorgeous, and not to mention smart. Feeling brave that day I decided to sit next to her, just to see who @CAPS3 was and just learn more about her.  The first time I actually talked to her I had done something funny. @CAPS3 just started @CAPS2, I then asked her \"what was @CAPS5 funny.\" @CAPS3 just said what an average person would say, \"@CAPS4 funny.\" @CAPS5 throught the rest of the class I would just glance over talk here and there. I would try to start small talks and conversations just trying to get to know her better. As the days went on, soon weeks, we became closer. Talking about ourselfs and our life problems. I had a very misfortunate @DATE2 and felt like I lost myself, I didn't know who I was anymore. I would tell her what happened and how I felt about the whole thing. @CAPS3 had a very rough @DATE2 supposidly too. @CAPS5 it was not just me talking about my problems we would talk about them, @CAPS1 when we could. I am a very humorous kid myself @CAPS5 I would spend most of my time just getting her to @CAPS1 and enjoy her company. Its funny how just one person can really change you, if it's be for the worse or better. @CAPS5 throught the @DATE1, me and her just became closer and closer talking about everything and anything. I would talk to her why I felt changed or not myself. @CAPS3 would give me advise and just be there for me like any good old friend. I became very comfortable with her, and I could be my true self. @CAPS3 would @CAPS1 at me being weird or funny, becuase I am a funny kid. I liked it though I enjoyed making her happy and @CAPS3 with me as well. @CAPS3 plays basketball, @CAPS5 during the season I would go to her games and cheer her on. @CAPS3 @MONTH1 not be super good but @CAPS3 does have some talent but just a bit short for the game. We would hang out after school, go to the movies, just go mess around town and just hang. The more I was with her the more I felt good about myself, @CAPS3 showed me that I can be myself and people will love and respect me. I would try to do the same for her as @CAPS3 was doing for me. If @CAPS3 was having a bad day I would make it my goal to change her mood and try to make her happy. Most of the time I could with my dumb jokes or being my funny self. @CAPS3 would always complain well im happy now or feeling better but what about after @DATE1 class or after school. I would just tell her ill come over after school or we can hang out to keep you happy.  We soon bacame best friends, we kept nothing from each other and where comfortable enough to talk about it all. @CAPS5 what I am trying to say is don't be scared to take a chance. Go for what ever you see fit, it could end up great or bad. It's always better to try something and to fail at it, then to sit back and wonder what could have happened if I just would have done it. All it took was just one @CAPS1 to find my best friend, @CAPS5 I encourage everyone to go for what they see fit, and live life to there fullest. Who knows what could happen with your life, meet a total stranger and end up being one of the most amazing people you have ever meet. @CAPS5 take that leap of faith and hope for the best, and don't hold back or regret. Life is to short to dwell on the troubles or problems. People should look at all the blessings they have not the problems and @DATE1 world would be a whole lot better, but take the leap of faith and you could end up finding a true friend that will be there for you no matter what.</td>\n",
       "      <td>758</td>\n",
       "    </tr>\n",
       "    <tr>\n",
       "      <th>4250</th>\n",
       "      <td>22239</td>\n",
       "      <td>@CAPS8 Was my first time going to the band camp at @CAPS1 @CAPS2 beach in @DATE1 and I was thoroughly impressed. The camp had just about everything @CAPS13 could ever want at a camp. First, there was the beach with its warm sand and freezing cold water. The best part about the beach was that when the sun was setting @CAPS8 would pass right between the @CAPS1 @CAPS2 before @CAPS8 fell out of the sky. The camp also had a huge lake, complete with a diving board a water trampoline, and a lot of seaweed. Once @CAPS13 walked through the grass meadow @CAPS13 collided with the recreational house, which came with @NUM1 fuse ball tables, a basket ball court, @NUM2 table tennis tables, and @LOCATION2 shuffle board. Walking past the @CAPS3 house @CAPS13 came across the ultimate @CAPS4 field and a @LOCATION2 golf course. The golf course had all of the usual holes. @CAPS8 had a straight shot hole, a hole with a ramp, and of course a mouton hole. Our cabins were also very nice. Each cabin included two showers, @NUM3 beads, a sink and one very large mirror. The food was amazing, and the staff were hilarious. @CAPS8 was one of the best camps I had been to in a long time.  I had just got out of sectionals and was headed toward the meadow for @CAPS3 time with my friends @PERSON2, @LOCATION1, @PERSON3, and @PERSON1. @CAPS3 time was the only time in the day that us kids weren't bothered by music or counselors. @CAPS8 was a time to unwind and hang with friends in the warm @DATE2 sun. Today, the weather was perfect. Not a cloud in the sky. I could hear the ocean in the distance and feel the cool sea breeze on my face as @CAPS8 blew my hair off my shoulders. The air smelt of the freshly baked corn bread the cooks were making for lunch, and that smell I always get when I walk outside after being in a building all day. @CAPS8's hard to describe @CAPS8 but in one word, fresh air. Everyone was out and about, @CAPS5 racing to their cabins to put away their instruments, or running up and down the meadow looking for friends. All was right with the world. Until @PERSON1 decided to open his mouth. \" I'm really board. let's play a game\"\" @CAPS6 game do @CAPS13 want to play?\" asked @LOCATION1.\" @CAPS7.\" @PERSON1 @NUM4 IS @CAPS8!!!\"I shouted. Everyone jumped out of the huddle and ran as fast as they could away from @PERSON1 as @CAPS17 he had some deadly disease. @PERSON1 already knew his target before the game had even started, @CAPS9. I'm much faster and much more agile than @PERSON1 so I didn't run. We stood there for @CAPS6 felt like hours, waiting for one of us to make the first move. @PERSON1 took of his sweater, I did the same. I was going to want to have complete range of motion for this game. @PERSON1 ran at @CAPS9 first. I side stepped with my left foot and dogged his hand as @CAPS8 grazed my t-shirt. The chase was on. I sprinted as fast as I could toward the @CAPS3 house to try and loose him. I could feel my heart pounding in my chest and the muscles in my legs contracting with each step. He kept up with @CAPS9 for a while but soon, he was about a yard back. I ran into the @CAPS3 house and slammed the door shut, the force of the door blowing air in my face. I watched @PERSON1 out the window as he skidded to a halt and quickly changed direction. Now his target was the door on the other side of the @CAPS3 house. I ran and shut the door just before @PERSON1 could open @CAPS8. I could feel the force of his body pushing on the door. Finally he stopped pushing on the door and ran towards the open window. He pressed his face up against the screen and looked around. I walked over to the window and said \"@CAPS13 will never catch @CAPS9.\"he smiled and said. \"@CAPS14 at least I don't have elephant sized butt!\" That really ticked @CAPS9 off. I grabbed the window and shut @CAPS8 as hard as I could. The window hit @PERSON1 in the face before @CAPS8 slammed shut. I ran outside and watched @PERSON1 as he rolled on the ground and started moaning. But @CAPS8 wasn't a crying moan, @CAPS8 was a laughing moan. I stared to giggle at him. Soon, I couldn't help myself and I started laughing hysterically. I could feel my side cramping, but I couldn't stop laughing. Then @PERSON1 started to laugh. We sat on the ground and laughed for a long time. Once we finally stopped laughing and we could breathe again,we met up with the rest of the group back in the meadow,\" I saw @CAPS13 guys laughing over there, \" @PERSON2 said, \"@CAPS6 happened?\"I looked at @PERSON2 and said,\" @CAPS17 I told @CAPS13, @CAPS13 might hurt yourself from laughing too hard.\"</td>\n",
       "      <td>848</td>\n",
       "    </tr>\n",
       "    <tr>\n",
       "      <th>4251</th>\n",
       "      <td>22240</td>\n",
       "      <td>Laughter is one of the most important things in my life, in my opinion, besides school and family. Many of my school-life and private, out of school relationships are based on the person's sense of humor. My best friend, for example, is funny, stupid in her own cute dorky way, and see's people for who they truly are. See, people can be funny in a not very nice way, which isn't funny at all, then there are the people that are funny and can still be nice about it. There are also people who don't quite \"fit in\" and try to act funny to get noticed, and the people who abuse their humor to disturb or hinder people's lives. Some often forgets that there\"s no need to try to be funny; it just happens. Doctors even say it's healthy to laugh, which can lead to laughing so hard you cry, which in turn, cleanses your eyes. My friends and I usually laugh about each others mistakes and occasionally misfortunes, but it's always in good spirit, hence my lab partner, @LOCATION1. @PERSON1 and I were conducting a chemistry experiment. We had done it once before but had skipped a step, and contaminated our results. So, we re-conducted the experiment, and followed it exactly. Or so we thought. We were supposed to have measured out three to five grams of copper chloride powder out of small glass beaker, then add it to thirty ounces of distilled water. Well, we were getting impatient and didn't pay attention to what we were doing. We dumped the entire beaker into the water, stirred it up, and dropped our three grams of aluminum foil into it, to produce the pure element of copper. Fssshhhhhhhh! was all we heard. A crowd of students gathered around our table and one asked if the tear in her filter paper would affect her results. I told her no, as long as you weigh the paper before you put anything on it and subtract it out of the total. I looked at @LOCATION1 and saw her eyes good wide as she gave me an alarmed look. After the crowd had dispersed, I asked what was wrong. She told me we had forgotten to measure out the copper chloride. I stared at her, dumb founded, until her words sank in. I giggled a little at first, which slowly bubbled into full-on laughter, @PERSON1 joining in with me. After our giggles had subsided, we decided we would do the experiment for the third time the next day. Now we know to stop, slow down and be patient instead of rushing ahead and screwing things up. So remember, if you don't laugh like an idiot sometimes, things might not turn out the way you expected. If you don't laugh, you aren't human, and if you aren't human, what are you? Everyone has to laugh at some point or another, no matter who they are. Otherwise you're just a heartless, humorless,non-human...which there is no such thing-or isn't there? That could only mean one thing- @CAPS1! just kidding, I'm only proving to be human.</td>\n",
       "      <td>518</td>\n",
       "    </tr>\n",
       "    <tr>\n",
       "      <th>4252</th>\n",
       "      <td>22241</td>\n",
       "      <td>A @CAPS1 Of @CAPS2 Laughter, one language we can all speak the same. No matter the tone nor volume @CAPS3's all the same. Yet everyone's is different and unique in their own way. @CAPS3's one thing that no one can take away form @CAPS5. When we are happy we laugh. When we need something to cheer us up, laughter is always inside ready to come out. People make other people laugh at one another or make someone laugh about something. Laughter is a @CAPS1 given to us all, the rays of @CAPS2 that brings us light and drops of happiness in someones day. We should cherish @CAPS3, without @CAPS3 life seems dismal and empty. I remember the time my friend and I went to the beach on a hot @DATE1's day. My friend was going through a hard time and needed a break from the stress. We got there and found a nice spot to just sit down and relax. She seemed a little aggravated at first and didn't say much. I asked her what was wrong and she replied with only a sigh. I looked down for a brief moment and then stood up. I looked down at her and held out my hand. She looked up with no expression, no emotion visible in her body. I continued to hold out my hand and she finally grabbed @CAPS3. I yanked her up and told her, \"@CAPS3's time to knock that frown upside down.\" I pulled her towards the mighty waves the ocean possessed. I pushed her into the water and she came squealing out because @CAPS3 was freezing. I started laughing and she came marching at me. Before I knew @CAPS3 I was head first in the sand. I went to get up but a noise startled me. I wiped the sand off my face so that I could look up to see what @CAPS3 was. To my surprise, the noise had been coming from my friend. She wasn't coughing, wheezing or crying. @CAPS3 was a smooth, sweet sound. Almost like wind chimes banging into each other back and forth in perfect harmony. She was laughing. @CAPS3 had been so long since I had heard her laugh, let alone even smile. I stood back up and looked at her, my body in shock. She continued laughing and I couldn't help but to join in with her. We sat down and watched the sunset. She looked at me and said, \"@CAPS4 @CAPS5 for today, I had a lot of fun. I haven't felt so happy in a long time, but I am glad I was able to forget about @CAPS3 and have a blast. @CAPS5 showed me what real friendship is about and I am glad we share @CAPS3.\"I replied and said, \"@CAPS5're welcome.\" The sun went down and we ended the day with a smile. This is just one story of how laughter can affect someone. Some say that laughter is the best medicine, so whenever someone is down @CAPS5 should always try and cheer them up. @CAPS5 @MONTH1 think that @CAPS5 are very different from other people miles away, but we are all the same. We might all have our differences, but there is one thing in which we all possess, and that is laughter. @CAPS3 @MONTH1 be the littlest element to one's nature, but @CAPS3 can change someone entirely. @CAPS3 is a true @CAPS1, and we shall treat @CAPS3 as one. So next time @CAPS5're feeling down or your day is just down right gloomy just crack a laugh, the worst thing that can happen is that @CAPS5 will not know when to stop, but even then that's not a bad thing. Let the laughs be the rays of @CAPS2 that gleam down and provide light for @CAPS5 to see everyday, because @CAPS3 is hard to see in the dark. So this is why laughter is the shortest distance between two people. @CAPS3 truly is an important and incredible piece to our lives. I believe life is a puzzle and everyday we find new pieces to help complete @CAPS3. Find this piece, for without @CAPS3 life's not complete.</td>\n",
       "      <td>691</td>\n",
       "    </tr>\n",
       "    <tr>\n",
       "      <th>4253</th>\n",
       "      <td>22242</td>\n",
       "      <td>Good @CAPS1 In @LOCATION1.  Every year a select few individuals from my church go on a @CAPS2 @CAPS3 to @LOCATION1. Last year I was selected to attend the @CAPS3 along with about forty other people. When we arrived in @LOCATION1 we set up camp @CAPS22 @CAPS4 @CAPS5. The first couple of days in @LOCATION1 we built houses for family's in need. As the @CAPS3 aged people became restless kind of like @CAPS6. One day after a long day of work and frustrations the team was back @CAPS22 camp for the @ORGANIZATION1. A huge group of the teams @CAPS7 school students got bored and decided to make a circle of @CAPS8 chairs and play a game of @PERSON3 or @CAPS9. We joked and laughed for a few hours like a @CAPS10 of @CAPS11 ready for a feast. After a long wait @CAPS18 finally was my turn, I had the ultimate @CAPS9. @CAPS13, @PERSON3 or @CAPS9. \"@CAPS9\" said @CAPS13. @CAPS35 I @CAPS9 you to walk over to the @LOCATION2 (@CAPS14 for @CAPS15, which in @LOCATION1 were @CAPS16) and walk inside the smelliest @CAPS17 over there and scream \"@CAPS18 @CAPS19 @CAPS20 IN @CAPS21!\" @CAPS22 the top of your @CAPS23. @CAPS13 nodded and said \" @CAPS24 me\". He started walking over to the @LOCATION2 when everybody started laughing. I shushed them all and said listen closely. About three minutes later we all heard a great roar like we were in the @CAPS25 @CAPS26 \"@CAPS18 @CAPS19 @CAPS20 IN @CAPS21!\" The @CAPS10 of @CAPS11 came back and laughed hysterically for ten minutes. After we all had calmed down @CAPS18 was @PERSON5 turn. \"@PERSON4, @PERSON3 or @CAPS9\". @PERSON4 simply said \"@CAPS9\". @PERSON4 is the kind of girl who @CAPS34 @PERSON2. \"@CAPS35, I @CAPS9 you to run around the camp screaming I @CAPS39 @PERSON2 and singing his songBaby\" said @PERSON5. \"That is all you got?\". Said @PERSON4 \"@CAPS35\". She added. Right when I had thought the @CAPS11 had left they came back because through a mile of camp all you could hear is \" I @CAPS39 @PERSON2!\". Over and over again. Ten minutes of laughter and plain comedy @PERSON4 returned. \"@CAPS35 your turn @PERSON4\". Somebody frantically said. \"@PERSON3 or @CAPS9\". Said @PERSON4. \" I choose @CAPS9 give me a good one\". Said @PERSON3. \"@CAPS35 I @CAPS9 you to walk around by the @CAPS44 and repeat over and over again @PERSON1? Hunny? @PERSON1 I miss you @CAPS39 where are you while looking confused\". Said @PERSON4. \"@CAPS35\". Said @PERSON3 as she walked away. @PERSON3 is in @CAPS39 with @PERSON1 and everybody knows about her deep @CAPS39 for the @PERSON1. Once again the @CAPS10 of laughing @CAPS11 returned laughing for a few more minutes, when she returned the laughing would not come to an end so we decided before anybody peed there pants to stop the game. That game of @PERSON3 or @CAPS9 is still talked about to this very day. You never know what will come out of Laughter.</td>\n",
       "      <td>489</td>\n",
       "    </tr>\n",
       "  </tbody>\n",
       "</table>\n",
       "<p>15941 rows × 3 columns</p>\n",
       "</div>"
      ],
      "text/plain": [
       "     essay_id                                                                                                                                                                                                                                                                                                                                                                                                                                                                                                                                                                                                                                                                                                                                                                                                                                                                                                                                                                                                                                                                                                                                                                                                                                                                                                                                                                                                                                                                                                                                                                                                                                                                                                                                                                                                                                                                                                                                                                                                                                                                                                                                                                                                                                                                                                                                                                                                                                                                                                                                                                                                                                                                                                                                                                                                                                                                                                                                                                                                                                                                                                                                                                                                                                                                                                                                                                                                                                                                                                                                                                                                                                                                                                                                                                                                                                                                                                                                                                                                                                                                                                                                                                                                                                                                                                                                                                                                                                                                                                                                                                                                                                                                                                                                                                essay  num_words\n",
       "0     1        Dear local newspaper, I think effects computers have on people are great learning skills/affects because they give us time to chat with friends/new people, helps us learn about the globe(astronomy) and keeps us out of troble! Thing about! Dont you think so? How would you feel if your teenager is always on the phone with friends! Do you ever time to chat with your friends or buisness partner about things. Well now - there's a new way to chat the computer, theirs plenty of sites on the internet to do so: @ORGANIZATION1, @ORGANIZATION2, @CAPS1, facebook, myspace ect. Just think now while your setting up meeting with your boss on the computer, your teenager is having fun on the phone not rushing to get off cause you want to use it. How did you learn about other countrys/states outside of yours? Well I have by computer/internet, it's a new way to learn about what going on in our time! You might think your child spends a lot of time on the computer, but ask them so question about the economy, sea floor spreading or even about the @DATE1's you'll be surprise at how much he/she knows. Believe it or not the computer is much interesting then in class all day reading out of books. If your child is home on your computer or at a local library, it's better than being out with friends being fresh, or being perpressured to doing something they know isnt right. You might not know where your child is, @CAPS2 forbidde in a hospital bed because of a drive-by. Rather than your child on the computer learning, chatting or just playing games, safe and sound in your home or community place. Now I hope you have reached a point to understand and agree with me, because computers can have great effects on you or child because it gives us time to chat with friends/new people, helps us learn about the globe and believe or not keeps us out of troble. Thank you for listening.                                                                                                                                                                                                                                                                                                                                                                                                                                                                                                                                                                                                                                                                                                                                                                                                                                                                                                                                                                                                                                                                                                                                                                                                                                                                                                                                                                                                                                                                                                                                                                                                                                                                                                                                                                                                                                                                                                                                                                                                                                                                                                                                                                                                                                                                                                                                                                                                                                                                                                                                                                                                                                                                                                                                                                                                                  338      \n",
       "1     2        Dear @CAPS1 @CAPS2, I believe that using computers will benefit us in many ways like talking and becoming friends will others through websites like facebook and mysace. Using computers can help us find coordibates, locations, and able ourselfs to millions of information. Also computers will benefit us by helping with jobs as in planning a house plan and typing a @NUM1 page report for one of our jobs in less than writing it. Now lets go into the wonder world of technology. Using a computer will help us in life by talking or making friends on line. Many people have myspace, facebooks, aim, these all benefit us by having conversations with one another. Many people believe computers are bad but how can you make friends if you can never talk to them? I am very fortunate for having a computer that can help with not only school work but my social life and how I make friends. Computers help us with finding our locations, coordibates and millions of information online. If we didn't go on the internet a lot we wouldn't know how to go onto websites that @MONTH1 help us with locations and coordinates like @LOCATION1. Would you rather use a computer or be in @LOCATION3. When your supposed to be vacationing in @LOCATION2. Million of information is found on the internet. You can as almost every question and a computer will have it. Would you rather easily draw up a house plan on the computers or take @NUM1 hours doing one by hand with ugly erazer marks all over it, you are garrenteed that to find a job with a drawing like that. Also when appling for a job many workers must write very long papers like a @NUM3 word essay on why this job fits you the most, and many people I know don't like writing @NUM3 words non-stopp for hours when it could take them I hav an a computer. That is why computers we needed a lot now adays. I hope this essay has impacted your descion on computers because they are great machines to work with. The other day I showed my mom how to use a computer and she said it was the greatest invention sense sliced bread! Now go out and buy a computer to help you chat online with friends, find locations and millions of information on one click of the button and help your self with getting a job with neat, prepared, printed work that your boss will love.                                                                                                                                                                                                                                                                                                                                                                                                                                                                                                                                                                                                                                                                                                                                                                                                                                                                                                                                                                                                                                                                                                                                                                                                                                                                                                                                                                                                                                                                                                                                                                                                                                                                                                                                                                                                                                                                                                                                                                                                                                                                                                                                                                                                                                                                                                                                                                                     419      \n",
       "2     3        Dear, @CAPS1 @CAPS2 @CAPS3 More and more people use computers, but not everyone agrees that this benefits society. Those who support advances in technology believe that computers have a positive effect on people. Others have different ideas. A great amount in the world today are using computers, some for work and spme for the fun of it. Computers is one of mans greatest accomplishments. Computers are helpful in so many ways, @CAPS4, news, and live streams. Don't get me wrong way to much people spend time on the computer and they should be out interacting with others but who are we to tell them what to do. When I grow up I want to be a author or a journalist and I know for a fact that both of those jobs involve lots of time on time on the computer, one @MONTH1 spend more time then the other but you know exactly what @CAPS5 getting at. So what if some expert think people are spending to much time on the computer and not exercising, enjoying natures and interacting with family and friends. For all the expert knows that its how must people make a living and we don't know why people choose to use the computer for a great amount of time and to be honest it's non of my concern and it shouldn't be the so called experts concern. People interact a thousand times a day on the computers. Computers keep lots of kids of the streets instead of being out and causing trouble. Computers helps the @ORGANIZATION1 locate most wanted criminals. As you can see computers are more useful to society then you think, computers benefit society.                                                                                                                                                                                                                                                                                                                                                                                                                                                                                                                                                                                                                                                                                                                                                                                                                                                                                                                                                                                                                                                                                                                                                                                                                                                                                                                                                                                                                                                                                                                                                                                                                                                                                                                                                                                                                                                                                                                                                                                                                                                                                                                                                                                                                                                                                                                                                                                                                                                                                                                                                                                                                                                                                                                                                                                                                                                                                                                                                                                                                                                                                                                                                                279      \n",
       "3     4        Dear Local Newspaper, @CAPS1 I have found that many experts say that computers do not benifit our society. In some cases this is true but in most cases studdies show that computers can help people. While nothing beats talking in person computers can get really close such examples are webcams or e-mail. @PERCENT1 of students who get good grades refer to reliable websites for reasearch or to help find good books. Also online catalouges or advertisments help the economy of stores worldwide. @CAPS2 people were not allowed to use computers most of the modern would not exist. @PERSON1 said that the best form of modern communication is the computer because of the ability to write, talk, or write back for much cheaper! Almost every single event i go to is planed on a computer by communication such as e-mail \"@CAPS2 a student ever needs homework because lam out sick or needs help studying for a test then contact their teacher through the best form of communication for them always e-mail. Even the post office uses computers to get letters and boxes to people. The president of the post office, @PERSON2 said \"@CAPS3 would be imposible to get mail to our coustmers @CAPS2 @CAPS3 were not for computers telling us where a zip code is or how heavy a box is.\" @CAPS4 that tell people what is happening around the world would not exist @CAPS2 @CAPS3 were not for the moder communication abilities that computer provid us. Because information can be commucated so quick. so can reasearch. When the country of @LOCATION2 took a pole @PERCENT2 of people used computer for any type of reasearch, of those @PERCENT3 were students currently in school and @PERCENT4 of them have good grades. When the same survey was taken in the @LOCATION1 @PERCENT5 of people used computers fore reasons and @PERCENT2 were students who had good grade @CAPS2 @CAPS3 were not posible for me to access documents in the @CAPS5 @CAPS6 online I probably would not have gotten an A+ on my @CAPS7 assignment! Could you amagine @CAPS2 suddenly your Newspaper reporters couldn't use the internet to work on their reports? The articles would probably be @NUM1 after the events occur. Most buissness, including the Newspaper, use the internet to advertise, shop, or read. The association of @ORGANIZATION1 reported that in @PERCENT1 of @ORGANIZATION1 used a website and of them @PERCENT5 were in good positions. The president of @CAPS8 @NUM2 imports said that they use an online catalouge because @CAPS3 is cheaper, but they can also promote that @CAPS3 is to save trees, or for the castomer's convinence. Small @ORGANIZATION1 can make websites to promote them selves and explain their star to potential coustomers. @PERSON3, the owner of @ORGANIZATION2's said that the internet saved her resturant. @CAPS2 @CAPS3 wer not for the internet @NUM3 more people would be jobless in @LOCATION3. In conclusion computer help everyday people and without them most convinences would not exist. They help communicate around the world. Computers help people reaserch subjects for school reports, and they make the current economy get better everyday. In moderation computers are the most useful tool out there.                                                                                                                                                                                                                                                                                                                                                                                                                                                                                                                                                                                                                                                                                                                                                                                                                                                                                                                                                                                                                                                                                                                                                                                                                                                                                                                                                                                                                                                                        524      \n",
       "4     5        Dear @LOCATION1, I know having computers has a positive effect on people. The computers connect families, contain information which is great for peoples education, and are very conveint. Computors are a step into the future and we should take advantage of it. First off the internet or e-mail will help family members connect. My family, which lives @NUM1 hours away by car, love to talk with me by e-mail. This helps me connect with my family and is just another reason why we should have computors. Another reason that includes family is when the family is just sitting around and are calling everywhere just to find a board game, it would just be easier to go online to find it. This way it would be quick and easy to find that one board game. The last reason why a computer would help a family is if a family wants to get in to any kinds of activities and they need the number they could just go online. On the internet the family could find the numbers, the and some information about it. This way more and more families can do activities together. As one can see the computer is bringing more and more families together. An other reason why the computers are good for society is educations. With information at the tip of your fingers more and more people will want to learn. Now a days people try to find the out, but will all the tools on the computers mae people get the education. Secondly computers are another way to go to collage. If you arn't up to going to school/collage because your sick. You wouldn't have to miss anything because with a click of a button you will have the materials needed for what was missed. Lastly everyone knows that in @LOCATION2 most classrooms can't afford one computer. The children want computors so hard. If they were to get one it would change so much. They would be able to learn so much more than before. The children could lean about different countries far away. As a result computers would improve the way we learn. The last reason why computers are so helpful is convience. Now a say the world is crazy, so if we don't have to go out or talk to someone we won't. The computer will offer the ability to confrence will other people so that there would be communication between work parttners. With the ability to talk with another for work would make us a lighter nation. This is only one of the many reasons computers are very conviente, subssiquently computers are conviente because you could book flights, vacations, rentals, and much more. With a click of a button you should be going to @CAPS1 or a nice vacation.                                                                                                                                                                                                                                                                                                                                                                                                                                                                                                                                                                                                                                                                                                                                                                                                                                                                                                                                                                                                                                                                                                                                                                                                                                                                                                                                                                                                                                                                                                                                                                                                                                                                                                                                                                                                                                                                                                                                                                                                                                                                                            465      \n",
       "...  ..                                                                                                                                                                                                                                                                                                                                                                                                                                                                                                                                                                                                                                                                                                                                                                                                                                                                                                                                                                                                                                                                                                                                                                                                                                                                                                                                                                                                                                                                                                                                                                                                                                                                                                                                                                                                                                                                                                                                                                                                                                                                                                                                                                                                                                                                                                                                                                                                                                                                                                                                                                                                                                                                              ...                                                                                                                                                                                                                                                                                                                                                                                                                                                                                                                                                                                                                                                                                                                                                                                                                                                                                                                                                                                                                                                                                                                                                                                                                                                                                                                                                                                                                                                                                                                                                                                                                                                                                                                                                                                                                                                                                                                                                                                                                                                                                            ...      \n",
       "4249  22238    Just One @CAPS1 @CAPS2 can bring people together on any occation, one of my best friendships was brought out by just one @CAPS1. I never would have thought @DATE1 one girl could be @CAPS5 inspiring to me, @CAPS3 brings the best out of me. It all started just @DATE1, on my first day back to school I noticed @CAPS3 was in my class. Kind of hard not to notice her, @CAPS3 is very gorgeous, and not to mention smart. Feeling brave that day I decided to sit next to her, just to see who @CAPS3 was and just learn more about her.  The first time I actually talked to her I had done something funny. @CAPS3 just started @CAPS2, I then asked her \"what was @CAPS5 funny.\" @CAPS3 just said what an average person would say, \"@CAPS4 funny.\" @CAPS5 throught the rest of the class I would just glance over talk here and there. I would try to start small talks and conversations just trying to get to know her better. As the days went on, soon weeks, we became closer. Talking about ourselfs and our life problems. I had a very misfortunate @DATE2 and felt like I lost myself, I didn't know who I was anymore. I would tell her what happened and how I felt about the whole thing. @CAPS3 had a very rough @DATE2 supposidly too. @CAPS5 it was not just me talking about my problems we would talk about them, @CAPS1 when we could. I am a very humorous kid myself @CAPS5 I would spend most of my time just getting her to @CAPS1 and enjoy her company. Its funny how just one person can really change you, if it's be for the worse or better. @CAPS5 throught the @DATE1, me and her just became closer and closer talking about everything and anything. I would talk to her why I felt changed or not myself. @CAPS3 would give me advise and just be there for me like any good old friend. I became very comfortable with her, and I could be my true self. @CAPS3 would @CAPS1 at me being weird or funny, becuase I am a funny kid. I liked it though I enjoyed making her happy and @CAPS3 with me as well. @CAPS3 plays basketball, @CAPS5 during the season I would go to her games and cheer her on. @CAPS3 @MONTH1 not be super good but @CAPS3 does have some talent but just a bit short for the game. We would hang out after school, go to the movies, just go mess around town and just hang. The more I was with her the more I felt good about myself, @CAPS3 showed me that I can be myself and people will love and respect me. I would try to do the same for her as @CAPS3 was doing for me. If @CAPS3 was having a bad day I would make it my goal to change her mood and try to make her happy. Most of the time I could with my dumb jokes or being my funny self. @CAPS3 would always complain well im happy now or feeling better but what about after @DATE1 class or after school. I would just tell her ill come over after school or we can hang out to keep you happy.  We soon bacame best friends, we kept nothing from each other and where comfortable enough to talk about it all. @CAPS5 what I am trying to say is don't be scared to take a chance. Go for what ever you see fit, it could end up great or bad. It's always better to try something and to fail at it, then to sit back and wonder what could have happened if I just would have done it. All it took was just one @CAPS1 to find my best friend, @CAPS5 I encourage everyone to go for what they see fit, and live life to there fullest. Who knows what could happen with your life, meet a total stranger and end up being one of the most amazing people you have ever meet. @CAPS5 take that leap of faith and hope for the best, and don't hold back or regret. Life is to short to dwell on the troubles or problems. People should look at all the blessings they have not the problems and @DATE1 world would be a whole lot better, but take the leap of faith and you could end up finding a true friend that will be there for you no matter what.                                                                                                                                                                                                                                                                                                                                                                                                                                                                                                                                                                                                                                                                                                                                                           758      \n",
       "4250  22239     @CAPS8 Was my first time going to the band camp at @CAPS1 @CAPS2 beach in @DATE1 and I was thoroughly impressed. The camp had just about everything @CAPS13 could ever want at a camp. First, there was the beach with its warm sand and freezing cold water. The best part about the beach was that when the sun was setting @CAPS8 would pass right between the @CAPS1 @CAPS2 before @CAPS8 fell out of the sky. The camp also had a huge lake, complete with a diving board a water trampoline, and a lot of seaweed. Once @CAPS13 walked through the grass meadow @CAPS13 collided with the recreational house, which came with @NUM1 fuse ball tables, a basket ball court, @NUM2 table tennis tables, and @LOCATION2 shuffle board. Walking past the @CAPS3 house @CAPS13 came across the ultimate @CAPS4 field and a @LOCATION2 golf course. The golf course had all of the usual holes. @CAPS8 had a straight shot hole, a hole with a ramp, and of course a mouton hole. Our cabins were also very nice. Each cabin included two showers, @NUM3 beads, a sink and one very large mirror. The food was amazing, and the staff were hilarious. @CAPS8 was one of the best camps I had been to in a long time.  I had just got out of sectionals and was headed toward the meadow for @CAPS3 time with my friends @PERSON2, @LOCATION1, @PERSON3, and @PERSON1. @CAPS3 time was the only time in the day that us kids weren't bothered by music or counselors. @CAPS8 was a time to unwind and hang with friends in the warm @DATE2 sun. Today, the weather was perfect. Not a cloud in the sky. I could hear the ocean in the distance and feel the cool sea breeze on my face as @CAPS8 blew my hair off my shoulders. The air smelt of the freshly baked corn bread the cooks were making for lunch, and that smell I always get when I walk outside after being in a building all day. @CAPS8's hard to describe @CAPS8 but in one word, fresh air. Everyone was out and about, @CAPS5 racing to their cabins to put away their instruments, or running up and down the meadow looking for friends. All was right with the world. Until @PERSON1 decided to open his mouth. \" I'm really board. let's play a game\"\" @CAPS6 game do @CAPS13 want to play?\" asked @LOCATION1.\" @CAPS7.\" @PERSON1 @NUM4 IS @CAPS8!!!\"I shouted. Everyone jumped out of the huddle and ran as fast as they could away from @PERSON1 as @CAPS17 he had some deadly disease. @PERSON1 already knew his target before the game had even started, @CAPS9. I'm much faster and much more agile than @PERSON1 so I didn't run. We stood there for @CAPS6 felt like hours, waiting for one of us to make the first move. @PERSON1 took of his sweater, I did the same. I was going to want to have complete range of motion for this game. @PERSON1 ran at @CAPS9 first. I side stepped with my left foot and dogged his hand as @CAPS8 grazed my t-shirt. The chase was on. I sprinted as fast as I could toward the @CAPS3 house to try and loose him. I could feel my heart pounding in my chest and the muscles in my legs contracting with each step. He kept up with @CAPS9 for a while but soon, he was about a yard back. I ran into the @CAPS3 house and slammed the door shut, the force of the door blowing air in my face. I watched @PERSON1 out the window as he skidded to a halt and quickly changed direction. Now his target was the door on the other side of the @CAPS3 house. I ran and shut the door just before @PERSON1 could open @CAPS8. I could feel the force of his body pushing on the door. Finally he stopped pushing on the door and ran towards the open window. He pressed his face up against the screen and looked around. I walked over to the window and said \"@CAPS13 will never catch @CAPS9.\"he smiled and said. \"@CAPS14 at least I don't have elephant sized butt!\" That really ticked @CAPS9 off. I grabbed the window and shut @CAPS8 as hard as I could. The window hit @PERSON1 in the face before @CAPS8 slammed shut. I ran outside and watched @PERSON1 as he rolled on the ground and started moaning. But @CAPS8 wasn't a crying moan, @CAPS8 was a laughing moan. I stared to giggle at him. Soon, I couldn't help myself and I started laughing hysterically. I could feel my side cramping, but I couldn't stop laughing. Then @PERSON1 started to laugh. We sat on the ground and laughed for a long time. Once we finally stopped laughing and we could breathe again,we met up with the rest of the group back in the meadow,\" I saw @CAPS13 guys laughing over there, \" @PERSON2 said, \"@CAPS6 happened?\"I looked at @PERSON2 and said,\" @CAPS17 I told @CAPS13, @CAPS13 might hurt yourself from laughing too hard.\"    848      \n",
       "4251  22240    Laughter is one of the most important things in my life, in my opinion, besides school and family. Many of my school-life and private, out of school relationships are based on the person's sense of humor. My best friend, for example, is funny, stupid in her own cute dorky way, and see's people for who they truly are. See, people can be funny in a not very nice way, which isn't funny at all, then there are the people that are funny and can still be nice about it. There are also people who don't quite \"fit in\" and try to act funny to get noticed, and the people who abuse their humor to disturb or hinder people's lives. Some often forgets that there\"s no need to try to be funny; it just happens. Doctors even say it's healthy to laugh, which can lead to laughing so hard you cry, which in turn, cleanses your eyes. My friends and I usually laugh about each others mistakes and occasionally misfortunes, but it's always in good spirit, hence my lab partner, @LOCATION1. @PERSON1 and I were conducting a chemistry experiment. We had done it once before but had skipped a step, and contaminated our results. So, we re-conducted the experiment, and followed it exactly. Or so we thought. We were supposed to have measured out three to five grams of copper chloride powder out of small glass beaker, then add it to thirty ounces of distilled water. Well, we were getting impatient and didn't pay attention to what we were doing. We dumped the entire beaker into the water, stirred it up, and dropped our three grams of aluminum foil into it, to produce the pure element of copper. Fssshhhhhhhh! was all we heard. A crowd of students gathered around our table and one asked if the tear in her filter paper would affect her results. I told her no, as long as you weigh the paper before you put anything on it and subtract it out of the total. I looked at @LOCATION1 and saw her eyes good wide as she gave me an alarmed look. After the crowd had dispersed, I asked what was wrong. She told me we had forgotten to measure out the copper chloride. I stared at her, dumb founded, until her words sank in. I giggled a little at first, which slowly bubbled into full-on laughter, @PERSON1 joining in with me. After our giggles had subsided, we decided we would do the experiment for the third time the next day. Now we know to stop, slow down and be patient instead of rushing ahead and screwing things up. So remember, if you don't laugh like an idiot sometimes, things might not turn out the way you expected. If you don't laugh, you aren't human, and if you aren't human, what are you? Everyone has to laugh at some point or another, no matter who they are. Otherwise you're just a heartless, humorless,non-human...which there is no such thing-or isn't there? That could only mean one thing- @CAPS1! just kidding, I'm only proving to be human.                                                                                                                                                                                                                                                                                                                                                                                                                                                                                                                                                                                                                                                                                                                                                                                                                                                                                                                                                                                                                                                                                                                                                                                                                                                                                                                                                                                                                                                                                                                                                                                                                                                                                                                                                                                                              518      \n",
       "4252  22241                                    A @CAPS1 Of @CAPS2 Laughter, one language we can all speak the same. No matter the tone nor volume @CAPS3's all the same. Yet everyone's is different and unique in their own way. @CAPS3's one thing that no one can take away form @CAPS5. When we are happy we laugh. When we need something to cheer us up, laughter is always inside ready to come out. People make other people laugh at one another or make someone laugh about something. Laughter is a @CAPS1 given to us all, the rays of @CAPS2 that brings us light and drops of happiness in someones day. We should cherish @CAPS3, without @CAPS3 life seems dismal and empty. I remember the time my friend and I went to the beach on a hot @DATE1's day. My friend was going through a hard time and needed a break from the stress. We got there and found a nice spot to just sit down and relax. She seemed a little aggravated at first and didn't say much. I asked her what was wrong and she replied with only a sigh. I looked down for a brief moment and then stood up. I looked down at her and held out my hand. She looked up with no expression, no emotion visible in her body. I continued to hold out my hand and she finally grabbed @CAPS3. I yanked her up and told her, \"@CAPS3's time to knock that frown upside down.\" I pulled her towards the mighty waves the ocean possessed. I pushed her into the water and she came squealing out because @CAPS3 was freezing. I started laughing and she came marching at me. Before I knew @CAPS3 I was head first in the sand. I went to get up but a noise startled me. I wiped the sand off my face so that I could look up to see what @CAPS3 was. To my surprise, the noise had been coming from my friend. She wasn't coughing, wheezing or crying. @CAPS3 was a smooth, sweet sound. Almost like wind chimes banging into each other back and forth in perfect harmony. She was laughing. @CAPS3 had been so long since I had heard her laugh, let alone even smile. I stood back up and looked at her, my body in shock. She continued laughing and I couldn't help but to join in with her. We sat down and watched the sunset. She looked at me and said, \"@CAPS4 @CAPS5 for today, I had a lot of fun. I haven't felt so happy in a long time, but I am glad I was able to forget about @CAPS3 and have a blast. @CAPS5 showed me what real friendship is about and I am glad we share @CAPS3.\"I replied and said, \"@CAPS5're welcome.\" The sun went down and we ended the day with a smile. This is just one story of how laughter can affect someone. Some say that laughter is the best medicine, so whenever someone is down @CAPS5 should always try and cheer them up. @CAPS5 @MONTH1 think that @CAPS5 are very different from other people miles away, but we are all the same. We might all have our differences, but there is one thing in which we all possess, and that is laughter. @CAPS3 @MONTH1 be the littlest element to one's nature, but @CAPS3 can change someone entirely. @CAPS3 is a true @CAPS1, and we shall treat @CAPS3 as one. So next time @CAPS5're feeling down or your day is just down right gloomy just crack a laugh, the worst thing that can happen is that @CAPS5 will not know when to stop, but even then that's not a bad thing. Let the laughs be the rays of @CAPS2 that gleam down and provide light for @CAPS5 to see everyday, because @CAPS3 is hard to see in the dark. So this is why laughter is the shortest distance between two people. @CAPS3 truly is an important and incredible piece to our lives. I believe life is a puzzle and everyday we find new pieces to help complete @CAPS3. Find this piece, for without @CAPS3 life's not complete.                                                                                                                                                                                                                                                                                                                                                                                                                                                                                                                                                                                                                                                                                                                                                                                                                                                                                                                                                                              691      \n",
       "4253  22242      Good @CAPS1 In @LOCATION1.  Every year a select few individuals from my church go on a @CAPS2 @CAPS3 to @LOCATION1. Last year I was selected to attend the @CAPS3 along with about forty other people. When we arrived in @LOCATION1 we set up camp @CAPS22 @CAPS4 @CAPS5. The first couple of days in @LOCATION1 we built houses for family's in need. As the @CAPS3 aged people became restless kind of like @CAPS6. One day after a long day of work and frustrations the team was back @CAPS22 camp for the @ORGANIZATION1. A huge group of the teams @CAPS7 school students got bored and decided to make a circle of @CAPS8 chairs and play a game of @PERSON3 or @CAPS9. We joked and laughed for a few hours like a @CAPS10 of @CAPS11 ready for a feast. After a long wait @CAPS18 finally was my turn, I had the ultimate @CAPS9. @CAPS13, @PERSON3 or @CAPS9. \"@CAPS9\" said @CAPS13. @CAPS35 I @CAPS9 you to walk over to the @LOCATION2 (@CAPS14 for @CAPS15, which in @LOCATION1 were @CAPS16) and walk inside the smelliest @CAPS17 over there and scream \"@CAPS18 @CAPS19 @CAPS20 IN @CAPS21!\" @CAPS22 the top of your @CAPS23. @CAPS13 nodded and said \" @CAPS24 me\". He started walking over to the @LOCATION2 when everybody started laughing. I shushed them all and said listen closely. About three minutes later we all heard a great roar like we were in the @CAPS25 @CAPS26 \"@CAPS18 @CAPS19 @CAPS20 IN @CAPS21!\" The @CAPS10 of @CAPS11 came back and laughed hysterically for ten minutes. After we all had calmed down @CAPS18 was @PERSON5 turn. \"@PERSON4, @PERSON3 or @CAPS9\". @PERSON4 simply said \"@CAPS9\". @PERSON4 is the kind of girl who @CAPS34 @PERSON2. \"@CAPS35, I @CAPS9 you to run around the camp screaming I @CAPS39 @PERSON2 and singing his songBaby\" said @PERSON5. \"That is all you got?\". Said @PERSON4 \"@CAPS35\". She added. Right when I had thought the @CAPS11 had left they came back because through a mile of camp all you could hear is \" I @CAPS39 @PERSON2!\". Over and over again. Ten minutes of laughter and plain comedy @PERSON4 returned. \"@CAPS35 your turn @PERSON4\". Somebody frantically said. \"@PERSON3 or @CAPS9\". Said @PERSON4. \" I choose @CAPS9 give me a good one\". Said @PERSON3. \"@CAPS35 I @CAPS9 you to walk around by the @CAPS44 and repeat over and over again @PERSON1? Hunny? @PERSON1 I miss you @CAPS39 where are you while looking confused\". Said @PERSON4. \"@CAPS35\". Said @PERSON3 as she walked away. @PERSON3 is in @CAPS39 with @PERSON1 and everybody knows about her deep @CAPS39 for the @PERSON1. Once again the @CAPS10 of laughing @CAPS11 returned laughing for a few more minutes, when she returned the laughing would not come to an end so we decided before anybody peed there pants to stop the game. That game of @PERSON3 or @CAPS9 is still talked about to this very day. You never know what will come out of Laughter.                                                                                                                                                                                                                                                                                                                                                                                                                                                                                                                                                                                                                                                                                                                                                                                                                                                                                                                                                                                                                                                                                                                                                                                                                                                                                                                                                                                                                                                                                                                                                                                                                                                                                                                                                                                                                            489      \n",
       "\n",
       "[15941 rows x 3 columns]"
      ]
     },
     "execution_count": 52,
     "metadata": {},
     "output_type": "execute_result"
    }
   ],
   "source": [
    "all[all.num_words > 100]"
   ]
  },
  {
   "cell_type": "code",
   "execution_count": null,
   "metadata": {},
   "outputs": [],
   "source": []
  }
 ],
 "metadata": {
  "interpreter": {
   "hash": "2e1511501be64c09e2f1eb58c3220ebc9ce84b491d308a480caed250bbb4af51"
  },
  "kernelspec": {
   "display_name": "Python 3.6.13 64-bit (conda)",
   "language": "python",
   "name": "python3"
  },
  "language_info": {
   "codemirror_mode": {
    "name": "ipython",
    "version": 3
   },
   "file_extension": ".py",
   "mimetype": "text/x-python",
   "name": "python",
   "nbconvert_exporter": "python",
   "pygments_lexer": "ipython3",
   "version": "3.7.9"
  },
  "orig_nbformat": 4
 },
 "nbformat": 4,
 "nbformat_minor": 2
}
