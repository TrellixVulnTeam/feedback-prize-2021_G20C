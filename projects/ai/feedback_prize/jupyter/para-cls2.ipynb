{
 "cells": [
  {
   "cell_type": "code",
   "execution_count": 1,
   "metadata": {},
   "outputs": [],
   "source": [
    "import numpy as np\n",
    "import pandas as pd\n",
    "import random\n",
    "import itertools\n",
    "import matplotlib.pyplot as plt\n",
    "import plotly.express as px\n",
    "import glob\n",
    "import spacy\n",
    "import sklearn\n",
    "from collections import defaultdict, Counter\n",
    "from bisect import bisect_left\n",
    "import matplotlib.pyplot as plt\n",
    "import matplotlib\n",
    "import io\n",
    "import base64\n",
    "import pymp\n",
    "from multiprocessing import Pool, Manager, cpu_count\n",
    "from IPython.display import display_html\n",
    "from itertools import chain, cycle\n",
    "import lightgbm as lgb\n",
    "import sys\n",
    "sys.path.append('../../../../utils')\n",
    "sys.path.append('..')\n",
    "import gezi\n",
    "from gezi import tqdm\n",
    "from src.eval import *\n",
    "from src.util import *\n",
    "from src import config\n",
    "from src.visualize import *\n",
    "from src.rewards import *\n",
    "pd.set_option('display.float_format', lambda x: '%.02f' % x)"
   ]
  },
  {
   "cell_type": "code",
   "execution_count": 2,
   "metadata": {},
   "outputs": [],
   "source": [
    "# https://www.kaggle.com/chasembowers/sequence-postprocessing-v2-67-lb/notebook#Sequence-Datasets"
   ]
  },
  {
   "cell_type": "code",
   "execution_count": 3,
   "metadata": {},
   "outputs": [],
   "source": [
    "root = '../input/feedback-prize-2021'"
   ]
  },
  {
   "cell_type": "code",
   "execution_count": 4,
   "metadata": {},
   "outputs": [],
   "source": [
    "df = pd.read_feather(f'{root}/train_en.fea')"
   ]
  },
  {
   "cell_type": "code",
   "execution_count": 5,
   "metadata": {},
   "outputs": [
    {
     "data": {
      "text/plain": [
       "{'Nothing': 132,\n",
       " 'Claim': 55,\n",
       " 'Evidence': 299,\n",
       " 'Position': 59,\n",
       " 'Concluding Statement': 191,\n",
       " 'Lead': 197,\n",
       " 'Counterclaim': 95,\n",
       " 'Rebuttal': 116}"
      ]
     },
     "execution_count": 5,
     "metadata": {},
     "output_type": "execute_result"
    }
   ],
   "source": [
    "MAX_SEQ_LEN = {}\n",
    "df['len'] = df.end - df.start\n",
    "max_lens = df.groupby('para_type')['len'].quantile(.995)\n",
    "for i in range(len(ALL_CLASSES)):\n",
    "  MAX_SEQ_LEN[id2dis[i]] = int(max_lens[i])\n",
    "MAX_SEQ_LEN"
   ]
  },
  {
   "cell_type": "code",
   "execution_count": 6,
   "metadata": {},
   "outputs": [],
   "source": [
    "proba_thresh = {\n",
    "    \"Lead\": 0.7,\n",
    "    \"Position\": 0.55,\n",
    "    \"Evidence\": 0.65,\n",
    "    \"Claim\": 0.55,\n",
    "    \"Concluding Statement\": 0.7,\n",
    "    \"Counterclaim\": 0.5,\n",
    "    \"Rebuttal\": 0.55,\n",
    "    \"Nothing\": 0.5,\n",
    "}\n",
    "# TODO 自动学习这个阈值"
   ]
  },
  {
   "cell_type": "code",
   "execution_count": 7,
   "metadata": {},
   "outputs": [],
   "source": [
    "d = pd.read_feather(f'{root}/para_label.fea')"
   ]
  },
  {
   "cell_type": "code",
   "execution_count": 8,
   "metadata": {},
   "outputs": [
    {
     "data": {
      "application/vnd.jupyter.widget-view+json": {
       "model_id": "380bea072c7848198c7bfc60c4d4b052",
       "version_major": 2,
       "version_minor": 0
      },
      "text/plain": [
       "  0%|          | 0/15594 [00:00<?, ?it/s]"
      ]
     },
     "metadata": {},
     "output_type": "display_data"
    }
   ],
   "source": [
    "gts = {}\n",
    "for row in tqdm(d.itertuples(), total=len(d)):\n",
    "  gts[row.id] = decode_label_all(row.start, row.para_types)"
   ]
  },
  {
   "cell_type": "code",
   "execution_count": 9,
   "metadata": {},
   "outputs": [
    {
     "data": {
      "application/vnd.jupyter.widget-view+json": {
       "model_id": "f933540574424e898c4786b97c1eba47",
       "version_major": 2,
       "version_minor": 0
      },
      "text/plain": [
       "  0%|          | 0/175160 [00:00<?, ?it/s]"
      ]
     },
     "metadata": {},
     "output_type": "display_data"
    }
   ],
   "source": [
    "folds = {}\n",
    "for row in tqdm(df.itertuples(), total=len(df)):\n",
    "  folds[row.id] = row.kfold"
   ]
  },
  {
   "cell_type": "code",
   "execution_count": 10,
   "metadata": {},
   "outputs": [],
   "source": [
    "np.random.seed(12345)"
   ]
  },
  {
   "cell_type": "code",
   "execution_count": 11,
   "metadata": {},
   "outputs": [
    {
     "data": {
      "application/vnd.jupyter.widget-view+json": {
       "model_id": "128bb292c98e4570a349c4e117fa1167",
       "version_major": 2,
       "version_minor": 0
      },
      "text/plain": [
       "  0%|          | 0/175160 [00:00<?, ?it/s]"
      ]
     },
     "metadata": {},
     "output_type": "display_data"
    }
   ],
   "source": [
    "subfolds = {}\n",
    "for row in tqdm(df.itertuples(), total=len(df)):\n",
    "  subfolds[row.id] = np.random.randint(5)"
   ]
  },
  {
   "cell_type": "code",
   "execution_count": 12,
   "metadata": {},
   "outputs": [
    {
     "data": {
      "text/plain": [
       "{0: [[0, 3]],\n",
       " 1: [[15, 36]],\n",
       " 2: [[36, 177]],\n",
       " 3: [[3, 15]],\n",
       " 4: [[177, 212]],\n",
       " 5: [],\n",
       " 6: [],\n",
       " 7: []}"
      ]
     },
     "execution_count": 12,
     "metadata": {},
     "output_type": "execute_result"
    }
   ],
   "source": [
    "gts['A8445CABFECE']"
   ]
  },
  {
   "cell_type": "code",
   "execution_count": 13,
   "metadata": {},
   "outputs": [],
   "source": [
    "def para_dataset(info, disc_type=None, start_thre=0.1, start_thre2=0.99, fold=None, subfold=None, infer=False):\n",
    "  total = len(info['id'])\n",
    "  fes = []\n",
    "  scores = []\n",
    "  matches = []\n",
    "  for i in tqdm(range(total)):\n",
    "    x = {}\n",
    "    for key in info:\n",
    "      x[key] = info[key][i]\n",
    "    id = x['id']\n",
    "    gt = gts[id]\n",
    "    fe = {}\n",
    "    fe['id'] = id\n",
    "    fe['index'] = i\n",
    "    fe['fold'] = folds[id]\n",
    "    if fold is not None and fe['fold'] != fold:\n",
    "      continue\n",
    "    fe['subfold'] = subfolds[id]\n",
    "    if subfold is not None and fe['subfold'] != subfold:\n",
    "      continue\n",
    "    fe['num_words'] = x['num_words']\n",
    "    fe['seps'] = (x['start_probs'][:,1] > 0.5).sum()\n",
    "    fe['sep_ratio'] = fe['seps'] / fe['num_words']\n",
    "    num_words = x['num_words']\n",
    "    for j in range(num_words):\n",
    "      if j > 0 and x['start_probs'][j][1] < start_thre and x['preds'][j] == x['preds'][j - 1]:\n",
    "        continue\n",
    "      probs = np.zeros_like(x['probs'][j])\n",
    "      probs += x['probs'][j]\n",
    "      fe['start'] = j\n",
    "      fe['start_ratio'] = (j + 1) / num_words\n",
    "      fe['start_probs'] = x['probs'][j]\n",
    "      fe['start_sep_prob'] = x['start_probs'][j][1] if j > 0 else 1.\n",
    "      preds = {k: 0 for k in range(NUM_CLASSES)}\n",
    "      fe['start_cls'] = x['preds'][j]\n",
    "      fe['max_start_prob'] = probs.max()\n",
    "      preds[x['preds'][j]] += 1\n",
    "      fe['pre_cls'] = -1 if j == 0 else x['preds'][j - 1]\n",
    "      fe['pre_max_prob'] = 1 if j == 0 else x['probs'][j - 1].max()\n",
    "      sep_count = 0\n",
    "      for k in range(j + 1, num_words):\n",
    "        probs += x['probs'][k]\n",
    "        fe['para_len'] = k + 1 - j\n",
    "        fe['para_len_ratio'] = (k + 1 - j) / num_words\n",
    "        preds[x['preds'][k]] += 1\n",
    "        if k + 1 < num_words and x['start_probs'][k + 1][1] < start_thre and x['preds'][k] == x['preds'][k + 1]:\n",
    "          continue\n",
    "        if k + 1 < num_words and x['start_probs'][k + 1][1] > 0.5:\n",
    "          sep_count += 1\n",
    "        fe['end'] = k + 1\n",
    "        fe['end_ratio'] = (k + 1) / num_words\n",
    "        fe['end_probs'] = x['probs'][k]\n",
    "        fe['max_end_prob'] = x['probs'][k + 1].max() if k + 1 < num_words else 1\n",
    "        end_cls = np.argmax(x['probs'][k])\n",
    "        fe['end_cls'] = end_cls\n",
    "        fe['end_sep_prob'] = x['start_probs'][k + 1][1] if k + 1 < num_words else 1.\n",
    "        fe['sep_add_prob'] = (fe['start_sep_prob'] + fe['end_sep_prob']) / 2.\n",
    "        fe['sep_mul_prob'] = (fe['start_sep_prob'] * fe['end_sep_prob']) ** 0.5\n",
    "        fe['num_classes'] = len([k for k in range(NUM_CLASSES) if preds[k] > 0])\n",
    "        mean_probs = gezi.softmax(probs)\n",
    "        fe['mean_probs'] = mean_probs\n",
    "        fe['max_prob'] = mean_probs.max()\n",
    "        top_classes = np.argsort(-mean_probs,axis=0)[:2]\n",
    "        fe['top_class'] = top_classes[0]\n",
    "        fe['top_class2'] = top_classes[1]\n",
    "        fe['next_cls'] = -1 if k + 1  == num_words else x['preds'][k + 1]\n",
    "        # top_classes = top_classes[:1]\n",
    "        if fe['para_len'] > 1 and fe['num_classes'] < 4:\n",
    "          for cls in top_classes:\n",
    "            if disc_type != None and cls != disc_type:\n",
    "              continue\n",
    "            if cls and fe['para_len'] >  MAX_SEQ_LEN[id2dis[cls]]:\n",
    "              continue\n",
    "            if fe['mean_probs'][cls] < proba_thresh[id2dis[cls]]:\n",
    "              continue\n",
    "            fe['mean_prob'] = fe['mean_probs'][cls]\n",
    "            fe['start_prob'] = x['probs'][j][cls]\n",
    "            fe['end_prob'] = x['probs'][k][cls]\n",
    "            fe['class_ratio'] = (x['preds'][j:k+1] == cls).sum() / fe['para_len']\n",
    "            # fe['class_max_prob'] = x['probs'][j:k+1][cls].max()\n",
    "            # fe['class_min_prob'] = x['probs'][j:k+1][cls].min()\n",
    "            fe['cls'] = cls\n",
    "            fe['is_top_class'] = int(cls == fe['top_class'])\n",
    "            fe['is_top_class2'] = int(cls == fe['top_class2'])\n",
    "            if not infer:\n",
    "              fe['score'] = best_match(gt[cls], [j, k + 1])\n",
    "              fe['match'] = calc_match(gt[cls], [[j, k + 1]])\n",
    "              # if not fe['match'] and np.random.randint(3) != 0:\n",
    "              #   continue\n",
    "              scores.append(fe['score'])\n",
    "              matches.append(fe['match'])\n",
    "            fes.append(fe.copy())\n",
    "        if k + 1 < num_words and x['start_probs'][k + 1][1] > start_thre2:\n",
    "          break\n",
    "        if sep_count > 2:  \n",
    "          break\n",
    "  if not infer:\n",
    "    ic(np.mean(scores), np.mean(matches))\n",
    "  d = pd.DataFrame(fes)\n",
    "  return d"
   ]
  },
  {
   "cell_type": "code",
   "execution_count": 14,
   "metadata": {},
   "outputs": [],
   "source": [
    "info = gezi.load('../working/offline/44/valid.pkl')"
   ]
  },
  {
   "cell_type": "code",
   "execution_count": 15,
   "metadata": {},
   "outputs": [
    {
     "data": {
      "application/vnd.jupyter.widget-view+json": {
       "model_id": "dad34eb43d364562b2ede8b0845ce415",
       "version_major": 2,
       "version_minor": 0
      },
      "text/plain": [
       "  0%|          | 0/15594 [00:00<?, ?it/s]"
      ]
     },
     "metadata": {},
     "output_type": "display_data"
    },
    {
     "name": "stderr",
     "output_type": "stream",
     "text": [
      "ic| <-ipythoninput-13-6f9f2c390751>:98 in para_dataset()\n",
      "    np.mean(scores): 0.38091122614339173\n",
      "    np.mean(matches): 0.402760131598067\n",
      "icipython| <-input-13-6f9f2c390751>:98 in para_dataset()\n",
      "    np.mean(scores): 0.3816458008422131\n",
      "    np.mean(matches): 0.4069303467671706\n",
      "ic| <ipython-input-13-6f9f2c390751>:98 in para_dataset()\n",
      "    np.mean(scores): 0.38339704166731337\n",
      "    np.mean(matches): 0.4059081514341886\n",
      "ic| <ipython-input-13-6f9f2c390751>:98 in para_dataset()\n",
      "    np.mean(scores): 0.3679153816086173\n",
      "    np.mean(matches): 0.361741093751438\n",
      "ic| <ipython-input-13-6f9f2c390751>:98 in para_dataset()\n",
      "    np.mean(scores): 0.37094642577992554\n",
      "    np.mean(matches): 0.386000169924645\n"
     ]
    }
   ],
   "source": [
    "nw = 5\n",
    "ds = Manager().dict()\n",
    "with pymp.Parallel(nw) as p:\n",
    "  for fold in p.range(5):\n",
    "    fold_ = fold\n",
    "    ds[fold_] = para_dataset(info, fold=fold)"
   ]
  },
  {
   "cell_type": "code",
   "execution_count": 16,
   "metadata": {},
   "outputs": [],
   "source": [
    "dtrain = pd.concat([ds[1], ds[2], ds[3], ds[4]])"
   ]
  },
  {
   "cell_type": "code",
   "execution_count": 17,
   "metadata": {},
   "outputs": [],
   "source": [
    "dvalid = ds[0]"
   ]
  },
  {
   "cell_type": "code",
   "execution_count": 50,
   "metadata": {},
   "outputs": [],
   "source": [
    "# dtrain = d[d.subfold != 0]\n",
    "# # dtrain = d0[d0.subfold == 1]\n",
    "# dvalid = d[d.subfold == 0]\n",
    "reg_cols =  [\n",
    "              'num_words', 'start', 'start_ratio', 'end', 'end_ratio',\n",
    "              'start_sep_prob', 'end_sep_prob', 'para_len', 'para_len_ratio',\n",
    "              'num_classes', \n",
    "              'mean_prob', \n",
    "              # 'max_prob',\n",
    "              # 'start_prob', 'end_prob', \n",
    "              # 'seps', 'sep_ratio', \n",
    "              'class_ratio',\n",
    "              # 'sep_add_prob', 'sep_mul_prob', \n",
    "              # 'is_top_class', 'is_top_class2',\n",
    "            #   'class_max_prob', 'class_min_prob'\n",
    "        ]\n",
    "cat_cols = [\n",
    "            'cls', \n",
    "            # 'start_cls', 'end_cls',\n",
    "            # 'top_class',\n",
    "            # 'top_class2',\n",
    "            'pre_cls', \n",
    "            'next_cls'\n",
    "            ]\n",
    "label_col = 'match'\n",
    "label_col = 'score'\n",
    "cols = reg_cols + cat_cols\n",
    "X_train = dtrain[cols]\n",
    "y_train = dtrain[[label_col]]"
   ]
  },
  {
   "cell_type": "code",
   "execution_count": 51,
   "metadata": {},
   "outputs": [],
   "source": [
    "X_valid = dvalid[cols]\n",
    "# y_valid = dvalid[[label_col]]\n",
    "y_valid = dvalid[['match']]"
   ]
  },
  {
   "cell_type": "code",
   "execution_count": 49,
   "metadata": {},
   "outputs": [],
   "source": [
    "learning_rate = 0.1\n",
    "num_boost_round = 1000\n",
    "params = {\n",
    "          # \"objective\": \"binary\",\n",
    "          \"objective\": \"regression\" if label_col is 'score' else 'binary',\n",
    "          # \"objective\": \"cross_entropy\",\n",
    "          \"metric\": \"auc\",\n",
    "          \"boosting_type\": \"gbdt\",\n",
    "          \"learning_rate\": learning_rate,\n",
    "          \"num_leaves\": 12,\n",
    "          \"max_bin\": 256,\n",
    "          \"feature_fraction\": 0.75,\n",
    "          \"verbosity\": 0,\n",
    "          # \"drop_rate\": 0.1,\n",
    "          \"is_unbalance\": True,\n",
    "          # \"max_drop\": 50,\n",
    "          \"min_child_samples\": 20,\n",
    "          \"min_child_weight\": 150,\n",
    "          \"min_split_gain\": 0,\n",
    "          \"bagging_freq\": 5,\n",
    "          \"bagging_fraction\": 0.9,\n",
    "          \"num_trees\": 100,\n",
    "          \"subsample\": 0.9\n",
    "          }"
   ]
  },
  {
   "cell_type": "code",
   "execution_count": 52,
   "metadata": {},
   "outputs": [
    {
     "name": "stdout",
     "output_type": "stream",
     "text": [
      "[LightGBM] [Warning] bagging_fraction is set=0.9, subsample=0.9 will be ignored. Current value: bagging_fraction=0.9\n",
      "[LightGBM] [Warning] bagging_fraction is set=0.9, subsample=0.9 will be ignored. Current value: bagging_fraction=0.9\n",
      "[LightGBM] [Warning] Auto-choosing col-wise multi-threading, the overhead of testing was 0.256642 seconds.\n",
      "You can set `force_col_wise=true` to remove the overhead.\n",
      "[LightGBM] [Warning] bagging_fraction is set=0.9, subsample=0.9 will be ignored. Current value: bagging_fraction=0.9\n",
      "[1]\tvalid_0's auc: 0.694732\n",
      "Training until validation scores don't improve for 10 rounds\n",
      "[2]\tvalid_0's auc: 0.7126\n",
      "[3]\tvalid_0's auc: 0.722943\n",
      "[4]\tvalid_0's auc: 0.721988\n",
      "[5]\tvalid_0's auc: 0.722778\n",
      "[6]\tvalid_0's auc: 0.726869\n",
      "[7]\tvalid_0's auc: 0.73475\n",
      "[8]\tvalid_0's auc: 0.737985\n",
      "[9]\tvalid_0's auc: 0.738757\n",
      "[10]\tvalid_0's auc: 0.739141\n",
      "[11]\tvalid_0's auc: 0.739041\n",
      "[12]\tvalid_0's auc: 0.739742\n",
      "[13]\tvalid_0's auc: 0.74043\n",
      "[14]\tvalid_0's auc: 0.741195\n",
      "[15]\tvalid_0's auc: 0.740814\n",
      "[16]\tvalid_0's auc: 0.741174\n",
      "[17]\tvalid_0's auc: 0.742547\n",
      "[18]\tvalid_0's auc: 0.743484\n",
      "[19]\tvalid_0's auc: 0.743721\n",
      "[20]\tvalid_0's auc: 0.74387\n",
      "[21]\tvalid_0's auc: 0.743908\n",
      "[22]\tvalid_0's auc: 0.744421\n",
      "[23]\tvalid_0's auc: 0.745163\n",
      "[24]\tvalid_0's auc: 0.745363\n",
      "[25]\tvalid_0's auc: 0.744944\n",
      "[26]\tvalid_0's auc: 0.745541\n",
      "[27]\tvalid_0's auc: 0.745842\n",
      "[28]\tvalid_0's auc: 0.746097\n",
      "[29]\tvalid_0's auc: 0.746415\n",
      "[30]\tvalid_0's auc: 0.746952\n",
      "[31]\tvalid_0's auc: 0.747325\n",
      "[32]\tvalid_0's auc: 0.747562\n",
      "[33]\tvalid_0's auc: 0.747796\n",
      "[34]\tvalid_0's auc: 0.747558\n",
      "[35]\tvalid_0's auc: 0.747886\n",
      "[36]\tvalid_0's auc: 0.748153\n",
      "[37]\tvalid_0's auc: 0.748354\n",
      "[38]\tvalid_0's auc: 0.748531\n",
      "[39]\tvalid_0's auc: 0.748708\n",
      "[40]\tvalid_0's auc: 0.748495\n",
      "[41]\tvalid_0's auc: 0.748502\n",
      "[42]\tvalid_0's auc: 0.748966\n",
      "[43]\tvalid_0's auc: 0.749308\n",
      "[44]\tvalid_0's auc: 0.749451\n",
      "[45]\tvalid_0's auc: 0.749291\n",
      "[46]\tvalid_0's auc: 0.749451\n",
      "[47]\tvalid_0's auc: 0.749458\n",
      "[48]\tvalid_0's auc: 0.749584\n",
      "[49]\tvalid_0's auc: 0.749872\n",
      "[50]\tvalid_0's auc: 0.750226\n",
      "[51]\tvalid_0's auc: 0.750255\n",
      "[52]\tvalid_0's auc: 0.750669\n",
      "[53]\tvalid_0's auc: 0.750714\n",
      "[54]\tvalid_0's auc: 0.750875\n",
      "[55]\tvalid_0's auc: 0.750992\n",
      "[56]\tvalid_0's auc: 0.750955\n",
      "[57]\tvalid_0's auc: 0.75118\n",
      "[58]\tvalid_0's auc: 0.751422\n",
      "[59]\tvalid_0's auc: 0.751443\n",
      "[60]\tvalid_0's auc: 0.751658\n",
      "[61]\tvalid_0's auc: 0.751789\n",
      "[62]\tvalid_0's auc: 0.752196\n",
      "[63]\tvalid_0's auc: 0.752235\n",
      "[64]\tvalid_0's auc: 0.752241\n",
      "[65]\tvalid_0's auc: 0.752302\n",
      "[66]\tvalid_0's auc: 0.752497\n",
      "[67]\tvalid_0's auc: 0.752529\n",
      "[68]\tvalid_0's auc: 0.752868\n",
      "[69]\tvalid_0's auc: 0.753166\n",
      "[70]\tvalid_0's auc: 0.753262\n",
      "[71]\tvalid_0's auc: 0.753307\n",
      "[72]\tvalid_0's auc: 0.753588\n",
      "[73]\tvalid_0's auc: 0.753597\n",
      "[74]\tvalid_0's auc: 0.753645\n",
      "[75]\tvalid_0's auc: 0.753742\n",
      "[76]\tvalid_0's auc: 0.754003\n",
      "[77]\tvalid_0's auc: 0.753991\n",
      "[78]\tvalid_0's auc: 0.754073\n",
      "[79]\tvalid_0's auc: 0.754084\n",
      "[80]\tvalid_0's auc: 0.754169\n",
      "[81]\tvalid_0's auc: 0.754188\n",
      "[82]\tvalid_0's auc: 0.754449\n",
      "[83]\tvalid_0's auc: 0.754456\n",
      "[84]\tvalid_0's auc: 0.754523\n",
      "[85]\tvalid_0's auc: 0.754414\n",
      "[86]\tvalid_0's auc: 0.75438\n",
      "[87]\tvalid_0's auc: 0.754435\n",
      "[88]\tvalid_0's auc: 0.754432\n",
      "[89]\tvalid_0's auc: 0.75441\n",
      "[90]\tvalid_0's auc: 0.754587\n",
      "[91]\tvalid_0's auc: 0.754603\n",
      "[92]\tvalid_0's auc: 0.754693\n",
      "[93]\tvalid_0's auc: 0.75478\n",
      "[94]\tvalid_0's auc: 0.754802\n",
      "[95]\tvalid_0's auc: 0.754667\n",
      "[96]\tvalid_0's auc: 0.75477\n",
      "[97]\tvalid_0's auc: 0.75483\n",
      "[98]\tvalid_0's auc: 0.755028\n",
      "[99]\tvalid_0's auc: 0.755103\n",
      "[100]\tvalid_0's auc: 0.75514\n",
      "Did not meet early stopping. Best iteration is:\n",
      "[100]\tvalid_0's auc: 0.75514\n"
     ]
    }
   ],
   "source": [
    "d_train = lgb.Dataset(X_train, y_train)\n",
    "d_valid = lgb.Dataset(X_valid, y_valid, reference=d_train)\n",
    "bst = lgb.train(params, d_train, num_boost_round, valid_sets=d_valid, \n",
    "                categorical_feature=cat_cols,\n",
    "                verbose_eval=1,\n",
    "                early_stopping_rounds=10)"
   ]
  },
  {
   "cell_type": "code",
   "execution_count": 53,
   "metadata": {},
   "outputs": [
    {
     "data": {
      "text/plain": [
       "[('cls', 138),\n",
       " ('next_cls', 117),\n",
       " ('end_sep_prob', 105),\n",
       " ('num_words', 97),\n",
       " ('mean_prob', 92),\n",
       " ('start_sep_prob', 88),\n",
       " ('para_len_ratio', 76),\n",
       " ('pre_cls', 66),\n",
       " ('para_len', 58),\n",
       " ('num_classes', 55),\n",
       " ('end_ratio', 52),\n",
       " ('start_ratio', 45),\n",
       " ('class_ratio', 45),\n",
       " ('start', 34),\n",
       " ('end', 32)]"
      ]
     },
     "execution_count": 53,
     "metadata": {},
     "output_type": "execute_result"
    }
   ],
   "source": [
    "l = list(zip(bst.feature_name(), bst.feature_importance()))\n",
    "l.sort(key=lambda x: -x[1])\n",
    "l"
   ]
  },
  {
   "cell_type": "code",
   "execution_count": 54,
   "metadata": {},
   "outputs": [],
   "source": [
    "def greedy_decodes(df, cols, para_classifier):\n",
    "  proba_thresh = {\n",
    "    \"Lead\": 0.99,\n",
    "    \"Position\": 0.55,\n",
    "    \"Evidence\": 0.7,\n",
    "    \"Claim\": 0.55,\n",
    "    \"Concluding Statement\": 0.99,\n",
    "    \"Counterclaim\": 0.5,\n",
    "    \"Rebuttal\": 0.5,\n",
    "    \"Nothing\": 0.1,\n",
    "  }\n",
    "\n",
    "  df['pred'] = para_classifier.predict(df[cols])\n",
    "  ids = set(df.id)\n",
    "  ids_list, types_list, preds_list = [], [], []\n",
    "  for id in tqdm(ids):\n",
    "    d = df[df.id == id]\n",
    "    d = d.sort_values(['pred'], ascending=[False])\n",
    "    num_words = d.num_words.values[0]\n",
    "    used = np.zeros(num_words)\n",
    "    for row in d.itertuples():\n",
    "      start, end = row.start, row.end\n",
    "      cls = row.cls\n",
    "      if used[start: end].sum() == 0:\n",
    "        # used[start: end] = 1\n",
    "        # if cls > 0:\n",
    "        if row.mean_prob > proba_thresh[id2dis[cls]]:\n",
    "          used[start: end] = 1\n",
    "          if cls > 0:\n",
    "            ids_list.append(id)\n",
    "            types_list.append(id2dis[cls])\n",
    "            preds_list.append(' '.join([str(x) for x in range(start, end)]))\n",
    "      if used.sum() == num_words:\n",
    "        break\n",
    "          \n",
    "  df = pd.DataFrame({\n",
    "    'id': ids_list,\n",
    "    'class': types_list,\n",
    "    'predictionstring': preds_list,\n",
    "  })\n",
    "  return df"
   ]
  },
  {
   "cell_type": "code",
   "execution_count": 55,
   "metadata": {},
   "outputs": [
    {
     "data": {
      "application/vnd.jupyter.widget-view+json": {
       "model_id": "5ef35e9a863e40838f6c6ecf68fc308b",
       "version_major": 2,
       "version_minor": 0
      },
      "text/plain": [
       "  0%|          | 0/3136 [00:00<?, ?it/s]"
      ]
     },
     "metadata": {},
     "output_type": "display_data"
    }
   ],
   "source": [
    "df_pred = greedy_decodes(dvalid, cols, bst)"
   ]
  },
  {
   "cell_type": "code",
   "execution_count": 56,
   "metadata": {},
   "outputs": [
    {
     "data": {
      "text/plain": [
       "0        0.65\n",
       "1        0.36\n",
       "2        0.29\n",
       "3        0.29\n",
       "4        0.29\n",
       "         ... \n",
       "306013   0.47\n",
       "306014   0.48\n",
       "306015   0.47\n",
       "306016   0.47\n",
       "306017   0.48\n",
       "Name: pred, Length: 306018, dtype: float64"
      ]
     },
     "execution_count": 56,
     "metadata": {},
     "output_type": "execute_result"
    }
   ],
   "source": [
    "dvalid['pred']"
   ]
  },
  {
   "cell_type": "code",
   "execution_count": 57,
   "metadata": {},
   "outputs": [],
   "source": [
    "df_gt = pd.read_csv('../working/offline/44/valid_gt.csv')"
   ]
  },
  {
   "cell_type": "code",
   "execution_count": 58,
   "metadata": {},
   "outputs": [
    {
     "data": {
      "application/vnd.jupyter.widget-view+json": {
       "model_id": "cd4b9681ee2e420a9764475d6066337d",
       "version_major": 2,
       "version_minor": 0
      },
      "text/plain": [
       "calc_f1:   0%|          | 0/7 [00:00<?, ?it/s]"
      ]
     },
     "metadata": {},
     "output_type": "display_data"
    },
    {
     "name": "stderr",
     "output_type": "stream",
     "text": [
      "ic| <ipython-input-58-cb78f7a414c1>:2 in <module>\n",
      "    res['f1/Overall']: 0.7026877556982097\n",
      "ic| <ipython-input-58-cb78f7a414c1>:3 in <module>\n",
      "    res: {'acc/Claim': 0.7124468451902081,\n",
      "          'acc/Concluding Statement': 0.8628015844436442,\n",
      "          'acc/Counterclaim': 0.630665380906461,\n",
      "          'acc/Evidence': 0.7744429286039108,\n",
      "          'acc/Lead': 0.8307528029898559,\n",
      "          'acc/Position': 0.7401282483968951,\n",
      "          'acc/Rebuttal': 0.515625,\n",
      "          'cm/Claim': array([[6199, 2502],\n",
      "                [3953, 4748]]),\n",
      "          'cm/Concluding Statement': array([[2396,  381],\n",
      "                [ 329, 2448]]),\n",
      "          'cm/Counterclaim': array([[654, 383],\n",
      "                [526, 511]]),\n",
      "          'cm/Evidence': array([[6812, 1984],\n",
      "                [2406, 6390]]),\n",
      "          'cm/Lead': array([[1556,  317],\n",
      "                [ 300, 1573]]),\n",
      "          'cm/Position': array([[2193,  770],\n",
      "                [ 916, 2047]]),\n",
      "          'cm/Rebuttal': array([[396, 372],\n",
      "                [462, 306]]),\n",
      "          'f1/Claim': 0.6576141728106932,\n",
      "          'f1/Concluding Statement': 0.8709560159941839,\n",
      "          'f1/Counterclaim': 0.5899864682002707,\n",
      "          'f1/Evidence': 0.7563006550460752,\n",
      "          'f1/Lead': 0.8345400911772594,\n",
      "          'f1/Overall': 0.7026877556982097,\n",
      "          'f1/Position': 0.7223320158102767,\n",
      "          'f1/Rebuttal': 0.4870848708487085,\n",
      "          'recall/Claim': 0.610618597320725,\n",
      "          'recall/Concluding Statement': 0.8792660550458715,\n",
      "          'recall/Counterclaim': 0.5542372881355933,\n",
      "          'recall/Evidence': 0.738988934692992,\n",
      "          'recall/Lead': 0.8383620689655172,\n",
      "          'recall/Position': 0.7053715020907044,\n",
      "          'recall/Rebuttal': 0.46153846153846156}\n"
     ]
    },
    {
     "data": {
      "text/plain": [
       "{'f1/Overall': 0.7026877556982097,\n",
       " 'f1/Claim': 0.6576141728106932,\n",
       " 'acc/Claim': 0.7124468451902081,\n",
       " 'recall/Claim': 0.610618597320725,\n",
       " 'cm/Claim': array([[6199, 2502],\n",
       "        [3953, 4748]]),\n",
       " 'f1/Evidence': 0.7563006550460752,\n",
       " 'acc/Evidence': 0.7744429286039108,\n",
       " 'recall/Evidence': 0.738988934692992,\n",
       " 'cm/Evidence': array([[6812, 1984],\n",
       "        [2406, 6390]]),\n",
       " 'f1/Position': 0.7223320158102767,\n",
       " 'acc/Position': 0.7401282483968951,\n",
       " 'recall/Position': 0.7053715020907044,\n",
       " 'cm/Position': array([[2193,  770],\n",
       "        [ 916, 2047]]),\n",
       " 'f1/Concluding Statement': 0.8709560159941839,\n",
       " 'acc/Concluding Statement': 0.8628015844436442,\n",
       " 'recall/Concluding Statement': 0.8792660550458715,\n",
       " 'cm/Concluding Statement': array([[2396,  381],\n",
       "        [ 329, 2448]]),\n",
       " 'f1/Lead': 0.8345400911772594,\n",
       " 'acc/Lead': 0.8307528029898559,\n",
       " 'recall/Lead': 0.8383620689655172,\n",
       " 'cm/Lead': array([[1556,  317],\n",
       "        [ 300, 1573]]),\n",
       " 'f1/Counterclaim': 0.5899864682002707,\n",
       " 'acc/Counterclaim': 0.630665380906461,\n",
       " 'recall/Counterclaim': 0.5542372881355933,\n",
       " 'cm/Counterclaim': array([[654, 383],\n",
       "        [526, 511]]),\n",
       " 'f1/Rebuttal': 0.4870848708487085,\n",
       " 'acc/Rebuttal': 0.515625,\n",
       " 'recall/Rebuttal': 0.46153846153846156,\n",
       " 'cm/Rebuttal': array([[396, 372],\n",
       "        [462, 306]])}"
      ]
     },
     "execution_count": 58,
     "metadata": {},
     "output_type": "execute_result"
    }
   ],
   "source": [
    "res = calc_metrics(df_gt[df_gt.id.isin(set(df_pred.id))], df_pred)\n",
    "ic(res['f1/Overall'])\n",
    "ic(res)"
   ]
  },
  {
   "cell_type": "code",
   "execution_count": 59,
   "metadata": {},
   "outputs": [],
   "source": [
    "# df_pred2[df_pred2.id=='4125C404E34B']"
   ]
  },
  {
   "cell_type": "code",
   "execution_count": null,
   "metadata": {},
   "outputs": [],
   "source": [
    "# dvalid[dvalid.id=='4125C404E34B'][['id', 'pred', 'match', 'score', 'start', 'end', 'cls', 'mean_prob', 'start_sep_prob', 'end_sep_prob']]"
   ]
  },
  {
   "cell_type": "code",
   "execution_count": 30,
   "metadata": {},
   "outputs": [],
   "source": [
    "# gts['4125C404E34B']"
   ]
  },
  {
   "cell_type": "code",
   "execution_count": 31,
   "metadata": {},
   "outputs": [],
   "source": [
    "# ALL_CLASSES"
   ]
  },
  {
   "cell_type": "code",
   "execution_count": 32,
   "metadata": {},
   "outputs": [],
   "source": [
    "# df_pred2 = df_pred2[df_pred2.id.isin(set(df_pred.id))]"
   ]
  },
  {
   "cell_type": "code",
   "execution_count": 33,
   "metadata": {},
   "outputs": [],
   "source": [
    "# df_pred_fold1 = greedy_decodes(ds[1], cols, bst)"
   ]
  },
  {
   "cell_type": "code",
   "execution_count": 34,
   "metadata": {},
   "outputs": [],
   "source": [
    "# res = calc_metrics(df_gt[df_gt.id.isin(set(df_pred_fold1.id))], df_pred_fold1)\n",
    "# ic(res)"
   ]
  },
  {
   "cell_type": "code",
   "execution_count": 35,
   "metadata": {},
   "outputs": [],
   "source": [
    "valid_ids = set(dvalid.id)"
   ]
  },
  {
   "cell_type": "code",
   "execution_count": 36,
   "metadata": {},
   "outputs": [
    {
     "data": {
      "text/plain": [
       "3136"
      ]
     },
     "execution_count": 36,
     "metadata": {},
     "output_type": "execute_result"
    }
   ],
   "source": [
    "len(valid_ids)"
   ]
  },
  {
   "cell_type": "code",
   "execution_count": 37,
   "metadata": {},
   "outputs": [],
   "source": [
    "from src.config import proba_thresh"
   ]
  },
  {
   "cell_type": "code",
   "execution_count": 38,
   "metadata": {},
   "outputs": [],
   "source": [
    "def get_pred_bystart(x, post_adjust=True, pred_info=None):\n",
    "  MIN_LEN = FLAGS.para_min_len  #2\n",
    "  MIN_LEN2 = FLAGS.para_min_len2 #6\n",
    "  NUM_CLASSES = len(id2dis)\n",
    "  pred = x['preds']\n",
    "  total = len(pred)\n",
    "  # by prob not logit\n",
    "  probs = x['probs'] \n",
    "  # probs = x['pred']\n",
    "  start_prob = x['start_probs'] if 'start_probs' in x else None\n",
    "  # ic((start_prob[:,1] > start_prob[:,0]).astype(int).sum())\n",
    "  pre_type = None\n",
    "  # predictionstring list\n",
    "  preds_list = []\n",
    "  # store each pred word_id for one precitionstring\n",
    "  preds = [] \n",
    "  pre_scores = np.zeros_like(probs[0])\n",
    "  \n",
    "  types = []\n",
    "    \n",
    "  pre_probs = None\n",
    "  for i in range(total):    \n",
    "    if pre_scores.shape[-1] > NUM_CLASSES:\n",
    "      pre_type = id2dis[int(np.argmax(pre_scores) / 2)]\n",
    "    else:\n",
    "      pre_type = id2dis[np.argmax(pre_scores)]\n",
    "    \n",
    "    if pre_scores.shape[-1] > NUM_CLASSES:\n",
    "      now_type = id2dis[int(np.argmax(probs[i]) / 2)]\n",
    "    else:\n",
    "      now_type = id2dis[np.argmax(probs[i])]\n",
    "    \n",
    "    is_sep = False\n",
    "    if start_prob[i].sum() == 0:\n",
    "      is_sep = True\n",
    "      \n",
    "    if start_prob is None:\n",
    "      is_sep = pred[i] % 2 == 1\n",
    "    else:\n",
    "      is_sep = start_prob[i][1] > 0.5\n",
    "      \n",
    "      if post_adjust:\n",
    "        if i > 0:\n",
    "          # 注意目前最高线上版本依然是按照第一个model取pred而不是ensemble的结果取pred信息，另外有adjacent rule待验证\n",
    "          if pred[i] != pred[i - 1]:\n",
    "            if start_prob[i][1] > 0.3 and (pre_type in  ['Rebuttal', 'Counterclaim']):\n",
    "                is_sep = True\n",
    "            # 这个目前有利于shortformer 不利于longformer longformer的start预测更准确\n",
    "            # 之前小模型集成这个是707 708有1k收益 但是目前看小模型自己集成之后似乎也可以去掉\n",
    "            if FLAGS.adjacent_rule:\n",
    "              if pre_probs[pred[i - 1]] > 0.5 and probs[i][pred[i]] > 0.5 and len(preds) >= min_thresh[id2dis[pred[i - 1]]]:\n",
    "                is_sep = True\n",
    "          else:\n",
    "            if pre_type == 'Evidence':\n",
    "              if start_prob[i][1] < 0.55:\n",
    "                is_sep = False\n",
    "                \n",
    "          if start_prob[i][1] > 0.1:\n",
    "            start = i - len(preds)\n",
    "            end = i\n",
    "            try:\n",
    "              pred_value = pred_info[(pred_info.start==start) & (pred_info.end==end) & (pred_info.cls==pre_type)]['pred'].values[0]\n",
    "            except Exception:\n",
    "              pred_value = 0\n",
    "            # print(start_prob[i][1], pred_value)\n",
    "            if pred_value > 0.8:\n",
    "              is_sep = True\n",
    "              \n",
    "      # else:\n",
    "      #   if pred[i] != pred[i - 1]:\n",
    "      #     is_sep = True\n",
    "            \n",
    "    if is_sep:\n",
    "      if preds:  \n",
    "        if pre_type != 'Nothing':\n",
    "          if post_adjust:\n",
    "            if len(preds) < MIN_LEN:\n",
    "              # 低置信度的干脆放弃召回 更安全 pass not continue\n",
    "              pass\n",
    "            else:\n",
    "              if pre_probs.max() > proba_thresh[pre_type]:\n",
    "                preds_list.append(' '.join(preds))\n",
    "                types.append(pre_type)\n",
    "          else:\n",
    "            preds_list.append(' '.join(preds))\n",
    "            types.append(pre_type)\n",
    "            \n",
    "        preds = []\n",
    "        pre_scores = np.zeros_like(probs[0])\n",
    "              \n",
    "    pre_scores += probs[i] \n",
    "    pre_probs = gezi.softmax(pre_scores)\n",
    "    preds.append(str(i))\n",
    "    \n",
    "  if preds:\n",
    "    if pre_scores.shape[-1] > NUM_CLASSES:\n",
    "      pre_type = id2dis[int(np.argmax(pre_scores) / 2)]\n",
    "    else:\n",
    "      pre_type = id2dis[np.argmax(pre_scores)]\n",
    "      \n",
    "    # 结尾应该更长\n",
    "    if pre_type != 'Nothing':\n",
    "      if post_adjust:\n",
    "        if len(preds) >= MIN_LEN2:\n",
    "          if pre_probs.max() > proba_thresh[pre_type]:\n",
    "            preds_list.append(' '.join(preds))\n",
    "            types.append(pre_type)\n",
    "      else:\n",
    "        preds_list.append(' '.join(preds))\n",
    "        types.append(pre_type)\n",
    "  return types, preds_list\n"
   ]
  },
  {
   "cell_type": "code",
   "execution_count": 39,
   "metadata": {},
   "outputs": [],
   "source": [
    "def get_preds_(x, post_adjust=True, selected_ids=None, fold=None, folds=5):  \n",
    "  # ic(post_adjust)\n",
    "  pred_fn = None\n",
    "  if FLAGS.token2word:\n",
    "    if FLAGS.pred_method == 'end':\n",
    "      pred_fn = get_pred_byend\n",
    "    elif FLAGS.pred_method == 'se':\n",
    "      pred_fn = get_pred_byse\n",
    "    elif FLAGS.pred_method == 'start':\n",
    "      pred_fn = get_pred_bystart\n",
    "    else:\n",
    "      raise ValueError(FLAGS.pred_method)\n",
    "  else:\n",
    "    if FLAGS.pred_method == 'end':\n",
    "      pred_fn = get_pred_byend2\n",
    "    elif FLAGS.pred_method == 'se':\n",
    "      pred_fn = get_pred_byse2\n",
    "    elif FLAGS.pred_method == 'start':\n",
    "      pred_fn = get_pred_bystart2\n",
    "    else:\n",
    "      raise ValueError(FLAGS.pred_method)\n",
    "  # ic(pred_fn)\n",
    "\n",
    "  total = len(x['id'])\n",
    "  # with gezi.Timer('get_preds'):\n",
    "  # ic(FLAGS.openmp)\n",
    "  ids_list, types_list, preds_list = [], [], []\n",
    "  for i in tqdm(range(total), desc='get_preds', leave=False):\n",
    "    id = x['id'][i]\n",
    "    if selected_ids is not None and id not in selected_ids:\n",
    "      continue\n",
    "    if fold is not None:\n",
    "      if i % folds != fold:\n",
    "        continue\n",
    "    x_ = {}\n",
    "    for key in x: \n",
    "      x_[key] = x[key][i]\n",
    "    types, preds = pred_fn(x_, post_adjust=post_adjust, pred_info=dvalid[dvalid.id==id])\n",
    "    ids_list.extend([id] * len(types))\n",
    "    types_list.extend(types)\n",
    "    preds_list.extend(preds)\n",
    " \n",
    "  m = {\n",
    "    'id': ids_list,\n",
    "    'class': types_list,\n",
    "    'predictionstring': preds_list\n",
    "  }\n",
    "\n",
    "  df = pd.DataFrame(m)\n",
    "    \n",
    "  return df\n",
    "\n",
    "def get_preds(x, post_adjust=True, selected_ids=None, folds=5):  \n",
    "  dfs = Manager().dict()\n",
    "  with pymp.Parallel(folds) as p:\n",
    "    for i in p.range(folds):\n",
    "      dfs[i] = get_preds_(x, post_adjust, fold=i, folds=folds)\n",
    "  return pd.concat(dfs.values())"
   ]
  },
  {
   "cell_type": "code",
   "execution_count": 40,
   "metadata": {},
   "outputs": [],
   "source": [
    "gezi.init_flags()"
   ]
  },
  {
   "cell_type": "code",
   "execution_count": 41,
   "metadata": {},
   "outputs": [
    {
     "data": {
      "application/vnd.jupyter.widget-view+json": {
       "model_id": "356fc2dd6f8e48628fc2fed33e64c782",
       "version_major": 2,
       "version_minor": 0
      },
      "text/plain": [
       "get_preds:   0%|          | 0/15594 [00:00<?, ?it/s]"
      ]
     },
     "metadata": {},
     "output_type": "display_data"
    }
   ],
   "source": [
    "df_pred2 = get_preds(info, selected_ids=valid_ids)"
   ]
  },
  {
   "cell_type": "code",
   "execution_count": 42,
   "metadata": {},
   "outputs": [
    {
     "data": {
      "text/plain": [
       "141294"
      ]
     },
     "execution_count": 42,
     "metadata": {},
     "output_type": "execute_result"
    }
   ],
   "source": [
    "len(df_pred2)"
   ]
  },
  {
   "cell_type": "code",
   "execution_count": 43,
   "metadata": {},
   "outputs": [
    {
     "data": {
      "text/plain": [
       "15592"
      ]
     },
     "execution_count": 43,
     "metadata": {},
     "output_type": "execute_result"
    }
   ],
   "source": [
    "len(set(df_pred2.id))"
   ]
  },
  {
   "cell_type": "code",
   "execution_count": 44,
   "metadata": {},
   "outputs": [
    {
     "data": {
      "application/vnd.jupyter.widget-view+json": {
       "model_id": "24994ec153fc4212990b418b793cd3b5",
       "version_major": 2,
       "version_minor": 0
      },
      "text/plain": [
       "calc_f1:   0%|          | 0/7 [00:00<?, ?it/s]"
      ]
     },
     "metadata": {},
     "output_type": "display_data"
    },
    {
     "data": {
      "text/plain": [
       "{'f1/Overall': 0.7112045216958619,\n",
       " 'f1/Claim': 0.6738111185532485,\n",
       " 'acc/Claim': 0.7063843577832991,\n",
       " 'recall/Claim': 0.6441095350669819,\n",
       " 'cm/Claim': array([[6539, 2718],\n",
       "        [3613, 5644]]),\n",
       " 'f1/Evidence': 0.7701508620689655,\n",
       " 'acc/Evidence': 0.765121507333262,\n",
       " 'recall/Evidence': 0.7752467729688687,\n",
       " 'cm/Evidence': array([[7147, 2194],\n",
       "        [2072, 7269]]),\n",
       " 'f1/Position': 0.7319437712069802,\n",
       " 'acc/Position': 0.7353896103896104,\n",
       " 'recall/Position': 0.7285300739787713,\n",
       " 'cm/Position': array([[2265,  815],\n",
       "        [ 844, 2236]]),\n",
       " 'f1/Concluding Statement': 0.8777757717999639,\n",
       " 'acc/Concluding Statement': 0.8638948116560057,\n",
       " 'recall/Concluding Statement': 0.8921100917431193,\n",
       " 'cm/Concluding Statement': array([[2431,  383],\n",
       "        [ 294, 2520]]),\n",
       " 'f1/Lead': 0.8333779085316929,\n",
       " 'acc/Lead': 0.8274030801911842,\n",
       " 'recall/Lead': 0.8394396551724138,\n",
       " 'cm/Lead': array([[1558,  325],\n",
       "        [ 298, 1585]]),\n",
       " 'f1/Counterclaim': 0.5938053097345133,\n",
       " 'acc/Counterclaim': 0.6212962962962963,\n",
       " 'recall/Counterclaim': 0.5686440677966101,\n",
       " 'cm/Counterclaim': array([[671, 409],\n",
       "        [509, 571]]),\n",
       " 'f1/Rebuttal': 0.4975669099756691,\n",
       " 'acc/Rebuttal': 0.5203562340966921,\n",
       " 'recall/Rebuttal': 0.4766899766899767,\n",
       " 'cm/Rebuttal': array([[409, 377],\n",
       "        [449, 337]])}"
      ]
     },
     "execution_count": 44,
     "metadata": {},
     "output_type": "execute_result"
    }
   ],
   "source": [
    "res = calc_metrics(df_gt[df_gt.id.isin(valid_ids)], df_pred2[df_pred2.id.isin(valid_ids)])\n",
    "res"
   ]
  },
  {
   "cell_type": "code",
   "execution_count": 45,
   "metadata": {},
   "outputs": [
    {
     "data": {
      "application/vnd.jupyter.widget-view+json": {
       "model_id": "a377b1eddabd4bd78be99315609c62d0",
       "version_major": 2,
       "version_minor": 0
      },
      "text/plain": [
       "link_evidence:   0%|          | 0/3136 [00:00<?, ?it/s]"
      ]
     },
     "metadata": {},
     "output_type": "display_data"
    },
    {
     "data": {
      "application/vnd.jupyter.widget-view+json": {
       "model_id": "7ae66cd27ebc4355a999c36304dd775b",
       "version_major": 2,
       "version_minor": 0
      },
      "text/plain": [
       "calc_f1:   0%|          | 0/7 [00:00<?, ?it/s]"
      ]
     },
     "metadata": {},
     "output_type": "display_data"
    },
    {
     "data": {
      "text/plain": [
       "{'f1/Overall': 0.7118046429163432,\n",
       " 'f1/Claim': 0.6738111185532485,\n",
       " 'acc/Claim': 0.7063843577832991,\n",
       " 'recall/Claim': 0.6441095350669819,\n",
       " 'cm/Claim': array([[6539, 2718],\n",
       "        [3613, 5644]]),\n",
       " 'f1/Evidence': 0.7743517106123339,\n",
       " 'acc/Evidence': 0.7778264200503447,\n",
       " 'recall/Evidence': 0.7709079075821673,\n",
       " 'cm/Evidence': array([[7107, 2030],\n",
       "        [2112, 7025]]),\n",
       " 'f1/Position': 0.7319437712069802,\n",
       " 'acc/Position': 0.7353896103896104,\n",
       " 'recall/Position': 0.7285300739787713,\n",
       " 'cm/Position': array([[2265,  815],\n",
       "        [ 844, 2236]]),\n",
       " 'f1/Concluding Statement': 0.8777757717999639,\n",
       " 'acc/Concluding Statement': 0.8638948116560057,\n",
       " 'recall/Concluding Statement': 0.8921100917431193,\n",
       " 'cm/Concluding Statement': array([[2431,  383],\n",
       "        [ 294, 2520]]),\n",
       " 'f1/Lead': 0.8333779085316929,\n",
       " 'acc/Lead': 0.8274030801911842,\n",
       " 'recall/Lead': 0.8394396551724138,\n",
       " 'cm/Lead': array([[1558,  325],\n",
       "        [ 298, 1585]]),\n",
       " 'f1/Counterclaim': 0.5938053097345133,\n",
       " 'acc/Counterclaim': 0.6212962962962963,\n",
       " 'recall/Counterclaim': 0.5686440677966101,\n",
       " 'cm/Counterclaim': array([[671, 409],\n",
       "        [509, 571]]),\n",
       " 'f1/Rebuttal': 0.4975669099756691,\n",
       " 'acc/Rebuttal': 0.5203562340966921,\n",
       " 'recall/Rebuttal': 0.4766899766899767,\n",
       " 'cm/Rebuttal': array([[409, 377],\n",
       "        [449, 337]])}"
      ]
     },
     "execution_count": 45,
     "metadata": {},
     "output_type": "execute_result"
    }
   ],
   "source": [
    "res = calc_metrics(df_gt[df_gt.id.isin(valid_ids)], link_evidence(df_pred2[df_pred2.id.isin(valid_ids)]))\n",
    "res"
   ]
  },
  {
   "cell_type": "code",
   "execution_count": 46,
   "metadata": {},
   "outputs": [],
   "source": [
    "df_valid2 = pd.read_feather('../working/offline/44/1/base.bart.start/valid_gt.fea')"
   ]
  },
  {
   "cell_type": "code",
   "execution_count": 47,
   "metadata": {},
   "outputs": [
    {
     "data": {
      "text/plain": [
       "3050"
      ]
     },
     "execution_count": 47,
     "metadata": {},
     "output_type": "execute_result"
    }
   ],
   "source": [
    "len(set(df_valid2.id))"
   ]
  },
  {
   "cell_type": "code",
   "execution_count": 48,
   "metadata": {},
   "outputs": [
    {
     "data": {
      "application/vnd.jupyter.widget-view+json": {
       "model_id": "f03eaeb652824bf69f8c482394ed54f1",
       "version_major": 2,
       "version_minor": 0
      },
      "text/plain": [
       "link_evidence:   0%|          | 0/3136 [00:00<?, ?it/s]"
      ]
     },
     "metadata": {},
     "output_type": "display_data"
    },
    {
     "data": {
      "application/vnd.jupyter.widget-view+json": {
       "model_id": "aae6b6030d3f414990ddd28a9cceb9fa",
       "version_major": 2,
       "version_minor": 0
      },
      "text/plain": [
       "calc_f1:   0%|          | 0/7 [00:00<?, ?it/s]"
      ]
     },
     "metadata": {},
     "output_type": "display_data"
    },
    {
     "data": {
      "text/plain": [
       "{'f1/Overall': 0.0,\n",
       " 'f1/Claim': 0.0,\n",
       " 'acc/Claim': 0.0,\n",
       " 'recall/Claim': 0.0,\n",
       " 'cm/Claim': array([[   0, 9257],\n",
       "        [9814, -557]]),\n",
       " 'f1/Evidence': 0.0,\n",
       " 'acc/Evidence': 0.0,\n",
       " 'recall/Evidence': 0.0,\n",
       " 'cm/Evidence': array([[   0, 9135],\n",
       "        [8981,  154]]),\n",
       " 'f1/Position': 0.0,\n",
       " 'acc/Position': 0.0,\n",
       " 'recall/Position': 0.0,\n",
       " 'cm/Position': array([[   0, 3080],\n",
       "        [3018,   62]]),\n",
       " 'f1/Concluding Statement': 0.0,\n",
       " 'acc/Concluding Statement': 0.0,\n",
       " 'recall/Concluding Statement': 0.0,\n",
       " 'cm/Concluding Statement': array([[   0, 2814],\n",
       "        [2633,  181]]),\n",
       " 'f1/Lead': 0.0,\n",
       " 'acc/Lead': 0.0,\n",
       " 'recall/Lead': 0.0,\n",
       " 'cm/Lead': array([[   0, 1883],\n",
       "        [1823,   60]]),\n",
       " 'f1/Counterclaim': 0.0,\n",
       " 'acc/Counterclaim': 0.0,\n",
       " 'recall/Counterclaim': 0.0,\n",
       " 'cm/Counterclaim': array([[   0, 1080],\n",
       "        [1161,  -81]]),\n",
       " 'f1/Rebuttal': 0.0,\n",
       " 'acc/Rebuttal': 0.0,\n",
       " 'recall/Rebuttal': 0.0,\n",
       " 'cm/Rebuttal': array([[  0, 786],\n",
       "        [877, -91]])}"
      ]
     },
     "execution_count": 48,
     "metadata": {},
     "output_type": "execute_result"
    }
   ],
   "source": [
    "res = calc_metrics(df_valid2, link_evidence(df_pred2[df_pred2.id.isin(valid_ids)]))\n",
    "res"
   ]
  },
  {
   "cell_type": "code",
   "execution_count": null,
   "metadata": {},
   "outputs": [],
   "source": []
  }
 ],
 "metadata": {
  "interpreter": {
   "hash": "2e1511501be64c09e2f1eb58c3220ebc9ce84b491d308a480caed250bbb4af51"
  },
  "kernelspec": {
   "display_name": "Python 3.6.13 64-bit (conda)",
   "language": "python",
   "name": "python3"
  },
  "language_info": {
   "codemirror_mode": {
    "name": "ipython",
    "version": 3
   },
   "file_extension": ".py",
   "mimetype": "text/x-python",
   "name": "python",
   "nbconvert_exporter": "python",
   "pygments_lexer": "ipython3",
   "version": "3.6.13"
  },
  "orig_nbformat": 4
 },
 "nbformat": 4,
 "nbformat_minor": 2
}
