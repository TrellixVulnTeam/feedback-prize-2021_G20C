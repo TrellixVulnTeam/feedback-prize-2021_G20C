{
 "cells": [
  {
   "cell_type": "code",
   "execution_count": 1,
   "metadata": {},
   "outputs": [],
   "source": [
    "import numpy as np\n",
    "import pandas as pd\n",
    "import random\n",
    "import matplotlib.pyplot as plt\n",
    "import plotly.express as px\n",
    "import glob\n",
    "import spacy\n",
    "import sys\n",
    "sys.path.append('../../../../utils')\n",
    "sys.path.append('..')\n",
    "import gezi\n",
    "from gezi import tqdm\n",
    "from src.eval import calc_f1\n",
    "pd.set_option('display.float_format', lambda x: '%.0f' % x)"
   ]
  },
  {
   "cell_type": "code",
   "execution_count": 2,
   "metadata": {},
   "outputs": [],
   "source": [
    "import tensorflow as tf\n",
    "from absl import flags\n",
    "FLAGS = flags.FLAGS\n",
    "from transformers import AutoTokenizer, AutoModel\n",
    "from src import config\n",
    "from src.model import Model\n",
    "from src.dataset import Dataset\n",
    "from src.util import get_preds\n",
    "import src.eval as ev\n",
    "import melt as mt\n",
    "import husky"
   ]
  },
  {
   "cell_type": "code",
   "execution_count": 3,
   "metadata": {},
   "outputs": [],
   "source": [
    "import torch\n",
    "from torch import nn\n",
    "from torch.nn import functional as F\n",
    "import lele"
   ]
  },
  {
   "cell_type": "code",
   "execution_count": 4,
   "metadata": {},
   "outputs": [],
   "source": [
    "class Model(nn.Module):\n",
    "  \n",
    "  def __init__(self, **kwargs):\n",
    "    super().__init__(**kwargs)  \n",
    "    self.backbone = AutoModel.from_pretrained(FLAGS.backbone)\n",
    "    \n",
    "    dim = self.backbone.config.hidden_size\n",
    "    self.dense = nn.Linear(dim, FLAGS.num_classes)\n",
    "    lele.keras_init(self, True, True)\n",
    "    \n",
    "    self.eval_keys = ['id', 'label', 'mask', 'word_ids']\n",
    "    self.str_keys = ['id']\n",
    "    self.out_keys = []\n",
    "\n",
    "  def forward(self, inputs):\n",
    "    x = self.backbone(input_ids=inputs['input_ids'], attention_mask=inputs['attention_mask'])[0]\n",
    "    x = self.dense(x)\n",
    "    return x\n",
    "  \n",
    "  def get_loss_fn(self):\n",
    "    def calc_loss(y_, y):\n",
    "      y_ = y_.view(-1, FLAGS.num_classes)\n",
    "      y = y.view(-1)\n",
    "      return nn.CrossEntropyLoss()(y_, y)\n",
    "    return calc_loss\n"
   ]
  },
  {
   "cell_type": "code",
   "execution_count": 5,
   "metadata": {},
   "outputs": [
    {
     "name": "stderr",
     "output_type": "stream",
     "text": [
      "ic| config.py:57 in init_()\n",
      "    FLAGS.backbone: '../input/allenai/longformer-base-4096'\n",
      "ic| config.py:63 in init_()- FLAGS.num_classes: 15\n",
      "ic| config.py:57 in init_()\n",
      "    FLAGS.backbone: '../input/allenai/longformer-base-4096'\n",
      "ic| config.py:63 in init_()- FLAGS.num_classes: 15\n",
      "ic| config.py:72 in init()\n",
      "    FLAGS.valid_files[:2]: ['../input/feedback-prize-2021/tfrecords/train/70.164.tfrec',\n",
      "                            '../input/feedback-prize-2021/tfrecords/train/90.164.tfrec']\n",
      "ic| init.py:200 in init()\n",
      "    tf.__version__: '2.6.2'\n",
      "    torch.__version__: '1.9.0'\n",
      "ic| init.py:334 in init()\n",
      "    FLAGS.model_dir: '../working/offline/0/base.20211229-052906'\n",
      "    FLAGS.log_dir: '../working/offline/0/base.20211229-052906'\n",
      "2021-12-29 05:29:07 0:00:00 batch size is shrink by 4 for each gpu to make total insts per step still 32\n",
      "2021-12-29 05:29:07 0:00:00 fcntl.floc with lock_file /home/huigecheng/.melt.lock (If hang here means other programs calling melt.init have not finished yet)\n",
      "2021-12-29 05:29:07 0:00:00 Tf dataset and Torch model train in Eager mode, distributed: False\n",
      "2021-12-29 05:29:07 0:00:00 log_level: 20 (try --debug to show more or --log_level=(> 20) to show less(no INFO), try --verbose to show train/valid loss intervaly)\n",
      "ic| init.py:1135 in init()\n",
      "    global_batch_size: 32\n",
      "    acc_steps: 1\n",
      "    replica_batch_size: 8\n",
      "    eval_batch_size: 32\n",
      "    num_gpus: 4\n",
      "    gpus: [3, 2, 1, 0]\n",
      "    CUDA_VISIABLE_DEVICES: [3, 2, 1, 0]\n",
      "    work_mode: 'train'\n",
      "    seed: 1024\n",
      "2021-12-29 05:29:48 0:00:41 model: [base.20211229-052906] model_dir: [../working/offline/0/base.20211229-052906]\n",
      "ic| init.py:1420 in init()\n",
      "    gezi.get('precision_policy_name'): 'float32'\n",
      "2021-12-29 05:29:54 0:00:47 wand_url: https://wandb.ai/chenghuige/feedback_prize/runs/2eu37fvm\n"
     ]
    }
   ],
   "source": [
    "FLAGS([''])\n",
    "FLAGS.mts = True\n",
    "FLAGS.torch = True\n",
    "FLAGS.optimizer = 'bert-Adam'\n",
    "config.init_()\n",
    "config.init()\n",
    "mt.init()"
   ]
  },
  {
   "cell_type": "code",
   "execution_count": 6,
   "metadata": {},
   "outputs": [
    {
     "name": "stderr",
     "output_type": "stream",
     "text": [
      "Some weights of the model checkpoint at ../input/allenai/longformer-base-4096 were not used when initializing LongformerModel: ['classifier.weight', 'classifier.bias']\n",
      "- This IS expected if you are initializing LongformerModel from the checkpoint of a model trained on another task or with another architecture (e.g. initializing a BertForSequenceClassification model from a BertForPreTraining model).\n",
      "- This IS NOT expected if you are initializing LongformerModel from the checkpoint of a model that you expect to be exactly identical (initializing a BertForSequenceClassification model from a BertForSequenceClassification model).\n",
      "Some weights of LongformerModel were not initialized from the model checkpoint at ../input/allenai/longformer-base-4096 and are newly initialized: ['longformer.pooler.dense.weight', 'longformer.pooler.dense.bias']\n",
      "You should probably TRAIN this model on a down-stream task to be able to use it for predictions and inference.\n",
      "2021-12-29 05:30:04 0:00:57 Round: 0 mode: None train_input:[None] valid_input:[None] train_dirs:[1] valid_dir: None do_valid: True do_test: True\n",
      "2021-12-29 05:30:04 0:00:57 torch.cuda.device_count 4 FLAGS.num_gpus 4\n",
      "ic| train.py:1084 in train()\n",
      "    len(inputs): 76\n",
      "    inputs[:2]: ['../input/feedback-prize-2021/tfrecords/train/78.164.tfrec',\n",
      "                 '../input/feedback-prize-2021/tfrecords/train/14.164.tfrec']\n"
     ]
    },
    {
     "data": {
      "application/vnd.jupyter.widget-view+json": {
       "model_id": "dbfdfba03aac4d599c01d8cc85a947df",
       "version_major": 2,
       "version_minor": 0
      },
      "text/plain": [
       "get_num_records:   0%|          | 0/76 [00:00<?, ?it/s]"
      ]
     },
     "metadata": {},
     "output_type": "display_data"
    },
    {
     "name": "stderr",
     "output_type": "stream",
     "text": [
      "ic| train.py:1194 in train()\n",
      "    len(valid_inputs): 19\n",
      "    valid_inputs[:2]: ['../input/feedback-prize-2021/tfrecords/train/0.165.tfrec',\n",
      "                       '../input/feedback-prize-2021/tfrecords/train/5.165.tfrec']\n",
      "2021-12-29 05:30:13 0:01:05 num_train_examples: 12475 num_steps_per_epoch: 390\n"
     ]
    },
    {
     "data": {
      "application/vnd.jupyter.widget-view+json": {
       "model_id": "79931bbd470942a498f71ba19f6c2a3a",
       "version_major": 2,
       "version_minor": 0
      },
      "text/plain": [
       "get_num_records:   0%|          | 0/19 [00:00<?, ?it/s]"
      ]
     },
     "metadata": {},
     "output_type": "display_data"
    },
    {
     "name": "stderr",
     "output_type": "stream",
     "text": [
      "2021-12-29 05:30:13 0:01:05 num_valid_examples: 3119 num_valid_steps_per_epoch: 98\n",
      "2021-12-29 05:30:13 0:01:06 ----------------Model dir: ../working/offline/0/base.20211229-052906\n"
     ]
    },
    {
     "data": {
      "application/vnd.jupyter.widget-view+json": {
       "model_id": "0eaee724f6b9407f8b00fe2a9b6ccefe",
       "version_major": 2,
       "version_minor": 0
      },
      "text/plain": [
       "Training:   0%|          | 0/3 [00:00<?, ?it/s]"
      ]
     },
     "metadata": {},
     "output_type": "display_data"
    },
    {
     "data": {
      "application/vnd.jupyter.widget-view+json": {
       "model_id": "9c645af6c4a742d59c326f4263164bf9",
       "version_major": 2,
       "version_minor": 0
      },
      "text/plain": [
       "Epoch: 1/3:   0%|          | 0/390 [00:00<?, ?it/s]"
      ]
     },
     "metadata": {},
     "output_type": "display_data"
    },
    {
     "data": {
      "application/vnd.jupyter.widget-view+json": {
       "model_id": "18093bd021554eb5ab2aa42f92deea08",
       "version_major": 2,
       "version_minor": 0
      },
      "text/plain": [
       "None-None-eval:   0%|          | 0/98 [00:00<?, ?it/s]"
      ]
     },
     "metadata": {},
     "output_type": "display_data"
    },
    {
     "data": {
      "application/vnd.jupyter.widget-view+json": {
       "model_id": "40ae5af8349646b9bb184f81fa4d914d",
       "version_major": 2,
       "version_minor": 0
      },
      "text/plain": [
       "  0%|          | 0/3119 [00:00<?, ?it/s]"
      ]
     },
     "metadata": {},
     "output_type": "display_data"
    },
    {
     "name": "stderr",
     "output_type": "stream",
     "text": [
      "2021-12-29 05:33:57 0:04:50 WARNING: eval fn error\n",
      "2021-12-29 05:33:57 0:04:50 WARNING: Traceback (most recent call last):\n",
      "  File \"/home/huigecheng/.local/lib/python3.6/site-packages/pandas/core/indexes/base.py\", line 2898, in get_loc\n",
      "    return self._engine.get_loc(casted_key)\n",
      "  File \"pandas/_libs/index.pyx\", line 70, in pandas._libs.index.IndexEngine.get_loc\n",
      "  File \"pandas/_libs/index.pyx\", line 101, in pandas._libs.index.IndexEngine.get_loc\n",
      "  File \"pandas/_libs/hashtable_class_helper.pxi\", line 1675, in pandas._libs.hashtable.PyObjectHashTable.get_item\n",
      "  File \"pandas/_libs/hashtable_class_helper.pxi\", line 1683, in pandas._libs.hashtable.PyObjectHashTable.get_item\n",
      "KeyError: 'overlaps'\n",
      "\n",
      "The above exception was the direct cause of the following exception:\n",
      "\n",
      "Traceback (most recent call last):\n",
      "  File \"/home/huigecheng/.local/lib/python3.6/site-packages/pandas/core/generic.py\", line 3576, in _set_item\n",
      "    loc = self._info_axis.get_loc(key)\n",
      "  File \"/home/huigecheng/.local/lib/python3.6/site-packages/pandas/core/indexes/base.py\", line 2900, in get_loc\n",
      "    raise KeyError(key) from err\n",
      "KeyError: 'overlaps'\n",
      "\n",
      "During handling of the above exception, another exception occurred:\n",
      "\n",
      "Traceback (most recent call last):\n",
      "  File \"../../../../utils/melt/eager/train.py\", line 340, in _eval\n",
      "    try:\n",
      "  File \"../src/eval.py\", line 162, in evaluate\n",
      "    df_pred[df_pred['class'] == c])\n",
      "  File \"../src/eval.py\", line 84, in calc_f1\n",
      "    joined['overlaps'] = joined.apply(calc_overlap, axis=1)\n",
      "  File \"/home/huigecheng/.local/lib/python3.6/site-packages/pandas/core/frame.py\", line 3044, in __setitem__\n",
      "    self._set_item(key, value)\n",
      "  File \"/home/huigecheng/.local/lib/python3.6/site-packages/pandas/core/frame.py\", line 3121, in _set_item\n",
      "    NDFrame._set_item(self, key, value)\n",
      "  File \"/home/huigecheng/.local/lib/python3.6/site-packages/pandas/core/generic.py\", line 3579, in _set_item\n",
      "    self._mgr.insert(len(self._info_axis), key, value)\n",
      "  File \"/home/huigecheng/.local/lib/python3.6/site-packages/pandas/core/internals/managers.py\", line 1198, in insert\n",
      "    block = make_block(values=value, ndim=self.ndim, placement=slice(loc, loc + 1))\n",
      "  File \"/home/huigecheng/.local/lib/python3.6/site-packages/pandas/core/internals/blocks.py\", line 2744, in make_block\n",
      "    return klass(values, ndim=ndim, placement=placement)\n",
      "  File \"/home/huigecheng/.local/lib/python3.6/site-packages/pandas/core/internals/blocks.py\", line 2400, in __init__\n",
      "    super().__init__(values, ndim=ndim, placement=placement)\n",
      "  File \"/home/huigecheng/.local/lib/python3.6/site-packages/pandas/core/internals/blocks.py\", line 131, in __init__\n",
      "    f\"Wrong number of items passed {len(self.values)}, \"\n",
      "ValueError: Wrong number of items passed 7, placement implies 1\n",
      "\n",
      "2021-12-29 05:34:54 0:05:46 save checkpint to ../working/offline/0/base.20211229-052906/model.ckpt-None-1-390.tar\n",
      "2021-12-29 05:35:06 0:05:59 Round:0 Train:None Valid:None TotalTime:5.0m\n"
     ]
    },
    {
     "data": {
      "application/vnd.jupyter.widget-view+json": {
       "model_id": "d6ecb5a0db1741c5a5ab23c593295a95",
       "version_major": 2,
       "version_minor": 0
      },
      "text/plain": [
       "Epoch: 2/3:   0%|          | 0/390 [00:00<?, ?it/s]"
      ]
     },
     "metadata": {},
     "output_type": "display_data"
    },
    {
     "data": {
      "application/vnd.jupyter.widget-view+json": {
       "model_id": "d0c6d5a0903442ad90b04321bcc1df3e",
       "version_major": 2,
       "version_minor": 0
      },
      "text/plain": [
       "None-None-eval:   0%|          | 0/98 [00:00<?, ?it/s]"
      ]
     },
     "metadata": {},
     "output_type": "display_data"
    },
    {
     "data": {
      "application/vnd.jupyter.widget-view+json": {
       "model_id": "8bd45b4a7d6b4a558c54a7095b06dc9f",
       "version_major": 2,
       "version_minor": 0
      },
      "text/plain": [
       "  0%|          | 0/3119 [00:00<?, ?it/s]"
      ]
     },
     "metadata": {},
     "output_type": "display_data"
    },
    {
     "name": "stderr",
     "output_type": "stream",
     "text": [
      "2021-12-29 05:37:37 0:08:29 WARNING: eval fn error\n",
      "2021-12-29 05:37:37 0:08:29 WARNING: Traceback (most recent call last):\n",
      "  File \"/home/huigecheng/.local/lib/python3.6/site-packages/pandas/core/indexes/base.py\", line 2898, in get_loc\n",
      "    return self._engine.get_loc(casted_key)\n",
      "  File \"pandas/_libs/index.pyx\", line 70, in pandas._libs.index.IndexEngine.get_loc\n",
      "  File \"pandas/_libs/index.pyx\", line 101, in pandas._libs.index.IndexEngine.get_loc\n",
      "  File \"pandas/_libs/hashtable_class_helper.pxi\", line 1675, in pandas._libs.hashtable.PyObjectHashTable.get_item\n",
      "  File \"pandas/_libs/hashtable_class_helper.pxi\", line 1683, in pandas._libs.hashtable.PyObjectHashTable.get_item\n",
      "KeyError: 'overlaps'\n",
      "\n",
      "The above exception was the direct cause of the following exception:\n",
      "\n",
      "Traceback (most recent call last):\n",
      "  File \"/home/huigecheng/.local/lib/python3.6/site-packages/pandas/core/generic.py\", line 3576, in _set_item\n",
      "    loc = self._info_axis.get_loc(key)\n",
      "  File \"/home/huigecheng/.local/lib/python3.6/site-packages/pandas/core/indexes/base.py\", line 2900, in get_loc\n",
      "    raise KeyError(key) from err\n",
      "KeyError: 'overlaps'\n",
      "\n",
      "During handling of the above exception, another exception occurred:\n",
      "\n",
      "Traceback (most recent call last):\n",
      "  File \"../../../../utils/melt/eager/train.py\", line 340, in _eval\n",
      "    try:\n",
      "  File \"../src/eval.py\", line 162, in evaluate\n",
      "    df_pred[df_pred['class'] == c])\n",
      "  File \"../src/eval.py\", line 84, in calc_f1\n",
      "    joined['overlaps'] = joined.apply(calc_overlap, axis=1)\n",
      "  File \"/home/huigecheng/.local/lib/python3.6/site-packages/pandas/core/frame.py\", line 3044, in __setitem__\n",
      "    self._set_item(key, value)\n",
      "  File \"/home/huigecheng/.local/lib/python3.6/site-packages/pandas/core/frame.py\", line 3121, in _set_item\n",
      "    NDFrame._set_item(self, key, value)\n",
      "  File \"/home/huigecheng/.local/lib/python3.6/site-packages/pandas/core/generic.py\", line 3579, in _set_item\n",
      "    self._mgr.insert(len(self._info_axis), key, value)\n",
      "  File \"/home/huigecheng/.local/lib/python3.6/site-packages/pandas/core/internals/managers.py\", line 1198, in insert\n",
      "    block = make_block(values=value, ndim=self.ndim, placement=slice(loc, loc + 1))\n",
      "  File \"/home/huigecheng/.local/lib/python3.6/site-packages/pandas/core/internals/blocks.py\", line 2744, in make_block\n",
      "    return klass(values, ndim=ndim, placement=placement)\n",
      "  File \"/home/huigecheng/.local/lib/python3.6/site-packages/pandas/core/internals/blocks.py\", line 2400, in __init__\n",
      "    super().__init__(values, ndim=ndim, placement=placement)\n",
      "  File \"/home/huigecheng/.local/lib/python3.6/site-packages/pandas/core/internals/blocks.py\", line 131, in __init__\n",
      "    f\"Wrong number of items passed {len(self.values)}, \"\n",
      "ValueError: Wrong number of items passed 7, placement implies 1\n",
      "\n",
      "2021-12-29 05:39:30 0:10:23 save checkpint to ../working/offline/0/base.20211229-052906/model.ckpt-None-2-780.tar\n",
      "2021-12-29 05:39:43 0:10:36 Round:0 Train:None Valid:None TotalTime:9.7m\n"
     ]
    },
    {
     "data": {
      "application/vnd.jupyter.widget-view+json": {
       "model_id": "c5112c0586764f2bba2036383b9de5c6",
       "version_major": 2,
       "version_minor": 0
      },
      "text/plain": [
       "Epoch: 3/3:   0%|          | 0/390 [00:00<?, ?it/s]"
      ]
     },
     "metadata": {},
     "output_type": "display_data"
    },
    {
     "data": {
      "application/vnd.jupyter.widget-view+json": {
       "model_id": "2408c7f5641e43a6923f5f9133812baf",
       "version_major": 2,
       "version_minor": 0
      },
      "text/plain": [
       "None-None-eval:   0%|          | 0/98 [00:00<?, ?it/s]"
      ]
     },
     "metadata": {},
     "output_type": "display_data"
    }
   ],
   "source": [
    "fit = mt.fit\n",
    "strategy = mt.distributed.get_strategy()\n",
    "with strategy.scope():    \n",
    "  model = Model()\n",
    "\n",
    "  fit(model,  \n",
    "    Dataset=Dataset,\n",
    "    loss_fn=model.get_loss_fn(),\n",
    "    eval_fn=ev.evaluate\n",
    "    ) "
   ]
  },
  {
   "cell_type": "code",
   "execution_count": null,
   "metadata": {},
   "outputs": [],
   "source": []
  }
 ],
 "metadata": {
  "interpreter": {
   "hash": "e0662240fc4b465c4349360a9dfc6a6e2ea04641a433e7a5d8ebbabdd2e0b514"
  },
  "kernelspec": {
   "display_name": "Python 3.6.13 64-bit (conda)",
   "language": "python",
   "name": "python3"
  },
  "language_info": {
   "codemirror_mode": {
    "name": "ipython",
    "version": 3
   },
   "file_extension": ".py",
   "mimetype": "text/x-python",
   "name": "python",
   "nbconvert_exporter": "python",
   "pygments_lexer": "ipython3",
   "version": "3.6.13"
  },
  "orig_nbformat": 4
 },
 "nbformat": 4,
 "nbformat_minor": 2
}
