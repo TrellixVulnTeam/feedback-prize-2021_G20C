{
 "cells": [
  {
   "cell_type": "code",
   "execution_count": 77,
   "metadata": {},
   "outputs": [],
   "source": [
    "import numpy as np\n",
    "import pandas as pd\n",
    "import random\n",
    "import matplotlib.pyplot as plt\n",
    "import plotly.express as px\n",
    "import glob\n",
    "import spacy\n",
    "from collections import defaultdict\n",
    "import sys\n",
    "sys.path.append('../../../../utils')\n",
    "sys.path.append('..')\n",
    "import gezi\n",
    "from gezi import tqdm\n",
    "from src.eval import calc_f1\n",
    "from src.util import *\n",
    "from src import config\n",
    "from src.visualize import *\n",
    "pd.set_option('display.float_format', lambda x: '%.02f' % x)"
   ]
  },
  {
   "cell_type": "code",
   "execution_count": 78,
   "metadata": {},
   "outputs": [],
   "source": [
    "v = '10.0'\n",
    "mn = 'pt.ro.xxx'\n",
    "# mn2 = 'pt.ro.sent_loss.xxx'\n",
    "mn2 = 'pt.ro.cls_sent.xxx'\n",
    "classes = [\n",
    "  'Claim', 'Evidence', 'Position', 'Concluding Statement', 'Lead', 'Counterclaim', 'Rebuttal'\n",
    "]"
   ]
  },
  {
   "cell_type": "code",
   "execution_count": 79,
   "metadata": {},
   "outputs": [],
   "source": [
    "model_dir = f'../working/offline/{v}/{mn}'\n",
    "x = gezi.load(f'{model_dir}/valid.pkl')\n",
    "model_dir2 = f'../working/offline/{v}/{mn2}'\n",
    "x2 = gezi.load(f'{model_dir}/valid.pkl')"
   ]
  },
  {
   "cell_type": "code",
   "execution_count": 80,
   "metadata": {},
   "outputs": [
    {
     "data": {
      "text/plain": [
       "dict_keys(['id', 'label', 'mask', 'word_ids', 'sep', 'label_parts', 'label_type', 'label_mask', 'label_index', 'input_ids', 'attention_mask', 'pred', 'start_logits', 'parts', 'sent_logits'])"
      ]
     },
     "execution_count": 80,
     "metadata": {},
     "output_type": "execute_result"
    }
   ],
   "source": [
    "x.keys()"
   ]
  },
  {
   "cell_type": "code",
   "execution_count": 81,
   "metadata": {},
   "outputs": [],
   "source": [
    "gezi.init_flags()\n",
    "gezi.restore_configs(model_dir)"
   ]
  },
  {
   "cell_type": "code",
   "execution_count": 82,
   "metadata": {},
   "outputs": [
    {
     "data": {
      "application/vnd.jupyter.widget-view+json": {
       "model_id": "0c48ae201f48423b91f917ad929a82c7",
       "version_major": 2,
       "version_minor": 0
      },
      "text/plain": [
       "  0%|          | 0/28809 [00:00<?, ?it/s]"
      ]
     },
     "metadata": {},
     "output_type": "display_data"
    },
    {
     "data": {
      "application/vnd.jupyter.widget-view+json": {
       "model_id": "b3bb6dc389e947bf9c9c0a481a7fb347",
       "version_major": 2,
       "version_minor": 0
      },
      "text/plain": [
       "  0%|          | 0/28808 [00:00<?, ?it/s]"
      ]
     },
     "metadata": {},
     "output_type": "display_data"
    },
    {
     "data": {
      "text/html": [
       "<div>\n",
       "<style scoped>\n",
       "    .dataframe tbody tr th:only-of-type {\n",
       "        vertical-align: middle;\n",
       "    }\n",
       "\n",
       "    .dataframe tbody tr th {\n",
       "        vertical-align: top;\n",
       "    }\n",
       "\n",
       "    .dataframe thead th {\n",
       "        text-align: right;\n",
       "    }\n",
       "</style>\n",
       "<table border=\"1\" class=\"dataframe\">\n",
       "  <thead>\n",
       "    <tr style=\"text-align: right;\">\n",
       "      <th></th>\n",
       "      <th>index</th>\n",
       "      <th>id</th>\n",
       "      <th>discourse_id</th>\n",
       "      <th>discourse_start</th>\n",
       "      <th>discourse_end</th>\n",
       "      <th>discourse_text</th>\n",
       "      <th>discourse_type</th>\n",
       "      <th>discourse_type_num</th>\n",
       "      <th>predictionstring</th>\n",
       "      <th>text</th>\n",
       "      <th>essay_len</th>\n",
       "      <th>essay_words</th>\n",
       "      <th>start</th>\n",
       "      <th>end</th>\n",
       "      <th>discourse_words</th>\n",
       "      <th>gap_before</th>\n",
       "      <th>gap_length</th>\n",
       "      <th>gap_end_length</th>\n",
       "      <th>discourse_type_id</th>\n",
       "    </tr>\n",
       "  </thead>\n",
       "  <tbody>\n",
       "    <tr>\n",
       "      <th>0</th>\n",
       "      <td>13790</td>\n",
       "      <td>00213CD75AC3</td>\n",
       "      <td>1622070442271.00</td>\n",
       "      <td>0</td>\n",
       "      <td>278</td>\n",
       "      <td>Cars have been an issue to our community for a...</td>\n",
       "      <td>Lead</td>\n",
       "      <td>Lead 1</td>\n",
       "      <td>0 1 2 3 4 5 6 7 8 9 10 11 12 13 14 15 16 17 18...</td>\n",
       "      <td>Cars have been an issue to our community for a...</td>\n",
       "      <td>2209</td>\n",
       "      <td>381</td>\n",
       "      <td>0</td>\n",
       "      <td>48</td>\n",
       "      <td>48</td>\n",
       "      <td>True</td>\n",
       "      <td>0.00</td>\n",
       "      <td>1931</td>\n",
       "      <td>5</td>\n",
       "    </tr>\n",
       "    <tr>\n",
       "      <th>1</th>\n",
       "      <td>13791</td>\n",
       "      <td>00213CD75AC3</td>\n",
       "      <td>1622070168679.00</td>\n",
       "      <td>306</td>\n",
       "      <td>354</td>\n",
       "      <td>limiting car usage could be an advantage to us.</td>\n",
       "      <td>Position</td>\n",
       "      <td>Position 1</td>\n",
       "      <td>54 55 56 57 58 59 60 61 62</td>\n",
       "      <td>Cars have been an issue to our community for a...</td>\n",
       "      <td>2209</td>\n",
       "      <td>381</td>\n",
       "      <td>54</td>\n",
       "      <td>63</td>\n",
       "      <td>9</td>\n",
       "      <td>True</td>\n",
       "      <td>28.00</td>\n",
       "      <td>1855</td>\n",
       "      <td>3</td>\n",
       "    </tr>\n",
       "    <tr>\n",
       "      <th>2</th>\n",
       "      <td>13792</td>\n",
       "      <td>00213CD75AC3</td>\n",
       "      <td>1622070209988.00</td>\n",
       "      <td>354</td>\n",
       "      <td>693</td>\n",
       "      <td>In Bogata, Columbia, barely any Columbians use...</td>\n",
       "      <td>Evidence</td>\n",
       "      <td>Evidence 1</td>\n",
       "      <td>63 64 65 66 67 68 69 70 71 72 73 74 75 76 77 7...</td>\n",
       "      <td>Cars have been an issue to our community for a...</td>\n",
       "      <td>2209</td>\n",
       "      <td>381</td>\n",
       "      <td>63</td>\n",
       "      <td>117</td>\n",
       "      <td>54</td>\n",
       "      <td>False</td>\n",
       "      <td>nan</td>\n",
       "      <td>1516</td>\n",
       "      <td>2</td>\n",
       "    </tr>\n",
       "    <tr>\n",
       "      <th>3</th>\n",
       "      <td>13793</td>\n",
       "      <td>00213CD75AC3</td>\n",
       "      <td>1622070200612.00</td>\n",
       "      <td>693</td>\n",
       "      <td>779</td>\n",
       "      <td>limiting car usage would be less stressful by ...</td>\n",
       "      <td>Claim</td>\n",
       "      <td>Claim 1</td>\n",
       "      <td>117 118 119 120 121 122 123 124 125 126 127 12...</td>\n",
       "      <td>Cars have been an issue to our community for a...</td>\n",
       "      <td>2209</td>\n",
       "      <td>381</td>\n",
       "      <td>117</td>\n",
       "      <td>133</td>\n",
       "      <td>16</td>\n",
       "      <td>False</td>\n",
       "      <td>nan</td>\n",
       "      <td>1430</td>\n",
       "      <td>1</td>\n",
       "    </tr>\n",
       "    <tr>\n",
       "      <th>4</th>\n",
       "      <td>13794</td>\n",
       "      <td>00213CD75AC3</td>\n",
       "      <td>1622070238370.00</td>\n",
       "      <td>779</td>\n",
       "      <td>935</td>\n",
       "      <td>People have been fined for causing accidents d...</td>\n",
       "      <td>Evidence</td>\n",
       "      <td>Evidence 2</td>\n",
       "      <td>133 134 135 136 137 138 139 140 141 142 143 14...</td>\n",
       "      <td>Cars have been an issue to our community for a...</td>\n",
       "      <td>2209</td>\n",
       "      <td>381</td>\n",
       "      <td>133</td>\n",
       "      <td>161</td>\n",
       "      <td>28</td>\n",
       "      <td>False</td>\n",
       "      <td>nan</td>\n",
       "      <td>1274</td>\n",
       "      <td>2</td>\n",
       "    </tr>\n",
       "  </tbody>\n",
       "</table>\n",
       "</div>"
      ],
      "text/plain": [
       "   index            id     discourse_id  discourse_start  discourse_end  \\\n",
       "0  13790  00213CD75AC3 1622070442271.00                0            278   \n",
       "1  13791  00213CD75AC3 1622070168679.00              306            354   \n",
       "2  13792  00213CD75AC3 1622070209988.00              354            693   \n",
       "3  13793  00213CD75AC3 1622070200612.00              693            779   \n",
       "4  13794  00213CD75AC3 1622070238370.00              779            935   \n",
       "\n",
       "                                      discourse_text discourse_type  \\\n",
       "0  Cars have been an issue to our community for a...           Lead   \n",
       "1   limiting car usage could be an advantage to us.        Position   \n",
       "2  In Bogata, Columbia, barely any Columbians use...       Evidence   \n",
       "3  limiting car usage would be less stressful by ...          Claim   \n",
       "4  People have been fined for causing accidents d...       Evidence   \n",
       "\n",
       "  discourse_type_num                                   predictionstring  \\\n",
       "0             Lead 1  0 1 2 3 4 5 6 7 8 9 10 11 12 13 14 15 16 17 18...   \n",
       "1         Position 1                         54 55 56 57 58 59 60 61 62   \n",
       "2         Evidence 1  63 64 65 66 67 68 69 70 71 72 73 74 75 76 77 7...   \n",
       "3            Claim 1  117 118 119 120 121 122 123 124 125 126 127 12...   \n",
       "4         Evidence 2  133 134 135 136 137 138 139 140 141 142 143 14...   \n",
       "\n",
       "                                                text  essay_len  essay_words  \\\n",
       "0  Cars have been an issue to our community for a...       2209          381   \n",
       "1  Cars have been an issue to our community for a...       2209          381   \n",
       "2  Cars have been an issue to our community for a...       2209          381   \n",
       "3  Cars have been an issue to our community for a...       2209          381   \n",
       "4  Cars have been an issue to our community for a...       2209          381   \n",
       "\n",
       "   start  end  discourse_words  gap_before  gap_length  gap_end_length  \\\n",
       "0      0   48               48        True        0.00            1931   \n",
       "1     54   63                9        True       28.00            1855   \n",
       "2     63  117               54       False         nan            1516   \n",
       "3    117  133               16       False         nan            1430   \n",
       "4    133  161               28       False         nan            1274   \n",
       "\n",
       "   discourse_type_id  \n",
       "0                  5  \n",
       "1                  3  \n",
       "2                  2  \n",
       "3                  1  \n",
       "4                  2  "
      ]
     },
     "execution_count": 82,
     "metadata": {},
     "output_type": "execute_result"
    }
   ],
   "source": [
    "df_gt = pd.read_feather(f'{FLAGS.idir}/train.fea')\n",
    "eval_ids = set(x['id'])\n",
    "df_gt = df_gt[df_gt['id'].isin(eval_ids)]\n",
    "df_gt = prepare(df_gt)\n",
    "df_gt_ = df_gt.copy()\n",
    "df_gt_['discourse_type'] = 'Claim'\n",
    "df_gt.head()"
   ]
  },
  {
   "cell_type": "code",
   "execution_count": 83,
   "metadata": {},
   "outputs": [
    {
     "name": "stderr",
     "output_type": "stream",
     "text": [
      "Some weights of the model checkpoint at roberta-base were not used when initializing RobertaModel: ['lm_head.dense.bias', 'lm_head.dense.weight', 'lm_head.layer_norm.weight', 'lm_head.bias', 'lm_head.decoder.weight', 'lm_head.layer_norm.bias']\n",
      "- This IS expected if you are initializing RobertaModel from the checkpoint of a model trained on another task or with another architecture (e.g. initializing a BertForSequenceClassification model from a BertForPreTraining model).\n",
      "- This IS NOT expected if you are initializing RobertaModel from the checkpoint of a model that you expect to be exactly identical (initializing a BertForSequenceClassification model from a BertForSequenceClassification model).\n",
      "ic| util.py:2767 in load_weights()\n",
      "    model_path: '../working/offline/10.0/pt.ro.xxx/model.pt'\n"
     ]
    }
   ],
   "source": [
    "model = get_model()\n",
    "gezi.load_weights(model, model_dir)"
   ]
  },
  {
   "cell_type": "code",
   "execution_count": 84,
   "metadata": {},
   "outputs": [
    {
     "name": "stderr",
     "output_type": "stream",
     "text": [
      "Some weights of the model checkpoint at roberta-base were not used when initializing RobertaModel: ['lm_head.dense.bias', 'lm_head.dense.weight', 'lm_head.layer_norm.weight', 'lm_head.bias', 'lm_head.decoder.weight', 'lm_head.layer_norm.bias']\n",
      "- This IS expected if you are initializing RobertaModel from the checkpoint of a model trained on another task or with another architecture (e.g. initializing a BertForSequenceClassification model from a BertForPreTraining model).\n",
      "- This IS NOT expected if you are initializing RobertaModel from the checkpoint of a model that you expect to be exactly identical (initializing a BertForSequenceClassification model from a BertForSequenceClassification model).\n",
      "ic| util.py:2767 in load_weights()\n",
      "    model_path: '../working/offline/10.0/pt.ro.cls_sent.xxx/model.pt'\n"
     ]
    }
   ],
   "source": [
    "model2 = get_model()\n",
    "gezi.load_weights(model2, model_dir2)"
   ]
  },
  {
   "cell_type": "code",
   "execution_count": 85,
   "metadata": {},
   "outputs": [
    {
     "data": {
      "text/plain": [
       "(3119, 512, 2)"
      ]
     },
     "execution_count": 85,
     "metadata": {},
     "output_type": "execute_result"
    }
   ],
   "source": [
    "x['start_logits'].shape"
   ]
  },
  {
   "cell_type": "code",
   "execution_count": 86,
   "metadata": {},
   "outputs": [],
   "source": [
    "seps = ((x['start_logits'][:,:,1] - x['start_logits'][:,:,0]) > 0).astype(int)"
   ]
  },
  {
   "cell_type": "code",
   "execution_count": 87,
   "metadata": {},
   "outputs": [],
   "source": [
    "def sep2index(seps, mask):\n",
    "  label_index = np.zeros_like(seps)\n",
    "  for i, sep in enumerate(seps):\n",
    "    idx = 0\n",
    "    for j in range(len(sep)):\n",
    "      if sep[j] == 1:\n",
    "        idx += 1\n",
    "      label_index[i, j] = idx\n",
    "  return np.asarray(label_index * mask)"
   ]
  },
  {
   "cell_type": "code",
   "execution_count": 88,
   "metadata": {},
   "outputs": [],
   "source": [
    "label_index = sep2index(seps, x['mask'])"
   ]
  },
  {
   "cell_type": "code",
   "execution_count": 89,
   "metadata": {},
   "outputs": [
    {
     "data": {
      "text/plain": [
       "array([[ 0,  1,  1, ..., 10, 10,  0],\n",
       "       [ 0,  1,  1, ...,  0,  0,  0],\n",
       "       [ 0,  1,  1, ..., 12, 12,  0],\n",
       "       ...,\n",
       "       [ 0,  1,  1, ..., 16, 16,  0],\n",
       "       [ 0,  1,  1, ..., 14, 14,  0],\n",
       "       [ 0,  1,  1, ...,  0,  0,  0]])"
      ]
     },
     "execution_count": 89,
     "metadata": {},
     "output_type": "execute_result"
    }
   ],
   "source": [
    "label_index"
   ]
  },
  {
   "cell_type": "code",
   "execution_count": 90,
   "metadata": {},
   "outputs": [],
   "source": [
    "inputs = {\n",
    "  'input_ids': x['input_ids'],\n",
    "  'attention_mask': x['attention_mask'],\n",
    "  'mask': x['mask'],\n",
    "  'label_index': label_index\n",
    "  # 'label_index': x['label_index']\n",
    "}"
   ]
  },
  {
   "cell_type": "code",
   "execution_count": 91,
   "metadata": {},
   "outputs": [
    {
     "data": {
      "text/plain": [
       "dict_keys(['id', 'label', 'mask', 'word_ids', 'sep', 'label_parts', 'label_type', 'label_mask', 'label_index', 'input_ids', 'attention_mask', 'pred', 'start_logits', 'parts', 'sent_logits'])"
      ]
     },
     "execution_count": 91,
     "metadata": {},
     "output_type": "execute_result"
    }
   ],
   "source": [
    "x.keys()"
   ]
  },
  {
   "cell_type": "code",
   "execution_count": 92,
   "metadata": {},
   "outputs": [],
   "source": [
    "inputs['id'] = np.zeros_like(inputs['mask'][:,0])"
   ]
  },
  {
   "cell_type": "code",
   "execution_count": 93,
   "metadata": {},
   "outputs": [
    {
     "data": {
      "application/vnd.jupyter.widget-view+json": {
       "model_id": "b1d456a24aea48bb81b5bd1d19ceefe4",
       "version_major": 2,
       "version_minor": 0
      },
      "text/plain": [
       "Predicting:   0%|          | 0/98 [00:00<?, ?it/s]"
      ]
     },
     "metadata": {},
     "output_type": "display_data"
    }
   ],
   "source": [
    "# using new, model2 to predict \n",
    "p = gezi.predict(model2, inputs, 32)"
   ]
  },
  {
   "cell_type": "code",
   "execution_count": 94,
   "metadata": {},
   "outputs": [
    {
     "data": {
      "text/plain": [
       "dict_keys(['pred', 'start_logits', 'parts', 'sent_logits'])"
      ]
     },
     "execution_count": 94,
     "metadata": {},
     "output_type": "execute_result"
    }
   ],
   "source": [
    "p.keys()"
   ]
  },
  {
   "cell_type": "code",
   "execution_count": 95,
   "metadata": {},
   "outputs": [
    {
     "data": {
      "text/plain": [
       "(3119, 40, 8)"
      ]
     },
     "execution_count": 95,
     "metadata": {},
     "output_type": "execute_result"
    }
   ],
   "source": [
    "p['sent_logits'].shape"
   ]
  },
  {
   "cell_type": "code",
   "execution_count": 96,
   "metadata": {},
   "outputs": [],
   "source": [
    "types = np.argmax(p['sent_logits'], -1)"
   ]
  },
  {
   "cell_type": "code",
   "execution_count": 97,
   "metadata": {},
   "outputs": [],
   "source": [
    "parts = seps.sum(-1)"
   ]
  },
  {
   "cell_type": "code",
   "execution_count": 98,
   "metadata": {},
   "outputs": [
    {
     "data": {
      "text/plain": [
       "array([10, 10, 12, ..., 16, 14,  7])"
      ]
     },
     "execution_count": 98,
     "metadata": {},
     "output_type": "execute_result"
    }
   ],
   "source": [
    "parts"
   ]
  },
  {
   "cell_type": "code",
   "execution_count": 99,
   "metadata": {},
   "outputs": [
    {
     "data": {
      "text/plain": [
       "array([[5, 1, 1, ..., 0, 0, 0],\n",
       "       [0, 3, 2, ..., 0, 0, 0],\n",
       "       [0, 5, 3, ..., 0, 0, 0],\n",
       "       ...,\n",
       "       [5, 3, 0, ..., 0, 0, 0],\n",
       "       [0, 5, 3, ..., 0, 0, 0],\n",
       "       [3, 1, 2, ..., 0, 0, 0]])"
      ]
     },
     "execution_count": 99,
     "metadata": {},
     "output_type": "execute_result"
    }
   ],
   "source": [
    "types"
   ]
  },
  {
   "cell_type": "code",
   "execution_count": 100,
   "metadata": {},
   "outputs": [
    {
     "data": {
      "text/plain": [
       "array(['367111CA290A', 'C0EF97669300', '0F1B167D414E', ...,\n",
       "       '0D6F5D6E2E77', 'E83BEEE4EF18', 'DBFD15D537CA'], dtype='<U12')"
      ]
     },
     "execution_count": 100,
     "metadata": {},
     "output_type": "execute_result"
    }
   ],
   "source": [
    "ids = x['id']\n",
    "ids"
   ]
  },
  {
   "cell_type": "code",
   "execution_count": 101,
   "metadata": {},
   "outputs": [
    {
     "data": {
      "text/plain": [
       "3119"
      ]
     },
     "execution_count": 101,
     "metadata": {},
     "output_type": "execute_result"
    }
   ],
   "source": [
    "len(ids)"
   ]
  },
  {
   "cell_type": "code",
   "execution_count": 102,
   "metadata": {},
   "outputs": [],
   "source": [
    "word_ids_list = x['word_ids']"
   ]
  },
  {
   "cell_type": "code",
   "execution_count": 103,
   "metadata": {},
   "outputs": [
    {
     "data": {
      "application/vnd.jupyter.widget-view+json": {
       "model_id": "632c218568554041b09565d7331ded2d",
       "version_major": 2,
       "version_minor": 0
      },
      "text/plain": [
       "  0%|          | 0/3119 [00:00<?, ?it/s]"
      ]
     },
     "metadata": {},
     "output_type": "display_data"
    }
   ],
   "source": [
    "preds_list = []\n",
    "types_list = []\n",
    "ids_list = []\n",
    "for i, id in tqdm(enumerate(ids), total=len(ids)):\n",
    "  type_list = []\n",
    "  pred_list = []\n",
    "  num_parts = parts[i]\n",
    "  word_ids = word_ids_list[i]\n",
    "  word_id_ = None\n",
    "  preds = []\n",
    "  for j, word_id in enumerate(word_ids):\n",
    "    if word_id < 0:\n",
    "      continue\n",
    "    if word_id == word_id_:\n",
    "      continue\n",
    "    else:\n",
    "      word_id_ = word_id\n",
    "    if seps[i, j] == 1:\n",
    "      if len(preds) >= 2 and pre_type != 0:\n",
    "        pred_list.append(' '.join(preds))\n",
    "        type_list.append(id2dis[pre_type])\n",
    "        # print(pred_list[-1], type_list[-1])\n",
    "      preds = []\n",
    "    pre_type = types[i, label_index[i, j] - 1]\n",
    "    preds.append(str(word_id))\n",
    "  if len(preds) >= 2 and pre_type != 0:\n",
    "    pred_list.append(' '.join(preds))\n",
    "    type_list.append(id2dis[pre_type])\n",
    "  ids_list.extend([id] * len(type_list))\n",
    "  preds_list.extend(pred_list)\n",
    "  types_list.extend(type_list)\n"
   ]
  },
  {
   "cell_type": "code",
   "execution_count": 104,
   "metadata": {},
   "outputs": [
    {
     "data": {
      "text/plain": [
       "27050"
      ]
     },
     "execution_count": 104,
     "metadata": {},
     "output_type": "execute_result"
    }
   ],
   "source": [
    "len(preds_list)"
   ]
  },
  {
   "cell_type": "code",
   "execution_count": 105,
   "metadata": {},
   "outputs": [
    {
     "data": {
      "text/plain": [
       "27050"
      ]
     },
     "execution_count": 105,
     "metadata": {},
     "output_type": "execute_result"
    }
   ],
   "source": [
    "len(types_list)"
   ]
  },
  {
   "cell_type": "code",
   "execution_count": 106,
   "metadata": {},
   "outputs": [
    {
     "data": {
      "text/plain": [
       "27050"
      ]
     },
     "execution_count": 106,
     "metadata": {},
     "output_type": "execute_result"
    }
   ],
   "source": [
    "len(ids_list)"
   ]
  },
  {
   "cell_type": "code",
   "execution_count": 107,
   "metadata": {},
   "outputs": [],
   "source": [
    "  m = {\n",
    "    'id': ids_list,\n",
    "    'class': types_list,\n",
    "    'predictionstring': preds_list\n",
    "  }\n",
    "\n",
    "  df_pred = pd.DataFrame(m)"
   ]
  },
  {
   "cell_type": "code",
   "execution_count": 108,
   "metadata": {},
   "outputs": [
    {
     "data": {
      "text/html": [
       "<div>\n",
       "<style scoped>\n",
       "    .dataframe tbody tr th:only-of-type {\n",
       "        vertical-align: middle;\n",
       "    }\n",
       "\n",
       "    .dataframe tbody tr th {\n",
       "        vertical-align: top;\n",
       "    }\n",
       "\n",
       "    .dataframe thead th {\n",
       "        text-align: right;\n",
       "    }\n",
       "</style>\n",
       "<table border=\"1\" class=\"dataframe\">\n",
       "  <thead>\n",
       "    <tr style=\"text-align: right;\">\n",
       "      <th></th>\n",
       "      <th>id</th>\n",
       "      <th>class</th>\n",
       "      <th>predictionstring</th>\n",
       "    </tr>\n",
       "  </thead>\n",
       "  <tbody>\n",
       "    <tr>\n",
       "      <th>0</th>\n",
       "      <td>367111CA290A</td>\n",
       "      <td>Lead</td>\n",
       "      <td>0 1 2 3 4 5 6 7 8 9 10 11 12 13 14 15 16 17 18...</td>\n",
       "    </tr>\n",
       "    <tr>\n",
       "      <th>1</th>\n",
       "      <td>367111CA290A</td>\n",
       "      <td>Claim</td>\n",
       "      <td>60 61 62 63 64 65 66 67 68 69 70 71 72 73 74 7...</td>\n",
       "    </tr>\n",
       "    <tr>\n",
       "      <th>2</th>\n",
       "      <td>367111CA290A</td>\n",
       "      <td>Claim</td>\n",
       "      <td>93 94 95 96 97 98 99 100 101 102</td>\n",
       "    </tr>\n",
       "    <tr>\n",
       "      <th>3</th>\n",
       "      <td>367111CA290A</td>\n",
       "      <td>Evidence</td>\n",
       "      <td>103 104 105 106 107 108 109 110 111 112 113 11...</td>\n",
       "    </tr>\n",
       "    <tr>\n",
       "      <th>4</th>\n",
       "      <td>367111CA290A</td>\n",
       "      <td>Evidence</td>\n",
       "      <td>186 187 188 189 190 191 192 193 194 195 196 19...</td>\n",
       "    </tr>\n",
       "    <tr>\n",
       "      <th>...</th>\n",
       "      <td>...</td>\n",
       "      <td>...</td>\n",
       "      <td>...</td>\n",
       "    </tr>\n",
       "    <tr>\n",
       "      <th>27045</th>\n",
       "      <td>DBFD15D537CA</td>\n",
       "      <td>Evidence</td>\n",
       "      <td>40 41 42 43 44 45 46 47 48 49 50 51 52 53 54 5...</td>\n",
       "    </tr>\n",
       "    <tr>\n",
       "      <th>27046</th>\n",
       "      <td>DBFD15D537CA</td>\n",
       "      <td>Evidence</td>\n",
       "      <td>80 81 82 83 84 85 86 87 88 89 90 91 92 93 94 9...</td>\n",
       "    </tr>\n",
       "    <tr>\n",
       "      <th>27047</th>\n",
       "      <td>DBFD15D537CA</td>\n",
       "      <td>Claim</td>\n",
       "      <td>179 180 181 182 183 184 185 186 187 188 189 19...</td>\n",
       "    </tr>\n",
       "    <tr>\n",
       "      <th>27048</th>\n",
       "      <td>DBFD15D537CA</td>\n",
       "      <td>Evidence</td>\n",
       "      <td>193 194 195 196 197 198 199 200 201 202 203 20...</td>\n",
       "    </tr>\n",
       "    <tr>\n",
       "      <th>27049</th>\n",
       "      <td>DBFD15D537CA</td>\n",
       "      <td>Concluding Statement</td>\n",
       "      <td>295 296 297 298 299 300 301 302 303 304 305 30...</td>\n",
       "    </tr>\n",
       "  </tbody>\n",
       "</table>\n",
       "<p>27050 rows × 3 columns</p>\n",
       "</div>"
      ],
      "text/plain": [
       "                 id                 class  \\\n",
       "0      367111CA290A                  Lead   \n",
       "1      367111CA290A                 Claim   \n",
       "2      367111CA290A                 Claim   \n",
       "3      367111CA290A              Evidence   \n",
       "4      367111CA290A              Evidence   \n",
       "...             ...                   ...   \n",
       "27045  DBFD15D537CA              Evidence   \n",
       "27046  DBFD15D537CA              Evidence   \n",
       "27047  DBFD15D537CA                 Claim   \n",
       "27048  DBFD15D537CA              Evidence   \n",
       "27049  DBFD15D537CA  Concluding Statement   \n",
       "\n",
       "                                        predictionstring  \n",
       "0      0 1 2 3 4 5 6 7 8 9 10 11 12 13 14 15 16 17 18...  \n",
       "1      60 61 62 63 64 65 66 67 68 69 70 71 72 73 74 7...  \n",
       "2                       93 94 95 96 97 98 99 100 101 102  \n",
       "3      103 104 105 106 107 108 109 110 111 112 113 11...  \n",
       "4      186 187 188 189 190 191 192 193 194 195 196 19...  \n",
       "...                                                  ...  \n",
       "27045  40 41 42 43 44 45 46 47 48 49 50 51 52 53 54 5...  \n",
       "27046  80 81 82 83 84 85 86 87 88 89 90 91 92 93 94 9...  \n",
       "27047  179 180 181 182 183 184 185 186 187 188 189 19...  \n",
       "27048  193 194 195 196 197 198 199 200 201 202 203 20...  \n",
       "27049  295 296 297 298 299 300 301 302 303 304 305 30...  \n",
       "\n",
       "[27050 rows x 3 columns]"
      ]
     },
     "execution_count": 108,
     "metadata": {},
     "output_type": "execute_result"
    }
   ],
   "source": [
    "df_pred"
   ]
  },
  {
   "cell_type": "code",
   "execution_count": 109,
   "metadata": {},
   "outputs": [
    {
     "data": {
      "text/plain": [
       "{'id': array(['367111CA290A', 'C0EF97669300', '0F1B167D414E', ...,\n",
       "        '0D6F5D6E2E77', 'E83BEEE4EF18', 'DBFD15D537CA'], dtype='<U12'),\n",
       " 'label': array([[0, 0, 0, ..., 2, 2, 0],\n",
       "        [0, 0, 0, ..., 0, 0, 0],\n",
       "        [0, 0, 0, ..., 2, 2, 0],\n",
       "        ...,\n",
       "        [0, 5, 5, ..., 4, 4, 0],\n",
       "        [0, 0, 0, ..., 0, 0, 0],\n",
       "        [0, 3, 3, ..., 0, 0, 0]], dtype=int32),\n",
       " 'mask': array([[0, 1, 1, ..., 1, 1, 0],\n",
       "        [0, 1, 1, ..., 0, 0, 0],\n",
       "        [0, 1, 1, ..., 1, 1, 0],\n",
       "        ...,\n",
       "        [0, 1, 1, ..., 1, 1, 0],\n",
       "        [0, 1, 1, ..., 1, 1, 0],\n",
       "        [0, 1, 1, ..., 0, 0, 0]], dtype=int32),\n",
       " 'word_ids': array([[ -1,   0,   1, ..., 465, 466,  -1],\n",
       "        [ -1,   0,   0, ...,  -1,  -1,  -1],\n",
       "        [ -1,   0,   0, ..., 450, 451,  -1],\n",
       "        ...,\n",
       "        [ -1,   0,   1, ..., 457, 458,  -1],\n",
       "        [ -1,   0,   0, ..., 467, 468,  -1],\n",
       "        [ -1,   0,   0, ...,  -1,  -1,  -1]], dtype=int32),\n",
       " 'sep': array([[0, 1, 0, ..., 0, 0, 0],\n",
       "        [0, 1, 0, ..., 0, 0, 0],\n",
       "        [0, 1, 0, ..., 0, 0, 0],\n",
       "        ...,\n",
       "        [0, 1, 0, ..., 0, 0, 0],\n",
       "        [0, 1, 0, ..., 0, 0, 0],\n",
       "        [0, 1, 0, ..., 0, 0, 0]], dtype=int32),\n",
       " 'label_parts': array([ 9,  7, 15, ..., 21, 17, 12], dtype=int32),\n",
       " 'label_type': array([[0, 5, 3, ..., 0, 0, 0],\n",
       "        [0, 3, 1, ..., 0, 0, 0],\n",
       "        [0, 5, 6, ..., 0, 0, 0],\n",
       "        ...,\n",
       "        [5, 3, 0, ..., 0, 0, 0],\n",
       "        [0, 5, 0, ..., 0, 0, 0],\n",
       "        [3, 0, 1, ..., 0, 0, 0]], dtype=int32),\n",
       " 'label_mask': array([[1, 1, 1, ..., 0, 0, 0],\n",
       "        [1, 1, 1, ..., 0, 0, 0],\n",
       "        [1, 1, 1, ..., 0, 0, 0],\n",
       "        ...,\n",
       "        [1, 1, 1, ..., 0, 0, 0],\n",
       "        [1, 1, 1, ..., 0, 0, 0],\n",
       "        [1, 1, 1, ..., 0, 0, 0]], dtype=int32),\n",
       " 'label_index': array([[ 0,  1,  1, ...,  9,  9,  0],\n",
       "        [ 0,  1,  1, ...,  0,  0,  0],\n",
       "        [ 0,  1,  1, ..., 15, 15,  0],\n",
       "        ...,\n",
       "        [ 0,  1,  1, ..., 21, 21,  0],\n",
       "        [ 0,  1,  1, ..., 17, 17,  0],\n",
       "        [ 0,  1,  1, ...,  0,  0,  0]], dtype=int32),\n",
       " 'input_ids': array([[    0,  1801,  9722, ...,    49,  1420,     2],\n",
       "        [    0, 13392,    18, ...,     1,     1,     1],\n",
       "        [    0,  4129,  6909, ...,  1923,    40,     2],\n",
       "        ...,\n",
       "        [    0,  1336,   747, ...,   818,   818,     2],\n",
       "        [    0,  6015, 22889, ...,    32,   546,     2],\n",
       "        [    0,    85,    18, ...,     1,     1,     1]], dtype=int32),\n",
       " 'attention_mask': array([[1, 1, 1, ..., 1, 1, 1],\n",
       "        [1, 1, 1, ..., 0, 0, 0],\n",
       "        [1, 1, 1, ..., 1, 1, 1],\n",
       "        ...,\n",
       "        [1, 1, 1, ..., 1, 1, 1],\n",
       "        [1, 1, 1, ..., 1, 1, 1],\n",
       "        [1, 1, 1, ..., 0, 0, 0]], dtype=int32),\n",
       " 'pred': array([[[-0.60542643,  1.7464991 ,  3.173383  , ..., -1.1144394 ,\n",
       "          -1.1225808 , -2.1446974 ],\n",
       "         [ 1.5598807 , -1.9276711 , -0.48687658, ...,  5.297733  ,\n",
       "          -2.2691195 , -1.5546923 ],\n",
       "         [ 2.7772808 , -2.0163078 , -0.31728032, ...,  5.641866  ,\n",
       "          -2.8012812 , -3.4312336 ],\n",
       "         ...,\n",
       "         [ 1.0690373 ,  1.3220387 ,  5.027123  , ..., -2.7494712 ,\n",
       "          -0.54898673, -1.2919602 ],\n",
       "         [ 1.0228345 ,  1.5133876 ,  4.874035  , ..., -2.9573052 ,\n",
       "          -0.51791775, -1.393755  ],\n",
       "         [ 1.0641432 ,  0.37804446,  4.8826594 , ..., -2.9292514 ,\n",
       "          -1.1670979 , -1.8076038 ]],\n",
       " \n",
       "        [[-1.5115099 ,  0.30920613,  1.1693867 , ..., -2.050856  ,\n",
       "          -0.9516147 , -1.4784691 ],\n",
       "         [ 5.9231    , -1.078438  , -1.6559206 , ...,  0.40511137,\n",
       "          -2.2963111 , -1.810366  ],\n",
       "         [ 6.69601   , -1.6265436 , -1.4402196 , ...,  0.47735924,\n",
       "          -2.3106978 , -2.7408223 ],\n",
       "         ...,\n",
       "         [-0.5756974 ,  1.6061125 ,  2.4924545 , ..., -2.5104704 ,\n",
       "          -0.20333393, -1.0111806 ],\n",
       "         [-0.5756974 ,  1.6061125 ,  2.4924545 , ..., -2.5104704 ,\n",
       "          -0.20333393, -1.0111806 ],\n",
       "         [-0.5756974 ,  1.6061125 ,  2.4924545 , ..., -2.5104704 ,\n",
       "          -0.20333393, -1.0111806 ]],\n",
       " \n",
       "        [[-1.0285401 ,  0.256481  ,  1.0504129 , ..., -1.302478  ,\n",
       "           3.4117153 , -1.1481018 ],\n",
       "         [ 6.161314  , -0.9087471 , -1.7790852 , ...,  0.48087335,\n",
       "          -2.2117448 , -1.8988864 ],\n",
       "         [ 6.6445193 , -1.1918694 , -1.5088997 , ...,  0.66597193,\n",
       "          -2.2221267 , -2.6105645 ],\n",
       "         ...,\n",
       "         [-0.3889329 ,  0.6602155 ,  4.520611  , ..., -4.647016  ,\n",
       "          -1.1630652 ,  2.527812  ],\n",
       "         [-0.27017918,  0.5799822 ,  4.651744  , ..., -4.5528197 ,\n",
       "          -1.3272166 ,  2.278419  ],\n",
       "         [-0.06626828,  0.21426243,  4.6456738 , ..., -4.2255898 ,\n",
       "          -1.2182354 ,  2.1884487 ]],\n",
       " \n",
       "        ...,\n",
       " \n",
       "        [[ 1.0098691 ,  0.6492067 ,  3.8525033 , ..., -1.4481163 ,\n",
       "          -1.4349723 , -2.4871614 ],\n",
       "         [ 0.26198438, -1.9621028 , -1.5479491 , ...,  6.5318465 ,\n",
       "          -1.2732465 , -1.06519   ],\n",
       "         [ 1.0332795 , -1.9452056 , -1.6844348 , ...,  7.5804415 ,\n",
       "          -1.8051186 , -2.5487719 ],\n",
       "         ...,\n",
       "         [ 3.8959537 , -1.647297  , -0.35234168, ..., -1.5767096 ,\n",
       "          -1.3393817 , -1.4965591 ],\n",
       "         [ 3.896362  , -1.5082548 , -0.3525509 , ..., -1.4401218 ,\n",
       "          -1.3185576 , -1.5067552 ],\n",
       "         [ 4.374192  , -1.8441544 , -0.79368526, ..., -1.4858309 ,\n",
       "          -1.8638351 , -1.7816038 ]],\n",
       " \n",
       "        [[ 0.1016598 ,  0.4654187 ,  5.90079   , ..., -1.5023038 ,\n",
       "          -1.619521  , -2.793188  ],\n",
       "         [ 6.070468  , -1.2394545 , -1.8088814 , ...,  0.22552958,\n",
       "          -2.4236503 , -1.8544452 ],\n",
       "         [ 6.414074  , -1.4622891 , -1.9224846 , ...,  0.86290175,\n",
       "          -2.4089377 , -3.0206745 ],\n",
       "         ...,\n",
       "         [ 1.1083813 , -0.41545373, -0.23635826, ..., -2.4847295 ,\n",
       "          -2.0841532 , -2.3181672 ],\n",
       "         [ 1.1780623 , -0.33056515, -0.23036468, ..., -2.7135348 ,\n",
       "          -2.1099138 , -2.4014454 ],\n",
       "         [ 1.3965389 , -0.81792927, -0.44989273, ..., -3.1651466 ,\n",
       "          -2.6783757 , -2.739802  ]],\n",
       " \n",
       "        [[ 0.60914737,  0.5504233 ,  1.9360131 , ..., -2.2904022 ,\n",
       "          -2.7270792 , -2.9458964 ],\n",
       "         [ 0.25809374,  0.15486392, -1.594392  , ...,  1.2062461 ,\n",
       "          -2.3174608 , -2.655647  ],\n",
       "         [ 0.63498753,  1.3306142 , -0.94276756, ...,  1.5866864 ,\n",
       "          -3.3854315 , -3.879629  ],\n",
       "         ...,\n",
       "         [ 2.3234606 ,  1.5056443 ,  5.2142563 , ..., -3.0844047 ,\n",
       "          -2.3026257 , -3.5027785 ],\n",
       "         [ 2.3234606 ,  1.5056443 ,  5.2142563 , ..., -3.0844047 ,\n",
       "          -2.3026257 , -3.5027785 ],\n",
       "         [ 2.3234606 ,  1.5056443 ,  5.2142563 , ..., -3.0844047 ,\n",
       "          -2.3026257 , -3.5027785 ]]], dtype=float32),\n",
       " 'start_logits': array([[[ 4.7832637, -4.797098 ],\n",
       "         [-4.4621925,  5.1419234],\n",
       "         [ 4.5108175, -4.8339405],\n",
       "         ...,\n",
       "         [ 5.753617 , -6.0974936],\n",
       "         [ 5.6471286, -5.9968057],\n",
       "         [ 2.8925426, -3.2853415]],\n",
       " \n",
       "        [[ 3.933729 , -3.7019925],\n",
       "         [-4.3918877,  4.337924 ],\n",
       "         [ 4.266929 , -3.9840558],\n",
       "         ...,\n",
       "         [ 1.8974627, -2.0443223],\n",
       "         [ 1.8974627, -2.0443223],\n",
       "         [ 1.8974627, -2.0443223]],\n",
       " \n",
       "        [[ 3.5143466, -3.8553276],\n",
       "         [-3.853651 ,  4.115114 ],\n",
       "         [ 4.6120005, -4.040235 ],\n",
       "         ...,\n",
       "         [ 5.398735 , -5.5273094],\n",
       "         [ 5.4467206, -5.5373344],\n",
       "         [ 5.703738 , -5.8477774]],\n",
       " \n",
       "        ...,\n",
       " \n",
       "        [[ 3.661956 , -3.7631245],\n",
       "         [-4.072678 ,  4.772084 ],\n",
       "         [ 4.2199306, -4.4379773],\n",
       "         ...,\n",
       "         [ 4.3969064, -4.538497 ],\n",
       "         [ 4.788164 , -4.988662 ],\n",
       "         [ 4.656562 , -4.79928  ]],\n",
       " \n",
       "        [[ 4.237178 , -4.185666 ],\n",
       "         [-4.4111977,  4.44255  ],\n",
       "         [ 4.182298 , -3.9828994],\n",
       "         ...,\n",
       "         [ 5.3030934, -5.4513335],\n",
       "         [ 5.1717443, -5.352545 ],\n",
       "         [ 3.7980018, -3.6133878]],\n",
       " \n",
       "        [[ 4.2365103, -4.2216597],\n",
       "         [-4.909132 ,  5.1376753],\n",
       "         [ 3.6967132, -3.9218872],\n",
       "         ...,\n",
       "         [ 3.8881664, -4.4540114],\n",
       "         [ 3.8881664, -4.4540114],\n",
       "         [ 3.8881664, -4.4540114]]], dtype=float32),\n",
       " 'parts': array([10., 10., 12., ..., 16., 14.,  7.], dtype=float32),\n",
       " 'sent_logits': array([[[ 1.26211853e+01, -9.78139591e+00, -2.00534081e+00, ...,\n",
       "           2.88254871e+01, -1.33226099e+01, -1.48080883e+01],\n",
       "         [-9.95582352e+01,  3.73809052e+01,  1.41395588e+01, ...,\n",
       "           4.98720001e+02, -1.50053177e+02, -2.20579849e+02],\n",
       "         [-8.85183430e+00,  3.79216042e+01,  3.94580688e+01, ...,\n",
       "          -4.50857544e+00, -1.63915005e+01, -3.02414227e+01],\n",
       "         ...,\n",
       "         [ 0.00000000e+00,  0.00000000e+00,  0.00000000e+00, ...,\n",
       "           0.00000000e+00,  0.00000000e+00,  0.00000000e+00],\n",
       "         [ 0.00000000e+00,  0.00000000e+00,  0.00000000e+00, ...,\n",
       "           0.00000000e+00,  0.00000000e+00,  0.00000000e+00],\n",
       "         [ 0.00000000e+00,  0.00000000e+00,  0.00000000e+00, ...,\n",
       "           0.00000000e+00,  0.00000000e+00,  0.00000000e+00]],\n",
       " \n",
       "        [[ 3.87602196e+01, -9.29782104e+00, -8.96102428e+00, ...,\n",
       "           2.39267516e+00, -1.29989557e+01, -1.46862154e+01],\n",
       "         [ 5.75276184e+00,  1.30681002e+00, -3.00315247e+01, ...,\n",
       "           3.34798508e+01, -3.60605278e+01, -4.56307259e+01],\n",
       "         [-2.16480541e+01,  9.46330414e+01,  8.86872940e+01, ...,\n",
       "          -2.72171555e+01, -4.37523575e+01, -6.89764862e+01],\n",
       "         ...,\n",
       "         [ 0.00000000e+00,  0.00000000e+00,  0.00000000e+00, ...,\n",
       "           0.00000000e+00,  0.00000000e+00,  0.00000000e+00],\n",
       "         [ 0.00000000e+00,  0.00000000e+00,  0.00000000e+00, ...,\n",
       "           0.00000000e+00,  0.00000000e+00,  0.00000000e+00],\n",
       "         [ 0.00000000e+00,  0.00000000e+00,  0.00000000e+00, ...,\n",
       "           0.00000000e+00,  0.00000000e+00,  0.00000000e+00]],\n",
       " \n",
       "        [[ 2.59624920e+01, -4.74859667e+00, -6.19798660e+00, ...,\n",
       "           2.16729522e+00, -8.95776081e+00, -9.83068657e+00],\n",
       "         [-6.22349472e+01, -2.67834997e+00,  1.07283192e+01, ...,\n",
       "           3.02967804e+02, -3.53933983e+01, -9.07231827e+01],\n",
       "         [-5.04825592e+01,  4.58602285e+00, -2.65092030e+01, ...,\n",
       "           1.09719307e+02,  6.96055298e+01, -2.08020573e+01],\n",
       "         ...,\n",
       "         [ 0.00000000e+00,  0.00000000e+00,  0.00000000e+00, ...,\n",
       "           0.00000000e+00,  0.00000000e+00,  0.00000000e+00],\n",
       "         [ 0.00000000e+00,  0.00000000e+00,  0.00000000e+00, ...,\n",
       "           0.00000000e+00,  0.00000000e+00,  0.00000000e+00],\n",
       "         [ 0.00000000e+00,  0.00000000e+00,  0.00000000e+00, ...,\n",
       "           0.00000000e+00,  0.00000000e+00,  0.00000000e+00]],\n",
       " \n",
       "        ...,\n",
       " \n",
       "        [[ 3.94428062e+00, -8.36104507e+01, -1.13007225e+02, ...,\n",
       "           4.35270355e+02, -7.30595856e+01, -1.28581879e+02],\n",
       "         [ 4.35340118e+00,  1.94197381e+00, -1.59585390e+01, ...,\n",
       "           4.80162680e-01, -1.84593391e+01, -2.23383179e+01],\n",
       "         [ 9.38718605e+00,  1.12899435e+00, -3.94789267e+00, ...,\n",
       "          -3.82616568e+00, -4.86195469e+00, -5.68233967e+00],\n",
       "         ...,\n",
       "         [ 0.00000000e+00,  0.00000000e+00,  0.00000000e+00, ...,\n",
       "           0.00000000e+00,  0.00000000e+00,  0.00000000e+00],\n",
       "         [ 0.00000000e+00,  0.00000000e+00,  0.00000000e+00, ...,\n",
       "           0.00000000e+00,  0.00000000e+00,  0.00000000e+00],\n",
       "         [ 0.00000000e+00,  0.00000000e+00,  0.00000000e+00, ...,\n",
       "           0.00000000e+00,  0.00000000e+00,  0.00000000e+00]],\n",
       " \n",
       "        [[ 3.09113235e+01, -7.28653717e+00, -9.03216267e+00, ...,\n",
       "           3.03888106e+00, -1.23199139e+01, -1.32021208e+01],\n",
       "         [ 4.93838930e+00, -2.57923870e+01, -2.84913063e+01, ...,\n",
       "           1.71531815e+02, -6.17731743e+01, -7.41315613e+01],\n",
       "         [ 2.16745710e+00, -8.77878308e-01, -1.91412747e+00, ...,\n",
       "           7.40748465e-01, -2.99786210e+00, -2.89409423e+00],\n",
       "         ...,\n",
       "         [ 0.00000000e+00,  0.00000000e+00,  0.00000000e+00, ...,\n",
       "           0.00000000e+00,  0.00000000e+00,  0.00000000e+00],\n",
       "         [ 0.00000000e+00,  0.00000000e+00,  0.00000000e+00, ...,\n",
       "           0.00000000e+00,  0.00000000e+00,  0.00000000e+00],\n",
       "         [ 0.00000000e+00,  0.00000000e+00,  0.00000000e+00, ...,\n",
       "           0.00000000e+00,  0.00000000e+00,  0.00000000e+00]],\n",
       " \n",
       "        [[ 1.14268410e+00,  9.00273228e+00, -7.06888199e+00, ...,\n",
       "           1.14612741e+01, -2.02443390e+01, -2.54481812e+01],\n",
       "         [ 5.15830398e-01,  1.09204626e+00, -1.20738995e+00, ...,\n",
       "           1.20572293e+00, -3.44516158e+00, -3.63426948e+00],\n",
       "         [-8.79086971e+00,  2.90332756e+01, -2.56655717e+00, ...,\n",
       "           1.72384167e+01, -3.50014763e+01, -4.11151924e+01],\n",
       "         ...,\n",
       "         [ 0.00000000e+00,  0.00000000e+00,  0.00000000e+00, ...,\n",
       "           0.00000000e+00,  0.00000000e+00,  0.00000000e+00],\n",
       "         [ 0.00000000e+00,  0.00000000e+00,  0.00000000e+00, ...,\n",
       "           0.00000000e+00,  0.00000000e+00,  0.00000000e+00],\n",
       "         [ 0.00000000e+00,  0.00000000e+00,  0.00000000e+00, ...,\n",
       "           0.00000000e+00,  0.00000000e+00,  0.00000000e+00]]],\n",
       "       dtype=float32)}"
      ]
     },
     "execution_count": 109,
     "metadata": {},
     "output_type": "execute_result"
    }
   ],
   "source": [
    "x"
   ]
  },
  {
   "cell_type": "code",
   "execution_count": 110,
   "metadata": {},
   "outputs": [
    {
     "data": {
      "text/plain": [
       "['id',\n",
       " 'label',\n",
       " 'mask',\n",
       " 'word_ids',\n",
       " 'sep',\n",
       " 'label_parts',\n",
       " 'label_type',\n",
       " 'label_mask',\n",
       " 'label_index',\n",
       " 'input_ids',\n",
       " 'attention_mask',\n",
       " 'pred',\n",
       " 'start_logits',\n",
       " 'parts',\n",
       " 'sent_logits']"
      ]
     },
     "execution_count": 110,
     "metadata": {},
     "output_type": "execute_result"
    }
   ],
   "source": [
    "list(x.keys())"
   ]
  },
  {
   "cell_type": "code",
   "execution_count": 111,
   "metadata": {},
   "outputs": [
    {
     "data": {
      "text/plain": [
       "(0.47127744633741314, 0.43064537878765435)"
      ]
     },
     "execution_count": 111,
     "metadata": {},
     "output_type": "execute_result"
    }
   ],
   "source": [
    "#----------- 句子分类准确率, f1\n",
    "from sklearn.metrics import accuracy_score, f1_score\n",
    "sent_logits = x['sent_logits']\n",
    "sent_pred = np.argmax(p['sent_logits'], axis=-1)\n",
    "y, y_, w = x['label_type'].reshape(-1), sent_pred.reshape(-1), x['label_mask'].reshape(-1)\n",
    "acc = accuracy_score(y, y_, sample_weight=w)\n",
    "f1 = f1_score(y, y_, average='macro', sample_weight=w)\n",
    "acc, f1"
   ]
  },
  {
   "cell_type": "code",
   "execution_count": 112,
   "metadata": {},
   "outputs": [
    {
     "data": {
      "application/vnd.jupyter.widget-view+json": {
       "model_id": "96fad50bfa73407881fee2a9ecab6976",
       "version_major": 2,
       "version_minor": 0
      },
      "text/plain": [
       "  0%|          | 0/27050 [00:00<?, ?it/s]"
      ]
     },
     "metadata": {},
     "output_type": "display_data"
    },
    {
     "data": {
      "application/vnd.jupyter.widget-view+json": {
       "model_id": "591b772306d44b44a4ef93603c81c070",
       "version_major": 2,
       "version_minor": 0
      },
      "text/plain": [
       "  0%|          | 0/27049 [00:00<?, ?it/s]"
      ]
     },
     "metadata": {},
     "output_type": "display_data"
    },
    {
     "data": {
      "text/html": [
       "<div>\n",
       "<style scoped>\n",
       "    .dataframe tbody tr th:only-of-type {\n",
       "        vertical-align: middle;\n",
       "    }\n",
       "\n",
       "    .dataframe tbody tr th {\n",
       "        vertical-align: top;\n",
       "    }\n",
       "\n",
       "    .dataframe thead th {\n",
       "        text-align: right;\n",
       "    }\n",
       "</style>\n",
       "<table border=\"1\" class=\"dataframe\">\n",
       "  <thead>\n",
       "    <tr style=\"text-align: right;\">\n",
       "      <th></th>\n",
       "      <th>id</th>\n",
       "      <th>discourse_type</th>\n",
       "      <th>predictionstring</th>\n",
       "      <th>text</th>\n",
       "      <th>start</th>\n",
       "      <th>essay_len</th>\n",
       "      <th>essay_words</th>\n",
       "      <th>discourse_start</th>\n",
       "      <th>discourse_end</th>\n",
       "      <th>gap_before</th>\n",
       "      <th>gap_length</th>\n",
       "      <th>gap_end_length</th>\n",
       "    </tr>\n",
       "  </thead>\n",
       "  <tbody>\n",
       "    <tr>\n",
       "      <th>0</th>\n",
       "      <td>00213CD75AC3</td>\n",
       "      <td>Lead</td>\n",
       "      <td>0 1 2 3 4 5 6 7 8 9 10 11 12 13 14 15 16 17 18...</td>\n",
       "      <td>Cars have been an issue to our community for a...</td>\n",
       "      <td>0</td>\n",
       "      <td>2209</td>\n",
       "      <td>381</td>\n",
       "      <td>0</td>\n",
       "      <td>123</td>\n",
       "      <td>True</td>\n",
       "      <td>0.00</td>\n",
       "      <td>2086</td>\n",
       "    </tr>\n",
       "    <tr>\n",
       "      <th>1</th>\n",
       "      <td>00213CD75AC3</td>\n",
       "      <td>Lead</td>\n",
       "      <td>24 25 26 27 28 29 30 31 32 33 34 35 36 37 38 3...</td>\n",
       "      <td>Cars have been an issue to our community for a...</td>\n",
       "      <td>24</td>\n",
       "      <td>2209</td>\n",
       "      <td>381</td>\n",
       "      <td>123</td>\n",
       "      <td>278</td>\n",
       "      <td>False</td>\n",
       "      <td>nan</td>\n",
       "      <td>1931</td>\n",
       "    </tr>\n",
       "    <tr>\n",
       "      <th>2</th>\n",
       "      <td>00213CD75AC3</td>\n",
       "      <td>Position</td>\n",
       "      <td>48 49 50 51 52 53 54 55 56 57 58 59 60 61 62</td>\n",
       "      <td>Cars have been an issue to our community for a...</td>\n",
       "      <td>48</td>\n",
       "      <td>2209</td>\n",
       "      <td>381</td>\n",
       "      <td>278</td>\n",
       "      <td>354</td>\n",
       "      <td>False</td>\n",
       "      <td>nan</td>\n",
       "      <td>1855</td>\n",
       "    </tr>\n",
       "    <tr>\n",
       "      <th>3</th>\n",
       "      <td>00213CD75AC3</td>\n",
       "      <td>Evidence</td>\n",
       "      <td>63 64 65 66 67 68 69 70 71 72 73 74 75 76 77 7...</td>\n",
       "      <td>Cars have been an issue to our community for a...</td>\n",
       "      <td>63</td>\n",
       "      <td>2209</td>\n",
       "      <td>381</td>\n",
       "      <td>354</td>\n",
       "      <td>596</td>\n",
       "      <td>False</td>\n",
       "      <td>nan</td>\n",
       "      <td>1613</td>\n",
       "    </tr>\n",
       "    <tr>\n",
       "      <th>4</th>\n",
       "      <td>00213CD75AC3</td>\n",
       "      <td>Evidence</td>\n",
       "      <td>102 103 104 105 106 107 108 109 110 111 112 11...</td>\n",
       "      <td>Cars have been an issue to our community for a...</td>\n",
       "      <td>102</td>\n",
       "      <td>2209</td>\n",
       "      <td>381</td>\n",
       "      <td>596</td>\n",
       "      <td>693</td>\n",
       "      <td>False</td>\n",
       "      <td>nan</td>\n",
       "      <td>1516</td>\n",
       "    </tr>\n",
       "  </tbody>\n",
       "</table>\n",
       "</div>"
      ],
      "text/plain": [
       "             id discourse_type  \\\n",
       "0  00213CD75AC3           Lead   \n",
       "1  00213CD75AC3           Lead   \n",
       "2  00213CD75AC3       Position   \n",
       "3  00213CD75AC3       Evidence   \n",
       "4  00213CD75AC3       Evidence   \n",
       "\n",
       "                                    predictionstring  \\\n",
       "0  0 1 2 3 4 5 6 7 8 9 10 11 12 13 14 15 16 17 18...   \n",
       "1  24 25 26 27 28 29 30 31 32 33 34 35 36 37 38 3...   \n",
       "2       48 49 50 51 52 53 54 55 56 57 58 59 60 61 62   \n",
       "3  63 64 65 66 67 68 69 70 71 72 73 74 75 76 77 7...   \n",
       "4  102 103 104 105 106 107 108 109 110 111 112 11...   \n",
       "\n",
       "                                                text  start  essay_len  \\\n",
       "0  Cars have been an issue to our community for a...      0       2209   \n",
       "1  Cars have been an issue to our community for a...     24       2209   \n",
       "2  Cars have been an issue to our community for a...     48       2209   \n",
       "3  Cars have been an issue to our community for a...     63       2209   \n",
       "4  Cars have been an issue to our community for a...    102       2209   \n",
       "\n",
       "   essay_words  discourse_start  discourse_end  gap_before  gap_length  \\\n",
       "0          381                0            123        True        0.00   \n",
       "1          381              123            278       False         nan   \n",
       "2          381              278            354       False         nan   \n",
       "3          381              354            596       False         nan   \n",
       "4          381              596            693       False         nan   \n",
       "\n",
       "   gap_end_length  \n",
       "0            2086  \n",
       "1            1931  \n",
       "2            1855  \n",
       "3            1613  \n",
       "4            1516  "
      ]
     },
     "execution_count": 112,
     "metadata": {},
     "output_type": "execute_result"
    }
   ],
   "source": [
    "df_pred = pd.merge(df_pred, df_gt[['id', 'text']].drop_duplicates(), on=['id'], how='left')\n",
    "df_pred = prepare(df_pred)\n",
    "df_pred_ = df_pred.copy()\n",
    "df_pred_['discourse_type'] = 'Claim'\n",
    "df_pred.head()"
   ]
  },
  {
   "cell_type": "code",
   "execution_count": 113,
   "metadata": {},
   "outputs": [
    {
     "data": {
      "text/plain": [
       "{'Claim': 0.6003748208576783,\n",
       " 'Claim/acc': 0.6746778989098117,\n",
       " 'Claim/recall': 0.5408142999006952,\n",
       " 'Evidence': 0.618530416602927,\n",
       " 'Evidence/acc': 0.5822213689161947,\n",
       " 'Evidence/recall': 0.6596693495758104,\n",
       " 'Position': 0.6650358773646445,\n",
       " 'Position/acc': 0.6685245901639344,\n",
       " 'Position/recall': 0.6615833874107723,\n",
       " 'Concluding Statement': 0.5818181818181818,\n",
       " 'Concluding Statement/acc': 0.6420198376916141,\n",
       " 'Concluding Statement/recall': 0.5319387373926037,\n",
       " 'Lead': 0.7600997506234414,\n",
       " 'Lead/acc': 0.710820895522388,\n",
       " 'Lead/recall': 0.8167202572347267,\n",
       " 'Counterclaim': 0.4175704989154013,\n",
       " 'Counterclaim/acc': 0.5347222222222222,\n",
       " 'Counterclaim/recall': 0.34252669039145905,\n",
       " 'Rebuttal': 0.33199033037872683,\n",
       " 'Rebuttal/acc': 0.4703196347031963,\n",
       " 'Rebuttal/recall': 0.25653798256537985,\n",
       " 'Overall': 0.5679171252230002}"
      ]
     },
     "execution_count": 113,
     "metadata": {},
     "output_type": "execute_result"
    }
   ],
   "source": [
    "res = {}\n",
    "f1s = []\n",
    "CLASSES = list(id2dis.values())[1:]\n",
    "for c in CLASSES:\n",
    "  ret = calc_f1(df_gt[df_gt['discourse_type'] == c],\n",
    "               df_pred[df_pred['discourse_type'] == c], return_dict=True)\n",
    "  res[c] = ret['f1']\n",
    "  res[f'{c}/acc'] = ret['acc']\n",
    "  res[f'{c}/recall'] = ret['recall']\n",
    "  f1s.append(ret['f1'])\n",
    "res['Overall'] = np.mean(f1s)\n",
    "res"
   ]
  },
  {
   "cell_type": "code",
   "execution_count": 114,
   "metadata": {},
   "outputs": [
    {
     "ename": "NameError",
     "evalue": "name 'stop' is not defined",
     "output_type": "error",
     "traceback": [
      "\u001b[0;31m---------------------------------------------------------------------------\u001b[0m",
      "\u001b[0;31mNameError\u001b[0m                                 Traceback (most recent call last)",
      "\u001b[0;32m<ipython-input-114-4f76a9dad686>\u001b[0m in \u001b[0;36m<module>\u001b[0;34m\u001b[0m\n\u001b[0;32m----> 1\u001b[0;31m \u001b[0mstop\u001b[0m\u001b[0;34m\u001b[0m\u001b[0;34m\u001b[0m\u001b[0m\n\u001b[0m",
      "\u001b[0;31mNameError\u001b[0m: name 'stop' is not defined"
     ]
    }
   ],
   "source": [
    "stop"
   ]
  },
  {
   "cell_type": "code",
   "execution_count": null,
   "metadata": {},
   "outputs": [],
   "source": [
    "!ls ../working/offline/7.0/pt.large.x1"
   ]
  },
  {
   "cell_type": "code",
   "execution_count": null,
   "metadata": {},
   "outputs": [],
   "source": [
    "eval_ids = list(eval_ids)\n",
    "f1s = []\n",
    "for id in tqdm(eval_ids):\n",
    "  f1s.append(calc_f1(df_gt[df_gt['id'] == id], df_pred[df_pred['id'] == id]))"
   ]
  },
  {
   "cell_type": "code",
   "execution_count": null,
   "metadata": {},
   "outputs": [],
   "source": [
    "df = pd.DataFrame(\n",
    "  {\n",
    "    'id': eval_ids,\n",
    "    'f1': f1s\n",
    "  }\n",
    ")\n",
    "df"
   ]
  },
  {
   "cell_type": "code",
   "execution_count": null,
   "metadata": {},
   "outputs": [],
   "source": [
    "df.describe()"
   ]
  },
  {
   "cell_type": "code",
   "execution_count": null,
   "metadata": {},
   "outputs": [],
   "source": [
    "df.sort_values(['f1'], ascending=True, inplace=True)"
   ]
  },
  {
   "cell_type": "code",
   "execution_count": null,
   "metadata": {},
   "outputs": [],
   "source": [
    "df.id.values"
   ]
  },
  {
   "cell_type": "code",
   "execution_count": null,
   "metadata": {},
   "outputs": [],
   "source": [
    "def visualize(essay):\n",
    "  f1 = calc_f1(\n",
    "      df_gt[df_gt['id'] == essay],\n",
    "      df_pred[df_pred['id'] == essay].rename({'discourse_type': 'class'},\n",
    "                                             axis=1))\n",
    "  f1_binary = calc_f1(\n",
    "      df_gt_[df_gt_['id'] == essay],\n",
    "      df_pred_[df_pred_['id'] == essay].rename({'discourse_type': 'class'},\n",
    "                                               axis=1))\n",
    "  print(essay, 'f1:', f1, 'f1_binary:', f1_binary)\n",
    "  visulize_df(df_gt, essay)\n",
    "  visulize_df(df_pred, essay)"
   ]
  },
  {
   "cell_type": "code",
   "execution_count": null,
   "metadata": {},
   "outputs": [],
   "source": [
    "visualize(df.id.values[0])"
   ]
  },
  {
   "cell_type": "code",
   "execution_count": null,
   "metadata": {},
   "outputs": [],
   "source": [
    "visualize(df.id.values[1])"
   ]
  },
  {
   "cell_type": "code",
   "execution_count": null,
   "metadata": {},
   "outputs": [],
   "source": [
    "visualize(df.id.values[2])"
   ]
  },
  {
   "cell_type": "code",
   "execution_count": null,
   "metadata": {},
   "outputs": [],
   "source": [
    "visualize(df.id.values[3])"
   ]
  },
  {
   "cell_type": "code",
   "execution_count": null,
   "metadata": {},
   "outputs": [],
   "source": [
    "visualize(df.id.values[5])"
   ]
  },
  {
   "cell_type": "code",
   "execution_count": null,
   "metadata": {},
   "outputs": [],
   "source": [
    "visualize(df.id.values[random.randint(0, len(eval_ids) - 1)])"
   ]
  },
  {
   "cell_type": "code",
   "execution_count": null,
   "metadata": {},
   "outputs": [],
   "source": [
    "visualize(df.id.values[-1])"
   ]
  },
  {
   "cell_type": "code",
   "execution_count": null,
   "metadata": {},
   "outputs": [],
   "source": [
    "visualize('193591CD2E86')"
   ]
  },
  {
   "cell_type": "code",
   "execution_count": null,
   "metadata": {},
   "outputs": [],
   "source": []
  },
  {
   "cell_type": "code",
   "execution_count": null,
   "metadata": {},
   "outputs": [],
   "source": []
  },
  {
   "cell_type": "code",
   "execution_count": null,
   "metadata": {},
   "outputs": [],
   "source": []
  }
 ],
 "metadata": {
  "interpreter": {
   "hash": "0ea47313c94383bf8f680c96aa3342ec5666a2ae764c7d77e71df945692dda57"
  },
  "kernelspec": {
   "display_name": "Python 3",
   "language": "python",
   "name": "python3"
  },
  "language_info": {
   "codemirror_mode": {
    "name": "ipython",
    "version": 3
   },
   "file_extension": ".py",
   "mimetype": "text/x-python",
   "name": "python",
   "nbconvert_exporter": "python",
   "pygments_lexer": "ipython3",
   "version": "3.6.13"
  }
 },
 "nbformat": 4,
 "nbformat_minor": 2
}
