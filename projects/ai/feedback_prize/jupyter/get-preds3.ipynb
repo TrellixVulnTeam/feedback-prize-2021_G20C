{
 "cells": [
  {
   "cell_type": "code",
   "execution_count": 1,
   "metadata": {},
   "outputs": [
    {
     "name": "stdout",
     "output_type": "stream",
     "text": [
      "No module named 'tensorflow.python.keras.layers.preprocessing'\n"
     ]
    }
   ],
   "source": [
    "import numpy as np\n",
    "import pandas as pd\n",
    "import random\n",
    "import itertools\n",
    "import matplotlib.pyplot as plt\n",
    "import plotly.express as px\n",
    "import glob\n",
    "import spacy\n",
    "import sklearn\n",
    "from collections import defaultdict, Counter\n",
    "from bisect import bisect_left\n",
    "import matplotlib.pyplot as plt\n",
    "import matplotlib\n",
    "import io\n",
    "import base64\n",
    "import pymp\n",
    "from multiprocessing import Pool, Manager, cpu_count\n",
    "from IPython.display import display_html\n",
    "from itertools import chain, cycle\n",
    "import lightgbm as lgb\n",
    "import sys\n",
    "sys.path.append('../../../../utils')\n",
    "sys.path.append('..')\n",
    "import gezi\n",
    "from gezi import tqdm\n",
    "from src.eval import *\n",
    "from src.util import *\n",
    "from src.get_preds import *\n",
    "from src import config\n",
    "from src.visualize import *\n",
    "from src.rewards import *\n",
    "pd.set_option('display.float_format', lambda x: '%.02f' % x)"
   ]
  },
  {
   "cell_type": "code",
   "execution_count": 2,
   "metadata": {},
   "outputs": [
    {
     "data": {
      "text/plain": [
       "'2.10.0'"
      ]
     },
     "execution_count": 2,
     "metadata": {},
     "output_type": "execute_result"
    }
   ],
   "source": [
    "import optuna\n",
    "from optuna import Trial\n",
    "\n",
    "optuna.__version__"
   ]
  },
  {
   "cell_type": "code",
   "execution_count": 3,
   "metadata": {},
   "outputs": [],
   "source": [
    "root = '../input/feedback-prize-2021'"
   ]
  },
  {
   "cell_type": "code",
   "execution_count": 4,
   "metadata": {},
   "outputs": [],
   "source": [
    "df = pd.read_feather(f'{root}/train_en.fea')"
   ]
  },
  {
   "cell_type": "code",
   "execution_count": 5,
   "metadata": {},
   "outputs": [
    {
     "data": {
      "text/plain": [
       "{'Nothing': 223,\n",
       " 'Claim': 67,\n",
       " 'Evidence': 417,\n",
       " 'Position': 74,\n",
       " 'Concluding Statement': 245,\n",
       " 'Lead': 274,\n",
       " 'Counterclaim': 142,\n",
       " 'Rebuttal': 142}"
      ]
     },
     "execution_count": 5,
     "metadata": {},
     "output_type": "execute_result"
    }
   ],
   "source": [
    "MAX_SEQ_LEN = {}\n",
    "df['len'] = df.end - df.start\n",
    "max_lens = df.groupby('para_type')['len'].quantile(.999)\n",
    "for i in range(len(ALL_CLASSES)):\n",
    "  MAX_SEQ_LEN[id2dis[i]] = int(max_lens[i])\n",
    "MAX_SEQ_LEN"
   ]
  },
  {
   "cell_type": "code",
   "execution_count": 6,
   "metadata": {},
   "outputs": [
    {
     "data": {
      "text/plain": [
       "{'Nothing': 1,\n",
       " 'Claim': 1,\n",
       " 'Evidence': 6,\n",
       " 'Position': 2,\n",
       " 'Concluding Statement': 5,\n",
       " 'Lead': 4,\n",
       " 'Counterclaim': 3,\n",
       " 'Rebuttal': 3}"
      ]
     },
     "execution_count": 6,
     "metadata": {},
     "output_type": "execute_result"
    }
   ],
   "source": [
    "MIN_SEQ_LEN = {}\n",
    "df['len'] = df.end - df.start\n",
    "min_lens = df.groupby('para_type')['len'].quantile(.001)\n",
    "for i in range(len(ALL_CLASSES)):\n",
    "  MIN_SEQ_LEN[id2dis[i]] = int(min_lens[i])\n",
    "MIN_SEQ_LEN"
   ]
  },
  {
   "cell_type": "code",
   "execution_count": 7,
   "metadata": {},
   "outputs": [],
   "source": [
    "MAX_SEQ_LEN = {'Nothing': 223,\n",
    " 'Claim': 67,\n",
    " 'Evidence': 417,\n",
    " 'Position': 74,\n",
    " 'Concluding Statement': 245,\n",
    " 'Lead': 274,\n",
    " 'Counterclaim': 142,\n",
    " 'Rebuttal': 142}"
   ]
  },
  {
   "cell_type": "code",
   "execution_count": 8,
   "metadata": {},
   "outputs": [],
   "source": [
    "MIN_SEQ_lens = {'Nothing': 1,\n",
    " 'Claim': 1,\n",
    " 'Evidence': 6,\n",
    " 'Position': 2,\n",
    " 'Concluding Statement': 5,\n",
    " 'Lead': 4,\n",
    " 'Counterclaim': 3,\n",
    " 'Rebuttal': 3}"
   ]
  },
  {
   "cell_type": "code",
   "execution_count": 9,
   "metadata": {},
   "outputs": [],
   "source": [
    "d = pd.read_feather(f'{root}/para_label.fea')"
   ]
  },
  {
   "cell_type": "code",
   "execution_count": 10,
   "metadata": {},
   "outputs": [
    {
     "data": {
      "application/vnd.jupyter.widget-view+json": {
       "model_id": "1ff18145a7f24b37a902a6b234f58614",
       "version_major": 2,
       "version_minor": 0
      },
      "text/plain": [
       "  0%|          | 0/15594 [00:00<?, ?it/s]"
      ]
     },
     "metadata": {},
     "output_type": "display_data"
    }
   ],
   "source": [
    "gts = {}\n",
    "for row in tqdm(d.itertuples(), total=len(d)):\n",
    "  gts[row.id] = decode_label_all(row.start, row.para_types)"
   ]
  },
  {
   "cell_type": "code",
   "execution_count": 11,
   "metadata": {},
   "outputs": [
    {
     "data": {
      "application/vnd.jupyter.widget-view+json": {
       "model_id": "e522821e5b6a44bfb24ebdfad402719e",
       "version_major": 2,
       "version_minor": 0
      },
      "text/plain": [
       "  0%|          | 0/175160 [00:00<?, ?it/s]"
      ]
     },
     "metadata": {},
     "output_type": "display_data"
    }
   ],
   "source": [
    "folds = {}\n",
    "for row in tqdm(df.itertuples(), total=len(df)):\n",
    "  folds[row.id] = row.kfold"
   ]
  },
  {
   "cell_type": "code",
   "execution_count": 12,
   "metadata": {},
   "outputs": [],
   "source": [
    "np.random.seed(12345)"
   ]
  },
  {
   "cell_type": "code",
   "execution_count": 13,
   "metadata": {},
   "outputs": [
    {
     "data": {
      "text/plain": [
       "{0: [[0, 3]],\n",
       " 1: [[15, 36]],\n",
       " 2: [[36, 177]],\n",
       " 3: [[3, 15]],\n",
       " 4: [[177, 212]],\n",
       " 5: [],\n",
       " 6: [],\n",
       " 7: []}"
      ]
     },
     "execution_count": 13,
     "metadata": {},
     "output_type": "execute_result"
    }
   ],
   "source": [
    "gts['A8445CABFECE']"
   ]
  },
  {
   "cell_type": "code",
   "execution_count": 14,
   "metadata": {},
   "outputs": [],
   "source": [
    "root = '../working/offline/44/'"
   ]
  },
  {
   "cell_type": "code",
   "execution_count": 15,
   "metadata": {},
   "outputs": [],
   "source": [
    "# mn = 'mui.deberta-v3.rl.s1'\n",
    "# mn = 'mui.electra.rl.s1'\n",
    "# mn = 'mui.4'\n",
    "# mn = 'large.longformer.start.len1280.seq_encoder'\n",
    "# root = f'../working/offline/44/0/{mn}'"
   ]
  },
  {
   "cell_type": "code",
   "execution_count": 16,
   "metadata": {},
   "outputs": [],
   "source": [
    "info = gezi.load(f'{root}/valid3.pkl')"
   ]
  },
  {
   "cell_type": "code",
   "execution_count": 17,
   "metadata": {},
   "outputs": [],
   "source": [
    "df_gt = pd.read_csv(f'{root}/valid_gt.csv')"
   ]
  },
  {
   "cell_type": "code",
   "execution_count": 18,
   "metadata": {},
   "outputs": [],
   "source": [
    "proba_thresh = {\n",
    "    \"Lead\": 0.99,\n",
    "    \"Position\": 0.85,\n",
    "    \"Evidence\": 0.99,\n",
    "    \"Claim\": 0.4,\n",
    "    \"Concluding Statement\": 0.99,\n",
    "    \"Counterclaim\": 0.5,\n",
    "    \"Rebuttal\": 0.55,\n",
    "    \"Nothing\": 0.5,\n",
    "}\n",
    "P = {\n",
    "  'sep_prob': 0.5,\n",
    "  'sep_prob2': 0.3,\n",
    "  'sep_prob3': 0.3,\n",
    "  'pre_prob': 0.5,\n",
    "  'after_prob': 0.5,\n",
    "  'sep_prob4': 0.55,\n",
    "  'sep_prob5': 0.8,\n",
    "  'link_len': 26,\n",
    "}\n",
    "def get_pred_bystart(x, post_adjust=True, pred_info=None):\n",
    "  MIN_LEN = 2\n",
    "  MIN_LEN2 = 2\n",
    "  NUM_CLASSES = len(id2dis)\n",
    "  pred = x['preds']\n",
    "  total = len(pred)\n",
    "  # by prob not logit\n",
    "  probs = x['probs'] \n",
    "  # probs = x['pred']\n",
    "  start_prob = x['start_probs'] if 'start_probs' in x else None\n",
    "  # ic((start_prob[:,1] > start_prob[:,0]).astype(int).sum())\n",
    "  pre_type = None\n",
    "  # predictionstring list\n",
    "  preds_list = []\n",
    "  # store each pred word_id for one precitionstring\n",
    "  preds = [] \n",
    "  pre_scores = np.zeros_like(probs[0])\n",
    "  \n",
    "  types = []\n",
    "    \n",
    "  pre_probs = None\n",
    "  for i in range(total):    \n",
    "   \n",
    "    is_sep = False\n",
    "    if i > 0:\n",
    "      pre_cls = np.argmax(pre_scores)\n",
    "      pre_prob = pre_probs[pre_cls]\n",
    "      pre_type = id2dis[pre_cls]\n",
    "      now_cls = pred[i]\n",
    "      now_type = id2dis[now_cls]\n",
    "      now_prob = probs[i][now_cls]\n",
    "      \n",
    "      if start_prob[i].sum() == 0:\n",
    "        is_sep = True\n",
    "        \n",
    "      if start_prob is None:\n",
    "        is_sep = pred[i] % 2 == 1\n",
    "      else:\n",
    "        is_sep = start_prob[i][1] >= P['sep_prob']\n",
    "        \n",
    "        if post_adjust and FLAGS.sep_rule:\n",
    "          if i > 0:\n",
    "            # 注意目前最高线上版本依然是按照第一个model取pred而不是ensemble的结果取pred信息，另外有adjacent rule待验证\n",
    "            if pred[i] != pred[i - 1]:\n",
    "              if start_prob[i][1] > P['sep_prob2'] and (pre_type in  ['Rebuttal', 'Counterclaim']):\n",
    "                  is_sep = True\n",
    "      \n",
    "              # TODO this rule should be optimized...\n",
    "              # if start_prob[i][1] > 0.45:\n",
    "              #   # if pre_prob > proba_thresh[pre_type] and len(preds) >= min_thresh[pre_type]:\n",
    "              #   if len(preds) >= min_thresh[pre_type]:\n",
    "              #     is_sep = True\n",
    "              \n",
    "              \n",
    "              if start_prob[i][1] > P['sep_prob3']:\n",
    "                # if pre_prob > proba_thresh[pre_type] and len(preds) >= min_thresh[pre_type]:\n",
    "                if len(preds) >= min_thresh[pre_type]:\n",
    "                  is_sep = True\n",
    "                                 \n",
    "              if FLAGS.adjacent_rule:\n",
    "                if pre_probs[pred[i - 1]] > P['pre_prob'] and probs[i][pred[i]] > P['after_prob'] and len(preds) >= min_thresh[id2dis[pred[i - 1]]]:\n",
    "                  is_sep = True\n",
    "            else:\n",
    "              if pre_type == 'Evidence':\n",
    "                if start_prob[i][1] < P['sep_prob4']:\n",
    "                  is_sep = False\n",
    "                  \n",
    "              if len(preds) <= P['link_len'] and start_prob[i][1] < P['sep_prob5']:\n",
    "                is_sep = False\n",
    "                  \n",
    "    if is_sep:\n",
    "      if preds:  \n",
    "        if pre_type != 'Nothing':\n",
    "          if post_adjust:\n",
    "            if len(preds) < MIN_LEN:\n",
    "              # 低置信度的干脆放弃召回 更安全 pass not continue\n",
    "              pass\n",
    "            else:\n",
    "              if pre_probs.max() > proba_thresh[pre_type]:\n",
    "                preds_list.append(' '.join(preds))\n",
    "                types.append(pre_type)\n",
    "              # else:\n",
    "              #   top_classes = np.argsort(-pre_probs,axis=0)[:2]\n",
    "              #   pre_cls = top_classes[1]\n",
    "              #   pre_type = id2dis[pre_cls]\n",
    "              #   if pre_probs[pre_cls] > proba_thresh[pre_type]:\n",
    "              #     preds_list.append(' '.join(preds))\n",
    "              #     types.append(pre_type)\n",
    "          else:\n",
    "            preds_list.append(' '.join(preds))\n",
    "            types.append(pre_type)\n",
    "      \n",
    "        preds = []\n",
    "        pre_scores = np.zeros_like(probs[0])\n",
    "              \n",
    "    pre_scores += probs[i] \n",
    "    pre_probs = gezi.softmax(pre_scores)\n",
    "    # pre_probs = pre_scores / len(preds)\n",
    "    preds.append(str(i))\n",
    "    \n",
    "  if preds:\n",
    "    pre_type = id2dis[np.argmax(pre_scores)]\n",
    "      \n",
    "    # 结尾应该更长\n",
    "    if pre_type != 'Nothing':\n",
    "      if post_adjust:\n",
    "        if len(preds) >= MIN_LEN2:\n",
    "          if pre_probs.max() > proba_thresh[pre_type]:\n",
    "            preds_list.append(' '.join(preds))\n",
    "            types.append(pre_type)\n",
    "        # else:\n",
    "        #   top_classes = np.argsort(-pre_probs,axis=0)[:2]\n",
    "        #   pre_cls = top_classes[1]\n",
    "        #   pre_type = id2dis[pre_cls]\n",
    "        #   if pre_probs[pre_cls] > proba_thresh[pre_type]:\n",
    "        #     preds_list.append(' '.join(preds))\n",
    "        #     types.append(pre_type)\n",
    "      else:\n",
    "        preds_list.append(' '.join(preds))\n",
    "        types.append(pre_type)\n",
    "  return types, preds_list"
   ]
  },
  {
   "cell_type": "code",
   "execution_count": 19,
   "metadata": {},
   "outputs": [],
   "source": [
    "def get_preds_(x, post_adjust=True, selected_ids=None, fold=None, folds=5):  \n",
    "  # ic(post_adjust)\n",
    "  pred_fn = None\n",
    "  if FLAGS.token2word:\n",
    "    if FLAGS.pred_method == 'end':\n",
    "      pred_fn = get_pred_byend\n",
    "    elif FLAGS.pred_method == 'se':\n",
    "      pred_fn = get_pred_byse\n",
    "    elif FLAGS.pred_method == 'start':\n",
    "      pred_fn = get_pred_bystart\n",
    "    else:\n",
    "      raise ValueError(FLAGS.pred_method)\n",
    "  else:\n",
    "    if FLAGS.pred_method == 'end':\n",
    "      pred_fn = get_pred_byend2\n",
    "    elif FLAGS.pred_method == 'se':\n",
    "      pred_fn = get_pred_byse2\n",
    "    elif FLAGS.pred_method == 'start':\n",
    "      pred_fn = get_pred_bystart2\n",
    "    else:\n",
    "      raise ValueError(FLAGS.pred_method)\n",
    "  # ic(pred_fn)\n",
    "\n",
    "  total = len(x['id'])\n",
    "  # with gezi.Timer('get_preds'):\n",
    "  # ic(FLAGS.openmp)\n",
    "  ids_list, types_list, preds_list = [], [], []\n",
    "  for i in tqdm(range(total), desc='get_preds', leave=False):\n",
    "    id = x['id'][i]\n",
    "    if selected_ids is not None and id not in selected_ids:\n",
    "      continue\n",
    "    if fold is not None:\n",
    "      if i % folds != fold:\n",
    "        continue\n",
    "    x_ = {}\n",
    "    for key in x: \n",
    "      x_[key] = x[key][i]\n",
    "    types, preds = pred_fn(x_, post_adjust=post_adjust)\n",
    "    ids_list.extend([id] * len(types))\n",
    "    types_list.extend(types)\n",
    "    preds_list.extend(preds)\n",
    " \n",
    "  m = {\n",
    "    'id': ids_list,\n",
    "    'class': types_list,\n",
    "    'predictionstring': preds_list\n",
    "  }\n",
    "\n",
    "  df = pd.DataFrame(m)\n",
    "    \n",
    "  return df\n",
    "\n",
    "def get_preds(x, post_adjust=True, selected_ids=None, folds=5):  \n",
    "  if selected_ids is not None:\n",
    "    return get_preds_(x, post_adjust, selected_ids)\n",
    "  else:\n",
    "    try:\n",
    "      dfs = Manager().dict()\n",
    "      with pymp.Parallel(folds) as p:\n",
    "        for i in p.range(folds):\n",
    "          dfs[i] = get_preds_(x, post_adjust, fold=i, folds=folds)\n",
    "      return pd.concat(dfs.values())\n",
    "    except Exception:\n",
    "      return get_preds_(x, post_adjust)"
   ]
  },
  {
   "cell_type": "code",
   "execution_count": 20,
   "metadata": {},
   "outputs": [],
   "source": [
    "gezi.init_flags()"
   ]
  },
  {
   "cell_type": "code",
   "execution_count": 21,
   "metadata": {},
   "outputs": [
    {
     "name": "stderr",
     "output_type": "stream",
     "text": [
      "\u001b[32m[I 2022-02-13 11:20:31,577]\u001b[0m A new study created in memory with name: no-name-7126c0d2-3553-44f5-a8b3-8d54815e88db\u001b[0m\n"
     ]
    },
    {
     "data": {
      "application/vnd.jupyter.widget-view+json": {
       "model_id": "013350082ea9446bb5a27cfcf14ae0f2",
       "version_major": 2,
       "version_minor": 0
      },
      "text/plain": [
       "get_preds:   0%|          | 0/15594 [00:00<?, ?it/s]"
      ]
     },
     "metadata": {},
     "output_type": "display_data"
    },
    {
     "data": {
      "application/vnd.jupyter.widget-view+json": {
       "model_id": "164c36676c79464b900748acbcb4f77a",
       "version_major": 2,
       "version_minor": 0
      },
      "text/plain": [
       "calc_f1:   0%|          | 0/7 [00:00<?, ?it/s]"
      ]
     },
     "metadata": {},
     "output_type": "display_data"
    },
    {
     "name": "stderr",
     "output_type": "stream",
     "text": [
      "\u001b[32m[I 2022-02-13 11:21:11,054]\u001b[0m Trial 0 finished with value: 0.6983739822483165 and parameters: {'sep_prob': 0.9788090481303899, 'sep_prob2': 0.40640243412394195, 'sep_prob3': 0.26393042971569003, 'pre_prob': 0.374689644420091, 'after_prob': 0.6287910908130103, 'sep_prob4': 0.5549932599400673, 'sep_prob5': 0.621512204326915, 'link_len': 13}. Best is trial 0 with value: 0.6983739822483165.\u001b[0m\n"
     ]
    },
    {
     "data": {
      "application/vnd.jupyter.widget-view+json": {
       "model_id": "104265ff9eff4737bf19e2b6ca563f89",
       "version_major": 2,
       "version_minor": 0
      },
      "text/plain": [
       "get_preds:   0%|          | 0/15594 [00:00<?, ?it/s]"
      ]
     },
     "metadata": {},
     "output_type": "display_data"
    },
    {
     "data": {
      "application/vnd.jupyter.widget-view+json": {
       "model_id": "4c79645bda8346efad1eff5ce5d347f9",
       "version_major": 2,
       "version_minor": 0
      },
      "text/plain": [
       "calc_f1:   0%|          | 0/7 [00:00<?, ?it/s]"
      ]
     },
     "metadata": {},
     "output_type": "display_data"
    },
    {
     "name": "stderr",
     "output_type": "stream",
     "text": [
      "\u001b[32m[I 2022-02-13 11:21:32,707]\u001b[0m Trial 1 finished with value: 0.7067432810335309 and parameters: {'sep_prob': 0.6688447527062967, 'sep_prob2': 0.10192492193724167, 'sep_prob3': 0.6302975047675098, 'pre_prob': 0.6722614543543561, 'after_prob': 0.5965135466330711, 'sep_prob4': 0.6943148420846265, 'sep_prob5': 0.7524874902409544, 'link_len': 18}. Best is trial 1 with value: 0.7067432810335309.\u001b[0m\n"
     ]
    },
    {
     "data": {
      "application/vnd.jupyter.widget-view+json": {
       "model_id": "d71968f7c7d74d689cb840deac1f17ed",
       "version_major": 2,
       "version_minor": 0
      },
      "text/plain": [
       "get_preds:   0%|          | 0/15594 [00:00<?, ?it/s]"
      ]
     },
     "metadata": {},
     "output_type": "display_data"
    },
    {
     "data": {
      "application/vnd.jupyter.widget-view+json": {
       "model_id": "9dd81183be1944a49dd8822932ff7104",
       "version_major": 2,
       "version_minor": 0
      },
      "text/plain": [
       "calc_f1:   0%|          | 0/7 [00:00<?, ?it/s]"
      ]
     },
     "metadata": {},
     "output_type": "display_data"
    },
    {
     "name": "stderr",
     "output_type": "stream",
     "text": [
      "\u001b[32m[I 2022-02-13 11:22:03,790]\u001b[0m Trial 2 finished with value: 0.7052059167106737 and parameters: {'sep_prob': 0.6159862871747368, 'sep_prob2': 0.5197573775125004, 'sep_prob3': 0.24545454059035188, 'pre_prob': 0.6694180015775631, 'after_prob': 0.7663667061279472, 'sep_prob4': 0.9663725466437957, 'sep_prob5': 0.26176947081713875, 'link_len': 30}. Best is trial 1 with value: 0.7067432810335309.\u001b[0m\n"
     ]
    },
    {
     "data": {
      "application/vnd.jupyter.widget-view+json": {
       "model_id": "1c0ca89456934cd384805acbb9ed0a08",
       "version_major": 2,
       "version_minor": 0
      },
      "text/plain": [
       "get_preds:   0%|          | 0/15594 [00:00<?, ?it/s]"
      ]
     },
     "metadata": {},
     "output_type": "display_data"
    },
    {
     "data": {
      "application/vnd.jupyter.widget-view+json": {
       "model_id": "74d09baa6713474899af222df10582f7",
       "version_major": 2,
       "version_minor": 0
      },
      "text/plain": [
       "calc_f1:   0%|          | 0/7 [00:00<?, ?it/s]"
      ]
     },
     "metadata": {},
     "output_type": "display_data"
    },
    {
     "name": "stderr",
     "output_type": "stream",
     "text": [
      "\u001b[32m[I 2022-02-13 11:22:20,157]\u001b[0m Trial 3 finished with value: 0.7058222314385967 and parameters: {'sep_prob': 0.5839354148795295, 'sep_prob2': 0.4216510324499366, 'sep_prob3': 0.2970176058495273, 'pre_prob': 0.7175728643396122, 'after_prob': 0.1900286704613534, 'sep_prob4': 0.5878650813162931, 'sep_prob5': 0.6218655504668803, 'link_len': 27}. Best is trial 1 with value: 0.7067432810335309.\u001b[0m\n"
     ]
    },
    {
     "data": {
      "application/vnd.jupyter.widget-view+json": {
       "model_id": "3a78e343c31647c6863368de0030def6",
       "version_major": 2,
       "version_minor": 0
      },
      "text/plain": [
       "get_preds:   0%|          | 0/15594 [00:00<?, ?it/s]"
      ]
     },
     "metadata": {},
     "output_type": "display_data"
    },
    {
     "data": {
      "application/vnd.jupyter.widget-view+json": {
       "model_id": "e71f597b43744057b21ee87c703a2f00",
       "version_major": 2,
       "version_minor": 0
      },
      "text/plain": [
       "calc_f1:   0%|          | 0/7 [00:00<?, ?it/s]"
      ]
     },
     "metadata": {},
     "output_type": "display_data"
    },
    {
     "name": "stderr",
     "output_type": "stream",
     "text": [
      "\u001b[32m[I 2022-02-13 11:22:36,130]\u001b[0m Trial 4 finished with value: 0.7065869751559045 and parameters: {'sep_prob': 0.5390979128430661, 'sep_prob2': 0.8143899806395947, 'sep_prob3': 0.4486035662812564, 'pre_prob': 0.4651749443182164, 'after_prob': 0.8052197353302534, 'sep_prob4': 0.43892179604761394, 'sep_prob5': 0.12270929854792634, 'link_len': 19}. Best is trial 1 with value: 0.7067432810335309.\u001b[0m\n"
     ]
    },
    {
     "data": {
      "application/vnd.jupyter.widget-view+json": {
       "model_id": "a6b58f997ae247fe82b0fdcbbda964c4",
       "version_major": 2,
       "version_minor": 0
      },
      "text/plain": [
       "get_preds:   0%|          | 0/15594 [00:00<?, ?it/s]"
      ]
     },
     "metadata": {},
     "output_type": "display_data"
    },
    {
     "data": {
      "application/vnd.jupyter.widget-view+json": {
       "model_id": "30909278d3044dc9b477dad7a917b03e",
       "version_major": 2,
       "version_minor": 0
      },
      "text/plain": [
       "calc_f1:   0%|          | 0/7 [00:00<?, ?it/s]"
      ]
     },
     "metadata": {},
     "output_type": "display_data"
    },
    {
     "name": "stderr",
     "output_type": "stream",
     "text": [
      "\u001b[32m[I 2022-02-13 11:22:52,469]\u001b[0m Trial 5 finished with value: 0.7056381445698591 and parameters: {'sep_prob': 0.3058283044017941, 'sep_prob2': 0.7662075052761517, 'sep_prob3': 0.38387257595853974, 'pre_prob': 0.4144422243692615, 'after_prob': 0.6540095350661489, 'sep_prob4': 0.6914734270157659, 'sep_prob5': 0.45392145554926544, 'link_len': 37}. Best is trial 1 with value: 0.7067432810335309.\u001b[0m\n"
     ]
    },
    {
     "data": {
      "application/vnd.jupyter.widget-view+json": {
       "model_id": "fc09e9d392344bc6a9367331fc166317",
       "version_major": 2,
       "version_minor": 0
      },
      "text/plain": [
       "get_preds:   0%|          | 0/15594 [00:00<?, ?it/s]"
      ]
     },
     "metadata": {},
     "output_type": "display_data"
    },
    {
     "data": {
      "application/vnd.jupyter.widget-view+json": {
       "model_id": "30255efd39ad4f839980b1d46339040d",
       "version_major": 2,
       "version_minor": 0
      },
      "text/plain": [
       "calc_f1:   0%|          | 0/7 [00:00<?, ?it/s]"
      ]
     },
     "metadata": {},
     "output_type": "display_data"
    },
    {
     "name": "stderr",
     "output_type": "stream",
     "text": [
      "\u001b[32m[I 2022-02-13 11:23:11,495]\u001b[0m Trial 6 finished with value: 0.7036774984337891 and parameters: {'sep_prob': 0.920403159091144, 'sep_prob2': 0.7963180179453326, 'sep_prob3': 0.1522930708495377, 'pre_prob': 0.8257341074694713, 'after_prob': 0.960051419321813, 'sep_prob4': 0.9695635582969329, 'sep_prob5': 0.7653528421869265, 'link_len': 19}. Best is trial 1 with value: 0.7067432810335309.\u001b[0m\n"
     ]
    },
    {
     "data": {
      "application/vnd.jupyter.widget-view+json": {
       "model_id": "27365c3210c84f85a2f2c10a265d0048",
       "version_major": 2,
       "version_minor": 0
      },
      "text/plain": [
       "get_preds:   0%|          | 0/15594 [00:00<?, ?it/s]"
      ]
     },
     "metadata": {},
     "output_type": "display_data"
    },
    {
     "data": {
      "application/vnd.jupyter.widget-view+json": {
       "model_id": "5619fa120ff6469d8c832d3e6c3a180e",
       "version_major": 2,
       "version_minor": 0
      },
      "text/plain": [
       "calc_f1:   0%|          | 0/7 [00:00<?, ?it/s]"
      ]
     },
     "metadata": {},
     "output_type": "display_data"
    },
    {
     "name": "stderr",
     "output_type": "stream",
     "text": [
      "\u001b[32m[I 2022-02-13 11:23:31,829]\u001b[0m Trial 7 finished with value: 0.670502284452278 and parameters: {'sep_prob': 0.11398500547828438, 'sep_prob2': 0.25742054192308694, 'sep_prob3': 0.7639993756407522, 'pre_prob': 0.546693198958565, 'after_prob': 0.02014240893940189, 'sep_prob4': 0.5003947613022394, 'sep_prob5': 0.5072588436457348, 'link_len': 12}. Best is trial 1 with value: 0.7067432810335309.\u001b[0m\n"
     ]
    },
    {
     "data": {
      "application/vnd.jupyter.widget-view+json": {
       "model_id": "af7b7cdda2fb4078be51ee3f7f4b2f05",
       "version_major": 2,
       "version_minor": 0
      },
      "text/plain": [
       "get_preds:   0%|          | 0/15594 [00:00<?, ?it/s]"
      ]
     },
     "metadata": {},
     "output_type": "display_data"
    },
    {
     "data": {
      "application/vnd.jupyter.widget-view+json": {
       "model_id": "f28646edb59d4071920cc44c298e23c4",
       "version_major": 2,
       "version_minor": 0
      },
      "text/plain": [
       "calc_f1:   0%|          | 0/7 [00:00<?, ?it/s]"
      ]
     },
     "metadata": {},
     "output_type": "display_data"
    },
    {
     "name": "stderr",
     "output_type": "stream",
     "text": [
      "\u001b[32m[I 2022-02-13 11:23:47,624]\u001b[0m Trial 8 finished with value: 0.7075232362584647 and parameters: {'sep_prob': 0.6392043934962129, 'sep_prob2': 0.08252756018622953, 'sep_prob3': 0.46093985902401746, 'pre_prob': 0.8276733480231011, 'after_prob': 0.9289723883187766, 'sep_prob4': 0.6004377155450668, 'sep_prob5': 0.0014016628677330223, 'link_len': 38}. Best is trial 8 with value: 0.7075232362584647.\u001b[0m\n"
     ]
    },
    {
     "data": {
      "application/vnd.jupyter.widget-view+json": {
       "model_id": "be0c6625a55745409bbb932930793ee2",
       "version_major": 2,
       "version_minor": 0
      },
      "text/plain": [
       "get_preds:   0%|          | 0/15594 [00:00<?, ?it/s]"
      ]
     },
     "metadata": {},
     "output_type": "display_data"
    },
    {
     "data": {
      "application/vnd.jupyter.widget-view+json": {
       "model_id": "3a528fdbc5a14db0bb20426fc8c67cdf",
       "version_major": 2,
       "version_minor": 0
      },
      "text/plain": [
       "calc_f1:   0%|          | 0/7 [00:00<?, ?it/s]"
      ]
     },
     "metadata": {},
     "output_type": "display_data"
    },
    {
     "name": "stderr",
     "output_type": "stream",
     "text": [
      "\u001b[32m[I 2022-02-13 11:24:04,379]\u001b[0m Trial 9 finished with value: 0.6921813940340739 and parameters: {'sep_prob': 0.9889159188507389, 'sep_prob2': 0.5532519011603995, 'sep_prob3': 0.1218891224417259, 'pre_prob': 0.2948788756693942, 'after_prob': 0.43432912153370606, 'sep_prob4': 0.36211388686481694, 'sep_prob5': 0.44400716562618925, 'link_len': 29}. Best is trial 8 with value: 0.7075232362584647.\u001b[0m\n"
     ]
    },
    {
     "data": {
      "application/vnd.jupyter.widget-view+json": {
       "model_id": "dd7cf124cd4a4383813aad27d21ea277",
       "version_major": 2,
       "version_minor": 0
      },
      "text/plain": [
       "get_preds:   0%|          | 0/15594 [00:00<?, ?it/s]"
      ]
     },
     "metadata": {},
     "output_type": "display_data"
    },
    {
     "data": {
      "application/vnd.jupyter.widget-view+json": {
       "model_id": "c52f9f7802b446edbaaecfc6e9199148",
       "version_major": 2,
       "version_minor": 0
      },
      "text/plain": [
       "calc_f1:   0%|          | 0/7 [00:00<?, ?it/s]"
      ]
     },
     "metadata": {},
     "output_type": "display_data"
    },
    {
     "name": "stderr",
     "output_type": "stream",
     "text": [
      "\u001b[32m[I 2022-02-13 11:24:20,617]\u001b[0m Trial 10 finished with value: 0.6981665450349236 and parameters: {'sep_prob': 0.333059622866986, 'sep_prob2': 0.012688167434132078, 'sep_prob3': 0.9046540366490823, 'pre_prob': 0.9702004598184459, 'after_prob': 0.9713442741323502, 'sep_prob4': 0.03176261302711503, 'sep_prob5': 0.03819120369496921, 'link_len': 39}. Best is trial 8 with value: 0.7075232362584647.\u001b[0m\n"
     ]
    },
    {
     "data": {
      "application/vnd.jupyter.widget-view+json": {
       "model_id": "8e0ee1ac3d5645ff90c955a3a107c58c",
       "version_major": 2,
       "version_minor": 0
      },
      "text/plain": [
       "get_preds:   0%|          | 0/15594 [00:00<?, ?it/s]"
      ]
     },
     "metadata": {},
     "output_type": "display_data"
    },
    {
     "data": {
      "application/vnd.jupyter.widget-view+json": {
       "model_id": "4017a0fb874e4415afd32739f86e05a4",
       "version_major": 2,
       "version_minor": 0
      },
      "text/plain": [
       "calc_f1:   0%|          | 0/7 [00:00<?, ?it/s]"
      ]
     },
     "metadata": {},
     "output_type": "display_data"
    },
    {
     "name": "stderr",
     "output_type": "stream",
     "text": [
      "\u001b[32m[I 2022-02-13 11:24:36,792]\u001b[0m Trial 11 finished with value: 0.7014619667907508 and parameters: {'sep_prob': 0.7405576194294918, 'sep_prob2': 0.00566708779154565, 'sep_prob3': 0.6284809961087172, 'pre_prob': 0.08703452401334238, 'after_prob': 0.43585153370937274, 'sep_prob4': 0.8189526207025835, 'sep_prob5': 0.9574583688254245, 'link_len': 20}. Best is trial 8 with value: 0.7075232362584647.\u001b[0m\n"
     ]
    },
    {
     "data": {
      "application/vnd.jupyter.widget-view+json": {
       "model_id": "45d20e94d941467b82ec2f0a96c4dc17",
       "version_major": 2,
       "version_minor": 0
      },
      "text/plain": [
       "get_preds:   0%|          | 0/15594 [00:00<?, ?it/s]"
      ]
     },
     "metadata": {},
     "output_type": "display_data"
    },
    {
     "data": {
      "application/vnd.jupyter.widget-view+json": {
       "model_id": "feec791a2ea94093b06824bb8327661e",
       "version_major": 2,
       "version_minor": 0
      },
      "text/plain": [
       "calc_f1:   0%|          | 0/7 [00:00<?, ?it/s]"
      ]
     },
     "metadata": {},
     "output_type": "display_data"
    },
    {
     "name": "stderr",
     "output_type": "stream",
     "text": [
      "\u001b[32m[I 2022-02-13 11:24:52,420]\u001b[0m Trial 12 finished with value: 0.7077916962879935 and parameters: {'sep_prob': 0.7344153297902094, 'sep_prob2': 0.19823842369203248, 'sep_prob3': 0.5846212703428444, 'pre_prob': 0.9955226946260969, 'after_prob': 0.33499245499943536, 'sep_prob4': 0.2562512790895042, 'sep_prob5': 0.9457032156841001, 'link_len': 35}. Best is trial 12 with value: 0.7077916962879935.\u001b[0m\n"
     ]
    },
    {
     "data": {
      "application/vnd.jupyter.widget-view+json": {
       "model_id": "971e50731ed6440a8a7f52afdd5b5f9d",
       "version_major": 2,
       "version_minor": 0
      },
      "text/plain": [
       "get_preds:   0%|          | 0/15594 [00:00<?, ?it/s]"
      ]
     },
     "metadata": {},
     "output_type": "display_data"
    },
    {
     "data": {
      "application/vnd.jupyter.widget-view+json": {
       "model_id": "534bbbd0feab4062bb3f2ec19f8cb47b",
       "version_major": 2,
       "version_minor": 0
      },
      "text/plain": [
       "calc_f1:   0%|          | 0/7 [00:00<?, ?it/s]"
      ]
     },
     "metadata": {},
     "output_type": "display_data"
    },
    {
     "name": "stderr",
     "output_type": "stream",
     "text": [
      "\u001b[32m[I 2022-02-13 11:25:10,988]\u001b[0m Trial 13 finished with value: 0.700747304581262 and parameters: {'sep_prob': 0.8453811649378316, 'sep_prob2': 0.23770208000901258, 'sep_prob3': 0.6196816161152561, 'pre_prob': 0.9906562767086177, 'after_prob': 0.29433128437652206, 'sep_prob4': 0.21943875807912455, 'sep_prob5': 0.9900152061946805, 'link_len': 35}. Best is trial 12 with value: 0.7077916962879935.\u001b[0m\n"
     ]
    },
    {
     "data": {
      "application/vnd.jupyter.widget-view+json": {
       "model_id": "5a487d1579cc47edab97de4ab249a673",
       "version_major": 2,
       "version_minor": 0
      },
      "text/plain": [
       "get_preds:   0%|          | 0/15594 [00:00<?, ?it/s]"
      ]
     },
     "metadata": {},
     "output_type": "display_data"
    },
    {
     "data": {
      "application/vnd.jupyter.widget-view+json": {
       "model_id": "c6551d38dc8f4d60a32cf9db5b687f05",
       "version_major": 2,
       "version_minor": 0
      },
      "text/plain": [
       "calc_f1:   0%|          | 0/7 [00:00<?, ?it/s]"
      ]
     },
     "metadata": {},
     "output_type": "display_data"
    },
    {
     "name": "stderr",
     "output_type": "stream",
     "text": [
      "\u001b[32m[I 2022-02-13 11:25:29,147]\u001b[0m Trial 14 finished with value: 0.6977892597929615 and parameters: {'sep_prob': 0.38476079341445935, 'sep_prob2': 0.2124298778177002, 'sep_prob3': 0.004234376795529515, 'pre_prob': 0.8456208353292072, 'after_prob': 0.2652963638399546, 'sep_prob4': 0.275651227019203, 'sep_prob5': 0.24218454840300677, 'link_len': 33}. Best is trial 12 with value: 0.7077916962879935.\u001b[0m\n"
     ]
    },
    {
     "data": {
      "application/vnd.jupyter.widget-view+json": {
       "model_id": "4fd66a5063564817b8a6a3b5b3309a98",
       "version_major": 2,
       "version_minor": 0
      },
      "text/plain": [
       "get_preds:   0%|          | 0/15594 [00:00<?, ?it/s]"
      ]
     },
     "metadata": {},
     "output_type": "display_data"
    },
    {
     "data": {
      "application/vnd.jupyter.widget-view+json": {
       "model_id": "60bc2d17ac9946b4b3b2bc39ea208082",
       "version_major": 2,
       "version_minor": 0
      },
      "text/plain": [
       "calc_f1:   0%|          | 0/7 [00:00<?, ?it/s]"
      ]
     },
     "metadata": {},
     "output_type": "display_data"
    },
    {
     "name": "stderr",
     "output_type": "stream",
     "text": [
      "\u001b[32m[I 2022-02-13 11:25:48,878]\u001b[0m Trial 15 finished with value: 0.7074822084800924 and parameters: {'sep_prob': 0.7723728253775061, 'sep_prob2': 0.176488608370114, 'sep_prob3': 0.48202856919875925, 'pre_prob': 0.849352969557273, 'after_prob': 0.1120607223145586, 'sep_prob4': 0.1688117907806399, 'sep_prob5': 0.29178302644097376, 'link_len': 40}. Best is trial 12 with value: 0.7077916962879935.\u001b[0m\n"
     ]
    },
    {
     "data": {
      "application/vnd.jupyter.widget-view+json": {
       "model_id": "b9f226ef8b8941e3b0e0e018abe055e8",
       "version_major": 2,
       "version_minor": 0
      },
      "text/plain": [
       "get_preds:   0%|          | 0/15594 [00:00<?, ?it/s]"
      ]
     },
     "metadata": {},
     "output_type": "display_data"
    },
    {
     "data": {
      "application/vnd.jupyter.widget-view+json": {
       "model_id": "b87bd3a3d2064d20bc0573638a0df920",
       "version_major": 2,
       "version_minor": 0
      },
      "text/plain": [
       "calc_f1:   0%|          | 0/7 [00:00<?, ?it/s]"
      ]
     },
     "metadata": {},
     "output_type": "display_data"
    },
    {
     "name": "stderr",
     "output_type": "stream",
     "text": [
      "\u001b[32m[I 2022-02-13 11:26:08,210]\u001b[0m Trial 16 finished with value: 0.708813709134754 and parameters: {'sep_prob': 0.449084193707067, 'sep_prob2': 0.3402669107104101, 'sep_prob3': 0.8156588515949799, 'pre_prob': 0.9996583379339614, 'after_prob': 0.34544359528037727, 'sep_prob4': 0.010706755939229595, 'sep_prob5': 0.8417677685687482, 'link_len': 33}. Best is trial 16 with value: 0.708813709134754.\u001b[0m\n"
     ]
    },
    {
     "data": {
      "application/vnd.jupyter.widget-view+json": {
       "model_id": "7cc312530470422f8592c427fca88e5e",
       "version_major": 2,
       "version_minor": 0
      },
      "text/plain": [
       "get_preds:   0%|          | 0/15594 [00:00<?, ?it/s]"
      ]
     },
     "metadata": {},
     "output_type": "display_data"
    },
    {
     "data": {
      "application/vnd.jupyter.widget-view+json": {
       "model_id": "c4e1d3f9ef2b49a5a83775a311f460b4",
       "version_major": 2,
       "version_minor": 0
      },
      "text/plain": [
       "calc_f1:   0%|          | 0/7 [00:00<?, ?it/s]"
      ]
     },
     "metadata": {},
     "output_type": "display_data"
    },
    {
     "name": "stderr",
     "output_type": "stream",
     "text": [
      "\u001b[32m[I 2022-02-13 11:26:24,407]\u001b[0m Trial 17 finished with value: 0.7014811506497314 and parameters: {'sep_prob': 0.44730115813173954, 'sep_prob2': 0.6563860964109014, 'sep_prob3': 0.9572440655393698, 'pre_prob': 0.0037800318717226, 'after_prob': 0.34195049328400035, 'sep_prob4': 0.007366031430737229, 'sep_prob5': 0.8679498113388658, 'link_len': 25}. Best is trial 16 with value: 0.708813709134754.\u001b[0m\n"
     ]
    },
    {
     "data": {
      "application/vnd.jupyter.widget-view+json": {
       "model_id": "8f3bb2acd4664cbd83168c3aadbe4664",
       "version_major": 2,
       "version_minor": 0
      },
      "text/plain": [
       "get_preds:   0%|          | 0/15594 [00:00<?, ?it/s]"
      ]
     },
     "metadata": {},
     "output_type": "display_data"
    },
    {
     "data": {
      "application/vnd.jupyter.widget-view+json": {
       "model_id": "397f3764806f4a01bba27f38281c7d13",
       "version_major": 2,
       "version_minor": 0
      },
      "text/plain": [
       "calc_f1:   0%|          | 0/7 [00:00<?, ?it/s]"
      ]
     },
     "metadata": {},
     "output_type": "display_data"
    },
    {
     "name": "stderr",
     "output_type": "stream",
     "text": [
      "\u001b[32m[I 2022-02-13 11:26:40,613]\u001b[0m Trial 18 finished with value: 0.6777693403010604 and parameters: {'sep_prob': 0.07484667814552443, 'sep_prob2': 0.39468485042825074, 'sep_prob3': 0.8019663892254506, 'pre_prob': 0.9950880595927163, 'after_prob': 0.511697641307792, 'sep_prob4': 0.14945691615885953, 'sep_prob5': 0.8296605943116799, 'link_len': 32}. Best is trial 16 with value: 0.708813709134754.\u001b[0m\n"
     ]
    },
    {
     "data": {
      "application/vnd.jupyter.widget-view+json": {
       "model_id": "c1450c7dc5b34c45bf8753eab6272aed",
       "version_major": 2,
       "version_minor": 0
      },
      "text/plain": [
       "get_preds:   0%|          | 0/15594 [00:00<?, ?it/s]"
      ]
     },
     "metadata": {},
     "output_type": "display_data"
    },
    {
     "data": {
      "application/vnd.jupyter.widget-view+json": {
       "model_id": "b65ac4f1dc9b45dd8eab73f4aceb09c7",
       "version_major": 2,
       "version_minor": 0
      },
      "text/plain": [
       "calc_f1:   0%|          | 0/7 [00:00<?, ?it/s]"
      ]
     },
     "metadata": {},
     "output_type": "display_data"
    },
    {
     "name": "stderr",
     "output_type": "stream",
     "text": [
      "\u001b[32m[I 2022-02-13 11:26:57,121]\u001b[0m Trial 19 finished with value: 0.690076057218764 and parameters: {'sep_prob': 0.28473815619233334, 'sep_prob2': 0.3413623893625297, 'sep_prob3': 0.7579733411454813, 'pre_prob': 0.5823825667991875, 'after_prob': 0.38614742566284405, 'sep_prob4': 0.09673569817294014, 'sep_prob5': 0.6636807808852865, 'link_len': 8}. Best is trial 16 with value: 0.708813709134754.\u001b[0m\n"
     ]
    },
    {
     "data": {
      "application/vnd.jupyter.widget-view+json": {
       "model_id": "60425580b978432fb63144b820bb56c9",
       "version_major": 2,
       "version_minor": 0
      },
      "text/plain": [
       "get_preds:   0%|          | 0/15594 [00:00<?, ?it/s]"
      ]
     },
     "metadata": {},
     "output_type": "display_data"
    },
    {
     "data": {
      "application/vnd.jupyter.widget-view+json": {
       "model_id": "f2809035b9c9480393518bc23fb1a9a1",
       "version_major": 2,
       "version_minor": 0
      },
      "text/plain": [
       "calc_f1:   0%|          | 0/7 [00:00<?, ?it/s]"
      ]
     },
     "metadata": {},
     "output_type": "display_data"
    },
    {
     "name": "stderr",
     "output_type": "stream",
     "text": [
      "\u001b[32m[I 2022-02-13 11:27:14,626]\u001b[0m Trial 20 finished with value: 0.6967232909301437 and parameters: {'sep_prob': 0.2038806140190333, 'sep_prob2': 0.987087757773008, 'sep_prob3': 0.852116650831735, 'pre_prob': 0.23139838763368276, 'after_prob': 0.19263465964853088, 'sep_prob4': 0.316692581737768, 'sep_prob5': 0.9053296303566989, 'link_len': 35}. Best is trial 16 with value: 0.708813709134754.\u001b[0m\n"
     ]
    },
    {
     "data": {
      "application/vnd.jupyter.widget-view+json": {
       "model_id": "d80a9683ad394c15a13e0e355262572d",
       "version_major": 2,
       "version_minor": 0
      },
      "text/plain": [
       "get_preds:   0%|          | 0/15594 [00:00<?, ?it/s]"
      ]
     },
     "metadata": {},
     "output_type": "display_data"
    },
    {
     "data": {
      "application/vnd.jupyter.widget-view+json": {
       "model_id": "8a91e052d7cb4bf3972b3ce01f0a15e7",
       "version_major": 2,
       "version_minor": 0
      },
      "text/plain": [
       "calc_f1:   0%|          | 0/7 [00:00<?, ?it/s]"
      ]
     },
     "metadata": {},
     "output_type": "display_data"
    },
    {
     "name": "stderr",
     "output_type": "stream",
     "text": [
      "\u001b[32m[I 2022-02-13 11:27:34,112]\u001b[0m Trial 21 finished with value: 0.7061701666957289 and parameters: {'sep_prob': 0.5039653446958109, 'sep_prob2': 0.1147086388183125, 'sep_prob3': 0.561749462602692, 'pre_prob': 0.8892046019049533, 'after_prob': 0.8183087292051203, 'sep_prob4': 0.37508310586064325, 'sep_prob5': 0.3673810093838426, 'link_len': 37}. Best is trial 16 with value: 0.708813709134754.\u001b[0m\n"
     ]
    },
    {
     "data": {
      "application/vnd.jupyter.widget-view+json": {
       "model_id": "84cf4cbc03174b54b4ae8f8861418267",
       "version_major": 2,
       "version_minor": 0
      },
      "text/plain": [
       "get_preds:   0%|          | 0/15594 [00:00<?, ?it/s]"
      ]
     },
     "metadata": {},
     "output_type": "display_data"
    },
    {
     "data": {
      "application/vnd.jupyter.widget-view+json": {
       "model_id": "dd39070007fb4104982ba09d01151784",
       "version_major": 2,
       "version_minor": 0
      },
      "text/plain": [
       "calc_f1:   0%|          | 0/7 [00:00<?, ?it/s]"
      ]
     },
     "metadata": {},
     "output_type": "display_data"
    },
    {
     "name": "stderr",
     "output_type": "stream",
     "text": [
      "\u001b[32m[I 2022-02-13 11:27:52,840]\u001b[0m Trial 22 finished with value: 0.7068959920053134 and parameters: {'sep_prob': 0.702429127436218, 'sep_prob2': 0.33431077814885846, 'sep_prob3': 0.6941008968343717, 'pre_prob': 0.7815642017436571, 'after_prob': 0.463885084568679, 'sep_prob4': 0.7046892185153673, 'sep_prob5': 0.7427521514188459, 'link_len': 32}. Best is trial 16 with value: 0.708813709134754.\u001b[0m\n"
     ]
    },
    {
     "data": {
      "application/vnd.jupyter.widget-view+json": {
       "model_id": "3d8e5fd3a9c84b979413bbfb3c5c7841",
       "version_major": 2,
       "version_minor": 0
      },
      "text/plain": [
       "get_preds:   0%|          | 0/15594 [00:00<?, ?it/s]"
      ]
     },
     "metadata": {},
     "output_type": "display_data"
    },
    {
     "data": {
      "application/vnd.jupyter.widget-view+json": {
       "model_id": "c5cac45c743547989519ae5d2f082110",
       "version_major": 2,
       "version_minor": 0
      },
      "text/plain": [
       "calc_f1:   0%|          | 0/7 [00:00<?, ?it/s]"
      ]
     },
     "metadata": {},
     "output_type": "display_data"
    },
    {
     "name": "stderr",
     "output_type": "stream",
     "text": [
      "\u001b[32m[I 2022-02-13 11:28:11,621]\u001b[0m Trial 23 finished with value: 0.7082576201165277 and parameters: {'sep_prob': 0.8126669942223418, 'sep_prob2': 0.09914871426764331, 'sep_prob3': 0.4092025607610131, 'pre_prob': 0.9149758255822811, 'after_prob': 0.5731382561032551, 'sep_prob4': 0.22809566775451512, 'sep_prob5': 0.1547144814579057, 'link_len': 37}. Best is trial 16 with value: 0.708813709134754.\u001b[0m\n"
     ]
    },
    {
     "data": {
      "application/vnd.jupyter.widget-view+json": {
       "model_id": "1dd12e0c3caa47c8ba6b429407b47ee4",
       "version_major": 2,
       "version_minor": 0
      },
      "text/plain": [
       "get_preds:   0%|          | 0/15594 [00:00<?, ?it/s]"
      ]
     },
     "metadata": {},
     "output_type": "display_data"
    },
    {
     "data": {
      "application/vnd.jupyter.widget-view+json": {
       "model_id": "393366e05573470c9e4ccf55eb839eaa",
       "version_major": 2,
       "version_minor": 0
      },
      "text/plain": [
       "calc_f1:   0%|          | 0/7 [00:00<?, ?it/s]"
      ]
     },
     "metadata": {},
     "output_type": "display_data"
    },
    {
     "name": "stderr",
     "output_type": "stream",
     "text": [
      "\u001b[32m[I 2022-02-13 11:28:27,918]\u001b[0m Trial 24 finished with value: 0.7083150385247604 and parameters: {'sep_prob': 0.8375042098493832, 'sep_prob2': 0.1609501775582984, 'sep_prob3': 0.3591311042293914, 'pre_prob': 0.9238066527874953, 'after_prob': 0.5466052567122957, 'sep_prob4': 0.1119413890787026, 'sep_prob5': 0.1554900670287262, 'link_len': 35}. Best is trial 16 with value: 0.708813709134754.\u001b[0m\n"
     ]
    },
    {
     "data": {
      "application/vnd.jupyter.widget-view+json": {
       "model_id": "87ec4b51e4fa4c2d8c1ec400df19f914",
       "version_major": 2,
       "version_minor": 0
      },
      "text/plain": [
       "get_preds:   0%|          | 0/15594 [00:00<?, ?it/s]"
      ]
     },
     "metadata": {},
     "output_type": "display_data"
    },
    {
     "data": {
      "application/vnd.jupyter.widget-view+json": {
       "model_id": "a21bad3a910d4ca4b12f5ad514a3bba0",
       "version_major": 2,
       "version_minor": 0
      },
      "text/plain": [
       "calc_f1:   0%|          | 0/7 [00:00<?, ?it/s]"
      ]
     },
     "metadata": {},
     "output_type": "display_data"
    },
    {
     "name": "stderr",
     "output_type": "stream",
     "text": [
      "\u001b[32m[I 2022-02-13 11:28:43,995]\u001b[0m Trial 25 finished with value: 0.7080097544530577 and parameters: {'sep_prob': 0.8483766057997955, 'sep_prob2': 0.13203475463900194, 'sep_prob3': 0.3634472567796936, 'pre_prob': 0.9101308660347747, 'after_prob': 0.5517020610816217, 'sep_prob4': 0.08348499264737427, 'sep_prob5': 0.15159843727521385, 'link_len': 23}. Best is trial 16 with value: 0.708813709134754.\u001b[0m\n"
     ]
    },
    {
     "data": {
      "application/vnd.jupyter.widget-view+json": {
       "model_id": "4df54e1cc03c491f9e3f885f35155e79",
       "version_major": 2,
       "version_minor": 0
      },
      "text/plain": [
       "get_preds:   0%|          | 0/15594 [00:00<?, ?it/s]"
      ]
     },
     "metadata": {},
     "output_type": "display_data"
    },
    {
     "data": {
      "application/vnd.jupyter.widget-view+json": {
       "model_id": "c4fa6859b3e54daaa94e2b8f52861608",
       "version_major": 2,
       "version_minor": 0
      },
      "text/plain": [
       "calc_f1:   0%|          | 0/7 [00:00<?, ?it/s]"
      ]
     },
     "metadata": {},
     "output_type": "display_data"
    },
    {
     "name": "stderr",
     "output_type": "stream",
     "text": [
      "\u001b[32m[I 2022-02-13 11:29:16,755]\u001b[0m Trial 26 finished with value: 0.7075919697957122 and parameters: {'sep_prob': 0.8116946611822229, 'sep_prob2': 0.2872529711141033, 'sep_prob3': 0.36943781158682687, 'pre_prob': 0.74121266822886, 'after_prob': 0.6853451893022842, 'sep_prob4': 0.1472855266528651, 'sep_prob5': 0.14093309363678608, 'link_len': 29}. Best is trial 16 with value: 0.708813709134754.\u001b[0m\n"
     ]
    },
    {
     "data": {
      "application/vnd.jupyter.widget-view+json": {
       "model_id": "acdb5cdf46e44905a8e9f35318ddba85",
       "version_major": 2,
       "version_minor": 0
      },
      "text/plain": [
       "get_preds:   0%|          | 0/15594 [00:00<?, ?it/s]"
      ]
     },
     "metadata": {},
     "output_type": "display_data"
    },
    {
     "data": {
      "application/vnd.jupyter.widget-view+json": {
       "model_id": "18e6e203a2c44eae8ea4e5dace4d8ea3",
       "version_major": 2,
       "version_minor": 0
      },
      "text/plain": [
       "calc_f1:   0%|          | 0/7 [00:00<?, ?it/s]"
      ]
     },
     "metadata": {},
     "output_type": "display_data"
    },
    {
     "name": "stderr",
     "output_type": "stream",
     "text": [
      "\u001b[32m[I 2022-02-13 11:29:36,746]\u001b[0m Trial 27 finished with value: 0.7043403165573434 and parameters: {'sep_prob': 0.4555597183978174, 'sep_prob2': 0.05607701474250417, 'sep_prob3': 0.1580371873521863, 'pre_prob': 0.9100710953409928, 'after_prob': 0.5353868320373362, 'sep_prob4': 0.060465560087872836, 'sep_prob5': 0.20133770560326572, 'link_len': 40}. Best is trial 16 with value: 0.708813709134754.\u001b[0m\n"
     ]
    },
    {
     "data": {
      "application/vnd.jupyter.widget-view+json": {
       "model_id": "7b5cacc03e8b410797c79dee881789e9",
       "version_major": 2,
       "version_minor": 0
      },
      "text/plain": [
       "get_preds:   0%|          | 0/15594 [00:00<?, ?it/s]"
      ]
     },
     "metadata": {},
     "output_type": "display_data"
    },
    {
     "data": {
      "application/vnd.jupyter.widget-view+json": {
       "model_id": "6fcebb9a7b3f4ac8b5364eaa6bdaa99e",
       "version_major": 2,
       "version_minor": 0
      },
      "text/plain": [
       "calc_f1:   0%|          | 0/7 [00:00<?, ?it/s]"
      ]
     },
     "metadata": {},
     "output_type": "display_data"
    },
    {
     "name": "stderr",
     "output_type": "stream",
     "text": [
      "\u001b[32m[I 2022-02-13 11:29:55,696]\u001b[0m Trial 28 finished with value: 0.7020398596277354 and parameters: {'sep_prob': 0.8975483113870925, 'sep_prob2': 0.47122224728828777, 'sep_prob3': 0.5152930873429615, 'pre_prob': 0.9201998169684722, 'after_prob': 0.7208452616840916, 'sep_prob4': 0.19681184697537285, 'sep_prob5': 0.3779662677814376, 'link_len': 34}. Best is trial 16 with value: 0.708813709134754.\u001b[0m\n"
     ]
    },
    {
     "data": {
      "application/vnd.jupyter.widget-view+json": {
       "model_id": "7d254cba0e3f42dba386e012bf188a36",
       "version_major": 2,
       "version_minor": 0
      },
      "text/plain": [
       "get_preds:   0%|          | 0/15594 [00:00<?, ?it/s]"
      ]
     },
     "metadata": {},
     "output_type": "display_data"
    },
    {
     "data": {
      "application/vnd.jupyter.widget-view+json": {
       "model_id": "2cc669880dd1480792043b114c8f6c6f",
       "version_major": 2,
       "version_minor": 0
      },
      "text/plain": [
       "calc_f1:   0%|          | 0/7 [00:00<?, ?it/s]"
      ]
     },
     "metadata": {},
     "output_type": "display_data"
    },
    {
     "name": "stderr",
     "output_type": "stream",
     "text": [
      "\u001b[32m[I 2022-02-13 11:30:15,052]\u001b[0m Trial 29 finished with value: 0.7041911188270203 and parameters: {'sep_prob': 0.9492001856545946, 'sep_prob2': 0.30378837219198507, 'sep_prob3': 0.2965004573060349, 'pre_prob': 0.7694379523875046, 'after_prob': 0.6082871555014555, 'sep_prob4': 0.0011435689379249176, 'sep_prob5': 0.5647848390472929, 'link_len': 31}. Best is trial 16 with value: 0.708813709134754.\u001b[0m\n"
     ]
    },
    {
     "data": {
      "application/vnd.jupyter.widget-view+json": {
       "model_id": "3b1878618312434daa0716bf2093a1d1",
       "version_major": 2,
       "version_minor": 0
      },
      "text/plain": [
       "get_preds:   0%|          | 0/15594 [00:00<?, ?it/s]"
      ]
     },
     "metadata": {},
     "output_type": "display_data"
    },
    {
     "data": {
      "application/vnd.jupyter.widget-view+json": {
       "model_id": "dabb078d828e4dd79e6f53eda4ff1e0f",
       "version_major": 2,
       "version_minor": 0
      },
      "text/plain": [
       "calc_f1:   0%|          | 0/7 [00:00<?, ?it/s]"
      ]
     },
     "metadata": {},
     "output_type": "display_data"
    },
    {
     "name": "stderr",
     "output_type": "stream",
     "text": [
      "\u001b[32m[I 2022-02-13 11:30:34,108]\u001b[0m Trial 30 finished with value: 0.7048621137936666 and parameters: {'sep_prob': 0.5691388483100239, 'sep_prob2': 0.1600194769427915, 'sep_prob3': 0.2248728000111046, 'pre_prob': 0.6804527811978618, 'after_prob': 0.4043525487946111, 'sep_prob4': 0.1132679611610655, 'sep_prob5': 0.08529431759550803, 'link_len': 26}. Best is trial 16 with value: 0.708813709134754.\u001b[0m\n"
     ]
    },
    {
     "data": {
      "application/vnd.jupyter.widget-view+json": {
       "model_id": "37ebaf572b444d72ab0d13e846f4b9cf",
       "version_major": 2,
       "version_minor": 0
      },
      "text/plain": [
       "get_preds:   0%|          | 0/15594 [00:00<?, ?it/s]"
      ]
     },
     "metadata": {},
     "output_type": "display_data"
    },
    {
     "data": {
      "application/vnd.jupyter.widget-view+json": {
       "model_id": "b07ebd8c8184446eba11960d68d234a1",
       "version_major": 2,
       "version_minor": 0
      },
      "text/plain": [
       "calc_f1:   0%|          | 0/7 [00:00<?, ?it/s]"
      ]
     },
     "metadata": {},
     "output_type": "display_data"
    },
    {
     "name": "stderr",
     "output_type": "stream",
     "text": [
      "\u001b[32m[I 2022-02-13 11:30:54,151]\u001b[0m Trial 31 finished with value: 0.7084208217224855 and parameters: {'sep_prob': 0.8236767967297212, 'sep_prob2': 0.14423569045481494, 'sep_prob3': 0.37544893874124036, 'pre_prob': 0.9308435370941128, 'after_prob': 0.5643828625948774, 'sep_prob4': 0.09382002841162518, 'sep_prob5': 0.1953831867084876, 'link_len': 23}. Best is trial 16 with value: 0.708813709134754.\u001b[0m\n"
     ]
    },
    {
     "data": {
      "application/vnd.jupyter.widget-view+json": {
       "model_id": "c674adb1d3d549c0b211f208db824ea7",
       "version_major": 2,
       "version_minor": 0
      },
      "text/plain": [
       "get_preds:   0%|          | 0/15594 [00:00<?, ?it/s]"
      ]
     },
     "metadata": {},
     "output_type": "display_data"
    },
    {
     "data": {
      "application/vnd.jupyter.widget-view+json": {
       "model_id": "918a261cd7c4427592c2354eabeefd9a",
       "version_major": 2,
       "version_minor": 0
      },
      "text/plain": [
       "calc_f1:   0%|          | 0/7 [00:00<?, ?it/s]"
      ]
     },
     "metadata": {},
     "output_type": "display_data"
    },
    {
     "name": "stderr",
     "output_type": "stream",
     "text": [
      "\u001b[32m[I 2022-02-13 11:31:18,109]\u001b[0m Trial 32 finished with value: 0.7069495679435706 and parameters: {'sep_prob': 0.874292057680818, 'sep_prob2': 0.06631763664614485, 'sep_prob3': 0.4105123840015851, 'pre_prob': 0.922022619633169, 'after_prob': 0.5959118678986629, 'sep_prob4': 0.2262826823428335, 'sep_prob5': 0.31756350086376545, 'link_len': 22}. Best is trial 16 with value: 0.708813709134754.\u001b[0m\n"
     ]
    },
    {
     "data": {
      "application/vnd.jupyter.widget-view+json": {
       "model_id": "19284c8d6dd8460ca7d2413c2648e664",
       "version_major": 2,
       "version_minor": 0
      },
      "text/plain": [
       "get_preds:   0%|          | 0/15594 [00:00<?, ?it/s]"
      ]
     },
     "metadata": {},
     "output_type": "display_data"
    },
    {
     "data": {
      "application/vnd.jupyter.widget-view+json": {
       "model_id": "8023f58ce48b4e86bd0a3e9b00629aa5",
       "version_major": 2,
       "version_minor": 0
      },
      "text/plain": [
       "calc_f1:   0%|          | 0/7 [00:00<?, ?it/s]"
      ]
     },
     "metadata": {},
     "output_type": "display_data"
    },
    {
     "name": "stderr",
     "output_type": "stream",
     "text": [
      "\u001b[32m[I 2022-02-13 11:31:41,010]\u001b[0m Trial 33 finished with value: 0.7093606481664846 and parameters: {'sep_prob': 0.6552160806769222, 'sep_prob2': 0.3683095488942718, 'sep_prob3': 0.31366640313913596, 'pre_prob': 0.9402438648911953, 'after_prob': 0.4954154688395853, 'sep_prob4': 0.08149724542930373, 'sep_prob5': 0.20411325930183732, 'link_len': 15}. Best is trial 33 with value: 0.7093606481664846.\u001b[0m\n"
     ]
    },
    {
     "data": {
      "application/vnd.jupyter.widget-view+json": {
       "model_id": "b4f04a832156405084d3ecb3bcfc93e1",
       "version_major": 2,
       "version_minor": 0
      },
      "text/plain": [
       "get_preds:   0%|          | 0/15594 [00:00<?, ?it/s]"
      ]
     },
     "metadata": {},
     "output_type": "display_data"
    },
    {
     "data": {
      "application/vnd.jupyter.widget-view+json": {
       "model_id": "31d881ab90364230ad1e4f014ede5556",
       "version_major": 2,
       "version_minor": 0
      },
      "text/plain": [
       "calc_f1:   0%|          | 0/7 [00:00<?, ?it/s]"
      ]
     },
     "metadata": {},
     "output_type": "display_data"
    },
    {
     "name": "stderr",
     "output_type": "stream",
     "text": [
      "\u001b[32m[I 2022-02-13 11:32:03,255]\u001b[0m Trial 34 finished with value: 0.7067530888134479 and parameters: {'sep_prob': 0.6409643489064178, 'sep_prob2': 0.40111717951965975, 'sep_prob3': 0.3215164671777423, 'pre_prob': 0.6155340382541308, 'after_prob': 0.48157854053489724, 'sep_prob4': 0.07885668697446103, 'sep_prob5': 0.20590493362837298, 'link_len': 14}. Best is trial 33 with value: 0.7093606481664846.\u001b[0m\n"
     ]
    },
    {
     "data": {
      "application/vnd.jupyter.widget-view+json": {
       "model_id": "22803946f93945089c3608490d597d8f",
       "version_major": 2,
       "version_minor": 0
      },
      "text/plain": [
       "get_preds:   0%|          | 0/15594 [00:00<?, ?it/s]"
      ]
     },
     "metadata": {},
     "output_type": "display_data"
    },
    {
     "data": {
      "application/vnd.jupyter.widget-view+json": {
       "model_id": "f2ab721657e44fa28c90c85e1cfdaa8c",
       "version_major": 2,
       "version_minor": 0
      },
      "text/plain": [
       "calc_f1:   0%|          | 0/7 [00:00<?, ?it/s]"
      ]
     },
     "metadata": {},
     "output_type": "display_data"
    },
    {
     "name": "stderr",
     "output_type": "stream",
     "text": [
      "\u001b[32m[I 2022-02-13 11:32:25,148]\u001b[0m Trial 35 finished with value: 0.7066071800644436 and parameters: {'sep_prob': 0.6730624978569406, 'sep_prob2': 0.44476835387344993, 'sep_prob3': 0.21632918643333846, 'pre_prob': 0.8069005840406052, 'after_prob': 0.2319032680630605, 'sep_prob4': 0.15514050209981833, 'sep_prob5': 0.06738554619539558, 'link_len': 15}. Best is trial 33 with value: 0.7093606481664846.\u001b[0m\n"
     ]
    },
    {
     "data": {
      "application/vnd.jupyter.widget-view+json": {
       "model_id": "1b50b9024ee64b0eb4c03b3f66b7bd69",
       "version_major": 2,
       "version_minor": 0
      },
      "text/plain": [
       "get_preds:   0%|          | 0/15594 [00:00<?, ?it/s]"
      ]
     },
     "metadata": {},
     "output_type": "display_data"
    },
    {
     "data": {
      "application/vnd.jupyter.widget-view+json": {
       "model_id": "75164f98630544829ba1e91649f5855c",
       "version_major": 2,
       "version_minor": 0
      },
      "text/plain": [
       "calc_f1:   0%|          | 0/7 [00:00<?, ?it/s]"
      ]
     },
     "metadata": {},
     "output_type": "display_data"
    },
    {
     "name": "stderr",
     "output_type": "stream",
     "text": [
      "\u001b[32m[I 2022-02-13 11:32:48,724]\u001b[0m Trial 36 finished with value: 0.7059387380953377 and parameters: {'sep_prob': 0.5928079395948511, 'sep_prob2': 0.5461313272771159, 'sep_prob3': 0.5393862244298793, 'pre_prob': 0.7140265438564812, 'after_prob': 0.3650078798327352, 'sep_prob4': 0.0596023202692908, 'sep_prob5': 0.3689601940662396, 'link_len': 17}. Best is trial 33 with value: 0.7093606481664846.\u001b[0m\n"
     ]
    },
    {
     "data": {
      "application/vnd.jupyter.widget-view+json": {
       "model_id": "c449168ee0da43d6b19b3c2077298397",
       "version_major": 2,
       "version_minor": 0
      },
      "text/plain": [
       "get_preds:   0%|          | 0/15594 [00:00<?, ?it/s]"
      ]
     },
     "metadata": {},
     "output_type": "display_data"
    },
    {
     "data": {
      "application/vnd.jupyter.widget-view+json": {
       "model_id": "31ec618434eb41cc9a94875cd4b815ae",
       "version_major": 2,
       "version_minor": 0
      },
      "text/plain": [
       "calc_f1:   0%|          | 0/7 [00:00<?, ?it/s]"
      ]
     },
     "metadata": {},
     "output_type": "display_data"
    },
    {
     "name": "stderr",
     "output_type": "stream",
     "text": [
      "\u001b[32m[I 2022-02-13 11:33:11,389]\u001b[0m Trial 37 finished with value: 0.7078923987917349 and parameters: {'sep_prob': 0.788211866912754, 'sep_prob2': 0.37578471693942056, 'sep_prob3': 0.32147971769261513, 'pre_prob': 0.8645654328327811, 'after_prob': 0.6547657782271331, 'sep_prob4': 0.29237737193831415, 'sep_prob5': 0.2164185103690019, 'link_len': 28}. Best is trial 33 with value: 0.7093606481664846.\u001b[0m\n"
     ]
    },
    {
     "data": {
      "application/vnd.jupyter.widget-view+json": {
       "model_id": "ab5e1c5c51ce4a4fb42c685c8a68401b",
       "version_major": 2,
       "version_minor": 0
      },
      "text/plain": [
       "get_preds:   0%|          | 0/15594 [00:00<?, ?it/s]"
      ]
     },
     "metadata": {},
     "output_type": "display_data"
    },
    {
     "data": {
      "application/vnd.jupyter.widget-view+json": {
       "model_id": "8896859b4dcc4eae98f729e6bc59ab5b",
       "version_major": 2,
       "version_minor": 0
      },
      "text/plain": [
       "calc_f1:   0%|          | 0/7 [00:00<?, ?it/s]"
      ]
     },
     "metadata": {},
     "output_type": "display_data"
    },
    {
     "name": "stderr",
     "output_type": "stream",
     "text": [
      "\u001b[32m[I 2022-02-13 11:33:35,073]\u001b[0m Trial 38 finished with value: 0.7063621878747759 and parameters: {'sep_prob': 0.5210175212215482, 'sep_prob2': 0.2939025746421717, 'sep_prob3': 0.10145480185874167, 'pre_prob': 0.9590296666684073, 'after_prob': 0.5051407292956924, 'sep_prob4': 0.11298330197008463, 'sep_prob5': 0.28679730101531087, 'link_len': 9}. Best is trial 33 with value: 0.7093606481664846.\u001b[0m\n"
     ]
    },
    {
     "data": {
      "application/vnd.jupyter.widget-view+json": {
       "model_id": "f7930ac1ec0b4d2999145cdd71f0b9a1",
       "version_major": 2,
       "version_minor": 0
      },
      "text/plain": [
       "get_preds:   0%|          | 0/15594 [00:00<?, ?it/s]"
      ]
     },
     "metadata": {},
     "output_type": "display_data"
    },
    {
     "data": {
      "application/vnd.jupyter.widget-view+json": {
       "model_id": "c8c2855aacc344db97cad1c46f8b3cc3",
       "version_major": 2,
       "version_minor": 0
      },
      "text/plain": [
       "calc_f1:   0%|          | 0/7 [00:00<?, ?it/s]"
      ]
     },
     "metadata": {},
     "output_type": "display_data"
    },
    {
     "name": "stderr",
     "output_type": "stream",
     "text": [
      "\u001b[32m[I 2022-02-13 11:33:59,676]\u001b[0m Trial 39 finished with value: 0.7082372862690827 and parameters: {'sep_prob': 0.7037562451392512, 'sep_prob2': 0.6495449046723624, 'sep_prob3': 0.27392933852311896, 'pre_prob': 0.5029907542047601, 'after_prob': 0.7202157867249536, 'sep_prob4': 0.4267304438119195, 'sep_prob5': 0.4431953306854644, 'link_len': 12}. Best is trial 33 with value: 0.7093606481664846.\u001b[0m\n"
     ]
    },
    {
     "data": {
      "application/vnd.jupyter.widget-view+json": {
       "model_id": "99ee5dde8dac499f954ef50a82c1367e",
       "version_major": 2,
       "version_minor": 0
      },
      "text/plain": [
       "get_preds:   0%|          | 0/15594 [00:00<?, ?it/s]"
      ]
     },
     "metadata": {},
     "output_type": "display_data"
    },
    {
     "data": {
      "application/vnd.jupyter.widget-view+json": {
       "model_id": "5096c420bac8478593a32496125a245c",
       "version_major": 2,
       "version_minor": 0
      },
      "text/plain": [
       "calc_f1:   0%|          | 0/7 [00:00<?, ?it/s]"
      ]
     },
     "metadata": {},
     "output_type": "display_data"
    },
    {
     "name": "stderr",
     "output_type": "stream",
     "text": [
      "\u001b[32m[I 2022-02-13 11:34:23,371]\u001b[0m Trial 40 finished with value: 0.7058868841972222 and parameters: {'sep_prob': 0.44959382945145465, 'sep_prob2': 0.48616526979119623, 'sep_prob3': 0.691511638611892, 'pre_prob': 0.6418838611497093, 'after_prob': 0.8215537042713934, 'sep_prob4': 0.03778316210037912, 'sep_prob5': 0.5400777127568266, 'link_len': 21}. Best is trial 33 with value: 0.7093606481664846.\u001b[0m\n"
     ]
    },
    {
     "data": {
      "application/vnd.jupyter.widget-view+json": {
       "model_id": "d852b48f3b0243ee8bd5f24af6ce59c8",
       "version_major": 2,
       "version_minor": 0
      },
      "text/plain": [
       "get_preds:   0%|          | 0/15594 [00:00<?, ?it/s]"
      ]
     },
     "metadata": {},
     "output_type": "display_data"
    },
    {
     "data": {
      "application/vnd.jupyter.widget-view+json": {
       "model_id": "7f26747e92a04c69b9a028c1e670ba14",
       "version_major": 2,
       "version_minor": 0
      },
      "text/plain": [
       "calc_f1:   0%|          | 0/7 [00:00<?, ?it/s]"
      ]
     },
     "metadata": {},
     "output_type": "display_data"
    },
    {
     "name": "stderr",
     "output_type": "stream",
     "text": [
      "\u001b[32m[I 2022-02-13 11:34:46,683]\u001b[0m Trial 41 finished with value: 0.7058259909071595 and parameters: {'sep_prob': 0.9223658499409962, 'sep_prob2': 0.1526017459406387, 'sep_prob3': 0.43168528419870744, 'pre_prob': 0.9325709909121236, 'after_prob': 0.5864253440691275, 'sep_prob4': 0.19287175823541125, 'sep_prob5': 0.1683550858144081, 'link_len': 37}. Best is trial 33 with value: 0.7093606481664846.\u001b[0m\n"
     ]
    },
    {
     "data": {
      "application/vnd.jupyter.widget-view+json": {
       "model_id": "e3f086a2ec89461d90a1395cffbf2d75",
       "version_major": 2,
       "version_minor": 0
      },
      "text/plain": [
       "get_preds:   0%|          | 0/15594 [00:00<?, ?it/s]"
      ]
     },
     "metadata": {},
     "output_type": "display_data"
    },
    {
     "data": {
      "application/vnd.jupyter.widget-view+json": {
       "model_id": "832f72ab188747799403c88118bf7879",
       "version_major": 2,
       "version_minor": 0
      },
      "text/plain": [
       "calc_f1:   0%|          | 0/7 [00:00<?, ?it/s]"
      ]
     },
     "metadata": {},
     "output_type": "display_data"
    },
    {
     "name": "stderr",
     "output_type": "stream",
     "text": [
      "\u001b[32m[I 2022-02-13 11:35:16,659]\u001b[0m Trial 42 finished with value: 0.7086725229837754 and parameters: {'sep_prob': 0.8193635001972579, 'sep_prob2': 0.25793612579202696, 'sep_prob3': 0.3654067927130331, 'pre_prob': 0.8815761677882068, 'after_prob': 0.5450558197603138, 'sep_prob4': 0.12655373923183044, 'sep_prob5': 0.09280422761248464, 'link_len': 16}. Best is trial 33 with value: 0.7093606481664846.\u001b[0m\n"
     ]
    },
    {
     "data": {
      "application/vnd.jupyter.widget-view+json": {
       "model_id": "1adf92f7b4a4434490d6ffb38b38a3a8",
       "version_major": 2,
       "version_minor": 0
      },
      "text/plain": [
       "get_preds:   0%|          | 0/15594 [00:00<?, ?it/s]"
      ]
     },
     "metadata": {},
     "output_type": "display_data"
    },
    {
     "data": {
      "application/vnd.jupyter.widget-view+json": {
       "model_id": "6e8c028aa45b4f7ba6273421032351dd",
       "version_major": 2,
       "version_minor": 0
      },
      "text/plain": [
       "calc_f1:   0%|          | 0/7 [00:00<?, ?it/s]"
      ]
     },
     "metadata": {},
     "output_type": "display_data"
    },
    {
     "name": "stderr",
     "output_type": "stream",
     "text": [
      "\u001b[32m[I 2022-02-13 11:35:39,874]\u001b[0m Trial 43 finished with value: 0.696793164335268 and parameters: {'sep_prob': 0.9868629240156945, 'sep_prob2': 0.2462108599832075, 'sep_prob3': 0.35140590563024265, 'pre_prob': 0.8672325101616974, 'after_prob': 0.4558202373547118, 'sep_prob4': 0.12825781927614824, 'sep_prob5': 0.010419039308787625, 'link_len': 17}. Best is trial 33 with value: 0.7093606481664846.\u001b[0m\n"
     ]
    },
    {
     "data": {
      "application/vnd.jupyter.widget-view+json": {
       "model_id": "8c5604fb5b1f4e76abc9576aa2a9ce35",
       "version_major": 2,
       "version_minor": 0
      },
      "text/plain": [
       "get_preds:   0%|          | 0/15594 [00:00<?, ?it/s]"
      ]
     },
     "metadata": {},
     "output_type": "display_data"
    },
    {
     "data": {
      "application/vnd.jupyter.widget-view+json": {
       "model_id": "3653d8f8202040c0a5a84d25e7de5ca7",
       "version_major": 2,
       "version_minor": 0
      },
      "text/plain": [
       "calc_f1:   0%|          | 0/7 [00:00<?, ?it/s]"
      ]
     },
     "metadata": {},
     "output_type": "display_data"
    },
    {
     "name": "stderr",
     "output_type": "stream",
     "text": [
      "\u001b[32m[I 2022-02-13 11:36:03,934]\u001b[0m Trial 44 finished with value: 0.7074460506690681 and parameters: {'sep_prob': 0.749444913891141, 'sep_prob2': 0.3350478137682398, 'sep_prob3': 0.47138841350671223, 'pre_prob': 0.7997225358373162, 'after_prob': 0.6531767013977459, 'sep_prob4': 0.004815859030488498, 'sep_prob5': 0.107249434599023, 'link_len': 11}. Best is trial 33 with value: 0.7093606481664846.\u001b[0m\n"
     ]
    },
    {
     "data": {
      "application/vnd.jupyter.widget-view+json": {
       "model_id": "e18f08e7b58a4846940a8f4922a1e275",
       "version_major": 2,
       "version_minor": 0
      },
      "text/plain": [
       "get_preds:   0%|          | 0/15594 [00:00<?, ?it/s]"
      ]
     },
     "metadata": {},
     "output_type": "display_data"
    },
    {
     "data": {
      "application/vnd.jupyter.widget-view+json": {
       "model_id": "bb84303333204eaaa543bb974242d693",
       "version_major": 2,
       "version_minor": 0
      },
      "text/plain": [
       "calc_f1:   0%|          | 0/7 [00:00<?, ?it/s]"
      ]
     },
     "metadata": {},
     "output_type": "display_data"
    },
    {
     "name": "stderr",
     "output_type": "stream",
     "text": [
      "\u001b[32m[I 2022-02-13 11:36:27,995]\u001b[0m Trial 45 finished with value: 0.7081197804613983 and parameters: {'sep_prob': 0.6205089054174329, 'sep_prob2': 0.21020485490322266, 'sep_prob3': 0.25045069070253795, 'pre_prob': 0.9613876731632313, 'after_prob': 0.41848514284274463, 'sep_prob4': 0.05902330467512759, 'sep_prob5': 0.046521770604985885, 'link_len': 16}. Best is trial 33 with value: 0.7093606481664846.\u001b[0m\n"
     ]
    },
    {
     "data": {
      "application/vnd.jupyter.widget-view+json": {
       "model_id": "20031e6045504495a90908a5f61f30ee",
       "version_major": 2,
       "version_minor": 0
      },
      "text/plain": [
       "get_preds:   0%|          | 0/15594 [00:00<?, ?it/s]"
      ]
     },
     "metadata": {},
     "output_type": "display_data"
    },
    {
     "data": {
      "application/vnd.jupyter.widget-view+json": {
       "model_id": "cbbe539008ff4ca687c954941f2a0995",
       "version_major": 2,
       "version_minor": 0
      },
      "text/plain": [
       "calc_f1:   0%|          | 0/7 [00:00<?, ?it/s]"
      ]
     },
     "metadata": {},
     "output_type": "display_data"
    },
    {
     "name": "stderr",
     "output_type": "stream",
     "text": [
      "\u001b[32m[I 2022-02-13 11:36:53,863]\u001b[0m Trial 46 finished with value: 0.707608865399083 and parameters: {'sep_prob': 0.8704968962695425, 'sep_prob2': 0.2907209264580516, 'sep_prob3': 0.18236773938498066, 'pre_prob': 0.9995905323229793, 'after_prob': 0.5437144948975896, 'sep_prob4': 0.5314187003355211, 'sep_prob5': 0.6635620883892975, 'link_len': 19}. Best is trial 33 with value: 0.7093606481664846.\u001b[0m\n"
     ]
    },
    {
     "data": {
      "application/vnd.jupyter.widget-view+json": {
       "model_id": "4de6750d0088419c9d5c6561ecd7bb77",
       "version_major": 2,
       "version_minor": 0
      },
      "text/plain": [
       "get_preds:   0%|          | 0/15594 [00:00<?, ?it/s]"
      ]
     },
     "metadata": {},
     "output_type": "display_data"
    },
    {
     "data": {
      "application/vnd.jupyter.widget-view+json": {
       "model_id": "effe7a64f5be4cfba8c957ca96c0baf9",
       "version_major": 2,
       "version_minor": 0
      },
      "text/plain": [
       "calc_f1:   0%|          | 0/7 [00:00<?, ?it/s]"
      ]
     },
     "metadata": {},
     "output_type": "display_data"
    },
    {
     "name": "stderr",
     "output_type": "stream",
     "text": [
      "\u001b[32m[I 2022-02-13 11:37:17,376]\u001b[0m Trial 47 finished with value: 0.7022581872972211 and parameters: {'sep_prob': 0.6959387854391654, 'sep_prob2': 0.25225247296944636, 'sep_prob3': 0.33029010540959475, 'pre_prob': 0.3731860858857883, 'after_prob': 0.31305341972985495, 'sep_prob4': 0.32043166750780516, 'sep_prob5': 0.25305149468352794, 'link_len': 24}. Best is trial 33 with value: 0.7093606481664846.\u001b[0m\n"
     ]
    },
    {
     "data": {
      "application/vnd.jupyter.widget-view+json": {
       "model_id": "c53f3933d900428eb593d87de7fef39b",
       "version_major": 2,
       "version_minor": 0
      },
      "text/plain": [
       "get_preds:   0%|          | 0/15594 [00:00<?, ?it/s]"
      ]
     },
     "metadata": {},
     "output_type": "display_data"
    }
   ],
   "source": [
    "P = {\n",
    "  'sep_prob': 0.5,\n",
    "  'sep_prob2': 0.3,\n",
    "  'sep_prob3': 0.3,\n",
    "  'pre_prob': 0.5,\n",
    "  'after_prob': 0.5,\n",
    "  'sep_prob4': 0.55,\n",
    "  'sep_prob5': 0.8,\n",
    "  'link_len': 26,\n",
    "}\n",
    "\n",
    "def objective(trial):\n",
    "    \n",
    "    # params = {\n",
    "    #     'objective': 'binary',\n",
    "    #     'metric': 'binary_logloss',\n",
    "    #     'boosting_type': 'gbdt',\n",
    "    #     'boost_from_average': True,\n",
    "    #     'num_threads': 4,\n",
    "    #     'random_state': 42,\n",
    "        \n",
    "    #     'num_leaves': trial.suggest_int('num_leaves', 10, 1000),\n",
    "    #     'min_data_in_leaf': trial.suggest_int('min_data_in_leaf', 10, 200),sc\n",
    "    #     'min_child_weight': trial.suggest_loguniform('min_child_weight', 0.001, 0.1),\n",
    "    #     'max_depth': trial.suggest_int('max_depth', 1, 100),\n",
    "    #     'bagging_fraction': trial.suggest_loguniform('bagging_fraction', .5, .99),\n",
    "    #     'feature_fraction': trial.suggest_loguniform('feature_fraction', .5, .99),\n",
    "    #     'lambda_l1': trial.suggest_loguniform('lambda_l1', 0.1, 2),\n",
    "    #     'lambda_l2': trial.suggest_loguniform('lambda_l2', 0.1, 2)\n",
    "\n",
    "    # return np.mean(scores)\n",
    "\n",
    "   \n",
    "    # proba_thresh['Lead'] = trial.suggest_uniform('Lead', 0.9, 0.999)\n",
    "    for key in P:\n",
    "      if 'prob' in key:\n",
    "        P[key] = trial.suggest_uniform(key, 0., 1.)\n",
    "      else:\n",
    "        if key == 'link_len':\n",
    "          P[key] = trial.suggest_int(key, 8, 40)\n",
    "    df_pred = get_preds(info, post_adjust=True, folds=50)\n",
    "    res = calc_metrics(df_gt, df_pred)\n",
    "    score = res['f1/Overall']\n",
    "    return score\n",
    "\n",
    "study = optuna.create_study(direction='maximize')\n",
    "study.optimize(objective, n_trials=100)"
   ]
  },
  {
   "cell_type": "code",
   "execution_count": null,
   "metadata": {},
   "outputs": [
    {
     "data": {
      "text/plain": [
       "{'sep_prob': 0.7261767844346143,\n",
       " 'sep_prob2': 0.9824113360256063,\n",
       " 'sep_prob3': 0.44774550783732686,\n",
       " 'pre_prob': 0.9273050195499939,\n",
       " 'after_prob': 0.17105861734159292,\n",
       " 'sep_prob4': 0.43525772456940753,\n",
       " 'sep_prob5': 0.13874548968602074,\n",
       " 'link_len': 38}"
      ]
     },
     "execution_count": 26,
     "metadata": {},
     "output_type": "execute_result"
    }
   ],
   "source": [
    "study.best_params"
   ]
  },
  {
   "cell_type": "code",
   "execution_count": null,
   "metadata": {},
   "outputs": [],
   "source": [
    "gezi.init_flags()"
   ]
  },
  {
   "cell_type": "code",
   "execution_count": null,
   "metadata": {},
   "outputs": [
    {
     "data": {
      "application/vnd.jupyter.widget-view+json": {
       "model_id": "b03dddde2a464fa586c482dac2a877c9",
       "version_major": 2,
       "version_minor": 0
      },
      "text/plain": [
       "get_preds:   0%|          | 0/15594 [00:00<?, ?it/s]"
      ]
     },
     "metadata": {},
     "output_type": "display_data"
    }
   ],
   "source": [
    "df_pred = get_preds(info, post_adjust=True, folds=50)"
   ]
  },
  {
   "cell_type": "code",
   "execution_count": null,
   "metadata": {},
   "outputs": [
    {
     "data": {
      "application/vnd.jupyter.widget-view+json": {
       "model_id": "df6e920a27ea4e04b2f04798865e755f",
       "version_major": 2,
       "version_minor": 0
      },
      "text/plain": [
       "calc_f1:   0%|          | 0/7 [00:00<?, ?it/s]"
      ]
     },
     "metadata": {},
     "output_type": "display_data"
    },
    {
     "data": {
      "text/plain": [
       "{'f1/Overall': 0.7068093341845719,\n",
       " 'f1/Claim': 0.6635564740017117,\n",
       " 'acc/Claim': 0.6970507619778533,\n",
       " 'recall/Claim': 0.6331335019617996,\n",
       " 'f1/Evidence': 0.7698335185621752,\n",
       " 'acc/Evidence': 0.7904832165252674,\n",
       " 'recall/Evidence': 0.7502352143185349,\n",
       " 'f1/Position': 0.7333266000067333,\n",
       " 'acc/Position': 0.7625148778267871,\n",
       " 'recall/Position': 0.7062905317769131,\n",
       " 'f1/Concluding Statement': 0.8712900274473925,\n",
       " 'acc/Concluding Statement': 0.8614226789203271,\n",
       " 'recall/Concluding Statement': 0.8813860506441582,\n",
       " 'f1/Lead': 0.8354062348570506,\n",
       " 'acc/Lead': 0.8371641307866623,\n",
       " 'recall/Lead': 0.8336557059961315,\n",
       " 'f1/Counterclaim': 0.5798785318193821,\n",
       " 'acc/Counterclaim': 0.5942630344578748,\n",
       " 'recall/Counterclaim': 0.5661739429357168,\n",
       " 'f1/Rebuttal': 0.49437395259755806,\n",
       " 'acc/Rebuttal': 0.5141932270916335,\n",
       " 'recall/Rebuttal': 0.4760258183494698}"
      ]
     },
     "execution_count": 24,
     "metadata": {},
     "output_type": "execute_result"
    }
   ],
   "source": [
    "res = calc_metrics(df_gt, df_pred)\n",
    "res"
   ]
  },
  {
   "cell_type": "code",
   "execution_count": null,
   "metadata": {},
   "outputs": [],
   "source": [
    "# res = calc_metrics(df_gt, link_evidence(df_pred))\n",
    "# res"
   ]
  },
  {
   "cell_type": "code",
   "execution_count": null,
   "metadata": {},
   "outputs": [],
   "source": []
  },
  {
   "cell_type": "code",
   "execution_count": null,
   "metadata": {},
   "outputs": [],
   "source": []
  },
  {
   "cell_type": "code",
   "execution_count": null,
   "metadata": {},
   "outputs": [],
   "source": []
  },
  {
   "cell_type": "code",
   "execution_count": null,
   "metadata": {},
   "outputs": [],
   "source": []
  }
 ],
 "metadata": {
  "interpreter": {
   "hash": "2e1511501be64c09e2f1eb58c3220ebc9ce84b491d308a480caed250bbb4af51"
  },
  "kernelspec": {
   "display_name": "Python 3.6.13 64-bit (conda)",
   "language": "python",
   "name": "python3"
  },
  "language_info": {
   "codemirror_mode": {
    "name": "ipython",
    "version": 3
   },
   "file_extension": ".py",
   "mimetype": "text/x-python",
   "name": "python",
   "nbconvert_exporter": "python",
   "pygments_lexer": "ipython3",
   "version": "3.7.9"
  },
  "orig_nbformat": 4
 },
 "nbformat": 4,
 "nbformat_minor": 2
}
