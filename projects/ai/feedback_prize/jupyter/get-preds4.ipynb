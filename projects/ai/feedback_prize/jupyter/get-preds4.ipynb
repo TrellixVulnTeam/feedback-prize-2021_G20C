{
 "cells": [
  {
   "cell_type": "code",
   "execution_count": 1,
   "metadata": {},
   "outputs": [
    {
     "name": "stdout",
     "output_type": "stream",
     "text": [
      "No module named 'tensorflow.python.keras.layers.preprocessing'\n"
     ]
    }
   ],
   "source": [
    "import numpy as np\n",
    "import pandas as pd\n",
    "import random\n",
    "import itertools\n",
    "import matplotlib.pyplot as plt\n",
    "import plotly.express as px\n",
    "import glob\n",
    "import spacy\n",
    "import sklearn\n",
    "from collections import defaultdict, Counter\n",
    "from bisect import bisect_left\n",
    "import matplotlib.pyplot as plt\n",
    "import matplotlib\n",
    "import io\n",
    "import base64\n",
    "import pymp\n",
    "from multiprocessing import Pool, Manager, cpu_count\n",
    "from IPython.display import display_html\n",
    "from itertools import chain, cycle\n",
    "import lightgbm as lgb\n",
    "import sys\n",
    "sys.path.append('../../../../utils')\n",
    "sys.path.append('..')\n",
    "import gezi\n",
    "from gezi import tqdm\n",
    "from src.eval import *\n",
    "from src.util import *\n",
    "from src.get_preds import *\n",
    "from src import config\n",
    "from src.visualize import *\n",
    "from src.rewards import *\n",
    "pd.set_option('display.float_format', lambda x: '%.02f' % x)"
   ]
  },
  {
   "cell_type": "code",
   "execution_count": 2,
   "metadata": {},
   "outputs": [
    {
     "data": {
      "text/plain": [
       "'2.10.0'"
      ]
     },
     "execution_count": 2,
     "metadata": {},
     "output_type": "execute_result"
    }
   ],
   "source": [
    "import optuna\n",
    "from optuna import Trial\n",
    "\n",
    "optuna.__version__"
   ]
  },
  {
   "cell_type": "code",
   "execution_count": 3,
   "metadata": {},
   "outputs": [],
   "source": [
    "root = '../input/feedback-prize-2021'"
   ]
  },
  {
   "cell_type": "code",
   "execution_count": 4,
   "metadata": {},
   "outputs": [],
   "source": [
    "df = pd.read_feather(f'{root}/train_en.fea')"
   ]
  },
  {
   "cell_type": "code",
   "execution_count": 5,
   "metadata": {},
   "outputs": [
    {
     "data": {
      "text/plain": [
       "{'Nothing': 223,\n",
       " 'Claim': 67,\n",
       " 'Evidence': 417,\n",
       " 'Position': 74,\n",
       " 'Concluding Statement': 245,\n",
       " 'Lead': 274,\n",
       " 'Counterclaim': 142,\n",
       " 'Rebuttal': 142}"
      ]
     },
     "execution_count": 5,
     "metadata": {},
     "output_type": "execute_result"
    }
   ],
   "source": [
    "MAX_SEQ_LEN = {}\n",
    "df['len'] = df.end - df.start\n",
    "max_lens = df.groupby('para_type')['len'].quantile(.999)\n",
    "for i in range(len(ALL_CLASSES)):\n",
    "  MAX_SEQ_LEN[id2dis[i]] = int(max_lens[i])\n",
    "MAX_SEQ_LEN"
   ]
  },
  {
   "cell_type": "code",
   "execution_count": 6,
   "metadata": {},
   "outputs": [
    {
     "data": {
      "text/plain": [
       "{'Nothing': 1,\n",
       " 'Claim': 1,\n",
       " 'Evidence': 6,\n",
       " 'Position': 2,\n",
       " 'Concluding Statement': 5,\n",
       " 'Lead': 4,\n",
       " 'Counterclaim': 3,\n",
       " 'Rebuttal': 3}"
      ]
     },
     "execution_count": 6,
     "metadata": {},
     "output_type": "execute_result"
    }
   ],
   "source": [
    "MIN_SEQ_LEN = {}\n",
    "df['len'] = df.end - df.start\n",
    "min_lens = df.groupby('para_type')['len'].quantile(.001)\n",
    "for i in range(len(ALL_CLASSES)):\n",
    "  MIN_SEQ_LEN[id2dis[i]] = int(min_lens[i])\n",
    "MIN_SEQ_LEN"
   ]
  },
  {
   "cell_type": "code",
   "execution_count": 7,
   "metadata": {},
   "outputs": [],
   "source": [
    "MAX_SEQ_LEN = {'Nothing': 223,\n",
    " 'Claim': 67,\n",
    " 'Evidence': 417,\n",
    " 'Position': 74,\n",
    " 'Concluding Statement': 245,\n",
    " 'Lead': 274,\n",
    " 'Counterclaim': 142,\n",
    " 'Rebuttal': 142}"
   ]
  },
  {
   "cell_type": "code",
   "execution_count": 8,
   "metadata": {},
   "outputs": [],
   "source": [
    "MIN_SEQ_lens = {'Nothing': 1,\n",
    " 'Claim': 1,\n",
    " 'Evidence': 6,\n",
    " 'Position': 2,\n",
    " 'Concluding Statement': 5,\n",
    " 'Lead': 4,\n",
    " 'Counterclaim': 3,\n",
    " 'Rebuttal': 3}"
   ]
  },
  {
   "cell_type": "code",
   "execution_count": 9,
   "metadata": {},
   "outputs": [],
   "source": [
    "d = pd.read_feather(f'{root}/para_label.fea')"
   ]
  },
  {
   "cell_type": "code",
   "execution_count": 10,
   "metadata": {},
   "outputs": [
    {
     "data": {
      "application/vnd.jupyter.widget-view+json": {
       "model_id": "7e5f58504bef4c0196365beda69cea26",
       "version_major": 2,
       "version_minor": 0
      },
      "text/plain": [
       "  0%|          | 0/15594 [00:00<?, ?it/s]"
      ]
     },
     "metadata": {},
     "output_type": "display_data"
    }
   ],
   "source": [
    "gts = {}\n",
    "for row in tqdm(d.itertuples(), total=len(d)):\n",
    "  gts[row.id] = decode_label_all(row.start, row.para_types)"
   ]
  },
  {
   "cell_type": "code",
   "execution_count": 11,
   "metadata": {},
   "outputs": [
    {
     "data": {
      "application/vnd.jupyter.widget-view+json": {
       "model_id": "527b4619ec2a411e852ed6d1290721d2",
       "version_major": 2,
       "version_minor": 0
      },
      "text/plain": [
       "  0%|          | 0/175160 [00:00<?, ?it/s]"
      ]
     },
     "metadata": {},
     "output_type": "display_data"
    }
   ],
   "source": [
    "folds = {}\n",
    "for row in tqdm(df.itertuples(), total=len(df)):\n",
    "  folds[row.id] = row.kfold"
   ]
  },
  {
   "cell_type": "code",
   "execution_count": 12,
   "metadata": {},
   "outputs": [],
   "source": [
    "np.random.seed(12345)"
   ]
  },
  {
   "cell_type": "code",
   "execution_count": 13,
   "metadata": {},
   "outputs": [
    {
     "data": {
      "text/plain": [
       "{0: [[0, 3]],\n",
       " 1: [[15, 36]],\n",
       " 2: [[36, 177]],\n",
       " 3: [[3, 15]],\n",
       " 4: [[177, 212]],\n",
       " 5: [],\n",
       " 6: [],\n",
       " 7: []}"
      ]
     },
     "execution_count": 13,
     "metadata": {},
     "output_type": "execute_result"
    }
   ],
   "source": [
    "gts['A8445CABFECE']"
   ]
  },
  {
   "cell_type": "code",
   "execution_count": 14,
   "metadata": {},
   "outputs": [],
   "source": [
    "root = '../working/offline/44/'"
   ]
  },
  {
   "cell_type": "code",
   "execution_count": 15,
   "metadata": {},
   "outputs": [],
   "source": [
    "# mn = 'mui.deberta-v3.rl.s1'\n",
    "# mn = 'mui.electra.rl.s1'\n",
    "# mn = 'mui.4'\n",
    "# mn = 'large.longformer.start.len1280.seq_encoder'\n",
    "# root = f'../working/offline/44/0/{mn}'"
   ]
  },
  {
   "cell_type": "code",
   "execution_count": 16,
   "metadata": {},
   "outputs": [],
   "source": [
    "info = gezi.load(f'{root}/valid4.pkl')"
   ]
  },
  {
   "cell_type": "code",
   "execution_count": 17,
   "metadata": {},
   "outputs": [],
   "source": [
    "df_gt = pd.read_csv(f'{root}/valid_gt.csv')"
   ]
  },
  {
   "cell_type": "code",
   "execution_count": 18,
   "metadata": {},
   "outputs": [],
   "source": [
    "proba_thresh = {\n",
    "    \"Lead\": 0.99,\n",
    "    \"Position\": 0.85,\n",
    "    \"Evidence\": 0.99,\n",
    "    \"Claim\": 0.4,\n",
    "    \"Concluding Statement\": 0.99,\n",
    "    \"Counterclaim\": 0.5,\n",
    "    \"Rebuttal\": 0.55,\n",
    "    \"Nothing\": 0.5,\n",
    "}\n",
    "P = {\n",
    "  'sep_prob': 0.5,\n",
    "  'sep_prob2': 0.3,\n",
    "  'sep_prob3': 0.3,\n",
    "  'pre_prob': 0.5,\n",
    "  'after_prob': 0.5,\n",
    "  'sep_prob4': 0.55,\n",
    "  'sep_prob5': 0.8,\n",
    "  'link_len': 26,\n",
    "}\n",
    "def get_pred_bystart(x, post_adjust=True, pred_info=None):\n",
    "  MIN_LEN = 2\n",
    "  MIN_LEN2 = 2\n",
    "  NUM_CLASSES = len(id2dis)\n",
    "  pred = x['preds']\n",
    "  total = len(pred)\n",
    "  # by prob not logit\n",
    "  probs = x['probs'] \n",
    "  # probs = x['pred']\n",
    "  start_prob = x['start_probs'] if 'start_probs' in x else None\n",
    "  # ic((start_prob[:,1] > start_prob[:,0]).astype(int).sum())\n",
    "  pre_type = None\n",
    "  # predictionstring list\n",
    "  preds_list = []\n",
    "  # store each pred word_id for one precitionstring\n",
    "  preds = [] \n",
    "  pre_scores = np.zeros_like(probs[0])\n",
    "  \n",
    "  types = []\n",
    "    \n",
    "  pre_probs = None\n",
    "  for i in range(total):    \n",
    "   \n",
    "    is_sep = False\n",
    "    if i > 0:\n",
    "      pre_cls = np.argmax(pre_scores)\n",
    "      pre_prob = pre_probs[pre_cls]\n",
    "      pre_type = id2dis[pre_cls]\n",
    "      now_cls = pred[i]\n",
    "      now_type = id2dis[now_cls]\n",
    "      now_prob = probs[i][now_cls]\n",
    "      \n",
    "      if start_prob[i].sum() == 0:\n",
    "        is_sep = True\n",
    "        \n",
    "      if start_prob is None:\n",
    "        is_sep = pred[i] % 2 == 1\n",
    "      else:\n",
    "        is_sep = start_prob[i][1] >= P['sep_prob']\n",
    "        \n",
    "        if post_adjust and FLAGS.sep_rule:\n",
    "          if i > 0:\n",
    "            # 注意目前最高线上版本依然是按照第一个model取pred而不是ensemble的结果取pred信息，另外有adjacent rule待验证\n",
    "            if pred[i] != pred[i - 1]:\n",
    "              if start_prob[i][1] > P['sep_prob2'] and (pre_type in  ['Rebuttal', 'Counterclaim']):\n",
    "                  is_sep = True\n",
    "      \n",
    "              # TODO this rule should be optimized...\n",
    "              # if start_prob[i][1] > 0.45:\n",
    "              #   # if pre_prob > proba_thresh[pre_type] and len(preds) >= min_thresh[pre_type]:\n",
    "              #   if len(preds) >= min_thresh[pre_type]:\n",
    "              #     is_sep = True\n",
    "              \n",
    "              \n",
    "              if start_prob[i][1] > P['sep_prob3']:\n",
    "                # if pre_prob > proba_thresh[pre_type] and len(preds) >= min_thresh[pre_type]:\n",
    "                if len(preds) >= min_thresh[pre_type]:\n",
    "                  is_sep = True\n",
    "                                 \n",
    "              if FLAGS.adjacent_rule:\n",
    "                if pre_probs[pred[i - 1]] > P['pre_prob'] and probs[i][pred[i]] > P['after_prob'] and len(preds) >= min_thresh[id2dis[pred[i - 1]]]:\n",
    "                  is_sep = True\n",
    "            else:\n",
    "              if pre_type == 'Evidence':\n",
    "                if start_prob[i][1] < P['sep_prob4']:\n",
    "                  is_sep = False\n",
    "                  \n",
    "              if len(preds) <= P['link_len'] and start_prob[i][1] < P['sep_prob5']:\n",
    "                is_sep = False\n",
    "                  \n",
    "    if is_sep:\n",
    "      if preds:  \n",
    "        if pre_type != 'Nothing':\n",
    "          if post_adjust:\n",
    "            if len(preds) < MIN_LEN:\n",
    "              # 低置信度的干脆放弃召回 更安全 pass not continue\n",
    "              pass\n",
    "            else:\n",
    "              if pre_probs.max() > proba_thresh[pre_type]:\n",
    "                preds_list.append(' '.join(preds))\n",
    "                types.append(pre_type)\n",
    "              # else:\n",
    "              #   top_classes = np.argsort(-pre_probs,axis=0)[:2]\n",
    "              #   pre_cls = top_classes[1]\n",
    "              #   pre_type = id2dis[pre_cls]\n",
    "              #   if pre_probs[pre_cls] > proba_thresh[pre_type]:\n",
    "              #     preds_list.append(' '.join(preds))\n",
    "              #     types.append(pre_type)\n",
    "          else:\n",
    "            preds_list.append(' '.join(preds))\n",
    "            types.append(pre_type)\n",
    "      \n",
    "        preds = []\n",
    "        pre_scores = np.zeros_like(probs[0])\n",
    "              \n",
    "    pre_scores += probs[i] \n",
    "    pre_probs = gezi.softmax(pre_scores)\n",
    "    # pre_probs = pre_scores / len(preds)\n",
    "    preds.append(str(i))\n",
    "    \n",
    "  if preds:\n",
    "    pre_type = id2dis[np.argmax(pre_scores)]\n",
    "      \n",
    "    # 结尾应该更长\n",
    "    if pre_type != 'Nothing':\n",
    "      if post_adjust:\n",
    "        if len(preds) >= MIN_LEN2:\n",
    "          if pre_probs.max() > proba_thresh[pre_type]:\n",
    "            preds_list.append(' '.join(preds))\n",
    "            types.append(pre_type)\n",
    "        # else:\n",
    "        #   top_classes = np.argsort(-pre_probs,axis=0)[:2]\n",
    "        #   pre_cls = top_classes[1]\n",
    "        #   pre_type = id2dis[pre_cls]\n",
    "        #   if pre_probs[pre_cls] > proba_thresh[pre_type]:\n",
    "        #     preds_list.append(' '.join(preds))\n",
    "        #     types.append(pre_type)\n",
    "      else:\n",
    "        preds_list.append(' '.join(preds))\n",
    "        types.append(pre_type)\n",
    "  return types, preds_list"
   ]
  },
  {
   "cell_type": "code",
   "execution_count": 19,
   "metadata": {},
   "outputs": [],
   "source": [
    "def get_preds_(x, post_adjust=True, selected_ids=None, fold=None, folds=5):  \n",
    "  # ic(post_adjust)\n",
    "  pred_fn = None\n",
    "  if FLAGS.token2word:\n",
    "    if FLAGS.pred_method == 'end':\n",
    "      pred_fn = get_pred_byend\n",
    "    elif FLAGS.pred_method == 'se':\n",
    "      pred_fn = get_pred_byse\n",
    "    elif FLAGS.pred_method == 'start':\n",
    "      pred_fn = get_pred_bystart\n",
    "    else:\n",
    "      raise ValueError(FLAGS.pred_method)\n",
    "  else:\n",
    "    if FLAGS.pred_method == 'end':\n",
    "      pred_fn = get_pred_byend2\n",
    "    elif FLAGS.pred_method == 'se':\n",
    "      pred_fn = get_pred_byse2\n",
    "    elif FLAGS.pred_method == 'start':\n",
    "      pred_fn = get_pred_bystart2\n",
    "    else:\n",
    "      raise ValueError(FLAGS.pred_method)\n",
    "  # ic(pred_fn)\n",
    "\n",
    "  total = len(x['id'])\n",
    "  # with gezi.Timer('get_preds'):\n",
    "  # ic(FLAGS.openmp)\n",
    "  ids_list, types_list, preds_list = [], [], []\n",
    "  for i in tqdm(range(total), desc='get_preds', leave=False):\n",
    "    id = x['id'][i]\n",
    "    if selected_ids is not None and id not in selected_ids:\n",
    "      continue\n",
    "    if fold is not None:\n",
    "      if i % folds != fold:\n",
    "        continue\n",
    "    x_ = {}\n",
    "    for key in x: \n",
    "      x_[key] = x[key][i]\n",
    "    types, preds = pred_fn(x_, post_adjust=post_adjust)\n",
    "    ids_list.extend([id] * len(types))\n",
    "    types_list.extend(types)\n",
    "    preds_list.extend(preds)\n",
    " \n",
    "  m = {\n",
    "    'id': ids_list,\n",
    "    'class': types_list,\n",
    "    'predictionstring': preds_list\n",
    "  }\n",
    "\n",
    "  df = pd.DataFrame(m)\n",
    "    \n",
    "  return df\n",
    "\n",
    "def get_preds(x, post_adjust=True, selected_ids=None, folds=5):  \n",
    "  if selected_ids is not None:\n",
    "    return get_preds_(x, post_adjust, selected_ids)\n",
    "  else:\n",
    "    try:\n",
    "      dfs = Manager().dict()\n",
    "      with pymp.Parallel(folds) as p:\n",
    "        for i in p.range(folds):\n",
    "          dfs[i] = get_preds_(x, post_adjust, fold=i, folds=folds)\n",
    "      return pd.concat(dfs.values())\n",
    "    except Exception:\n",
    "      return get_preds_(x, post_adjust)"
   ]
  },
  {
   "cell_type": "code",
   "execution_count": 20,
   "metadata": {},
   "outputs": [],
   "source": [
    "gezi.init_flags()"
   ]
  },
  {
   "cell_type": "code",
   "execution_count": 21,
   "metadata": {},
   "outputs": [
    {
     "name": "stderr",
     "output_type": "stream",
     "text": [
      "\u001b[32m[I 2022-02-13 11:31:05,912]\u001b[0m A new study created in memory with name: no-name-6874658b-d226-479e-9d5f-719737f81148\u001b[0m\n"
     ]
    },
    {
     "data": {
      "application/vnd.jupyter.widget-view+json": {
       "model_id": "ca7670a105eb4189a7d485742cb42df5",
       "version_major": 2,
       "version_minor": 0
      },
      "text/plain": [
       "get_preds:   0%|          | 0/15594 [00:00<?, ?it/s]"
      ]
     },
     "metadata": {},
     "output_type": "display_data"
    },
    {
     "data": {
      "application/vnd.jupyter.widget-view+json": {
       "model_id": "3552a1f5de1944c8bf0fbab649b25b63",
       "version_major": 2,
       "version_minor": 0
      },
      "text/plain": [
       "calc_f1:   0%|          | 0/7 [00:00<?, ?it/s]"
      ]
     },
     "metadata": {},
     "output_type": "display_data"
    },
    {
     "name": "stderr",
     "output_type": "stream",
     "text": [
      "\u001b[32m[I 2022-02-13 11:31:33,507]\u001b[0m Trial 0 finished with value: 0.7022030574642777 and parameters: {'sep_prob': 0.7503577682551326, 'sep_prob2': 0.9977275030723556, 'sep_prob3': 0.7253595382373759, 'pre_prob': 0.35452322659322366, 'after_prob': 0.1271864811360216, 'sep_prob4': 0.42625613761432357, 'sep_prob5': 0.8184525908763407, 'link_len': 14}. Best is trial 0 with value: 0.7022030574642777.\u001b[0m\n"
     ]
    },
    {
     "data": {
      "application/vnd.jupyter.widget-view+json": {
       "model_id": "cae665323ecc4b8a81154f7b4f73a8c1",
       "version_major": 2,
       "version_minor": 0
      },
      "text/plain": [
       "get_preds:   0%|          | 0/15594 [00:00<?, ?it/s]"
      ]
     },
     "metadata": {},
     "output_type": "display_data"
    },
    {
     "data": {
      "application/vnd.jupyter.widget-view+json": {
       "model_id": "d0160dde54f14f43808b770587746173",
       "version_major": 2,
       "version_minor": 0
      },
      "text/plain": [
       "calc_f1:   0%|          | 0/7 [00:00<?, ?it/s]"
      ]
     },
     "metadata": {},
     "output_type": "display_data"
    },
    {
     "name": "stderr",
     "output_type": "stream",
     "text": [
      "\u001b[32m[I 2022-02-13 11:31:58,607]\u001b[0m Trial 1 finished with value: 0.6990678839292468 and parameters: {'sep_prob': 0.26434535838772766, 'sep_prob2': 0.8269349091071485, 'sep_prob3': 0.3749663460645657, 'pre_prob': 0.2919139150876937, 'after_prob': 0.8276470739993843, 'sep_prob4': 0.24622496108390834, 'sep_prob5': 0.508617869603869, 'link_len': 24}. Best is trial 0 with value: 0.7022030574642777.\u001b[0m\n"
     ]
    },
    {
     "data": {
      "application/vnd.jupyter.widget-view+json": {
       "model_id": "6ddc290d57464aad9f30af645467f78f",
       "version_major": 2,
       "version_minor": 0
      },
      "text/plain": [
       "get_preds:   0%|          | 0/15594 [00:00<?, ?it/s]"
      ]
     },
     "metadata": {},
     "output_type": "display_data"
    },
    {
     "data": {
      "application/vnd.jupyter.widget-view+json": {
       "model_id": "a401b6d2064244c1ae139f39caa9eb36",
       "version_major": 2,
       "version_minor": 0
      },
      "text/plain": [
       "calc_f1:   0%|          | 0/7 [00:00<?, ?it/s]"
      ]
     },
     "metadata": {},
     "output_type": "display_data"
    },
    {
     "name": "stderr",
     "output_type": "stream",
     "text": [
      "\u001b[32m[I 2022-02-13 11:32:22,718]\u001b[0m Trial 2 finished with value: 0.7003785872662086 and parameters: {'sep_prob': 0.31034774110611607, 'sep_prob2': 0.22990572916452823, 'sep_prob3': 0.6429463126317444, 'pre_prob': 0.45833363295335283, 'after_prob': 0.5533816238993345, 'sep_prob4': 0.5742567810586773, 'sep_prob5': 0.18033493248390864, 'link_len': 17}. Best is trial 0 with value: 0.7022030574642777.\u001b[0m\n"
     ]
    },
    {
     "data": {
      "application/vnd.jupyter.widget-view+json": {
       "model_id": "b0cc6ffcf8a8472cbb2bae066263502c",
       "version_major": 2,
       "version_minor": 0
      },
      "text/plain": [
       "get_preds:   0%|          | 0/15594 [00:00<?, ?it/s]"
      ]
     },
     "metadata": {},
     "output_type": "display_data"
    },
    {
     "data": {
      "application/vnd.jupyter.widget-view+json": {
       "model_id": "56e9cc1db37f41728d12e1b3f19e0262",
       "version_major": 2,
       "version_minor": 0
      },
      "text/plain": [
       "calc_f1:   0%|          | 0/7 [00:00<?, ?it/s]"
      ]
     },
     "metadata": {},
     "output_type": "display_data"
    },
    {
     "name": "stderr",
     "output_type": "stream",
     "text": [
      "\u001b[32m[I 2022-02-13 11:32:47,129]\u001b[0m Trial 3 finished with value: 0.7010378697155241 and parameters: {'sep_prob': 0.46664973397292264, 'sep_prob2': 0.8244160012019355, 'sep_prob3': 0.1539129776109126, 'pre_prob': 0.056404234263753295, 'after_prob': 0.28405709228738485, 'sep_prob4': 0.6688276918797152, 'sep_prob5': 0.9498671926409095, 'link_len': 31}. Best is trial 0 with value: 0.7022030574642777.\u001b[0m\n"
     ]
    },
    {
     "data": {
      "application/vnd.jupyter.widget-view+json": {
       "model_id": "65278c6de777423692898f53f58b1b53",
       "version_major": 2,
       "version_minor": 0
      },
      "text/plain": [
       "get_preds:   0%|          | 0/15594 [00:00<?, ?it/s]"
      ]
     },
     "metadata": {},
     "output_type": "display_data"
    },
    {
     "data": {
      "application/vnd.jupyter.widget-view+json": {
       "model_id": "7952b0761e00481cb0f47a9f46aac425",
       "version_major": 2,
       "version_minor": 0
      },
      "text/plain": [
       "calc_f1:   0%|          | 0/7 [00:00<?, ?it/s]"
      ]
     },
     "metadata": {},
     "output_type": "display_data"
    },
    {
     "name": "stderr",
     "output_type": "stream",
     "text": [
      "\u001b[32m[I 2022-02-13 11:33:10,480]\u001b[0m Trial 4 finished with value: 0.7011518616494633 and parameters: {'sep_prob': 0.9293976878990051, 'sep_prob2': 0.13124527901423466, 'sep_prob3': 0.27473254423697235, 'pre_prob': 0.2989864198104851, 'after_prob': 0.4591524027648135, 'sep_prob4': 0.8844128436624632, 'sep_prob5': 0.4177646569086395, 'link_len': 34}. Best is trial 0 with value: 0.7022030574642777.\u001b[0m\n"
     ]
    },
    {
     "data": {
      "application/vnd.jupyter.widget-view+json": {
       "model_id": "fb75ac05f0cf47d89ff9d05d301840a6",
       "version_major": 2,
       "version_minor": 0
      },
      "text/plain": [
       "get_preds:   0%|          | 0/15594 [00:00<?, ?it/s]"
      ]
     },
     "metadata": {},
     "output_type": "display_data"
    },
    {
     "data": {
      "application/vnd.jupyter.widget-view+json": {
       "model_id": "9230508d86f74fcfb548896a8671251a",
       "version_major": 2,
       "version_minor": 0
      },
      "text/plain": [
       "calc_f1:   0%|          | 0/7 [00:00<?, ?it/s]"
      ]
     },
     "metadata": {},
     "output_type": "display_data"
    },
    {
     "name": "stderr",
     "output_type": "stream",
     "text": [
      "\u001b[32m[I 2022-02-13 11:33:35,701]\u001b[0m Trial 5 finished with value: 0.7034948061366998 and parameters: {'sep_prob': 0.3912992651416909, 'sep_prob2': 0.44141352841932846, 'sep_prob3': 0.8118971561562699, 'pre_prob': 0.04256940589367231, 'after_prob': 0.6700051762219925, 'sep_prob4': 0.37713731002136075, 'sep_prob5': 0.3526007636719177, 'link_len': 30}. Best is trial 5 with value: 0.7034948061366998.\u001b[0m\n"
     ]
    },
    {
     "data": {
      "application/vnd.jupyter.widget-view+json": {
       "model_id": "71db643512f743e88b6a1bce7f5f866d",
       "version_major": 2,
       "version_minor": 0
      },
      "text/plain": [
       "get_preds:   0%|          | 0/15594 [00:00<?, ?it/s]"
      ]
     },
     "metadata": {},
     "output_type": "display_data"
    },
    {
     "data": {
      "application/vnd.jupyter.widget-view+json": {
       "model_id": "d4ea8dd165704d12a78c97fcae6baef4",
       "version_major": 2,
       "version_minor": 0
      },
      "text/plain": [
       "calc_f1:   0%|          | 0/7 [00:00<?, ?it/s]"
      ]
     },
     "metadata": {},
     "output_type": "display_data"
    },
    {
     "name": "stderr",
     "output_type": "stream",
     "text": [
      "\u001b[32m[I 2022-02-13 11:34:00,711]\u001b[0m Trial 6 finished with value: 0.6790198031286209 and parameters: {'sep_prob': 0.0507721106818213, 'sep_prob2': 0.9768632698870873, 'sep_prob3': 0.6980970027309203, 'pre_prob': 0.28385015441369643, 'after_prob': 0.21807805405237024, 'sep_prob4': 0.8972559147963967, 'sep_prob5': 0.5408988612680726, 'link_len': 39}. Best is trial 5 with value: 0.7034948061366998.\u001b[0m\n"
     ]
    },
    {
     "data": {
      "application/vnd.jupyter.widget-view+json": {
       "model_id": "ced226c1de904ce3bdcfb2ad9947a008",
       "version_major": 2,
       "version_minor": 0
      },
      "text/plain": [
       "get_preds:   0%|          | 0/15594 [00:00<?, ?it/s]"
      ]
     },
     "metadata": {},
     "output_type": "display_data"
    },
    {
     "data": {
      "application/vnd.jupyter.widget-view+json": {
       "model_id": "5abd45814f0f4cb092959ecea330c1e7",
       "version_major": 2,
       "version_minor": 0
      },
      "text/plain": [
       "calc_f1:   0%|          | 0/7 [00:00<?, ?it/s]"
      ]
     },
     "metadata": {},
     "output_type": "display_data"
    },
    {
     "name": "stderr",
     "output_type": "stream",
     "text": [
      "\u001b[32m[I 2022-02-13 11:34:24,530]\u001b[0m Trial 7 finished with value: 0.7009593770044541 and parameters: {'sep_prob': 0.9284316308681644, 'sep_prob2': 0.05991517969813609, 'sep_prob3': 0.2824433030620034, 'pre_prob': 0.25976924607288965, 'after_prob': 0.33423168178968277, 'sep_prob4': 0.49115568168475476, 'sep_prob5': 0.6545502918867572, 'link_len': 37}. Best is trial 5 with value: 0.7034948061366998.\u001b[0m\n"
     ]
    },
    {
     "data": {
      "application/vnd.jupyter.widget-view+json": {
       "model_id": "bb5b3c632cba42e59cbd51b92e85afc5",
       "version_major": 2,
       "version_minor": 0
      },
      "text/plain": [
       "get_preds:   0%|          | 0/15594 [00:00<?, ?it/s]"
      ]
     },
     "metadata": {},
     "output_type": "display_data"
    },
    {
     "data": {
      "application/vnd.jupyter.widget-view+json": {
       "model_id": "ae927702726d4772a1ffe8c288171b7c",
       "version_major": 2,
       "version_minor": 0
      },
      "text/plain": [
       "calc_f1:   0%|          | 0/7 [00:00<?, ?it/s]"
      ]
     },
     "metadata": {},
     "output_type": "display_data"
    },
    {
     "name": "stderr",
     "output_type": "stream",
     "text": [
      "\u001b[32m[I 2022-02-13 11:34:47,619]\u001b[0m Trial 8 finished with value: 0.698471409728649 and parameters: {'sep_prob': 0.8655816743587468, 'sep_prob2': 0.48373498069999954, 'sep_prob3': 0.5953301953210133, 'pre_prob': 0.2545514945990429, 'after_prob': 0.9079115411420933, 'sep_prob4': 0.44394713207344805, 'sep_prob5': 0.2842399283587578, 'link_len': 8}. Best is trial 5 with value: 0.7034948061366998.\u001b[0m\n"
     ]
    },
    {
     "data": {
      "application/vnd.jupyter.widget-view+json": {
       "model_id": "c50e288509784d698d288e7b0ef265bd",
       "version_major": 2,
       "version_minor": 0
      },
      "text/plain": [
       "get_preds:   0%|          | 0/15594 [00:00<?, ?it/s]"
      ]
     },
     "metadata": {},
     "output_type": "display_data"
    },
    {
     "data": {
      "application/vnd.jupyter.widget-view+json": {
       "model_id": "17bac3f9eef142a9b726ee823950e8c2",
       "version_major": 2,
       "version_minor": 0
      },
      "text/plain": [
       "calc_f1:   0%|          | 0/7 [00:00<?, ?it/s]"
      ]
     },
     "metadata": {},
     "output_type": "display_data"
    },
    {
     "name": "stderr",
     "output_type": "stream",
     "text": [
      "\u001b[32m[I 2022-02-13 11:35:18,084]\u001b[0m Trial 9 finished with value: 0.6958991404906625 and parameters: {'sep_prob': 0.7194744029340799, 'sep_prob2': 0.610888914862496, 'sep_prob3': 0.7636518974439054, 'pre_prob': 0.22465470761959339, 'after_prob': 0.8489672728837733, 'sep_prob4': 0.35283341104616495, 'sep_prob5': 0.7278486359262445, 'link_len': 20}. Best is trial 5 with value: 0.7034948061366998.\u001b[0m\n"
     ]
    },
    {
     "data": {
      "application/vnd.jupyter.widget-view+json": {
       "model_id": "e5854e3531dd4f32b6be8ef90ecba617",
       "version_major": 2,
       "version_minor": 0
      },
      "text/plain": [
       "get_preds:   0%|          | 0/15594 [00:00<?, ?it/s]"
      ]
     },
     "metadata": {},
     "output_type": "display_data"
    },
    {
     "data": {
      "application/vnd.jupyter.widget-view+json": {
       "model_id": "14d9770c55a740a28f45d252ef4936c9",
       "version_major": 2,
       "version_minor": 0
      },
      "text/plain": [
       "calc_f1:   0%|          | 0/7 [00:00<?, ?it/s]"
      ]
     },
     "metadata": {},
     "output_type": "display_data"
    },
    {
     "name": "stderr",
     "output_type": "stream",
     "text": [
      "\u001b[32m[I 2022-02-13 11:35:41,625]\u001b[0m Trial 10 finished with value: 0.7065111243172316 and parameters: {'sep_prob': 0.5316077387343238, 'sep_prob2': 0.40442207310949, 'sep_prob3': 0.9174815240762898, 'pre_prob': 0.7895251039400797, 'after_prob': 0.6425662699486876, 'sep_prob4': 0.06444321921251861, 'sep_prob5': 0.014242668381699797, 'link_len': 28}. Best is trial 10 with value: 0.7065111243172316.\u001b[0m\n"
     ]
    },
    {
     "data": {
      "application/vnd.jupyter.widget-view+json": {
       "model_id": "e369aa92772e4d2b9189ce419963b6d0",
       "version_major": 2,
       "version_minor": 0
      },
      "text/plain": [
       "get_preds:   0%|          | 0/15594 [00:00<?, ?it/s]"
      ]
     },
     "metadata": {},
     "output_type": "display_data"
    },
    {
     "data": {
      "application/vnd.jupyter.widget-view+json": {
       "model_id": "e0296d5d793f4f9c8feb2f4bd1120ae3",
       "version_major": 2,
       "version_minor": 0
      },
      "text/plain": [
       "calc_f1:   0%|          | 0/7 [00:00<?, ?it/s]"
      ]
     },
     "metadata": {},
     "output_type": "display_data"
    },
    {
     "name": "stderr",
     "output_type": "stream",
     "text": [
      "\u001b[32m[I 2022-02-13 11:36:04,732]\u001b[0m Trial 11 finished with value: 0.706239938036514 and parameters: {'sep_prob': 0.5421010691846416, 'sep_prob2': 0.38585860395949956, 'sep_prob3': 0.9792592842796578, 'pre_prob': 0.7685534454291576, 'after_prob': 0.6484658820793812, 'sep_prob4': 0.0015650624098138, 'sep_prob5': 0.001917398679230499, 'link_len': 28}. Best is trial 10 with value: 0.7065111243172316.\u001b[0m\n"
     ]
    },
    {
     "data": {
      "application/vnd.jupyter.widget-view+json": {
       "model_id": "5dbd38b2f392498389bc2e75615c7cea",
       "version_major": 2,
       "version_minor": 0
      },
      "text/plain": [
       "get_preds:   0%|          | 0/15594 [00:00<?, ?it/s]"
      ]
     },
     "metadata": {},
     "output_type": "display_data"
    },
    {
     "data": {
      "application/vnd.jupyter.widget-view+json": {
       "model_id": "1f71f02a02124162a6fba485a79460aa",
       "version_major": 2,
       "version_minor": 0
      },
      "text/plain": [
       "calc_f1:   0%|          | 0/7 [00:00<?, ?it/s]"
      ]
     },
     "metadata": {},
     "output_type": "display_data"
    },
    {
     "name": "stderr",
     "output_type": "stream",
     "text": [
      "\u001b[32m[I 2022-02-13 11:36:27,573]\u001b[0m Trial 12 finished with value: 0.705466687681788 and parameters: {'sep_prob': 0.6360976786607897, 'sep_prob2': 0.32630857750134445, 'sep_prob3': 0.9986447521695223, 'pre_prob': 0.8058158551361913, 'after_prob': 0.6509377259005327, 'sep_prob4': 0.00379649982158925, 'sep_prob5': 0.01524769183586368, 'link_len': 27}. Best is trial 10 with value: 0.7065111243172316.\u001b[0m\n"
     ]
    },
    {
     "data": {
      "application/vnd.jupyter.widget-view+json": {
       "model_id": "5c739220bdaa4ecfb6336a4eb3146f2e",
       "version_major": 2,
       "version_minor": 0
      },
      "text/plain": [
       "get_preds:   0%|          | 0/15594 [00:00<?, ?it/s]"
      ]
     },
     "metadata": {},
     "output_type": "display_data"
    },
    {
     "data": {
      "application/vnd.jupyter.widget-view+json": {
       "model_id": "06cd5f12a19a404896804cadb5c9ab22",
       "version_major": 2,
       "version_minor": 0
      },
      "text/plain": [
       "calc_f1:   0%|          | 0/7 [00:00<?, ?it/s]"
      ]
     },
     "metadata": {},
     "output_type": "display_data"
    },
    {
     "name": "stderr",
     "output_type": "stream",
     "text": [
      "\u001b[32m[I 2022-02-13 11:36:52,849]\u001b[0m Trial 13 finished with value: 0.705412227249222 and parameters: {'sep_prob': 0.53507650976139, 'sep_prob2': 0.5933483422058698, 'sep_prob3': 0.9972806175437761, 'pre_prob': 0.8151440627162397, 'after_prob': 0.6871564912824023, 'sep_prob4': 0.004518769790818999, 'sep_prob5': 0.010700388017735585, 'link_len': 23}. Best is trial 10 with value: 0.7065111243172316.\u001b[0m\n"
     ]
    },
    {
     "data": {
      "application/vnd.jupyter.widget-view+json": {
       "model_id": "be2f6a1eb1a5452e982faa96c1857e5e",
       "version_major": 2,
       "version_minor": 0
      },
      "text/plain": [
       "get_preds:   0%|          | 0/15594 [00:00<?, ?it/s]"
      ]
     },
     "metadata": {},
     "output_type": "display_data"
    },
    {
     "data": {
      "application/vnd.jupyter.widget-view+json": {
       "model_id": "80b6c10b3cf6479abe36c4611c75796a",
       "version_major": 2,
       "version_minor": 0
      },
      "text/plain": [
       "calc_f1:   0%|          | 0/7 [00:00<?, ?it/s]"
      ]
     },
     "metadata": {},
     "output_type": "display_data"
    },
    {
     "name": "stderr",
     "output_type": "stream",
     "text": [
      "\u001b[32m[I 2022-02-13 11:37:16,717]\u001b[0m Trial 14 finished with value: 0.7066172652904953 and parameters: {'sep_prob': 0.5854564597483192, 'sep_prob2': 0.34745780771526996, 'sep_prob3': 0.8611660867451486, 'pre_prob': 0.9717193588530646, 'after_prob': 0.5032535723956749, 'sep_prob4': 0.1664560281016148, 'sep_prob5': 0.17738116559501962, 'link_len': 28}. Best is trial 14 with value: 0.7066172652904953.\u001b[0m\n"
     ]
    },
    {
     "data": {
      "application/vnd.jupyter.widget-view+json": {
       "model_id": "da261e47c1fb457ab283c45b72de8404",
       "version_major": 2,
       "version_minor": 0
      },
      "text/plain": [
       "get_preds:   0%|          | 0/15594 [00:00<?, ?it/s]"
      ]
     },
     "metadata": {},
     "output_type": "display_data"
    }
   ],
   "source": [
    "P = {\n",
    "  'sep_prob': 0.5,\n",
    "  'sep_prob2': 0.3,\n",
    "  'sep_prob3': 0.3,\n",
    "  'pre_prob': 0.5,\n",
    "  'after_prob': 0.5,\n",
    "  'sep_prob4': 0.55,\n",
    "  'sep_prob5': 0.8,\n",
    "  'link_len': 26,\n",
    "}\n",
    "\n",
    "def objective(trial):\n",
    "    \n",
    "    # params = {\n",
    "    #     'objective': 'binary',\n",
    "    #     'metric': 'binary_logloss',\n",
    "    #     'boosting_type': 'gbdt',\n",
    "    #     'boost_from_average': True,\n",
    "    #     'num_threads': 4,\n",
    "    #     'random_state': 42,\n",
    "        \n",
    "    #     'num_leaves': trial.suggest_int('num_leaves', 10, 1000),\n",
    "    #     'min_data_in_leaf': trial.suggest_int('min_data_in_leaf', 10, 200),sc\n",
    "    #     'min_child_weight': trial.suggest_loguniform('min_child_weight', 0.001, 0.1),\n",
    "    #     'max_depth': trial.suggest_int('max_depth', 1, 100),\n",
    "    #     'bagging_fraction': trial.suggest_loguniform('bagging_fraction', .5, .99),\n",
    "    #     'feature_fraction': trial.suggest_loguniform('feature_fraction', .5, .99),\n",
    "    #     'lambda_l1': trial.suggest_loguniform('lambda_l1', 0.1, 2),\n",
    "    #     'lambda_l2': trial.suggest_loguniform('lambda_l2', 0.1, 2)\n",
    "\n",
    "    # return np.mean(scores)\n",
    "\n",
    "   \n",
    "    # proba_thresh['Lead'] = trial.suggest_uniform('Lead', 0.9, 0.999)\n",
    "    for key in P:\n",
    "      if 'prob' in key:\n",
    "        P[key] = trial.suggest_uniform(key, 0., 1.)\n",
    "      else:\n",
    "        if key == 'link_len':\n",
    "          P[key] = trial.suggest_int(key, 8, 40)\n",
    "    df_pred = get_preds(info, post_adjust=True, folds=50)\n",
    "    res = calc_metrics(df_gt, df_pred)\n",
    "    score = res['f1/Overall']\n",
    "    return score\n",
    "\n",
    "study = optuna.create_study(direction='maximize')\n",
    "study.optimize(objective, n_trials=100)"
   ]
  },
  {
   "cell_type": "code",
   "execution_count": null,
   "metadata": {},
   "outputs": [
    {
     "data": {
      "text/plain": [
       "{'sep_prob': 0.7261767844346143,\n",
       " 'sep_prob2': 0.9824113360256063,\n",
       " 'sep_prob3': 0.44774550783732686,\n",
       " 'pre_prob': 0.9273050195499939,\n",
       " 'after_prob': 0.17105861734159292,\n",
       " 'sep_prob4': 0.43525772456940753,\n",
       " 'sep_prob5': 0.13874548968602074,\n",
       " 'link_len': 38}"
      ]
     },
     "execution_count": 26,
     "metadata": {},
     "output_type": "execute_result"
    }
   ],
   "source": [
    "study.best_params"
   ]
  },
  {
   "cell_type": "code",
   "execution_count": null,
   "metadata": {},
   "outputs": [],
   "source": [
    "gezi.init_flags()"
   ]
  },
  {
   "cell_type": "code",
   "execution_count": null,
   "metadata": {},
   "outputs": [
    {
     "data": {
      "application/vnd.jupyter.widget-view+json": {
       "model_id": "b03dddde2a464fa586c482dac2a877c9",
       "version_major": 2,
       "version_minor": 0
      },
      "text/plain": [
       "get_preds:   0%|          | 0/15594 [00:00<?, ?it/s]"
      ]
     },
     "metadata": {},
     "output_type": "display_data"
    }
   ],
   "source": [
    "df_pred = get_preds(info, post_adjust=True, folds=50)"
   ]
  },
  {
   "cell_type": "code",
   "execution_count": null,
   "metadata": {},
   "outputs": [
    {
     "data": {
      "application/vnd.jupyter.widget-view+json": {
       "model_id": "df6e920a27ea4e04b2f04798865e755f",
       "version_major": 2,
       "version_minor": 0
      },
      "text/plain": [
       "calc_f1:   0%|          | 0/7 [00:00<?, ?it/s]"
      ]
     },
     "metadata": {},
     "output_type": "display_data"
    },
    {
     "data": {
      "text/plain": [
       "{'f1/Overall': 0.7068093341845719,\n",
       " 'f1/Claim': 0.6635564740017117,\n",
       " 'acc/Claim': 0.6970507619778533,\n",
       " 'recall/Claim': 0.6331335019617996,\n",
       " 'f1/Evidence': 0.7698335185621752,\n",
       " 'acc/Evidence': 0.7904832165252674,\n",
       " 'recall/Evidence': 0.7502352143185349,\n",
       " 'f1/Position': 0.7333266000067333,\n",
       " 'acc/Position': 0.7625148778267871,\n",
       " 'recall/Position': 0.7062905317769131,\n",
       " 'f1/Concluding Statement': 0.8712900274473925,\n",
       " 'acc/Concluding Statement': 0.8614226789203271,\n",
       " 'recall/Concluding Statement': 0.8813860506441582,\n",
       " 'f1/Lead': 0.8354062348570506,\n",
       " 'acc/Lead': 0.8371641307866623,\n",
       " 'recall/Lead': 0.8336557059961315,\n",
       " 'f1/Counterclaim': 0.5798785318193821,\n",
       " 'acc/Counterclaim': 0.5942630344578748,\n",
       " 'recall/Counterclaim': 0.5661739429357168,\n",
       " 'f1/Rebuttal': 0.49437395259755806,\n",
       " 'acc/Rebuttal': 0.5141932270916335,\n",
       " 'recall/Rebuttal': 0.4760258183494698}"
      ]
     },
     "execution_count": 24,
     "metadata": {},
     "output_type": "execute_result"
    }
   ],
   "source": [
    "res = calc_metrics(df_gt, df_pred)\n",
    "res"
   ]
  },
  {
   "cell_type": "code",
   "execution_count": null,
   "metadata": {},
   "outputs": [],
   "source": [
    "# res = calc_metrics(df_gt, link_evidence(df_pred))\n",
    "# res"
   ]
  },
  {
   "cell_type": "code",
   "execution_count": null,
   "metadata": {},
   "outputs": [],
   "source": []
  },
  {
   "cell_type": "code",
   "execution_count": null,
   "metadata": {},
   "outputs": [],
   "source": []
  },
  {
   "cell_type": "code",
   "execution_count": null,
   "metadata": {},
   "outputs": [],
   "source": []
  },
  {
   "cell_type": "code",
   "execution_count": null,
   "metadata": {},
   "outputs": [],
   "source": []
  }
 ],
 "metadata": {
  "interpreter": {
   "hash": "2e1511501be64c09e2f1eb58c3220ebc9ce84b491d308a480caed250bbb4af51"
  },
  "kernelspec": {
   "display_name": "Python 3.6.13 64-bit (conda)",
   "language": "python",
   "name": "python3"
  },
  "language_info": {
   "codemirror_mode": {
    "name": "ipython",
    "version": 3
   },
   "file_extension": ".py",
   "mimetype": "text/x-python",
   "name": "python",
   "nbconvert_exporter": "python",
   "pygments_lexer": "ipython3",
   "version": "3.7.9"
  },
  "orig_nbformat": 4
 },
 "nbformat": 4,
 "nbformat_minor": 2
}
