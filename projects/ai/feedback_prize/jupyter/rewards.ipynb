{
 "cells": [
  {
   "cell_type": "code",
   "execution_count": 205,
   "metadata": {},
   "outputs": [],
   "source": [
    "import numpy as np\n",
    "import gezi\n",
    "from gezi import tqdm\n",
    "import sys,os\n",
    "sys.path.append('..')\n",
    "sys.path.append('../../../../utils')\n",
    "sys.path.append('../../../../third')\n",
    "from src.config import *"
   ]
  },
  {
   "cell_type": "code",
   "execution_count": 86,
   "metadata": {},
   "outputs": [],
   "source": [
    "file = '../working/offline/36/0/pt.tiny.roberta-base.sm=start.tiny/valid_ori.pkl'"
   ]
  },
  {
   "cell_type": "code",
   "execution_count": 87,
   "metadata": {},
   "outputs": [],
   "source": [
    "inputs = gezi.load(file)"
   ]
  },
  {
   "cell_type": "code",
   "execution_count": 88,
   "metadata": {},
   "outputs": [
    {
     "data": {
      "text/plain": [
       "dict_keys(['id', 'pred', 'word_ids', 'num_words', 'label', 'start', 'start_logits', 'parts', 'para_logits'])"
      ]
     },
     "execution_count": 88,
     "metadata": {},
     "output_type": "execute_result"
    }
   ],
   "source": [
    "inputs.keys()"
   ]
  },
  {
   "cell_type": "code",
   "execution_count": 121,
   "metadata": {},
   "outputs": [],
   "source": [
    "def token2word(start_logits, token_logits, starts, labels, word_ids):\n",
    "  start_logits_ , token_logits_ , starts_, labels_ = [], [], [], []\n",
    "  for i in range(len(word_ids)):\n",
    "    if word_ids[i] < 0:\n",
    "      continue\n",
    "    start_logits_.append(start_logits[i])\n",
    "    token_logits_.append(token_logits[i])\n",
    "    starts_.append(starts[i])\n",
    "    labels_.append(labels[i])\n",
    "  return np.asarray(start_logits_), np.asarray(token_logits_), np.asarray(starts_), np.asarray(labels_)"
   ]
  },
  {
   "cell_type": "code",
   "execution_count": 153,
   "metadata": {},
   "outputs": [],
   "source": [
    "def decode_label(starts, labels):\n",
    "  m = {}\n",
    "  for c in range(1, NUM_CLASSES):\n",
    "    m[c] = []\n",
    "  start, c = 0, labels[0]\n",
    "  for i in range(len(labels)):\n",
    "    if labels[i] == 0:\n",
    "      continue\n",
    "    # if labels[i] != c:\n",
    "    if starts[i] > 0:\n",
    "      if i > start:\n",
    "        if c:\n",
    "          m[c].append([start, i])\n",
    "      start = i\n",
    "      c = labels[i]\n",
    "  i += 1\n",
    "  if i > start:\n",
    "    if c:\n",
    "      m[c].append([start, i])\n",
    "  return m\n",
    "      "
   ]
  },
  {
   "cell_type": "code",
   "execution_count": 154,
   "metadata": {},
   "outputs": [],
   "source": [
    "def greedy_decode(start_logits, token_logits):\n",
    "  m = {}\n",
    "  for c in range(1, NUM_CLASSES):\n",
    "    m[c] = []\n",
    "  starts = start_logits[:,1] > start_logits[:,0]\n",
    "  start, c = 0, None\n",
    "  for i in range(len(starts)):\n",
    "    if starts[i]:\n",
    "      c = token_logits[start:i].sum(0).argmax()\n",
    "      if c:\n",
    "        m[c].append([start, i])\n",
    "      start = i\n",
    "  i += 1\n",
    "  if i > start:\n",
    "    c = token_logits[start:i].sum(0).argmax()\n",
    "    if c:\n",
    "      m[c].append([start, i])\n",
    "  return m"
   ]
  },
  {
   "cell_type": "code",
   "execution_count": 197,
   "metadata": {},
   "outputs": [],
   "source": [
    "def sample_decode(start_logits, token_logits):\n",
    "  m = {}\n",
    "  for c in range(1, NUM_CLASSES):\n",
    "    m[c] = []\n",
    "  starts = []\n",
    "  start_probs = gezi.softmax(start_logits)\n",
    "  for i in range(len(start_logits)):\n",
    "    idx = np.random.choice(2, None, p=start_probs[i])\n",
    "    starts.append(idx)\n",
    "  start, c = 0, None\n",
    "  for i in range(len(starts)):\n",
    "    if starts[i]:\n",
    "      probs = gezi.softmax(token_logits[start:i].sum(0))\n",
    "      c = np.random.choice(NUM_CLASSES, None, p=probs)\n",
    "      if c:\n",
    "        m[c].append([start, i])\n",
    "      start = i\n",
    "  i += 1\n",
    "  if i > start:\n",
    "    probs = gezi.softmax(token_logits[start:i].sum(0))\n",
    "    c = np.random.choice(NUM_CLASSES, None, p=probs)\n",
    "    if c:\n",
    "      m[c].append([start, i])\n",
    "  return m"
   ]
  },
  {
   "cell_type": "code",
   "execution_count": 194,
   "metadata": {},
   "outputs": [],
   "source": [
    "def calc_f1(m):\n",
    "  f1_scores = []\n",
    "  ignores = 0\n",
    "  for c in range(1, NUM_CLASSES):\n",
    "    TP = m[c]['match']\n",
    "    FP = m[c]['pred'] - TP\n",
    "    FN = m[c]['gt'] - TP\n",
    "    if m[c]['gt'] == 0 and m[c]['pred'] == 0:\n",
    "      f1_score = 0\n",
    "      ignores += 1\n",
    "    else:\n",
    "      f1_score = TP / (TP + 0.5 * (FP + FN))\n",
    "    f1_scores.append(f1_score)\n",
    "  return np.sum(f1_scores) / (len(f1_scores) - ignores)"
   ]
  },
  {
   "cell_type": "code",
   "execution_count": 211,
   "metadata": {},
   "outputs": [],
   "source": [
    "def calc_rewards(starts_list, labels_list, start_logits_list, token_logits_list, word_ids_list):\n",
    "  m = {}\n",
    "  for c in range(1, NUM_CLASSES):\n",
    "    m[c] = {'match': 0, 'gt': 0, 'pred': 0}\n",
    "  m2 = {}\n",
    "  for c in range(1, NUM_CLASSES):\n",
    "    m2[c] = {'match': 0, 'gt': 0, 'pred': 0}\n",
    "  for i, (starts, labels, start_logits, token_logits, word_ids) in tqdm(enumerate(zip(starts_list, labels_list, start_logits_list, token_logits_list, word_ids_list)), total=len(starts_list)):\n",
    "    start_logits, token_logits, starts, labels = token2word(start_logits, token_logits, starts, labels, word_ids)\n",
    "    gt = decode_label(starts, labels)\n",
    "    greedy = greedy_decode(start_logits, token_logits)\n",
    "    res = prepare_f1(gt, greedy)\n",
    "    for c in range(1, NUM_CLASSES):\n",
    "      m[c]['match'] += res[c]['match']\n",
    "      m[c]['gt'] += res[c]['gt']\n",
    "      m[c]['pred'] += res[c]['pred']\n",
    "    \n",
    "    sample = sample_decode(start_logits, token_logits)\n",
    "    res = prepare_f1(gt, sample)\n",
    "    for c in range(1, NUM_CLASSES):\n",
    "      m2[c]['match'] += res[c]['match']\n",
    "      m2[c]['gt'] += res[c]['gt']\n",
    "      m2[c]['pred'] += res[c]['pred']\n",
    "    if i == 3:\n",
    "      break\n",
    "  \n",
    "  greedy_f1 = calc_f1(m)\n",
    "  sample_f1 = calc_f1(m2)\n",
    "  rewards = sample_f1 - greedy_f1\n",
    "  return rewards"
   ]
  },
  {
   "cell_type": "code",
   "execution_count": 212,
   "metadata": {},
   "outputs": [
    {
     "data": {
      "application/vnd.jupyter.widget-view+json": {
       "model_id": "1b4778baf7c943d4bd7d44de75dcb00d",
       "version_major": 2,
       "version_minor": 0
      },
      "text/plain": [
       "  0%|          | 0/3117 [00:00<?, ?it/s]"
      ]
     },
     "metadata": {},
     "output_type": "display_data"
    },
    {
     "name": "stderr",
     "output_type": "stream",
     "text": [
      "ic| <ipython-input-211-adca87f232df>:29 in calc_rewards()\n",
      "    greedy_f1: 0.800199390100868\n",
      "    sample_f1: 0.7942176870748299\n"
     ]
    },
    {
     "data": {
      "text/plain": [
       "-0.0059817030260381765"
      ]
     },
     "execution_count": 212,
     "metadata": {},
     "output_type": "execute_result"
    }
   ],
   "source": [
    "calc_rewards(inputs['start'], inputs['label'], inputs['start_logits'], inputs['pred'], inputs['word_ids'])"
   ]
  },
  {
   "cell_type": "code",
   "execution_count": 139,
   "metadata": {},
   "outputs": [],
   "source": [
    "# test label\n",
    "start_logits, token_logits, starts, labels =token2word(inputs['start_logits'][0], inputs['pred'][0], inputs['start'][0], inputs['label'][0], inputs['word_ids'][0])"
   ]
  },
  {
   "cell_type": "code",
   "execution_count": 129,
   "metadata": {},
   "outputs": [],
   "source": [
    "def is_match(gt, pred):\n",
    "  s = min(gt[1], pred[1]) - max(gt[0], pred[0]) + 1\n",
    "  intersect = max(0, s)\n",
    "  return intersect / (gt[1] - gt[0]) >= 0.5 and intersect / (pred[1] - pred[0]) >= 0.5"
   ]
  },
  {
   "cell_type": "code",
   "execution_count": 130,
   "metadata": {},
   "outputs": [],
   "source": [
    "def calc_match(gts, preds):\n",
    "  matches = 0\n",
    "  for gt in gts:\n",
    "    for pred in preds:\n",
    "      if is_match(gt, pred):\n",
    "        matches += 1\n",
    "  return matches\n",
    "      "
   ]
  },
  {
   "cell_type": "code",
   "execution_count": 134,
   "metadata": {},
   "outputs": [],
   "source": [
    "def prepare_f1(gt, pred):\n",
    "  m = {}\n",
    "  for c in range(1, NUM_CLASSES):\n",
    "    m[c] = {\n",
    "      'match': calc_match(gt[c], pred[c]),\n",
    "      'gt': len(gt[c]),\n",
    "      'pred': len(pred[c])\n",
    "    }\n",
    "  return m"
   ]
  },
  {
   "cell_type": "code",
   "execution_count": 126,
   "metadata": {},
   "outputs": [
    {
     "data": {
      "text/plain": [
       "{1: [[63, 88], [172, 185], [273, 285]],\n",
       " 2: [[88, 172], [185, 273], [285, 367]],\n",
       " 3: [[56, 63]],\n",
       " 4: [[367, 421]],\n",
       " 5: [[0, 56]],\n",
       " 6: [],\n",
       " 7: []}"
      ]
     },
     "execution_count": 126,
     "metadata": {},
     "output_type": "execute_result"
    }
   ],
   "source": [
    "gt = decode_label(starts, labels)\n",
    "gt"
   ]
  },
  {
   "cell_type": "code",
   "execution_count": 181,
   "metadata": {},
   "outputs": [
    {
     "data": {
      "text/plain": [
       "{1: [[63, 88], [172, 185], [273, 285]],\n",
       " 2: [[88, 172], [185, 273], [285, 367]],\n",
       " 3: [[40, 63]],\n",
       " 4: [[367, 421]],\n",
       " 5: [[0, 40]],\n",
       " 6: [],\n",
       " 7: []}"
      ]
     },
     "execution_count": 181,
     "metadata": {},
     "output_type": "execute_result"
    }
   ],
   "source": [
    "greedy = greedy_decode(start_logits, token_logits)\n",
    "greedy"
   ]
  },
  {
   "cell_type": "code",
   "execution_count": 193,
   "metadata": {},
   "outputs": [
    {
     "data": {
      "text/plain": [
       "{1: [[63, 88], [172, 185], [273, 285]],\n",
       " 2: [[88, 172], [185, 273], [285, 367]],\n",
       " 3: [[40, 63]],\n",
       " 4: [[367, 421]],\n",
       " 5: [[0, 40]],\n",
       " 6: [],\n",
       " 7: []}"
      ]
     },
     "execution_count": 193,
     "metadata": {},
     "output_type": "execute_result"
    }
   ],
   "source": [
    "random_decode(start_logits, token_logits)"
   ]
  },
  {
   "cell_type": "code",
   "execution_count": 83,
   "metadata": {},
   "outputs": [
    {
     "data": {
      "text/plain": [
       "array([0, 5, 5, 5, 5, 5, 5, 5, 5, 5, 0, 5, 0, 5, 5, 0, 5, 5, 5, 5, 5, 5,\n",
       "       5, 5, 5, 5, 0, 5, 5, 5, 5, 5, 5, 5, 5, 5, 5, 5, 0, 5, 5, 5, 5, 5,\n",
       "       5, 5, 0, 5, 5, 5, 5, 0, 5, 5, 5, 5, 5, 5, 5, 5, 5, 5, 5, 5, 0, 3,\n",
       "       3, 3, 3, 3, 3, 3, 0, 0, 0, 0, 0, 1, 0, 1, 1, 1, 0, 1, 1, 0, 1, 1,\n",
       "       1, 1, 1, 1, 1, 1, 1, 1, 1, 1, 1, 1, 1, 1, 1, 0, 1, 1, 0, 2, 2, 2,\n",
       "       2, 2, 2, 2, 2, 2, 2, 2, 2, 2, 2, 2, 2, 2, 2, 2, 2, 0, 2, 2, 2, 2,\n",
       "       2, 2, 2, 2, 2, 2, 2, 2, 0, 2, 2, 0, 2, 2, 2, 2, 2, 2, 2, 2, 0, 2,\n",
       "       2, 2, 2, 2, 2, 2, 2, 2, 2, 2, 2, 2, 2, 0, 2, 2, 2, 2, 2, 2, 2, 2,\n",
       "       2, 0, 2, 2, 2, 2, 2, 2, 0, 2, 2, 2, 2, 2, 2, 2, 2, 2, 2, 2, 2, 2,\n",
       "       0, 0, 0, 0, 0, 1, 0, 1, 1, 1, 1, 1, 1, 1, 1, 0, 1, 1, 1, 1, 0, 2,\n",
       "       2, 2, 2, 2, 2, 2, 2, 0, 2, 2, 2, 0, 2, 0, 2, 0, 2, 2, 2, 0, 2, 2,\n",
       "       2, 2, 2, 2, 2, 2, 2, 2, 2, 2, 0, 2, 2, 2, 2, 2, 2, 2, 2, 2, 0, 2,\n",
       "       2, 0, 2, 2, 2, 2, 2, 2, 2, 2, 2, 2, 2, 2, 2, 0, 2, 2, 2, 2, 0, 0,\n",
       "       2, 2, 2, 2, 2, 2, 2, 2, 2, 2, 0, 2, 2, 2, 2, 2, 2, 2, 2, 2, 2, 0,\n",
       "       2, 2, 2, 2, 2, 2, 0, 2, 2, 2, 2, 2, 2, 0, 0, 0, 0, 0, 1, 0, 1, 1,\n",
       "       1, 1, 1, 1, 1, 1, 1, 1, 1, 0, 2, 2, 2, 2, 2, 2, 2, 2, 2, 2, 2, 2,\n",
       "       2, 2, 2, 2, 2, 2, 2, 0, 2, 2, 2, 2, 2, 2, 2, 2, 2, 2, 2, 2, 2, 2,\n",
       "       0, 2, 2, 2, 0, 2, 2, 2, 2, 2, 2, 2, 2, 0, 2, 2, 2, 2, 2, 2, 2, 2,\n",
       "       2, 2, 2, 2, 2, 2, 2, 2, 2, 2, 0, 2, 2, 0, 2, 2, 2, 2, 2, 2, 2, 2,\n",
       "       0, 0, 2, 2, 2, 0, 2, 2, 2, 2, 2, 2, 0, 2, 0, 0, 0, 0, 0, 4, 4, 0,\n",
       "       4, 4, 4, 4, 4, 4, 0, 4, 4, 0, 4, 4, 4, 4, 4, 4, 4, 4, 4, 4, 4, 4,\n",
       "       0, 4, 4, 4, 4, 4, 4, 4, 4, 4, 4, 4, 4, 0, 4, 4, 4, 4, 0, 4, 0, 0,\n",
       "       4, 4, 4, 4, 4, 4, 4, 4, 4, 4, 4, 0, 4, 4, 4, 4, 0, 0, 0, 0, 0, 0,\n",
       "       0, 0, 0, 0, 0, 0], dtype=int32)"
      ]
     },
     "execution_count": 83,
     "metadata": {},
     "output_type": "execute_result"
    }
   ],
   "source": [
    "inputs['label'][0]"
   ]
  },
  {
   "cell_type": "code",
   "execution_count": 84,
   "metadata": {},
   "outputs": [
    {
     "data": {
      "text/plain": [
       "array([ -1,   0,   1,   2,   3,   4,   5,   6,   7,   8,  -1,   9,  -1,\n",
       "        10,  11,  -1,  12,  13,  14,  15,  16,  17,  18,  19,  20,  21,\n",
       "        -1,  22,  23,  24,  25,  26,  27,  28,  29,  30,  31,  32,  -1,\n",
       "        33,  34,  35,  36,  37,  38,  39,  -1,  40,  41,  42,  43,  -1,\n",
       "        44,  45,  46,  47,  48,  49,  50,  51,  52,  53,  54,  55,  -1,\n",
       "        56,  57,  58,  59,  60,  61,  62,  -1,  -1,  -1,  -1,  -1,  63,\n",
       "        -1,  64,  65,  66,  -1,  67,  68,  -1,  69,  70,  71,  72,  73,\n",
       "        74,  75,  76,  77,  78,  79,  80,  81,  82,  83,  84,  85,  -1,\n",
       "        86,  87,  -1,  88,  89,  90,  91,  92,  93,  94,  95,  96,  97,\n",
       "        98,  99, 100, 101, 102, 103, 104, 105, 106, 107,  -1, 108, 109,\n",
       "       110, 111, 112, 113, 114, 115, 116, 117, 118, 119,  -1, 120, 121,\n",
       "        -1, 122, 123, 124, 125, 126, 127, 128, 129,  -1, 130, 131, 132,\n",
       "       133, 134, 135, 136, 137, 138, 139, 140, 141, 142, 143,  -1, 144,\n",
       "       145, 146, 147, 148, 149, 150, 151, 152,  -1, 153, 154, 155, 156,\n",
       "       157, 158,  -1, 159, 160, 161, 162, 163, 164, 165, 166, 167, 168,\n",
       "       169, 170, 171,  -1,  -1,  -1,  -1,  -1, 172,  -1, 173, 174, 175,\n",
       "       176, 177, 178, 179, 180,  -1, 181, 182, 183, 184,  -1, 185, 186,\n",
       "       187, 188, 189, 190, 191, 192,  -1, 193, 194, 195,  -1, 196,  -1,\n",
       "       197,  -1, 198, 199, 200,  -1, 201, 202, 203, 204, 205, 206, 207,\n",
       "       208, 209, 210, 211, 212,  -1, 213, 214, 215, 216, 217, 218, 219,\n",
       "       220, 221,  -1, 222, 223,  -1, 224, 225, 226, 227, 228, 229, 230,\n",
       "       231, 232, 233, 234, 235, 236,  -1, 237, 238, 239, 240,  -1,  -1,\n",
       "       241, 242, 243, 244, 245, 246, 247, 248, 249, 250,  -1, 251, 252,\n",
       "       253, 254, 255, 256, 257, 258, 259, 260,  -1, 261, 262, 263, 264,\n",
       "       265, 266,  -1, 267, 268, 269, 270, 271, 272,  -1,  -1,  -1,  -1,\n",
       "        -1, 273,  -1, 274, 275, 276, 277, 278, 279, 280, 281, 282, 283,\n",
       "       284,  -1, 285, 286, 287, 288, 289, 290, 291, 292, 293, 294, 295,\n",
       "       296, 297, 298, 299, 300, 301, 302, 303,  -1, 304, 305, 306, 307,\n",
       "       308, 309, 310, 311, 312, 313, 314, 315, 316, 317,  -1, 318, 319,\n",
       "       320,  -1, 321, 322, 323, 324, 325, 326, 327, 328,  -1, 329, 330,\n",
       "       331, 332, 333, 334, 335, 336, 337, 338, 339, 340, 341, 342, 343,\n",
       "       344, 345, 346,  -1, 347, 348,  -1, 349, 350, 351, 352, 353, 354,\n",
       "       355, 356,  -1,  -1, 357, 358, 359,  -1, 360, 361, 362, 363, 364,\n",
       "       365,  -1, 366,  -1,  -1,  -1,  -1,  -1, 367, 368,  -1, 369, 370,\n",
       "       371, 372, 373, 374,  -1, 375, 376,  -1, 377, 378, 379, 380, 381,\n",
       "       382, 383, 384, 385, 386, 387, 388,  -1, 389, 390, 391, 392, 393,\n",
       "       394, 395, 396, 397, 398, 399, 400,  -1, 401, 402, 403, 404,  -1,\n",
       "       405,  -1,  -1, 406, 407, 408, 409, 410, 411, 412, 413, 414, 415,\n",
       "       416,  -1, 417, 418, 419, 420,  -1,  -1,  -1,  -1,  -1,  -1,  -1,\n",
       "        -1,  -1,  -1,  -1,  -1], dtype=int32)"
      ]
     },
     "execution_count": 84,
     "metadata": {},
     "output_type": "execute_result"
    }
   ],
   "source": [
    "inputs['word_ids'][0]"
   ]
  },
  {
   "cell_type": "code",
   "execution_count": 53,
   "metadata": {},
   "outputs": [
    {
     "data": {
      "text/plain": [
       "(3117, 512, 8)"
      ]
     },
     "execution_count": 53,
     "metadata": {},
     "output_type": "execute_result"
    }
   ],
   "source": [
    "inputs['pred'].shape"
   ]
  },
  {
   "cell_type": "code",
   "execution_count": 52,
   "metadata": {},
   "outputs": [
    {
     "data": {
      "text/plain": [
       "(3117, 512)"
      ]
     },
     "execution_count": 52,
     "metadata": {},
     "output_type": "execute_result"
    }
   ],
   "source": [
    "inputs['label'].shape"
   ]
  },
  {
   "cell_type": "code",
   "execution_count": 54,
   "metadata": {},
   "outputs": [
    {
     "data": {
      "text/plain": [
       "array([[ -1,   0,   1, ...,  -1,  -1,  -1],\n",
       "       [ -1,   0,   1, ..., 458, 459, 460],\n",
       "       [ -1,   0,   1, ...,  -1,  -1,  -1],\n",
       "       ...,\n",
       "       [ -1,   0,   1, ..., 429, 430, 431],\n",
       "       [ -1,   0,   1, ...,  -1,  -1,  -1],\n",
       "       [ -1,   0,   1, ...,  -1,  -1,  -1]], dtype=int32)"
      ]
     },
     "execution_count": 54,
     "metadata": {},
     "output_type": "execute_result"
    }
   ],
   "source": [
    "inputs['word_ids']"
   ]
  },
  {
   "cell_type": "code",
   "execution_count": null,
   "metadata": {},
   "outputs": [],
   "source": [
    "# rewards(inputs['label'], inputs['start_logits'], inputs['pred'])"
   ]
  },
  {
   "cell_type": "code",
   "execution_count": null,
   "metadata": {},
   "outputs": [],
   "source": []
  }
 ],
 "metadata": {
  "interpreter": {
   "hash": "2e1511501be64c09e2f1eb58c3220ebc9ce84b491d308a480caed250bbb4af51"
  },
  "kernelspec": {
   "display_name": "Python 3.6.13 64-bit (conda)",
   "language": "python",
   "name": "python3"
  },
  "language_info": {
   "codemirror_mode": {
    "name": "ipython",
    "version": 3
   },
   "file_extension": ".py",
   "mimetype": "text/x-python",
   "name": "python",
   "nbconvert_exporter": "python",
   "pygments_lexer": "ipython3",
   "version": "3.6.13"
  },
  "orig_nbformat": 4
 },
 "nbformat": 4,
 "nbformat_minor": 2
}
